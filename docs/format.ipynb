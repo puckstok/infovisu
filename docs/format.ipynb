{
 "cells": [
  {
   "attachments": {},
   "cell_type": "markdown",
   "id": "3b46ee32",
   "metadata": {},
   "source": [
    "# Gevaar of fabel\n",
    "\n",
    "Namen: Puck, Sally, Jelle, Isa\n",
    "\n",
    "Groep nummer: "
   ]
  },
  {
   "cell_type": "code",
   "execution_count": 1,
   "id": "e180382e",
   "metadata": {
    "hideCode": true,
    "hidePrompt": false,
    "tags": [
     "hide-input"
    ]
   },
   "outputs": [
    {
     "data": {
      "text/html": [
       "<img src=\"https://e3.365dm.com/16/01/2048x1152/rtx1v9p9-1-2048x1536_3402067.jpg\" width=\"800\" height=\"400\"/>"
      ],
      "text/plain": [
       "<IPython.core.display.Image object>"
      ]
     },
     "metadata": {},
     "output_type": "display_data"
    },
    {
     "name": "stdout",
     "output_type": "stream",
     "text": [
      "© Getty images\n"
     ]
    }
   ],
   "source": [
    "url = 'https://e3.365dm.com/16/01/2048x1152/rtx1v9p9-1-2048x1536_3402067.jpg'\n",
    "\n",
    "from IPython.display import Image, display\n",
    "\n",
    "width = 800\n",
    "height = 400\n",
    "\n",
    "subtitle = \"© Getty images\"\n",
    "\n",
    "image = Image(url=url, width=width, height=height)\n",
    "\n",
    "display(image)\n",
    "print(subtitle)"
   ]
  },
  {
   "attachments": {},
   "cell_type": "markdown",
   "id": "7d5fce97-8e22-41ee-a19c-6c0f0fb2f08f",
   "metadata": {},
   "source": [
    "## Introductie"
   ]
  },
  {
   "attachments": {},
   "cell_type": "markdown",
   "id": "7cf81853-c237-4df2-8ed4-9deae8423fb0",
   "metadata": {
    "hidePrompt": false
   },
   "source": [
    "De vluchtelingencrisis is een van de meest controversiële onderwerpen in het publieke debat. Veel tegenstanders beweren dat de stijging van vluchtelingen binnen Europa aanzet tot verhoogde veiligheidsrisico's, in het bijzonder meer terroristische aanslagen. In 2015 werd Parijs getroffen door een reeks aanslagen. Ondanks dat de terroristen Europese burgers waren werd de vluchtelingencrisis als oorzaak aangewezen (do Céu Pinto Arena, 2017). Door de aanhoudende conflicten  in Syrië, Afghanistan en Irak kwamen steeds meer burgers naar Europa in de hoop voor veiligheid. Hoewel dit voor een langere tijd speelde, werd er vanaf 2015 gesproken van een vluchtelingencrisis. Deze toename startte echter al in 2013, wat ook te zien is in de grafiek hieronder."
   ]
  },
  {
   "cell_type": "code",
   "execution_count": 2,
   "id": "6f220a4b",
   "metadata": {
    "tags": [
     "hide-input"
    ]
   },
   "outputs": [
    {
     "data": {
      "application/vnd.plotly.v1+json": {
       "config": {
        "plotlyServerURL": "https://plot.ly"
       },
       "data": [
        {
         "marker": {
          "color": "rgb(238, 75, 43)",
          "line": {
           "width": 0
          },
          "size": 8,
          "symbol": "circle"
         },
         "mode": "markers",
         "name": "Refugees",
         "type": "scatter",
         "x": [
          12129079,
          12116301,
          10593526,
          9592247,
          9572719,
          8661293,
          9876879,
          11390082,
          10488915,
          10395713,
          10548835,
          10403937,
          10497017,
          11698233,
          14384289,
          16110276,
          17184286,
          19940566
         ],
         "y": [
          2000,
          2001,
          2002,
          2003,
          2004,
          2005,
          2006,
          2007,
          2008,
          2009,
          2010,
          2011,
          2012,
          2013,
          2014,
          2015,
          2016,
          2017
         ]
        }
       ],
       "layout": {
        "height": 800,
        "plot_bgcolor": "rgb(252,245,245)",
        "template": {
         "data": {
          "bar": [
           {
            "error_x": {
             "color": "#2a3f5f"
            },
            "error_y": {
             "color": "#2a3f5f"
            },
            "marker": {
             "line": {
              "color": "#E5ECF6",
              "width": 0.5
             },
             "pattern": {
              "fillmode": "overlay",
              "size": 10,
              "solidity": 0.2
             }
            },
            "type": "bar"
           }
          ],
          "barpolar": [
           {
            "marker": {
             "line": {
              "color": "#E5ECF6",
              "width": 0.5
             },
             "pattern": {
              "fillmode": "overlay",
              "size": 10,
              "solidity": 0.2
             }
            },
            "type": "barpolar"
           }
          ],
          "carpet": [
           {
            "aaxis": {
             "endlinecolor": "#2a3f5f",
             "gridcolor": "white",
             "linecolor": "white",
             "minorgridcolor": "white",
             "startlinecolor": "#2a3f5f"
            },
            "baxis": {
             "endlinecolor": "#2a3f5f",
             "gridcolor": "white",
             "linecolor": "white",
             "minorgridcolor": "white",
             "startlinecolor": "#2a3f5f"
            },
            "type": "carpet"
           }
          ],
          "choropleth": [
           {
            "colorbar": {
             "outlinewidth": 0,
             "ticks": ""
            },
            "type": "choropleth"
           }
          ],
          "contour": [
           {
            "colorbar": {
             "outlinewidth": 0,
             "ticks": ""
            },
            "colorscale": [
             [
              0,
              "#0d0887"
             ],
             [
              0.1111111111111111,
              "#46039f"
             ],
             [
              0.2222222222222222,
              "#7201a8"
             ],
             [
              0.3333333333333333,
              "#9c179e"
             ],
             [
              0.4444444444444444,
              "#bd3786"
             ],
             [
              0.5555555555555556,
              "#d8576b"
             ],
             [
              0.6666666666666666,
              "#ed7953"
             ],
             [
              0.7777777777777778,
              "#fb9f3a"
             ],
             [
              0.8888888888888888,
              "#fdca26"
             ],
             [
              1,
              "#f0f921"
             ]
            ],
            "type": "contour"
           }
          ],
          "contourcarpet": [
           {
            "colorbar": {
             "outlinewidth": 0,
             "ticks": ""
            },
            "type": "contourcarpet"
           }
          ],
          "heatmap": [
           {
            "colorbar": {
             "outlinewidth": 0,
             "ticks": ""
            },
            "colorscale": [
             [
              0,
              "#0d0887"
             ],
             [
              0.1111111111111111,
              "#46039f"
             ],
             [
              0.2222222222222222,
              "#7201a8"
             ],
             [
              0.3333333333333333,
              "#9c179e"
             ],
             [
              0.4444444444444444,
              "#bd3786"
             ],
             [
              0.5555555555555556,
              "#d8576b"
             ],
             [
              0.6666666666666666,
              "#ed7953"
             ],
             [
              0.7777777777777778,
              "#fb9f3a"
             ],
             [
              0.8888888888888888,
              "#fdca26"
             ],
             [
              1,
              "#f0f921"
             ]
            ],
            "type": "heatmap"
           }
          ],
          "heatmapgl": [
           {
            "colorbar": {
             "outlinewidth": 0,
             "ticks": ""
            },
            "colorscale": [
             [
              0,
              "#0d0887"
             ],
             [
              0.1111111111111111,
              "#46039f"
             ],
             [
              0.2222222222222222,
              "#7201a8"
             ],
             [
              0.3333333333333333,
              "#9c179e"
             ],
             [
              0.4444444444444444,
              "#bd3786"
             ],
             [
              0.5555555555555556,
              "#d8576b"
             ],
             [
              0.6666666666666666,
              "#ed7953"
             ],
             [
              0.7777777777777778,
              "#fb9f3a"
             ],
             [
              0.8888888888888888,
              "#fdca26"
             ],
             [
              1,
              "#f0f921"
             ]
            ],
            "type": "heatmapgl"
           }
          ],
          "histogram": [
           {
            "marker": {
             "pattern": {
              "fillmode": "overlay",
              "size": 10,
              "solidity": 0.2
             }
            },
            "type": "histogram"
           }
          ],
          "histogram2d": [
           {
            "colorbar": {
             "outlinewidth": 0,
             "ticks": ""
            },
            "colorscale": [
             [
              0,
              "#0d0887"
             ],
             [
              0.1111111111111111,
              "#46039f"
             ],
             [
              0.2222222222222222,
              "#7201a8"
             ],
             [
              0.3333333333333333,
              "#9c179e"
             ],
             [
              0.4444444444444444,
              "#bd3786"
             ],
             [
              0.5555555555555556,
              "#d8576b"
             ],
             [
              0.6666666666666666,
              "#ed7953"
             ],
             [
              0.7777777777777778,
              "#fb9f3a"
             ],
             [
              0.8888888888888888,
              "#fdca26"
             ],
             [
              1,
              "#f0f921"
             ]
            ],
            "type": "histogram2d"
           }
          ],
          "histogram2dcontour": [
           {
            "colorbar": {
             "outlinewidth": 0,
             "ticks": ""
            },
            "colorscale": [
             [
              0,
              "#0d0887"
             ],
             [
              0.1111111111111111,
              "#46039f"
             ],
             [
              0.2222222222222222,
              "#7201a8"
             ],
             [
              0.3333333333333333,
              "#9c179e"
             ],
             [
              0.4444444444444444,
              "#bd3786"
             ],
             [
              0.5555555555555556,
              "#d8576b"
             ],
             [
              0.6666666666666666,
              "#ed7953"
             ],
             [
              0.7777777777777778,
              "#fb9f3a"
             ],
             [
              0.8888888888888888,
              "#fdca26"
             ],
             [
              1,
              "#f0f921"
             ]
            ],
            "type": "histogram2dcontour"
           }
          ],
          "mesh3d": [
           {
            "colorbar": {
             "outlinewidth": 0,
             "ticks": ""
            },
            "type": "mesh3d"
           }
          ],
          "parcoords": [
           {
            "line": {
             "colorbar": {
              "outlinewidth": 0,
              "ticks": ""
             }
            },
            "type": "parcoords"
           }
          ],
          "pie": [
           {
            "automargin": true,
            "type": "pie"
           }
          ],
          "scatter": [
           {
            "fillpattern": {
             "fillmode": "overlay",
             "size": 10,
             "solidity": 0.2
            },
            "type": "scatter"
           }
          ],
          "scatter3d": [
           {
            "line": {
             "colorbar": {
              "outlinewidth": 0,
              "ticks": ""
             }
            },
            "marker": {
             "colorbar": {
              "outlinewidth": 0,
              "ticks": ""
             }
            },
            "type": "scatter3d"
           }
          ],
          "scattercarpet": [
           {
            "marker": {
             "colorbar": {
              "outlinewidth": 0,
              "ticks": ""
             }
            },
            "type": "scattercarpet"
           }
          ],
          "scattergeo": [
           {
            "marker": {
             "colorbar": {
              "outlinewidth": 0,
              "ticks": ""
             }
            },
            "type": "scattergeo"
           }
          ],
          "scattergl": [
           {
            "marker": {
             "colorbar": {
              "outlinewidth": 0,
              "ticks": ""
             }
            },
            "type": "scattergl"
           }
          ],
          "scattermapbox": [
           {
            "marker": {
             "colorbar": {
              "outlinewidth": 0,
              "ticks": ""
             }
            },
            "type": "scattermapbox"
           }
          ],
          "scatterpolar": [
           {
            "marker": {
             "colorbar": {
              "outlinewidth": 0,
              "ticks": ""
             }
            },
            "type": "scatterpolar"
           }
          ],
          "scatterpolargl": [
           {
            "marker": {
             "colorbar": {
              "outlinewidth": 0,
              "ticks": ""
             }
            },
            "type": "scatterpolargl"
           }
          ],
          "scatterternary": [
           {
            "marker": {
             "colorbar": {
              "outlinewidth": 0,
              "ticks": ""
             }
            },
            "type": "scatterternary"
           }
          ],
          "surface": [
           {
            "colorbar": {
             "outlinewidth": 0,
             "ticks": ""
            },
            "colorscale": [
             [
              0,
              "#0d0887"
             ],
             [
              0.1111111111111111,
              "#46039f"
             ],
             [
              0.2222222222222222,
              "#7201a8"
             ],
             [
              0.3333333333333333,
              "#9c179e"
             ],
             [
              0.4444444444444444,
              "#bd3786"
             ],
             [
              0.5555555555555556,
              "#d8576b"
             ],
             [
              0.6666666666666666,
              "#ed7953"
             ],
             [
              0.7777777777777778,
              "#fb9f3a"
             ],
             [
              0.8888888888888888,
              "#fdca26"
             ],
             [
              1,
              "#f0f921"
             ]
            ],
            "type": "surface"
           }
          ],
          "table": [
           {
            "cells": {
             "fill": {
              "color": "#EBF0F8"
             },
             "line": {
              "color": "white"
             }
            },
            "header": {
             "fill": {
              "color": "#C8D4E3"
             },
             "line": {
              "color": "white"
             }
            },
            "type": "table"
           }
          ]
         },
         "layout": {
          "annotationdefaults": {
           "arrowcolor": "#2a3f5f",
           "arrowhead": 0,
           "arrowwidth": 1
          },
          "autotypenumbers": "strict",
          "coloraxis": {
           "colorbar": {
            "outlinewidth": 0,
            "ticks": ""
           }
          },
          "colorscale": {
           "diverging": [
            [
             0,
             "#8e0152"
            ],
            [
             0.1,
             "#c51b7d"
            ],
            [
             0.2,
             "#de77ae"
            ],
            [
             0.3,
             "#f1b6da"
            ],
            [
             0.4,
             "#fde0ef"
            ],
            [
             0.5,
             "#f7f7f7"
            ],
            [
             0.6,
             "#e6f5d0"
            ],
            [
             0.7,
             "#b8e186"
            ],
            [
             0.8,
             "#7fbc41"
            ],
            [
             0.9,
             "#4d9221"
            ],
            [
             1,
             "#276419"
            ]
           ],
           "sequential": [
            [
             0,
             "#0d0887"
            ],
            [
             0.1111111111111111,
             "#46039f"
            ],
            [
             0.2222222222222222,
             "#7201a8"
            ],
            [
             0.3333333333333333,
             "#9c179e"
            ],
            [
             0.4444444444444444,
             "#bd3786"
            ],
            [
             0.5555555555555556,
             "#d8576b"
            ],
            [
             0.6666666666666666,
             "#ed7953"
            ],
            [
             0.7777777777777778,
             "#fb9f3a"
            ],
            [
             0.8888888888888888,
             "#fdca26"
            ],
            [
             1,
             "#f0f921"
            ]
           ],
           "sequentialminus": [
            [
             0,
             "#0d0887"
            ],
            [
             0.1111111111111111,
             "#46039f"
            ],
            [
             0.2222222222222222,
             "#7201a8"
            ],
            [
             0.3333333333333333,
             "#9c179e"
            ],
            [
             0.4444444444444444,
             "#bd3786"
            ],
            [
             0.5555555555555556,
             "#d8576b"
            ],
            [
             0.6666666666666666,
             "#ed7953"
            ],
            [
             0.7777777777777778,
             "#fb9f3a"
            ],
            [
             0.8888888888888888,
             "#fdca26"
            ],
            [
             1,
             "#f0f921"
            ]
           ]
          },
          "colorway": [
           "#636efa",
           "#EF553B",
           "#00cc96",
           "#ab63fa",
           "#FFA15A",
           "#19d3f3",
           "#FF6692",
           "#B6E880",
           "#FF97FF",
           "#FECB52"
          ],
          "font": {
           "color": "#2a3f5f"
          },
          "geo": {
           "bgcolor": "white",
           "lakecolor": "white",
           "landcolor": "#E5ECF6",
           "showlakes": true,
           "showland": true,
           "subunitcolor": "white"
          },
          "hoverlabel": {
           "align": "left"
          },
          "hovermode": "closest",
          "mapbox": {
           "style": "light"
          },
          "paper_bgcolor": "white",
          "plot_bgcolor": "#E5ECF6",
          "polar": {
           "angularaxis": {
            "gridcolor": "white",
            "linecolor": "white",
            "ticks": ""
           },
           "bgcolor": "#E5ECF6",
           "radialaxis": {
            "gridcolor": "white",
            "linecolor": "white",
            "ticks": ""
           }
          },
          "scene": {
           "xaxis": {
            "backgroundcolor": "#E5ECF6",
            "gridcolor": "white",
            "gridwidth": 2,
            "linecolor": "white",
            "showbackground": true,
            "ticks": "",
            "zerolinecolor": "white"
           },
           "yaxis": {
            "backgroundcolor": "#E5ECF6",
            "gridcolor": "white",
            "gridwidth": 2,
            "linecolor": "white",
            "showbackground": true,
            "ticks": "",
            "zerolinecolor": "white"
           },
           "zaxis": {
            "backgroundcolor": "#E5ECF6",
            "gridcolor": "white",
            "gridwidth": 2,
            "linecolor": "white",
            "showbackground": true,
            "ticks": "",
            "zerolinecolor": "white"
           }
          },
          "shapedefaults": {
           "line": {
            "color": "#2a3f5f"
           }
          },
          "ternary": {
           "aaxis": {
            "gridcolor": "white",
            "linecolor": "white",
            "ticks": ""
           },
           "baxis": {
            "gridcolor": "white",
            "linecolor": "white",
            "ticks": ""
           },
           "bgcolor": "#E5ECF6",
           "caxis": {
            "gridcolor": "white",
            "linecolor": "white",
            "ticks": ""
           }
          },
          "title": {
           "x": 0.05
          },
          "xaxis": {
           "automargin": true,
           "gridcolor": "white",
           "linecolor": "white",
           "ticks": "",
           "title": {
            "standoff": 15
           },
           "zerolinecolor": "white",
           "zerolinewidth": 2
          },
          "yaxis": {
           "automargin": true,
           "gridcolor": "white",
           "linecolor": "white",
           "ticks": "",
           "title": {
            "standoff": 15
           },
           "zerolinecolor": "white",
           "zerolinewidth": 2
          }
         }
        },
        "title": {
         "text": "Aantal vluchtelingen in Europa"
        },
        "width": 800,
        "xaxis": {
         "range": [
          0,
          22000000
         ],
         "title": {
          "text": "Vluchtelingen onder UNHCR's mandate"
         }
        },
        "yaxis": {
         "categoryarray": [
          2017,
          2016,
          2015,
          2014,
          2013,
          2012,
          2011,
          2010,
          2009,
          2008,
          2007,
          2006,
          2005,
          2004,
          2003,
          2002,
          2001,
          2000
         ],
         "categoryorder": "array",
         "title": {
          "text": "Jaar"
         },
         "type": "category"
        }
       }
      }
     },
     "metadata": {},
     "output_type": "display_data"
    }
   ],
   "source": [
    "import plotly.graph_objs as go\n",
    "import plotly.express as px\n",
    "import pandas as pd\n",
    "import geopandas as gpd\n",
    "import matplotlib.pyplot as plt\n",
    "\n",
    "df = pd.read_csv('population_eu.csv')\n",
    "df2 = df[df.Year.between(2000, 2017)]\n",
    "df2 = df2.sort_values('Year')\n",
    "\n",
    "colors = ['rgb(238, 75, 43)', 'rgb(252,245,245)', 'rgb(129, 133, 137)']\n",
    "fig = go.Figure()\n",
    "\n",
    "fig.add_trace(go.Scatter(\n",
    "    x=df2[\"Refugees under UNHCR's mandate\"],\n",
    "    y=df2['Year'],\n",
    "    mode='markers',\n",
    "    marker=dict(\n",
    "        color='rgb(238, 75, 43)',\n",
    "        size=8,\n",
    "        symbol='circle', \n",
    "        line=dict(width=0) \n",
    "    ),\n",
    "    name=\"Refugees\",\n",
    "))\n",
    "\n",
    "fig.update_layout(\n",
    "    title='Aantal vluchtelingen in Europa',\n",
    "    yaxis=dict(type='category', categoryorder='array', categoryarray=df2['Year'].tolist()[::-1]), \n",
    "    xaxis=dict(range=[0, 22000000], title=\"Vluchtelingen onder UNHCR's mandate\"), \n",
    "    yaxis_title='Jaar',\n",
    "    width=800, \n",
    "    height=800,\n",
    "    plot_bgcolor='rgb(252,245,245)',\n",
    ")\n",
    "\n",
    "fig.show()"
   ]
  },
  {
   "attachments": {},
   "cell_type": "markdown",
   "id": "8996e4f6",
   "metadata": {},
   "source": [
    "> *Figuur 1: Het aantal vluchtelingen in Europa onder het UNHCR mandaat had een aanzienlijke stijging vanaf 2013. "
   ]
  },
  {
   "attachments": {},
   "cell_type": "markdown",
   "id": "d9d4c934-c639-495f-a2bc-ed078e5659c3",
   "metadata": {},
   "source": [
    "## Dataset en Preprocessing"
   ]
  },
  {
   "attachments": {},
   "cell_type": "markdown",
   "id": "850c1744-f4cc-4cc1-b0a7-9207c75837d8",
   "metadata": {},
   "source": [
    "xx"
   ]
  },
  {
   "attachments": {},
   "cell_type": "markdown",
   "id": "d5010a07-96a0-45a7-ba76-250a56053f62",
   "metadata": {},
   "source": [
    "## Perspectief 1"
   ]
  },
  {
   "attachments": {},
   "cell_type": "markdown",
   "id": "1f26b1fd",
   "metadata": {},
   "source": [
    "X"
   ]
  },
  {
   "attachments": {},
   "cell_type": "markdown",
   "id": "a43c3ae1-48d8-4663-8525-7d92fae83483",
   "metadata": {},
   "source": [
    "### argument 1 perspectief 1"
   ]
  },
  {
   "attachments": {},
   "cell_type": "markdown",
   "id": "a44acbb2-6dbc-4cb9-ba26-7ba3fb19af5d",
   "metadata": {},
   "source": [
    "x"
   ]
  },
  {
   "cell_type": "code",
   "execution_count": 3,
   "id": "5a242e18",
   "metadata": {
    "hideCode": false,
    "tags": [
     "hide-input"
    ]
   },
   "outputs": [
    {
     "data": {
      "application/vnd.plotly.v1+json": {
       "config": {
        "plotlyServerURL": "https://plot.ly"
       },
       "data": [
        {
         "marker": {
          "color": "rgb(238, 75, 43)"
         },
         "name": "Vluchtelingen",
         "type": "scatter",
         "x": [
          2000,
          2001,
          2002,
          2003,
          2004,
          2005,
          2006,
          2007,
          2008,
          2009,
          2010,
          2011,
          2012,
          2013,
          2014,
          2015,
          2016,
          2017
         ],
         "y": [
          12129079,
          12116301,
          10593526,
          9592247,
          9572719,
          8661293,
          9876879,
          11390082,
          10488915,
          10395713,
          10548835,
          10403937,
          10497017,
          11698233,
          14384289,
          16110276,
          17184286,
          19940566
         ],
         "yaxis": "y"
        },
        {
         "marker": {
          "color": "rgb(129, 133, 137)"
         },
         "name": "Aanslagen",
         "type": "scatter",
         "x": [
          2000,
          2001,
          2002,
          2003,
          2004,
          2005,
          2006,
          2007,
          2008,
          2009,
          2010,
          2011,
          2012,
          2013,
          2014,
          2015,
          2016,
          2017
         ],
         "y": [
          487,
          486,
          232,
          221,
          105,
          180,
          168,
          134,
          372,
          347,
          394,
          293,
          366,
          426,
          1177,
          1017,
          407,
          401
         ],
         "yaxis": "y2"
        }
       ],
       "layout": {
        "bargap": 0.1,
        "height": 500,
        "plot_bgcolor": "rgb(252,245,245)",
        "template": {
         "data": {
          "bar": [
           {
            "error_x": {
             "color": "#2a3f5f"
            },
            "error_y": {
             "color": "#2a3f5f"
            },
            "marker": {
             "line": {
              "color": "#E5ECF6",
              "width": 0.5
             },
             "pattern": {
              "fillmode": "overlay",
              "size": 10,
              "solidity": 0.2
             }
            },
            "type": "bar"
           }
          ],
          "barpolar": [
           {
            "marker": {
             "line": {
              "color": "#E5ECF6",
              "width": 0.5
             },
             "pattern": {
              "fillmode": "overlay",
              "size": 10,
              "solidity": 0.2
             }
            },
            "type": "barpolar"
           }
          ],
          "carpet": [
           {
            "aaxis": {
             "endlinecolor": "#2a3f5f",
             "gridcolor": "white",
             "linecolor": "white",
             "minorgridcolor": "white",
             "startlinecolor": "#2a3f5f"
            },
            "baxis": {
             "endlinecolor": "#2a3f5f",
             "gridcolor": "white",
             "linecolor": "white",
             "minorgridcolor": "white",
             "startlinecolor": "#2a3f5f"
            },
            "type": "carpet"
           }
          ],
          "choropleth": [
           {
            "colorbar": {
             "outlinewidth": 0,
             "ticks": ""
            },
            "type": "choropleth"
           }
          ],
          "contour": [
           {
            "colorbar": {
             "outlinewidth": 0,
             "ticks": ""
            },
            "colorscale": [
             [
              0,
              "#0d0887"
             ],
             [
              0.1111111111111111,
              "#46039f"
             ],
             [
              0.2222222222222222,
              "#7201a8"
             ],
             [
              0.3333333333333333,
              "#9c179e"
             ],
             [
              0.4444444444444444,
              "#bd3786"
             ],
             [
              0.5555555555555556,
              "#d8576b"
             ],
             [
              0.6666666666666666,
              "#ed7953"
             ],
             [
              0.7777777777777778,
              "#fb9f3a"
             ],
             [
              0.8888888888888888,
              "#fdca26"
             ],
             [
              1,
              "#f0f921"
             ]
            ],
            "type": "contour"
           }
          ],
          "contourcarpet": [
           {
            "colorbar": {
             "outlinewidth": 0,
             "ticks": ""
            },
            "type": "contourcarpet"
           }
          ],
          "heatmap": [
           {
            "colorbar": {
             "outlinewidth": 0,
             "ticks": ""
            },
            "colorscale": [
             [
              0,
              "#0d0887"
             ],
             [
              0.1111111111111111,
              "#46039f"
             ],
             [
              0.2222222222222222,
              "#7201a8"
             ],
             [
              0.3333333333333333,
              "#9c179e"
             ],
             [
              0.4444444444444444,
              "#bd3786"
             ],
             [
              0.5555555555555556,
              "#d8576b"
             ],
             [
              0.6666666666666666,
              "#ed7953"
             ],
             [
              0.7777777777777778,
              "#fb9f3a"
             ],
             [
              0.8888888888888888,
              "#fdca26"
             ],
             [
              1,
              "#f0f921"
             ]
            ],
            "type": "heatmap"
           }
          ],
          "heatmapgl": [
           {
            "colorbar": {
             "outlinewidth": 0,
             "ticks": ""
            },
            "colorscale": [
             [
              0,
              "#0d0887"
             ],
             [
              0.1111111111111111,
              "#46039f"
             ],
             [
              0.2222222222222222,
              "#7201a8"
             ],
             [
              0.3333333333333333,
              "#9c179e"
             ],
             [
              0.4444444444444444,
              "#bd3786"
             ],
             [
              0.5555555555555556,
              "#d8576b"
             ],
             [
              0.6666666666666666,
              "#ed7953"
             ],
             [
              0.7777777777777778,
              "#fb9f3a"
             ],
             [
              0.8888888888888888,
              "#fdca26"
             ],
             [
              1,
              "#f0f921"
             ]
            ],
            "type": "heatmapgl"
           }
          ],
          "histogram": [
           {
            "marker": {
             "pattern": {
              "fillmode": "overlay",
              "size": 10,
              "solidity": 0.2
             }
            },
            "type": "histogram"
           }
          ],
          "histogram2d": [
           {
            "colorbar": {
             "outlinewidth": 0,
             "ticks": ""
            },
            "colorscale": [
             [
              0,
              "#0d0887"
             ],
             [
              0.1111111111111111,
              "#46039f"
             ],
             [
              0.2222222222222222,
              "#7201a8"
             ],
             [
              0.3333333333333333,
              "#9c179e"
             ],
             [
              0.4444444444444444,
              "#bd3786"
             ],
             [
              0.5555555555555556,
              "#d8576b"
             ],
             [
              0.6666666666666666,
              "#ed7953"
             ],
             [
              0.7777777777777778,
              "#fb9f3a"
             ],
             [
              0.8888888888888888,
              "#fdca26"
             ],
             [
              1,
              "#f0f921"
             ]
            ],
            "type": "histogram2d"
           }
          ],
          "histogram2dcontour": [
           {
            "colorbar": {
             "outlinewidth": 0,
             "ticks": ""
            },
            "colorscale": [
             [
              0,
              "#0d0887"
             ],
             [
              0.1111111111111111,
              "#46039f"
             ],
             [
              0.2222222222222222,
              "#7201a8"
             ],
             [
              0.3333333333333333,
              "#9c179e"
             ],
             [
              0.4444444444444444,
              "#bd3786"
             ],
             [
              0.5555555555555556,
              "#d8576b"
             ],
             [
              0.6666666666666666,
              "#ed7953"
             ],
             [
              0.7777777777777778,
              "#fb9f3a"
             ],
             [
              0.8888888888888888,
              "#fdca26"
             ],
             [
              1,
              "#f0f921"
             ]
            ],
            "type": "histogram2dcontour"
           }
          ],
          "mesh3d": [
           {
            "colorbar": {
             "outlinewidth": 0,
             "ticks": ""
            },
            "type": "mesh3d"
           }
          ],
          "parcoords": [
           {
            "line": {
             "colorbar": {
              "outlinewidth": 0,
              "ticks": ""
             }
            },
            "type": "parcoords"
           }
          ],
          "pie": [
           {
            "automargin": true,
            "type": "pie"
           }
          ],
          "scatter": [
           {
            "fillpattern": {
             "fillmode": "overlay",
             "size": 10,
             "solidity": 0.2
            },
            "type": "scatter"
           }
          ],
          "scatter3d": [
           {
            "line": {
             "colorbar": {
              "outlinewidth": 0,
              "ticks": ""
             }
            },
            "marker": {
             "colorbar": {
              "outlinewidth": 0,
              "ticks": ""
             }
            },
            "type": "scatter3d"
           }
          ],
          "scattercarpet": [
           {
            "marker": {
             "colorbar": {
              "outlinewidth": 0,
              "ticks": ""
             }
            },
            "type": "scattercarpet"
           }
          ],
          "scattergeo": [
           {
            "marker": {
             "colorbar": {
              "outlinewidth": 0,
              "ticks": ""
             }
            },
            "type": "scattergeo"
           }
          ],
          "scattergl": [
           {
            "marker": {
             "colorbar": {
              "outlinewidth": 0,
              "ticks": ""
             }
            },
            "type": "scattergl"
           }
          ],
          "scattermapbox": [
           {
            "marker": {
             "colorbar": {
              "outlinewidth": 0,
              "ticks": ""
             }
            },
            "type": "scattermapbox"
           }
          ],
          "scatterpolar": [
           {
            "marker": {
             "colorbar": {
              "outlinewidth": 0,
              "ticks": ""
             }
            },
            "type": "scatterpolar"
           }
          ],
          "scatterpolargl": [
           {
            "marker": {
             "colorbar": {
              "outlinewidth": 0,
              "ticks": ""
             }
            },
            "type": "scatterpolargl"
           }
          ],
          "scatterternary": [
           {
            "marker": {
             "colorbar": {
              "outlinewidth": 0,
              "ticks": ""
             }
            },
            "type": "scatterternary"
           }
          ],
          "surface": [
           {
            "colorbar": {
             "outlinewidth": 0,
             "ticks": ""
            },
            "colorscale": [
             [
              0,
              "#0d0887"
             ],
             [
              0.1111111111111111,
              "#46039f"
             ],
             [
              0.2222222222222222,
              "#7201a8"
             ],
             [
              0.3333333333333333,
              "#9c179e"
             ],
             [
              0.4444444444444444,
              "#bd3786"
             ],
             [
              0.5555555555555556,
              "#d8576b"
             ],
             [
              0.6666666666666666,
              "#ed7953"
             ],
             [
              0.7777777777777778,
              "#fb9f3a"
             ],
             [
              0.8888888888888888,
              "#fdca26"
             ],
             [
              1,
              "#f0f921"
             ]
            ],
            "type": "surface"
           }
          ],
          "table": [
           {
            "cells": {
             "fill": {
              "color": "#EBF0F8"
             },
             "line": {
              "color": "white"
             }
            },
            "header": {
             "fill": {
              "color": "#C8D4E3"
             },
             "line": {
              "color": "white"
             }
            },
            "type": "table"
           }
          ]
         },
         "layout": {
          "annotationdefaults": {
           "arrowcolor": "#2a3f5f",
           "arrowhead": 0,
           "arrowwidth": 1
          },
          "autotypenumbers": "strict",
          "coloraxis": {
           "colorbar": {
            "outlinewidth": 0,
            "ticks": ""
           }
          },
          "colorscale": {
           "diverging": [
            [
             0,
             "#8e0152"
            ],
            [
             0.1,
             "#c51b7d"
            ],
            [
             0.2,
             "#de77ae"
            ],
            [
             0.3,
             "#f1b6da"
            ],
            [
             0.4,
             "#fde0ef"
            ],
            [
             0.5,
             "#f7f7f7"
            ],
            [
             0.6,
             "#e6f5d0"
            ],
            [
             0.7,
             "#b8e186"
            ],
            [
             0.8,
             "#7fbc41"
            ],
            [
             0.9,
             "#4d9221"
            ],
            [
             1,
             "#276419"
            ]
           ],
           "sequential": [
            [
             0,
             "#0d0887"
            ],
            [
             0.1111111111111111,
             "#46039f"
            ],
            [
             0.2222222222222222,
             "#7201a8"
            ],
            [
             0.3333333333333333,
             "#9c179e"
            ],
            [
             0.4444444444444444,
             "#bd3786"
            ],
            [
             0.5555555555555556,
             "#d8576b"
            ],
            [
             0.6666666666666666,
             "#ed7953"
            ],
            [
             0.7777777777777778,
             "#fb9f3a"
            ],
            [
             0.8888888888888888,
             "#fdca26"
            ],
            [
             1,
             "#f0f921"
            ]
           ],
           "sequentialminus": [
            [
             0,
             "#0d0887"
            ],
            [
             0.1111111111111111,
             "#46039f"
            ],
            [
             0.2222222222222222,
             "#7201a8"
            ],
            [
             0.3333333333333333,
             "#9c179e"
            ],
            [
             0.4444444444444444,
             "#bd3786"
            ],
            [
             0.5555555555555556,
             "#d8576b"
            ],
            [
             0.6666666666666666,
             "#ed7953"
            ],
            [
             0.7777777777777778,
             "#fb9f3a"
            ],
            [
             0.8888888888888888,
             "#fdca26"
            ],
            [
             1,
             "#f0f921"
            ]
           ]
          },
          "colorway": [
           "#636efa",
           "#EF553B",
           "#00cc96",
           "#ab63fa",
           "#FFA15A",
           "#19d3f3",
           "#FF6692",
           "#B6E880",
           "#FF97FF",
           "#FECB52"
          ],
          "font": {
           "color": "#2a3f5f"
          },
          "geo": {
           "bgcolor": "white",
           "lakecolor": "white",
           "landcolor": "#E5ECF6",
           "showlakes": true,
           "showland": true,
           "subunitcolor": "white"
          },
          "hoverlabel": {
           "align": "left"
          },
          "hovermode": "closest",
          "mapbox": {
           "style": "light"
          },
          "paper_bgcolor": "white",
          "plot_bgcolor": "#E5ECF6",
          "polar": {
           "angularaxis": {
            "gridcolor": "white",
            "linecolor": "white",
            "ticks": ""
           },
           "bgcolor": "#E5ECF6",
           "radialaxis": {
            "gridcolor": "white",
            "linecolor": "white",
            "ticks": ""
           }
          },
          "scene": {
           "xaxis": {
            "backgroundcolor": "#E5ECF6",
            "gridcolor": "white",
            "gridwidth": 2,
            "linecolor": "white",
            "showbackground": true,
            "ticks": "",
            "zerolinecolor": "white"
           },
           "yaxis": {
            "backgroundcolor": "#E5ECF6",
            "gridcolor": "white",
            "gridwidth": 2,
            "linecolor": "white",
            "showbackground": true,
            "ticks": "",
            "zerolinecolor": "white"
           },
           "zaxis": {
            "backgroundcolor": "#E5ECF6",
            "gridcolor": "white",
            "gridwidth": 2,
            "linecolor": "white",
            "showbackground": true,
            "ticks": "",
            "zerolinecolor": "white"
           }
          },
          "shapedefaults": {
           "line": {
            "color": "#2a3f5f"
           }
          },
          "ternary": {
           "aaxis": {
            "gridcolor": "white",
            "linecolor": "white",
            "ticks": ""
           },
           "baxis": {
            "gridcolor": "white",
            "linecolor": "white",
            "ticks": ""
           },
           "bgcolor": "#E5ECF6",
           "caxis": {
            "gridcolor": "white",
            "linecolor": "white",
            "ticks": ""
           }
          },
          "title": {
           "x": 0.05
          },
          "xaxis": {
           "automargin": true,
           "gridcolor": "white",
           "linecolor": "white",
           "ticks": "",
           "title": {
            "standoff": 15
           },
           "zerolinecolor": "white",
           "zerolinewidth": 2
          },
          "yaxis": {
           "automargin": true,
           "gridcolor": "white",
           "linecolor": "white",
           "ticks": "",
           "title": {
            "standoff": 15
           },
           "zerolinecolor": "white",
           "zerolinewidth": 2
          }
         }
        },
        "title": {
         "text": "Aantal vluchtelingen en terroristische aanslagen in Europa"
        },
        "xaxis": {
         "title": {
          "text": "Jaar"
         },
         "type": "category"
        },
        "yaxis": {
         "range": [
          0,
          22000000
         ],
         "side": "left",
         "title": {
          "text": "Vluchtelingen onder UNHCR's mandate"
         }
        },
        "yaxis2": {
         "overlaying": "y",
         "range": [
          0,
          1200
         ],
         "side": "right",
         "title": {
          "text": "Terroristische aanslagen"
         }
        }
       }
      }
     },
     "metadata": {},
     "output_type": "display_data"
    }
   ],
   "source": [
    "import plotly.graph_objs as go\n",
    "import plotly.express as px\n",
    "import pandas as pd\n",
    "import geopandas as gpd\n",
    "import matplotlib.pyplot as plt\n",
    "\n",
    "df3 = pd.read_csv('aanslagen_per_jaar.csv')\n",
    "\n",
    "colors = ['rgb(238, 75, 43)', 'rgb(252,245,245)', 'rgb(129, 133, 137)']\n",
    "fig = go.Figure()\n",
    "\n",
    "fig.add_trace(go.Scatter(\n",
    "    x=df2['Year'],\n",
    "    y=df2[\"Refugees under UNHCR's mandate\"],\n",
    "    marker_color='rgb(238, 75, 43)',\n",
    "    name=\"Vluchtelingen\",\n",
    "    yaxis='y'  \n",
    "))\n",
    "\n",
    "fig.add_trace(go.Scatter(\n",
    "    x=df3['year'],\n",
    "    y=df3[('count')],\n",
    "    marker_color='rgb(129, 133, 137)',\n",
    "    name=\"Aanslagen\",\n",
    "    yaxis='y2'  \n",
    "))\n",
    "\n",
    "fig.update_layout(\n",
    "    title='Aantal vluchtelingen en terroristische aanslagen in Europa',\n",
    "    xaxis=dict(type='category'),\n",
    "    yaxis=dict(range=[0, 22000000], title=\"Vluchtelingen onder UNHCR's mandate\" , side='left'),\n",
    "    yaxis2=dict(range=[0, 1200], title=\"Terroristische aanslagen\", overlaying='y', side='right'),  \n",
    "    xaxis_title='Jaar',\n",
    "    height=500,\n",
    "    bargap=0.1,\n",
    "    plot_bgcolor='rgb(252,245,245)',\n",
    ")\n",
    "\n",
    "fig.show()"
   ]
  },
  {
   "attachments": {},
   "cell_type": "markdown",
   "id": "f07d4a62-ad4f-4fd3-84ad-3540363a03fb",
   "metadata": {},
   "source": [
    "> *Figuur 2: Zowel het aantal vluchtelingen als het aantal terroristische aanslagen namen vanaf 2013 toe. "
   ]
  },
  {
   "attachments": {},
   "cell_type": "markdown",
   "id": "d42bd1f8",
   "metadata": {},
   "source": [
    "x"
   ]
  },
  {
   "attachments": {},
   "cell_type": "markdown",
   "id": "e0a5e8f3-eed9-4965-a85d-05a296514ca0",
   "metadata": {},
   "source": [
    "### Tweede argument eerste perspectief "
   ]
  },
  {
   "cell_type": "code",
   "execution_count": 4,
   "id": "a5498c65",
   "metadata": {
    "tags": [
     "hide-input"
    ]
   },
   "outputs": [
    {
     "name": "stderr",
     "output_type": "stream",
     "text": [
      "/tmp/ipykernel_5206/4125691186.py:9: SettingWithCopyWarning:\n",
      "\n",
      "\n",
      "A value is trying to be set on a copy of a slice from a DataFrame.\n",
      "Try using .loc[row_indexer,col_indexer] = value instead\n",
      "\n",
      "See the caveats in the documentation: https://pandas.pydata.org/pandas-docs/stable/user_guide/indexing.html#returning-a-view-versus-a-copy\n",
      "\n",
      "/tmp/ipykernel_5206/4125691186.py:10: SettingWithCopyWarning:\n",
      "\n",
      "\n",
      "A value is trying to be set on a copy of a slice from a DataFrame.\n",
      "Try using .loc[row_indexer,col_indexer] = value instead\n",
      "\n",
      "See the caveats in the documentation: https://pandas.pydata.org/pandas-docs/stable/user_guide/indexing.html#returning-a-view-versus-a-copy\n",
      "\n",
      "/tmp/ipykernel_5206/4125691186.py:11: SettingWithCopyWarning:\n",
      "\n",
      "\n",
      "A value is trying to be set on a copy of a slice from a DataFrame.\n",
      "Try using .loc[row_indexer,col_indexer] = value instead\n",
      "\n",
      "See the caveats in the documentation: https://pandas.pydata.org/pandas-docs/stable/user_guide/indexing.html#returning-a-view-versus-a-copy\n",
      "\n"
     ]
    },
    {
     "name": "stdout",
     "output_type": "stream",
     "text": [
      "     Year Country of asylum  Refugees under UNHCR's mandate\n",
      "0    2000           Albania                             521\n",
      "1    2000           Austria                           15493\n",
      "2    2000           Belarus                             453\n",
      "3    2000           Belgium                           18821\n",
      "4    2000          Bulgaria                            1470\n",
      "..    ...               ...                             ...\n",
      "607  2017             Spain                           17541\n",
      "608  2017            Sweden                          240954\n",
      "609  2017       Switzerland                           93030\n",
      "610  2017           Ukraine                            3241\n",
      "611  2017    United Kingdom                          121821\n",
      "\n",
      "[612 rows x 3 columns]\n",
      "    Year  Refugees under UNHCR's mandate\n",
      "0   2000                         2310144\n",
      "1   2001                         2260823\n",
      "2   2002                         2292404\n",
      "3   2003                         2175223\n",
      "4   2004                         2053058\n",
      "5   2005                         1734871\n",
      "6   2006                         1593379\n",
      "7   2007                         1551624\n",
      "8   2008                         1578023\n",
      "9   2009                         1593630\n",
      "10  2010                         1561128\n",
      "11  2011                         1512698\n",
      "12  2012                         1502842\n",
      "13  2013                         1135961\n",
      "14  2014                         1254534\n",
      "15  2015                         1497563\n",
      "16  2016                         2071750\n",
      "17  2017                         2477489\n",
      "   Country of asylum  Refugees under UNHCR's mandate\n",
      "0            Albania                            2025\n",
      "1            Austria                          770125\n",
      "2            Belarus                           15098\n",
      "3            Belgium                          388680\n",
      "4           Bulgaria                          123279\n",
      "5            Croatia                           75793\n",
      "6             Cyprus                           53209\n",
      "7            Czechia                           41580\n",
      "8            Denmark                          675068\n",
      "9            Estonia                            1184\n",
      "10           Finland                          207237\n",
      "11            France                         3497948\n",
      "12           Germany                        11802786\n",
      "13            Greece                          161471\n",
      "14           Hungary                          103141\n",
      "15           Iceland                            2887\n",
      "16           Ireland                          121269\n",
      "17             Italy                         1023429\n",
      "18        Luxembourg                           35413\n",
      "19             Malta                           81095\n",
      "20       Netherlands                         1845708\n",
      "21   North Macedonia                           31584\n",
      "22            Norway                          819045\n",
      "23            Poland                          175119\n",
      "24          Portugal                           10100\n",
      "25           Romania                           33552\n",
      "26            Serbia                         2751047\n",
      "27          Slovakia                            9522\n",
      "28          Slovenia                           11678\n",
      "29             Spain                          116506\n",
      "30            Sweden                         2178677\n",
      "31       Switzerland                         1016466\n",
      "32           Ukraine                           65431\n",
      "33    United Kingdom                         3909992\n"
     ]
    },
    {
     "data": {
      "application/vnd.plotly.v1+json": {
       "config": {
        "plotlyServerURL": "https://plot.ly"
       },
       "data": [
        {
         "customdata": [
          [
           521,
           2,
           41.153332,
           20.168331
          ],
          [
           15493,
           0,
           47.516231,
           14.550072
          ],
          [
           453,
           0,
           53.709807,
           27.953389
          ],
          [
           18821,
           0,
           50.503887,
           4.469936
          ],
          [
           1470,
           2,
           42.733883,
           25.48583
          ],
          [
           22437,
           2,
           45.1,
           15.2
          ],
          [
           73,
           2,
           35.126413,
           33.429859
          ],
          [
           71017,
           0,
           56.26392,
           9.501785
          ],
          [
           0,
           0,
           58.595272,
           25.013607
          ],
          [
           13271,
           0,
           61.92411,
           25.748151
          ],
          [
           132508,
           28,
           46.227638,
           2.213749
          ],
          [
           906000,
           8,
           51.165691,
           10.451526
          ],
          [
           6653,
           28,
           39.074208,
           21.824312
          ],
          [
           5053,
           0,
           47.162494,
           19.503304
          ],
          [
           235,
           0,
           64.963051,
           -19.020835
          ],
          [
           2530,
           0,
           53.41291,
           -8.24389
          ],
          [
           6813,
           8,
           41.87194,
           12.56738
          ],
          [
           759,
           0,
           49.815273,
           6.129583
          ],
          [
           191,
           0,
           35.937496,
           14.375416
          ],
          [
           146174,
           1,
           52.132633,
           5.291266
          ],
          [
           9048,
           3,
           41.608635,
           21.745275
          ],
          [
           47700,
           0,
           60.472024,
           8.468946
          ],
          [
           1011,
           0,
           51.919438,
           19.145136
          ],
          [
           416,
           0,
           39.399872,
           -8.224454
          ],
          [
           1677,
           0,
           45.943161,
           24.96676
          ],
          [
           484390,
           0,
           44.016521,
           21.005859
          ],
          [
           444,
           1,
           48.669026,
           19.699024
          ],
          [
           2814,
           1,
           46.151241,
           14.995463
          ],
          [
           6982,
           112,
           40.463667,
           -3.74922
          ],
          [
           157206,
           1,
           60.128161,
           18.643501
          ],
          [
           57624,
           4,
           46.818188,
           8.227512
          ],
          [
           2927,
           1,
           48.379433,
           31.16558
          ],
          [
           186247,
           61,
           55.378051,
           -3.435973
          ]
         ],
         "geo": "geo",
         "hovertemplate": "<b>%{hovertext}</b><br><br>Year=%{marker.size}<br>Refugees under UNHCR's mandate=%{marker.color}<br>Terrorist attacks=%{customdata[1]}<extra></extra>",
         "hovertext": [
          "Albania",
          "Austria",
          "Belarus",
          "Belgium",
          "Bulgaria",
          "Croatia",
          "Cyprus",
          "Denmark",
          "Estonia",
          "Finland",
          "France",
          "Germany",
          "Greece",
          "Hungary",
          "Iceland",
          "Ireland",
          "Italy",
          "Luxembourg",
          "Malta",
          "Netherlands",
          "North Macedonia",
          "Norway",
          "Poland",
          "Portugal",
          "Romania",
          "Serbia",
          "Slovakia",
          "Slovenia",
          "Spain",
          "Sweden",
          "Switzerland",
          "Ukraine",
          "United Kingdom"
         ],
         "lat": [
          41.153332,
          47.516231,
          53.709807,
          50.503887,
          42.733883,
          45.1,
          35.126413,
          56.26392,
          58.595272,
          61.92411,
          46.227638,
          51.165691,
          39.074208,
          47.162494,
          64.963051,
          53.41291,
          41.87194,
          49.815273,
          35.937496,
          52.132633,
          41.608635,
          60.472024,
          51.919438,
          39.399872,
          45.943161,
          44.016521,
          48.669026,
          46.151241,
          40.463667,
          60.128161,
          46.818188,
          48.379433,
          55.378051
         ],
         "legendgroup": "",
         "lon": [
          20.168331,
          14.550072,
          27.953389,
          4.469936,
          25.48583,
          15.2,
          33.429859,
          9.501785,
          25.013607,
          25.748151,
          2.213749,
          10.451526,
          21.824312,
          19.503304,
          -19.020835,
          -8.24389,
          12.56738,
          6.129583,
          14.375416,
          5.291266,
          21.745275,
          8.468946,
          19.145136,
          -8.224454,
          24.96676,
          21.005859,
          19.699024,
          14.995463,
          -3.74922,
          18.643501,
          8.227512,
          31.16558,
          -3.435973
         ],
         "marker": {
          "color": [
           521,
           15493,
           453,
           18821,
           1470,
           22437,
           73,
           71017,
           0,
           13271,
           132508,
           906000,
           6653,
           5053,
           235,
           2530,
           6813,
           759,
           191,
           146174,
           9048,
           47700,
           1011,
           416,
           1677,
           484390,
           444,
           2814,
           6982,
           157206,
           57624,
           2927,
           186247
          ],
          "coloraxis": "coloraxis",
          "line": {
           "color": "black",
           "width": 0.5
          },
          "size": [
           2000,
           2000,
           2000,
           2000,
           2000,
           2000,
           2000,
           2000,
           2000,
           2000,
           2000,
           2000,
           2000,
           2000,
           2000,
           2000,
           2000,
           2000,
           2000,
           2000,
           2000,
           2000,
           2000,
           2000,
           2000,
           2000,
           2000,
           2000,
           2000,
           2000,
           2000,
           2000,
           2000
          ],
          "sizemode": "area",
          "sizeref": 20.17,
          "symbol": "circle"
         },
         "mode": "markers",
         "name": "",
         "showlegend": false,
         "type": "scattergeo"
        }
       ],
       "frames": [
        {
         "data": [
          {
           "customdata": [
            [
             521,
             2,
             41.153332,
             20.168331
            ],
            [
             15493,
             0,
             47.516231,
             14.550072
            ],
            [
             453,
             0,
             53.709807,
             27.953389
            ],
            [
             18821,
             0,
             50.503887,
             4.469936
            ],
            [
             1470,
             2,
             42.733883,
             25.48583
            ],
            [
             22437,
             2,
             45.1,
             15.2
            ],
            [
             73,
             2,
             35.126413,
             33.429859
            ],
            [
             71017,
             0,
             56.26392,
             9.501785
            ],
            [
             0,
             0,
             58.595272,
             25.013607
            ],
            [
             13271,
             0,
             61.92411,
             25.748151
            ],
            [
             132508,
             28,
             46.227638,
             2.213749
            ],
            [
             906000,
             8,
             51.165691,
             10.451526
            ],
            [
             6653,
             28,
             39.074208,
             21.824312
            ],
            [
             5053,
             0,
             47.162494,
             19.503304
            ],
            [
             235,
             0,
             64.963051,
             -19.020835
            ],
            [
             2530,
             0,
             53.41291,
             -8.24389
            ],
            [
             6813,
             8,
             41.87194,
             12.56738
            ],
            [
             759,
             0,
             49.815273,
             6.129583
            ],
            [
             191,
             0,
             35.937496,
             14.375416
            ],
            [
             146174,
             1,
             52.132633,
             5.291266
            ],
            [
             9048,
             3,
             41.608635,
             21.745275
            ],
            [
             47700,
             0,
             60.472024,
             8.468946
            ],
            [
             1011,
             0,
             51.919438,
             19.145136
            ],
            [
             416,
             0,
             39.399872,
             -8.224454
            ],
            [
             1677,
             0,
             45.943161,
             24.96676
            ],
            [
             484390,
             0,
             44.016521,
             21.005859
            ],
            [
             444,
             1,
             48.669026,
             19.699024
            ],
            [
             2814,
             1,
             46.151241,
             14.995463
            ],
            [
             6982,
             112,
             40.463667,
             -3.74922
            ],
            [
             157206,
             1,
             60.128161,
             18.643501
            ],
            [
             57624,
             4,
             46.818188,
             8.227512
            ],
            [
             2927,
             1,
             48.379433,
             31.16558
            ],
            [
             186247,
             61,
             55.378051,
             -3.435973
            ]
           ],
           "geo": "geo",
           "hovertemplate": "<b>%{hovertext}</b><br><br>Year=%{marker.size}<br>Refugees under UNHCR's mandate=%{marker.color}<br>Terrorist attacks=%{customdata[1]}<extra></extra>",
           "hovertext": [
            "Albania",
            "Austria",
            "Belarus",
            "Belgium",
            "Bulgaria",
            "Croatia",
            "Cyprus",
            "Denmark",
            "Estonia",
            "Finland",
            "France",
            "Germany",
            "Greece",
            "Hungary",
            "Iceland",
            "Ireland",
            "Italy",
            "Luxembourg",
            "Malta",
            "Netherlands",
            "North Macedonia",
            "Norway",
            "Poland",
            "Portugal",
            "Romania",
            "Serbia",
            "Slovakia",
            "Slovenia",
            "Spain",
            "Sweden",
            "Switzerland",
            "Ukraine",
            "United Kingdom"
           ],
           "lat": [
            41.153332,
            47.516231,
            53.709807,
            50.503887,
            42.733883,
            45.1,
            35.126413,
            56.26392,
            58.595272,
            61.92411,
            46.227638,
            51.165691,
            39.074208,
            47.162494,
            64.963051,
            53.41291,
            41.87194,
            49.815273,
            35.937496,
            52.132633,
            41.608635,
            60.472024,
            51.919438,
            39.399872,
            45.943161,
            44.016521,
            48.669026,
            46.151241,
            40.463667,
            60.128161,
            46.818188,
            48.379433,
            55.378051
           ],
           "legendgroup": "",
           "lon": [
            20.168331,
            14.550072,
            27.953389,
            4.469936,
            25.48583,
            15.2,
            33.429859,
            9.501785,
            25.013607,
            25.748151,
            2.213749,
            10.451526,
            21.824312,
            19.503304,
            -19.020835,
            -8.24389,
            12.56738,
            6.129583,
            14.375416,
            5.291266,
            21.745275,
            8.468946,
            19.145136,
            -8.224454,
            24.96676,
            21.005859,
            19.699024,
            14.995463,
            -3.74922,
            18.643501,
            8.227512,
            31.16558,
            -3.435973
           ],
           "marker": {
            "color": [
             521,
             15493,
             453,
             18821,
             1470,
             22437,
             73,
             71017,
             0,
             13271,
             132508,
             906000,
             6653,
             5053,
             235,
             2530,
             6813,
             759,
             191,
             146174,
             9048,
             47700,
             1011,
             416,
             1677,
             484390,
             444,
             2814,
             6982,
             157206,
             57624,
             2927,
             186247
            ],
            "coloraxis": "coloraxis",
            "size": [
             2000,
             2000,
             2000,
             2000,
             2000,
             2000,
             2000,
             2000,
             2000,
             2000,
             2000,
             2000,
             2000,
             2000,
             2000,
             2000,
             2000,
             2000,
             2000,
             2000,
             2000,
             2000,
             2000,
             2000,
             2000,
             2000,
             2000,
             2000,
             2000,
             2000,
             2000,
             2000,
             2000
            ],
            "sizemode": "area",
            "sizeref": 20.17,
            "symbol": "circle"
           },
           "mode": "markers",
           "name": "",
           "showlegend": false,
           "type": "scattergeo"
          }
         ],
         "name": "2000"
        },
        {
         "data": [
          {
           "customdata": [
            [
             291,
             1,
             41.153332,
             20.168331
            ],
            [
             14375,
             0,
             47.516231,
             14.550072
            ],
            [
             581,
             1,
             53.709807,
             27.953389
            ],
            [
             12252,
             0,
             50.503887,
             4.469936
            ],
            [
             2984,
             1,
             42.733883,
             25.48583
            ],
            [
             21875,
             3,
             45.1,
             15.2
            ],
            [
             84,
             1,
             35.126413,
             33.429859
            ],
            [
             73284,
             0,
             56.26392,
             9.501785
            ],
            [
             6,
             1,
             58.595272,
             25.013607
            ],
            [
             12726,
             0,
             61.92411,
             25.748151
            ],
            [
             131601,
             21,
             46.227638,
             2.213749
            ],
            [
             903000,
             8,
             51.165691,
             10.451526
            ],
            [
             6927,
             14,
             39.074208,
             21.824312
            ],
            [
             4700,
             1,
             47.162494,
             19.503304
            ],
            [
             204,
             0,
             64.963051,
             -19.020835
            ],
            [
             3585,
             2,
             53.41291,
             -8.24389
            ],
            [
             8541,
             11,
             41.87194,
             12.56738
            ],
            [
             1201,
             0,
             49.815273,
             6.129583
            ],
            [
             175,
             0,
             35.937496,
             14.375416
            ],
            [
             151919,
             1,
             52.132633,
             5.291266
            ],
            [
             4362,
             67,
             41.608635,
             21.745275
            ],
            [
             50122,
             1,
             60.472024,
             8.468946
            ],
            [
             1295,
             1,
             51.919438,
             19.145136
            ],
            [
             444,
             0,
             39.399872,
             -8.224454
            ],
            [
             1792,
             0,
             45.943161,
             24.96676
            ],
            [
             400306,
             0,
             44.016521,
             21.005859
            ],
            [
             461,
             0,
             48.669026,
             19.699024
            ],
            [
             2411,
             0,
             46.151241,
             14.995463
            ],
            [
             6804,
             79,
             40.463667,
             -3.74922
            ],
            [
             146480,
             0,
             60.128161,
             18.643501
            ],
            [
             58471,
             2,
             46.818188,
             8.227512
            ],
            [
             2958,
             0,
             48.379433,
             31.16558
            ],
            [
             233389,
             94,
             55.378051,
             -3.435973
            ]
           ],
           "geo": "geo",
           "hovertemplate": "<b>%{hovertext}</b><br><br>Year=%{marker.size}<br>Refugees under UNHCR's mandate=%{marker.color}<br>Terrorist attacks=%{customdata[1]}<extra></extra>",
           "hovertext": [
            "Albania",
            "Austria",
            "Belarus",
            "Belgium",
            "Bulgaria",
            "Croatia",
            "Cyprus",
            "Denmark",
            "Estonia",
            "Finland",
            "France",
            "Germany",
            "Greece",
            "Hungary",
            "Iceland",
            "Ireland",
            "Italy",
            "Luxembourg",
            "Malta",
            "Netherlands",
            "North Macedonia",
            "Norway",
            "Poland",
            "Portugal",
            "Romania",
            "Serbia",
            "Slovakia",
            "Slovenia",
            "Spain",
            "Sweden",
            "Switzerland",
            "Ukraine",
            "United Kingdom"
           ],
           "lat": [
            41.153332,
            47.516231,
            53.709807,
            50.503887,
            42.733883,
            45.1,
            35.126413,
            56.26392,
            58.595272,
            61.92411,
            46.227638,
            51.165691,
            39.074208,
            47.162494,
            64.963051,
            53.41291,
            41.87194,
            49.815273,
            35.937496,
            52.132633,
            41.608635,
            60.472024,
            51.919438,
            39.399872,
            45.943161,
            44.016521,
            48.669026,
            46.151241,
            40.463667,
            60.128161,
            46.818188,
            48.379433,
            55.378051
           ],
           "legendgroup": "",
           "lon": [
            20.168331,
            14.550072,
            27.953389,
            4.469936,
            25.48583,
            15.2,
            33.429859,
            9.501785,
            25.013607,
            25.748151,
            2.213749,
            10.451526,
            21.824312,
            19.503304,
            -19.020835,
            -8.24389,
            12.56738,
            6.129583,
            14.375416,
            5.291266,
            21.745275,
            8.468946,
            19.145136,
            -8.224454,
            24.96676,
            21.005859,
            19.699024,
            14.995463,
            -3.74922,
            18.643501,
            8.227512,
            31.16558,
            -3.435973
           ],
           "marker": {
            "color": [
             291,
             14375,
             581,
             12252,
             2984,
             21875,
             84,
             73284,
             6,
             12726,
             131601,
             903000,
             6927,
             4700,
             204,
             3585,
             8541,
             1201,
             175,
             151919,
             4362,
             50122,
             1295,
             444,
             1792,
             400306,
             461,
             2411,
             6804,
             146480,
             58471,
             2958,
             233389
            ],
            "coloraxis": "coloraxis",
            "size": [
             2001,
             2001,
             2001,
             2001,
             2001,
             2001,
             2001,
             2001,
             2001,
             2001,
             2001,
             2001,
             2001,
             2001,
             2001,
             2001,
             2001,
             2001,
             2001,
             2001,
             2001,
             2001,
             2001,
             2001,
             2001,
             2001,
             2001,
             2001,
             2001,
             2001,
             2001,
             2001,
             2001
            ],
            "sizemode": "area",
            "sizeref": 20.17,
            "symbol": "circle"
           },
           "mode": "markers",
           "name": "",
           "showlegend": false,
           "type": "scattergeo"
          }
         ],
         "name": "2001"
        },
        {
         "data": [
          {
           "customdata": [
            [
             18,
             0,
             41.153332,
             20.168331
            ],
            [
             14122,
             0,
             47.516231,
             14.550072
            ],
            [
             612,
             0,
             53.709807,
             27.953389
            ],
            [
             12560,
             3,
             50.503887,
             4.469936
            ],
            [
             3642,
             1,
             42.733883,
             25.48583
            ],
            [
             8392,
             0,
             45.1,
             15.2
            ],
            [
             171,
             0,
             35.126413,
             33.429859
            ],
            [
             73600,
             0,
             56.26392,
             9.501785
            ],
            [
             6,
             0,
             58.595272,
             25.013607
            ],
            [
             12485,
             0,
             61.92411,
             25.748151
            ],
            [
             132182,
             32,
             46.227638,
             2.213749
            ],
            [
             980001,
             3,
             51.165691,
             10.451526
            ],
            [
             2778,
             11,
             39.074208,
             21.824312
            ],
            [
             6075,
             0,
             47.162494,
             19.503304
            ],
            [
             197,
             0,
             64.963051,
             -19.020835
            ],
            [
             5366,
             0,
             53.41291,
             -8.24389
            ],
            [
             10031,
             7,
             41.87194,
             12.56738
            ],
            [
             1201,
             0,
             49.815273,
             6.129583
            ],
            [
             311,
             0,
             35.937496,
             14.375416
            ],
            [
             148349,
             2,
             52.132633,
             5.291266
            ],
            [
             2815,
             8,
             41.608635,
             21.745275
            ],
            [
             50421,
             0,
             60.472024,
             8.468946
            ],
            [
             1586,
             0,
             51.919438,
             19.145136
            ],
            [
             460,
             0,
             39.399872,
             -8.224454
            ],
            [
             1839,
             0,
             45.943161,
             24.96676
            ],
            [
             354400,
             0,
             44.016521,
             21.005859
            ],
            [
             443,
             0,
             48.669026,
             19.699024
            ],
            [
             384,
             0,
             46.151241,
             14.995463
            ],
            [
             6783,
             41,
             40.463667,
             -3.74922
            ],
            [
             142170,
             0,
             60.128161,
             18.643501
            ],
            [
             54081,
             0,
             46.818188,
             8.227512
            ],
            [
             2940,
             3,
             48.379433,
             31.16558
            ],
            [
             260687,
             21,
             55.378051,
             -3.435973
            ]
           ],
           "geo": "geo",
           "hovertemplate": "<b>%{hovertext}</b><br><br>Year=%{marker.size}<br>Refugees under UNHCR's mandate=%{marker.color}<br>Terrorist attacks=%{customdata[1]}<extra></extra>",
           "hovertext": [
            "Albania",
            "Austria",
            "Belarus",
            "Belgium",
            "Bulgaria",
            "Croatia",
            "Cyprus",
            "Denmark",
            "Estonia",
            "Finland",
            "France",
            "Germany",
            "Greece",
            "Hungary",
            "Iceland",
            "Ireland",
            "Italy",
            "Luxembourg",
            "Malta",
            "Netherlands",
            "North Macedonia",
            "Norway",
            "Poland",
            "Portugal",
            "Romania",
            "Serbia",
            "Slovakia",
            "Slovenia",
            "Spain",
            "Sweden",
            "Switzerland",
            "Ukraine",
            "United Kingdom"
           ],
           "lat": [
            41.153332,
            47.516231,
            53.709807,
            50.503887,
            42.733883,
            45.1,
            35.126413,
            56.26392,
            58.595272,
            61.92411,
            46.227638,
            51.165691,
            39.074208,
            47.162494,
            64.963051,
            53.41291,
            41.87194,
            49.815273,
            35.937496,
            52.132633,
            41.608635,
            60.472024,
            51.919438,
            39.399872,
            45.943161,
            44.016521,
            48.669026,
            46.151241,
            40.463667,
            60.128161,
            46.818188,
            48.379433,
            55.378051
           ],
           "legendgroup": "",
           "lon": [
            20.168331,
            14.550072,
            27.953389,
            4.469936,
            25.48583,
            15.2,
            33.429859,
            9.501785,
            25.013607,
            25.748151,
            2.213749,
            10.451526,
            21.824312,
            19.503304,
            -19.020835,
            -8.24389,
            12.56738,
            6.129583,
            14.375416,
            5.291266,
            21.745275,
            8.468946,
            19.145136,
            -8.224454,
            24.96676,
            21.005859,
            19.699024,
            14.995463,
            -3.74922,
            18.643501,
            8.227512,
            31.16558,
            -3.435973
           ],
           "marker": {
            "color": [
             18,
             14122,
             612,
             12560,
             3642,
             8392,
             171,
             73600,
             6,
             12485,
             132182,
             980001,
             2778,
             6075,
             197,
             5366,
             10031,
             1201,
             311,
             148349,
             2815,
             50421,
             1586,
             460,
             1839,
             354400,
             443,
             384,
             6783,
             142170,
             54081,
             2940,
             260687
            ],
            "coloraxis": "coloraxis",
            "size": [
             2002,
             2002,
             2002,
             2002,
             2002,
             2002,
             2002,
             2002,
             2002,
             2002,
             2002,
             2002,
             2002,
             2002,
             2002,
             2002,
             2002,
             2002,
             2002,
             2002,
             2002,
             2002,
             2002,
             2002,
             2002,
             2002,
             2002,
             2002,
             2002,
             2002,
             2002,
             2002,
             2002
            ],
            "sizemode": "area",
            "sizeref": 20.17,
            "symbol": "circle"
           },
           "mode": "markers",
           "name": "",
           "showlegend": false,
           "type": "scattergeo"
          }
         ],
         "name": "2002"
        },
        {
         "data": [
          {
           "customdata": [
            [
             24,
             1,
             41.153332,
             20.168331
            ],
            [
             16097,
             0,
             47.516231,
             14.550072
            ],
            [
             631,
             0,
             53.709807,
             27.953389
            ],
            [
             12583,
             8,
             50.503887,
             4.469936
            ],
            [
             4047,
             0,
             42.733883,
             25.48583
            ],
            [
             4385,
             0,
             45.1,
             15.2
            ],
            [
             339,
             0,
             35.126413,
             33.429859
            ],
            [
             69855,
             0,
             56.26392,
             9.501785
            ],
            [
             6,
             0,
             58.595272,
             25.013607
            ],
            [
             10835,
             0,
             61.92411,
             25.748151
            ],
            [
             130838,
             34,
             46.227638,
             2.213749
            ],
            [
             960393,
             2,
             51.165691,
             10.451526
            ],
            [
             2762,
             12,
             39.074208,
             21.824312
            ],
            [
             7013,
             0,
             47.162494,
             19.503304
            ],
            [
             226,
             0,
             64.963051,
             -19.020835
            ],
            [
             5971,
             1,
             53.41291,
             -8.24389
            ],
            [
             12812,
             15,
             41.87194,
             12.56738
            ],
            [
             1201,
             0,
             49.815273,
             6.129583
            ],
            [
             894,
             0,
             35.937496,
             14.375416
            ],
            [
             140877,
             3,
             52.132633,
             5.291266
            ],
            [
             191,
             5,
             41.608635,
             21.745275
            ],
            [
             46107,
             1,
             60.472024,
             8.468946
            ],
            [
             1822,
             0,
             51.919438,
             19.145136
            ],
            [
             414,
             0,
             39.399872,
             -8.224454
            ],
            [
             1991,
             0,
             45.943161,
             24.96676
            ],
            [
             291397,
             6,
             44.016521,
             21.005859
            ],
            [
             412,
             0,
             48.669026,
             19.699024
            ],
            [
             2065,
             0,
             46.151241,
             14.995463
            ],
            [
             5912,
             21,
             40.463667,
             -3.74922
            ],
            [
             112148,
             0,
             60.128161,
             18.643501
            ],
            [
             50126,
             1,
             46.818188,
             8.227512
            ],
            [
             2851,
             1,
             48.379433,
             31.16558
            ],
            [
             276482,
             23,
             55.378051,
             -3.435973
            ]
           ],
           "geo": "geo",
           "hovertemplate": "<b>%{hovertext}</b><br><br>Year=%{marker.size}<br>Refugees under UNHCR's mandate=%{marker.color}<br>Terrorist attacks=%{customdata[1]}<extra></extra>",
           "hovertext": [
            "Albania",
            "Austria",
            "Belarus",
            "Belgium",
            "Bulgaria",
            "Croatia",
            "Cyprus",
            "Denmark",
            "Estonia",
            "Finland",
            "France",
            "Germany",
            "Greece",
            "Hungary",
            "Iceland",
            "Ireland",
            "Italy",
            "Luxembourg",
            "Malta",
            "Netherlands",
            "North Macedonia",
            "Norway",
            "Poland",
            "Portugal",
            "Romania",
            "Serbia",
            "Slovakia",
            "Slovenia",
            "Spain",
            "Sweden",
            "Switzerland",
            "Ukraine",
            "United Kingdom"
           ],
           "lat": [
            41.153332,
            47.516231,
            53.709807,
            50.503887,
            42.733883,
            45.1,
            35.126413,
            56.26392,
            58.595272,
            61.92411,
            46.227638,
            51.165691,
            39.074208,
            47.162494,
            64.963051,
            53.41291,
            41.87194,
            49.815273,
            35.937496,
            52.132633,
            41.608635,
            60.472024,
            51.919438,
            39.399872,
            45.943161,
            44.016521,
            48.669026,
            46.151241,
            40.463667,
            60.128161,
            46.818188,
            48.379433,
            55.378051
           ],
           "legendgroup": "",
           "lon": [
            20.168331,
            14.550072,
            27.953389,
            4.469936,
            25.48583,
            15.2,
            33.429859,
            9.501785,
            25.013607,
            25.748151,
            2.213749,
            10.451526,
            21.824312,
            19.503304,
            -19.020835,
            -8.24389,
            12.56738,
            6.129583,
            14.375416,
            5.291266,
            21.745275,
            8.468946,
            19.145136,
            -8.224454,
            24.96676,
            21.005859,
            19.699024,
            14.995463,
            -3.74922,
            18.643501,
            8.227512,
            31.16558,
            -3.435973
           ],
           "marker": {
            "color": [
             24,
             16097,
             631,
             12583,
             4047,
             4385,
             339,
             69855,
             6,
             10835,
             130838,
             960393,
             2762,
             7013,
             226,
             5971,
             12812,
             1201,
             894,
             140877,
             191,
             46107,
             1822,
             414,
             1991,
             291397,
             412,
             2065,
             5912,
             112148,
             50126,
             2851,
             276482
            ],
            "coloraxis": "coloraxis",
            "size": [
             2003,
             2003,
             2003,
             2003,
             2003,
             2003,
             2003,
             2003,
             2003,
             2003,
             2003,
             2003,
             2003,
             2003,
             2003,
             2003,
             2003,
             2003,
             2003,
             2003,
             2003,
             2003,
             2003,
             2003,
             2003,
             2003,
             2003,
             2003,
             2003,
             2003,
             2003,
             2003,
             2003
            ],
            "sizemode": "area",
            "sizeref": 20.17,
            "symbol": "circle"
           },
           "mode": "markers",
           "name": "",
           "showlegend": false,
           "type": "scattergeo"
          }
         ],
         "name": "2003"
        },
        {
         "data": [
          {
           "customdata": [
            [
             49,
             0,
             41.153332,
             20.168331
            ],
            [
             17777,
             0,
             47.516231,
             14.550072
            ],
            [
             719,
             0,
             53.709807,
             27.953389
            ],
            [
             13522,
             0,
             50.503887,
             4.469936
            ],
            [
             4676,
             0,
             42.733883,
             25.48583
            ],
            [
             3662,
             0,
             45.1,
             15.2
            ],
            [
             525,
             1,
             35.126413,
             33.429859
            ],
            [
             65305,
             0,
             56.26392,
             9.501785
            ],
            [
             6,
             0,
             58.595272,
             25.013607
            ],
            [
             11309,
             0,
             61.92411,
             25.748151
            ],
            [
             139852,
             11,
             46.227638,
             2.213749
            ],
            [
             876614,
             3,
             51.165691,
             10.451526
            ],
            [
             2479,
             4,
             39.074208,
             21.824312
            ],
            [
             7702,
             0,
             47.162494,
             19.503304
            ],
            [
             226,
             0,
             64.963051,
             -19.020835
            ],
            [
             6530,
             0,
             53.41291,
             -8.24389
            ],
            [
             15668,
             3,
             41.87194,
             12.56738
            ],
            [
             1590,
             0,
             49.815273,
             6.129583
            ],
            [
             1561,
             0,
             35.937496,
             14.375416
            ],
            [
             126792,
             1,
             52.132633,
             5.291266
            ],
            [
             1003,
             0,
             41.608635,
             21.745275
            ],
            [
             44031,
             0,
             60.472024,
             8.468946
            ],
            [
             2491,
             0,
             51.919438,
             19.145136
            ],
            [
             368,
             0,
             39.399872,
             -8.224454
            ],
            [
             1610,
             0,
             45.943161,
             24.96676
            ],
            [
             276677,
             1,
             44.016521,
             21.005859
            ],
            [
             396,
             0,
             48.669026,
             19.699024
            ],
            [
             299,
             0,
             46.151241,
             14.995463
            ],
            [
             5690,
             31,
             40.463667,
             -3.74922
            ],
            [
             73383,
             0,
             60.128161,
             18.643501
            ],
            [
             47654,
             0,
             46.818188,
             8.227512
            ],
            [
             2442,
             0,
             48.379433,
             31.16558
            ],
            [
             298826,
             5,
             55.378051,
             -3.435973
            ]
           ],
           "geo": "geo",
           "hovertemplate": "<b>%{hovertext}</b><br><br>Year=%{marker.size}<br>Refugees under UNHCR's mandate=%{marker.color}<br>Terrorist attacks=%{customdata[1]}<extra></extra>",
           "hovertext": [
            "Albania",
            "Austria",
            "Belarus",
            "Belgium",
            "Bulgaria",
            "Croatia",
            "Cyprus",
            "Denmark",
            "Estonia",
            "Finland",
            "France",
            "Germany",
            "Greece",
            "Hungary",
            "Iceland",
            "Ireland",
            "Italy",
            "Luxembourg",
            "Malta",
            "Netherlands",
            "North Macedonia",
            "Norway",
            "Poland",
            "Portugal",
            "Romania",
            "Serbia",
            "Slovakia",
            "Slovenia",
            "Spain",
            "Sweden",
            "Switzerland",
            "Ukraine",
            "United Kingdom"
           ],
           "lat": [
            41.153332,
            47.516231,
            53.709807,
            50.503887,
            42.733883,
            45.1,
            35.126413,
            56.26392,
            58.595272,
            61.92411,
            46.227638,
            51.165691,
            39.074208,
            47.162494,
            64.963051,
            53.41291,
            41.87194,
            49.815273,
            35.937496,
            52.132633,
            41.608635,
            60.472024,
            51.919438,
            39.399872,
            45.943161,
            44.016521,
            48.669026,
            46.151241,
            40.463667,
            60.128161,
            46.818188,
            48.379433,
            55.378051
           ],
           "legendgroup": "",
           "lon": [
            20.168331,
            14.550072,
            27.953389,
            4.469936,
            25.48583,
            15.2,
            33.429859,
            9.501785,
            25.013607,
            25.748151,
            2.213749,
            10.451526,
            21.824312,
            19.503304,
            -19.020835,
            -8.24389,
            12.56738,
            6.129583,
            14.375416,
            5.291266,
            21.745275,
            8.468946,
            19.145136,
            -8.224454,
            24.96676,
            21.005859,
            19.699024,
            14.995463,
            -3.74922,
            18.643501,
            8.227512,
            31.16558,
            -3.435973
           ],
           "marker": {
            "color": [
             49,
             17777,
             719,
             13522,
             4676,
             3662,
             525,
             65305,
             6,
             11309,
             139852,
             876614,
             2479,
             7702,
             226,
             6530,
             15668,
             1590,
             1561,
             126792,
             1003,
             44031,
             2491,
             368,
             1610,
             276677,
             396,
             299,
             5690,
             73383,
             47654,
             2442,
             298826
            ],
            "coloraxis": "coloraxis",
            "size": [
             2004,
             2004,
             2004,
             2004,
             2004,
             2004,
             2004,
             2004,
             2004,
             2004,
             2004,
             2004,
             2004,
             2004,
             2004,
             2004,
             2004,
             2004,
             2004,
             2004,
             2004,
             2004,
             2004,
             2004,
             2004,
             2004,
             2004,
             2004,
             2004,
             2004,
             2004,
             2004,
             2004
            ],
            "sizemode": "area",
            "sizeref": 20.17,
            "symbol": "circle"
           },
           "mode": "markers",
           "name": "",
           "showlegend": false,
           "type": "scattergeo"
          }
         ],
         "name": "2004"
        },
        {
         "data": [
          {
           "customdata": [
            [
             53,
             0,
             41.153332,
             20.168331
            ],
            [
             21212,
             0,
             47.516231,
             14.550072
            ],
            [
             718,
             0,
             53.709807,
             27.953389
            ],
            [
             15277,
             0,
             50.503887,
             4.469936
            ],
            [
             4388,
             0,
             42.733883,
             25.48583
            ],
            [
             2927,
             1,
             45.1,
             15.2
            ],
            [
             700,
             0,
             35.126413,
             33.429859
            ],
            [
             44362,
             0,
             56.26392,
             9.501785
            ],
            [
             0,
             0,
             58.595272,
             25.013607
            ],
            [
             11801,
             0,
             61.92411,
             25.748151
            ],
            [
             137316,
             33,
             46.227638,
             2.213749
            ],
            [
             699996,
             3,
             51.165691,
             10.451526
            ],
            [
             2394,
             6,
             39.074208,
             21.824312
            ],
            [
             8040,
             0,
             47.162494,
             19.503304
            ],
            [
             284,
             0,
             64.963051,
             -19.020835
            ],
            [
             7103,
             0,
             53.41291,
             -8.24389
            ],
            [
             20674,
             6,
             41.87194,
             12.56738
            ],
            [
             1822,
             0,
             49.815273,
             6.129583
            ],
            [
             1942,
             0,
             35.937496,
             14.375416
            ],
            [
             118172,
             0,
             52.132633,
             5.291266
            ],
            [
             1273,
             0,
             41.608635,
             21.745275
            ],
            [
             43015,
             0,
             60.472024,
             8.468946
            ],
            [
             4585,
             0,
             51.919438,
             19.145136
            ],
            [
             355,
             0,
             39.399872,
             -8.224454
            ],
            [
             2040,
             0,
             45.943161,
             24.96676
            ],
            [
             148259,
             2,
             44.016521,
             21.005859
            ],
            [
             352,
             0,
             48.669026,
             19.699024
            ],
            [
             243,
             0,
             46.151241,
             14.995463
            ],
            [
             5369,
             24,
             40.463667,
             -3.74922
            ],
            [
             74889,
             3,
             60.128161,
             18.643501
            ],
            [
             48010,
             0,
             46.818188,
             8.227512
            ],
            [
             2334,
             0,
             48.379433,
             31.16558
            ],
            [
             303163,
             29,
             55.378051,
             -3.435973
            ]
           ],
           "geo": "geo",
           "hovertemplate": "<b>%{hovertext}</b><br><br>Year=%{marker.size}<br>Refugees under UNHCR's mandate=%{marker.color}<br>Terrorist attacks=%{customdata[1]}<extra></extra>",
           "hovertext": [
            "Albania",
            "Austria",
            "Belarus",
            "Belgium",
            "Bulgaria",
            "Croatia",
            "Cyprus",
            "Denmark",
            "Estonia",
            "Finland",
            "France",
            "Germany",
            "Greece",
            "Hungary",
            "Iceland",
            "Ireland",
            "Italy",
            "Luxembourg",
            "Malta",
            "Netherlands",
            "North Macedonia",
            "Norway",
            "Poland",
            "Portugal",
            "Romania",
            "Serbia",
            "Slovakia",
            "Slovenia",
            "Spain",
            "Sweden",
            "Switzerland",
            "Ukraine",
            "United Kingdom"
           ],
           "lat": [
            41.153332,
            47.516231,
            53.709807,
            50.503887,
            42.733883,
            45.1,
            35.126413,
            56.26392,
            58.595272,
            61.92411,
            46.227638,
            51.165691,
            39.074208,
            47.162494,
            64.963051,
            53.41291,
            41.87194,
            49.815273,
            35.937496,
            52.132633,
            41.608635,
            60.472024,
            51.919438,
            39.399872,
            45.943161,
            44.016521,
            48.669026,
            46.151241,
            40.463667,
            60.128161,
            46.818188,
            48.379433,
            55.378051
           ],
           "legendgroup": "",
           "lon": [
            20.168331,
            14.550072,
            27.953389,
            4.469936,
            25.48583,
            15.2,
            33.429859,
            9.501785,
            25.013607,
            25.748151,
            2.213749,
            10.451526,
            21.824312,
            19.503304,
            -19.020835,
            -8.24389,
            12.56738,
            6.129583,
            14.375416,
            5.291266,
            21.745275,
            8.468946,
            19.145136,
            -8.224454,
            24.96676,
            21.005859,
            19.699024,
            14.995463,
            -3.74922,
            18.643501,
            8.227512,
            31.16558,
            -3.435973
           ],
           "marker": {
            "color": [
             53,
             21212,
             718,
             15277,
             4388,
             2927,
             700,
             44362,
             0,
             11801,
             137316,
             699996,
             2394,
             8040,
             284,
             7103,
             20674,
             1822,
             1942,
             118172,
             1273,
             43015,
             4585,
             355,
             2040,
             148259,
             352,
             243,
             5369,
             74889,
             48010,
             2334,
             303163
            ],
            "coloraxis": "coloraxis",
            "size": [
             2005,
             2005,
             2005,
             2005,
             2005,
             2005,
             2005,
             2005,
             2005,
             2005,
             2005,
             2005,
             2005,
             2005,
             2005,
             2005,
             2005,
             2005,
             2005,
             2005,
             2005,
             2005,
             2005,
             2005,
             2005,
             2005,
             2005,
             2005,
             2005,
             2005,
             2005,
             2005,
             2005
            ],
            "sizemode": "area",
            "sizeref": 20.17,
            "symbol": "circle"
           },
           "mode": "markers",
           "name": "",
           "showlegend": false,
           "type": "scattergeo"
          }
         ],
         "name": "2005"
        },
        {
         "data": [
          {
           "customdata": [
            [
             56,
             0,
             41.153332,
             20.168331
            ],
            [
             25475,
             1,
             47.516231,
             14.550072
            ],
            [
             683,
             1,
             53.709807,
             27.953389
            ],
            [
             16811,
             0,
             50.503887,
             4.469936
            ],
            [
             4479,
             0,
             42.733883,
             25.48583
            ],
            [
             2442,
             0,
             45.1,
             15.2
            ],
            [
             926,
             0,
             35.126413,
             33.429859
            ],
            [
             36650,
             0,
             56.26392,
             9.501785
            ],
            [
             0,
             0,
             58.595272,
             25.013607
            ],
            [
             11827,
             0,
             61.92411,
             25.748151
            ],
            [
             145996,
             34,
             46.227638,
             2.213749
            ],
            [
             605329,
             4,
             51.165691,
             10.451526
            ],
            [
             2292,
             23,
             39.074208,
             21.824312
            ],
            [
             8068,
             0,
             47.162494,
             19.503304
            ],
            [
             254,
             0,
             64.963051,
             -19.020835
            ],
            [
             7904,
             1,
             53.41291,
             -8.24389
            ],
            [
             26870,
             4,
             41.87194,
             12.56738
            ],
            [
             2206,
             0,
             49.815273,
             6.129583
            ],
            [
             2407,
             0,
             35.937496,
             14.375416
            ],
            [
             100565,
             0,
             52.132633,
             5.291266
            ],
            [
             1239,
             3,
             41.608635,
             21.745275
            ],
            [
             43315,
             1,
             60.472024,
             8.468946
            ],
            [
             6786,
             0,
             51.919438,
             19.145136
            ],
            [
             322,
             0,
             39.399872,
             -8.224454
            ],
            [
             1636,
             0,
             45.943161,
             24.96676
            ],
            [
             98995,
             2,
             44.016521,
             21.005859
            ],
            [
             235,
             0,
             48.669026,
             19.699024
            ],
            [
             249,
             0,
             46.151241,
             14.995463
            ],
            [
             5269,
             23,
             40.463667,
             -3.74922
            ],
            [
             79895,
             1,
             60.128161,
             18.643501
            ],
            [
             48508,
             0,
             46.818188,
             8.227512
            ],
            [
             2267,
             0,
             48.379433,
             31.16558
            ],
            [
             301537,
             6,
             55.378051,
             -3.435973
            ]
           ],
           "geo": "geo",
           "hovertemplate": "<b>%{hovertext}</b><br><br>Year=%{marker.size}<br>Refugees under UNHCR's mandate=%{marker.color}<br>Terrorist attacks=%{customdata[1]}<extra></extra>",
           "hovertext": [
            "Albania",
            "Austria",
            "Belarus",
            "Belgium",
            "Bulgaria",
            "Croatia",
            "Cyprus",
            "Denmark",
            "Estonia",
            "Finland",
            "France",
            "Germany",
            "Greece",
            "Hungary",
            "Iceland",
            "Ireland",
            "Italy",
            "Luxembourg",
            "Malta",
            "Netherlands",
            "North Macedonia",
            "Norway",
            "Poland",
            "Portugal",
            "Romania",
            "Serbia",
            "Slovakia",
            "Slovenia",
            "Spain",
            "Sweden",
            "Switzerland",
            "Ukraine",
            "United Kingdom"
           ],
           "lat": [
            41.153332,
            47.516231,
            53.709807,
            50.503887,
            42.733883,
            45.1,
            35.126413,
            56.26392,
            58.595272,
            61.92411,
            46.227638,
            51.165691,
            39.074208,
            47.162494,
            64.963051,
            53.41291,
            41.87194,
            49.815273,
            35.937496,
            52.132633,
            41.608635,
            60.472024,
            51.919438,
            39.399872,
            45.943161,
            44.016521,
            48.669026,
            46.151241,
            40.463667,
            60.128161,
            46.818188,
            48.379433,
            55.378051
           ],
           "legendgroup": "",
           "lon": [
            20.168331,
            14.550072,
            27.953389,
            4.469936,
            25.48583,
            15.2,
            33.429859,
            9.501785,
            25.013607,
            25.748151,
            2.213749,
            10.451526,
            21.824312,
            19.503304,
            -19.020835,
            -8.24389,
            12.56738,
            6.129583,
            14.375416,
            5.291266,
            21.745275,
            8.468946,
            19.145136,
            -8.224454,
            24.96676,
            21.005859,
            19.699024,
            14.995463,
            -3.74922,
            18.643501,
            8.227512,
            31.16558,
            -3.435973
           ],
           "marker": {
            "color": [
             56,
             25475,
             683,
             16811,
             4479,
             2442,
             926,
             36650,
             0,
             11827,
             145996,
             605329,
             2292,
             8068,
             254,
             7904,
             26870,
             2206,
             2407,
             100565,
             1239,
             43315,
             6786,
             322,
             1636,
             98995,
             235,
             249,
             5269,
             79895,
             48508,
             2267,
             301537
            ],
            "coloraxis": "coloraxis",
            "size": [
             2006,
             2006,
             2006,
             2006,
             2006,
             2006,
             2006,
             2006,
             2006,
             2006,
             2006,
             2006,
             2006,
             2006,
             2006,
             2006,
             2006,
             2006,
             2006,
             2006,
             2006,
             2006,
             2006,
             2006,
             2006,
             2006,
             2006,
             2006,
             2006,
             2006,
             2006,
             2006,
             2006
            ],
            "sizemode": "area",
            "sizeref": 20.17,
            "symbol": "circle"
           },
           "mode": "markers",
           "name": "",
           "showlegend": false,
           "type": "scattergeo"
          }
         ],
         "name": "2006"
        },
        {
         "data": [
          {
           "customdata": [
            [
             68,
             0,
             41.153332,
             20.168331
            ],
            [
             30767,
             1,
             47.516231,
             14.550072
            ],
            [
             643,
             0,
             53.709807,
             27.953389
            ],
            [
             17578,
             1,
             50.503887,
             4.469936
            ],
            [
             4808,
             0,
             42.733883,
             25.48583
            ],
            [
             1641,
             0,
             45.1,
             15.2
            ],
            [
             1194,
             1,
             35.126413,
             33.429859
            ],
            [
             26779,
             0,
             56.26392,
             9.501785
            ],
            [
             6,
             0,
             58.595272,
             25.013607
            ],
            [
             6201,
             1,
             61.92411,
             25.748151
            ],
            [
             151789,
             16,
             46.227638,
             2.213749
            ],
            [
             578866,
             3,
             51.165691,
             10.451526
            ],
            [
             2228,
             15,
             39.074208,
             21.824312
            ],
            [
             8124,
             0,
             47.162494,
             19.503304
            ],
            [
             41,
             0,
             64.963051,
             -19.020835
            ],
            [
             9318,
             1,
             53.41291,
             -8.24389
            ],
            [
             38061,
             0,
             41.87194,
             12.56738
            ],
            [
             2737,
             0,
             49.815273,
             6.129583
            ],
            [
             3003,
             0,
             35.937496,
             14.375416
            ],
            [
             86576,
             0,
             52.132633,
             5.291266
            ],
            [
             1234,
             1,
             41.608635,
             21.745275
            ],
            [
             34499,
             0,
             60.472024,
             8.468946
            ],
            [
             10037,
             0,
             51.919438,
             19.145136
            ],
            [
             346,
             0,
             39.399872,
             -8.224454
            ],
            [
             1741,
             0,
             45.943161,
             24.96676
            ],
            [
             97991,
             0,
             44.016521,
             21.005859
            ],
            [
             265,
             0,
             48.669026,
             19.699024
            ],
            [
             255,
             0,
             46.151241,
             14.995463
            ],
            [
             5143,
             11,
             40.463667,
             -3.74922
            ],
            [
             75055,
             0,
             60.128161,
             18.643501
            ],
            [
             45642,
             2,
             46.818188,
             8.227512
            ],
            [
             7272,
             1,
             48.379433,
             31.16558
            ],
            [
             299701,
             20,
             55.378051,
             -3.435973
            ]
           ],
           "geo": "geo",
           "hovertemplate": "<b>%{hovertext}</b><br><br>Year=%{marker.size}<br>Refugees under UNHCR's mandate=%{marker.color}<br>Terrorist attacks=%{customdata[1]}<extra></extra>",
           "hovertext": [
            "Albania",
            "Austria",
            "Belarus",
            "Belgium",
            "Bulgaria",
            "Croatia",
            "Cyprus",
            "Denmark",
            "Estonia",
            "Finland",
            "France",
            "Germany",
            "Greece",
            "Hungary",
            "Iceland",
            "Ireland",
            "Italy",
            "Luxembourg",
            "Malta",
            "Netherlands",
            "North Macedonia",
            "Norway",
            "Poland",
            "Portugal",
            "Romania",
            "Serbia",
            "Slovakia",
            "Slovenia",
            "Spain",
            "Sweden",
            "Switzerland",
            "Ukraine",
            "United Kingdom"
           ],
           "lat": [
            41.153332,
            47.516231,
            53.709807,
            50.503887,
            42.733883,
            45.1,
            35.126413,
            56.26392,
            58.595272,
            61.92411,
            46.227638,
            51.165691,
            39.074208,
            47.162494,
            64.963051,
            53.41291,
            41.87194,
            49.815273,
            35.937496,
            52.132633,
            41.608635,
            60.472024,
            51.919438,
            39.399872,
            45.943161,
            44.016521,
            48.669026,
            46.151241,
            40.463667,
            60.128161,
            46.818188,
            48.379433,
            55.378051
           ],
           "legendgroup": "",
           "lon": [
            20.168331,
            14.550072,
            27.953389,
            4.469936,
            25.48583,
            15.2,
            33.429859,
            9.501785,
            25.013607,
            25.748151,
            2.213749,
            10.451526,
            21.824312,
            19.503304,
            -19.020835,
            -8.24389,
            12.56738,
            6.129583,
            14.375416,
            5.291266,
            21.745275,
            8.468946,
            19.145136,
            -8.224454,
            24.96676,
            21.005859,
            19.699024,
            14.995463,
            -3.74922,
            18.643501,
            8.227512,
            31.16558,
            -3.435973
           ],
           "marker": {
            "color": [
             68,
             30767,
             643,
             17578,
             4808,
             1641,
             1194,
             26779,
             6,
             6201,
             151789,
             578866,
             2228,
             8124,
             41,
             9318,
             38061,
             2737,
             3003,
             86576,
             1234,
             34499,
             10037,
             346,
             1741,
             97991,
             265,
             255,
             5143,
             75055,
             45642,
             7272,
             299701
            ],
            "coloraxis": "coloraxis",
            "size": [
             2007,
             2007,
             2007,
             2007,
             2007,
             2007,
             2007,
             2007,
             2007,
             2007,
             2007,
             2007,
             2007,
             2007,
             2007,
             2007,
             2007,
             2007,
             2007,
             2007,
             2007,
             2007,
             2007,
             2007,
             2007,
             2007,
             2007,
             2007,
             2007,
             2007,
             2007,
             2007,
             2007
            ],
            "sizemode": "area",
            "sizeref": 20.17,
            "symbol": "circle"
           },
           "mode": "markers",
           "name": "",
           "showlegend": false,
           "type": "scattergeo"
          }
         ],
         "name": "2007"
        },
        {
         "data": [
          {
           "customdata": [
            [
             57,
             0,
             41.153332,
             20.168331
            ],
            [
             37546,
             7,
             47.516231,
             14.550072
            ],
            [
             602,
             1,
             53.709807,
             27.953389
            ],
            [
             17025,
             0,
             50.503887,
             4.469936
            ],
            [
             5108,
             2,
             42.733883,
             25.48583
            ],
            [
             1591,
             2,
             45.1,
             15.2
            ],
            [
             1458,
             0,
             35.126413,
             33.429859
            ],
            [
             23385,
             1,
             56.26392,
             9.501785
            ],
            [
             16,
             0,
             58.595272,
             25.013607
            ],
            [
             6621,
             1,
             61.92411,
             25.748151
            ],
            [
             171206,
             13,
             46.227638,
             2.213749
            ],
            [
             582719,
             3,
             51.165691,
             10.451526
            ],
            [
             2169,
             53,
             39.074208,
             21.824312
            ],
            [
             7740,
             2,
             47.162494,
             19.503304
            ],
            [
             39,
             0,
             64.963051,
             -19.020835
            ],
            [
             9714,
             5,
             53.41291,
             -8.24389
            ],
            [
             47059,
             2,
             41.87194,
             12.56738
            ],
            [
             3109,
             0,
             49.815273,
             6.129583
            ],
            [
             4329,
             0,
             35.937496,
             14.375416
            ],
            [
             77589,
             1,
             52.132633,
             5.291266
            ],
            [
             1671,
             9,
             41.608635,
             21.745275
            ],
            [
             36076,
             0,
             60.472024,
             8.468946
            ],
            [
             12761,
             0,
             51.919438,
             19.145136
            ],
            [
             393,
             0,
             39.399872,
             -8.224454
            ],
            [
             1586,
             1,
             45.943161,
             24.96676
            ],
            [
             96735,
             4,
             44.016521,
             21.005859
            ],
            [
             301,
             0,
             48.669026,
             19.699024
            ],
            [
             257,
             0,
             46.151241,
             14.995463
            ],
            [
             4649,
             37,
             40.463667,
             -3.74922
            ],
            [
             77016,
             1,
             60.128161,
             18.643501
            ],
            [
             46131,
             0,
             46.818188,
             8.227512
            ],
            [
             7189,
             1,
             48.379433,
             31.16558
            ],
            [
             292081,
             39,
             55.378051,
             -3.435973
            ]
           ],
           "geo": "geo",
           "hovertemplate": "<b>%{hovertext}</b><br><br>Year=%{marker.size}<br>Refugees under UNHCR's mandate=%{marker.color}<br>Terrorist attacks=%{customdata[1]}<extra></extra>",
           "hovertext": [
            "Albania",
            "Austria",
            "Belarus",
            "Belgium",
            "Bulgaria",
            "Croatia",
            "Cyprus",
            "Denmark",
            "Estonia",
            "Finland",
            "France",
            "Germany",
            "Greece",
            "Hungary",
            "Iceland",
            "Ireland",
            "Italy",
            "Luxembourg",
            "Malta",
            "Netherlands",
            "North Macedonia",
            "Norway",
            "Poland",
            "Portugal",
            "Romania",
            "Serbia",
            "Slovakia",
            "Slovenia",
            "Spain",
            "Sweden",
            "Switzerland",
            "Ukraine",
            "United Kingdom"
           ],
           "lat": [
            41.153332,
            47.516231,
            53.709807,
            50.503887,
            42.733883,
            45.1,
            35.126413,
            56.26392,
            58.595272,
            61.92411,
            46.227638,
            51.165691,
            39.074208,
            47.162494,
            64.963051,
            53.41291,
            41.87194,
            49.815273,
            35.937496,
            52.132633,
            41.608635,
            60.472024,
            51.919438,
            39.399872,
            45.943161,
            44.016521,
            48.669026,
            46.151241,
            40.463667,
            60.128161,
            46.818188,
            48.379433,
            55.378051
           ],
           "legendgroup": "",
           "lon": [
            20.168331,
            14.550072,
            27.953389,
            4.469936,
            25.48583,
            15.2,
            33.429859,
            9.501785,
            25.013607,
            25.748151,
            2.213749,
            10.451526,
            21.824312,
            19.503304,
            -19.020835,
            -8.24389,
            12.56738,
            6.129583,
            14.375416,
            5.291266,
            21.745275,
            8.468946,
            19.145136,
            -8.224454,
            24.96676,
            21.005859,
            19.699024,
            14.995463,
            -3.74922,
            18.643501,
            8.227512,
            31.16558,
            -3.435973
           ],
           "marker": {
            "color": [
             57,
             37546,
             602,
             17025,
             5108,
             1591,
             1458,
             23385,
             16,
             6621,
             171206,
             582719,
             2169,
             7740,
             39,
             9714,
             47059,
             3109,
             4329,
             77589,
             1671,
             36076,
             12761,
             393,
             1586,
             96735,
             301,
             257,
             4649,
             77016,
             46131,
             7189,
             292081
            ],
            "coloraxis": "coloraxis",
            "size": [
             2008,
             2008,
             2008,
             2008,
             2008,
             2008,
             2008,
             2008,
             2008,
             2008,
             2008,
             2008,
             2008,
             2008,
             2008,
             2008,
             2008,
             2008,
             2008,
             2008,
             2008,
             2008,
             2008,
             2008,
             2008,
             2008,
             2008,
             2008,
             2008,
             2008,
             2008,
             2008,
             2008
            ],
            "sizemode": "area",
            "sizeref": 20.17,
            "symbol": "circle"
           },
           "mode": "markers",
           "name": "",
           "showlegend": false,
           "type": "scattergeo"
          }
         ],
         "name": "2008"
        },
        {
         "data": [
          {
           "customdata": [
            [
             69,
             1,
             41.153332,
             20.168331
            ],
            [
             38895,
             3,
             47.516231,
             14.550072
            ],
            [
             578,
             0,
             53.709807,
             27.953389
            ],
            [
             15536,
             1,
             50.503887,
             4.469936
            ],
            [
             5375,
             0,
             42.733883,
             25.48583
            ],
            [
             1240,
             1,
             45.1,
             15.2
            ],
            [
             2888,
             0,
             35.126413,
             33.429859
            ],
            [
             20340,
             0,
             56.26392,
             9.501785
            ],
            [
             16,
             0,
             58.595272,
             25.013607
            ],
            [
             7448,
             0,
             61.92411,
             25.748151
            ],
            [
             196364,
             9,
             46.227638,
             2.213749
            ],
            [
             593787,
             4,
             51.165691,
             10.451526
            ],
            [
             1700,
             115,
             39.074208,
             21.824312
            ],
            [
             6041,
             1,
             47.162494,
             19.503304
            ],
            [
             58,
             0,
             64.963051,
             -19.020835
            ],
            [
             9561,
             0,
             53.41291,
             -8.24389
            ],
            [
             54962,
             4,
             41.87194,
             12.56738
            ],
            [
             3230,
             0,
             49.815273,
             6.129583
            ],
            [
             5951,
             0,
             35.937496,
             14.375416
            ],
            [
             75996,
             1,
             52.132633,
             5.291266
            ],
            [
             1541,
             1,
             41.608635,
             21.745275
            ],
            [
             37806,
             0,
             60.472024,
             8.468946
            ],
            [
             15299,
             0,
             51.919438,
             19.145136
            ],
            [
             383,
             0,
             39.399872,
             -8.224454
            ],
            [
             1065,
             0,
             45.943161,
             24.96676
            ],
            [
             86348,
             3,
             44.016521,
             21.005859
            ],
            [
             387,
             0,
             48.669026,
             19.699024
            ],
            [
             281,
             0,
             46.151241,
             14.995463
            ],
            [
             3960,
             21,
             40.463667,
             -3.74922
            ],
            [
             81346,
             1,
             60.128161,
             18.643501
            ],
            [
             46204,
             0,
             46.818188,
             8.227512
            ],
            [
             7321,
             2,
             48.379433,
             31.16558
            ],
            [
             269355,
             23,
             55.378051,
             -3.435973
            ]
           ],
           "geo": "geo",
           "hovertemplate": "<b>%{hovertext}</b><br><br>Year=%{marker.size}<br>Refugees under UNHCR's mandate=%{marker.color}<br>Terrorist attacks=%{customdata[1]}<extra></extra>",
           "hovertext": [
            "Albania",
            "Austria",
            "Belarus",
            "Belgium",
            "Bulgaria",
            "Croatia",
            "Cyprus",
            "Denmark",
            "Estonia",
            "Finland",
            "France",
            "Germany",
            "Greece",
            "Hungary",
            "Iceland",
            "Ireland",
            "Italy",
            "Luxembourg",
            "Malta",
            "Netherlands",
            "North Macedonia",
            "Norway",
            "Poland",
            "Portugal",
            "Romania",
            "Serbia",
            "Slovakia",
            "Slovenia",
            "Spain",
            "Sweden",
            "Switzerland",
            "Ukraine",
            "United Kingdom"
           ],
           "lat": [
            41.153332,
            47.516231,
            53.709807,
            50.503887,
            42.733883,
            45.1,
            35.126413,
            56.26392,
            58.595272,
            61.92411,
            46.227638,
            51.165691,
            39.074208,
            47.162494,
            64.963051,
            53.41291,
            41.87194,
            49.815273,
            35.937496,
            52.132633,
            41.608635,
            60.472024,
            51.919438,
            39.399872,
            45.943161,
            44.016521,
            48.669026,
            46.151241,
            40.463667,
            60.128161,
            46.818188,
            48.379433,
            55.378051
           ],
           "legendgroup": "",
           "lon": [
            20.168331,
            14.550072,
            27.953389,
            4.469936,
            25.48583,
            15.2,
            33.429859,
            9.501785,
            25.013607,
            25.748151,
            2.213749,
            10.451526,
            21.824312,
            19.503304,
            -19.020835,
            -8.24389,
            12.56738,
            6.129583,
            14.375416,
            5.291266,
            21.745275,
            8.468946,
            19.145136,
            -8.224454,
            24.96676,
            21.005859,
            19.699024,
            14.995463,
            -3.74922,
            18.643501,
            8.227512,
            31.16558,
            -3.435973
           ],
           "marker": {
            "color": [
             69,
             38895,
             578,
             15536,
             5375,
             1240,
             2888,
             20340,
             16,
             7448,
             196364,
             593787,
             1700,
             6041,
             58,
             9561,
             54962,
             3230,
             5951,
             75996,
             1541,
             37806,
             15299,
             383,
             1065,
             86348,
             387,
             281,
             3960,
             81346,
             46204,
             7321,
             269355
            ],
            "coloraxis": "coloraxis",
            "size": [
             2009,
             2009,
             2009,
             2009,
             2009,
             2009,
             2009,
             2009,
             2009,
             2009,
             2009,
             2009,
             2009,
             2009,
             2009,
             2009,
             2009,
             2009,
             2009,
             2009,
             2009,
             2009,
             2009,
             2009,
             2009,
             2009,
             2009,
             2009,
             2009,
             2009,
             2009,
             2009,
             2009
            ],
            "sizemode": "area",
            "sizeref": 20.17,
            "symbol": "circle"
           },
           "mode": "markers",
           "name": "",
           "showlegend": false,
           "type": "scattergeo"
          }
         ],
         "name": "2009"
        },
        {
         "data": [
          {
           "customdata": [
            [
             75,
             0,
             41.153332,
             20.168331
            ],
            [
             42613,
             0,
             47.516231,
             14.550072
            ],
            [
             587,
             2,
             53.709807,
             27.953389
            ],
            [
             17891,
             0,
             50.503887,
             4.469936
            ],
            [
             5519,
             0,
             42.733883,
             25.48583
            ],
            [
             933,
             0,
             45.1,
             15.2
            ],
            [
             3397,
             0,
             35.126413,
             33.429859
            ],
            [
             17907,
             1,
             56.26392,
             9.501785
            ],
            [
             31,
             0,
             58.595272,
             25.013607
            ],
            [
             8721,
             0,
             61.92411,
             25.748151
            ],
            [
             200687,
             3,
             46.227638,
             2.213749
            ],
            [
             594250,
             1,
             51.165691,
             10.451526
            ],
            [
             1443,
             49,
             39.074208,
             21.824312
            ],
            [
             5400,
             0,
             47.162494,
             19.503304
            ],
            [
             72,
             0,
             64.963051,
             -19.020835
            ],
            [
             9099,
             4,
             53.41291,
             -8.24389
            ],
            [
             56402,
             10,
             41.87194,
             12.56738
            ],
            [
             3254,
             0,
             49.815273,
             6.129583
            ],
            [
             6143,
             0,
             35.937496,
             14.375416
            ],
            [
             74948,
             1,
             52.132633,
             5.291266
            ],
            [
             1397,
             0,
             41.608635,
             21.745275
            ],
            [
             40245,
             1,
             60.472024,
             8.468946
            ],
            [
             15537,
             1,
             51.919438,
             19.145136
            ],
            [
             368,
             0,
             39.399872,
             -8.224454
            ],
            [
             1019,
             0,
             45.943161,
             24.96676
            ],
            [
             73604,
             1,
             44.016521,
             21.005859
            ],
            [
             451,
             0,
             48.669026,
             19.699024
            ],
            [
             315,
             0,
             46.151241,
             14.995463
            ],
            [
             3814,
             3,
             40.463667,
             -3.74922
            ],
            [
             82620,
             3,
             60.128161,
             18.643501
            ],
            [
             48813,
             0,
             46.818188,
             8.227512
            ],
            [
             3016,
             4,
             48.379433,
             31.16558
            ],
            [
             238133,
             57,
             55.378051,
             -3.435973
            ]
           ],
           "geo": "geo",
           "hovertemplate": "<b>%{hovertext}</b><br><br>Year=%{marker.size}<br>Refugees under UNHCR's mandate=%{marker.color}<br>Terrorist attacks=%{customdata[1]}<extra></extra>",
           "hovertext": [
            "Albania",
            "Austria",
            "Belarus",
            "Belgium",
            "Bulgaria",
            "Croatia",
            "Cyprus",
            "Denmark",
            "Estonia",
            "Finland",
            "France",
            "Germany",
            "Greece",
            "Hungary",
            "Iceland",
            "Ireland",
            "Italy",
            "Luxembourg",
            "Malta",
            "Netherlands",
            "North Macedonia",
            "Norway",
            "Poland",
            "Portugal",
            "Romania",
            "Serbia",
            "Slovakia",
            "Slovenia",
            "Spain",
            "Sweden",
            "Switzerland",
            "Ukraine",
            "United Kingdom"
           ],
           "lat": [
            41.153332,
            47.516231,
            53.709807,
            50.503887,
            42.733883,
            45.1,
            35.126413,
            56.26392,
            58.595272,
            61.92411,
            46.227638,
            51.165691,
            39.074208,
            47.162494,
            64.963051,
            53.41291,
            41.87194,
            49.815273,
            35.937496,
            52.132633,
            41.608635,
            60.472024,
            51.919438,
            39.399872,
            45.943161,
            44.016521,
            48.669026,
            46.151241,
            40.463667,
            60.128161,
            46.818188,
            48.379433,
            55.378051
           ],
           "legendgroup": "",
           "lon": [
            20.168331,
            14.550072,
            27.953389,
            4.469936,
            25.48583,
            15.2,
            33.429859,
            9.501785,
            25.013607,
            25.748151,
            2.213749,
            10.451526,
            21.824312,
            19.503304,
            -19.020835,
            -8.24389,
            12.56738,
            6.129583,
            14.375416,
            5.291266,
            21.745275,
            8.468946,
            19.145136,
            -8.224454,
            24.96676,
            21.005859,
            19.699024,
            14.995463,
            -3.74922,
            18.643501,
            8.227512,
            31.16558,
            -3.435973
           ],
           "marker": {
            "color": [
             75,
             42613,
             587,
             17891,
             5519,
             933,
             3397,
             17907,
             31,
             8721,
             200687,
             594250,
             1443,
             5400,
             72,
             9099,
             56402,
             3254,
             6143,
             74948,
             1397,
             40245,
             15537,
             368,
             1019,
             73604,
             451,
             315,
             3814,
             82620,
             48813,
             3016,
             238133
            ],
            "coloraxis": "coloraxis",
            "size": [
             2010,
             2010,
             2010,
             2010,
             2010,
             2010,
             2010,
             2010,
             2010,
             2010,
             2010,
             2010,
             2010,
             2010,
             2010,
             2010,
             2010,
             2010,
             2010,
             2010,
             2010,
             2010,
             2010,
             2010,
             2010,
             2010,
             2010,
             2010,
             2010,
             2010,
             2010,
             2010,
             2010
            ],
            "sizemode": "area",
            "sizeref": 20.17,
            "symbol": "circle"
           },
           "mode": "markers",
           "name": "",
           "showlegend": false,
           "type": "scattergeo"
          }
         ],
         "name": "2010"
        },
        {
         "data": [
          {
           "customdata": [
            [
             79,
             0,
             41.153332,
             20.168331
            ],
            [
             47055,
             1,
             47.516231,
             14.550072
            ],
            [
             594,
             1,
             53.709807,
             27.953389
            ],
            [
             22396,
             0,
             50.503887,
             4.469936
            ],
            [
             5676,
             2,
             42.733883,
             25.48583
            ],
            [
             818,
             0,
             45.1,
             15.2
            ],
            [
             3498,
             0,
             35.126413,
             33.429859
            ],
            [
             13386,
             0,
             56.26392,
             9.501785
            ],
            [
             34,
             1,
             58.595272,
             25.013607
            ],
            [
             9170,
             0,
             61.92411,
             25.748151
            ],
            [
             210207,
             8,
             46.227638,
             2.213749
            ],
            [
             571672,
             8,
             51.165691,
             10.451526
            ],
            [
             1566,
             11,
             39.074208,
             21.824312
            ],
            [
             5085,
             0,
             47.162494,
             19.503304
            ],
            [
             55,
             0,
             64.963051,
             -19.020835
            ],
            [
             8234,
             4,
             53.41291,
             -8.24389
            ],
            [
             58066,
             5,
             41.87194,
             12.56738
            ],
            [
             2855,
             0,
             49.815273,
             6.129583
            ],
            [
             6948,
             0,
             35.937496,
             14.375416
            ],
            [
             74587,
             2,
             52.132633,
             5.291266
            ],
            [
             1129,
             0,
             41.608635,
             21.745275
            ],
            [
             40671,
             3,
             60.472024,
             8.468946
            ],
            [
             15834,
             0,
             51.919438,
             19.145136
            ],
            [
             399,
             2,
             39.399872,
             -8.224454
            ],
            [
             1003,
             0,
             45.943161,
             24.96676
            ],
            [
             70702,
             0,
             44.016521,
             21.005859
            ],
            [
             535,
             0,
             48.669026,
             19.699024
            ],
            [
             134,
             0,
             46.151241,
             14.995463
            ],
            [
             4220,
             0,
             40.463667,
             -3.74922
            ],
            [
             86603,
             1,
             60.128161,
             18.643501
            ],
            [
             50401,
             3,
             46.818188,
             8.227512
            ],
            [
             3168,
             3,
             48.379433,
             31.16558
            ],
            [
             193494,
             47,
             55.378051,
             -3.435973
            ]
           ],
           "geo": "geo",
           "hovertemplate": "<b>%{hovertext}</b><br><br>Year=%{marker.size}<br>Refugees under UNHCR's mandate=%{marker.color}<br>Terrorist attacks=%{customdata[1]}<extra></extra>",
           "hovertext": [
            "Albania",
            "Austria",
            "Belarus",
            "Belgium",
            "Bulgaria",
            "Croatia",
            "Cyprus",
            "Denmark",
            "Estonia",
            "Finland",
            "France",
            "Germany",
            "Greece",
            "Hungary",
            "Iceland",
            "Ireland",
            "Italy",
            "Luxembourg",
            "Malta",
            "Netherlands",
            "North Macedonia",
            "Norway",
            "Poland",
            "Portugal",
            "Romania",
            "Serbia",
            "Slovakia",
            "Slovenia",
            "Spain",
            "Sweden",
            "Switzerland",
            "Ukraine",
            "United Kingdom"
           ],
           "lat": [
            41.153332,
            47.516231,
            53.709807,
            50.503887,
            42.733883,
            45.1,
            35.126413,
            56.26392,
            58.595272,
            61.92411,
            46.227638,
            51.165691,
            39.074208,
            47.162494,
            64.963051,
            53.41291,
            41.87194,
            49.815273,
            35.937496,
            52.132633,
            41.608635,
            60.472024,
            51.919438,
            39.399872,
            45.943161,
            44.016521,
            48.669026,
            46.151241,
            40.463667,
            60.128161,
            46.818188,
            48.379433,
            55.378051
           ],
           "legendgroup": "",
           "lon": [
            20.168331,
            14.550072,
            27.953389,
            4.469936,
            25.48583,
            15.2,
            33.429859,
            9.501785,
            25.013607,
            25.748151,
            2.213749,
            10.451526,
            21.824312,
            19.503304,
            -19.020835,
            -8.24389,
            12.56738,
            6.129583,
            14.375416,
            5.291266,
            21.745275,
            8.468946,
            19.145136,
            -8.224454,
            24.96676,
            21.005859,
            19.699024,
            14.995463,
            -3.74922,
            18.643501,
            8.227512,
            31.16558,
            -3.435973
           ],
           "marker": {
            "color": [
             79,
             47055,
             594,
             22396,
             5676,
             818,
             3498,
             13386,
             34,
             9170,
             210207,
             571672,
             1566,
             5085,
             55,
             8234,
             58066,
             2855,
             6948,
             74587,
             1129,
             40671,
             15834,
             399,
             1003,
             70702,
             535,
             134,
             4220,
             86603,
             50401,
             3168,
             193494
            ],
            "coloraxis": "coloraxis",
            "size": [
             2011,
             2011,
             2011,
             2011,
             2011,
             2011,
             2011,
             2011,
             2011,
             2011,
             2011,
             2011,
             2011,
             2011,
             2011,
             2011,
             2011,
             2011,
             2011,
             2011,
             2011,
             2011,
             2011,
             2011,
             2011,
             2011,
             2011,
             2011,
             2011,
             2011,
             2011,
             2011,
             2011
            ],
            "sizemode": "area",
            "sizeref": 20.17,
            "symbol": "circle"
           },
           "mode": "markers",
           "name": "",
           "showlegend": false,
           "type": "scattergeo"
          }
         ],
         "name": "2011"
        },
        {
         "data": [
          {
           "customdata": [
            [
             84,
             0,
             41.153332,
             20.168331
            ],
            [
             51707,
             0,
             47.516231,
             14.550072
            ],
            [
             572,
             3,
             53.709807,
             27.953389
            ],
            [
             22023,
             1,
             50.503887,
             4.469936
            ],
            [
             2273,
             2,
             42.733883,
             25.48583
            ],
            [
             722,
             0,
             45.1,
             15.2
            ],
            [
             3627,
             1,
             35.126413,
             33.429859
            ],
            [
             11797,
             0,
             56.26392,
             9.501785
            ],
            [
             48,
             0,
             58.595272,
             25.013607
            ],
            [
             9910,
             0,
             61.92411,
             25.748151
            ],
            [
             217865,
             66,
             46.227638,
             2.213749
            ],
            [
             589735,
             5,
             51.165691,
             10.451526
            ],
            [
             2090,
             22,
             39.074208,
             21.824312
            ],
            [
             4034,
             0,
             47.162494,
             19.503304
            ],
            [
             55,
             1,
             64.963051,
             -19.020835
            ],
            [
             6309,
             29,
             53.41291,
             -8.24389
            ],
            [
             64782,
             10,
             41.87194,
             12.56738
            ],
            [
             2910,
             0,
             49.815273,
             6.129583
            ],
            [
             8242,
             0,
             35.937496,
             14.375416
            ],
            [
             71893,
             0,
             52.132633,
             5.291266
            ],
            [
             1076,
             1,
             41.608635,
             21.745275
            ],
            [
             42805,
             0,
             60.472024,
             8.468946
            ],
            [
             15897,
             0,
             51.919438,
             19.145136
            ],
            [
             473,
             0,
             39.399872,
             -8.224454
            ],
            [
             1263,
             0,
             45.943161,
             24.96676
            ],
            [
             66367,
             3,
             44.016521,
             21.005859
            ],
            [
             650,
             0,
             48.669026,
             19.699024
            ],
            [
             169,
             0,
             46.151241,
             14.995463
            ],
            [
             4502,
             1,
             40.463667,
             -3.74922
            ],
            [
             92869,
             2,
             60.128161,
             18.643501
            ],
            [
             50733,
             0,
             46.818188,
             8.227512
            ],
            [
             2790,
             8,
             48.379433,
             31.16558
            ],
            [
             149790,
             55,
             55.378051,
             -3.435973
            ]
           ],
           "geo": "geo",
           "hovertemplate": "<b>%{hovertext}</b><br><br>Year=%{marker.size}<br>Refugees under UNHCR's mandate=%{marker.color}<br>Terrorist attacks=%{customdata[1]}<extra></extra>",
           "hovertext": [
            "Albania",
            "Austria",
            "Belarus",
            "Belgium",
            "Bulgaria",
            "Croatia",
            "Cyprus",
            "Denmark",
            "Estonia",
            "Finland",
            "France",
            "Germany",
            "Greece",
            "Hungary",
            "Iceland",
            "Ireland",
            "Italy",
            "Luxembourg",
            "Malta",
            "Netherlands",
            "North Macedonia",
            "Norway",
            "Poland",
            "Portugal",
            "Romania",
            "Serbia",
            "Slovakia",
            "Slovenia",
            "Spain",
            "Sweden",
            "Switzerland",
            "Ukraine",
            "United Kingdom"
           ],
           "lat": [
            41.153332,
            47.516231,
            53.709807,
            50.503887,
            42.733883,
            45.1,
            35.126413,
            56.26392,
            58.595272,
            61.92411,
            46.227638,
            51.165691,
            39.074208,
            47.162494,
            64.963051,
            53.41291,
            41.87194,
            49.815273,
            35.937496,
            52.132633,
            41.608635,
            60.472024,
            51.919438,
            39.399872,
            45.943161,
            44.016521,
            48.669026,
            46.151241,
            40.463667,
            60.128161,
            46.818188,
            48.379433,
            55.378051
           ],
           "legendgroup": "",
           "lon": [
            20.168331,
            14.550072,
            27.953389,
            4.469936,
            25.48583,
            15.2,
            33.429859,
            9.501785,
            25.013607,
            25.748151,
            2.213749,
            10.451526,
            21.824312,
            19.503304,
            -19.020835,
            -8.24389,
            12.56738,
            6.129583,
            14.375416,
            5.291266,
            21.745275,
            8.468946,
            19.145136,
            -8.224454,
            24.96676,
            21.005859,
            19.699024,
            14.995463,
            -3.74922,
            18.643501,
            8.227512,
            31.16558,
            -3.435973
           ],
           "marker": {
            "color": [
             84,
             51707,
             572,
             22023,
             2273,
             722,
             3627,
             11797,
             48,
             9910,
             217865,
             589735,
             2090,
             4034,
             55,
             6309,
             64782,
             2910,
             8242,
             71893,
             1076,
             42805,
             15897,
             473,
             1263,
             66367,
             650,
             169,
             4502,
             92869,
             50733,
             2790,
             149790
            ],
            "coloraxis": "coloraxis",
            "size": [
             2012,
             2012,
             2012,
             2012,
             2012,
             2012,
             2012,
             2012,
             2012,
             2012,
             2012,
             2012,
             2012,
             2012,
             2012,
             2012,
             2012,
             2012,
             2012,
             2012,
             2012,
             2012,
             2012,
             2012,
             2012,
             2012,
             2012,
             2012,
             2012,
             2012,
             2012,
             2012,
             2012
            ],
            "sizemode": "area",
            "sizeref": 20.17,
            "symbol": "circle"
           },
           "mode": "markers",
           "name": "",
           "showlegend": false,
           "type": "scattergeo"
          }
         ],
         "name": "2012"
        },
        {
         "data": [
          {
           "customdata": [
            [
             96,
             1,
             41.153332,
             20.168331
            ],
            [
             55575,
             1,
             47.516231,
             14.550072
            ],
            [
             599,
             0,
             53.709807,
             27.953389
            ],
            [
             25617,
             0,
             50.503887,
             4.469936
            ],
            [
             4305,
             3,
             42.733883,
             25.48583
            ],
            [
             679,
             2,
             45.1,
             15.2
            ],
            [
             3879,
             9,
             35.126413,
             33.429859
            ],
            [
             13153,
             1,
             56.26392,
             9.501785
            ],
            [
             52,
             0,
             58.595272,
             25.013607
            ],
            [
             11242,
             0,
             61.92411,
             25.748151
            ],
            [
             232487,
             18,
             46.227638,
             2.213749
            ],
            [
             187545,
             0,
             51.165691,
             10.451526
            ],
            [
             3468,
             54,
             39.074208,
             21.824312
            ],
            [
             2422,
             0,
             47.162494,
             19.503304
            ],
            [
             72,
             0,
             64.963051,
             -19.020835
            ],
            [
             5991,
             27,
             53.41291,
             -8.24389
            ],
            [
             76248,
             7,
             41.87194,
             12.56738
            ],
            [
             901,
             0,
             49.815273,
             6.129583
            ],
            [
             9900,
             0,
             35.937496,
             14.375416
            ],
            [
             74700,
             0,
             52.132633,
             5.291266
            ],
            [
             980,
             0,
             41.608635,
             21.745275
            ],
            [
             46088,
             0,
             60.472024,
             8.468946
            ],
            [
             16428,
             0,
             51.919438,
             19.145136
            ],
            [
             596,
             0,
             39.399872,
             -8.224454
            ],
            [
             1747,
             0,
             45.943161,
             24.96676
            ],
            [
             57079,
             0,
             44.016521,
             21.005859
            ],
            [
             691,
             0,
             48.669026,
             19.699024
            ],
            [
             202,
             0,
             46.151241,
             14.995463
            ],
            [
             4641,
             5,
             40.463667,
             -3.74922
            ],
            [
             114172,
             0,
             60.128161,
             18.643501
            ],
            [
             52448,
             2,
             46.818188,
             8.227512
            ],
            [
             2956,
             5,
             48.379433,
             31.16558
            ],
            [
             126036,
             137,
             55.378051,
             -3.435973
            ]
           ],
           "geo": "geo",
           "hovertemplate": "<b>%{hovertext}</b><br><br>Year=%{marker.size}<br>Refugees under UNHCR's mandate=%{marker.color}<br>Terrorist attacks=%{customdata[1]}<extra></extra>",
           "hovertext": [
            "Albania",
            "Austria",
            "Belarus",
            "Belgium",
            "Bulgaria",
            "Croatia",
            "Cyprus",
            "Denmark",
            "Estonia",
            "Finland",
            "France",
            "Germany",
            "Greece",
            "Hungary",
            "Iceland",
            "Ireland",
            "Italy",
            "Luxembourg",
            "Malta",
            "Netherlands",
            "North Macedonia",
            "Norway",
            "Poland",
            "Portugal",
            "Romania",
            "Serbia",
            "Slovakia",
            "Slovenia",
            "Spain",
            "Sweden",
            "Switzerland",
            "Ukraine",
            "United Kingdom"
           ],
           "lat": [
            41.153332,
            47.516231,
            53.709807,
            50.503887,
            42.733883,
            45.1,
            35.126413,
            56.26392,
            58.595272,
            61.92411,
            46.227638,
            51.165691,
            39.074208,
            47.162494,
            64.963051,
            53.41291,
            41.87194,
            49.815273,
            35.937496,
            52.132633,
            41.608635,
            60.472024,
            51.919438,
            39.399872,
            45.943161,
            44.016521,
            48.669026,
            46.151241,
            40.463667,
            60.128161,
            46.818188,
            48.379433,
            55.378051
           ],
           "legendgroup": "",
           "lon": [
            20.168331,
            14.550072,
            27.953389,
            4.469936,
            25.48583,
            15.2,
            33.429859,
            9.501785,
            25.013607,
            25.748151,
            2.213749,
            10.451526,
            21.824312,
            19.503304,
            -19.020835,
            -8.24389,
            12.56738,
            6.129583,
            14.375416,
            5.291266,
            21.745275,
            8.468946,
            19.145136,
            -8.224454,
            24.96676,
            21.005859,
            19.699024,
            14.995463,
            -3.74922,
            18.643501,
            8.227512,
            31.16558,
            -3.435973
           ],
           "marker": {
            "color": [
             96,
             55575,
             599,
             25617,
             4305,
             679,
             3879,
             13153,
             52,
             11242,
             232487,
             187545,
             3468,
             2422,
             72,
             5991,
             76248,
             901,
             9900,
             74700,
             980,
             46088,
             16428,
             596,
             1747,
             57079,
             691,
             202,
             4641,
             114172,
             52448,
             2956,
             126036
            ],
            "coloraxis": "coloraxis",
            "size": [
             2013,
             2013,
             2013,
             2013,
             2013,
             2013,
             2013,
             2013,
             2013,
             2013,
             2013,
             2013,
             2013,
             2013,
             2013,
             2013,
             2013,
             2013,
             2013,
             2013,
             2013,
             2013,
             2013,
             2013,
             2013,
             2013,
             2013,
             2013,
             2013,
             2013,
             2013,
             2013,
             2013
            ],
            "sizemode": "area",
            "sizeref": 20.17,
            "symbol": "circle"
           },
           "mode": "markers",
           "name": "",
           "showlegend": false,
           "type": "scattergeo"
          }
         ],
         "name": "2013"
        },
        {
         "data": [
          {
           "customdata": [
            [
             111,
             2,
             41.153332,
             20.168331
            ],
            [
             60724,
             0,
             47.516231,
             14.550072
            ],
            [
             919,
             0,
             53.709807,
             27.953389
            ],
            [
             29170,
             2,
             50.503887,
             4.469936
            ],
            [
             11026,
             1,
             42.733883,
             25.48583
            ],
            [
             724,
             0,
             45.1,
             15.2
            ],
            [
             5120,
             5,
             35.126413,
             33.429859
            ],
            [
             17767,
             0,
             56.26392,
             9.501785
            ],
            [
             82,
             0,
             58.595272,
             25.013607
            ],
            [
             11783,
             0,
             61.92411,
             25.748151
            ],
            [
             252248,
             14,
             46.227638,
             2.213749
            ],
            [
             216956,
             13,
             51.165691,
             10.451526
            ],
            [
             10292,
             26,
             39.074208,
             21.824312
            ],
            [
             2854,
             1,
             47.162494,
             19.503304
            ],
            [
             93,
             1,
             64.963051,
             -19.020835
            ],
            [
             5832,
             33,
             53.41291,
             -8.24389
            ],
            [
             93712,
             7,
             41.87194,
             12.56738
            ],
            [
             1091,
             0,
             49.815273,
             6.129583
            ],
            [
             6095,
             1,
             35.937496,
             14.375416
            ],
            [
             82483,
             1,
             52.132633,
             5.291266
            ],
            [
             880,
             3,
             41.608635,
             21.745275
            ],
            [
             47025,
             0,
             60.472024,
             8.468946
            ],
            [
             15730,
             0,
             51.919438,
             19.145136
            ],
            [
             704,
             0,
             39.399872,
             -8.224454
            ],
            [
             2171,
             0,
             45.943161,
             24.96676
            ],
            [
             43749,
             0,
             44.016521,
             21.005859
            ],
            [
             791,
             0,
             48.669026,
             19.699024
            ],
            [
             251,
             0,
             46.151241,
             14.995463
            ],
            [
             5797,
             4,
             40.463667,
             -3.74922
            ],
            [
             142197,
             5,
             60.128161,
             18.643501
            ],
            [
             62596,
             0,
             46.818188,
             8.227512
            ],
            [
             3206,
             895,
             48.379433,
             31.16558
            ],
            [
             117226,
             103,
             55.378051,
             -3.435973
            ]
           ],
           "geo": "geo",
           "hovertemplate": "<b>%{hovertext}</b><br><br>Year=%{marker.size}<br>Refugees under UNHCR's mandate=%{marker.color}<br>Terrorist attacks=%{customdata[1]}<extra></extra>",
           "hovertext": [
            "Albania",
            "Austria",
            "Belarus",
            "Belgium",
            "Bulgaria",
            "Croatia",
            "Cyprus",
            "Denmark",
            "Estonia",
            "Finland",
            "France",
            "Germany",
            "Greece",
            "Hungary",
            "Iceland",
            "Ireland",
            "Italy",
            "Luxembourg",
            "Malta",
            "Netherlands",
            "North Macedonia",
            "Norway",
            "Poland",
            "Portugal",
            "Romania",
            "Serbia",
            "Slovakia",
            "Slovenia",
            "Spain",
            "Sweden",
            "Switzerland",
            "Ukraine",
            "United Kingdom"
           ],
           "lat": [
            41.153332,
            47.516231,
            53.709807,
            50.503887,
            42.733883,
            45.1,
            35.126413,
            56.26392,
            58.595272,
            61.92411,
            46.227638,
            51.165691,
            39.074208,
            47.162494,
            64.963051,
            53.41291,
            41.87194,
            49.815273,
            35.937496,
            52.132633,
            41.608635,
            60.472024,
            51.919438,
            39.399872,
            45.943161,
            44.016521,
            48.669026,
            46.151241,
            40.463667,
            60.128161,
            46.818188,
            48.379433,
            55.378051
           ],
           "legendgroup": "",
           "lon": [
            20.168331,
            14.550072,
            27.953389,
            4.469936,
            25.48583,
            15.2,
            33.429859,
            9.501785,
            25.013607,
            25.748151,
            2.213749,
            10.451526,
            21.824312,
            19.503304,
            -19.020835,
            -8.24389,
            12.56738,
            6.129583,
            14.375416,
            5.291266,
            21.745275,
            8.468946,
            19.145136,
            -8.224454,
            24.96676,
            21.005859,
            19.699024,
            14.995463,
            -3.74922,
            18.643501,
            8.227512,
            31.16558,
            -3.435973
           ],
           "marker": {
            "color": [
             111,
             60724,
             919,
             29170,
             11026,
             724,
             5120,
             17767,
             82,
             11783,
             252248,
             216956,
             10292,
             2854,
             93,
             5832,
             93712,
             1091,
             6095,
             82483,
             880,
             47025,
             15730,
             704,
             2171,
             43749,
             791,
             251,
             5797,
             142197,
             62596,
             3206,
             117226
            ],
            "coloraxis": "coloraxis",
            "size": [
             2014,
             2014,
             2014,
             2014,
             2014,
             2014,
             2014,
             2014,
             2014,
             2014,
             2014,
             2014,
             2014,
             2014,
             2014,
             2014,
             2014,
             2014,
             2014,
             2014,
             2014,
             2014,
             2014,
             2014,
             2014,
             2014,
             2014,
             2014,
             2014,
             2014,
             2014,
             2014,
             2014
            ],
            "sizemode": "area",
            "sizeref": 20.17,
            "symbol": "circle"
           },
           "mode": "markers",
           "name": "",
           "showlegend": false,
           "type": "scattergeo"
          }
         ],
         "name": "2014"
        },
        {
         "data": [
          {
           "customdata": [
            [
             109,
             4,
             41.153332,
             20.168331
            ],
            [
             72198,
             0,
             47.516231,
             14.550072
            ],
            [
             1805,
             0,
             53.709807,
             27.953389
            ],
            [
             35302,
             0,
             50.503887,
             4.469936
            ],
            [
             16543,
             2,
             42.733883,
             25.48583
            ],
            [
             517,
             0,
             45.1,
             15.2
            ],
            [
             7062,
             3,
             35.126413,
             33.429859
            ],
            [
             27312,
             4,
             56.26392,
             9.501785
            ],
            [
             158,
             2,
             58.595272,
             25.013607
            ],
            [
             12692,
             9,
             61.92411,
             25.748151
            ],
            [
             273117,
             37,
             46.227638,
             2.213749
            ],
            [
             316098,
             65,
             51.165691,
             10.451526
            ],
            [
             24831,
             31,
             39.074208,
             21.824312
            ],
            [
             4383,
             1,
             47.162494,
             19.503304
            ],
            [
             170,
             0,
             64.963051,
             -19.020835
            ],
            [
             6108,
             28,
             53.41291,
             -8.24389
            ],
            [
             118036,
             5,
             41.87194,
             12.56738
            ],
            [
             1306,
             0,
             49.815273,
             6.129583
            ],
            [
             7068,
             1,
             35.937496,
             14.375416
            ],
            [
             88518,
             3,
             52.132633,
             5.291266
            ],
            [
             697,
             4,
             41.608635,
             21.745275
            ],
            [
             50377,
             0,
             60.472024,
             8.468946
            ],
            [
             14057,
             0,
             51.919438,
             19.145136
            ],
            [
             851,
             0,
             39.399872,
             -8.224454
            ],
            [
             2581,
             0,
             45.943161,
             24.96676
            ],
            [
             35326,
             0,
             44.016521,
             21.005859
            ],
            [
             816,
             0,
             48.669026,
             19.699024
            ],
            [
             284,
             0,
             46.151241,
             14.995463
            ],
            [
             6447,
             1,
             40.463667,
             -3.74922
            ],
            [
             169516,
             32,
             60.128161,
             18.643501
            ],
            [
             73326,
             0,
             46.818188,
             8.227512
            ],
            [
             3261,
             637,
             48.379433,
             31.16558
            ],
            [
             123051,
             114,
             55.378051,
             -3.435973
            ]
           ],
           "geo": "geo",
           "hovertemplate": "<b>%{hovertext}</b><br><br>Year=%{marker.size}<br>Refugees under UNHCR's mandate=%{marker.color}<br>Terrorist attacks=%{customdata[1]}<extra></extra>",
           "hovertext": [
            "Albania",
            "Austria",
            "Belarus",
            "Belgium",
            "Bulgaria",
            "Croatia",
            "Cyprus",
            "Denmark",
            "Estonia",
            "Finland",
            "France",
            "Germany",
            "Greece",
            "Hungary",
            "Iceland",
            "Ireland",
            "Italy",
            "Luxembourg",
            "Malta",
            "Netherlands",
            "North Macedonia",
            "Norway",
            "Poland",
            "Portugal",
            "Romania",
            "Serbia",
            "Slovakia",
            "Slovenia",
            "Spain",
            "Sweden",
            "Switzerland",
            "Ukraine",
            "United Kingdom"
           ],
           "lat": [
            41.153332,
            47.516231,
            53.709807,
            50.503887,
            42.733883,
            45.1,
            35.126413,
            56.26392,
            58.595272,
            61.92411,
            46.227638,
            51.165691,
            39.074208,
            47.162494,
            64.963051,
            53.41291,
            41.87194,
            49.815273,
            35.937496,
            52.132633,
            41.608635,
            60.472024,
            51.919438,
            39.399872,
            45.943161,
            44.016521,
            48.669026,
            46.151241,
            40.463667,
            60.128161,
            46.818188,
            48.379433,
            55.378051
           ],
           "legendgroup": "",
           "lon": [
            20.168331,
            14.550072,
            27.953389,
            4.469936,
            25.48583,
            15.2,
            33.429859,
            9.501785,
            25.013607,
            25.748151,
            2.213749,
            10.451526,
            21.824312,
            19.503304,
            -19.020835,
            -8.24389,
            12.56738,
            6.129583,
            14.375416,
            5.291266,
            21.745275,
            8.468946,
            19.145136,
            -8.224454,
            24.96676,
            21.005859,
            19.699024,
            14.995463,
            -3.74922,
            18.643501,
            8.227512,
            31.16558,
            -3.435973
           ],
           "marker": {
            "color": [
             109,
             72198,
             1805,
             35302,
             16543,
             517,
             7062,
             27312,
             158,
             12692,
             273117,
             316098,
             24831,
             4383,
             170,
             6108,
             118036,
             1306,
             7068,
             88518,
             697,
             50377,
             14057,
             851,
             2581,
             35326,
             816,
             284,
             6447,
             169516,
             73326,
             3261,
             123051
            ],
            "coloraxis": "coloraxis",
            "size": [
             2015,
             2015,
             2015,
             2015,
             2015,
             2015,
             2015,
             2015,
             2015,
             2015,
             2015,
             2015,
             2015,
             2015,
             2015,
             2015,
             2015,
             2015,
             2015,
             2015,
             2015,
             2015,
             2015,
             2015,
             2015,
             2015,
             2015,
             2015,
             2015,
             2015,
             2015,
             2015,
             2015
            ],
            "sizemode": "area",
            "sizeref": 20.17,
            "symbol": "circle"
           },
           "mode": "markers",
           "name": "",
           "showlegend": false,
           "type": "scattergeo"
          }
         ],
         "name": "2015"
        },
        {
         "data": [
          {
           "customdata": [
            [
             141,
             2,
             41.153332,
             20.168331
            ],
            [
             93242,
             3,
             47.516231,
             14.550072
            ],
            [
             1647,
             0,
             53.709807,
             27.953389
            ],
            [
             42158,
             6,
             50.503887,
             4.469936
            ],
            [
             17794,
             1,
             42.733883,
             25.48583
            ],
            [
             300,
             0,
             45.1,
             15.2
            ],
            [
             8478,
             2,
             35.126413,
             33.429859
            ],
            [
             33501,
             1,
             56.26392,
             9.501785
            ],
            [
             312,
             0,
             58.595272,
             25.013607
            ],
            [
             18402,
             3,
             61.92411,
             25.748151
            ],
            [
             304527,
             26,
             46.227638,
             2.213749
            ],
            [
             669468,
             44,
             51.165691,
             10.451526
            ],
            [
             46411,
             31,
             39.074208,
             21.824312
            ],
            [
             4736,
             1,
             47.162494,
             19.503304
            ],
            [
             245,
             0,
             64.963051,
             -19.020835
            ],
            [
             5720,
             15,
             53.41291,
             -8.24389
            ],
            [
             147362,
             11,
             41.87194,
             12.56738
            ],
            [
             2020,
             0,
             49.815273,
             6.129583
            ],
            [
             7941,
             0,
             35.937496,
             14.375416
            ],
            [
             101727,
             6,
             52.132633,
             5.291266
            ],
            [
             634,
             0,
             41.608635,
             21.745275
            ],
            [
             59512,
             0,
             60.472024,
             8.468946
            ],
            [
             11738,
             2,
             51.919438,
             19.145136
            ],
            [
             1189,
             0,
             39.399872,
             -8.224454
            ],
            [
             2880,
             0,
             45.943161,
             24.96676
            ],
            [
             36517,
             0,
             44.016521,
             21.005859
            ],
            [
             980,
             1,
             48.669026,
             19.699024
            ],
            [
             454,
             0,
             46.151241,
             14.995463
            ],
            [
             12983,
             3,
             40.463667,
             -3.74922
            ],
            [
             230158,
             16,
             60.128161,
             18.643501
            ],
            [
             82668,
             1,
             46.818188,
             8.227512
            ],
            [
             3292,
             61,
             48.379433,
             31.16558
            ],
            [
             118973,
             105,
             55.378051,
             -3.435973
            ]
           ],
           "geo": "geo",
           "hovertemplate": "<b>%{hovertext}</b><br><br>Year=%{marker.size}<br>Refugees under UNHCR's mandate=%{marker.color}<br>Terrorist attacks=%{customdata[1]}<extra></extra>",
           "hovertext": [
            "Albania",
            "Austria",
            "Belarus",
            "Belgium",
            "Bulgaria",
            "Croatia",
            "Cyprus",
            "Denmark",
            "Estonia",
            "Finland",
            "France",
            "Germany",
            "Greece",
            "Hungary",
            "Iceland",
            "Ireland",
            "Italy",
            "Luxembourg",
            "Malta",
            "Netherlands",
            "North Macedonia",
            "Norway",
            "Poland",
            "Portugal",
            "Romania",
            "Serbia",
            "Slovakia",
            "Slovenia",
            "Spain",
            "Sweden",
            "Switzerland",
            "Ukraine",
            "United Kingdom"
           ],
           "lat": [
            41.153332,
            47.516231,
            53.709807,
            50.503887,
            42.733883,
            45.1,
            35.126413,
            56.26392,
            58.595272,
            61.92411,
            46.227638,
            51.165691,
            39.074208,
            47.162494,
            64.963051,
            53.41291,
            41.87194,
            49.815273,
            35.937496,
            52.132633,
            41.608635,
            60.472024,
            51.919438,
            39.399872,
            45.943161,
            44.016521,
            48.669026,
            46.151241,
            40.463667,
            60.128161,
            46.818188,
            48.379433,
            55.378051
           ],
           "legendgroup": "",
           "lon": [
            20.168331,
            14.550072,
            27.953389,
            4.469936,
            25.48583,
            15.2,
            33.429859,
            9.501785,
            25.013607,
            25.748151,
            2.213749,
            10.451526,
            21.824312,
            19.503304,
            -19.020835,
            -8.24389,
            12.56738,
            6.129583,
            14.375416,
            5.291266,
            21.745275,
            8.468946,
            19.145136,
            -8.224454,
            24.96676,
            21.005859,
            19.699024,
            14.995463,
            -3.74922,
            18.643501,
            8.227512,
            31.16558,
            -3.435973
           ],
           "marker": {
            "color": [
             141,
             93242,
             1647,
             42158,
             17794,
             300,
             8478,
             33501,
             312,
             18402,
             304527,
             669468,
             46411,
             4736,
             245,
             5720,
             147362,
             2020,
             7941,
             101727,
             634,
             59512,
             11738,
             1189,
             2880,
             36517,
             980,
             454,
             12983,
             230158,
             82668,
             3292,
             118973
            ],
            "coloraxis": "coloraxis",
            "size": [
             2016,
             2016,
             2016,
             2016,
             2016,
             2016,
             2016,
             2016,
             2016,
             2016,
             2016,
             2016,
             2016,
             2016,
             2016,
             2016,
             2016,
             2016,
             2016,
             2016,
             2016,
             2016,
             2016,
             2016,
             2016,
             2016,
             2016,
             2016,
             2016,
             2016,
             2016,
             2016,
             2016
            ],
            "sizemode": "area",
            "sizeref": 20.17,
            "symbol": "circle"
           },
           "mode": "markers",
           "name": "",
           "showlegend": false,
           "type": "scattergeo"
          }
         ],
         "name": "2016"
        },
        {
         "data": [
          {
           "customdata": [
            [
             124,
             1,
             41.153332,
             20.168331
            ],
            [
             115252,
             1,
             47.516231,
             14.550072
            ],
            [
             2155,
             0,
             53.709807,
             27.953389
            ],
            [
             42158,
             3,
             50.503887,
             4.469936
            ],
            [
             19166,
             0,
             42.733883,
             25.48583
            ],
            [
             508,
             0,
             45.1,
             15.2
            ],
            [
             9790,
             0,
             35.126413,
             33.429859
            ],
            [
             35668,
             0,
             56.26392,
             9.501785
            ],
            [
             405,
             0,
             58.595272,
             25.013607
            ],
            [
             20793,
             2,
             61.92411,
             25.748151
            ],
            [
             337158,
             41,
             46.227638,
             2.213749
            ],
            [
             970357,
             27,
             51.165691,
             10.451526
            ],
            [
             38988,
             43,
             39.074208,
             21.824312
            ],
            [
             5671,
             0,
             47.162494,
             19.503304
            ],
            [
             361,
             0,
             64.963051,
             -19.020835
            ],
            [
             6394,
             17,
             53.41291,
             -8.24389
            ],
            [
             167330,
             8,
             41.87194,
             12.56738
            ],
            [
             2020,
             0,
             49.815273,
             6.129583
            ],
            [
             7994,
             3,
             35.937496,
             14.375416
            ],
            [
             103843,
             1,
             52.132633,
             5.291266
            ],
            [
             414,
             1,
             41.608635,
             21.745275
            ],
            [
             59230,
             1,
             60.472024,
             8.468946
            ],
            [
             12225,
             1,
             51.919438,
             19.145136
            ],
            [
             1619,
             0,
             39.399872,
             -8.224454
            ],
            [
             3911,
             0,
             45.943161,
             24.96676
            ],
            [
             32205,
             1,
             44.016521,
             21.005859
            ],
            [
             912,
             0,
             48.669026,
             19.699024
            ],
            [
             611,
             0,
             46.151241,
             14.995463
            ],
            [
             17541,
             4,
             40.463667,
             -3.74922
            ],
            [
             240954,
             18,
             60.128161,
             18.643501
            ],
            [
             93030,
             0,
             46.818188,
             8.227512
            ],
            [
             3241,
             61,
             48.379433,
             31.16558
            ],
            [
             121821,
             122,
             55.378051,
             -3.435973
            ]
           ],
           "geo": "geo",
           "hovertemplate": "<b>%{hovertext}</b><br><br>Year=%{marker.size}<br>Refugees under UNHCR's mandate=%{marker.color}<br>Terrorist attacks=%{customdata[1]}<extra></extra>",
           "hovertext": [
            "Albania",
            "Austria",
            "Belarus",
            "Belgium",
            "Bulgaria",
            "Croatia",
            "Cyprus",
            "Denmark",
            "Estonia",
            "Finland",
            "France",
            "Germany",
            "Greece",
            "Hungary",
            "Iceland",
            "Ireland",
            "Italy",
            "Luxembourg",
            "Malta",
            "Netherlands",
            "North Macedonia",
            "Norway",
            "Poland",
            "Portugal",
            "Romania",
            "Serbia",
            "Slovakia",
            "Slovenia",
            "Spain",
            "Sweden",
            "Switzerland",
            "Ukraine",
            "United Kingdom"
           ],
           "lat": [
            41.153332,
            47.516231,
            53.709807,
            50.503887,
            42.733883,
            45.1,
            35.126413,
            56.26392,
            58.595272,
            61.92411,
            46.227638,
            51.165691,
            39.074208,
            47.162494,
            64.963051,
            53.41291,
            41.87194,
            49.815273,
            35.937496,
            52.132633,
            41.608635,
            60.472024,
            51.919438,
            39.399872,
            45.943161,
            44.016521,
            48.669026,
            46.151241,
            40.463667,
            60.128161,
            46.818188,
            48.379433,
            55.378051
           ],
           "legendgroup": "",
           "lon": [
            20.168331,
            14.550072,
            27.953389,
            4.469936,
            25.48583,
            15.2,
            33.429859,
            9.501785,
            25.013607,
            25.748151,
            2.213749,
            10.451526,
            21.824312,
            19.503304,
            -19.020835,
            -8.24389,
            12.56738,
            6.129583,
            14.375416,
            5.291266,
            21.745275,
            8.468946,
            19.145136,
            -8.224454,
            24.96676,
            21.005859,
            19.699024,
            14.995463,
            -3.74922,
            18.643501,
            8.227512,
            31.16558,
            -3.435973
           ],
           "marker": {
            "color": [
             124,
             115252,
             2155,
             42158,
             19166,
             508,
             9790,
             35668,
             405,
             20793,
             337158,
             970357,
             38988,
             5671,
             361,
             6394,
             167330,
             2020,
             7994,
             103843,
             414,
             59230,
             12225,
             1619,
             3911,
             32205,
             912,
             611,
             17541,
             240954,
             93030,
             3241,
             121821
            ],
            "coloraxis": "coloraxis",
            "size": [
             2017,
             2017,
             2017,
             2017,
             2017,
             2017,
             2017,
             2017,
             2017,
             2017,
             2017,
             2017,
             2017,
             2017,
             2017,
             2017,
             2017,
             2017,
             2017,
             2017,
             2017,
             2017,
             2017,
             2017,
             2017,
             2017,
             2017,
             2017,
             2017,
             2017,
             2017,
             2017,
             2017
            ],
            "sizemode": "area",
            "sizeref": 20.17,
            "symbol": "circle"
           },
           "mode": "markers",
           "name": "",
           "showlegend": false,
           "type": "scattergeo"
          }
         ],
         "name": "2017"
        }
       ],
       "layout": {
        "coloraxis": {
         "cmax": 200000,
         "cmin": 0,
         "colorbar": {
          "title": {
           "text": "Refugees under UNHCR's mandate"
          }
         },
         "colorscale": [
          [
           0,
           "rgb(255,247,236)"
          ],
          [
           0.125,
           "rgb(254,232,200)"
          ],
          [
           0.25,
           "rgb(253,212,158)"
          ],
          [
           0.375,
           "rgb(253,187,132)"
          ],
          [
           0.5,
           "rgb(252,141,89)"
          ],
          [
           0.625,
           "rgb(239,101,72)"
          ],
          [
           0.75,
           "rgb(215,48,31)"
          ],
          [
           0.875,
           "rgb(179,0,0)"
          ],
          [
           1,
           "rgb(127,0,0)"
          ]
         ]
        },
        "geo": {
         "bgcolor": "whitesmoke",
         "center": {},
         "countrycolor": "whitesmoke",
         "domain": {
          "x": [
           0,
           1
          ],
          "y": [
           0,
           1
          ]
         },
         "landcolor": "#26a783",
         "projection": {
          "type": "natural earth"
         },
         "resolution": 50,
         "scope": "europe",
         "showcountries": true,
         "visible": true
        },
        "height": 650,
        "legend": {
         "itemsizing": "constant",
         "tracegroupgap": 0
        },
        "margin": {
         "t": 60
        },
        "sliders": [
         {
          "active": 0,
          "currentvalue": {
           "prefix": "Year="
          },
          "len": 0.9,
          "pad": {
           "b": 10,
           "t": 60
          },
          "steps": [
           {
            "args": [
             [
              "2000"
             ],
             {
              "frame": {
               "duration": 0,
               "redraw": true
              },
              "fromcurrent": true,
              "mode": "immediate",
              "transition": {
               "duration": 0,
               "easing": "linear"
              }
             }
            ],
            "label": "2000",
            "method": "animate"
           },
           {
            "args": [
             [
              "2001"
             ],
             {
              "frame": {
               "duration": 0,
               "redraw": true
              },
              "fromcurrent": true,
              "mode": "immediate",
              "transition": {
               "duration": 0,
               "easing": "linear"
              }
             }
            ],
            "label": "2001",
            "method": "animate"
           },
           {
            "args": [
             [
              "2002"
             ],
             {
              "frame": {
               "duration": 0,
               "redraw": true
              },
              "fromcurrent": true,
              "mode": "immediate",
              "transition": {
               "duration": 0,
               "easing": "linear"
              }
             }
            ],
            "label": "2002",
            "method": "animate"
           },
           {
            "args": [
             [
              "2003"
             ],
             {
              "frame": {
               "duration": 0,
               "redraw": true
              },
              "fromcurrent": true,
              "mode": "immediate",
              "transition": {
               "duration": 0,
               "easing": "linear"
              }
             }
            ],
            "label": "2003",
            "method": "animate"
           },
           {
            "args": [
             [
              "2004"
             ],
             {
              "frame": {
               "duration": 0,
               "redraw": true
              },
              "fromcurrent": true,
              "mode": "immediate",
              "transition": {
               "duration": 0,
               "easing": "linear"
              }
             }
            ],
            "label": "2004",
            "method": "animate"
           },
           {
            "args": [
             [
              "2005"
             ],
             {
              "frame": {
               "duration": 0,
               "redraw": true
              },
              "fromcurrent": true,
              "mode": "immediate",
              "transition": {
               "duration": 0,
               "easing": "linear"
              }
             }
            ],
            "label": "2005",
            "method": "animate"
           },
           {
            "args": [
             [
              "2006"
             ],
             {
              "frame": {
               "duration": 0,
               "redraw": true
              },
              "fromcurrent": true,
              "mode": "immediate",
              "transition": {
               "duration": 0,
               "easing": "linear"
              }
             }
            ],
            "label": "2006",
            "method": "animate"
           },
           {
            "args": [
             [
              "2007"
             ],
             {
              "frame": {
               "duration": 0,
               "redraw": true
              },
              "fromcurrent": true,
              "mode": "immediate",
              "transition": {
               "duration": 0,
               "easing": "linear"
              }
             }
            ],
            "label": "2007",
            "method": "animate"
           },
           {
            "args": [
             [
              "2008"
             ],
             {
              "frame": {
               "duration": 0,
               "redraw": true
              },
              "fromcurrent": true,
              "mode": "immediate",
              "transition": {
               "duration": 0,
               "easing": "linear"
              }
             }
            ],
            "label": "2008",
            "method": "animate"
           },
           {
            "args": [
             [
              "2009"
             ],
             {
              "frame": {
               "duration": 0,
               "redraw": true
              },
              "fromcurrent": true,
              "mode": "immediate",
              "transition": {
               "duration": 0,
               "easing": "linear"
              }
             }
            ],
            "label": "2009",
            "method": "animate"
           },
           {
            "args": [
             [
              "2010"
             ],
             {
              "frame": {
               "duration": 0,
               "redraw": true
              },
              "fromcurrent": true,
              "mode": "immediate",
              "transition": {
               "duration": 0,
               "easing": "linear"
              }
             }
            ],
            "label": "2010",
            "method": "animate"
           },
           {
            "args": [
             [
              "2011"
             ],
             {
              "frame": {
               "duration": 0,
               "redraw": true
              },
              "fromcurrent": true,
              "mode": "immediate",
              "transition": {
               "duration": 0,
               "easing": "linear"
              }
             }
            ],
            "label": "2011",
            "method": "animate"
           },
           {
            "args": [
             [
              "2012"
             ],
             {
              "frame": {
               "duration": 0,
               "redraw": true
              },
              "fromcurrent": true,
              "mode": "immediate",
              "transition": {
               "duration": 0,
               "easing": "linear"
              }
             }
            ],
            "label": "2012",
            "method": "animate"
           },
           {
            "args": [
             [
              "2013"
             ],
             {
              "frame": {
               "duration": 0,
               "redraw": true
              },
              "fromcurrent": true,
              "mode": "immediate",
              "transition": {
               "duration": 0,
               "easing": "linear"
              }
             }
            ],
            "label": "2013",
            "method": "animate"
           },
           {
            "args": [
             [
              "2014"
             ],
             {
              "frame": {
               "duration": 0,
               "redraw": true
              },
              "fromcurrent": true,
              "mode": "immediate",
              "transition": {
               "duration": 0,
               "easing": "linear"
              }
             }
            ],
            "label": "2014",
            "method": "animate"
           },
           {
            "args": [
             [
              "2015"
             ],
             {
              "frame": {
               "duration": 0,
               "redraw": true
              },
              "fromcurrent": true,
              "mode": "immediate",
              "transition": {
               "duration": 0,
               "easing": "linear"
              }
             }
            ],
            "label": "2015",
            "method": "animate"
           },
           {
            "args": [
             [
              "2016"
             ],
             {
              "frame": {
               "duration": 0,
               "redraw": true
              },
              "fromcurrent": true,
              "mode": "immediate",
              "transition": {
               "duration": 0,
               "easing": "linear"
              }
             }
            ],
            "label": "2016",
            "method": "animate"
           },
           {
            "args": [
             [
              "2017"
             ],
             {
              "frame": {
               "duration": 0,
               "redraw": true
              },
              "fromcurrent": true,
              "mode": "immediate",
              "transition": {
               "duration": 0,
               "easing": "linear"
              }
             }
            ],
            "label": "2017",
            "method": "animate"
           }
          ],
          "x": 0.1,
          "xanchor": "left",
          "y": 0,
          "yanchor": "top"
         }
        ],
        "template": {
         "data": {
          "bar": [
           {
            "error_x": {
             "color": "#2a3f5f"
            },
            "error_y": {
             "color": "#2a3f5f"
            },
            "marker": {
             "line": {
              "color": "#E5ECF6",
              "width": 0.5
             },
             "pattern": {
              "fillmode": "overlay",
              "size": 10,
              "solidity": 0.2
             }
            },
            "type": "bar"
           }
          ],
          "barpolar": [
           {
            "marker": {
             "line": {
              "color": "#E5ECF6",
              "width": 0.5
             },
             "pattern": {
              "fillmode": "overlay",
              "size": 10,
              "solidity": 0.2
             }
            },
            "type": "barpolar"
           }
          ],
          "carpet": [
           {
            "aaxis": {
             "endlinecolor": "#2a3f5f",
             "gridcolor": "white",
             "linecolor": "white",
             "minorgridcolor": "white",
             "startlinecolor": "#2a3f5f"
            },
            "baxis": {
             "endlinecolor": "#2a3f5f",
             "gridcolor": "white",
             "linecolor": "white",
             "minorgridcolor": "white",
             "startlinecolor": "#2a3f5f"
            },
            "type": "carpet"
           }
          ],
          "choropleth": [
           {
            "colorbar": {
             "outlinewidth": 0,
             "ticks": ""
            },
            "type": "choropleth"
           }
          ],
          "contour": [
           {
            "colorbar": {
             "outlinewidth": 0,
             "ticks": ""
            },
            "colorscale": [
             [
              0,
              "#0d0887"
             ],
             [
              0.1111111111111111,
              "#46039f"
             ],
             [
              0.2222222222222222,
              "#7201a8"
             ],
             [
              0.3333333333333333,
              "#9c179e"
             ],
             [
              0.4444444444444444,
              "#bd3786"
             ],
             [
              0.5555555555555556,
              "#d8576b"
             ],
             [
              0.6666666666666666,
              "#ed7953"
             ],
             [
              0.7777777777777778,
              "#fb9f3a"
             ],
             [
              0.8888888888888888,
              "#fdca26"
             ],
             [
              1,
              "#f0f921"
             ]
            ],
            "type": "contour"
           }
          ],
          "contourcarpet": [
           {
            "colorbar": {
             "outlinewidth": 0,
             "ticks": ""
            },
            "type": "contourcarpet"
           }
          ],
          "heatmap": [
           {
            "colorbar": {
             "outlinewidth": 0,
             "ticks": ""
            },
            "colorscale": [
             [
              0,
              "#0d0887"
             ],
             [
              0.1111111111111111,
              "#46039f"
             ],
             [
              0.2222222222222222,
              "#7201a8"
             ],
             [
              0.3333333333333333,
              "#9c179e"
             ],
             [
              0.4444444444444444,
              "#bd3786"
             ],
             [
              0.5555555555555556,
              "#d8576b"
             ],
             [
              0.6666666666666666,
              "#ed7953"
             ],
             [
              0.7777777777777778,
              "#fb9f3a"
             ],
             [
              0.8888888888888888,
              "#fdca26"
             ],
             [
              1,
              "#f0f921"
             ]
            ],
            "type": "heatmap"
           }
          ],
          "heatmapgl": [
           {
            "colorbar": {
             "outlinewidth": 0,
             "ticks": ""
            },
            "colorscale": [
             [
              0,
              "#0d0887"
             ],
             [
              0.1111111111111111,
              "#46039f"
             ],
             [
              0.2222222222222222,
              "#7201a8"
             ],
             [
              0.3333333333333333,
              "#9c179e"
             ],
             [
              0.4444444444444444,
              "#bd3786"
             ],
             [
              0.5555555555555556,
              "#d8576b"
             ],
             [
              0.6666666666666666,
              "#ed7953"
             ],
             [
              0.7777777777777778,
              "#fb9f3a"
             ],
             [
              0.8888888888888888,
              "#fdca26"
             ],
             [
              1,
              "#f0f921"
             ]
            ],
            "type": "heatmapgl"
           }
          ],
          "histogram": [
           {
            "marker": {
             "pattern": {
              "fillmode": "overlay",
              "size": 10,
              "solidity": 0.2
             }
            },
            "type": "histogram"
           }
          ],
          "histogram2d": [
           {
            "colorbar": {
             "outlinewidth": 0,
             "ticks": ""
            },
            "colorscale": [
             [
              0,
              "#0d0887"
             ],
             [
              0.1111111111111111,
              "#46039f"
             ],
             [
              0.2222222222222222,
              "#7201a8"
             ],
             [
              0.3333333333333333,
              "#9c179e"
             ],
             [
              0.4444444444444444,
              "#bd3786"
             ],
             [
              0.5555555555555556,
              "#d8576b"
             ],
             [
              0.6666666666666666,
              "#ed7953"
             ],
             [
              0.7777777777777778,
              "#fb9f3a"
             ],
             [
              0.8888888888888888,
              "#fdca26"
             ],
             [
              1,
              "#f0f921"
             ]
            ],
            "type": "histogram2d"
           }
          ],
          "histogram2dcontour": [
           {
            "colorbar": {
             "outlinewidth": 0,
             "ticks": ""
            },
            "colorscale": [
             [
              0,
              "#0d0887"
             ],
             [
              0.1111111111111111,
              "#46039f"
             ],
             [
              0.2222222222222222,
              "#7201a8"
             ],
             [
              0.3333333333333333,
              "#9c179e"
             ],
             [
              0.4444444444444444,
              "#bd3786"
             ],
             [
              0.5555555555555556,
              "#d8576b"
             ],
             [
              0.6666666666666666,
              "#ed7953"
             ],
             [
              0.7777777777777778,
              "#fb9f3a"
             ],
             [
              0.8888888888888888,
              "#fdca26"
             ],
             [
              1,
              "#f0f921"
             ]
            ],
            "type": "histogram2dcontour"
           }
          ],
          "mesh3d": [
           {
            "colorbar": {
             "outlinewidth": 0,
             "ticks": ""
            },
            "type": "mesh3d"
           }
          ],
          "parcoords": [
           {
            "line": {
             "colorbar": {
              "outlinewidth": 0,
              "ticks": ""
             }
            },
            "type": "parcoords"
           }
          ],
          "pie": [
           {
            "automargin": true,
            "type": "pie"
           }
          ],
          "scatter": [
           {
            "fillpattern": {
             "fillmode": "overlay",
             "size": 10,
             "solidity": 0.2
            },
            "type": "scatter"
           }
          ],
          "scatter3d": [
           {
            "line": {
             "colorbar": {
              "outlinewidth": 0,
              "ticks": ""
             }
            },
            "marker": {
             "colorbar": {
              "outlinewidth": 0,
              "ticks": ""
             }
            },
            "type": "scatter3d"
           }
          ],
          "scattercarpet": [
           {
            "marker": {
             "colorbar": {
              "outlinewidth": 0,
              "ticks": ""
             }
            },
            "type": "scattercarpet"
           }
          ],
          "scattergeo": [
           {
            "marker": {
             "colorbar": {
              "outlinewidth": 0,
              "ticks": ""
             }
            },
            "type": "scattergeo"
           }
          ],
          "scattergl": [
           {
            "marker": {
             "colorbar": {
              "outlinewidth": 0,
              "ticks": ""
             }
            },
            "type": "scattergl"
           }
          ],
          "scattermapbox": [
           {
            "marker": {
             "colorbar": {
              "outlinewidth": 0,
              "ticks": ""
             }
            },
            "type": "scattermapbox"
           }
          ],
          "scatterpolar": [
           {
            "marker": {
             "colorbar": {
              "outlinewidth": 0,
              "ticks": ""
             }
            },
            "type": "scatterpolar"
           }
          ],
          "scatterpolargl": [
           {
            "marker": {
             "colorbar": {
              "outlinewidth": 0,
              "ticks": ""
             }
            },
            "type": "scatterpolargl"
           }
          ],
          "scatterternary": [
           {
            "marker": {
             "colorbar": {
              "outlinewidth": 0,
              "ticks": ""
             }
            },
            "type": "scatterternary"
           }
          ],
          "surface": [
           {
            "colorbar": {
             "outlinewidth": 0,
             "ticks": ""
            },
            "colorscale": [
             [
              0,
              "#0d0887"
             ],
             [
              0.1111111111111111,
              "#46039f"
             ],
             [
              0.2222222222222222,
              "#7201a8"
             ],
             [
              0.3333333333333333,
              "#9c179e"
             ],
             [
              0.4444444444444444,
              "#bd3786"
             ],
             [
              0.5555555555555556,
              "#d8576b"
             ],
             [
              0.6666666666666666,
              "#ed7953"
             ],
             [
              0.7777777777777778,
              "#fb9f3a"
             ],
             [
              0.8888888888888888,
              "#fdca26"
             ],
             [
              1,
              "#f0f921"
             ]
            ],
            "type": "surface"
           }
          ],
          "table": [
           {
            "cells": {
             "fill": {
              "color": "#EBF0F8"
             },
             "line": {
              "color": "white"
             }
            },
            "header": {
             "fill": {
              "color": "#C8D4E3"
             },
             "line": {
              "color": "white"
             }
            },
            "type": "table"
           }
          ]
         },
         "layout": {
          "annotationdefaults": {
           "arrowcolor": "#2a3f5f",
           "arrowhead": 0,
           "arrowwidth": 1
          },
          "autotypenumbers": "strict",
          "coloraxis": {
           "colorbar": {
            "outlinewidth": 0,
            "ticks": ""
           }
          },
          "colorscale": {
           "diverging": [
            [
             0,
             "#8e0152"
            ],
            [
             0.1,
             "#c51b7d"
            ],
            [
             0.2,
             "#de77ae"
            ],
            [
             0.3,
             "#f1b6da"
            ],
            [
             0.4,
             "#fde0ef"
            ],
            [
             0.5,
             "#f7f7f7"
            ],
            [
             0.6,
             "#e6f5d0"
            ],
            [
             0.7,
             "#b8e186"
            ],
            [
             0.8,
             "#7fbc41"
            ],
            [
             0.9,
             "#4d9221"
            ],
            [
             1,
             "#276419"
            ]
           ],
           "sequential": [
            [
             0,
             "#0d0887"
            ],
            [
             0.1111111111111111,
             "#46039f"
            ],
            [
             0.2222222222222222,
             "#7201a8"
            ],
            [
             0.3333333333333333,
             "#9c179e"
            ],
            [
             0.4444444444444444,
             "#bd3786"
            ],
            [
             0.5555555555555556,
             "#d8576b"
            ],
            [
             0.6666666666666666,
             "#ed7953"
            ],
            [
             0.7777777777777778,
             "#fb9f3a"
            ],
            [
             0.8888888888888888,
             "#fdca26"
            ],
            [
             1,
             "#f0f921"
            ]
           ],
           "sequentialminus": [
            [
             0,
             "#0d0887"
            ],
            [
             0.1111111111111111,
             "#46039f"
            ],
            [
             0.2222222222222222,
             "#7201a8"
            ],
            [
             0.3333333333333333,
             "#9c179e"
            ],
            [
             0.4444444444444444,
             "#bd3786"
            ],
            [
             0.5555555555555556,
             "#d8576b"
            ],
            [
             0.6666666666666666,
             "#ed7953"
            ],
            [
             0.7777777777777778,
             "#fb9f3a"
            ],
            [
             0.8888888888888888,
             "#fdca26"
            ],
            [
             1,
             "#f0f921"
            ]
           ]
          },
          "colorway": [
           "#636efa",
           "#EF553B",
           "#00cc96",
           "#ab63fa",
           "#FFA15A",
           "#19d3f3",
           "#FF6692",
           "#B6E880",
           "#FF97FF",
           "#FECB52"
          ],
          "font": {
           "color": "#2a3f5f"
          },
          "geo": {
           "bgcolor": "white",
           "lakecolor": "white",
           "landcolor": "#E5ECF6",
           "showlakes": true,
           "showland": true,
           "subunitcolor": "white"
          },
          "hoverlabel": {
           "align": "left"
          },
          "hovermode": "closest",
          "mapbox": {
           "style": "light"
          },
          "paper_bgcolor": "white",
          "plot_bgcolor": "#E5ECF6",
          "polar": {
           "angularaxis": {
            "gridcolor": "white",
            "linecolor": "white",
            "ticks": ""
           },
           "bgcolor": "#E5ECF6",
           "radialaxis": {
            "gridcolor": "white",
            "linecolor": "white",
            "ticks": ""
           }
          },
          "scene": {
           "xaxis": {
            "backgroundcolor": "#E5ECF6",
            "gridcolor": "white",
            "gridwidth": 2,
            "linecolor": "white",
            "showbackground": true,
            "ticks": "",
            "zerolinecolor": "white"
           },
           "yaxis": {
            "backgroundcolor": "#E5ECF6",
            "gridcolor": "white",
            "gridwidth": 2,
            "linecolor": "white",
            "showbackground": true,
            "ticks": "",
            "zerolinecolor": "white"
           },
           "zaxis": {
            "backgroundcolor": "#E5ECF6",
            "gridcolor": "white",
            "gridwidth": 2,
            "linecolor": "white",
            "showbackground": true,
            "ticks": "",
            "zerolinecolor": "white"
           }
          },
          "shapedefaults": {
           "line": {
            "color": "#2a3f5f"
           }
          },
          "ternary": {
           "aaxis": {
            "gridcolor": "white",
            "linecolor": "white",
            "ticks": ""
           },
           "baxis": {
            "gridcolor": "white",
            "linecolor": "white",
            "ticks": ""
           },
           "bgcolor": "#E5ECF6",
           "caxis": {
            "gridcolor": "white",
            "linecolor": "white",
            "ticks": ""
           }
          },
          "title": {
           "x": 0.05
          },
          "xaxis": {
           "automargin": true,
           "gridcolor": "white",
           "linecolor": "white",
           "ticks": "",
           "title": {
            "standoff": 15
           },
           "zerolinecolor": "white",
           "zerolinewidth": 2
          },
          "yaxis": {
           "automargin": true,
           "gridcolor": "white",
           "linecolor": "white",
           "ticks": "",
           "title": {
            "standoff": 15
           },
           "zerolinecolor": "white",
           "zerolinewidth": 2
          }
         }
        },
        "title": {
         "text": "Hoeveelheid vluchtelingen en terroristische aanvallen tussen 2000 en 2017"
        },
        "updatemenus": [
         {
          "buttons": [
           {
            "args": [
             null,
             {
              "frame": {
               "duration": 500,
               "redraw": true
              },
              "fromcurrent": true,
              "mode": "immediate",
              "transition": {
               "duration": 500,
               "easing": "linear"
              }
             }
            ],
            "label": "&#9654;",
            "method": "animate"
           },
           {
            "args": [
             [
              null
             ],
             {
              "frame": {
               "duration": 0,
               "redraw": true
              },
              "fromcurrent": true,
              "mode": "immediate",
              "transition": {
               "duration": 0,
               "easing": "linear"
              }
             }
            ],
            "label": "&#9724;",
            "method": "animate"
           }
          ],
          "direction": "left",
          "pad": {
           "r": 10,
           "t": 70
          },
          "showactive": false,
          "type": "buttons",
          "x": 0.1,
          "xanchor": "right",
          "y": 0,
          "yanchor": "top"
         }
        ],
        "width": 950
       }
      }
     },
     "metadata": {},
     "output_type": "display_data"
    }
   ],
   "source": [
    "#Stap 1: Laad en filter de relevante datasets\n",
    "data_raw = pd.read_csv('migranten_eu.csv')\n",
    "data_raw.drop(data_raw.loc[data_raw['Year']==1999].index, inplace=True)\n",
    "data_raw.head(5) \n",
    "\n",
    "#Stap 2: migranten totaal europa\n",
    "migranten_totaal_europa = data_raw[['Year', 'Country of asylum', \"Refugees under UNHCR's mandate\"]]\n",
    "\n",
    "migranten_totaal_europa['Country of asylum'] = migranten_totaal_europa['Country of asylum'].replace({'Netherlands (Kingdom of the)': 'Netherlands'})\n",
    "migranten_totaal_europa['Country of asylum'] = migranten_totaal_europa['Country of asylum'].replace({'United Kingdom of Great Britain and Northern Ireland': 'United Kingdom'})\n",
    "migranten_totaal_europa['Country of asylum'] = migranten_totaal_europa['Country of asylum'].replace({'Serbia and Kosovo: S/RES/1244 (1999)': 'Serbia'})\n",
    "\n",
    "migranten_totaal_europa.head(5) \n",
    "\n",
    "#sum migranten totaal europa gegroept door jaar en land\n",
    "df2 = migranten_totaal_europa.groupby(['Year','Country of asylum'], as_index=False)[\"Refugees under UNHCR's mandate\"].sum()\n",
    "print(df2)\n",
    "#df2.to_csv('migranten_per_jaar_per_land.csv')\n",
    "\n",
    "#sum migranten totaal europa gegroept door jaar\n",
    "df3 = migranten_totaal_europa.groupby(['Year'], as_index=False)[\"Refugees under UNHCR's mandate\"].sum()\n",
    "print(df3)\n",
    "#df3.to_csv('migranten_per_jaar_europa.csv')\n",
    "\n",
    "#sum migranten totaal europa gegroept door land\n",
    "df4 = migranten_totaal_europa.groupby(['Country of asylum'], as_index=False)[\"Refugees under UNHCR's mandate\"].sum()\n",
    "print(df4)\n",
    "#df4.to_csv('migranten_per_land_totaal.csv')\n",
    "\n",
    "#longtitude en latitude landen\n",
    "data_lon_lat = pd.read_csv('world_country_and_usa_states_latitude_and_longitude_values.csv').rename(columns={'country': 'Country of asylum'})\n",
    "data_lon_lat['Country of asylum'] = data_lon_lat['Country of asylum'].replace({'Macedonia [FYROM]': 'North Macedonia'})\n",
    "data_lon_lat2 = data_lon_lat[['latitude', 'longitude', 'Country of asylum']]\n",
    "data_lon_lat2.head(5)\n",
    "\n",
    "#data terrorime en land van asiel\n",
    "data_ter = pd.read_csv('terrorism_eu.csv').rename(columns={'country_txt': 'Country of asylum', 'iyear': 'Year', 'multiple': 'Terrorist attacks'})\n",
    "data_ter['Country of asylum'] = data_ter['Country of asylum'].replace({'Macedonia': 'North Macedonia'})\n",
    "data_ter['Country of asylum'] = data_ter['Country of asylum'].replace({'Slovak Republic': 'Slovakia'})\n",
    "data_ter['Country of asylum'] = data_ter['Country of asylum'].replace({'Serbia-Montenegro': 'Serbia'})\n",
    "data_ter = data_ter[['Country of asylum', 'Year', 'Terrorist attacks']]\n",
    "data_ter.head(5)\n",
    "\n",
    "#mergede data van df\n",
    "df_half = df2.merge(data_lon_lat2, on='Country of asylum')\n",
    "df_full = pd.merge(df_half, data_ter,  how='left', left_on=['Country of asylum','Year'], right_on = ['Country of asylum','Year']).fillna(0)\n",
    "df_full.head(500) \n",
    "#df_full.to_csv('test.csv')\n",
    "\n",
    "#map figuur \n",
    "fig = px.scatter_geo(df_full, \n",
    "                     lat='latitude',\n",
    "                     lon='longitude',\n",
    "                     color=\"Refugees under UNHCR's mandate\",\n",
    "                     color_continuous_scale=px.colors.sequential.OrRd,\n",
    "                     height=650,\n",
    "                     width=950,\n",
    "                     hover_name=\"Country of asylum\",\n",
    "                     hover_data={\n",
    "                                \"Refugees under UNHCR's mandate\":True, \n",
    "                                \"Terrorist attacks\":True,\n",
    "                                \"latitude\":False, \n",
    "                                \"longitude\":False,\n",
    "                                },\n",
    "                     projection=\"natural earth\",\n",
    "                     scope=\"europe\",\n",
    "                     size=df_full[\"Year\"],\n",
    "                     size_max=10,\n",
    "                     animation_frame=\"Year\",\n",
    "                     range_color=(0,200000),\n",
    "                    )\n",
    "\n",
    "\n",
    "fig.update_geos(\n",
    "    visible=True, \n",
    "    resolution=50,\n",
    "    showcountries=True, \n",
    "    countrycolor=\"whitesmoke\",\n",
    "    bgcolor='whitesmoke',\n",
    "    landcolor='#26a783',\n",
    ")\n",
    "\n",
    "fig.update_layout(\n",
    "    title='Hoeveelheid vluchtelingen en terroristische aanvallen tussen 2000 en 2017',\n",
    ")\n",
    "\n",
    "fig.update_traces(marker=dict(line=dict(width=0.5, color='black')))\n",
    "fig.show()"
   ]
  },
  {
   "attachments": {},
   "cell_type": "markdown",
   "id": "bb01e374",
   "metadata": {},
   "source": [
    "x"
   ]
  },
  {
   "attachments": {},
   "cell_type": "markdown",
   "id": "dbf82375-b2e8-4a22-b5a9-2c45b960d08a",
   "metadata": {},
   "source": [
    "> *Figuur 3: x"
   ]
  },
  {
   "attachments": {},
   "cell_type": "markdown",
   "id": "c0bcecf9-e17c-477a-a229-55277d48fe64",
   "metadata": {},
   "source": [
    "x"
   ]
  },
  {
   "attachments": {},
   "cell_type": "markdown",
   "id": "fe77097d",
   "metadata": {},
   "source": [
    "### Derde argument eerste perspectief"
   ]
  },
  {
   "cell_type": "code",
   "execution_count": 5,
   "id": "26330b40",
   "metadata": {},
   "outputs": [
    {
     "data": {
      "application/vnd.plotly.v1+json": {
       "config": {
        "plotlyServerURL": "https://plot.ly"
       },
       "data": [
        {
         "marker": {
          "color": "rgb(238, 75, 43)"
         },
         "name": "Vluchtelingen",
         "type": "bar",
         "x": [
          2000,
          2001,
          2002,
          2003,
          2004,
          2005,
          2006,
          2007,
          2008,
          2009,
          2010,
          2011,
          2012,
          2013,
          2014,
          2015,
          2016,
          2017
         ],
         "y": [
          157206,
          146480,
          142170,
          112148,
          73383,
          74889,
          79895,
          75055,
          77016,
          81346,
          82620,
          86603,
          92869,
          114172,
          142197,
          169516,
          230158,
          240954
         ],
         "yaxis": "y"
        },
        {
         "marker": {
          "color": "rgb(129, 133, 137)"
         },
         "name": "Aanslagen",
         "type": "bar",
         "width": 0.4,
         "x": [
          2000,
          2005,
          2006,
          2008,
          2009,
          2010,
          2011,
          2012,
          2014,
          2015,
          2016,
          2017
         ],
         "y": [
          1,
          3,
          1,
          1,
          1,
          3,
          1,
          2,
          5,
          32,
          16,
          18
         ],
         "yaxis": "y2"
        }
       ],
       "layout": {
        "bargap": 0.1,
        "height": 500,
        "plot_bgcolor": "rgb(252,245,245)",
        "template": {
         "data": {
          "bar": [
           {
            "error_x": {
             "color": "#2a3f5f"
            },
            "error_y": {
             "color": "#2a3f5f"
            },
            "marker": {
             "line": {
              "color": "#E5ECF6",
              "width": 0.5
             },
             "pattern": {
              "fillmode": "overlay",
              "size": 10,
              "solidity": 0.2
             }
            },
            "type": "bar"
           }
          ],
          "barpolar": [
           {
            "marker": {
             "line": {
              "color": "#E5ECF6",
              "width": 0.5
             },
             "pattern": {
              "fillmode": "overlay",
              "size": 10,
              "solidity": 0.2
             }
            },
            "type": "barpolar"
           }
          ],
          "carpet": [
           {
            "aaxis": {
             "endlinecolor": "#2a3f5f",
             "gridcolor": "white",
             "linecolor": "white",
             "minorgridcolor": "white",
             "startlinecolor": "#2a3f5f"
            },
            "baxis": {
             "endlinecolor": "#2a3f5f",
             "gridcolor": "white",
             "linecolor": "white",
             "minorgridcolor": "white",
             "startlinecolor": "#2a3f5f"
            },
            "type": "carpet"
           }
          ],
          "choropleth": [
           {
            "colorbar": {
             "outlinewidth": 0,
             "ticks": ""
            },
            "type": "choropleth"
           }
          ],
          "contour": [
           {
            "colorbar": {
             "outlinewidth": 0,
             "ticks": ""
            },
            "colorscale": [
             [
              0,
              "#0d0887"
             ],
             [
              0.1111111111111111,
              "#46039f"
             ],
             [
              0.2222222222222222,
              "#7201a8"
             ],
             [
              0.3333333333333333,
              "#9c179e"
             ],
             [
              0.4444444444444444,
              "#bd3786"
             ],
             [
              0.5555555555555556,
              "#d8576b"
             ],
             [
              0.6666666666666666,
              "#ed7953"
             ],
             [
              0.7777777777777778,
              "#fb9f3a"
             ],
             [
              0.8888888888888888,
              "#fdca26"
             ],
             [
              1,
              "#f0f921"
             ]
            ],
            "type": "contour"
           }
          ],
          "contourcarpet": [
           {
            "colorbar": {
             "outlinewidth": 0,
             "ticks": ""
            },
            "type": "contourcarpet"
           }
          ],
          "heatmap": [
           {
            "colorbar": {
             "outlinewidth": 0,
             "ticks": ""
            },
            "colorscale": [
             [
              0,
              "#0d0887"
             ],
             [
              0.1111111111111111,
              "#46039f"
             ],
             [
              0.2222222222222222,
              "#7201a8"
             ],
             [
              0.3333333333333333,
              "#9c179e"
             ],
             [
              0.4444444444444444,
              "#bd3786"
             ],
             [
              0.5555555555555556,
              "#d8576b"
             ],
             [
              0.6666666666666666,
              "#ed7953"
             ],
             [
              0.7777777777777778,
              "#fb9f3a"
             ],
             [
              0.8888888888888888,
              "#fdca26"
             ],
             [
              1,
              "#f0f921"
             ]
            ],
            "type": "heatmap"
           }
          ],
          "heatmapgl": [
           {
            "colorbar": {
             "outlinewidth": 0,
             "ticks": ""
            },
            "colorscale": [
             [
              0,
              "#0d0887"
             ],
             [
              0.1111111111111111,
              "#46039f"
             ],
             [
              0.2222222222222222,
              "#7201a8"
             ],
             [
              0.3333333333333333,
              "#9c179e"
             ],
             [
              0.4444444444444444,
              "#bd3786"
             ],
             [
              0.5555555555555556,
              "#d8576b"
             ],
             [
              0.6666666666666666,
              "#ed7953"
             ],
             [
              0.7777777777777778,
              "#fb9f3a"
             ],
             [
              0.8888888888888888,
              "#fdca26"
             ],
             [
              1,
              "#f0f921"
             ]
            ],
            "type": "heatmapgl"
           }
          ],
          "histogram": [
           {
            "marker": {
             "pattern": {
              "fillmode": "overlay",
              "size": 10,
              "solidity": 0.2
             }
            },
            "type": "histogram"
           }
          ],
          "histogram2d": [
           {
            "colorbar": {
             "outlinewidth": 0,
             "ticks": ""
            },
            "colorscale": [
             [
              0,
              "#0d0887"
             ],
             [
              0.1111111111111111,
              "#46039f"
             ],
             [
              0.2222222222222222,
              "#7201a8"
             ],
             [
              0.3333333333333333,
              "#9c179e"
             ],
             [
              0.4444444444444444,
              "#bd3786"
             ],
             [
              0.5555555555555556,
              "#d8576b"
             ],
             [
              0.6666666666666666,
              "#ed7953"
             ],
             [
              0.7777777777777778,
              "#fb9f3a"
             ],
             [
              0.8888888888888888,
              "#fdca26"
             ],
             [
              1,
              "#f0f921"
             ]
            ],
            "type": "histogram2d"
           }
          ],
          "histogram2dcontour": [
           {
            "colorbar": {
             "outlinewidth": 0,
             "ticks": ""
            },
            "colorscale": [
             [
              0,
              "#0d0887"
             ],
             [
              0.1111111111111111,
              "#46039f"
             ],
             [
              0.2222222222222222,
              "#7201a8"
             ],
             [
              0.3333333333333333,
              "#9c179e"
             ],
             [
              0.4444444444444444,
              "#bd3786"
             ],
             [
              0.5555555555555556,
              "#d8576b"
             ],
             [
              0.6666666666666666,
              "#ed7953"
             ],
             [
              0.7777777777777778,
              "#fb9f3a"
             ],
             [
              0.8888888888888888,
              "#fdca26"
             ],
             [
              1,
              "#f0f921"
             ]
            ],
            "type": "histogram2dcontour"
           }
          ],
          "mesh3d": [
           {
            "colorbar": {
             "outlinewidth": 0,
             "ticks": ""
            },
            "type": "mesh3d"
           }
          ],
          "parcoords": [
           {
            "line": {
             "colorbar": {
              "outlinewidth": 0,
              "ticks": ""
             }
            },
            "type": "parcoords"
           }
          ],
          "pie": [
           {
            "automargin": true,
            "type": "pie"
           }
          ],
          "scatter": [
           {
            "fillpattern": {
             "fillmode": "overlay",
             "size": 10,
             "solidity": 0.2
            },
            "type": "scatter"
           }
          ],
          "scatter3d": [
           {
            "line": {
             "colorbar": {
              "outlinewidth": 0,
              "ticks": ""
             }
            },
            "marker": {
             "colorbar": {
              "outlinewidth": 0,
              "ticks": ""
             }
            },
            "type": "scatter3d"
           }
          ],
          "scattercarpet": [
           {
            "marker": {
             "colorbar": {
              "outlinewidth": 0,
              "ticks": ""
             }
            },
            "type": "scattercarpet"
           }
          ],
          "scattergeo": [
           {
            "marker": {
             "colorbar": {
              "outlinewidth": 0,
              "ticks": ""
             }
            },
            "type": "scattergeo"
           }
          ],
          "scattergl": [
           {
            "marker": {
             "colorbar": {
              "outlinewidth": 0,
              "ticks": ""
             }
            },
            "type": "scattergl"
           }
          ],
          "scattermapbox": [
           {
            "marker": {
             "colorbar": {
              "outlinewidth": 0,
              "ticks": ""
             }
            },
            "type": "scattermapbox"
           }
          ],
          "scatterpolar": [
           {
            "marker": {
             "colorbar": {
              "outlinewidth": 0,
              "ticks": ""
             }
            },
            "type": "scatterpolar"
           }
          ],
          "scatterpolargl": [
           {
            "marker": {
             "colorbar": {
              "outlinewidth": 0,
              "ticks": ""
             }
            },
            "type": "scatterpolargl"
           }
          ],
          "scatterternary": [
           {
            "marker": {
             "colorbar": {
              "outlinewidth": 0,
              "ticks": ""
             }
            },
            "type": "scatterternary"
           }
          ],
          "surface": [
           {
            "colorbar": {
             "outlinewidth": 0,
             "ticks": ""
            },
            "colorscale": [
             [
              0,
              "#0d0887"
             ],
             [
              0.1111111111111111,
              "#46039f"
             ],
             [
              0.2222222222222222,
              "#7201a8"
             ],
             [
              0.3333333333333333,
              "#9c179e"
             ],
             [
              0.4444444444444444,
              "#bd3786"
             ],
             [
              0.5555555555555556,
              "#d8576b"
             ],
             [
              0.6666666666666666,
              "#ed7953"
             ],
             [
              0.7777777777777778,
              "#fb9f3a"
             ],
             [
              0.8888888888888888,
              "#fdca26"
             ],
             [
              1,
              "#f0f921"
             ]
            ],
            "type": "surface"
           }
          ],
          "table": [
           {
            "cells": {
             "fill": {
              "color": "#EBF0F8"
             },
             "line": {
              "color": "white"
             }
            },
            "header": {
             "fill": {
              "color": "#C8D4E3"
             },
             "line": {
              "color": "white"
             }
            },
            "type": "table"
           }
          ]
         },
         "layout": {
          "annotationdefaults": {
           "arrowcolor": "#2a3f5f",
           "arrowhead": 0,
           "arrowwidth": 1
          },
          "autotypenumbers": "strict",
          "coloraxis": {
           "colorbar": {
            "outlinewidth": 0,
            "ticks": ""
           }
          },
          "colorscale": {
           "diverging": [
            [
             0,
             "#8e0152"
            ],
            [
             0.1,
             "#c51b7d"
            ],
            [
             0.2,
             "#de77ae"
            ],
            [
             0.3,
             "#f1b6da"
            ],
            [
             0.4,
             "#fde0ef"
            ],
            [
             0.5,
             "#f7f7f7"
            ],
            [
             0.6,
             "#e6f5d0"
            ],
            [
             0.7,
             "#b8e186"
            ],
            [
             0.8,
             "#7fbc41"
            ],
            [
             0.9,
             "#4d9221"
            ],
            [
             1,
             "#276419"
            ]
           ],
           "sequential": [
            [
             0,
             "#0d0887"
            ],
            [
             0.1111111111111111,
             "#46039f"
            ],
            [
             0.2222222222222222,
             "#7201a8"
            ],
            [
             0.3333333333333333,
             "#9c179e"
            ],
            [
             0.4444444444444444,
             "#bd3786"
            ],
            [
             0.5555555555555556,
             "#d8576b"
            ],
            [
             0.6666666666666666,
             "#ed7953"
            ],
            [
             0.7777777777777778,
             "#fb9f3a"
            ],
            [
             0.8888888888888888,
             "#fdca26"
            ],
            [
             1,
             "#f0f921"
            ]
           ],
           "sequentialminus": [
            [
             0,
             "#0d0887"
            ],
            [
             0.1111111111111111,
             "#46039f"
            ],
            [
             0.2222222222222222,
             "#7201a8"
            ],
            [
             0.3333333333333333,
             "#9c179e"
            ],
            [
             0.4444444444444444,
             "#bd3786"
            ],
            [
             0.5555555555555556,
             "#d8576b"
            ],
            [
             0.6666666666666666,
             "#ed7953"
            ],
            [
             0.7777777777777778,
             "#fb9f3a"
            ],
            [
             0.8888888888888888,
             "#fdca26"
            ],
            [
             1,
             "#f0f921"
            ]
           ]
          },
          "colorway": [
           "#636efa",
           "#EF553B",
           "#00cc96",
           "#ab63fa",
           "#FFA15A",
           "#19d3f3",
           "#FF6692",
           "#B6E880",
           "#FF97FF",
           "#FECB52"
          ],
          "font": {
           "color": "#2a3f5f"
          },
          "geo": {
           "bgcolor": "white",
           "lakecolor": "white",
           "landcolor": "#E5ECF6",
           "showlakes": true,
           "showland": true,
           "subunitcolor": "white"
          },
          "hoverlabel": {
           "align": "left"
          },
          "hovermode": "closest",
          "mapbox": {
           "style": "light"
          },
          "paper_bgcolor": "white",
          "plot_bgcolor": "#E5ECF6",
          "polar": {
           "angularaxis": {
            "gridcolor": "white",
            "linecolor": "white",
            "ticks": ""
           },
           "bgcolor": "#E5ECF6",
           "radialaxis": {
            "gridcolor": "white",
            "linecolor": "white",
            "ticks": ""
           }
          },
          "scene": {
           "xaxis": {
            "backgroundcolor": "#E5ECF6",
            "gridcolor": "white",
            "gridwidth": 2,
            "linecolor": "white",
            "showbackground": true,
            "ticks": "",
            "zerolinecolor": "white"
           },
           "yaxis": {
            "backgroundcolor": "#E5ECF6",
            "gridcolor": "white",
            "gridwidth": 2,
            "linecolor": "white",
            "showbackground": true,
            "ticks": "",
            "zerolinecolor": "white"
           },
           "zaxis": {
            "backgroundcolor": "#E5ECF6",
            "gridcolor": "white",
            "gridwidth": 2,
            "linecolor": "white",
            "showbackground": true,
            "ticks": "",
            "zerolinecolor": "white"
           }
          },
          "shapedefaults": {
           "line": {
            "color": "#2a3f5f"
           }
          },
          "ternary": {
           "aaxis": {
            "gridcolor": "white",
            "linecolor": "white",
            "ticks": ""
           },
           "baxis": {
            "gridcolor": "white",
            "linecolor": "white",
            "ticks": ""
           },
           "bgcolor": "#E5ECF6",
           "caxis": {
            "gridcolor": "white",
            "linecolor": "white",
            "ticks": ""
           }
          },
          "title": {
           "x": 0.05
          },
          "xaxis": {
           "automargin": true,
           "gridcolor": "white",
           "linecolor": "white",
           "ticks": "",
           "title": {
            "standoff": 15
           },
           "zerolinecolor": "white",
           "zerolinewidth": 2
          },
          "yaxis": {
           "automargin": true,
           "gridcolor": "white",
           "linecolor": "white",
           "ticks": "",
           "title": {
            "standoff": 15
           },
           "zerolinecolor": "white",
           "zerolinewidth": 2
          }
         }
        },
        "title": {
         "text": "Aantal vluchtelingen en terroristische aanslagen in Zweden"
        },
        "xaxis": {
         "title": {
          "text": "Year"
         },
         "type": "category"
        },
        "yaxis": {
         "range": [
          0,
          250000
         ],
         "side": "left",
         "title": {
          "text": "Vluchtelingen onder UNHCR's mandate"
         }
        },
        "yaxis2": {
         "overlaying": "y",
         "range": [
          0,
          35
         ],
         "side": "right",
         "title": {
          "text": "Terroristische aanslagen"
         }
        }
       }
      }
     },
     "metadata": {},
     "output_type": "display_data"
    }
   ],
   "source": [
    "df4 = pd.read_csv('migranten_per_jaar_per_land.csv')\n",
    "df5 = df4[df4.Year.between(2000, 2017)]\n",
    "df10 = df5[df5[\"Country of asylum\"] == 'Sweden']\n",
    "df10.head()\n",
    "\n",
    "df7 = pd.read_csv('aanslagen_per_jaar_per_land.csv')\n",
    "df8 = df7[df7.year.between(2000, 2017)]\n",
    "df11 = df8[df8[\"country\"] == 'Sweden']\n",
    "df11.head()\n",
    "colors = ['rgb(238, 75, 43)', 'rgb(252,245,245)', 'rgb(129, 133, 137)']\n",
    "fig = go.Figure()\n",
    "\n",
    "fig.add_trace(go.Bar(\n",
    "    x=df10['Year'],\n",
    "    y=df10[\"Refugees under UNHCR's mandate\"],\n",
    "    marker_color='rgb(238, 75, 43)',\n",
    "    name=\"Vluchtelingen\",\n",
    "    yaxis='y'  \n",
    "))\n",
    "\n",
    "fig.add_trace(go.Bar(\n",
    "    x=df11['year'],\n",
    "    y=df11[('count')],\n",
    "    marker_color='rgb(129, 133, 137)',\n",
    "    name=\"Aanslagen\",\n",
    "    yaxis='y2',\n",
    "    width=0.4\n",
    "))\n",
    "\n",
    "fig.update_layout(\n",
    "    title='Aantal vluchtelingen en terroristische aanslagen in Zweden',\n",
    "    xaxis=dict(type='category'),\n",
    "    yaxis=dict(range=[0, 250000], title=\"Vluchtelingen onder UNHCR's mandate\" , side='left'),\n",
    "    yaxis2=dict(range=[0, 35], title=\"Terroristische aanslagen\", overlaying='y', side='right'),  \n",
    "    xaxis_title='Year',\n",
    "    height=500,\n",
    "    bargap=0.1,\n",
    "    plot_bgcolor='rgb(252,245,245)',\n",
    ")\n",
    "\n",
    "fig.show()"
   ]
  },
  {
   "attachments": {},
   "cell_type": "markdown",
   "id": "8e01484c",
   "metadata": {},
   "source": [
    "> Figuur 4: Gelijk aan de stijging van het aantal vluchtelingen in Zweden was er ook een stijging van het aantal terroristische aanslagen in Zweden."
   ]
  },
  {
   "attachments": {},
   "cell_type": "markdown",
   "id": "e1ec4c90-ccd9-4940-9a0e-18799c438ef5",
   "metadata": {},
   "source": [
    "## Your Second Perspective"
   ]
  },
  {
   "attachments": {},
   "cell_type": "markdown",
   "id": "005e94a9",
   "metadata": {},
   "source": [
    "x"
   ]
  },
  {
   "attachments": {},
   "cell_type": "markdown",
   "id": "4a3eacb4-4812-474a-9900-71e2ac33cb5f",
   "metadata": {},
   "source": [
    "### The First Argument of Your Second Perspective"
   ]
  },
  {
   "attachments": {},
   "cell_type": "markdown",
   "id": "62b3848e-5c37-482c-a584-c7c2a02a1e95",
   "metadata": {},
   "source": [
    "x"
   ]
  },
  {
   "cell_type": "code",
   "execution_count": 6,
   "id": "982ff45f",
   "metadata": {
    "hideCode": false,
    "tags": [
     "hide-input"
    ]
   },
   "outputs": [
    {
     "data": {
      "application/vnd.plotly.v1+json": {
       "config": {
        "plotlyServerURL": "https://plot.ly"
       },
       "data": [
        {
         "marker": {
          "color": "rgb(238, 75, 43)"
         },
         "name": "Vluchtelingen",
         "type": "bar",
         "x": [
          2000,
          2001,
          2002,
          2003,
          2004,
          2005,
          2006,
          2007,
          2008,
          2009,
          2010,
          2011,
          2012,
          2013,
          2014,
          2015,
          2016,
          2017
         ],
         "y": [
          57624,
          58471,
          54081,
          50126,
          47654,
          48010,
          48508,
          45642,
          46131,
          46204,
          48813,
          50401,
          50733,
          52448,
          62596,
          73326,
          82668,
          93030
         ],
         "yaxis": "y"
        },
        {
         "marker": {
          "color": "rgb(129, 133, 137)"
         },
         "name": "Aanslagen",
         "type": "bar",
         "width": 0.4,
         "x": [
          2000,
          2001,
          2003,
          2007,
          2011,
          2013,
          2016
         ],
         "y": [
          4,
          2,
          1,
          2,
          3,
          2,
          1
         ],
         "yaxis": "y2"
        }
       ],
       "layout": {
        "bargap": 0.1,
        "height": 500,
        "plot_bgcolor": "rgb(252,245,245)",
        "template": {
         "data": {
          "bar": [
           {
            "error_x": {
             "color": "#2a3f5f"
            },
            "error_y": {
             "color": "#2a3f5f"
            },
            "marker": {
             "line": {
              "color": "#E5ECF6",
              "width": 0.5
             },
             "pattern": {
              "fillmode": "overlay",
              "size": 10,
              "solidity": 0.2
             }
            },
            "type": "bar"
           }
          ],
          "barpolar": [
           {
            "marker": {
             "line": {
              "color": "#E5ECF6",
              "width": 0.5
             },
             "pattern": {
              "fillmode": "overlay",
              "size": 10,
              "solidity": 0.2
             }
            },
            "type": "barpolar"
           }
          ],
          "carpet": [
           {
            "aaxis": {
             "endlinecolor": "#2a3f5f",
             "gridcolor": "white",
             "linecolor": "white",
             "minorgridcolor": "white",
             "startlinecolor": "#2a3f5f"
            },
            "baxis": {
             "endlinecolor": "#2a3f5f",
             "gridcolor": "white",
             "linecolor": "white",
             "minorgridcolor": "white",
             "startlinecolor": "#2a3f5f"
            },
            "type": "carpet"
           }
          ],
          "choropleth": [
           {
            "colorbar": {
             "outlinewidth": 0,
             "ticks": ""
            },
            "type": "choropleth"
           }
          ],
          "contour": [
           {
            "colorbar": {
             "outlinewidth": 0,
             "ticks": ""
            },
            "colorscale": [
             [
              0,
              "#0d0887"
             ],
             [
              0.1111111111111111,
              "#46039f"
             ],
             [
              0.2222222222222222,
              "#7201a8"
             ],
             [
              0.3333333333333333,
              "#9c179e"
             ],
             [
              0.4444444444444444,
              "#bd3786"
             ],
             [
              0.5555555555555556,
              "#d8576b"
             ],
             [
              0.6666666666666666,
              "#ed7953"
             ],
             [
              0.7777777777777778,
              "#fb9f3a"
             ],
             [
              0.8888888888888888,
              "#fdca26"
             ],
             [
              1,
              "#f0f921"
             ]
            ],
            "type": "contour"
           }
          ],
          "contourcarpet": [
           {
            "colorbar": {
             "outlinewidth": 0,
             "ticks": ""
            },
            "type": "contourcarpet"
           }
          ],
          "heatmap": [
           {
            "colorbar": {
             "outlinewidth": 0,
             "ticks": ""
            },
            "colorscale": [
             [
              0,
              "#0d0887"
             ],
             [
              0.1111111111111111,
              "#46039f"
             ],
             [
              0.2222222222222222,
              "#7201a8"
             ],
             [
              0.3333333333333333,
              "#9c179e"
             ],
             [
              0.4444444444444444,
              "#bd3786"
             ],
             [
              0.5555555555555556,
              "#d8576b"
             ],
             [
              0.6666666666666666,
              "#ed7953"
             ],
             [
              0.7777777777777778,
              "#fb9f3a"
             ],
             [
              0.8888888888888888,
              "#fdca26"
             ],
             [
              1,
              "#f0f921"
             ]
            ],
            "type": "heatmap"
           }
          ],
          "heatmapgl": [
           {
            "colorbar": {
             "outlinewidth": 0,
             "ticks": ""
            },
            "colorscale": [
             [
              0,
              "#0d0887"
             ],
             [
              0.1111111111111111,
              "#46039f"
             ],
             [
              0.2222222222222222,
              "#7201a8"
             ],
             [
              0.3333333333333333,
              "#9c179e"
             ],
             [
              0.4444444444444444,
              "#bd3786"
             ],
             [
              0.5555555555555556,
              "#d8576b"
             ],
             [
              0.6666666666666666,
              "#ed7953"
             ],
             [
              0.7777777777777778,
              "#fb9f3a"
             ],
             [
              0.8888888888888888,
              "#fdca26"
             ],
             [
              1,
              "#f0f921"
             ]
            ],
            "type": "heatmapgl"
           }
          ],
          "histogram": [
           {
            "marker": {
             "pattern": {
              "fillmode": "overlay",
              "size": 10,
              "solidity": 0.2
             }
            },
            "type": "histogram"
           }
          ],
          "histogram2d": [
           {
            "colorbar": {
             "outlinewidth": 0,
             "ticks": ""
            },
            "colorscale": [
             [
              0,
              "#0d0887"
             ],
             [
              0.1111111111111111,
              "#46039f"
             ],
             [
              0.2222222222222222,
              "#7201a8"
             ],
             [
              0.3333333333333333,
              "#9c179e"
             ],
             [
              0.4444444444444444,
              "#bd3786"
             ],
             [
              0.5555555555555556,
              "#d8576b"
             ],
             [
              0.6666666666666666,
              "#ed7953"
             ],
             [
              0.7777777777777778,
              "#fb9f3a"
             ],
             [
              0.8888888888888888,
              "#fdca26"
             ],
             [
              1,
              "#f0f921"
             ]
            ],
            "type": "histogram2d"
           }
          ],
          "histogram2dcontour": [
           {
            "colorbar": {
             "outlinewidth": 0,
             "ticks": ""
            },
            "colorscale": [
             [
              0,
              "#0d0887"
             ],
             [
              0.1111111111111111,
              "#46039f"
             ],
             [
              0.2222222222222222,
              "#7201a8"
             ],
             [
              0.3333333333333333,
              "#9c179e"
             ],
             [
              0.4444444444444444,
              "#bd3786"
             ],
             [
              0.5555555555555556,
              "#d8576b"
             ],
             [
              0.6666666666666666,
              "#ed7953"
             ],
             [
              0.7777777777777778,
              "#fb9f3a"
             ],
             [
              0.8888888888888888,
              "#fdca26"
             ],
             [
              1,
              "#f0f921"
             ]
            ],
            "type": "histogram2dcontour"
           }
          ],
          "mesh3d": [
           {
            "colorbar": {
             "outlinewidth": 0,
             "ticks": ""
            },
            "type": "mesh3d"
           }
          ],
          "parcoords": [
           {
            "line": {
             "colorbar": {
              "outlinewidth": 0,
              "ticks": ""
             }
            },
            "type": "parcoords"
           }
          ],
          "pie": [
           {
            "automargin": true,
            "type": "pie"
           }
          ],
          "scatter": [
           {
            "fillpattern": {
             "fillmode": "overlay",
             "size": 10,
             "solidity": 0.2
            },
            "type": "scatter"
           }
          ],
          "scatter3d": [
           {
            "line": {
             "colorbar": {
              "outlinewidth": 0,
              "ticks": ""
             }
            },
            "marker": {
             "colorbar": {
              "outlinewidth": 0,
              "ticks": ""
             }
            },
            "type": "scatter3d"
           }
          ],
          "scattercarpet": [
           {
            "marker": {
             "colorbar": {
              "outlinewidth": 0,
              "ticks": ""
             }
            },
            "type": "scattercarpet"
           }
          ],
          "scattergeo": [
           {
            "marker": {
             "colorbar": {
              "outlinewidth": 0,
              "ticks": ""
             }
            },
            "type": "scattergeo"
           }
          ],
          "scattergl": [
           {
            "marker": {
             "colorbar": {
              "outlinewidth": 0,
              "ticks": ""
             }
            },
            "type": "scattergl"
           }
          ],
          "scattermapbox": [
           {
            "marker": {
             "colorbar": {
              "outlinewidth": 0,
              "ticks": ""
             }
            },
            "type": "scattermapbox"
           }
          ],
          "scatterpolar": [
           {
            "marker": {
             "colorbar": {
              "outlinewidth": 0,
              "ticks": ""
             }
            },
            "type": "scatterpolar"
           }
          ],
          "scatterpolargl": [
           {
            "marker": {
             "colorbar": {
              "outlinewidth": 0,
              "ticks": ""
             }
            },
            "type": "scatterpolargl"
           }
          ],
          "scatterternary": [
           {
            "marker": {
             "colorbar": {
              "outlinewidth": 0,
              "ticks": ""
             }
            },
            "type": "scatterternary"
           }
          ],
          "surface": [
           {
            "colorbar": {
             "outlinewidth": 0,
             "ticks": ""
            },
            "colorscale": [
             [
              0,
              "#0d0887"
             ],
             [
              0.1111111111111111,
              "#46039f"
             ],
             [
              0.2222222222222222,
              "#7201a8"
             ],
             [
              0.3333333333333333,
              "#9c179e"
             ],
             [
              0.4444444444444444,
              "#bd3786"
             ],
             [
              0.5555555555555556,
              "#d8576b"
             ],
             [
              0.6666666666666666,
              "#ed7953"
             ],
             [
              0.7777777777777778,
              "#fb9f3a"
             ],
             [
              0.8888888888888888,
              "#fdca26"
             ],
             [
              1,
              "#f0f921"
             ]
            ],
            "type": "surface"
           }
          ],
          "table": [
           {
            "cells": {
             "fill": {
              "color": "#EBF0F8"
             },
             "line": {
              "color": "white"
             }
            },
            "header": {
             "fill": {
              "color": "#C8D4E3"
             },
             "line": {
              "color": "white"
             }
            },
            "type": "table"
           }
          ]
         },
         "layout": {
          "annotationdefaults": {
           "arrowcolor": "#2a3f5f",
           "arrowhead": 0,
           "arrowwidth": 1
          },
          "autotypenumbers": "strict",
          "coloraxis": {
           "colorbar": {
            "outlinewidth": 0,
            "ticks": ""
           }
          },
          "colorscale": {
           "diverging": [
            [
             0,
             "#8e0152"
            ],
            [
             0.1,
             "#c51b7d"
            ],
            [
             0.2,
             "#de77ae"
            ],
            [
             0.3,
             "#f1b6da"
            ],
            [
             0.4,
             "#fde0ef"
            ],
            [
             0.5,
             "#f7f7f7"
            ],
            [
             0.6,
             "#e6f5d0"
            ],
            [
             0.7,
             "#b8e186"
            ],
            [
             0.8,
             "#7fbc41"
            ],
            [
             0.9,
             "#4d9221"
            ],
            [
             1,
             "#276419"
            ]
           ],
           "sequential": [
            [
             0,
             "#0d0887"
            ],
            [
             0.1111111111111111,
             "#46039f"
            ],
            [
             0.2222222222222222,
             "#7201a8"
            ],
            [
             0.3333333333333333,
             "#9c179e"
            ],
            [
             0.4444444444444444,
             "#bd3786"
            ],
            [
             0.5555555555555556,
             "#d8576b"
            ],
            [
             0.6666666666666666,
             "#ed7953"
            ],
            [
             0.7777777777777778,
             "#fb9f3a"
            ],
            [
             0.8888888888888888,
             "#fdca26"
            ],
            [
             1,
             "#f0f921"
            ]
           ],
           "sequentialminus": [
            [
             0,
             "#0d0887"
            ],
            [
             0.1111111111111111,
             "#46039f"
            ],
            [
             0.2222222222222222,
             "#7201a8"
            ],
            [
             0.3333333333333333,
             "#9c179e"
            ],
            [
             0.4444444444444444,
             "#bd3786"
            ],
            [
             0.5555555555555556,
             "#d8576b"
            ],
            [
             0.6666666666666666,
             "#ed7953"
            ],
            [
             0.7777777777777778,
             "#fb9f3a"
            ],
            [
             0.8888888888888888,
             "#fdca26"
            ],
            [
             1,
             "#f0f921"
            ]
           ]
          },
          "colorway": [
           "#636efa",
           "#EF553B",
           "#00cc96",
           "#ab63fa",
           "#FFA15A",
           "#19d3f3",
           "#FF6692",
           "#B6E880",
           "#FF97FF",
           "#FECB52"
          ],
          "font": {
           "color": "#2a3f5f"
          },
          "geo": {
           "bgcolor": "white",
           "lakecolor": "white",
           "landcolor": "#E5ECF6",
           "showlakes": true,
           "showland": true,
           "subunitcolor": "white"
          },
          "hoverlabel": {
           "align": "left"
          },
          "hovermode": "closest",
          "mapbox": {
           "style": "light"
          },
          "paper_bgcolor": "white",
          "plot_bgcolor": "#E5ECF6",
          "polar": {
           "angularaxis": {
            "gridcolor": "white",
            "linecolor": "white",
            "ticks": ""
           },
           "bgcolor": "#E5ECF6",
           "radialaxis": {
            "gridcolor": "white",
            "linecolor": "white",
            "ticks": ""
           }
          },
          "scene": {
           "xaxis": {
            "backgroundcolor": "#E5ECF6",
            "gridcolor": "white",
            "gridwidth": 2,
            "linecolor": "white",
            "showbackground": true,
            "ticks": "",
            "zerolinecolor": "white"
           },
           "yaxis": {
            "backgroundcolor": "#E5ECF6",
            "gridcolor": "white",
            "gridwidth": 2,
            "linecolor": "white",
            "showbackground": true,
            "ticks": "",
            "zerolinecolor": "white"
           },
           "zaxis": {
            "backgroundcolor": "#E5ECF6",
            "gridcolor": "white",
            "gridwidth": 2,
            "linecolor": "white",
            "showbackground": true,
            "ticks": "",
            "zerolinecolor": "white"
           }
          },
          "shapedefaults": {
           "line": {
            "color": "#2a3f5f"
           }
          },
          "ternary": {
           "aaxis": {
            "gridcolor": "white",
            "linecolor": "white",
            "ticks": ""
           },
           "baxis": {
            "gridcolor": "white",
            "linecolor": "white",
            "ticks": ""
           },
           "bgcolor": "#E5ECF6",
           "caxis": {
            "gridcolor": "white",
            "linecolor": "white",
            "ticks": ""
           }
          },
          "title": {
           "x": 0.05
          },
          "xaxis": {
           "automargin": true,
           "gridcolor": "white",
           "linecolor": "white",
           "ticks": "",
           "title": {
            "standoff": 15
           },
           "zerolinecolor": "white",
           "zerolinewidth": 2
          },
          "yaxis": {
           "automargin": true,
           "gridcolor": "white",
           "linecolor": "white",
           "ticks": "",
           "title": {
            "standoff": 15
           },
           "zerolinecolor": "white",
           "zerolinewidth": 2
          }
         }
        },
        "title": {
         "text": "Aantal vluchtelingen en terroristische aanslagen in Zwitserland"
        },
        "xaxis": {
         "title": {
          "text": "Jaar"
         },
         "type": "category"
        },
        "yaxis": {
         "range": [
          0,
          100000
         ],
         "side": "left",
         "title": {
          "text": "Vluchtelingen onder UNHCR's mandate"
         }
        },
        "yaxis2": {
         "overlaying": "y",
         "range": [
          0,
          5
         ],
         "side": "right",
         "title": {
          "text": "Terroristische aanslagen"
         }
        }
       }
      }
     },
     "metadata": {},
     "output_type": "display_data"
    }
   ],
   "source": [
    "import plotly.graph_objs as go\n",
    "import plotly.express as px\n",
    "import pandas as pd\n",
    "import geopandas as gpd\n",
    "import matplotlib.pyplot as plt\n",
    "\n",
    "df4 = pd.read_csv('migranten_per_jaar_per_land.csv')\n",
    "df5 = df4[df4.Year.between(2000, 2017)]\n",
    "df6 = df5[df5[\"Country of asylum\"] == 'Switzerland']\n",
    "\n",
    "df7 = pd.read_csv('aanslagen_per_jaar_per_land.csv')\n",
    "df8 = df7[df7.year.between(2000, 2017)]\n",
    "df9 = df8[df8[\"country\"] == 'Switzerland']\n",
    "\n",
    "colors = ['rgb(238, 75, 43)', 'rgb(252,245,245)', 'rgb(129, 133, 137)']\n",
    "fig = go.Figure()\n",
    "\n",
    "fig.add_trace(go.Bar(\n",
    "    x=df6['Year'],\n",
    "    y=df6[\"Refugees under UNHCR's mandate\"],\n",
    "    marker_color='rgb(238, 75, 43)',\n",
    "    name=\"Vluchtelingen\",\n",
    "    yaxis='y'  \n",
    "))\n",
    "\n",
    "fig.add_trace(go.Bar(\n",
    "    x=df9['year'],\n",
    "    y=df9[('count')],\n",
    "    marker_color='rgb(129, 133, 137)',\n",
    "    name=\"Aanslagen\",\n",
    "    yaxis='y2',\n",
    "    width=0.4  \n",
    "))\n",
    "\n",
    "fig.update_layout(\n",
    "    title='Aantal vluchtelingen en terroristische aanslagen in Zwitserland',\n",
    "    xaxis=dict(type='category'),\n",
    "    yaxis=dict(range=[0, 100000], title=\"Vluchtelingen onder UNHCR's mandate\" , side='left'),\n",
    "    yaxis2=dict(range=[0, 5], title=\"Terroristische aanslagen\", overlaying='y', side='right'),  \n",
    "    xaxis_title='Jaar',\n",
    "    height=500,\n",
    "    bargap=0.1,\n",
    "    plot_bgcolor='rgb(252,245,245)',\n",
    ")\n",
    "\n",
    "fig.show()"
   ]
  },
  {
   "attachments": {},
   "cell_type": "markdown",
   "id": "c3857f81-dcad-489c-a608-3f7f86e6a58e",
   "metadata": {},
   "source": [
    "> *Figuur 5: Er is een stijging te zien in het aantal vluchtelingen in Zwitserland. De terroristische aanslagen lijken willekeurig plaats te vinden."
   ]
  },
  {
   "attachments": {},
   "cell_type": "markdown",
   "id": "52d494f5",
   "metadata": {},
   "source": [
    "x"
   ]
  },
  {
   "attachments": {},
   "cell_type": "markdown",
   "id": "bf522e30-74ba-4774-a6a0-a94f3d827123",
   "metadata": {},
   "source": [
    "### The Second Argument of Your Second Perspective"
   ]
  },
  {
   "attachments": {},
   "cell_type": "markdown",
   "id": "51f7128d-2dd5-42ff-a178-bd7d6457d749",
   "metadata": {},
   "source": [
    "x"
   ]
  },
  {
   "cell_type": "code",
   "execution_count": 7,
   "id": "e6372635",
   "metadata": {
    "hideCode": true,
    "tags": [
     "hide-input"
    ]
   },
   "outputs": [
    {
     "data": {
      "application/vnd.plotly.v1+json": {
       "config": {
        "plotlyServerURL": "https://plot.ly"
       },
       "data": [
        {
         "marker": {
          "color": "rgb(238, 75, 43)"
         },
         "name": "Vluchtelingen",
         "type": "bar",
         "x": [
          2000,
          2001,
          2002,
          2003,
          2004,
          2005,
          2006,
          2007,
          2008,
          2009,
          2010,
          2011,
          2012,
          2013,
          2014,
          2015,
          2016,
          2017
         ],
         "y": [
          6982,
          6804,
          6783,
          5912,
          5690,
          5369,
          5269,
          5143,
          4649,
          3960,
          3814,
          4220,
          4502,
          4641,
          5797,
          6447,
          12983,
          17541
         ],
         "yaxis": "y"
        },
        {
         "marker": {
          "color": "rgb(129, 133, 137)"
         },
         "name": "Aanslagen",
         "type": "bar",
         "width": 0.4,
         "x": [
          2000,
          2001,
          2002,
          2003,
          2004,
          2005,
          2006,
          2007,
          2008,
          2009,
          2010,
          2012,
          2013,
          2014,
          2015,
          2016,
          2017
         ],
         "y": [
          112,
          79,
          41,
          21,
          31,
          24,
          23,
          11,
          37,
          21,
          3,
          1,
          5,
          4,
          1,
          3,
          4
         ],
         "yaxis": "y2"
        }
       ],
       "layout": {
        "bargap": 0.1,
        "height": 500,
        "plot_bgcolor": "rgb(252,245,245)",
        "template": {
         "data": {
          "bar": [
           {
            "error_x": {
             "color": "#2a3f5f"
            },
            "error_y": {
             "color": "#2a3f5f"
            },
            "marker": {
             "line": {
              "color": "#E5ECF6",
              "width": 0.5
             },
             "pattern": {
              "fillmode": "overlay",
              "size": 10,
              "solidity": 0.2
             }
            },
            "type": "bar"
           }
          ],
          "barpolar": [
           {
            "marker": {
             "line": {
              "color": "#E5ECF6",
              "width": 0.5
             },
             "pattern": {
              "fillmode": "overlay",
              "size": 10,
              "solidity": 0.2
             }
            },
            "type": "barpolar"
           }
          ],
          "carpet": [
           {
            "aaxis": {
             "endlinecolor": "#2a3f5f",
             "gridcolor": "white",
             "linecolor": "white",
             "minorgridcolor": "white",
             "startlinecolor": "#2a3f5f"
            },
            "baxis": {
             "endlinecolor": "#2a3f5f",
             "gridcolor": "white",
             "linecolor": "white",
             "minorgridcolor": "white",
             "startlinecolor": "#2a3f5f"
            },
            "type": "carpet"
           }
          ],
          "choropleth": [
           {
            "colorbar": {
             "outlinewidth": 0,
             "ticks": ""
            },
            "type": "choropleth"
           }
          ],
          "contour": [
           {
            "colorbar": {
             "outlinewidth": 0,
             "ticks": ""
            },
            "colorscale": [
             [
              0,
              "#0d0887"
             ],
             [
              0.1111111111111111,
              "#46039f"
             ],
             [
              0.2222222222222222,
              "#7201a8"
             ],
             [
              0.3333333333333333,
              "#9c179e"
             ],
             [
              0.4444444444444444,
              "#bd3786"
             ],
             [
              0.5555555555555556,
              "#d8576b"
             ],
             [
              0.6666666666666666,
              "#ed7953"
             ],
             [
              0.7777777777777778,
              "#fb9f3a"
             ],
             [
              0.8888888888888888,
              "#fdca26"
             ],
             [
              1,
              "#f0f921"
             ]
            ],
            "type": "contour"
           }
          ],
          "contourcarpet": [
           {
            "colorbar": {
             "outlinewidth": 0,
             "ticks": ""
            },
            "type": "contourcarpet"
           }
          ],
          "heatmap": [
           {
            "colorbar": {
             "outlinewidth": 0,
             "ticks": ""
            },
            "colorscale": [
             [
              0,
              "#0d0887"
             ],
             [
              0.1111111111111111,
              "#46039f"
             ],
             [
              0.2222222222222222,
              "#7201a8"
             ],
             [
              0.3333333333333333,
              "#9c179e"
             ],
             [
              0.4444444444444444,
              "#bd3786"
             ],
             [
              0.5555555555555556,
              "#d8576b"
             ],
             [
              0.6666666666666666,
              "#ed7953"
             ],
             [
              0.7777777777777778,
              "#fb9f3a"
             ],
             [
              0.8888888888888888,
              "#fdca26"
             ],
             [
              1,
              "#f0f921"
             ]
            ],
            "type": "heatmap"
           }
          ],
          "heatmapgl": [
           {
            "colorbar": {
             "outlinewidth": 0,
             "ticks": ""
            },
            "colorscale": [
             [
              0,
              "#0d0887"
             ],
             [
              0.1111111111111111,
              "#46039f"
             ],
             [
              0.2222222222222222,
              "#7201a8"
             ],
             [
              0.3333333333333333,
              "#9c179e"
             ],
             [
              0.4444444444444444,
              "#bd3786"
             ],
             [
              0.5555555555555556,
              "#d8576b"
             ],
             [
              0.6666666666666666,
              "#ed7953"
             ],
             [
              0.7777777777777778,
              "#fb9f3a"
             ],
             [
              0.8888888888888888,
              "#fdca26"
             ],
             [
              1,
              "#f0f921"
             ]
            ],
            "type": "heatmapgl"
           }
          ],
          "histogram": [
           {
            "marker": {
             "pattern": {
              "fillmode": "overlay",
              "size": 10,
              "solidity": 0.2
             }
            },
            "type": "histogram"
           }
          ],
          "histogram2d": [
           {
            "colorbar": {
             "outlinewidth": 0,
             "ticks": ""
            },
            "colorscale": [
             [
              0,
              "#0d0887"
             ],
             [
              0.1111111111111111,
              "#46039f"
             ],
             [
              0.2222222222222222,
              "#7201a8"
             ],
             [
              0.3333333333333333,
              "#9c179e"
             ],
             [
              0.4444444444444444,
              "#bd3786"
             ],
             [
              0.5555555555555556,
              "#d8576b"
             ],
             [
              0.6666666666666666,
              "#ed7953"
             ],
             [
              0.7777777777777778,
              "#fb9f3a"
             ],
             [
              0.8888888888888888,
              "#fdca26"
             ],
             [
              1,
              "#f0f921"
             ]
            ],
            "type": "histogram2d"
           }
          ],
          "histogram2dcontour": [
           {
            "colorbar": {
             "outlinewidth": 0,
             "ticks": ""
            },
            "colorscale": [
             [
              0,
              "#0d0887"
             ],
             [
              0.1111111111111111,
              "#46039f"
             ],
             [
              0.2222222222222222,
              "#7201a8"
             ],
             [
              0.3333333333333333,
              "#9c179e"
             ],
             [
              0.4444444444444444,
              "#bd3786"
             ],
             [
              0.5555555555555556,
              "#d8576b"
             ],
             [
              0.6666666666666666,
              "#ed7953"
             ],
             [
              0.7777777777777778,
              "#fb9f3a"
             ],
             [
              0.8888888888888888,
              "#fdca26"
             ],
             [
              1,
              "#f0f921"
             ]
            ],
            "type": "histogram2dcontour"
           }
          ],
          "mesh3d": [
           {
            "colorbar": {
             "outlinewidth": 0,
             "ticks": ""
            },
            "type": "mesh3d"
           }
          ],
          "parcoords": [
           {
            "line": {
             "colorbar": {
              "outlinewidth": 0,
              "ticks": ""
             }
            },
            "type": "parcoords"
           }
          ],
          "pie": [
           {
            "automargin": true,
            "type": "pie"
           }
          ],
          "scatter": [
           {
            "fillpattern": {
             "fillmode": "overlay",
             "size": 10,
             "solidity": 0.2
            },
            "type": "scatter"
           }
          ],
          "scatter3d": [
           {
            "line": {
             "colorbar": {
              "outlinewidth": 0,
              "ticks": ""
             }
            },
            "marker": {
             "colorbar": {
              "outlinewidth": 0,
              "ticks": ""
             }
            },
            "type": "scatter3d"
           }
          ],
          "scattercarpet": [
           {
            "marker": {
             "colorbar": {
              "outlinewidth": 0,
              "ticks": ""
             }
            },
            "type": "scattercarpet"
           }
          ],
          "scattergeo": [
           {
            "marker": {
             "colorbar": {
              "outlinewidth": 0,
              "ticks": ""
             }
            },
            "type": "scattergeo"
           }
          ],
          "scattergl": [
           {
            "marker": {
             "colorbar": {
              "outlinewidth": 0,
              "ticks": ""
             }
            },
            "type": "scattergl"
           }
          ],
          "scattermapbox": [
           {
            "marker": {
             "colorbar": {
              "outlinewidth": 0,
              "ticks": ""
             }
            },
            "type": "scattermapbox"
           }
          ],
          "scatterpolar": [
           {
            "marker": {
             "colorbar": {
              "outlinewidth": 0,
              "ticks": ""
             }
            },
            "type": "scatterpolar"
           }
          ],
          "scatterpolargl": [
           {
            "marker": {
             "colorbar": {
              "outlinewidth": 0,
              "ticks": ""
             }
            },
            "type": "scatterpolargl"
           }
          ],
          "scatterternary": [
           {
            "marker": {
             "colorbar": {
              "outlinewidth": 0,
              "ticks": ""
             }
            },
            "type": "scatterternary"
           }
          ],
          "surface": [
           {
            "colorbar": {
             "outlinewidth": 0,
             "ticks": ""
            },
            "colorscale": [
             [
              0,
              "#0d0887"
             ],
             [
              0.1111111111111111,
              "#46039f"
             ],
             [
              0.2222222222222222,
              "#7201a8"
             ],
             [
              0.3333333333333333,
              "#9c179e"
             ],
             [
              0.4444444444444444,
              "#bd3786"
             ],
             [
              0.5555555555555556,
              "#d8576b"
             ],
             [
              0.6666666666666666,
              "#ed7953"
             ],
             [
              0.7777777777777778,
              "#fb9f3a"
             ],
             [
              0.8888888888888888,
              "#fdca26"
             ],
             [
              1,
              "#f0f921"
             ]
            ],
            "type": "surface"
           }
          ],
          "table": [
           {
            "cells": {
             "fill": {
              "color": "#EBF0F8"
             },
             "line": {
              "color": "white"
             }
            },
            "header": {
             "fill": {
              "color": "#C8D4E3"
             },
             "line": {
              "color": "white"
             }
            },
            "type": "table"
           }
          ]
         },
         "layout": {
          "annotationdefaults": {
           "arrowcolor": "#2a3f5f",
           "arrowhead": 0,
           "arrowwidth": 1
          },
          "autotypenumbers": "strict",
          "coloraxis": {
           "colorbar": {
            "outlinewidth": 0,
            "ticks": ""
           }
          },
          "colorscale": {
           "diverging": [
            [
             0,
             "#8e0152"
            ],
            [
             0.1,
             "#c51b7d"
            ],
            [
             0.2,
             "#de77ae"
            ],
            [
             0.3,
             "#f1b6da"
            ],
            [
             0.4,
             "#fde0ef"
            ],
            [
             0.5,
             "#f7f7f7"
            ],
            [
             0.6,
             "#e6f5d0"
            ],
            [
             0.7,
             "#b8e186"
            ],
            [
             0.8,
             "#7fbc41"
            ],
            [
             0.9,
             "#4d9221"
            ],
            [
             1,
             "#276419"
            ]
           ],
           "sequential": [
            [
             0,
             "#0d0887"
            ],
            [
             0.1111111111111111,
             "#46039f"
            ],
            [
             0.2222222222222222,
             "#7201a8"
            ],
            [
             0.3333333333333333,
             "#9c179e"
            ],
            [
             0.4444444444444444,
             "#bd3786"
            ],
            [
             0.5555555555555556,
             "#d8576b"
            ],
            [
             0.6666666666666666,
             "#ed7953"
            ],
            [
             0.7777777777777778,
             "#fb9f3a"
            ],
            [
             0.8888888888888888,
             "#fdca26"
            ],
            [
             1,
             "#f0f921"
            ]
           ],
           "sequentialminus": [
            [
             0,
             "#0d0887"
            ],
            [
             0.1111111111111111,
             "#46039f"
            ],
            [
             0.2222222222222222,
             "#7201a8"
            ],
            [
             0.3333333333333333,
             "#9c179e"
            ],
            [
             0.4444444444444444,
             "#bd3786"
            ],
            [
             0.5555555555555556,
             "#d8576b"
            ],
            [
             0.6666666666666666,
             "#ed7953"
            ],
            [
             0.7777777777777778,
             "#fb9f3a"
            ],
            [
             0.8888888888888888,
             "#fdca26"
            ],
            [
             1,
             "#f0f921"
            ]
           ]
          },
          "colorway": [
           "#636efa",
           "#EF553B",
           "#00cc96",
           "#ab63fa",
           "#FFA15A",
           "#19d3f3",
           "#FF6692",
           "#B6E880",
           "#FF97FF",
           "#FECB52"
          ],
          "font": {
           "color": "#2a3f5f"
          },
          "geo": {
           "bgcolor": "white",
           "lakecolor": "white",
           "landcolor": "#E5ECF6",
           "showlakes": true,
           "showland": true,
           "subunitcolor": "white"
          },
          "hoverlabel": {
           "align": "left"
          },
          "hovermode": "closest",
          "mapbox": {
           "style": "light"
          },
          "paper_bgcolor": "white",
          "plot_bgcolor": "#E5ECF6",
          "polar": {
           "angularaxis": {
            "gridcolor": "white",
            "linecolor": "white",
            "ticks": ""
           },
           "bgcolor": "#E5ECF6",
           "radialaxis": {
            "gridcolor": "white",
            "linecolor": "white",
            "ticks": ""
           }
          },
          "scene": {
           "xaxis": {
            "backgroundcolor": "#E5ECF6",
            "gridcolor": "white",
            "gridwidth": 2,
            "linecolor": "white",
            "showbackground": true,
            "ticks": "",
            "zerolinecolor": "white"
           },
           "yaxis": {
            "backgroundcolor": "#E5ECF6",
            "gridcolor": "white",
            "gridwidth": 2,
            "linecolor": "white",
            "showbackground": true,
            "ticks": "",
            "zerolinecolor": "white"
           },
           "zaxis": {
            "backgroundcolor": "#E5ECF6",
            "gridcolor": "white",
            "gridwidth": 2,
            "linecolor": "white",
            "showbackground": true,
            "ticks": "",
            "zerolinecolor": "white"
           }
          },
          "shapedefaults": {
           "line": {
            "color": "#2a3f5f"
           }
          },
          "ternary": {
           "aaxis": {
            "gridcolor": "white",
            "linecolor": "white",
            "ticks": ""
           },
           "baxis": {
            "gridcolor": "white",
            "linecolor": "white",
            "ticks": ""
           },
           "bgcolor": "#E5ECF6",
           "caxis": {
            "gridcolor": "white",
            "linecolor": "white",
            "ticks": ""
           }
          },
          "title": {
           "x": 0.05
          },
          "xaxis": {
           "automargin": true,
           "gridcolor": "white",
           "linecolor": "white",
           "ticks": "",
           "title": {
            "standoff": 15
           },
           "zerolinecolor": "white",
           "zerolinewidth": 2
          },
          "yaxis": {
           "automargin": true,
           "gridcolor": "white",
           "linecolor": "white",
           "ticks": "",
           "title": {
            "standoff": 15
           },
           "zerolinecolor": "white",
           "zerolinewidth": 2
          }
         }
        },
        "title": {
         "text": "Aantal vluchtelingen en terroristische aanslagen in Spanje"
        },
        "xaxis": {
         "title": {
          "text": "Year"
         },
         "type": "category"
        },
        "yaxis": {
         "range": [
          0,
          30000
         ],
         "side": "left",
         "title": {
          "text": "Vluchtelingen onder UNHCR's mandate"
         }
        },
        "yaxis2": {
         "overlaying": "y",
         "range": [
          0,
          120
         ],
         "side": "right",
         "title": {
          "text": "Terroristische aanslagen"
         }
        }
       }
      }
     },
     "metadata": {},
     "output_type": "display_data"
    }
   ],
   "source": [
    "df10 = df5[df5[\"Country of asylum\"] == 'Spain']\n",
    "df10.head()\n",
    "\n",
    "df11 = df8[df8[\"country\"] == 'Spain']\n",
    "df11.head()\n",
    "colors = ['rgb(238, 75, 43)', 'rgb(252,245,245)', 'rgb(129, 133, 137)']\n",
    "fig = go.Figure()\n",
    "\n",
    "fig.add_trace(go.Bar(\n",
    "    x=df10['Year'],\n",
    "    y=df10[\"Refugees under UNHCR's mandate\"],\n",
    "    marker_color='rgb(238, 75, 43)',\n",
    "    name=\"Vluchtelingen\",\n",
    "    yaxis='y'  \n",
    "))\n",
    "\n",
    "fig.add_trace(go.Bar(\n",
    "    x=df11['year'],\n",
    "    y=df11[('count')],\n",
    "    marker_color='rgb(129, 133, 137)',\n",
    "    name=\"Aanslagen\",\n",
    "    yaxis='y2',\n",
    "    width=0.4  \n",
    "))\n",
    "\n",
    "fig.update_layout(\n",
    "    title='Aantal vluchtelingen en terroristische aanslagen in Spanje',\n",
    "    xaxis=dict(type='category'),\n",
    "    yaxis=dict(range=[0, 30000], title=\"Vluchtelingen onder UNHCR's mandate\" , side='left'),\n",
    "    yaxis2=dict(range=[0, 120], title=\"Terroristische aanslagen\", overlaying='y', side='right'),  \n",
    "    xaxis_title='Year',\n",
    "    height=500,\n",
    "    bargap=0.1,\n",
    "    plot_bgcolor='rgb(252,245,245)',\n",
    ")\n",
    "\n",
    "fig.show()"
   ]
  },
  {
   "attachments": {},
   "cell_type": "markdown",
   "id": "84271e8b-3cdf-4cad-b78e-f536ff980cba",
   "metadata": {},
   "source": [
    "> *Figuur 6: Terwijl er een stijging te zien is in het aantal vluchtelingen in Spanje, is er juist een daling te zien bij het aantal terroristische aanslagen in Spanje. "
   ]
  },
  {
   "attachments": {},
   "cell_type": "markdown",
   "id": "921df77f",
   "metadata": {},
   "source": [
    "## Reflectie \n",
    "\n",
    "x"
   ]
  },
  {
   "attachments": {},
   "cell_type": "markdown",
   "id": "8799e8f6",
   "metadata": {},
   "source": [
    "## Werk verdeling "
   ]
  },
  {
   "attachments": {},
   "cell_type": "markdown",
   "id": "8a61224c",
   "metadata": {},
   "source": [
    "## Referenties \n",
    "x\n",
    "x\n",
    "x"
   ]
  },
  {
   "attachments": {},
   "cell_type": "markdown",
   "id": "f377761c-1ed5-440a-8c20-eaf6ab7c67bb",
   "metadata": {},
   "source": [
    "## Appendix\n",
    "\n",
    "Generative AI (ChatGPT with GPT 3.5) is used to facilitate the creation of this document, as shown in the table below.\n",
    "\n",
    "| Reasons of Usage | In which parts? | Which prompts were used? |\n",
    "| ------------------------ | --------------------------------- | -------------------------------------------- |\n",
    "| Brainstorm research questions and identify keywords for further search | The entire project framing | \"Give keywords about the current debate in climate change with brief explanations\" |\n",
    "| Improve writing clarity and enhance readability | All sections | \"Edit the following text to make it more clear. Do not alter the meaning.\" |\n",
    "| Enhance readability | All sections | \"Revise the paragraph to improve readability.\" |\n",
    "| Ensure grammatical accuracy |  All sections | \"Correct any grammatical errors in the text.\" |\n",
    "| Provide alternative phrasing | Descriptions of the perspectives | \"Suggest alternative phrases for better clarity.\" |\n",
    "| Optimize sentence structure | All sections | \"Restructure the sentence for better flow.\" |\n",
    "| Condense lengthy sentences | All sections | \"Simplify the following sentences without losing important information.\"|\n",
    "\n",
    "> *Table 1: Usage of generative AI to facilitate the creation of this document.*"
   ]
  },
  {
   "cell_type": "code",
   "execution_count": null,
   "id": "8352489a",
   "metadata": {},
   "outputs": [],
   "source": []
  },
  {
   "cell_type": "code",
   "execution_count": null,
   "id": "4292f4ef",
   "metadata": {},
   "outputs": [],
   "source": []
  }
 ],
 "metadata": {
  "celltoolbar": "Hide code",
  "kernelspec": {
   "display_name": "Python 3 (ipykernel)",
   "language": "python",
   "name": "python3"
  },
  "language_info": {
   "codemirror_mode": {
    "name": "ipython",
    "version": 3
   },
   "file_extension": ".py",
   "mimetype": "text/x-python",
   "name": "python",
   "nbconvert_exporter": "python",
   "pygments_lexer": "ipython3",
   "version": "3.11.3"
  },
  "vscode": {
   "interpreter": {
    "hash": "aee8b7b246df8f9039afb4144a1f6fd8d2ca17a180786b69acc140d282b71a49"
   }
  }
 },
 "nbformat": 4,
 "nbformat_minor": 5
}
