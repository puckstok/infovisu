{
 "cells": [
  {
   "attachments": {},
   "cell_type": "markdown",
   "id": "3b46ee32",
   "metadata": {},
   "source": [
    "# Gevaar of fabel\n",
    "\n",
    "Namen: Puck, Sally, Jelle, Isa\n",
    "\n",
    "Groep nummer: "
   ]
  },
  {
   "cell_type": "code",
   "execution_count": 54,
   "id": "e180382e",
   "metadata": {
    "hideCode": true,
    "hidePrompt": false,
    "tags": [
     "hide-input"
    ]
   },
   "outputs": [
    {
     "data": {
      "text/html": [
       "<img src=\"https://e3.365dm.com/16/01/2048x1152/rtx1v9p9-1-2048x1536_3402067.jpg\" width=\"800\" height=\"400\"/>"
      ],
      "text/plain": [
       "<IPython.core.display.Image object>"
      ]
     },
     "metadata": {},
     "output_type": "display_data"
    },
    {
     "name": "stdout",
     "output_type": "stream",
     "text": [
      "© Getty images\n"
     ]
    }
   ],
   "source": [
    "url = 'https://e3.365dm.com/16/01/2048x1152/rtx1v9p9-1-2048x1536_3402067.jpg'\n",
    "\n",
    "from IPython.display import Image, display\n",
    "\n",
    "width = 800\n",
    "height = 400\n",
    "\n",
    "subtitle = \"© Getty images\"\n",
    "\n",
    "image = Image(url=url, width=width, height=height)\n",
    "\n",
    "display(image)\n",
    "print(subtitle)"
   ]
  },
  {
   "attachments": {},
   "cell_type": "markdown",
   "id": "7d5fce97-8e22-41ee-a19c-6c0f0fb2f08f",
   "metadata": {},
   "source": [
    "## Introductie"
   ]
  },
  {
   "attachments": {},
   "cell_type": "markdown",
   "id": "7cf81853-c237-4df2-8ed4-9deae8423fb0",
   "metadata": {
    "hidePrompt": false
   },
   "source": [
    "De vluchtelingencrisis is een van de meest controversiële onderwerpen in het publieke debat. Veel tegenstanders beweren dat de stijging van vluchtelingen binnen Europa aanzet tot verhoogde veiligheidsrisico's, in het bijzonder meer terroristische aanslagen. In 2015 werd Parijs getroffen door een reeks aanslagen. Ondanks dat de terroristen Europese burgers waren werd de vluchtelingencrisis als oorzaak aangewezen (do Céu Pinto Arena, 2017). Door de aanhoudende conflicten  in Syrië, Afghanistan en Irak kwamen steeds meer burgers naar Europa in de hoop voor veiligheid. Hoewel dit voor een langere tijd speelde, werd er vanaf 2015 gesproken van een vluchtelingencrisis. Deze toename startte echter al in 2013, wat ook te zien is in de grafiek hieronder."
   ]
  },
  {
   "cell_type": "code",
   "execution_count": 55,
   "id": "6f220a4b",
   "metadata": {
    "tags": [
     "hide-input"
    ]
   },
   "outputs": [
    {
     "data": {
      "application/vnd.plotly.v1+json": {
       "config": {
        "plotlyServerURL": "https://plot.ly"
       },
       "data": [
        {
         "marker": {
          "color": "rgb(238, 75, 43)",
          "line": {
           "width": 0
          },
          "size": 8,
          "symbol": "circle"
         },
         "mode": "markers",
         "name": "Refugees",
         "type": "scatter",
         "x": [
          12129079,
          12116301,
          10593526,
          9592247,
          9572719,
          8661293,
          9876879,
          11390082,
          10488915,
          10395713,
          10548835,
          10403937,
          10497017,
          11698233,
          14384289,
          16110276,
          17184286,
          19940566
         ],
         "y": [
          2000,
          2001,
          2002,
          2003,
          2004,
          2005,
          2006,
          2007,
          2008,
          2009,
          2010,
          2011,
          2012,
          2013,
          2014,
          2015,
          2016,
          2017
         ]
        }
       ],
       "layout": {
        "height": 800,
        "plot_bgcolor": "rgb(252,245,245)",
        "template": {
         "data": {
          "bar": [
           {
            "error_x": {
             "color": "#2a3f5f"
            },
            "error_y": {
             "color": "#2a3f5f"
            },
            "marker": {
             "line": {
              "color": "#E5ECF6",
              "width": 0.5
             },
             "pattern": {
              "fillmode": "overlay",
              "size": 10,
              "solidity": 0.2
             }
            },
            "type": "bar"
           }
          ],
          "barpolar": [
           {
            "marker": {
             "line": {
              "color": "#E5ECF6",
              "width": 0.5
             },
             "pattern": {
              "fillmode": "overlay",
              "size": 10,
              "solidity": 0.2
             }
            },
            "type": "barpolar"
           }
          ],
          "carpet": [
           {
            "aaxis": {
             "endlinecolor": "#2a3f5f",
             "gridcolor": "white",
             "linecolor": "white",
             "minorgridcolor": "white",
             "startlinecolor": "#2a3f5f"
            },
            "baxis": {
             "endlinecolor": "#2a3f5f",
             "gridcolor": "white",
             "linecolor": "white",
             "minorgridcolor": "white",
             "startlinecolor": "#2a3f5f"
            },
            "type": "carpet"
           }
          ],
          "choropleth": [
           {
            "colorbar": {
             "outlinewidth": 0,
             "ticks": ""
            },
            "type": "choropleth"
           }
          ],
          "contour": [
           {
            "colorbar": {
             "outlinewidth": 0,
             "ticks": ""
            },
            "colorscale": [
             [
              0,
              "#0d0887"
             ],
             [
              0.1111111111111111,
              "#46039f"
             ],
             [
              0.2222222222222222,
              "#7201a8"
             ],
             [
              0.3333333333333333,
              "#9c179e"
             ],
             [
              0.4444444444444444,
              "#bd3786"
             ],
             [
              0.5555555555555556,
              "#d8576b"
             ],
             [
              0.6666666666666666,
              "#ed7953"
             ],
             [
              0.7777777777777778,
              "#fb9f3a"
             ],
             [
              0.8888888888888888,
              "#fdca26"
             ],
             [
              1,
              "#f0f921"
             ]
            ],
            "type": "contour"
           }
          ],
          "contourcarpet": [
           {
            "colorbar": {
             "outlinewidth": 0,
             "ticks": ""
            },
            "type": "contourcarpet"
           }
          ],
          "heatmap": [
           {
            "colorbar": {
             "outlinewidth": 0,
             "ticks": ""
            },
            "colorscale": [
             [
              0,
              "#0d0887"
             ],
             [
              0.1111111111111111,
              "#46039f"
             ],
             [
              0.2222222222222222,
              "#7201a8"
             ],
             [
              0.3333333333333333,
              "#9c179e"
             ],
             [
              0.4444444444444444,
              "#bd3786"
             ],
             [
              0.5555555555555556,
              "#d8576b"
             ],
             [
              0.6666666666666666,
              "#ed7953"
             ],
             [
              0.7777777777777778,
              "#fb9f3a"
             ],
             [
              0.8888888888888888,
              "#fdca26"
             ],
             [
              1,
              "#f0f921"
             ]
            ],
            "type": "heatmap"
           }
          ],
          "heatmapgl": [
           {
            "colorbar": {
             "outlinewidth": 0,
             "ticks": ""
            },
            "colorscale": [
             [
              0,
              "#0d0887"
             ],
             [
              0.1111111111111111,
              "#46039f"
             ],
             [
              0.2222222222222222,
              "#7201a8"
             ],
             [
              0.3333333333333333,
              "#9c179e"
             ],
             [
              0.4444444444444444,
              "#bd3786"
             ],
             [
              0.5555555555555556,
              "#d8576b"
             ],
             [
              0.6666666666666666,
              "#ed7953"
             ],
             [
              0.7777777777777778,
              "#fb9f3a"
             ],
             [
              0.8888888888888888,
              "#fdca26"
             ],
             [
              1,
              "#f0f921"
             ]
            ],
            "type": "heatmapgl"
           }
          ],
          "histogram": [
           {
            "marker": {
             "pattern": {
              "fillmode": "overlay",
              "size": 10,
              "solidity": 0.2
             }
            },
            "type": "histogram"
           }
          ],
          "histogram2d": [
           {
            "colorbar": {
             "outlinewidth": 0,
             "ticks": ""
            },
            "colorscale": [
             [
              0,
              "#0d0887"
             ],
             [
              0.1111111111111111,
              "#46039f"
             ],
             [
              0.2222222222222222,
              "#7201a8"
             ],
             [
              0.3333333333333333,
              "#9c179e"
             ],
             [
              0.4444444444444444,
              "#bd3786"
             ],
             [
              0.5555555555555556,
              "#d8576b"
             ],
             [
              0.6666666666666666,
              "#ed7953"
             ],
             [
              0.7777777777777778,
              "#fb9f3a"
             ],
             [
              0.8888888888888888,
              "#fdca26"
             ],
             [
              1,
              "#f0f921"
             ]
            ],
            "type": "histogram2d"
           }
          ],
          "histogram2dcontour": [
           {
            "colorbar": {
             "outlinewidth": 0,
             "ticks": ""
            },
            "colorscale": [
             [
              0,
              "#0d0887"
             ],
             [
              0.1111111111111111,
              "#46039f"
             ],
             [
              0.2222222222222222,
              "#7201a8"
             ],
             [
              0.3333333333333333,
              "#9c179e"
             ],
             [
              0.4444444444444444,
              "#bd3786"
             ],
             [
              0.5555555555555556,
              "#d8576b"
             ],
             [
              0.6666666666666666,
              "#ed7953"
             ],
             [
              0.7777777777777778,
              "#fb9f3a"
             ],
             [
              0.8888888888888888,
              "#fdca26"
             ],
             [
              1,
              "#f0f921"
             ]
            ],
            "type": "histogram2dcontour"
           }
          ],
          "mesh3d": [
           {
            "colorbar": {
             "outlinewidth": 0,
             "ticks": ""
            },
            "type": "mesh3d"
           }
          ],
          "parcoords": [
           {
            "line": {
             "colorbar": {
              "outlinewidth": 0,
              "ticks": ""
             }
            },
            "type": "parcoords"
           }
          ],
          "pie": [
           {
            "automargin": true,
            "type": "pie"
           }
          ],
          "scatter": [
           {
            "fillpattern": {
             "fillmode": "overlay",
             "size": 10,
             "solidity": 0.2
            },
            "type": "scatter"
           }
          ],
          "scatter3d": [
           {
            "line": {
             "colorbar": {
              "outlinewidth": 0,
              "ticks": ""
             }
            },
            "marker": {
             "colorbar": {
              "outlinewidth": 0,
              "ticks": ""
             }
            },
            "type": "scatter3d"
           }
          ],
          "scattercarpet": [
           {
            "marker": {
             "colorbar": {
              "outlinewidth": 0,
              "ticks": ""
             }
            },
            "type": "scattercarpet"
           }
          ],
          "scattergeo": [
           {
            "marker": {
             "colorbar": {
              "outlinewidth": 0,
              "ticks": ""
             }
            },
            "type": "scattergeo"
           }
          ],
          "scattergl": [
           {
            "marker": {
             "colorbar": {
              "outlinewidth": 0,
              "ticks": ""
             }
            },
            "type": "scattergl"
           }
          ],
          "scattermapbox": [
           {
            "marker": {
             "colorbar": {
              "outlinewidth": 0,
              "ticks": ""
             }
            },
            "type": "scattermapbox"
           }
          ],
          "scatterpolar": [
           {
            "marker": {
             "colorbar": {
              "outlinewidth": 0,
              "ticks": ""
             }
            },
            "type": "scatterpolar"
           }
          ],
          "scatterpolargl": [
           {
            "marker": {
             "colorbar": {
              "outlinewidth": 0,
              "ticks": ""
             }
            },
            "type": "scatterpolargl"
           }
          ],
          "scatterternary": [
           {
            "marker": {
             "colorbar": {
              "outlinewidth": 0,
              "ticks": ""
             }
            },
            "type": "scatterternary"
           }
          ],
          "surface": [
           {
            "colorbar": {
             "outlinewidth": 0,
             "ticks": ""
            },
            "colorscale": [
             [
              0,
              "#0d0887"
             ],
             [
              0.1111111111111111,
              "#46039f"
             ],
             [
              0.2222222222222222,
              "#7201a8"
             ],
             [
              0.3333333333333333,
              "#9c179e"
             ],
             [
              0.4444444444444444,
              "#bd3786"
             ],
             [
              0.5555555555555556,
              "#d8576b"
             ],
             [
              0.6666666666666666,
              "#ed7953"
             ],
             [
              0.7777777777777778,
              "#fb9f3a"
             ],
             [
              0.8888888888888888,
              "#fdca26"
             ],
             [
              1,
              "#f0f921"
             ]
            ],
            "type": "surface"
           }
          ],
          "table": [
           {
            "cells": {
             "fill": {
              "color": "#EBF0F8"
             },
             "line": {
              "color": "white"
             }
            },
            "header": {
             "fill": {
              "color": "#C8D4E3"
             },
             "line": {
              "color": "white"
             }
            },
            "type": "table"
           }
          ]
         },
         "layout": {
          "annotationdefaults": {
           "arrowcolor": "#2a3f5f",
           "arrowhead": 0,
           "arrowwidth": 1
          },
          "autotypenumbers": "strict",
          "coloraxis": {
           "colorbar": {
            "outlinewidth": 0,
            "ticks": ""
           }
          },
          "colorscale": {
           "diverging": [
            [
             0,
             "#8e0152"
            ],
            [
             0.1,
             "#c51b7d"
            ],
            [
             0.2,
             "#de77ae"
            ],
            [
             0.3,
             "#f1b6da"
            ],
            [
             0.4,
             "#fde0ef"
            ],
            [
             0.5,
             "#f7f7f7"
            ],
            [
             0.6,
             "#e6f5d0"
            ],
            [
             0.7,
             "#b8e186"
            ],
            [
             0.8,
             "#7fbc41"
            ],
            [
             0.9,
             "#4d9221"
            ],
            [
             1,
             "#276419"
            ]
           ],
           "sequential": [
            [
             0,
             "#0d0887"
            ],
            [
             0.1111111111111111,
             "#46039f"
            ],
            [
             0.2222222222222222,
             "#7201a8"
            ],
            [
             0.3333333333333333,
             "#9c179e"
            ],
            [
             0.4444444444444444,
             "#bd3786"
            ],
            [
             0.5555555555555556,
             "#d8576b"
            ],
            [
             0.6666666666666666,
             "#ed7953"
            ],
            [
             0.7777777777777778,
             "#fb9f3a"
            ],
            [
             0.8888888888888888,
             "#fdca26"
            ],
            [
             1,
             "#f0f921"
            ]
           ],
           "sequentialminus": [
            [
             0,
             "#0d0887"
            ],
            [
             0.1111111111111111,
             "#46039f"
            ],
            [
             0.2222222222222222,
             "#7201a8"
            ],
            [
             0.3333333333333333,
             "#9c179e"
            ],
            [
             0.4444444444444444,
             "#bd3786"
            ],
            [
             0.5555555555555556,
             "#d8576b"
            ],
            [
             0.6666666666666666,
             "#ed7953"
            ],
            [
             0.7777777777777778,
             "#fb9f3a"
            ],
            [
             0.8888888888888888,
             "#fdca26"
            ],
            [
             1,
             "#f0f921"
            ]
           ]
          },
          "colorway": [
           "#636efa",
           "#EF553B",
           "#00cc96",
           "#ab63fa",
           "#FFA15A",
           "#19d3f3",
           "#FF6692",
           "#B6E880",
           "#FF97FF",
           "#FECB52"
          ],
          "font": {
           "color": "#2a3f5f"
          },
          "geo": {
           "bgcolor": "white",
           "lakecolor": "white",
           "landcolor": "#E5ECF6",
           "showlakes": true,
           "showland": true,
           "subunitcolor": "white"
          },
          "hoverlabel": {
           "align": "left"
          },
          "hovermode": "closest",
          "mapbox": {
           "style": "light"
          },
          "paper_bgcolor": "white",
          "plot_bgcolor": "#E5ECF6",
          "polar": {
           "angularaxis": {
            "gridcolor": "white",
            "linecolor": "white",
            "ticks": ""
           },
           "bgcolor": "#E5ECF6",
           "radialaxis": {
            "gridcolor": "white",
            "linecolor": "white",
            "ticks": ""
           }
          },
          "scene": {
           "xaxis": {
            "backgroundcolor": "#E5ECF6",
            "gridcolor": "white",
            "gridwidth": 2,
            "linecolor": "white",
            "showbackground": true,
            "ticks": "",
            "zerolinecolor": "white"
           },
           "yaxis": {
            "backgroundcolor": "#E5ECF6",
            "gridcolor": "white",
            "gridwidth": 2,
            "linecolor": "white",
            "showbackground": true,
            "ticks": "",
            "zerolinecolor": "white"
           },
           "zaxis": {
            "backgroundcolor": "#E5ECF6",
            "gridcolor": "white",
            "gridwidth": 2,
            "linecolor": "white",
            "showbackground": true,
            "ticks": "",
            "zerolinecolor": "white"
           }
          },
          "shapedefaults": {
           "line": {
            "color": "#2a3f5f"
           }
          },
          "ternary": {
           "aaxis": {
            "gridcolor": "white",
            "linecolor": "white",
            "ticks": ""
           },
           "baxis": {
            "gridcolor": "white",
            "linecolor": "white",
            "ticks": ""
           },
           "bgcolor": "#E5ECF6",
           "caxis": {
            "gridcolor": "white",
            "linecolor": "white",
            "ticks": ""
           }
          },
          "title": {
           "x": 0.05
          },
          "xaxis": {
           "automargin": true,
           "gridcolor": "white",
           "linecolor": "white",
           "ticks": "",
           "title": {
            "standoff": 15
           },
           "zerolinecolor": "white",
           "zerolinewidth": 2
          },
          "yaxis": {
           "automargin": true,
           "gridcolor": "white",
           "linecolor": "white",
           "ticks": "",
           "title": {
            "standoff": 15
           },
           "zerolinecolor": "white",
           "zerolinewidth": 2
          }
         }
        },
        "title": {
         "text": "Aantal vluchtelingen in Europa"
        },
        "width": 800,
        "xaxis": {
         "range": [
          0,
          22000000
         ],
         "title": {
          "text": "Vluchtelingen onder UNHCR's mandate"
         }
        },
        "yaxis": {
         "categoryarray": [
          2017,
          2016,
          2015,
          2014,
          2013,
          2012,
          2011,
          2010,
          2009,
          2008,
          2007,
          2006,
          2005,
          2004,
          2003,
          2002,
          2001,
          2000
         ],
         "categoryorder": "array",
         "title": {
          "text": "Jaar"
         },
         "type": "category"
        }
       }
      }
     },
     "metadata": {},
     "output_type": "display_data"
    }
   ],
   "source": [
    "import plotly.graph_objs as go\n",
    "import plotly.express as px\n",
    "import pandas as pd\n",
    "import geopandas as gpd\n",
    "import matplotlib.pyplot as plt\n",
    "\n",
    "df = pd.read_csv('population_eu.csv')\n",
    "df2 = df[df.Year.between(2000, 2017)]\n",
    "df2 = df2.sort_values('Year')\n",
    "\n",
    "colors = ['rgb(238, 75, 43)', 'rgb(252,245,245)', 'rgb(129, 133, 137)']\n",
    "fig = go.Figure()\n",
    "\n",
    "fig.add_trace(go.Scatter(\n",
    "    x=df2[\"Refugees under UNHCR's mandate\"],\n",
    "    y=df2['Year'],\n",
    "    mode='markers',\n",
    "    marker=dict(\n",
    "        color='rgb(238, 75, 43)',\n",
    "        size=8,\n",
    "        symbol='circle', \n",
    "        line=dict(width=0) \n",
    "    ),\n",
    "    name=\"Refugees\",\n",
    "))\n",
    "\n",
    "fig.update_layout(\n",
    "    title='Aantal vluchtelingen in Europa',\n",
    "    yaxis=dict(type='category', categoryorder='array', categoryarray=df2['Year'].tolist()[::-1]), \n",
    "    xaxis=dict(range=[0, 22000000], title=\"Vluchtelingen onder UNHCR's mandate\"), \n",
    "    yaxis_title='Jaar',\n",
    "    width=800, \n",
    "    height=800,\n",
    "    plot_bgcolor='rgb(252,245,245)',\n",
    ")\n",
    "\n",
    "fig.show()"
   ]
  },
  {
   "attachments": {},
   "cell_type": "markdown",
   "id": "8996e4f6",
   "metadata": {},
   "source": [
    "> *Figuur 1: Het aantal vluchtelingen in Europa onder het UNHCR mandaat had een aanzienlijke stijging vanaf 2013. "
   ]
  },
  {
   "attachments": {},
   "cell_type": "markdown",
   "id": "d9d4c934-c639-495f-a2bc-ed078e5659c3",
   "metadata": {},
   "source": [
    "## Dataset en Preprocessing"
   ]
  },
  {
   "attachments": {},
   "cell_type": "markdown",
   "id": "850c1744-f4cc-4cc1-b0a7-9207c75837d8",
   "metadata": {},
   "source": [
    "xx"
   ]
  },
  {
   "attachments": {},
   "cell_type": "markdown",
   "id": "d5010a07-96a0-45a7-ba76-250a56053f62",
   "metadata": {},
   "source": [
    "## Perspectief 1"
   ]
  },
  {
   "attachments": {},
   "cell_type": "markdown",
   "id": "1f26b1fd",
   "metadata": {},
   "source": [
    "X"
   ]
  },
  {
   "attachments": {},
   "cell_type": "markdown",
   "id": "a43c3ae1-48d8-4663-8525-7d92fae83483",
   "metadata": {},
   "source": [
    "### argument 1 perspectief 1"
   ]
  },
  {
   "attachments": {},
   "cell_type": "markdown",
   "id": "a44acbb2-6dbc-4cb9-ba26-7ba3fb19af5d",
   "metadata": {},
   "source": [
    "x"
   ]
  },
  {
   "cell_type": "code",
   "execution_count": 56,
   "id": "5a242e18",
   "metadata": {
    "hideCode": false,
    "tags": [
     "hide-input"
    ]
   },
   "outputs": [
    {
     "data": {
      "application/vnd.plotly.v1+json": {
       "config": {
        "plotlyServerURL": "https://plot.ly"
       },
       "data": [
        {
         "marker": {
          "color": "rgb(238, 75, 43)"
         },
         "name": "Vluchtelingen",
         "type": "scatter",
         "x": [
          2000,
          2001,
          2002,
          2003,
          2004,
          2005,
          2006,
          2007,
          2008,
          2009,
          2010,
          2011,
          2012,
          2013,
          2014,
          2015,
          2016,
          2017
         ],
         "y": [
          12129079,
          12116301,
          10593526,
          9592247,
          9572719,
          8661293,
          9876879,
          11390082,
          10488915,
          10395713,
          10548835,
          10403937,
          10497017,
          11698233,
          14384289,
          16110276,
          17184286,
          19940566
         ],
         "yaxis": "y"
        },
        {
         "marker": {
          "color": "rgb(129, 133, 137)"
         },
         "name": "Aanslagen",
         "type": "scatter",
         "x": [
          2000,
          2001,
          2002,
          2003,
          2004,
          2005,
          2006,
          2007,
          2008,
          2009,
          2010,
          2011,
          2012,
          2013,
          2014,
          2015,
          2016,
          2017
         ],
         "y": [
          487,
          486,
          232,
          221,
          105,
          180,
          168,
          134,
          372,
          347,
          394,
          293,
          366,
          426,
          1177,
          1017,
          407,
          401
         ],
         "yaxis": "y2"
        }
       ],
       "layout": {
        "bargap": 0.1,
        "height": 500,
        "plot_bgcolor": "rgb(252,245,245)",
        "template": {
         "data": {
          "bar": [
           {
            "error_x": {
             "color": "#2a3f5f"
            },
            "error_y": {
             "color": "#2a3f5f"
            },
            "marker": {
             "line": {
              "color": "#E5ECF6",
              "width": 0.5
             },
             "pattern": {
              "fillmode": "overlay",
              "size": 10,
              "solidity": 0.2
             }
            },
            "type": "bar"
           }
          ],
          "barpolar": [
           {
            "marker": {
             "line": {
              "color": "#E5ECF6",
              "width": 0.5
             },
             "pattern": {
              "fillmode": "overlay",
              "size": 10,
              "solidity": 0.2
             }
            },
            "type": "barpolar"
           }
          ],
          "carpet": [
           {
            "aaxis": {
             "endlinecolor": "#2a3f5f",
             "gridcolor": "white",
             "linecolor": "white",
             "minorgridcolor": "white",
             "startlinecolor": "#2a3f5f"
            },
            "baxis": {
             "endlinecolor": "#2a3f5f",
             "gridcolor": "white",
             "linecolor": "white",
             "minorgridcolor": "white",
             "startlinecolor": "#2a3f5f"
            },
            "type": "carpet"
           }
          ],
          "choropleth": [
           {
            "colorbar": {
             "outlinewidth": 0,
             "ticks": ""
            },
            "type": "choropleth"
           }
          ],
          "contour": [
           {
            "colorbar": {
             "outlinewidth": 0,
             "ticks": ""
            },
            "colorscale": [
             [
              0,
              "#0d0887"
             ],
             [
              0.1111111111111111,
              "#46039f"
             ],
             [
              0.2222222222222222,
              "#7201a8"
             ],
             [
              0.3333333333333333,
              "#9c179e"
             ],
             [
              0.4444444444444444,
              "#bd3786"
             ],
             [
              0.5555555555555556,
              "#d8576b"
             ],
             [
              0.6666666666666666,
              "#ed7953"
             ],
             [
              0.7777777777777778,
              "#fb9f3a"
             ],
             [
              0.8888888888888888,
              "#fdca26"
             ],
             [
              1,
              "#f0f921"
             ]
            ],
            "type": "contour"
           }
          ],
          "contourcarpet": [
           {
            "colorbar": {
             "outlinewidth": 0,
             "ticks": ""
            },
            "type": "contourcarpet"
           }
          ],
          "heatmap": [
           {
            "colorbar": {
             "outlinewidth": 0,
             "ticks": ""
            },
            "colorscale": [
             [
              0,
              "#0d0887"
             ],
             [
              0.1111111111111111,
              "#46039f"
             ],
             [
              0.2222222222222222,
              "#7201a8"
             ],
             [
              0.3333333333333333,
              "#9c179e"
             ],
             [
              0.4444444444444444,
              "#bd3786"
             ],
             [
              0.5555555555555556,
              "#d8576b"
             ],
             [
              0.6666666666666666,
              "#ed7953"
             ],
             [
              0.7777777777777778,
              "#fb9f3a"
             ],
             [
              0.8888888888888888,
              "#fdca26"
             ],
             [
              1,
              "#f0f921"
             ]
            ],
            "type": "heatmap"
           }
          ],
          "heatmapgl": [
           {
            "colorbar": {
             "outlinewidth": 0,
             "ticks": ""
            },
            "colorscale": [
             [
              0,
              "#0d0887"
             ],
             [
              0.1111111111111111,
              "#46039f"
             ],
             [
              0.2222222222222222,
              "#7201a8"
             ],
             [
              0.3333333333333333,
              "#9c179e"
             ],
             [
              0.4444444444444444,
              "#bd3786"
             ],
             [
              0.5555555555555556,
              "#d8576b"
             ],
             [
              0.6666666666666666,
              "#ed7953"
             ],
             [
              0.7777777777777778,
              "#fb9f3a"
             ],
             [
              0.8888888888888888,
              "#fdca26"
             ],
             [
              1,
              "#f0f921"
             ]
            ],
            "type": "heatmapgl"
           }
          ],
          "histogram": [
           {
            "marker": {
             "pattern": {
              "fillmode": "overlay",
              "size": 10,
              "solidity": 0.2
             }
            },
            "type": "histogram"
           }
          ],
          "histogram2d": [
           {
            "colorbar": {
             "outlinewidth": 0,
             "ticks": ""
            },
            "colorscale": [
             [
              0,
              "#0d0887"
             ],
             [
              0.1111111111111111,
              "#46039f"
             ],
             [
              0.2222222222222222,
              "#7201a8"
             ],
             [
              0.3333333333333333,
              "#9c179e"
             ],
             [
              0.4444444444444444,
              "#bd3786"
             ],
             [
              0.5555555555555556,
              "#d8576b"
             ],
             [
              0.6666666666666666,
              "#ed7953"
             ],
             [
              0.7777777777777778,
              "#fb9f3a"
             ],
             [
              0.8888888888888888,
              "#fdca26"
             ],
             [
              1,
              "#f0f921"
             ]
            ],
            "type": "histogram2d"
           }
          ],
          "histogram2dcontour": [
           {
            "colorbar": {
             "outlinewidth": 0,
             "ticks": ""
            },
            "colorscale": [
             [
              0,
              "#0d0887"
             ],
             [
              0.1111111111111111,
              "#46039f"
             ],
             [
              0.2222222222222222,
              "#7201a8"
             ],
             [
              0.3333333333333333,
              "#9c179e"
             ],
             [
              0.4444444444444444,
              "#bd3786"
             ],
             [
              0.5555555555555556,
              "#d8576b"
             ],
             [
              0.6666666666666666,
              "#ed7953"
             ],
             [
              0.7777777777777778,
              "#fb9f3a"
             ],
             [
              0.8888888888888888,
              "#fdca26"
             ],
             [
              1,
              "#f0f921"
             ]
            ],
            "type": "histogram2dcontour"
           }
          ],
          "mesh3d": [
           {
            "colorbar": {
             "outlinewidth": 0,
             "ticks": ""
            },
            "type": "mesh3d"
           }
          ],
          "parcoords": [
           {
            "line": {
             "colorbar": {
              "outlinewidth": 0,
              "ticks": ""
             }
            },
            "type": "parcoords"
           }
          ],
          "pie": [
           {
            "automargin": true,
            "type": "pie"
           }
          ],
          "scatter": [
           {
            "fillpattern": {
             "fillmode": "overlay",
             "size": 10,
             "solidity": 0.2
            },
            "type": "scatter"
           }
          ],
          "scatter3d": [
           {
            "line": {
             "colorbar": {
              "outlinewidth": 0,
              "ticks": ""
             }
            },
            "marker": {
             "colorbar": {
              "outlinewidth": 0,
              "ticks": ""
             }
            },
            "type": "scatter3d"
           }
          ],
          "scattercarpet": [
           {
            "marker": {
             "colorbar": {
              "outlinewidth": 0,
              "ticks": ""
             }
            },
            "type": "scattercarpet"
           }
          ],
          "scattergeo": [
           {
            "marker": {
             "colorbar": {
              "outlinewidth": 0,
              "ticks": ""
             }
            },
            "type": "scattergeo"
           }
          ],
          "scattergl": [
           {
            "marker": {
             "colorbar": {
              "outlinewidth": 0,
              "ticks": ""
             }
            },
            "type": "scattergl"
           }
          ],
          "scattermapbox": [
           {
            "marker": {
             "colorbar": {
              "outlinewidth": 0,
              "ticks": ""
             }
            },
            "type": "scattermapbox"
           }
          ],
          "scatterpolar": [
           {
            "marker": {
             "colorbar": {
              "outlinewidth": 0,
              "ticks": ""
             }
            },
            "type": "scatterpolar"
           }
          ],
          "scatterpolargl": [
           {
            "marker": {
             "colorbar": {
              "outlinewidth": 0,
              "ticks": ""
             }
            },
            "type": "scatterpolargl"
           }
          ],
          "scatterternary": [
           {
            "marker": {
             "colorbar": {
              "outlinewidth": 0,
              "ticks": ""
             }
            },
            "type": "scatterternary"
           }
          ],
          "surface": [
           {
            "colorbar": {
             "outlinewidth": 0,
             "ticks": ""
            },
            "colorscale": [
             [
              0,
              "#0d0887"
             ],
             [
              0.1111111111111111,
              "#46039f"
             ],
             [
              0.2222222222222222,
              "#7201a8"
             ],
             [
              0.3333333333333333,
              "#9c179e"
             ],
             [
              0.4444444444444444,
              "#bd3786"
             ],
             [
              0.5555555555555556,
              "#d8576b"
             ],
             [
              0.6666666666666666,
              "#ed7953"
             ],
             [
              0.7777777777777778,
              "#fb9f3a"
             ],
             [
              0.8888888888888888,
              "#fdca26"
             ],
             [
              1,
              "#f0f921"
             ]
            ],
            "type": "surface"
           }
          ],
          "table": [
           {
            "cells": {
             "fill": {
              "color": "#EBF0F8"
             },
             "line": {
              "color": "white"
             }
            },
            "header": {
             "fill": {
              "color": "#C8D4E3"
             },
             "line": {
              "color": "white"
             }
            },
            "type": "table"
           }
          ]
         },
         "layout": {
          "annotationdefaults": {
           "arrowcolor": "#2a3f5f",
           "arrowhead": 0,
           "arrowwidth": 1
          },
          "autotypenumbers": "strict",
          "coloraxis": {
           "colorbar": {
            "outlinewidth": 0,
            "ticks": ""
           }
          },
          "colorscale": {
           "diverging": [
            [
             0,
             "#8e0152"
            ],
            [
             0.1,
             "#c51b7d"
            ],
            [
             0.2,
             "#de77ae"
            ],
            [
             0.3,
             "#f1b6da"
            ],
            [
             0.4,
             "#fde0ef"
            ],
            [
             0.5,
             "#f7f7f7"
            ],
            [
             0.6,
             "#e6f5d0"
            ],
            [
             0.7,
             "#b8e186"
            ],
            [
             0.8,
             "#7fbc41"
            ],
            [
             0.9,
             "#4d9221"
            ],
            [
             1,
             "#276419"
            ]
           ],
           "sequential": [
            [
             0,
             "#0d0887"
            ],
            [
             0.1111111111111111,
             "#46039f"
            ],
            [
             0.2222222222222222,
             "#7201a8"
            ],
            [
             0.3333333333333333,
             "#9c179e"
            ],
            [
             0.4444444444444444,
             "#bd3786"
            ],
            [
             0.5555555555555556,
             "#d8576b"
            ],
            [
             0.6666666666666666,
             "#ed7953"
            ],
            [
             0.7777777777777778,
             "#fb9f3a"
            ],
            [
             0.8888888888888888,
             "#fdca26"
            ],
            [
             1,
             "#f0f921"
            ]
           ],
           "sequentialminus": [
            [
             0,
             "#0d0887"
            ],
            [
             0.1111111111111111,
             "#46039f"
            ],
            [
             0.2222222222222222,
             "#7201a8"
            ],
            [
             0.3333333333333333,
             "#9c179e"
            ],
            [
             0.4444444444444444,
             "#bd3786"
            ],
            [
             0.5555555555555556,
             "#d8576b"
            ],
            [
             0.6666666666666666,
             "#ed7953"
            ],
            [
             0.7777777777777778,
             "#fb9f3a"
            ],
            [
             0.8888888888888888,
             "#fdca26"
            ],
            [
             1,
             "#f0f921"
            ]
           ]
          },
          "colorway": [
           "#636efa",
           "#EF553B",
           "#00cc96",
           "#ab63fa",
           "#FFA15A",
           "#19d3f3",
           "#FF6692",
           "#B6E880",
           "#FF97FF",
           "#FECB52"
          ],
          "font": {
           "color": "#2a3f5f"
          },
          "geo": {
           "bgcolor": "white",
           "lakecolor": "white",
           "landcolor": "#E5ECF6",
           "showlakes": true,
           "showland": true,
           "subunitcolor": "white"
          },
          "hoverlabel": {
           "align": "left"
          },
          "hovermode": "closest",
          "mapbox": {
           "style": "light"
          },
          "paper_bgcolor": "white",
          "plot_bgcolor": "#E5ECF6",
          "polar": {
           "angularaxis": {
            "gridcolor": "white",
            "linecolor": "white",
            "ticks": ""
           },
           "bgcolor": "#E5ECF6",
           "radialaxis": {
            "gridcolor": "white",
            "linecolor": "white",
            "ticks": ""
           }
          },
          "scene": {
           "xaxis": {
            "backgroundcolor": "#E5ECF6",
            "gridcolor": "white",
            "gridwidth": 2,
            "linecolor": "white",
            "showbackground": true,
            "ticks": "",
            "zerolinecolor": "white"
           },
           "yaxis": {
            "backgroundcolor": "#E5ECF6",
            "gridcolor": "white",
            "gridwidth": 2,
            "linecolor": "white",
            "showbackground": true,
            "ticks": "",
            "zerolinecolor": "white"
           },
           "zaxis": {
            "backgroundcolor": "#E5ECF6",
            "gridcolor": "white",
            "gridwidth": 2,
            "linecolor": "white",
            "showbackground": true,
            "ticks": "",
            "zerolinecolor": "white"
           }
          },
          "shapedefaults": {
           "line": {
            "color": "#2a3f5f"
           }
          },
          "ternary": {
           "aaxis": {
            "gridcolor": "white",
            "linecolor": "white",
            "ticks": ""
           },
           "baxis": {
            "gridcolor": "white",
            "linecolor": "white",
            "ticks": ""
           },
           "bgcolor": "#E5ECF6",
           "caxis": {
            "gridcolor": "white",
            "linecolor": "white",
            "ticks": ""
           }
          },
          "title": {
           "x": 0.05
          },
          "xaxis": {
           "automargin": true,
           "gridcolor": "white",
           "linecolor": "white",
           "ticks": "",
           "title": {
            "standoff": 15
           },
           "zerolinecolor": "white",
           "zerolinewidth": 2
          },
          "yaxis": {
           "automargin": true,
           "gridcolor": "white",
           "linecolor": "white",
           "ticks": "",
           "title": {
            "standoff": 15
           },
           "zerolinecolor": "white",
           "zerolinewidth": 2
          }
         }
        },
        "title": {
         "text": "Aantal vluchtelingen en terroristische aanslagen in Europa"
        },
        "xaxis": {
         "title": {
          "text": "Jaar"
         },
         "type": "category"
        },
        "yaxis": {
         "range": [
          0,
          22000000
         ],
         "side": "left",
         "title": {
          "text": "Vluchtelingen onder UNHCR's mandate"
         }
        },
        "yaxis2": {
         "overlaying": "y",
         "range": [
          0,
          1200
         ],
         "side": "right",
         "title": {
          "text": "Terroristische aanslagen"
         }
        }
       }
      }
     },
     "metadata": {},
     "output_type": "display_data"
    }
   ],
   "source": [
    "import plotly.graph_objs as go\n",
    "import plotly.express as px\n",
    "import pandas as pd\n",
    "import geopandas as gpd\n",
    "import matplotlib.pyplot as plt\n",
    "\n",
    "df3 = pd.read_csv('aanslagen_per_jaar.csv')\n",
    "\n",
    "colors = ['rgb(238, 75, 43)', 'rgb(252,245,245)', 'rgb(129, 133, 137)']\n",
    "fig = go.Figure()\n",
    "\n",
    "fig.add_trace(go.Scatter(\n",
    "    x=df2['Year'],\n",
    "    y=df2[\"Refugees under UNHCR's mandate\"],\n",
    "    marker_color='rgb(238, 75, 43)',\n",
    "    name=\"Vluchtelingen\",\n",
    "    yaxis='y'  \n",
    "))\n",
    "\n",
    "fig.add_trace(go.Scatter(\n",
    "    x=df3['year'],\n",
    "    y=df3[('count')],\n",
    "    marker_color='rgb(129, 133, 137)',\n",
    "    name=\"Aanslagen\",\n",
    "    yaxis='y2'  \n",
    "))\n",
    "\n",
    "fig.update_layout(\n",
    "    title='Aantal vluchtelingen en terroristische aanslagen in Europa',\n",
    "    xaxis=dict(type='category'),\n",
    "    yaxis=dict(range=[0, 22000000], title=\"Vluchtelingen onder UNHCR's mandate\" , side='left'),\n",
    "    yaxis2=dict(range=[0, 1200], title=\"Terroristische aanslagen\", overlaying='y', side='right'),  \n",
    "    xaxis_title='Jaar',\n",
    "    height=500,\n",
    "    bargap=0.1,\n",
    "    plot_bgcolor='rgb(252,245,245)',\n",
    ")\n",
    "\n",
    "fig.show()"
   ]
  },
  {
   "attachments": {},
   "cell_type": "markdown",
   "id": "f07d4a62-ad4f-4fd3-84ad-3540363a03fb",
   "metadata": {},
   "source": [
    "> *Figuur 2: Zowel het aantal vluchtelingen als het aantal terroristische aanslagen namen vanaf 2013 toe. "
   ]
  },
  {
   "attachments": {},
   "cell_type": "markdown",
   "id": "d42bd1f8",
   "metadata": {},
   "source": [
    "x"
   ]
  },
  {
   "attachments": {},
   "cell_type": "markdown",
   "id": "e0a5e8f3-eed9-4965-a85d-05a296514ca0",
   "metadata": {},
   "source": [
    "### Tweede argument eerste perspectief "
   ]
  },
  {
   "attachments": {},
   "cell_type": "markdown",
   "id": "c0bcecf9-e17c-477a-a229-55277d48fe64",
   "metadata": {},
   "source": [
    "x"
   ]
  },
  {
   "cell_type": "code",
   "execution_count": 58,
   "id": "26330b40",
   "metadata": {},
   "outputs": [
    {
     "data": {
      "application/vnd.plotly.v1+json": {
       "config": {
        "plotlyServerURL": "https://plot.ly"
       },
       "data": [
        {
         "marker": {
          "color": "rgb(238, 75, 43)"
         },
         "name": "Vluchtelingen",
         "type": "bar",
         "x": [
          2000,
          2001,
          2002,
          2003,
          2004,
          2005,
          2006,
          2007,
          2008,
          2009,
          2010,
          2011,
          2012,
          2013,
          2014,
          2015,
          2016,
          2017
         ],
         "y": [
          157206,
          146480,
          142170,
          112148,
          73383,
          74889,
          79895,
          75055,
          77016,
          81346,
          82620,
          86603,
          92869,
          114172,
          142197,
          169516,
          230158,
          240954
         ],
         "yaxis": "y"
        },
        {
         "marker": {
          "color": "rgb(129, 133, 137)"
         },
         "name": "Aanslagen",
         "type": "bar",
         "width": 0.4,
         "x": [
          2000,
          2005,
          2006,
          2008,
          2009,
          2010,
          2011,
          2012,
          2014,
          2015,
          2016,
          2017
         ],
         "y": [
          1,
          3,
          1,
          1,
          1,
          3,
          1,
          2,
          5,
          32,
          16,
          18
         ],
         "yaxis": "y2"
        }
       ],
       "layout": {
        "bargap": 0.1,
        "height": 500,
        "plot_bgcolor": "rgb(252,245,245)",
        "template": {
         "data": {
          "bar": [
           {
            "error_x": {
             "color": "#2a3f5f"
            },
            "error_y": {
             "color": "#2a3f5f"
            },
            "marker": {
             "line": {
              "color": "#E5ECF6",
              "width": 0.5
             },
             "pattern": {
              "fillmode": "overlay",
              "size": 10,
              "solidity": 0.2
             }
            },
            "type": "bar"
           }
          ],
          "barpolar": [
           {
            "marker": {
             "line": {
              "color": "#E5ECF6",
              "width": 0.5
             },
             "pattern": {
              "fillmode": "overlay",
              "size": 10,
              "solidity": 0.2
             }
            },
            "type": "barpolar"
           }
          ],
          "carpet": [
           {
            "aaxis": {
             "endlinecolor": "#2a3f5f",
             "gridcolor": "white",
             "linecolor": "white",
             "minorgridcolor": "white",
             "startlinecolor": "#2a3f5f"
            },
            "baxis": {
             "endlinecolor": "#2a3f5f",
             "gridcolor": "white",
             "linecolor": "white",
             "minorgridcolor": "white",
             "startlinecolor": "#2a3f5f"
            },
            "type": "carpet"
           }
          ],
          "choropleth": [
           {
            "colorbar": {
             "outlinewidth": 0,
             "ticks": ""
            },
            "type": "choropleth"
           }
          ],
          "contour": [
           {
            "colorbar": {
             "outlinewidth": 0,
             "ticks": ""
            },
            "colorscale": [
             [
              0,
              "#0d0887"
             ],
             [
              0.1111111111111111,
              "#46039f"
             ],
             [
              0.2222222222222222,
              "#7201a8"
             ],
             [
              0.3333333333333333,
              "#9c179e"
             ],
             [
              0.4444444444444444,
              "#bd3786"
             ],
             [
              0.5555555555555556,
              "#d8576b"
             ],
             [
              0.6666666666666666,
              "#ed7953"
             ],
             [
              0.7777777777777778,
              "#fb9f3a"
             ],
             [
              0.8888888888888888,
              "#fdca26"
             ],
             [
              1,
              "#f0f921"
             ]
            ],
            "type": "contour"
           }
          ],
          "contourcarpet": [
           {
            "colorbar": {
             "outlinewidth": 0,
             "ticks": ""
            },
            "type": "contourcarpet"
           }
          ],
          "heatmap": [
           {
            "colorbar": {
             "outlinewidth": 0,
             "ticks": ""
            },
            "colorscale": [
             [
              0,
              "#0d0887"
             ],
             [
              0.1111111111111111,
              "#46039f"
             ],
             [
              0.2222222222222222,
              "#7201a8"
             ],
             [
              0.3333333333333333,
              "#9c179e"
             ],
             [
              0.4444444444444444,
              "#bd3786"
             ],
             [
              0.5555555555555556,
              "#d8576b"
             ],
             [
              0.6666666666666666,
              "#ed7953"
             ],
             [
              0.7777777777777778,
              "#fb9f3a"
             ],
             [
              0.8888888888888888,
              "#fdca26"
             ],
             [
              1,
              "#f0f921"
             ]
            ],
            "type": "heatmap"
           }
          ],
          "heatmapgl": [
           {
            "colorbar": {
             "outlinewidth": 0,
             "ticks": ""
            },
            "colorscale": [
             [
              0,
              "#0d0887"
             ],
             [
              0.1111111111111111,
              "#46039f"
             ],
             [
              0.2222222222222222,
              "#7201a8"
             ],
             [
              0.3333333333333333,
              "#9c179e"
             ],
             [
              0.4444444444444444,
              "#bd3786"
             ],
             [
              0.5555555555555556,
              "#d8576b"
             ],
             [
              0.6666666666666666,
              "#ed7953"
             ],
             [
              0.7777777777777778,
              "#fb9f3a"
             ],
             [
              0.8888888888888888,
              "#fdca26"
             ],
             [
              1,
              "#f0f921"
             ]
            ],
            "type": "heatmapgl"
           }
          ],
          "histogram": [
           {
            "marker": {
             "pattern": {
              "fillmode": "overlay",
              "size": 10,
              "solidity": 0.2
             }
            },
            "type": "histogram"
           }
          ],
          "histogram2d": [
           {
            "colorbar": {
             "outlinewidth": 0,
             "ticks": ""
            },
            "colorscale": [
             [
              0,
              "#0d0887"
             ],
             [
              0.1111111111111111,
              "#46039f"
             ],
             [
              0.2222222222222222,
              "#7201a8"
             ],
             [
              0.3333333333333333,
              "#9c179e"
             ],
             [
              0.4444444444444444,
              "#bd3786"
             ],
             [
              0.5555555555555556,
              "#d8576b"
             ],
             [
              0.6666666666666666,
              "#ed7953"
             ],
             [
              0.7777777777777778,
              "#fb9f3a"
             ],
             [
              0.8888888888888888,
              "#fdca26"
             ],
             [
              1,
              "#f0f921"
             ]
            ],
            "type": "histogram2d"
           }
          ],
          "histogram2dcontour": [
           {
            "colorbar": {
             "outlinewidth": 0,
             "ticks": ""
            },
            "colorscale": [
             [
              0,
              "#0d0887"
             ],
             [
              0.1111111111111111,
              "#46039f"
             ],
             [
              0.2222222222222222,
              "#7201a8"
             ],
             [
              0.3333333333333333,
              "#9c179e"
             ],
             [
              0.4444444444444444,
              "#bd3786"
             ],
             [
              0.5555555555555556,
              "#d8576b"
             ],
             [
              0.6666666666666666,
              "#ed7953"
             ],
             [
              0.7777777777777778,
              "#fb9f3a"
             ],
             [
              0.8888888888888888,
              "#fdca26"
             ],
             [
              1,
              "#f0f921"
             ]
            ],
            "type": "histogram2dcontour"
           }
          ],
          "mesh3d": [
           {
            "colorbar": {
             "outlinewidth": 0,
             "ticks": ""
            },
            "type": "mesh3d"
           }
          ],
          "parcoords": [
           {
            "line": {
             "colorbar": {
              "outlinewidth": 0,
              "ticks": ""
             }
            },
            "type": "parcoords"
           }
          ],
          "pie": [
           {
            "automargin": true,
            "type": "pie"
           }
          ],
          "scatter": [
           {
            "fillpattern": {
             "fillmode": "overlay",
             "size": 10,
             "solidity": 0.2
            },
            "type": "scatter"
           }
          ],
          "scatter3d": [
           {
            "line": {
             "colorbar": {
              "outlinewidth": 0,
              "ticks": ""
             }
            },
            "marker": {
             "colorbar": {
              "outlinewidth": 0,
              "ticks": ""
             }
            },
            "type": "scatter3d"
           }
          ],
          "scattercarpet": [
           {
            "marker": {
             "colorbar": {
              "outlinewidth": 0,
              "ticks": ""
             }
            },
            "type": "scattercarpet"
           }
          ],
          "scattergeo": [
           {
            "marker": {
             "colorbar": {
              "outlinewidth": 0,
              "ticks": ""
             }
            },
            "type": "scattergeo"
           }
          ],
          "scattergl": [
           {
            "marker": {
             "colorbar": {
              "outlinewidth": 0,
              "ticks": ""
             }
            },
            "type": "scattergl"
           }
          ],
          "scattermapbox": [
           {
            "marker": {
             "colorbar": {
              "outlinewidth": 0,
              "ticks": ""
             }
            },
            "type": "scattermapbox"
           }
          ],
          "scatterpolar": [
           {
            "marker": {
             "colorbar": {
              "outlinewidth": 0,
              "ticks": ""
             }
            },
            "type": "scatterpolar"
           }
          ],
          "scatterpolargl": [
           {
            "marker": {
             "colorbar": {
              "outlinewidth": 0,
              "ticks": ""
             }
            },
            "type": "scatterpolargl"
           }
          ],
          "scatterternary": [
           {
            "marker": {
             "colorbar": {
              "outlinewidth": 0,
              "ticks": ""
             }
            },
            "type": "scatterternary"
           }
          ],
          "surface": [
           {
            "colorbar": {
             "outlinewidth": 0,
             "ticks": ""
            },
            "colorscale": [
             [
              0,
              "#0d0887"
             ],
             [
              0.1111111111111111,
              "#46039f"
             ],
             [
              0.2222222222222222,
              "#7201a8"
             ],
             [
              0.3333333333333333,
              "#9c179e"
             ],
             [
              0.4444444444444444,
              "#bd3786"
             ],
             [
              0.5555555555555556,
              "#d8576b"
             ],
             [
              0.6666666666666666,
              "#ed7953"
             ],
             [
              0.7777777777777778,
              "#fb9f3a"
             ],
             [
              0.8888888888888888,
              "#fdca26"
             ],
             [
              1,
              "#f0f921"
             ]
            ],
            "type": "surface"
           }
          ],
          "table": [
           {
            "cells": {
             "fill": {
              "color": "#EBF0F8"
             },
             "line": {
              "color": "white"
             }
            },
            "header": {
             "fill": {
              "color": "#C8D4E3"
             },
             "line": {
              "color": "white"
             }
            },
            "type": "table"
           }
          ]
         },
         "layout": {
          "annotationdefaults": {
           "arrowcolor": "#2a3f5f",
           "arrowhead": 0,
           "arrowwidth": 1
          },
          "autotypenumbers": "strict",
          "coloraxis": {
           "colorbar": {
            "outlinewidth": 0,
            "ticks": ""
           }
          },
          "colorscale": {
           "diverging": [
            [
             0,
             "#8e0152"
            ],
            [
             0.1,
             "#c51b7d"
            ],
            [
             0.2,
             "#de77ae"
            ],
            [
             0.3,
             "#f1b6da"
            ],
            [
             0.4,
             "#fde0ef"
            ],
            [
             0.5,
             "#f7f7f7"
            ],
            [
             0.6,
             "#e6f5d0"
            ],
            [
             0.7,
             "#b8e186"
            ],
            [
             0.8,
             "#7fbc41"
            ],
            [
             0.9,
             "#4d9221"
            ],
            [
             1,
             "#276419"
            ]
           ],
           "sequential": [
            [
             0,
             "#0d0887"
            ],
            [
             0.1111111111111111,
             "#46039f"
            ],
            [
             0.2222222222222222,
             "#7201a8"
            ],
            [
             0.3333333333333333,
             "#9c179e"
            ],
            [
             0.4444444444444444,
             "#bd3786"
            ],
            [
             0.5555555555555556,
             "#d8576b"
            ],
            [
             0.6666666666666666,
             "#ed7953"
            ],
            [
             0.7777777777777778,
             "#fb9f3a"
            ],
            [
             0.8888888888888888,
             "#fdca26"
            ],
            [
             1,
             "#f0f921"
            ]
           ],
           "sequentialminus": [
            [
             0,
             "#0d0887"
            ],
            [
             0.1111111111111111,
             "#46039f"
            ],
            [
             0.2222222222222222,
             "#7201a8"
            ],
            [
             0.3333333333333333,
             "#9c179e"
            ],
            [
             0.4444444444444444,
             "#bd3786"
            ],
            [
             0.5555555555555556,
             "#d8576b"
            ],
            [
             0.6666666666666666,
             "#ed7953"
            ],
            [
             0.7777777777777778,
             "#fb9f3a"
            ],
            [
             0.8888888888888888,
             "#fdca26"
            ],
            [
             1,
             "#f0f921"
            ]
           ]
          },
          "colorway": [
           "#636efa",
           "#EF553B",
           "#00cc96",
           "#ab63fa",
           "#FFA15A",
           "#19d3f3",
           "#FF6692",
           "#B6E880",
           "#FF97FF",
           "#FECB52"
          ],
          "font": {
           "color": "#2a3f5f"
          },
          "geo": {
           "bgcolor": "white",
           "lakecolor": "white",
           "landcolor": "#E5ECF6",
           "showlakes": true,
           "showland": true,
           "subunitcolor": "white"
          },
          "hoverlabel": {
           "align": "left"
          },
          "hovermode": "closest",
          "mapbox": {
           "style": "light"
          },
          "paper_bgcolor": "white",
          "plot_bgcolor": "#E5ECF6",
          "polar": {
           "angularaxis": {
            "gridcolor": "white",
            "linecolor": "white",
            "ticks": ""
           },
           "bgcolor": "#E5ECF6",
           "radialaxis": {
            "gridcolor": "white",
            "linecolor": "white",
            "ticks": ""
           }
          },
          "scene": {
           "xaxis": {
            "backgroundcolor": "#E5ECF6",
            "gridcolor": "white",
            "gridwidth": 2,
            "linecolor": "white",
            "showbackground": true,
            "ticks": "",
            "zerolinecolor": "white"
           },
           "yaxis": {
            "backgroundcolor": "#E5ECF6",
            "gridcolor": "white",
            "gridwidth": 2,
            "linecolor": "white",
            "showbackground": true,
            "ticks": "",
            "zerolinecolor": "white"
           },
           "zaxis": {
            "backgroundcolor": "#E5ECF6",
            "gridcolor": "white",
            "gridwidth": 2,
            "linecolor": "white",
            "showbackground": true,
            "ticks": "",
            "zerolinecolor": "white"
           }
          },
          "shapedefaults": {
           "line": {
            "color": "#2a3f5f"
           }
          },
          "ternary": {
           "aaxis": {
            "gridcolor": "white",
            "linecolor": "white",
            "ticks": ""
           },
           "baxis": {
            "gridcolor": "white",
            "linecolor": "white",
            "ticks": ""
           },
           "bgcolor": "#E5ECF6",
           "caxis": {
            "gridcolor": "white",
            "linecolor": "white",
            "ticks": ""
           }
          },
          "title": {
           "x": 0.05
          },
          "xaxis": {
           "automargin": true,
           "gridcolor": "white",
           "linecolor": "white",
           "ticks": "",
           "title": {
            "standoff": 15
           },
           "zerolinecolor": "white",
           "zerolinewidth": 2
          },
          "yaxis": {
           "automargin": true,
           "gridcolor": "white",
           "linecolor": "white",
           "ticks": "",
           "title": {
            "standoff": 15
           },
           "zerolinecolor": "white",
           "zerolinewidth": 2
          }
         }
        },
        "title": {
         "text": "Aantal vluchtelingen en terroristische aanslagen in Zweden"
        },
        "xaxis": {
         "title": {
          "text": "Year"
         },
         "type": "category"
        },
        "yaxis": {
         "range": [
          0,
          250000
         ],
         "side": "left",
         "title": {
          "text": "Vluchtelingen onder UNHCR's mandate"
         }
        },
        "yaxis2": {
         "overlaying": "y",
         "range": [
          0,
          35
         ],
         "side": "right",
         "title": {
          "text": "Terroristische aanslagen"
         }
        }
       }
      }
     },
     "metadata": {},
     "output_type": "display_data"
    }
   ],
   "source": [
    "df4 = pd.read_csv('migranten_per_jaar_per_land.csv')\n",
    "df5 = df4[df4.Year.between(2000, 2017)]\n",
    "df10 = df5[df5[\"Country of asylum\"] == 'Sweden']\n",
    "df10.head()\n",
    "\n",
    "df7 = pd.read_csv('aanslagen_per_jaar_per_land.csv')\n",
    "df8 = df7[df7.year.between(2000, 2017)]\n",
    "df11 = df8[df8[\"country\"] == 'Sweden']\n",
    "df11.head()\n",
    "colors = ['rgb(238, 75, 43)', 'rgb(252,245,245)', 'rgb(129, 133, 137)']\n",
    "fig = go.Figure()\n",
    "\n",
    "fig.add_trace(go.Bar(\n",
    "    x=df10['Year'],\n",
    "    y=df10[\"Refugees under UNHCR's mandate\"],\n",
    "    marker_color='rgb(238, 75, 43)',\n",
    "    name=\"Vluchtelingen\",\n",
    "    yaxis='y'  \n",
    "))\n",
    "\n",
    "fig.add_trace(go.Bar(\n",
    "    x=df11['year'],\n",
    "    y=df11[('count')],\n",
    "    marker_color='rgb(129, 133, 137)',\n",
    "    name=\"Aanslagen\",\n",
    "    yaxis='y2',\n",
    "    width=0.4\n",
    "))\n",
    "\n",
    "fig.update_layout(\n",
    "    title='Aantal vluchtelingen en terroristische aanslagen in Zweden',\n",
    "    xaxis=dict(type='category'),\n",
    "    yaxis=dict(range=[0, 250000], title=\"Vluchtelingen onder UNHCR's mandate\" , side='left'),\n",
    "    yaxis2=dict(range=[0, 35], title=\"Terroristische aanslagen\", overlaying='y', side='right'),  \n",
    "    xaxis_title='Year',\n",
    "    height=500,\n",
    "    bargap=0.1,\n",
    "    plot_bgcolor='rgb(252,245,245)',\n",
    ")\n",
    "\n",
    "fig.show()"
   ]
  },
  {
   "attachments": {},
   "cell_type": "markdown",
   "id": "8e01484c",
   "metadata": {},
   "source": [
    "> Figuur 3: Gelijk aan de stijging van het aantal vluchtelingen in Zweden was er ook een stijging van het aantal terroristische aanslagen in Zweden."
   ]
  },
  {
   "attachments": {},
   "cell_type": "markdown",
   "id": "e1ec4c90-ccd9-4940-9a0e-18799c438ef5",
   "metadata": {},
   "source": [
    "## Your Second Perspective"
   ]
  },
  {
   "attachments": {},
   "cell_type": "markdown",
   "id": "005e94a9",
   "metadata": {},
   "source": [
    "x"
   ]
  },
  {
   "attachments": {},
   "cell_type": "markdown",
   "id": "4a3eacb4-4812-474a-9900-71e2ac33cb5f",
   "metadata": {},
   "source": [
    "### The First Argument of Your Second Perspective"
   ]
  },
  {
   "attachments": {},
   "cell_type": "markdown",
   "id": "62b3848e-5c37-482c-a584-c7c2a02a1e95",
   "metadata": {},
   "source": [
    "x"
   ]
  },
  {
   "cell_type": "code",
   "execution_count": 59,
   "id": "982ff45f",
   "metadata": {
    "hideCode": false,
    "tags": [
     "hide-input"
    ]
   },
   "outputs": [
    {
     "data": {
      "application/vnd.plotly.v1+json": {
       "config": {
        "plotlyServerURL": "https://plot.ly"
       },
       "data": [
        {
         "marker": {
          "color": "rgb(238, 75, 43)"
         },
         "name": "Vluchtelingen",
         "type": "bar",
         "x": [
          2000,
          2001,
          2002,
          2003,
          2004,
          2005,
          2006,
          2007,
          2008,
          2009,
          2010,
          2011,
          2012,
          2013,
          2014,
          2015,
          2016,
          2017
         ],
         "y": [
          57624,
          58471,
          54081,
          50126,
          47654,
          48010,
          48508,
          45642,
          46131,
          46204,
          48813,
          50401,
          50733,
          52448,
          62596,
          73326,
          82668,
          93030
         ],
         "yaxis": "y"
        },
        {
         "marker": {
          "color": "rgb(129, 133, 137)"
         },
         "name": "Aanslagen",
         "type": "bar",
         "width": 0.4,
         "x": [
          2000,
          2001,
          2003,
          2007,
          2011,
          2013,
          2016
         ],
         "y": [
          4,
          2,
          1,
          2,
          3,
          2,
          1
         ],
         "yaxis": "y2"
        }
       ],
       "layout": {
        "bargap": 0.1,
        "height": 500,
        "plot_bgcolor": "rgb(252,245,245)",
        "template": {
         "data": {
          "bar": [
           {
            "error_x": {
             "color": "#2a3f5f"
            },
            "error_y": {
             "color": "#2a3f5f"
            },
            "marker": {
             "line": {
              "color": "#E5ECF6",
              "width": 0.5
             },
             "pattern": {
              "fillmode": "overlay",
              "size": 10,
              "solidity": 0.2
             }
            },
            "type": "bar"
           }
          ],
          "barpolar": [
           {
            "marker": {
             "line": {
              "color": "#E5ECF6",
              "width": 0.5
             },
             "pattern": {
              "fillmode": "overlay",
              "size": 10,
              "solidity": 0.2
             }
            },
            "type": "barpolar"
           }
          ],
          "carpet": [
           {
            "aaxis": {
             "endlinecolor": "#2a3f5f",
             "gridcolor": "white",
             "linecolor": "white",
             "minorgridcolor": "white",
             "startlinecolor": "#2a3f5f"
            },
            "baxis": {
             "endlinecolor": "#2a3f5f",
             "gridcolor": "white",
             "linecolor": "white",
             "minorgridcolor": "white",
             "startlinecolor": "#2a3f5f"
            },
            "type": "carpet"
           }
          ],
          "choropleth": [
           {
            "colorbar": {
             "outlinewidth": 0,
             "ticks": ""
            },
            "type": "choropleth"
           }
          ],
          "contour": [
           {
            "colorbar": {
             "outlinewidth": 0,
             "ticks": ""
            },
            "colorscale": [
             [
              0,
              "#0d0887"
             ],
             [
              0.1111111111111111,
              "#46039f"
             ],
             [
              0.2222222222222222,
              "#7201a8"
             ],
             [
              0.3333333333333333,
              "#9c179e"
             ],
             [
              0.4444444444444444,
              "#bd3786"
             ],
             [
              0.5555555555555556,
              "#d8576b"
             ],
             [
              0.6666666666666666,
              "#ed7953"
             ],
             [
              0.7777777777777778,
              "#fb9f3a"
             ],
             [
              0.8888888888888888,
              "#fdca26"
             ],
             [
              1,
              "#f0f921"
             ]
            ],
            "type": "contour"
           }
          ],
          "contourcarpet": [
           {
            "colorbar": {
             "outlinewidth": 0,
             "ticks": ""
            },
            "type": "contourcarpet"
           }
          ],
          "heatmap": [
           {
            "colorbar": {
             "outlinewidth": 0,
             "ticks": ""
            },
            "colorscale": [
             [
              0,
              "#0d0887"
             ],
             [
              0.1111111111111111,
              "#46039f"
             ],
             [
              0.2222222222222222,
              "#7201a8"
             ],
             [
              0.3333333333333333,
              "#9c179e"
             ],
             [
              0.4444444444444444,
              "#bd3786"
             ],
             [
              0.5555555555555556,
              "#d8576b"
             ],
             [
              0.6666666666666666,
              "#ed7953"
             ],
             [
              0.7777777777777778,
              "#fb9f3a"
             ],
             [
              0.8888888888888888,
              "#fdca26"
             ],
             [
              1,
              "#f0f921"
             ]
            ],
            "type": "heatmap"
           }
          ],
          "heatmapgl": [
           {
            "colorbar": {
             "outlinewidth": 0,
             "ticks": ""
            },
            "colorscale": [
             [
              0,
              "#0d0887"
             ],
             [
              0.1111111111111111,
              "#46039f"
             ],
             [
              0.2222222222222222,
              "#7201a8"
             ],
             [
              0.3333333333333333,
              "#9c179e"
             ],
             [
              0.4444444444444444,
              "#bd3786"
             ],
             [
              0.5555555555555556,
              "#d8576b"
             ],
             [
              0.6666666666666666,
              "#ed7953"
             ],
             [
              0.7777777777777778,
              "#fb9f3a"
             ],
             [
              0.8888888888888888,
              "#fdca26"
             ],
             [
              1,
              "#f0f921"
             ]
            ],
            "type": "heatmapgl"
           }
          ],
          "histogram": [
           {
            "marker": {
             "pattern": {
              "fillmode": "overlay",
              "size": 10,
              "solidity": 0.2
             }
            },
            "type": "histogram"
           }
          ],
          "histogram2d": [
           {
            "colorbar": {
             "outlinewidth": 0,
             "ticks": ""
            },
            "colorscale": [
             [
              0,
              "#0d0887"
             ],
             [
              0.1111111111111111,
              "#46039f"
             ],
             [
              0.2222222222222222,
              "#7201a8"
             ],
             [
              0.3333333333333333,
              "#9c179e"
             ],
             [
              0.4444444444444444,
              "#bd3786"
             ],
             [
              0.5555555555555556,
              "#d8576b"
             ],
             [
              0.6666666666666666,
              "#ed7953"
             ],
             [
              0.7777777777777778,
              "#fb9f3a"
             ],
             [
              0.8888888888888888,
              "#fdca26"
             ],
             [
              1,
              "#f0f921"
             ]
            ],
            "type": "histogram2d"
           }
          ],
          "histogram2dcontour": [
           {
            "colorbar": {
             "outlinewidth": 0,
             "ticks": ""
            },
            "colorscale": [
             [
              0,
              "#0d0887"
             ],
             [
              0.1111111111111111,
              "#46039f"
             ],
             [
              0.2222222222222222,
              "#7201a8"
             ],
             [
              0.3333333333333333,
              "#9c179e"
             ],
             [
              0.4444444444444444,
              "#bd3786"
             ],
             [
              0.5555555555555556,
              "#d8576b"
             ],
             [
              0.6666666666666666,
              "#ed7953"
             ],
             [
              0.7777777777777778,
              "#fb9f3a"
             ],
             [
              0.8888888888888888,
              "#fdca26"
             ],
             [
              1,
              "#f0f921"
             ]
            ],
            "type": "histogram2dcontour"
           }
          ],
          "mesh3d": [
           {
            "colorbar": {
             "outlinewidth": 0,
             "ticks": ""
            },
            "type": "mesh3d"
           }
          ],
          "parcoords": [
           {
            "line": {
             "colorbar": {
              "outlinewidth": 0,
              "ticks": ""
             }
            },
            "type": "parcoords"
           }
          ],
          "pie": [
           {
            "automargin": true,
            "type": "pie"
           }
          ],
          "scatter": [
           {
            "fillpattern": {
             "fillmode": "overlay",
             "size": 10,
             "solidity": 0.2
            },
            "type": "scatter"
           }
          ],
          "scatter3d": [
           {
            "line": {
             "colorbar": {
              "outlinewidth": 0,
              "ticks": ""
             }
            },
            "marker": {
             "colorbar": {
              "outlinewidth": 0,
              "ticks": ""
             }
            },
            "type": "scatter3d"
           }
          ],
          "scattercarpet": [
           {
            "marker": {
             "colorbar": {
              "outlinewidth": 0,
              "ticks": ""
             }
            },
            "type": "scattercarpet"
           }
          ],
          "scattergeo": [
           {
            "marker": {
             "colorbar": {
              "outlinewidth": 0,
              "ticks": ""
             }
            },
            "type": "scattergeo"
           }
          ],
          "scattergl": [
           {
            "marker": {
             "colorbar": {
              "outlinewidth": 0,
              "ticks": ""
             }
            },
            "type": "scattergl"
           }
          ],
          "scattermapbox": [
           {
            "marker": {
             "colorbar": {
              "outlinewidth": 0,
              "ticks": ""
             }
            },
            "type": "scattermapbox"
           }
          ],
          "scatterpolar": [
           {
            "marker": {
             "colorbar": {
              "outlinewidth": 0,
              "ticks": ""
             }
            },
            "type": "scatterpolar"
           }
          ],
          "scatterpolargl": [
           {
            "marker": {
             "colorbar": {
              "outlinewidth": 0,
              "ticks": ""
             }
            },
            "type": "scatterpolargl"
           }
          ],
          "scatterternary": [
           {
            "marker": {
             "colorbar": {
              "outlinewidth": 0,
              "ticks": ""
             }
            },
            "type": "scatterternary"
           }
          ],
          "surface": [
           {
            "colorbar": {
             "outlinewidth": 0,
             "ticks": ""
            },
            "colorscale": [
             [
              0,
              "#0d0887"
             ],
             [
              0.1111111111111111,
              "#46039f"
             ],
             [
              0.2222222222222222,
              "#7201a8"
             ],
             [
              0.3333333333333333,
              "#9c179e"
             ],
             [
              0.4444444444444444,
              "#bd3786"
             ],
             [
              0.5555555555555556,
              "#d8576b"
             ],
             [
              0.6666666666666666,
              "#ed7953"
             ],
             [
              0.7777777777777778,
              "#fb9f3a"
             ],
             [
              0.8888888888888888,
              "#fdca26"
             ],
             [
              1,
              "#f0f921"
             ]
            ],
            "type": "surface"
           }
          ],
          "table": [
           {
            "cells": {
             "fill": {
              "color": "#EBF0F8"
             },
             "line": {
              "color": "white"
             }
            },
            "header": {
             "fill": {
              "color": "#C8D4E3"
             },
             "line": {
              "color": "white"
             }
            },
            "type": "table"
           }
          ]
         },
         "layout": {
          "annotationdefaults": {
           "arrowcolor": "#2a3f5f",
           "arrowhead": 0,
           "arrowwidth": 1
          },
          "autotypenumbers": "strict",
          "coloraxis": {
           "colorbar": {
            "outlinewidth": 0,
            "ticks": ""
           }
          },
          "colorscale": {
           "diverging": [
            [
             0,
             "#8e0152"
            ],
            [
             0.1,
             "#c51b7d"
            ],
            [
             0.2,
             "#de77ae"
            ],
            [
             0.3,
             "#f1b6da"
            ],
            [
             0.4,
             "#fde0ef"
            ],
            [
             0.5,
             "#f7f7f7"
            ],
            [
             0.6,
             "#e6f5d0"
            ],
            [
             0.7,
             "#b8e186"
            ],
            [
             0.8,
             "#7fbc41"
            ],
            [
             0.9,
             "#4d9221"
            ],
            [
             1,
             "#276419"
            ]
           ],
           "sequential": [
            [
             0,
             "#0d0887"
            ],
            [
             0.1111111111111111,
             "#46039f"
            ],
            [
             0.2222222222222222,
             "#7201a8"
            ],
            [
             0.3333333333333333,
             "#9c179e"
            ],
            [
             0.4444444444444444,
             "#bd3786"
            ],
            [
             0.5555555555555556,
             "#d8576b"
            ],
            [
             0.6666666666666666,
             "#ed7953"
            ],
            [
             0.7777777777777778,
             "#fb9f3a"
            ],
            [
             0.8888888888888888,
             "#fdca26"
            ],
            [
             1,
             "#f0f921"
            ]
           ],
           "sequentialminus": [
            [
             0,
             "#0d0887"
            ],
            [
             0.1111111111111111,
             "#46039f"
            ],
            [
             0.2222222222222222,
             "#7201a8"
            ],
            [
             0.3333333333333333,
             "#9c179e"
            ],
            [
             0.4444444444444444,
             "#bd3786"
            ],
            [
             0.5555555555555556,
             "#d8576b"
            ],
            [
             0.6666666666666666,
             "#ed7953"
            ],
            [
             0.7777777777777778,
             "#fb9f3a"
            ],
            [
             0.8888888888888888,
             "#fdca26"
            ],
            [
             1,
             "#f0f921"
            ]
           ]
          },
          "colorway": [
           "#636efa",
           "#EF553B",
           "#00cc96",
           "#ab63fa",
           "#FFA15A",
           "#19d3f3",
           "#FF6692",
           "#B6E880",
           "#FF97FF",
           "#FECB52"
          ],
          "font": {
           "color": "#2a3f5f"
          },
          "geo": {
           "bgcolor": "white",
           "lakecolor": "white",
           "landcolor": "#E5ECF6",
           "showlakes": true,
           "showland": true,
           "subunitcolor": "white"
          },
          "hoverlabel": {
           "align": "left"
          },
          "hovermode": "closest",
          "mapbox": {
           "style": "light"
          },
          "paper_bgcolor": "white",
          "plot_bgcolor": "#E5ECF6",
          "polar": {
           "angularaxis": {
            "gridcolor": "white",
            "linecolor": "white",
            "ticks": ""
           },
           "bgcolor": "#E5ECF6",
           "radialaxis": {
            "gridcolor": "white",
            "linecolor": "white",
            "ticks": ""
           }
          },
          "scene": {
           "xaxis": {
            "backgroundcolor": "#E5ECF6",
            "gridcolor": "white",
            "gridwidth": 2,
            "linecolor": "white",
            "showbackground": true,
            "ticks": "",
            "zerolinecolor": "white"
           },
           "yaxis": {
            "backgroundcolor": "#E5ECF6",
            "gridcolor": "white",
            "gridwidth": 2,
            "linecolor": "white",
            "showbackground": true,
            "ticks": "",
            "zerolinecolor": "white"
           },
           "zaxis": {
            "backgroundcolor": "#E5ECF6",
            "gridcolor": "white",
            "gridwidth": 2,
            "linecolor": "white",
            "showbackground": true,
            "ticks": "",
            "zerolinecolor": "white"
           }
          },
          "shapedefaults": {
           "line": {
            "color": "#2a3f5f"
           }
          },
          "ternary": {
           "aaxis": {
            "gridcolor": "white",
            "linecolor": "white",
            "ticks": ""
           },
           "baxis": {
            "gridcolor": "white",
            "linecolor": "white",
            "ticks": ""
           },
           "bgcolor": "#E5ECF6",
           "caxis": {
            "gridcolor": "white",
            "linecolor": "white",
            "ticks": ""
           }
          },
          "title": {
           "x": 0.05
          },
          "xaxis": {
           "automargin": true,
           "gridcolor": "white",
           "linecolor": "white",
           "ticks": "",
           "title": {
            "standoff": 15
           },
           "zerolinecolor": "white",
           "zerolinewidth": 2
          },
          "yaxis": {
           "automargin": true,
           "gridcolor": "white",
           "linecolor": "white",
           "ticks": "",
           "title": {
            "standoff": 15
           },
           "zerolinecolor": "white",
           "zerolinewidth": 2
          }
         }
        },
        "title": {
         "text": "Aantal vluchtelingen en terroristische aanslagen in Zwitserland"
        },
        "xaxis": {
         "title": {
          "text": "Jaar"
         },
         "type": "category"
        },
        "yaxis": {
         "range": [
          0,
          100000
         ],
         "side": "left",
         "title": {
          "text": "Vluchtelingen onder UNHCR's mandate"
         }
        },
        "yaxis2": {
         "overlaying": "y",
         "range": [
          0,
          5
         ],
         "side": "right",
         "title": {
          "text": "Terroristische aanslagen"
         }
        }
       }
      }
     },
     "metadata": {},
     "output_type": "display_data"
    }
   ],
   "source": [
    "import plotly.graph_objs as go\n",
    "import plotly.express as px\n",
    "import pandas as pd\n",
    "import geopandas as gpd\n",
    "import matplotlib.pyplot as plt\n",
    "\n",
    "df4 = pd.read_csv('migranten_per_jaar_per_land.csv')\n",
    "df5 = df4[df4.Year.between(2000, 2017)]\n",
    "df6 = df5[df5[\"Country of asylum\"] == 'Switzerland']\n",
    "\n",
    "df7 = pd.read_csv('aanslagen_per_jaar_per_land.csv')\n",
    "df8 = df7[df7.year.between(2000, 2017)]\n",
    "df9 = df8[df8[\"country\"] == 'Switzerland']\n",
    "\n",
    "colors = ['rgb(238, 75, 43)', 'rgb(252,245,245)', 'rgb(129, 133, 137)']\n",
    "fig = go.Figure()\n",
    "\n",
    "fig.add_trace(go.Bar(\n",
    "    x=df6['Year'],\n",
    "    y=df6[\"Refugees under UNHCR's mandate\"],\n",
    "    marker_color='rgb(238, 75, 43)',\n",
    "    name=\"Vluchtelingen\",\n",
    "    yaxis='y'  \n",
    "))\n",
    "\n",
    "fig.add_trace(go.Bar(\n",
    "    x=df9['year'],\n",
    "    y=df9[('count')],\n",
    "    marker_color='rgb(129, 133, 137)',\n",
    "    name=\"Aanslagen\",\n",
    "    yaxis='y2',\n",
    "    width=0.4  \n",
    "))\n",
    "\n",
    "fig.update_layout(\n",
    "    title='Aantal vluchtelingen en terroristische aanslagen in Zwitserland',\n",
    "    xaxis=dict(type='category'),\n",
    "    yaxis=dict(range=[0, 100000], title=\"Vluchtelingen onder UNHCR's mandate\" , side='left'),\n",
    "    yaxis2=dict(range=[0, 5], title=\"Terroristische aanslagen\", overlaying='y', side='right'),  \n",
    "    xaxis_title='Jaar',\n",
    "    height=500,\n",
    "    bargap=0.1,\n",
    "    plot_bgcolor='rgb(252,245,245)',\n",
    ")\n",
    "\n",
    "fig.show()"
   ]
  },
  {
   "attachments": {},
   "cell_type": "markdown",
   "id": "c3857f81-dcad-489c-a608-3f7f86e6a58e",
   "metadata": {},
   "source": [
    "> *Figuur 4: Er is een stijging te zien in het aantal vluchtelingen in Zwitserland. De terroristische aanslagen lijken willekeurig plaats te vinden."
   ]
  },
  {
   "attachments": {},
   "cell_type": "markdown",
   "id": "52d494f5",
   "metadata": {},
   "source": [
    "x"
   ]
  },
  {
   "attachments": {},
   "cell_type": "markdown",
   "id": "bf522e30-74ba-4774-a6a0-a94f3d827123",
   "metadata": {},
   "source": [
    "### The Second Argument of Your Second Perspective"
   ]
  },
  {
   "attachments": {},
   "cell_type": "markdown",
   "id": "51f7128d-2dd5-42ff-a178-bd7d6457d749",
   "metadata": {},
   "source": [
    "x"
   ]
  },
  {
   "cell_type": "code",
   "execution_count": 60,
   "id": "e6372635",
   "metadata": {
    "hideCode": true,
    "tags": [
     "hide-input"
    ]
   },
   "outputs": [
    {
     "data": {
      "application/vnd.plotly.v1+json": {
       "config": {
        "plotlyServerURL": "https://plot.ly"
       },
       "data": [
        {
         "marker": {
          "color": "rgb(238, 75, 43)"
         },
         "name": "Vluchtelingen",
         "type": "bar",
         "x": [
          2000,
          2001,
          2002,
          2003,
          2004,
          2005,
          2006,
          2007,
          2008,
          2009,
          2010,
          2011,
          2012,
          2013,
          2014,
          2015,
          2016,
          2017
         ],
         "y": [
          6982,
          6804,
          6783,
          5912,
          5690,
          5369,
          5269,
          5143,
          4649,
          3960,
          3814,
          4220,
          4502,
          4641,
          5797,
          6447,
          12983,
          17541
         ],
         "yaxis": "y"
        },
        {
         "marker": {
          "color": "rgb(129, 133, 137)"
         },
         "name": "Aanslagen",
         "type": "bar",
         "width": 0.4,
         "x": [
          2000,
          2001,
          2002,
          2003,
          2004,
          2005,
          2006,
          2007,
          2008,
          2009,
          2010,
          2012,
          2013,
          2014,
          2015,
          2016,
          2017
         ],
         "y": [
          112,
          79,
          41,
          21,
          31,
          24,
          23,
          11,
          37,
          21,
          3,
          1,
          5,
          4,
          1,
          3,
          4
         ],
         "yaxis": "y2"
        }
       ],
       "layout": {
        "bargap": 0.1,
        "height": 500,
        "plot_bgcolor": "rgb(252,245,245)",
        "template": {
         "data": {
          "bar": [
           {
            "error_x": {
             "color": "#2a3f5f"
            },
            "error_y": {
             "color": "#2a3f5f"
            },
            "marker": {
             "line": {
              "color": "#E5ECF6",
              "width": 0.5
             },
             "pattern": {
              "fillmode": "overlay",
              "size": 10,
              "solidity": 0.2
             }
            },
            "type": "bar"
           }
          ],
          "barpolar": [
           {
            "marker": {
             "line": {
              "color": "#E5ECF6",
              "width": 0.5
             },
             "pattern": {
              "fillmode": "overlay",
              "size": 10,
              "solidity": 0.2
             }
            },
            "type": "barpolar"
           }
          ],
          "carpet": [
           {
            "aaxis": {
             "endlinecolor": "#2a3f5f",
             "gridcolor": "white",
             "linecolor": "white",
             "minorgridcolor": "white",
             "startlinecolor": "#2a3f5f"
            },
            "baxis": {
             "endlinecolor": "#2a3f5f",
             "gridcolor": "white",
             "linecolor": "white",
             "minorgridcolor": "white",
             "startlinecolor": "#2a3f5f"
            },
            "type": "carpet"
           }
          ],
          "choropleth": [
           {
            "colorbar": {
             "outlinewidth": 0,
             "ticks": ""
            },
            "type": "choropleth"
           }
          ],
          "contour": [
           {
            "colorbar": {
             "outlinewidth": 0,
             "ticks": ""
            },
            "colorscale": [
             [
              0,
              "#0d0887"
             ],
             [
              0.1111111111111111,
              "#46039f"
             ],
             [
              0.2222222222222222,
              "#7201a8"
             ],
             [
              0.3333333333333333,
              "#9c179e"
             ],
             [
              0.4444444444444444,
              "#bd3786"
             ],
             [
              0.5555555555555556,
              "#d8576b"
             ],
             [
              0.6666666666666666,
              "#ed7953"
             ],
             [
              0.7777777777777778,
              "#fb9f3a"
             ],
             [
              0.8888888888888888,
              "#fdca26"
             ],
             [
              1,
              "#f0f921"
             ]
            ],
            "type": "contour"
           }
          ],
          "contourcarpet": [
           {
            "colorbar": {
             "outlinewidth": 0,
             "ticks": ""
            },
            "type": "contourcarpet"
           }
          ],
          "heatmap": [
           {
            "colorbar": {
             "outlinewidth": 0,
             "ticks": ""
            },
            "colorscale": [
             [
              0,
              "#0d0887"
             ],
             [
              0.1111111111111111,
              "#46039f"
             ],
             [
              0.2222222222222222,
              "#7201a8"
             ],
             [
              0.3333333333333333,
              "#9c179e"
             ],
             [
              0.4444444444444444,
              "#bd3786"
             ],
             [
              0.5555555555555556,
              "#d8576b"
             ],
             [
              0.6666666666666666,
              "#ed7953"
             ],
             [
              0.7777777777777778,
              "#fb9f3a"
             ],
             [
              0.8888888888888888,
              "#fdca26"
             ],
             [
              1,
              "#f0f921"
             ]
            ],
            "type": "heatmap"
           }
          ],
          "heatmapgl": [
           {
            "colorbar": {
             "outlinewidth": 0,
             "ticks": ""
            },
            "colorscale": [
             [
              0,
              "#0d0887"
             ],
             [
              0.1111111111111111,
              "#46039f"
             ],
             [
              0.2222222222222222,
              "#7201a8"
             ],
             [
              0.3333333333333333,
              "#9c179e"
             ],
             [
              0.4444444444444444,
              "#bd3786"
             ],
             [
              0.5555555555555556,
              "#d8576b"
             ],
             [
              0.6666666666666666,
              "#ed7953"
             ],
             [
              0.7777777777777778,
              "#fb9f3a"
             ],
             [
              0.8888888888888888,
              "#fdca26"
             ],
             [
              1,
              "#f0f921"
             ]
            ],
            "type": "heatmapgl"
           }
          ],
          "histogram": [
           {
            "marker": {
             "pattern": {
              "fillmode": "overlay",
              "size": 10,
              "solidity": 0.2
             }
            },
            "type": "histogram"
           }
          ],
          "histogram2d": [
           {
            "colorbar": {
             "outlinewidth": 0,
             "ticks": ""
            },
            "colorscale": [
             [
              0,
              "#0d0887"
             ],
             [
              0.1111111111111111,
              "#46039f"
             ],
             [
              0.2222222222222222,
              "#7201a8"
             ],
             [
              0.3333333333333333,
              "#9c179e"
             ],
             [
              0.4444444444444444,
              "#bd3786"
             ],
             [
              0.5555555555555556,
              "#d8576b"
             ],
             [
              0.6666666666666666,
              "#ed7953"
             ],
             [
              0.7777777777777778,
              "#fb9f3a"
             ],
             [
              0.8888888888888888,
              "#fdca26"
             ],
             [
              1,
              "#f0f921"
             ]
            ],
            "type": "histogram2d"
           }
          ],
          "histogram2dcontour": [
           {
            "colorbar": {
             "outlinewidth": 0,
             "ticks": ""
            },
            "colorscale": [
             [
              0,
              "#0d0887"
             ],
             [
              0.1111111111111111,
              "#46039f"
             ],
             [
              0.2222222222222222,
              "#7201a8"
             ],
             [
              0.3333333333333333,
              "#9c179e"
             ],
             [
              0.4444444444444444,
              "#bd3786"
             ],
             [
              0.5555555555555556,
              "#d8576b"
             ],
             [
              0.6666666666666666,
              "#ed7953"
             ],
             [
              0.7777777777777778,
              "#fb9f3a"
             ],
             [
              0.8888888888888888,
              "#fdca26"
             ],
             [
              1,
              "#f0f921"
             ]
            ],
            "type": "histogram2dcontour"
           }
          ],
          "mesh3d": [
           {
            "colorbar": {
             "outlinewidth": 0,
             "ticks": ""
            },
            "type": "mesh3d"
           }
          ],
          "parcoords": [
           {
            "line": {
             "colorbar": {
              "outlinewidth": 0,
              "ticks": ""
             }
            },
            "type": "parcoords"
           }
          ],
          "pie": [
           {
            "automargin": true,
            "type": "pie"
           }
          ],
          "scatter": [
           {
            "fillpattern": {
             "fillmode": "overlay",
             "size": 10,
             "solidity": 0.2
            },
            "type": "scatter"
           }
          ],
          "scatter3d": [
           {
            "line": {
             "colorbar": {
              "outlinewidth": 0,
              "ticks": ""
             }
            },
            "marker": {
             "colorbar": {
              "outlinewidth": 0,
              "ticks": ""
             }
            },
            "type": "scatter3d"
           }
          ],
          "scattercarpet": [
           {
            "marker": {
             "colorbar": {
              "outlinewidth": 0,
              "ticks": ""
             }
            },
            "type": "scattercarpet"
           }
          ],
          "scattergeo": [
           {
            "marker": {
             "colorbar": {
              "outlinewidth": 0,
              "ticks": ""
             }
            },
            "type": "scattergeo"
           }
          ],
          "scattergl": [
           {
            "marker": {
             "colorbar": {
              "outlinewidth": 0,
              "ticks": ""
             }
            },
            "type": "scattergl"
           }
          ],
          "scattermapbox": [
           {
            "marker": {
             "colorbar": {
              "outlinewidth": 0,
              "ticks": ""
             }
            },
            "type": "scattermapbox"
           }
          ],
          "scatterpolar": [
           {
            "marker": {
             "colorbar": {
              "outlinewidth": 0,
              "ticks": ""
             }
            },
            "type": "scatterpolar"
           }
          ],
          "scatterpolargl": [
           {
            "marker": {
             "colorbar": {
              "outlinewidth": 0,
              "ticks": ""
             }
            },
            "type": "scatterpolargl"
           }
          ],
          "scatterternary": [
           {
            "marker": {
             "colorbar": {
              "outlinewidth": 0,
              "ticks": ""
             }
            },
            "type": "scatterternary"
           }
          ],
          "surface": [
           {
            "colorbar": {
             "outlinewidth": 0,
             "ticks": ""
            },
            "colorscale": [
             [
              0,
              "#0d0887"
             ],
             [
              0.1111111111111111,
              "#46039f"
             ],
             [
              0.2222222222222222,
              "#7201a8"
             ],
             [
              0.3333333333333333,
              "#9c179e"
             ],
             [
              0.4444444444444444,
              "#bd3786"
             ],
             [
              0.5555555555555556,
              "#d8576b"
             ],
             [
              0.6666666666666666,
              "#ed7953"
             ],
             [
              0.7777777777777778,
              "#fb9f3a"
             ],
             [
              0.8888888888888888,
              "#fdca26"
             ],
             [
              1,
              "#f0f921"
             ]
            ],
            "type": "surface"
           }
          ],
          "table": [
           {
            "cells": {
             "fill": {
              "color": "#EBF0F8"
             },
             "line": {
              "color": "white"
             }
            },
            "header": {
             "fill": {
              "color": "#C8D4E3"
             },
             "line": {
              "color": "white"
             }
            },
            "type": "table"
           }
          ]
         },
         "layout": {
          "annotationdefaults": {
           "arrowcolor": "#2a3f5f",
           "arrowhead": 0,
           "arrowwidth": 1
          },
          "autotypenumbers": "strict",
          "coloraxis": {
           "colorbar": {
            "outlinewidth": 0,
            "ticks": ""
           }
          },
          "colorscale": {
           "diverging": [
            [
             0,
             "#8e0152"
            ],
            [
             0.1,
             "#c51b7d"
            ],
            [
             0.2,
             "#de77ae"
            ],
            [
             0.3,
             "#f1b6da"
            ],
            [
             0.4,
             "#fde0ef"
            ],
            [
             0.5,
             "#f7f7f7"
            ],
            [
             0.6,
             "#e6f5d0"
            ],
            [
             0.7,
             "#b8e186"
            ],
            [
             0.8,
             "#7fbc41"
            ],
            [
             0.9,
             "#4d9221"
            ],
            [
             1,
             "#276419"
            ]
           ],
           "sequential": [
            [
             0,
             "#0d0887"
            ],
            [
             0.1111111111111111,
             "#46039f"
            ],
            [
             0.2222222222222222,
             "#7201a8"
            ],
            [
             0.3333333333333333,
             "#9c179e"
            ],
            [
             0.4444444444444444,
             "#bd3786"
            ],
            [
             0.5555555555555556,
             "#d8576b"
            ],
            [
             0.6666666666666666,
             "#ed7953"
            ],
            [
             0.7777777777777778,
             "#fb9f3a"
            ],
            [
             0.8888888888888888,
             "#fdca26"
            ],
            [
             1,
             "#f0f921"
            ]
           ],
           "sequentialminus": [
            [
             0,
             "#0d0887"
            ],
            [
             0.1111111111111111,
             "#46039f"
            ],
            [
             0.2222222222222222,
             "#7201a8"
            ],
            [
             0.3333333333333333,
             "#9c179e"
            ],
            [
             0.4444444444444444,
             "#bd3786"
            ],
            [
             0.5555555555555556,
             "#d8576b"
            ],
            [
             0.6666666666666666,
             "#ed7953"
            ],
            [
             0.7777777777777778,
             "#fb9f3a"
            ],
            [
             0.8888888888888888,
             "#fdca26"
            ],
            [
             1,
             "#f0f921"
            ]
           ]
          },
          "colorway": [
           "#636efa",
           "#EF553B",
           "#00cc96",
           "#ab63fa",
           "#FFA15A",
           "#19d3f3",
           "#FF6692",
           "#B6E880",
           "#FF97FF",
           "#FECB52"
          ],
          "font": {
           "color": "#2a3f5f"
          },
          "geo": {
           "bgcolor": "white",
           "lakecolor": "white",
           "landcolor": "#E5ECF6",
           "showlakes": true,
           "showland": true,
           "subunitcolor": "white"
          },
          "hoverlabel": {
           "align": "left"
          },
          "hovermode": "closest",
          "mapbox": {
           "style": "light"
          },
          "paper_bgcolor": "white",
          "plot_bgcolor": "#E5ECF6",
          "polar": {
           "angularaxis": {
            "gridcolor": "white",
            "linecolor": "white",
            "ticks": ""
           },
           "bgcolor": "#E5ECF6",
           "radialaxis": {
            "gridcolor": "white",
            "linecolor": "white",
            "ticks": ""
           }
          },
          "scene": {
           "xaxis": {
            "backgroundcolor": "#E5ECF6",
            "gridcolor": "white",
            "gridwidth": 2,
            "linecolor": "white",
            "showbackground": true,
            "ticks": "",
            "zerolinecolor": "white"
           },
           "yaxis": {
            "backgroundcolor": "#E5ECF6",
            "gridcolor": "white",
            "gridwidth": 2,
            "linecolor": "white",
            "showbackground": true,
            "ticks": "",
            "zerolinecolor": "white"
           },
           "zaxis": {
            "backgroundcolor": "#E5ECF6",
            "gridcolor": "white",
            "gridwidth": 2,
            "linecolor": "white",
            "showbackground": true,
            "ticks": "",
            "zerolinecolor": "white"
           }
          },
          "shapedefaults": {
           "line": {
            "color": "#2a3f5f"
           }
          },
          "ternary": {
           "aaxis": {
            "gridcolor": "white",
            "linecolor": "white",
            "ticks": ""
           },
           "baxis": {
            "gridcolor": "white",
            "linecolor": "white",
            "ticks": ""
           },
           "bgcolor": "#E5ECF6",
           "caxis": {
            "gridcolor": "white",
            "linecolor": "white",
            "ticks": ""
           }
          },
          "title": {
           "x": 0.05
          },
          "xaxis": {
           "automargin": true,
           "gridcolor": "white",
           "linecolor": "white",
           "ticks": "",
           "title": {
            "standoff": 15
           },
           "zerolinecolor": "white",
           "zerolinewidth": 2
          },
          "yaxis": {
           "automargin": true,
           "gridcolor": "white",
           "linecolor": "white",
           "ticks": "",
           "title": {
            "standoff": 15
           },
           "zerolinecolor": "white",
           "zerolinewidth": 2
          }
         }
        },
        "title": {
         "text": "Aantal vluchtelingen en terroristische aanslagen in Spanje"
        },
        "xaxis": {
         "title": {
          "text": "Year"
         },
         "type": "category"
        },
        "yaxis": {
         "range": [
          0,
          30000
         ],
         "side": "left",
         "title": {
          "text": "Vluchtelingen onder UNHCR's mandate"
         }
        },
        "yaxis2": {
         "overlaying": "y",
         "range": [
          0,
          120
         ],
         "side": "right",
         "title": {
          "text": "Terroristische aanslagen"
         }
        }
       }
      }
     },
     "metadata": {},
     "output_type": "display_data"
    }
   ],
   "source": [
    "df10 = df5[df5[\"Country of asylum\"] == 'Spain']\n",
    "df10.head()\n",
    "\n",
    "df11 = df8[df8[\"country\"] == 'Spain']\n",
    "df11.head()\n",
    "colors = ['rgb(238, 75, 43)', 'rgb(252,245,245)', 'rgb(129, 133, 137)']\n",
    "fig = go.Figure()\n",
    "\n",
    "fig.add_trace(go.Bar(\n",
    "    x=df10['Year'],\n",
    "    y=df10[\"Refugees under UNHCR's mandate\"],\n",
    "    marker_color='rgb(238, 75, 43)',\n",
    "    name=\"Vluchtelingen\",\n",
    "    yaxis='y'  \n",
    "))\n",
    "\n",
    "fig.add_trace(go.Bar(\n",
    "    x=df11['year'],\n",
    "    y=df11[('count')],\n",
    "    marker_color='rgb(129, 133, 137)',\n",
    "    name=\"Aanslagen\",\n",
    "    yaxis='y2',\n",
    "    width=0.4  \n",
    "))\n",
    "\n",
    "fig.update_layout(\n",
    "    title='Aantal vluchtelingen en terroristische aanslagen in Spanje',\n",
    "    xaxis=dict(type='category'),\n",
    "    yaxis=dict(range=[0, 30000], title=\"Vluchtelingen onder UNHCR's mandate\" , side='left'),\n",
    "    yaxis2=dict(range=[0, 120], title=\"Terroristische aanslagen\", overlaying='y', side='right'),  \n",
    "    xaxis_title='Year',\n",
    "    height=500,\n",
    "    bargap=0.1,\n",
    "    plot_bgcolor='rgb(252,245,245)',\n",
    ")\n",
    "\n",
    "fig.show()"
   ]
  },
  {
   "attachments": {},
   "cell_type": "markdown",
   "id": "84271e8b-3cdf-4cad-b78e-f536ff980cba",
   "metadata": {},
   "source": [
    "> *Figuur 5: Terwijl er een stijging te zien is in het aantal vluchtelingen in Spanje, is er juist een daling te zien bij het aantal terroristische aanslagen in Spanje. "
   ]
  },
  {
   "attachments": {},
   "cell_type": "markdown",
   "id": "410a635b",
   "metadata": {},
   "source": [
    "### Third argument of second perspective"
   ]
  },
  {
   "cell_type": "code",
   "execution_count": 63,
   "id": "1092d794",
   "metadata": {},
   "outputs": [
    {
     "name": "stdout",
     "output_type": "stream",
     "text": [
      "     Year Country of asylum  Refugees under UNHCR's mandate\n",
      "0    2000           Albania                             521\n",
      "1    2000           Austria                           15493\n",
      "2    2000           Belarus                             453\n",
      "3    2000           Belgium                           18821\n",
      "4    2000          Bulgaria                            1470\n",
      "..    ...               ...                             ...\n",
      "607  2017             Spain                           17541\n",
      "608  2017            Sweden                          240954\n",
      "609  2017       Switzerland                           93030\n",
      "610  2017           Ukraine                            3241\n",
      "611  2017    United Kingdom                          121821\n",
      "\n",
      "[612 rows x 3 columns]\n",
      "    Year  Refugees under UNHCR's mandate\n",
      "0   2000                         2310144\n",
      "1   2001                         2260823\n",
      "2   2002                         2292404\n",
      "3   2003                         2175223\n",
      "4   2004                         2053058\n",
      "5   2005                         1734871\n",
      "6   2006                         1593379\n",
      "7   2007                         1551624\n",
      "8   2008                         1578023\n",
      "9   2009                         1593630\n",
      "10  2010                         1561128\n",
      "11  2011                         1512698\n",
      "12  2012                         1502842\n",
      "13  2013                         1135961\n",
      "14  2014                         1254534\n",
      "15  2015                         1497563\n",
      "16  2016                         2071750\n",
      "17  2017                         2477489\n",
      "   Country of asylum  Refugees under UNHCR's mandate\n",
      "0            Albania                            2025\n",
      "1            Austria                          770125\n",
      "2            Belarus                           15098\n",
      "3            Belgium                          388680\n",
      "4           Bulgaria                          123279\n",
      "5            Croatia                           75793\n",
      "6             Cyprus                           53209\n",
      "7            Czechia                           41580\n",
      "8            Denmark                          675068\n",
      "9            Estonia                            1184\n",
      "10           Finland                          207237\n",
      "11            France                         3497948\n",
      "12           Germany                        11802786\n",
      "13            Greece                          161471\n",
      "14           Hungary                          103141\n",
      "15           Iceland                            2887\n",
      "16           Ireland                          121269\n",
      "17             Italy                         1023429\n",
      "18        Luxembourg                           35413\n",
      "19             Malta                           81095\n",
      "20       Netherlands                         1845708\n",
      "21   North Macedonia                           31584\n",
      "22            Norway                          819045\n",
      "23            Poland                          175119\n",
      "24          Portugal                           10100\n",
      "25           Romania                           33552\n",
      "26            Serbia                         2751047\n",
      "27          Slovakia                            9522\n",
      "28          Slovenia                           11678\n",
      "29             Spain                          116506\n",
      "30            Sweden                         2178677\n",
      "31       Switzerland                         1016466\n",
      "32           Ukraine                           65431\n",
      "33    United Kingdom                         3909992\n"
     ]
    },
    {
     "name": "stderr",
     "output_type": "stream",
     "text": [
      "/tmp/ipykernel_5261/1100708004.py:9: SettingWithCopyWarning:\n",
      "\n",
      "\n",
      "A value is trying to be set on a copy of a slice from a DataFrame.\n",
      "Try using .loc[row_indexer,col_indexer] = value instead\n",
      "\n",
      "See the caveats in the documentation: https://pandas.pydata.org/pandas-docs/stable/user_guide/indexing.html#returning-a-view-versus-a-copy\n",
      "\n",
      "/tmp/ipykernel_5261/1100708004.py:10: SettingWithCopyWarning:\n",
      "\n",
      "\n",
      "A value is trying to be set on a copy of a slice from a DataFrame.\n",
      "Try using .loc[row_indexer,col_indexer] = value instead\n",
      "\n",
      "See the caveats in the documentation: https://pandas.pydata.org/pandas-docs/stable/user_guide/indexing.html#returning-a-view-versus-a-copy\n",
      "\n",
      "/tmp/ipykernel_5261/1100708004.py:11: SettingWithCopyWarning:\n",
      "\n",
      "\n",
      "A value is trying to be set on a copy of a slice from a DataFrame.\n",
      "Try using .loc[row_indexer,col_indexer] = value instead\n",
      "\n",
      "See the caveats in the documentation: https://pandas.pydata.org/pandas-docs/stable/user_guide/indexing.html#returning-a-view-versus-a-copy\n",
      "\n"
     ]
    },
    {
     "data": {
      "application/vnd.plotly.v1+json": {
       "config": {
        "plotlyServerURL": "https://plot.ly"
       },
       "data": [
        {
         "customdata": [
          [
           2,
           41.153332,
           20.168331
          ],
          [
           0,
           47.516231,
           14.550072
          ],
          [
           0,
           53.709807,
           27.953389
          ],
          [
           0,
           50.503887,
           4.469936
          ],
          [
           2,
           42.733883,
           25.48583
          ],
          [
           2,
           45.1,
           15.2
          ],
          [
           2,
           35.126413,
           33.429859
          ],
          [
           0,
           56.26392,
           9.501785
          ],
          [
           0,
           58.595272,
           25.013607
          ],
          [
           0,
           61.92411,
           25.748151
          ],
          [
           28,
           46.227638,
           2.213749
          ],
          [
           8,
           51.165691,
           10.451526
          ],
          [
           28,
           39.074208,
           21.824312
          ],
          [
           0,
           47.162494,
           19.503304
          ],
          [
           0,
           64.963051,
           -19.020835
          ],
          [
           0,
           53.41291,
           -8.24389
          ],
          [
           8,
           41.87194,
           12.56738
          ],
          [
           0,
           49.815273,
           6.129583
          ],
          [
           0,
           35.937496,
           14.375416
          ],
          [
           1,
           52.132633,
           5.291266
          ],
          [
           3,
           41.608635,
           21.745275
          ],
          [
           0,
           60.472024,
           8.468946
          ],
          [
           0,
           51.919438,
           19.145136
          ],
          [
           0,
           39.399872,
           -8.224454
          ],
          [
           0,
           45.943161,
           24.96676
          ],
          [
           0,
           44.016521,
           21.005859
          ],
          [
           1,
           48.669026,
           19.699024
          ],
          [
           1,
           46.151241,
           14.995463
          ],
          [
           112,
           40.463667,
           -3.74922
          ],
          [
           1,
           60.128161,
           18.643501
          ],
          [
           4,
           46.818188,
           8.227512
          ],
          [
           1,
           48.379433,
           31.16558
          ],
          [
           61,
           55.378051,
           -3.435973
          ]
         ],
         "geo": "geo",
         "hovertemplate": "<b>%{hovertext}</b><br><br>Year=%{marker.size}<br>Terrorist attacks=%{marker.color}<extra></extra>",
         "hovertext": [
          "Albania",
          "Austria",
          "Belarus",
          "Belgium",
          "Bulgaria",
          "Croatia",
          "Cyprus",
          "Denmark",
          "Estonia",
          "Finland",
          "France",
          "Germany",
          "Greece",
          "Hungary",
          "Iceland",
          "Ireland",
          "Italy",
          "Luxembourg",
          "Malta",
          "Netherlands",
          "North Macedonia",
          "Norway",
          "Poland",
          "Portugal",
          "Romania",
          "Serbia",
          "Slovakia",
          "Slovenia",
          "Spain",
          "Sweden",
          "Switzerland",
          "Ukraine",
          "United Kingdom"
         ],
         "lat": [
          41.153332,
          47.516231,
          53.709807,
          50.503887,
          42.733883,
          45.1,
          35.126413,
          56.26392,
          58.595272,
          61.92411,
          46.227638,
          51.165691,
          39.074208,
          47.162494,
          64.963051,
          53.41291,
          41.87194,
          49.815273,
          35.937496,
          52.132633,
          41.608635,
          60.472024,
          51.919438,
          39.399872,
          45.943161,
          44.016521,
          48.669026,
          46.151241,
          40.463667,
          60.128161,
          46.818188,
          48.379433,
          55.378051
         ],
         "legendgroup": "",
         "lon": [
          20.168331,
          14.550072,
          27.953389,
          4.469936,
          25.48583,
          15.2,
          33.429859,
          9.501785,
          25.013607,
          25.748151,
          2.213749,
          10.451526,
          21.824312,
          19.503304,
          -19.020835,
          -8.24389,
          12.56738,
          6.129583,
          14.375416,
          5.291266,
          21.745275,
          8.468946,
          19.145136,
          -8.224454,
          24.96676,
          21.005859,
          19.699024,
          14.995463,
          -3.74922,
          18.643501,
          8.227512,
          31.16558,
          -3.435973
         ],
         "marker": {
          "color": [
           2,
           0,
           0,
           0,
           2,
           2,
           2,
           0,
           0,
           0,
           28,
           8,
           28,
           0,
           0,
           0,
           8,
           0,
           0,
           1,
           3,
           0,
           0,
           0,
           0,
           0,
           1,
           1,
           112,
           1,
           4,
           1,
           61
          ],
          "coloraxis": "coloraxis",
          "line": {
           "color": "black",
           "width": 0.5
          },
          "size": [
           2000,
           2000,
           2000,
           2000,
           2000,
           2000,
           2000,
           2000,
           2000,
           2000,
           2000,
           2000,
           2000,
           2000,
           2000,
           2000,
           2000,
           2000,
           2000,
           2000,
           2000,
           2000,
           2000,
           2000,
           2000,
           2000,
           2000,
           2000,
           2000,
           2000,
           2000,
           2000,
           2000
          ],
          "sizemode": "area",
          "sizeref": 20.17,
          "symbol": "circle"
         },
         "mode": "markers",
         "name": "",
         "showlegend": false,
         "type": "scattergeo"
        }
       ],
       "frames": [
        {
         "data": [
          {
           "customdata": [
            [
             2,
             41.153332,
             20.168331
            ],
            [
             0,
             47.516231,
             14.550072
            ],
            [
             0,
             53.709807,
             27.953389
            ],
            [
             0,
             50.503887,
             4.469936
            ],
            [
             2,
             42.733883,
             25.48583
            ],
            [
             2,
             45.1,
             15.2
            ],
            [
             2,
             35.126413,
             33.429859
            ],
            [
             0,
             56.26392,
             9.501785
            ],
            [
             0,
             58.595272,
             25.013607
            ],
            [
             0,
             61.92411,
             25.748151
            ],
            [
             28,
             46.227638,
             2.213749
            ],
            [
             8,
             51.165691,
             10.451526
            ],
            [
             28,
             39.074208,
             21.824312
            ],
            [
             0,
             47.162494,
             19.503304
            ],
            [
             0,
             64.963051,
             -19.020835
            ],
            [
             0,
             53.41291,
             -8.24389
            ],
            [
             8,
             41.87194,
             12.56738
            ],
            [
             0,
             49.815273,
             6.129583
            ],
            [
             0,
             35.937496,
             14.375416
            ],
            [
             1,
             52.132633,
             5.291266
            ],
            [
             3,
             41.608635,
             21.745275
            ],
            [
             0,
             60.472024,
             8.468946
            ],
            [
             0,
             51.919438,
             19.145136
            ],
            [
             0,
             39.399872,
             -8.224454
            ],
            [
             0,
             45.943161,
             24.96676
            ],
            [
             0,
             44.016521,
             21.005859
            ],
            [
             1,
             48.669026,
             19.699024
            ],
            [
             1,
             46.151241,
             14.995463
            ],
            [
             112,
             40.463667,
             -3.74922
            ],
            [
             1,
             60.128161,
             18.643501
            ],
            [
             4,
             46.818188,
             8.227512
            ],
            [
             1,
             48.379433,
             31.16558
            ],
            [
             61,
             55.378051,
             -3.435973
            ]
           ],
           "geo": "geo",
           "hovertemplate": "<b>%{hovertext}</b><br><br>Year=%{marker.size}<br>Terrorist attacks=%{marker.color}<extra></extra>",
           "hovertext": [
            "Albania",
            "Austria",
            "Belarus",
            "Belgium",
            "Bulgaria",
            "Croatia",
            "Cyprus",
            "Denmark",
            "Estonia",
            "Finland",
            "France",
            "Germany",
            "Greece",
            "Hungary",
            "Iceland",
            "Ireland",
            "Italy",
            "Luxembourg",
            "Malta",
            "Netherlands",
            "North Macedonia",
            "Norway",
            "Poland",
            "Portugal",
            "Romania",
            "Serbia",
            "Slovakia",
            "Slovenia",
            "Spain",
            "Sweden",
            "Switzerland",
            "Ukraine",
            "United Kingdom"
           ],
           "lat": [
            41.153332,
            47.516231,
            53.709807,
            50.503887,
            42.733883,
            45.1,
            35.126413,
            56.26392,
            58.595272,
            61.92411,
            46.227638,
            51.165691,
            39.074208,
            47.162494,
            64.963051,
            53.41291,
            41.87194,
            49.815273,
            35.937496,
            52.132633,
            41.608635,
            60.472024,
            51.919438,
            39.399872,
            45.943161,
            44.016521,
            48.669026,
            46.151241,
            40.463667,
            60.128161,
            46.818188,
            48.379433,
            55.378051
           ],
           "legendgroup": "",
           "lon": [
            20.168331,
            14.550072,
            27.953389,
            4.469936,
            25.48583,
            15.2,
            33.429859,
            9.501785,
            25.013607,
            25.748151,
            2.213749,
            10.451526,
            21.824312,
            19.503304,
            -19.020835,
            -8.24389,
            12.56738,
            6.129583,
            14.375416,
            5.291266,
            21.745275,
            8.468946,
            19.145136,
            -8.224454,
            24.96676,
            21.005859,
            19.699024,
            14.995463,
            -3.74922,
            18.643501,
            8.227512,
            31.16558,
            -3.435973
           ],
           "marker": {
            "color": [
             2,
             0,
             0,
             0,
             2,
             2,
             2,
             0,
             0,
             0,
             28,
             8,
             28,
             0,
             0,
             0,
             8,
             0,
             0,
             1,
             3,
             0,
             0,
             0,
             0,
             0,
             1,
             1,
             112,
             1,
             4,
             1,
             61
            ],
            "coloraxis": "coloraxis",
            "size": [
             2000,
             2000,
             2000,
             2000,
             2000,
             2000,
             2000,
             2000,
             2000,
             2000,
             2000,
             2000,
             2000,
             2000,
             2000,
             2000,
             2000,
             2000,
             2000,
             2000,
             2000,
             2000,
             2000,
             2000,
             2000,
             2000,
             2000,
             2000,
             2000,
             2000,
             2000,
             2000,
             2000
            ],
            "sizemode": "area",
            "sizeref": 20.17,
            "symbol": "circle"
           },
           "mode": "markers",
           "name": "",
           "showlegend": false,
           "type": "scattergeo"
          }
         ],
         "name": "2000"
        },
        {
         "data": [
          {
           "customdata": [
            [
             1,
             41.153332,
             20.168331
            ],
            [
             0,
             47.516231,
             14.550072
            ],
            [
             1,
             53.709807,
             27.953389
            ],
            [
             0,
             50.503887,
             4.469936
            ],
            [
             1,
             42.733883,
             25.48583
            ],
            [
             3,
             45.1,
             15.2
            ],
            [
             1,
             35.126413,
             33.429859
            ],
            [
             0,
             56.26392,
             9.501785
            ],
            [
             1,
             58.595272,
             25.013607
            ],
            [
             0,
             61.92411,
             25.748151
            ],
            [
             21,
             46.227638,
             2.213749
            ],
            [
             8,
             51.165691,
             10.451526
            ],
            [
             14,
             39.074208,
             21.824312
            ],
            [
             1,
             47.162494,
             19.503304
            ],
            [
             0,
             64.963051,
             -19.020835
            ],
            [
             2,
             53.41291,
             -8.24389
            ],
            [
             11,
             41.87194,
             12.56738
            ],
            [
             0,
             49.815273,
             6.129583
            ],
            [
             0,
             35.937496,
             14.375416
            ],
            [
             1,
             52.132633,
             5.291266
            ],
            [
             67,
             41.608635,
             21.745275
            ],
            [
             1,
             60.472024,
             8.468946
            ],
            [
             1,
             51.919438,
             19.145136
            ],
            [
             0,
             39.399872,
             -8.224454
            ],
            [
             0,
             45.943161,
             24.96676
            ],
            [
             0,
             44.016521,
             21.005859
            ],
            [
             0,
             48.669026,
             19.699024
            ],
            [
             0,
             46.151241,
             14.995463
            ],
            [
             79,
             40.463667,
             -3.74922
            ],
            [
             0,
             60.128161,
             18.643501
            ],
            [
             2,
             46.818188,
             8.227512
            ],
            [
             0,
             48.379433,
             31.16558
            ],
            [
             94,
             55.378051,
             -3.435973
            ]
           ],
           "geo": "geo",
           "hovertemplate": "<b>%{hovertext}</b><br><br>Year=%{marker.size}<br>Terrorist attacks=%{marker.color}<extra></extra>",
           "hovertext": [
            "Albania",
            "Austria",
            "Belarus",
            "Belgium",
            "Bulgaria",
            "Croatia",
            "Cyprus",
            "Denmark",
            "Estonia",
            "Finland",
            "France",
            "Germany",
            "Greece",
            "Hungary",
            "Iceland",
            "Ireland",
            "Italy",
            "Luxembourg",
            "Malta",
            "Netherlands",
            "North Macedonia",
            "Norway",
            "Poland",
            "Portugal",
            "Romania",
            "Serbia",
            "Slovakia",
            "Slovenia",
            "Spain",
            "Sweden",
            "Switzerland",
            "Ukraine",
            "United Kingdom"
           ],
           "lat": [
            41.153332,
            47.516231,
            53.709807,
            50.503887,
            42.733883,
            45.1,
            35.126413,
            56.26392,
            58.595272,
            61.92411,
            46.227638,
            51.165691,
            39.074208,
            47.162494,
            64.963051,
            53.41291,
            41.87194,
            49.815273,
            35.937496,
            52.132633,
            41.608635,
            60.472024,
            51.919438,
            39.399872,
            45.943161,
            44.016521,
            48.669026,
            46.151241,
            40.463667,
            60.128161,
            46.818188,
            48.379433,
            55.378051
           ],
           "legendgroup": "",
           "lon": [
            20.168331,
            14.550072,
            27.953389,
            4.469936,
            25.48583,
            15.2,
            33.429859,
            9.501785,
            25.013607,
            25.748151,
            2.213749,
            10.451526,
            21.824312,
            19.503304,
            -19.020835,
            -8.24389,
            12.56738,
            6.129583,
            14.375416,
            5.291266,
            21.745275,
            8.468946,
            19.145136,
            -8.224454,
            24.96676,
            21.005859,
            19.699024,
            14.995463,
            -3.74922,
            18.643501,
            8.227512,
            31.16558,
            -3.435973
           ],
           "marker": {
            "color": [
             1,
             0,
             1,
             0,
             1,
             3,
             1,
             0,
             1,
             0,
             21,
             8,
             14,
             1,
             0,
             2,
             11,
             0,
             0,
             1,
             67,
             1,
             1,
             0,
             0,
             0,
             0,
             0,
             79,
             0,
             2,
             0,
             94
            ],
            "coloraxis": "coloraxis",
            "size": [
             2001,
             2001,
             2001,
             2001,
             2001,
             2001,
             2001,
             2001,
             2001,
             2001,
             2001,
             2001,
             2001,
             2001,
             2001,
             2001,
             2001,
             2001,
             2001,
             2001,
             2001,
             2001,
             2001,
             2001,
             2001,
             2001,
             2001,
             2001,
             2001,
             2001,
             2001,
             2001,
             2001
            ],
            "sizemode": "area",
            "sizeref": 20.17,
            "symbol": "circle"
           },
           "mode": "markers",
           "name": "",
           "showlegend": false,
           "type": "scattergeo"
          }
         ],
         "name": "2001"
        },
        {
         "data": [
          {
           "customdata": [
            [
             0,
             41.153332,
             20.168331
            ],
            [
             0,
             47.516231,
             14.550072
            ],
            [
             0,
             53.709807,
             27.953389
            ],
            [
             3,
             50.503887,
             4.469936
            ],
            [
             1,
             42.733883,
             25.48583
            ],
            [
             0,
             45.1,
             15.2
            ],
            [
             0,
             35.126413,
             33.429859
            ],
            [
             0,
             56.26392,
             9.501785
            ],
            [
             0,
             58.595272,
             25.013607
            ],
            [
             0,
             61.92411,
             25.748151
            ],
            [
             32,
             46.227638,
             2.213749
            ],
            [
             3,
             51.165691,
             10.451526
            ],
            [
             11,
             39.074208,
             21.824312
            ],
            [
             0,
             47.162494,
             19.503304
            ],
            [
             0,
             64.963051,
             -19.020835
            ],
            [
             0,
             53.41291,
             -8.24389
            ],
            [
             7,
             41.87194,
             12.56738
            ],
            [
             0,
             49.815273,
             6.129583
            ],
            [
             0,
             35.937496,
             14.375416
            ],
            [
             2,
             52.132633,
             5.291266
            ],
            [
             8,
             41.608635,
             21.745275
            ],
            [
             0,
             60.472024,
             8.468946
            ],
            [
             0,
             51.919438,
             19.145136
            ],
            [
             0,
             39.399872,
             -8.224454
            ],
            [
             0,
             45.943161,
             24.96676
            ],
            [
             0,
             44.016521,
             21.005859
            ],
            [
             0,
             48.669026,
             19.699024
            ],
            [
             0,
             46.151241,
             14.995463
            ],
            [
             41,
             40.463667,
             -3.74922
            ],
            [
             0,
             60.128161,
             18.643501
            ],
            [
             0,
             46.818188,
             8.227512
            ],
            [
             3,
             48.379433,
             31.16558
            ],
            [
             21,
             55.378051,
             -3.435973
            ]
           ],
           "geo": "geo",
           "hovertemplate": "<b>%{hovertext}</b><br><br>Year=%{marker.size}<br>Terrorist attacks=%{marker.color}<extra></extra>",
           "hovertext": [
            "Albania",
            "Austria",
            "Belarus",
            "Belgium",
            "Bulgaria",
            "Croatia",
            "Cyprus",
            "Denmark",
            "Estonia",
            "Finland",
            "France",
            "Germany",
            "Greece",
            "Hungary",
            "Iceland",
            "Ireland",
            "Italy",
            "Luxembourg",
            "Malta",
            "Netherlands",
            "North Macedonia",
            "Norway",
            "Poland",
            "Portugal",
            "Romania",
            "Serbia",
            "Slovakia",
            "Slovenia",
            "Spain",
            "Sweden",
            "Switzerland",
            "Ukraine",
            "United Kingdom"
           ],
           "lat": [
            41.153332,
            47.516231,
            53.709807,
            50.503887,
            42.733883,
            45.1,
            35.126413,
            56.26392,
            58.595272,
            61.92411,
            46.227638,
            51.165691,
            39.074208,
            47.162494,
            64.963051,
            53.41291,
            41.87194,
            49.815273,
            35.937496,
            52.132633,
            41.608635,
            60.472024,
            51.919438,
            39.399872,
            45.943161,
            44.016521,
            48.669026,
            46.151241,
            40.463667,
            60.128161,
            46.818188,
            48.379433,
            55.378051
           ],
           "legendgroup": "",
           "lon": [
            20.168331,
            14.550072,
            27.953389,
            4.469936,
            25.48583,
            15.2,
            33.429859,
            9.501785,
            25.013607,
            25.748151,
            2.213749,
            10.451526,
            21.824312,
            19.503304,
            -19.020835,
            -8.24389,
            12.56738,
            6.129583,
            14.375416,
            5.291266,
            21.745275,
            8.468946,
            19.145136,
            -8.224454,
            24.96676,
            21.005859,
            19.699024,
            14.995463,
            -3.74922,
            18.643501,
            8.227512,
            31.16558,
            -3.435973
           ],
           "marker": {
            "color": [
             0,
             0,
             0,
             3,
             1,
             0,
             0,
             0,
             0,
             0,
             32,
             3,
             11,
             0,
             0,
             0,
             7,
             0,
             0,
             2,
             8,
             0,
             0,
             0,
             0,
             0,
             0,
             0,
             41,
             0,
             0,
             3,
             21
            ],
            "coloraxis": "coloraxis",
            "size": [
             2002,
             2002,
             2002,
             2002,
             2002,
             2002,
             2002,
             2002,
             2002,
             2002,
             2002,
             2002,
             2002,
             2002,
             2002,
             2002,
             2002,
             2002,
             2002,
             2002,
             2002,
             2002,
             2002,
             2002,
             2002,
             2002,
             2002,
             2002,
             2002,
             2002,
             2002,
             2002,
             2002
            ],
            "sizemode": "area",
            "sizeref": 20.17,
            "symbol": "circle"
           },
           "mode": "markers",
           "name": "",
           "showlegend": false,
           "type": "scattergeo"
          }
         ],
         "name": "2002"
        },
        {
         "data": [
          {
           "customdata": [
            [
             1,
             41.153332,
             20.168331
            ],
            [
             0,
             47.516231,
             14.550072
            ],
            [
             0,
             53.709807,
             27.953389
            ],
            [
             8,
             50.503887,
             4.469936
            ],
            [
             0,
             42.733883,
             25.48583
            ],
            [
             0,
             45.1,
             15.2
            ],
            [
             0,
             35.126413,
             33.429859
            ],
            [
             0,
             56.26392,
             9.501785
            ],
            [
             0,
             58.595272,
             25.013607
            ],
            [
             0,
             61.92411,
             25.748151
            ],
            [
             34,
             46.227638,
             2.213749
            ],
            [
             2,
             51.165691,
             10.451526
            ],
            [
             12,
             39.074208,
             21.824312
            ],
            [
             0,
             47.162494,
             19.503304
            ],
            [
             0,
             64.963051,
             -19.020835
            ],
            [
             1,
             53.41291,
             -8.24389
            ],
            [
             15,
             41.87194,
             12.56738
            ],
            [
             0,
             49.815273,
             6.129583
            ],
            [
             0,
             35.937496,
             14.375416
            ],
            [
             3,
             52.132633,
             5.291266
            ],
            [
             5,
             41.608635,
             21.745275
            ],
            [
             1,
             60.472024,
             8.468946
            ],
            [
             0,
             51.919438,
             19.145136
            ],
            [
             0,
             39.399872,
             -8.224454
            ],
            [
             0,
             45.943161,
             24.96676
            ],
            [
             6,
             44.016521,
             21.005859
            ],
            [
             0,
             48.669026,
             19.699024
            ],
            [
             0,
             46.151241,
             14.995463
            ],
            [
             21,
             40.463667,
             -3.74922
            ],
            [
             0,
             60.128161,
             18.643501
            ],
            [
             1,
             46.818188,
             8.227512
            ],
            [
             1,
             48.379433,
             31.16558
            ],
            [
             23,
             55.378051,
             -3.435973
            ]
           ],
           "geo": "geo",
           "hovertemplate": "<b>%{hovertext}</b><br><br>Year=%{marker.size}<br>Terrorist attacks=%{marker.color}<extra></extra>",
           "hovertext": [
            "Albania",
            "Austria",
            "Belarus",
            "Belgium",
            "Bulgaria",
            "Croatia",
            "Cyprus",
            "Denmark",
            "Estonia",
            "Finland",
            "France",
            "Germany",
            "Greece",
            "Hungary",
            "Iceland",
            "Ireland",
            "Italy",
            "Luxembourg",
            "Malta",
            "Netherlands",
            "North Macedonia",
            "Norway",
            "Poland",
            "Portugal",
            "Romania",
            "Serbia",
            "Slovakia",
            "Slovenia",
            "Spain",
            "Sweden",
            "Switzerland",
            "Ukraine",
            "United Kingdom"
           ],
           "lat": [
            41.153332,
            47.516231,
            53.709807,
            50.503887,
            42.733883,
            45.1,
            35.126413,
            56.26392,
            58.595272,
            61.92411,
            46.227638,
            51.165691,
            39.074208,
            47.162494,
            64.963051,
            53.41291,
            41.87194,
            49.815273,
            35.937496,
            52.132633,
            41.608635,
            60.472024,
            51.919438,
            39.399872,
            45.943161,
            44.016521,
            48.669026,
            46.151241,
            40.463667,
            60.128161,
            46.818188,
            48.379433,
            55.378051
           ],
           "legendgroup": "",
           "lon": [
            20.168331,
            14.550072,
            27.953389,
            4.469936,
            25.48583,
            15.2,
            33.429859,
            9.501785,
            25.013607,
            25.748151,
            2.213749,
            10.451526,
            21.824312,
            19.503304,
            -19.020835,
            -8.24389,
            12.56738,
            6.129583,
            14.375416,
            5.291266,
            21.745275,
            8.468946,
            19.145136,
            -8.224454,
            24.96676,
            21.005859,
            19.699024,
            14.995463,
            -3.74922,
            18.643501,
            8.227512,
            31.16558,
            -3.435973
           ],
           "marker": {
            "color": [
             1,
             0,
             0,
             8,
             0,
             0,
             0,
             0,
             0,
             0,
             34,
             2,
             12,
             0,
             0,
             1,
             15,
             0,
             0,
             3,
             5,
             1,
             0,
             0,
             0,
             6,
             0,
             0,
             21,
             0,
             1,
             1,
             23
            ],
            "coloraxis": "coloraxis",
            "size": [
             2003,
             2003,
             2003,
             2003,
             2003,
             2003,
             2003,
             2003,
             2003,
             2003,
             2003,
             2003,
             2003,
             2003,
             2003,
             2003,
             2003,
             2003,
             2003,
             2003,
             2003,
             2003,
             2003,
             2003,
             2003,
             2003,
             2003,
             2003,
             2003,
             2003,
             2003,
             2003,
             2003
            ],
            "sizemode": "area",
            "sizeref": 20.17,
            "symbol": "circle"
           },
           "mode": "markers",
           "name": "",
           "showlegend": false,
           "type": "scattergeo"
          }
         ],
         "name": "2003"
        },
        {
         "data": [
          {
           "customdata": [
            [
             0,
             41.153332,
             20.168331
            ],
            [
             0,
             47.516231,
             14.550072
            ],
            [
             0,
             53.709807,
             27.953389
            ],
            [
             0,
             50.503887,
             4.469936
            ],
            [
             0,
             42.733883,
             25.48583
            ],
            [
             0,
             45.1,
             15.2
            ],
            [
             1,
             35.126413,
             33.429859
            ],
            [
             0,
             56.26392,
             9.501785
            ],
            [
             0,
             58.595272,
             25.013607
            ],
            [
             0,
             61.92411,
             25.748151
            ],
            [
             11,
             46.227638,
             2.213749
            ],
            [
             3,
             51.165691,
             10.451526
            ],
            [
             4,
             39.074208,
             21.824312
            ],
            [
             0,
             47.162494,
             19.503304
            ],
            [
             0,
             64.963051,
             -19.020835
            ],
            [
             0,
             53.41291,
             -8.24389
            ],
            [
             3,
             41.87194,
             12.56738
            ],
            [
             0,
             49.815273,
             6.129583
            ],
            [
             0,
             35.937496,
             14.375416
            ],
            [
             1,
             52.132633,
             5.291266
            ],
            [
             0,
             41.608635,
             21.745275
            ],
            [
             0,
             60.472024,
             8.468946
            ],
            [
             0,
             51.919438,
             19.145136
            ],
            [
             0,
             39.399872,
             -8.224454
            ],
            [
             0,
             45.943161,
             24.96676
            ],
            [
             1,
             44.016521,
             21.005859
            ],
            [
             0,
             48.669026,
             19.699024
            ],
            [
             0,
             46.151241,
             14.995463
            ],
            [
             31,
             40.463667,
             -3.74922
            ],
            [
             0,
             60.128161,
             18.643501
            ],
            [
             0,
             46.818188,
             8.227512
            ],
            [
             0,
             48.379433,
             31.16558
            ],
            [
             5,
             55.378051,
             -3.435973
            ]
           ],
           "geo": "geo",
           "hovertemplate": "<b>%{hovertext}</b><br><br>Year=%{marker.size}<br>Terrorist attacks=%{marker.color}<extra></extra>",
           "hovertext": [
            "Albania",
            "Austria",
            "Belarus",
            "Belgium",
            "Bulgaria",
            "Croatia",
            "Cyprus",
            "Denmark",
            "Estonia",
            "Finland",
            "France",
            "Germany",
            "Greece",
            "Hungary",
            "Iceland",
            "Ireland",
            "Italy",
            "Luxembourg",
            "Malta",
            "Netherlands",
            "North Macedonia",
            "Norway",
            "Poland",
            "Portugal",
            "Romania",
            "Serbia",
            "Slovakia",
            "Slovenia",
            "Spain",
            "Sweden",
            "Switzerland",
            "Ukraine",
            "United Kingdom"
           ],
           "lat": [
            41.153332,
            47.516231,
            53.709807,
            50.503887,
            42.733883,
            45.1,
            35.126413,
            56.26392,
            58.595272,
            61.92411,
            46.227638,
            51.165691,
            39.074208,
            47.162494,
            64.963051,
            53.41291,
            41.87194,
            49.815273,
            35.937496,
            52.132633,
            41.608635,
            60.472024,
            51.919438,
            39.399872,
            45.943161,
            44.016521,
            48.669026,
            46.151241,
            40.463667,
            60.128161,
            46.818188,
            48.379433,
            55.378051
           ],
           "legendgroup": "",
           "lon": [
            20.168331,
            14.550072,
            27.953389,
            4.469936,
            25.48583,
            15.2,
            33.429859,
            9.501785,
            25.013607,
            25.748151,
            2.213749,
            10.451526,
            21.824312,
            19.503304,
            -19.020835,
            -8.24389,
            12.56738,
            6.129583,
            14.375416,
            5.291266,
            21.745275,
            8.468946,
            19.145136,
            -8.224454,
            24.96676,
            21.005859,
            19.699024,
            14.995463,
            -3.74922,
            18.643501,
            8.227512,
            31.16558,
            -3.435973
           ],
           "marker": {
            "color": [
             0,
             0,
             0,
             0,
             0,
             0,
             1,
             0,
             0,
             0,
             11,
             3,
             4,
             0,
             0,
             0,
             3,
             0,
             0,
             1,
             0,
             0,
             0,
             0,
             0,
             1,
             0,
             0,
             31,
             0,
             0,
             0,
             5
            ],
            "coloraxis": "coloraxis",
            "size": [
             2004,
             2004,
             2004,
             2004,
             2004,
             2004,
             2004,
             2004,
             2004,
             2004,
             2004,
             2004,
             2004,
             2004,
             2004,
             2004,
             2004,
             2004,
             2004,
             2004,
             2004,
             2004,
             2004,
             2004,
             2004,
             2004,
             2004,
             2004,
             2004,
             2004,
             2004,
             2004,
             2004
            ],
            "sizemode": "area",
            "sizeref": 20.17,
            "symbol": "circle"
           },
           "mode": "markers",
           "name": "",
           "showlegend": false,
           "type": "scattergeo"
          }
         ],
         "name": "2004"
        },
        {
         "data": [
          {
           "customdata": [
            [
             0,
             41.153332,
             20.168331
            ],
            [
             0,
             47.516231,
             14.550072
            ],
            [
             0,
             53.709807,
             27.953389
            ],
            [
             0,
             50.503887,
             4.469936
            ],
            [
             0,
             42.733883,
             25.48583
            ],
            [
             1,
             45.1,
             15.2
            ],
            [
             0,
             35.126413,
             33.429859
            ],
            [
             0,
             56.26392,
             9.501785
            ],
            [
             0,
             58.595272,
             25.013607
            ],
            [
             0,
             61.92411,
             25.748151
            ],
            [
             33,
             46.227638,
             2.213749
            ],
            [
             3,
             51.165691,
             10.451526
            ],
            [
             6,
             39.074208,
             21.824312
            ],
            [
             0,
             47.162494,
             19.503304
            ],
            [
             0,
             64.963051,
             -19.020835
            ],
            [
             0,
             53.41291,
             -8.24389
            ],
            [
             6,
             41.87194,
             12.56738
            ],
            [
             0,
             49.815273,
             6.129583
            ],
            [
             0,
             35.937496,
             14.375416
            ],
            [
             0,
             52.132633,
             5.291266
            ],
            [
             0,
             41.608635,
             21.745275
            ],
            [
             0,
             60.472024,
             8.468946
            ],
            [
             0,
             51.919438,
             19.145136
            ],
            [
             0,
             39.399872,
             -8.224454
            ],
            [
             0,
             45.943161,
             24.96676
            ],
            [
             2,
             44.016521,
             21.005859
            ],
            [
             0,
             48.669026,
             19.699024
            ],
            [
             0,
             46.151241,
             14.995463
            ],
            [
             24,
             40.463667,
             -3.74922
            ],
            [
             3,
             60.128161,
             18.643501
            ],
            [
             0,
             46.818188,
             8.227512
            ],
            [
             0,
             48.379433,
             31.16558
            ],
            [
             29,
             55.378051,
             -3.435973
            ]
           ],
           "geo": "geo",
           "hovertemplate": "<b>%{hovertext}</b><br><br>Year=%{marker.size}<br>Terrorist attacks=%{marker.color}<extra></extra>",
           "hovertext": [
            "Albania",
            "Austria",
            "Belarus",
            "Belgium",
            "Bulgaria",
            "Croatia",
            "Cyprus",
            "Denmark",
            "Estonia",
            "Finland",
            "France",
            "Germany",
            "Greece",
            "Hungary",
            "Iceland",
            "Ireland",
            "Italy",
            "Luxembourg",
            "Malta",
            "Netherlands",
            "North Macedonia",
            "Norway",
            "Poland",
            "Portugal",
            "Romania",
            "Serbia",
            "Slovakia",
            "Slovenia",
            "Spain",
            "Sweden",
            "Switzerland",
            "Ukraine",
            "United Kingdom"
           ],
           "lat": [
            41.153332,
            47.516231,
            53.709807,
            50.503887,
            42.733883,
            45.1,
            35.126413,
            56.26392,
            58.595272,
            61.92411,
            46.227638,
            51.165691,
            39.074208,
            47.162494,
            64.963051,
            53.41291,
            41.87194,
            49.815273,
            35.937496,
            52.132633,
            41.608635,
            60.472024,
            51.919438,
            39.399872,
            45.943161,
            44.016521,
            48.669026,
            46.151241,
            40.463667,
            60.128161,
            46.818188,
            48.379433,
            55.378051
           ],
           "legendgroup": "",
           "lon": [
            20.168331,
            14.550072,
            27.953389,
            4.469936,
            25.48583,
            15.2,
            33.429859,
            9.501785,
            25.013607,
            25.748151,
            2.213749,
            10.451526,
            21.824312,
            19.503304,
            -19.020835,
            -8.24389,
            12.56738,
            6.129583,
            14.375416,
            5.291266,
            21.745275,
            8.468946,
            19.145136,
            -8.224454,
            24.96676,
            21.005859,
            19.699024,
            14.995463,
            -3.74922,
            18.643501,
            8.227512,
            31.16558,
            -3.435973
           ],
           "marker": {
            "color": [
             0,
             0,
             0,
             0,
             0,
             1,
             0,
             0,
             0,
             0,
             33,
             3,
             6,
             0,
             0,
             0,
             6,
             0,
             0,
             0,
             0,
             0,
             0,
             0,
             0,
             2,
             0,
             0,
             24,
             3,
             0,
             0,
             29
            ],
            "coloraxis": "coloraxis",
            "size": [
             2005,
             2005,
             2005,
             2005,
             2005,
             2005,
             2005,
             2005,
             2005,
             2005,
             2005,
             2005,
             2005,
             2005,
             2005,
             2005,
             2005,
             2005,
             2005,
             2005,
             2005,
             2005,
             2005,
             2005,
             2005,
             2005,
             2005,
             2005,
             2005,
             2005,
             2005,
             2005,
             2005
            ],
            "sizemode": "area",
            "sizeref": 20.17,
            "symbol": "circle"
           },
           "mode": "markers",
           "name": "",
           "showlegend": false,
           "type": "scattergeo"
          }
         ],
         "name": "2005"
        },
        {
         "data": [
          {
           "customdata": [
            [
             0,
             41.153332,
             20.168331
            ],
            [
             1,
             47.516231,
             14.550072
            ],
            [
             1,
             53.709807,
             27.953389
            ],
            [
             0,
             50.503887,
             4.469936
            ],
            [
             0,
             42.733883,
             25.48583
            ],
            [
             0,
             45.1,
             15.2
            ],
            [
             0,
             35.126413,
             33.429859
            ],
            [
             0,
             56.26392,
             9.501785
            ],
            [
             0,
             58.595272,
             25.013607
            ],
            [
             0,
             61.92411,
             25.748151
            ],
            [
             34,
             46.227638,
             2.213749
            ],
            [
             4,
             51.165691,
             10.451526
            ],
            [
             23,
             39.074208,
             21.824312
            ],
            [
             0,
             47.162494,
             19.503304
            ],
            [
             0,
             64.963051,
             -19.020835
            ],
            [
             1,
             53.41291,
             -8.24389
            ],
            [
             4,
             41.87194,
             12.56738
            ],
            [
             0,
             49.815273,
             6.129583
            ],
            [
             0,
             35.937496,
             14.375416
            ],
            [
             0,
             52.132633,
             5.291266
            ],
            [
             3,
             41.608635,
             21.745275
            ],
            [
             1,
             60.472024,
             8.468946
            ],
            [
             0,
             51.919438,
             19.145136
            ],
            [
             0,
             39.399872,
             -8.224454
            ],
            [
             0,
             45.943161,
             24.96676
            ],
            [
             2,
             44.016521,
             21.005859
            ],
            [
             0,
             48.669026,
             19.699024
            ],
            [
             0,
             46.151241,
             14.995463
            ],
            [
             23,
             40.463667,
             -3.74922
            ],
            [
             1,
             60.128161,
             18.643501
            ],
            [
             0,
             46.818188,
             8.227512
            ],
            [
             0,
             48.379433,
             31.16558
            ],
            [
             6,
             55.378051,
             -3.435973
            ]
           ],
           "geo": "geo",
           "hovertemplate": "<b>%{hovertext}</b><br><br>Year=%{marker.size}<br>Terrorist attacks=%{marker.color}<extra></extra>",
           "hovertext": [
            "Albania",
            "Austria",
            "Belarus",
            "Belgium",
            "Bulgaria",
            "Croatia",
            "Cyprus",
            "Denmark",
            "Estonia",
            "Finland",
            "France",
            "Germany",
            "Greece",
            "Hungary",
            "Iceland",
            "Ireland",
            "Italy",
            "Luxembourg",
            "Malta",
            "Netherlands",
            "North Macedonia",
            "Norway",
            "Poland",
            "Portugal",
            "Romania",
            "Serbia",
            "Slovakia",
            "Slovenia",
            "Spain",
            "Sweden",
            "Switzerland",
            "Ukraine",
            "United Kingdom"
           ],
           "lat": [
            41.153332,
            47.516231,
            53.709807,
            50.503887,
            42.733883,
            45.1,
            35.126413,
            56.26392,
            58.595272,
            61.92411,
            46.227638,
            51.165691,
            39.074208,
            47.162494,
            64.963051,
            53.41291,
            41.87194,
            49.815273,
            35.937496,
            52.132633,
            41.608635,
            60.472024,
            51.919438,
            39.399872,
            45.943161,
            44.016521,
            48.669026,
            46.151241,
            40.463667,
            60.128161,
            46.818188,
            48.379433,
            55.378051
           ],
           "legendgroup": "",
           "lon": [
            20.168331,
            14.550072,
            27.953389,
            4.469936,
            25.48583,
            15.2,
            33.429859,
            9.501785,
            25.013607,
            25.748151,
            2.213749,
            10.451526,
            21.824312,
            19.503304,
            -19.020835,
            -8.24389,
            12.56738,
            6.129583,
            14.375416,
            5.291266,
            21.745275,
            8.468946,
            19.145136,
            -8.224454,
            24.96676,
            21.005859,
            19.699024,
            14.995463,
            -3.74922,
            18.643501,
            8.227512,
            31.16558,
            -3.435973
           ],
           "marker": {
            "color": [
             0,
             1,
             1,
             0,
             0,
             0,
             0,
             0,
             0,
             0,
             34,
             4,
             23,
             0,
             0,
             1,
             4,
             0,
             0,
             0,
             3,
             1,
             0,
             0,
             0,
             2,
             0,
             0,
             23,
             1,
             0,
             0,
             6
            ],
            "coloraxis": "coloraxis",
            "size": [
             2006,
             2006,
             2006,
             2006,
             2006,
             2006,
             2006,
             2006,
             2006,
             2006,
             2006,
             2006,
             2006,
             2006,
             2006,
             2006,
             2006,
             2006,
             2006,
             2006,
             2006,
             2006,
             2006,
             2006,
             2006,
             2006,
             2006,
             2006,
             2006,
             2006,
             2006,
             2006,
             2006
            ],
            "sizemode": "area",
            "sizeref": 20.17,
            "symbol": "circle"
           },
           "mode": "markers",
           "name": "",
           "showlegend": false,
           "type": "scattergeo"
          }
         ],
         "name": "2006"
        },
        {
         "data": [
          {
           "customdata": [
            [
             0,
             41.153332,
             20.168331
            ],
            [
             1,
             47.516231,
             14.550072
            ],
            [
             0,
             53.709807,
             27.953389
            ],
            [
             1,
             50.503887,
             4.469936
            ],
            [
             0,
             42.733883,
             25.48583
            ],
            [
             0,
             45.1,
             15.2
            ],
            [
             1,
             35.126413,
             33.429859
            ],
            [
             0,
             56.26392,
             9.501785
            ],
            [
             0,
             58.595272,
             25.013607
            ],
            [
             1,
             61.92411,
             25.748151
            ],
            [
             16,
             46.227638,
             2.213749
            ],
            [
             3,
             51.165691,
             10.451526
            ],
            [
             15,
             39.074208,
             21.824312
            ],
            [
             0,
             47.162494,
             19.503304
            ],
            [
             0,
             64.963051,
             -19.020835
            ],
            [
             1,
             53.41291,
             -8.24389
            ],
            [
             0,
             41.87194,
             12.56738
            ],
            [
             0,
             49.815273,
             6.129583
            ],
            [
             0,
             35.937496,
             14.375416
            ],
            [
             0,
             52.132633,
             5.291266
            ],
            [
             1,
             41.608635,
             21.745275
            ],
            [
             0,
             60.472024,
             8.468946
            ],
            [
             0,
             51.919438,
             19.145136
            ],
            [
             0,
             39.399872,
             -8.224454
            ],
            [
             0,
             45.943161,
             24.96676
            ],
            [
             0,
             44.016521,
             21.005859
            ],
            [
             0,
             48.669026,
             19.699024
            ],
            [
             0,
             46.151241,
             14.995463
            ],
            [
             11,
             40.463667,
             -3.74922
            ],
            [
             0,
             60.128161,
             18.643501
            ],
            [
             2,
             46.818188,
             8.227512
            ],
            [
             1,
             48.379433,
             31.16558
            ],
            [
             20,
             55.378051,
             -3.435973
            ]
           ],
           "geo": "geo",
           "hovertemplate": "<b>%{hovertext}</b><br><br>Year=%{marker.size}<br>Terrorist attacks=%{marker.color}<extra></extra>",
           "hovertext": [
            "Albania",
            "Austria",
            "Belarus",
            "Belgium",
            "Bulgaria",
            "Croatia",
            "Cyprus",
            "Denmark",
            "Estonia",
            "Finland",
            "France",
            "Germany",
            "Greece",
            "Hungary",
            "Iceland",
            "Ireland",
            "Italy",
            "Luxembourg",
            "Malta",
            "Netherlands",
            "North Macedonia",
            "Norway",
            "Poland",
            "Portugal",
            "Romania",
            "Serbia",
            "Slovakia",
            "Slovenia",
            "Spain",
            "Sweden",
            "Switzerland",
            "Ukraine",
            "United Kingdom"
           ],
           "lat": [
            41.153332,
            47.516231,
            53.709807,
            50.503887,
            42.733883,
            45.1,
            35.126413,
            56.26392,
            58.595272,
            61.92411,
            46.227638,
            51.165691,
            39.074208,
            47.162494,
            64.963051,
            53.41291,
            41.87194,
            49.815273,
            35.937496,
            52.132633,
            41.608635,
            60.472024,
            51.919438,
            39.399872,
            45.943161,
            44.016521,
            48.669026,
            46.151241,
            40.463667,
            60.128161,
            46.818188,
            48.379433,
            55.378051
           ],
           "legendgroup": "",
           "lon": [
            20.168331,
            14.550072,
            27.953389,
            4.469936,
            25.48583,
            15.2,
            33.429859,
            9.501785,
            25.013607,
            25.748151,
            2.213749,
            10.451526,
            21.824312,
            19.503304,
            -19.020835,
            -8.24389,
            12.56738,
            6.129583,
            14.375416,
            5.291266,
            21.745275,
            8.468946,
            19.145136,
            -8.224454,
            24.96676,
            21.005859,
            19.699024,
            14.995463,
            -3.74922,
            18.643501,
            8.227512,
            31.16558,
            -3.435973
           ],
           "marker": {
            "color": [
             0,
             1,
             0,
             1,
             0,
             0,
             1,
             0,
             0,
             1,
             16,
             3,
             15,
             0,
             0,
             1,
             0,
             0,
             0,
             0,
             1,
             0,
             0,
             0,
             0,
             0,
             0,
             0,
             11,
             0,
             2,
             1,
             20
            ],
            "coloraxis": "coloraxis",
            "size": [
             2007,
             2007,
             2007,
             2007,
             2007,
             2007,
             2007,
             2007,
             2007,
             2007,
             2007,
             2007,
             2007,
             2007,
             2007,
             2007,
             2007,
             2007,
             2007,
             2007,
             2007,
             2007,
             2007,
             2007,
             2007,
             2007,
             2007,
             2007,
             2007,
             2007,
             2007,
             2007,
             2007
            ],
            "sizemode": "area",
            "sizeref": 20.17,
            "symbol": "circle"
           },
           "mode": "markers",
           "name": "",
           "showlegend": false,
           "type": "scattergeo"
          }
         ],
         "name": "2007"
        },
        {
         "data": [
          {
           "customdata": [
            [
             0,
             41.153332,
             20.168331
            ],
            [
             7,
             47.516231,
             14.550072
            ],
            [
             1,
             53.709807,
             27.953389
            ],
            [
             0,
             50.503887,
             4.469936
            ],
            [
             2,
             42.733883,
             25.48583
            ],
            [
             2,
             45.1,
             15.2
            ],
            [
             0,
             35.126413,
             33.429859
            ],
            [
             1,
             56.26392,
             9.501785
            ],
            [
             0,
             58.595272,
             25.013607
            ],
            [
             1,
             61.92411,
             25.748151
            ],
            [
             13,
             46.227638,
             2.213749
            ],
            [
             3,
             51.165691,
             10.451526
            ],
            [
             53,
             39.074208,
             21.824312
            ],
            [
             2,
             47.162494,
             19.503304
            ],
            [
             0,
             64.963051,
             -19.020835
            ],
            [
             5,
             53.41291,
             -8.24389
            ],
            [
             2,
             41.87194,
             12.56738
            ],
            [
             0,
             49.815273,
             6.129583
            ],
            [
             0,
             35.937496,
             14.375416
            ],
            [
             1,
             52.132633,
             5.291266
            ],
            [
             9,
             41.608635,
             21.745275
            ],
            [
             0,
             60.472024,
             8.468946
            ],
            [
             0,
             51.919438,
             19.145136
            ],
            [
             0,
             39.399872,
             -8.224454
            ],
            [
             1,
             45.943161,
             24.96676
            ],
            [
             4,
             44.016521,
             21.005859
            ],
            [
             0,
             48.669026,
             19.699024
            ],
            [
             0,
             46.151241,
             14.995463
            ],
            [
             37,
             40.463667,
             -3.74922
            ],
            [
             1,
             60.128161,
             18.643501
            ],
            [
             0,
             46.818188,
             8.227512
            ],
            [
             1,
             48.379433,
             31.16558
            ],
            [
             39,
             55.378051,
             -3.435973
            ]
           ],
           "geo": "geo",
           "hovertemplate": "<b>%{hovertext}</b><br><br>Year=%{marker.size}<br>Terrorist attacks=%{marker.color}<extra></extra>",
           "hovertext": [
            "Albania",
            "Austria",
            "Belarus",
            "Belgium",
            "Bulgaria",
            "Croatia",
            "Cyprus",
            "Denmark",
            "Estonia",
            "Finland",
            "France",
            "Germany",
            "Greece",
            "Hungary",
            "Iceland",
            "Ireland",
            "Italy",
            "Luxembourg",
            "Malta",
            "Netherlands",
            "North Macedonia",
            "Norway",
            "Poland",
            "Portugal",
            "Romania",
            "Serbia",
            "Slovakia",
            "Slovenia",
            "Spain",
            "Sweden",
            "Switzerland",
            "Ukraine",
            "United Kingdom"
           ],
           "lat": [
            41.153332,
            47.516231,
            53.709807,
            50.503887,
            42.733883,
            45.1,
            35.126413,
            56.26392,
            58.595272,
            61.92411,
            46.227638,
            51.165691,
            39.074208,
            47.162494,
            64.963051,
            53.41291,
            41.87194,
            49.815273,
            35.937496,
            52.132633,
            41.608635,
            60.472024,
            51.919438,
            39.399872,
            45.943161,
            44.016521,
            48.669026,
            46.151241,
            40.463667,
            60.128161,
            46.818188,
            48.379433,
            55.378051
           ],
           "legendgroup": "",
           "lon": [
            20.168331,
            14.550072,
            27.953389,
            4.469936,
            25.48583,
            15.2,
            33.429859,
            9.501785,
            25.013607,
            25.748151,
            2.213749,
            10.451526,
            21.824312,
            19.503304,
            -19.020835,
            -8.24389,
            12.56738,
            6.129583,
            14.375416,
            5.291266,
            21.745275,
            8.468946,
            19.145136,
            -8.224454,
            24.96676,
            21.005859,
            19.699024,
            14.995463,
            -3.74922,
            18.643501,
            8.227512,
            31.16558,
            -3.435973
           ],
           "marker": {
            "color": [
             0,
             7,
             1,
             0,
             2,
             2,
             0,
             1,
             0,
             1,
             13,
             3,
             53,
             2,
             0,
             5,
             2,
             0,
             0,
             1,
             9,
             0,
             0,
             0,
             1,
             4,
             0,
             0,
             37,
             1,
             0,
             1,
             39
            ],
            "coloraxis": "coloraxis",
            "size": [
             2008,
             2008,
             2008,
             2008,
             2008,
             2008,
             2008,
             2008,
             2008,
             2008,
             2008,
             2008,
             2008,
             2008,
             2008,
             2008,
             2008,
             2008,
             2008,
             2008,
             2008,
             2008,
             2008,
             2008,
             2008,
             2008,
             2008,
             2008,
             2008,
             2008,
             2008,
             2008,
             2008
            ],
            "sizemode": "area",
            "sizeref": 20.17,
            "symbol": "circle"
           },
           "mode": "markers",
           "name": "",
           "showlegend": false,
           "type": "scattergeo"
          }
         ],
         "name": "2008"
        },
        {
         "data": [
          {
           "customdata": [
            [
             1,
             41.153332,
             20.168331
            ],
            [
             3,
             47.516231,
             14.550072
            ],
            [
             0,
             53.709807,
             27.953389
            ],
            [
             1,
             50.503887,
             4.469936
            ],
            [
             0,
             42.733883,
             25.48583
            ],
            [
             1,
             45.1,
             15.2
            ],
            [
             0,
             35.126413,
             33.429859
            ],
            [
             0,
             56.26392,
             9.501785
            ],
            [
             0,
             58.595272,
             25.013607
            ],
            [
             0,
             61.92411,
             25.748151
            ],
            [
             9,
             46.227638,
             2.213749
            ],
            [
             4,
             51.165691,
             10.451526
            ],
            [
             115,
             39.074208,
             21.824312
            ],
            [
             1,
             47.162494,
             19.503304
            ],
            [
             0,
             64.963051,
             -19.020835
            ],
            [
             0,
             53.41291,
             -8.24389
            ],
            [
             4,
             41.87194,
             12.56738
            ],
            [
             0,
             49.815273,
             6.129583
            ],
            [
             0,
             35.937496,
             14.375416
            ],
            [
             1,
             52.132633,
             5.291266
            ],
            [
             1,
             41.608635,
             21.745275
            ],
            [
             0,
             60.472024,
             8.468946
            ],
            [
             0,
             51.919438,
             19.145136
            ],
            [
             0,
             39.399872,
             -8.224454
            ],
            [
             0,
             45.943161,
             24.96676
            ],
            [
             3,
             44.016521,
             21.005859
            ],
            [
             0,
             48.669026,
             19.699024
            ],
            [
             0,
             46.151241,
             14.995463
            ],
            [
             21,
             40.463667,
             -3.74922
            ],
            [
             1,
             60.128161,
             18.643501
            ],
            [
             0,
             46.818188,
             8.227512
            ],
            [
             2,
             48.379433,
             31.16558
            ],
            [
             23,
             55.378051,
             -3.435973
            ]
           ],
           "geo": "geo",
           "hovertemplate": "<b>%{hovertext}</b><br><br>Year=%{marker.size}<br>Terrorist attacks=%{marker.color}<extra></extra>",
           "hovertext": [
            "Albania",
            "Austria",
            "Belarus",
            "Belgium",
            "Bulgaria",
            "Croatia",
            "Cyprus",
            "Denmark",
            "Estonia",
            "Finland",
            "France",
            "Germany",
            "Greece",
            "Hungary",
            "Iceland",
            "Ireland",
            "Italy",
            "Luxembourg",
            "Malta",
            "Netherlands",
            "North Macedonia",
            "Norway",
            "Poland",
            "Portugal",
            "Romania",
            "Serbia",
            "Slovakia",
            "Slovenia",
            "Spain",
            "Sweden",
            "Switzerland",
            "Ukraine",
            "United Kingdom"
           ],
           "lat": [
            41.153332,
            47.516231,
            53.709807,
            50.503887,
            42.733883,
            45.1,
            35.126413,
            56.26392,
            58.595272,
            61.92411,
            46.227638,
            51.165691,
            39.074208,
            47.162494,
            64.963051,
            53.41291,
            41.87194,
            49.815273,
            35.937496,
            52.132633,
            41.608635,
            60.472024,
            51.919438,
            39.399872,
            45.943161,
            44.016521,
            48.669026,
            46.151241,
            40.463667,
            60.128161,
            46.818188,
            48.379433,
            55.378051
           ],
           "legendgroup": "",
           "lon": [
            20.168331,
            14.550072,
            27.953389,
            4.469936,
            25.48583,
            15.2,
            33.429859,
            9.501785,
            25.013607,
            25.748151,
            2.213749,
            10.451526,
            21.824312,
            19.503304,
            -19.020835,
            -8.24389,
            12.56738,
            6.129583,
            14.375416,
            5.291266,
            21.745275,
            8.468946,
            19.145136,
            -8.224454,
            24.96676,
            21.005859,
            19.699024,
            14.995463,
            -3.74922,
            18.643501,
            8.227512,
            31.16558,
            -3.435973
           ],
           "marker": {
            "color": [
             1,
             3,
             0,
             1,
             0,
             1,
             0,
             0,
             0,
             0,
             9,
             4,
             115,
             1,
             0,
             0,
             4,
             0,
             0,
             1,
             1,
             0,
             0,
             0,
             0,
             3,
             0,
             0,
             21,
             1,
             0,
             2,
             23
            ],
            "coloraxis": "coloraxis",
            "size": [
             2009,
             2009,
             2009,
             2009,
             2009,
             2009,
             2009,
             2009,
             2009,
             2009,
             2009,
             2009,
             2009,
             2009,
             2009,
             2009,
             2009,
             2009,
             2009,
             2009,
             2009,
             2009,
             2009,
             2009,
             2009,
             2009,
             2009,
             2009,
             2009,
             2009,
             2009,
             2009,
             2009
            ],
            "sizemode": "area",
            "sizeref": 20.17,
            "symbol": "circle"
           },
           "mode": "markers",
           "name": "",
           "showlegend": false,
           "type": "scattergeo"
          }
         ],
         "name": "2009"
        },
        {
         "data": [
          {
           "customdata": [
            [
             0,
             41.153332,
             20.168331
            ],
            [
             0,
             47.516231,
             14.550072
            ],
            [
             2,
             53.709807,
             27.953389
            ],
            [
             0,
             50.503887,
             4.469936
            ],
            [
             0,
             42.733883,
             25.48583
            ],
            [
             0,
             45.1,
             15.2
            ],
            [
             0,
             35.126413,
             33.429859
            ],
            [
             1,
             56.26392,
             9.501785
            ],
            [
             0,
             58.595272,
             25.013607
            ],
            [
             0,
             61.92411,
             25.748151
            ],
            [
             3,
             46.227638,
             2.213749
            ],
            [
             1,
             51.165691,
             10.451526
            ],
            [
             49,
             39.074208,
             21.824312
            ],
            [
             0,
             47.162494,
             19.503304
            ],
            [
             0,
             64.963051,
             -19.020835
            ],
            [
             4,
             53.41291,
             -8.24389
            ],
            [
             10,
             41.87194,
             12.56738
            ],
            [
             0,
             49.815273,
             6.129583
            ],
            [
             0,
             35.937496,
             14.375416
            ],
            [
             1,
             52.132633,
             5.291266
            ],
            [
             0,
             41.608635,
             21.745275
            ],
            [
             1,
             60.472024,
             8.468946
            ],
            [
             1,
             51.919438,
             19.145136
            ],
            [
             0,
             39.399872,
             -8.224454
            ],
            [
             0,
             45.943161,
             24.96676
            ],
            [
             1,
             44.016521,
             21.005859
            ],
            [
             0,
             48.669026,
             19.699024
            ],
            [
             0,
             46.151241,
             14.995463
            ],
            [
             3,
             40.463667,
             -3.74922
            ],
            [
             3,
             60.128161,
             18.643501
            ],
            [
             0,
             46.818188,
             8.227512
            ],
            [
             4,
             48.379433,
             31.16558
            ],
            [
             57,
             55.378051,
             -3.435973
            ]
           ],
           "geo": "geo",
           "hovertemplate": "<b>%{hovertext}</b><br><br>Year=%{marker.size}<br>Terrorist attacks=%{marker.color}<extra></extra>",
           "hovertext": [
            "Albania",
            "Austria",
            "Belarus",
            "Belgium",
            "Bulgaria",
            "Croatia",
            "Cyprus",
            "Denmark",
            "Estonia",
            "Finland",
            "France",
            "Germany",
            "Greece",
            "Hungary",
            "Iceland",
            "Ireland",
            "Italy",
            "Luxembourg",
            "Malta",
            "Netherlands",
            "North Macedonia",
            "Norway",
            "Poland",
            "Portugal",
            "Romania",
            "Serbia",
            "Slovakia",
            "Slovenia",
            "Spain",
            "Sweden",
            "Switzerland",
            "Ukraine",
            "United Kingdom"
           ],
           "lat": [
            41.153332,
            47.516231,
            53.709807,
            50.503887,
            42.733883,
            45.1,
            35.126413,
            56.26392,
            58.595272,
            61.92411,
            46.227638,
            51.165691,
            39.074208,
            47.162494,
            64.963051,
            53.41291,
            41.87194,
            49.815273,
            35.937496,
            52.132633,
            41.608635,
            60.472024,
            51.919438,
            39.399872,
            45.943161,
            44.016521,
            48.669026,
            46.151241,
            40.463667,
            60.128161,
            46.818188,
            48.379433,
            55.378051
           ],
           "legendgroup": "",
           "lon": [
            20.168331,
            14.550072,
            27.953389,
            4.469936,
            25.48583,
            15.2,
            33.429859,
            9.501785,
            25.013607,
            25.748151,
            2.213749,
            10.451526,
            21.824312,
            19.503304,
            -19.020835,
            -8.24389,
            12.56738,
            6.129583,
            14.375416,
            5.291266,
            21.745275,
            8.468946,
            19.145136,
            -8.224454,
            24.96676,
            21.005859,
            19.699024,
            14.995463,
            -3.74922,
            18.643501,
            8.227512,
            31.16558,
            -3.435973
           ],
           "marker": {
            "color": [
             0,
             0,
             2,
             0,
             0,
             0,
             0,
             1,
             0,
             0,
             3,
             1,
             49,
             0,
             0,
             4,
             10,
             0,
             0,
             1,
             0,
             1,
             1,
             0,
             0,
             1,
             0,
             0,
             3,
             3,
             0,
             4,
             57
            ],
            "coloraxis": "coloraxis",
            "size": [
             2010,
             2010,
             2010,
             2010,
             2010,
             2010,
             2010,
             2010,
             2010,
             2010,
             2010,
             2010,
             2010,
             2010,
             2010,
             2010,
             2010,
             2010,
             2010,
             2010,
             2010,
             2010,
             2010,
             2010,
             2010,
             2010,
             2010,
             2010,
             2010,
             2010,
             2010,
             2010,
             2010
            ],
            "sizemode": "area",
            "sizeref": 20.17,
            "symbol": "circle"
           },
           "mode": "markers",
           "name": "",
           "showlegend": false,
           "type": "scattergeo"
          }
         ],
         "name": "2010"
        },
        {
         "data": [
          {
           "customdata": [
            [
             0,
             41.153332,
             20.168331
            ],
            [
             1,
             47.516231,
             14.550072
            ],
            [
             1,
             53.709807,
             27.953389
            ],
            [
             0,
             50.503887,
             4.469936
            ],
            [
             2,
             42.733883,
             25.48583
            ],
            [
             0,
             45.1,
             15.2
            ],
            [
             0,
             35.126413,
             33.429859
            ],
            [
             0,
             56.26392,
             9.501785
            ],
            [
             1,
             58.595272,
             25.013607
            ],
            [
             0,
             61.92411,
             25.748151
            ],
            [
             8,
             46.227638,
             2.213749
            ],
            [
             8,
             51.165691,
             10.451526
            ],
            [
             11,
             39.074208,
             21.824312
            ],
            [
             0,
             47.162494,
             19.503304
            ],
            [
             0,
             64.963051,
             -19.020835
            ],
            [
             4,
             53.41291,
             -8.24389
            ],
            [
             5,
             41.87194,
             12.56738
            ],
            [
             0,
             49.815273,
             6.129583
            ],
            [
             0,
             35.937496,
             14.375416
            ],
            [
             2,
             52.132633,
             5.291266
            ],
            [
             0,
             41.608635,
             21.745275
            ],
            [
             3,
             60.472024,
             8.468946
            ],
            [
             0,
             51.919438,
             19.145136
            ],
            [
             2,
             39.399872,
             -8.224454
            ],
            [
             0,
             45.943161,
             24.96676
            ],
            [
             0,
             44.016521,
             21.005859
            ],
            [
             0,
             48.669026,
             19.699024
            ],
            [
             0,
             46.151241,
             14.995463
            ],
            [
             0,
             40.463667,
             -3.74922
            ],
            [
             1,
             60.128161,
             18.643501
            ],
            [
             3,
             46.818188,
             8.227512
            ],
            [
             3,
             48.379433,
             31.16558
            ],
            [
             47,
             55.378051,
             -3.435973
            ]
           ],
           "geo": "geo",
           "hovertemplate": "<b>%{hovertext}</b><br><br>Year=%{marker.size}<br>Terrorist attacks=%{marker.color}<extra></extra>",
           "hovertext": [
            "Albania",
            "Austria",
            "Belarus",
            "Belgium",
            "Bulgaria",
            "Croatia",
            "Cyprus",
            "Denmark",
            "Estonia",
            "Finland",
            "France",
            "Germany",
            "Greece",
            "Hungary",
            "Iceland",
            "Ireland",
            "Italy",
            "Luxembourg",
            "Malta",
            "Netherlands",
            "North Macedonia",
            "Norway",
            "Poland",
            "Portugal",
            "Romania",
            "Serbia",
            "Slovakia",
            "Slovenia",
            "Spain",
            "Sweden",
            "Switzerland",
            "Ukraine",
            "United Kingdom"
           ],
           "lat": [
            41.153332,
            47.516231,
            53.709807,
            50.503887,
            42.733883,
            45.1,
            35.126413,
            56.26392,
            58.595272,
            61.92411,
            46.227638,
            51.165691,
            39.074208,
            47.162494,
            64.963051,
            53.41291,
            41.87194,
            49.815273,
            35.937496,
            52.132633,
            41.608635,
            60.472024,
            51.919438,
            39.399872,
            45.943161,
            44.016521,
            48.669026,
            46.151241,
            40.463667,
            60.128161,
            46.818188,
            48.379433,
            55.378051
           ],
           "legendgroup": "",
           "lon": [
            20.168331,
            14.550072,
            27.953389,
            4.469936,
            25.48583,
            15.2,
            33.429859,
            9.501785,
            25.013607,
            25.748151,
            2.213749,
            10.451526,
            21.824312,
            19.503304,
            -19.020835,
            -8.24389,
            12.56738,
            6.129583,
            14.375416,
            5.291266,
            21.745275,
            8.468946,
            19.145136,
            -8.224454,
            24.96676,
            21.005859,
            19.699024,
            14.995463,
            -3.74922,
            18.643501,
            8.227512,
            31.16558,
            -3.435973
           ],
           "marker": {
            "color": [
             0,
             1,
             1,
             0,
             2,
             0,
             0,
             0,
             1,
             0,
             8,
             8,
             11,
             0,
             0,
             4,
             5,
             0,
             0,
             2,
             0,
             3,
             0,
             2,
             0,
             0,
             0,
             0,
             0,
             1,
             3,
             3,
             47
            ],
            "coloraxis": "coloraxis",
            "size": [
             2011,
             2011,
             2011,
             2011,
             2011,
             2011,
             2011,
             2011,
             2011,
             2011,
             2011,
             2011,
             2011,
             2011,
             2011,
             2011,
             2011,
             2011,
             2011,
             2011,
             2011,
             2011,
             2011,
             2011,
             2011,
             2011,
             2011,
             2011,
             2011,
             2011,
             2011,
             2011,
             2011
            ],
            "sizemode": "area",
            "sizeref": 20.17,
            "symbol": "circle"
           },
           "mode": "markers",
           "name": "",
           "showlegend": false,
           "type": "scattergeo"
          }
         ],
         "name": "2011"
        },
        {
         "data": [
          {
           "customdata": [
            [
             0,
             41.153332,
             20.168331
            ],
            [
             0,
             47.516231,
             14.550072
            ],
            [
             3,
             53.709807,
             27.953389
            ],
            [
             1,
             50.503887,
             4.469936
            ],
            [
             2,
             42.733883,
             25.48583
            ],
            [
             0,
             45.1,
             15.2
            ],
            [
             1,
             35.126413,
             33.429859
            ],
            [
             0,
             56.26392,
             9.501785
            ],
            [
             0,
             58.595272,
             25.013607
            ],
            [
             0,
             61.92411,
             25.748151
            ],
            [
             66,
             46.227638,
             2.213749
            ],
            [
             5,
             51.165691,
             10.451526
            ],
            [
             22,
             39.074208,
             21.824312
            ],
            [
             0,
             47.162494,
             19.503304
            ],
            [
             1,
             64.963051,
             -19.020835
            ],
            [
             29,
             53.41291,
             -8.24389
            ],
            [
             10,
             41.87194,
             12.56738
            ],
            [
             0,
             49.815273,
             6.129583
            ],
            [
             0,
             35.937496,
             14.375416
            ],
            [
             0,
             52.132633,
             5.291266
            ],
            [
             1,
             41.608635,
             21.745275
            ],
            [
             0,
             60.472024,
             8.468946
            ],
            [
             0,
             51.919438,
             19.145136
            ],
            [
             0,
             39.399872,
             -8.224454
            ],
            [
             0,
             45.943161,
             24.96676
            ],
            [
             3,
             44.016521,
             21.005859
            ],
            [
             0,
             48.669026,
             19.699024
            ],
            [
             0,
             46.151241,
             14.995463
            ],
            [
             1,
             40.463667,
             -3.74922
            ],
            [
             2,
             60.128161,
             18.643501
            ],
            [
             0,
             46.818188,
             8.227512
            ],
            [
             8,
             48.379433,
             31.16558
            ],
            [
             55,
             55.378051,
             -3.435973
            ]
           ],
           "geo": "geo",
           "hovertemplate": "<b>%{hovertext}</b><br><br>Year=%{marker.size}<br>Terrorist attacks=%{marker.color}<extra></extra>",
           "hovertext": [
            "Albania",
            "Austria",
            "Belarus",
            "Belgium",
            "Bulgaria",
            "Croatia",
            "Cyprus",
            "Denmark",
            "Estonia",
            "Finland",
            "France",
            "Germany",
            "Greece",
            "Hungary",
            "Iceland",
            "Ireland",
            "Italy",
            "Luxembourg",
            "Malta",
            "Netherlands",
            "North Macedonia",
            "Norway",
            "Poland",
            "Portugal",
            "Romania",
            "Serbia",
            "Slovakia",
            "Slovenia",
            "Spain",
            "Sweden",
            "Switzerland",
            "Ukraine",
            "United Kingdom"
           ],
           "lat": [
            41.153332,
            47.516231,
            53.709807,
            50.503887,
            42.733883,
            45.1,
            35.126413,
            56.26392,
            58.595272,
            61.92411,
            46.227638,
            51.165691,
            39.074208,
            47.162494,
            64.963051,
            53.41291,
            41.87194,
            49.815273,
            35.937496,
            52.132633,
            41.608635,
            60.472024,
            51.919438,
            39.399872,
            45.943161,
            44.016521,
            48.669026,
            46.151241,
            40.463667,
            60.128161,
            46.818188,
            48.379433,
            55.378051
           ],
           "legendgroup": "",
           "lon": [
            20.168331,
            14.550072,
            27.953389,
            4.469936,
            25.48583,
            15.2,
            33.429859,
            9.501785,
            25.013607,
            25.748151,
            2.213749,
            10.451526,
            21.824312,
            19.503304,
            -19.020835,
            -8.24389,
            12.56738,
            6.129583,
            14.375416,
            5.291266,
            21.745275,
            8.468946,
            19.145136,
            -8.224454,
            24.96676,
            21.005859,
            19.699024,
            14.995463,
            -3.74922,
            18.643501,
            8.227512,
            31.16558,
            -3.435973
           ],
           "marker": {
            "color": [
             0,
             0,
             3,
             1,
             2,
             0,
             1,
             0,
             0,
             0,
             66,
             5,
             22,
             0,
             1,
             29,
             10,
             0,
             0,
             0,
             1,
             0,
             0,
             0,
             0,
             3,
             0,
             0,
             1,
             2,
             0,
             8,
             55
            ],
            "coloraxis": "coloraxis",
            "size": [
             2012,
             2012,
             2012,
             2012,
             2012,
             2012,
             2012,
             2012,
             2012,
             2012,
             2012,
             2012,
             2012,
             2012,
             2012,
             2012,
             2012,
             2012,
             2012,
             2012,
             2012,
             2012,
             2012,
             2012,
             2012,
             2012,
             2012,
             2012,
             2012,
             2012,
             2012,
             2012,
             2012
            ],
            "sizemode": "area",
            "sizeref": 20.17,
            "symbol": "circle"
           },
           "mode": "markers",
           "name": "",
           "showlegend": false,
           "type": "scattergeo"
          }
         ],
         "name": "2012"
        },
        {
         "data": [
          {
           "customdata": [
            [
             1,
             41.153332,
             20.168331
            ],
            [
             1,
             47.516231,
             14.550072
            ],
            [
             0,
             53.709807,
             27.953389
            ],
            [
             0,
             50.503887,
             4.469936
            ],
            [
             3,
             42.733883,
             25.48583
            ],
            [
             2,
             45.1,
             15.2
            ],
            [
             9,
             35.126413,
             33.429859
            ],
            [
             1,
             56.26392,
             9.501785
            ],
            [
             0,
             58.595272,
             25.013607
            ],
            [
             0,
             61.92411,
             25.748151
            ],
            [
             18,
             46.227638,
             2.213749
            ],
            [
             0,
             51.165691,
             10.451526
            ],
            [
             54,
             39.074208,
             21.824312
            ],
            [
             0,
             47.162494,
             19.503304
            ],
            [
             0,
             64.963051,
             -19.020835
            ],
            [
             27,
             53.41291,
             -8.24389
            ],
            [
             7,
             41.87194,
             12.56738
            ],
            [
             0,
             49.815273,
             6.129583
            ],
            [
             0,
             35.937496,
             14.375416
            ],
            [
             0,
             52.132633,
             5.291266
            ],
            [
             0,
             41.608635,
             21.745275
            ],
            [
             0,
             60.472024,
             8.468946
            ],
            [
             0,
             51.919438,
             19.145136
            ],
            [
             0,
             39.399872,
             -8.224454
            ],
            [
             0,
             45.943161,
             24.96676
            ],
            [
             0,
             44.016521,
             21.005859
            ],
            [
             0,
             48.669026,
             19.699024
            ],
            [
             0,
             46.151241,
             14.995463
            ],
            [
             5,
             40.463667,
             -3.74922
            ],
            [
             0,
             60.128161,
             18.643501
            ],
            [
             2,
             46.818188,
             8.227512
            ],
            [
             5,
             48.379433,
             31.16558
            ],
            [
             137,
             55.378051,
             -3.435973
            ]
           ],
           "geo": "geo",
           "hovertemplate": "<b>%{hovertext}</b><br><br>Year=%{marker.size}<br>Terrorist attacks=%{marker.color}<extra></extra>",
           "hovertext": [
            "Albania",
            "Austria",
            "Belarus",
            "Belgium",
            "Bulgaria",
            "Croatia",
            "Cyprus",
            "Denmark",
            "Estonia",
            "Finland",
            "France",
            "Germany",
            "Greece",
            "Hungary",
            "Iceland",
            "Ireland",
            "Italy",
            "Luxembourg",
            "Malta",
            "Netherlands",
            "North Macedonia",
            "Norway",
            "Poland",
            "Portugal",
            "Romania",
            "Serbia",
            "Slovakia",
            "Slovenia",
            "Spain",
            "Sweden",
            "Switzerland",
            "Ukraine",
            "United Kingdom"
           ],
           "lat": [
            41.153332,
            47.516231,
            53.709807,
            50.503887,
            42.733883,
            45.1,
            35.126413,
            56.26392,
            58.595272,
            61.92411,
            46.227638,
            51.165691,
            39.074208,
            47.162494,
            64.963051,
            53.41291,
            41.87194,
            49.815273,
            35.937496,
            52.132633,
            41.608635,
            60.472024,
            51.919438,
            39.399872,
            45.943161,
            44.016521,
            48.669026,
            46.151241,
            40.463667,
            60.128161,
            46.818188,
            48.379433,
            55.378051
           ],
           "legendgroup": "",
           "lon": [
            20.168331,
            14.550072,
            27.953389,
            4.469936,
            25.48583,
            15.2,
            33.429859,
            9.501785,
            25.013607,
            25.748151,
            2.213749,
            10.451526,
            21.824312,
            19.503304,
            -19.020835,
            -8.24389,
            12.56738,
            6.129583,
            14.375416,
            5.291266,
            21.745275,
            8.468946,
            19.145136,
            -8.224454,
            24.96676,
            21.005859,
            19.699024,
            14.995463,
            -3.74922,
            18.643501,
            8.227512,
            31.16558,
            -3.435973
           ],
           "marker": {
            "color": [
             1,
             1,
             0,
             0,
             3,
             2,
             9,
             1,
             0,
             0,
             18,
             0,
             54,
             0,
             0,
             27,
             7,
             0,
             0,
             0,
             0,
             0,
             0,
             0,
             0,
             0,
             0,
             0,
             5,
             0,
             2,
             5,
             137
            ],
            "coloraxis": "coloraxis",
            "size": [
             2013,
             2013,
             2013,
             2013,
             2013,
             2013,
             2013,
             2013,
             2013,
             2013,
             2013,
             2013,
             2013,
             2013,
             2013,
             2013,
             2013,
             2013,
             2013,
             2013,
             2013,
             2013,
             2013,
             2013,
             2013,
             2013,
             2013,
             2013,
             2013,
             2013,
             2013,
             2013,
             2013
            ],
            "sizemode": "area",
            "sizeref": 20.17,
            "symbol": "circle"
           },
           "mode": "markers",
           "name": "",
           "showlegend": false,
           "type": "scattergeo"
          }
         ],
         "name": "2013"
        },
        {
         "data": [
          {
           "customdata": [
            [
             2,
             41.153332,
             20.168331
            ],
            [
             0,
             47.516231,
             14.550072
            ],
            [
             0,
             53.709807,
             27.953389
            ],
            [
             2,
             50.503887,
             4.469936
            ],
            [
             1,
             42.733883,
             25.48583
            ],
            [
             0,
             45.1,
             15.2
            ],
            [
             5,
             35.126413,
             33.429859
            ],
            [
             0,
             56.26392,
             9.501785
            ],
            [
             0,
             58.595272,
             25.013607
            ],
            [
             0,
             61.92411,
             25.748151
            ],
            [
             14,
             46.227638,
             2.213749
            ],
            [
             13,
             51.165691,
             10.451526
            ],
            [
             26,
             39.074208,
             21.824312
            ],
            [
             1,
             47.162494,
             19.503304
            ],
            [
             1,
             64.963051,
             -19.020835
            ],
            [
             33,
             53.41291,
             -8.24389
            ],
            [
             7,
             41.87194,
             12.56738
            ],
            [
             0,
             49.815273,
             6.129583
            ],
            [
             1,
             35.937496,
             14.375416
            ],
            [
             1,
             52.132633,
             5.291266
            ],
            [
             3,
             41.608635,
             21.745275
            ],
            [
             0,
             60.472024,
             8.468946
            ],
            [
             0,
             51.919438,
             19.145136
            ],
            [
             0,
             39.399872,
             -8.224454
            ],
            [
             0,
             45.943161,
             24.96676
            ],
            [
             0,
             44.016521,
             21.005859
            ],
            [
             0,
             48.669026,
             19.699024
            ],
            [
             0,
             46.151241,
             14.995463
            ],
            [
             4,
             40.463667,
             -3.74922
            ],
            [
             5,
             60.128161,
             18.643501
            ],
            [
             0,
             46.818188,
             8.227512
            ],
            [
             895,
             48.379433,
             31.16558
            ],
            [
             103,
             55.378051,
             -3.435973
            ]
           ],
           "geo": "geo",
           "hovertemplate": "<b>%{hovertext}</b><br><br>Year=%{marker.size}<br>Terrorist attacks=%{marker.color}<extra></extra>",
           "hovertext": [
            "Albania",
            "Austria",
            "Belarus",
            "Belgium",
            "Bulgaria",
            "Croatia",
            "Cyprus",
            "Denmark",
            "Estonia",
            "Finland",
            "France",
            "Germany",
            "Greece",
            "Hungary",
            "Iceland",
            "Ireland",
            "Italy",
            "Luxembourg",
            "Malta",
            "Netherlands",
            "North Macedonia",
            "Norway",
            "Poland",
            "Portugal",
            "Romania",
            "Serbia",
            "Slovakia",
            "Slovenia",
            "Spain",
            "Sweden",
            "Switzerland",
            "Ukraine",
            "United Kingdom"
           ],
           "lat": [
            41.153332,
            47.516231,
            53.709807,
            50.503887,
            42.733883,
            45.1,
            35.126413,
            56.26392,
            58.595272,
            61.92411,
            46.227638,
            51.165691,
            39.074208,
            47.162494,
            64.963051,
            53.41291,
            41.87194,
            49.815273,
            35.937496,
            52.132633,
            41.608635,
            60.472024,
            51.919438,
            39.399872,
            45.943161,
            44.016521,
            48.669026,
            46.151241,
            40.463667,
            60.128161,
            46.818188,
            48.379433,
            55.378051
           ],
           "legendgroup": "",
           "lon": [
            20.168331,
            14.550072,
            27.953389,
            4.469936,
            25.48583,
            15.2,
            33.429859,
            9.501785,
            25.013607,
            25.748151,
            2.213749,
            10.451526,
            21.824312,
            19.503304,
            -19.020835,
            -8.24389,
            12.56738,
            6.129583,
            14.375416,
            5.291266,
            21.745275,
            8.468946,
            19.145136,
            -8.224454,
            24.96676,
            21.005859,
            19.699024,
            14.995463,
            -3.74922,
            18.643501,
            8.227512,
            31.16558,
            -3.435973
           ],
           "marker": {
            "color": [
             2,
             0,
             0,
             2,
             1,
             0,
             5,
             0,
             0,
             0,
             14,
             13,
             26,
             1,
             1,
             33,
             7,
             0,
             1,
             1,
             3,
             0,
             0,
             0,
             0,
             0,
             0,
             0,
             4,
             5,
             0,
             895,
             103
            ],
            "coloraxis": "coloraxis",
            "size": [
             2014,
             2014,
             2014,
             2014,
             2014,
             2014,
             2014,
             2014,
             2014,
             2014,
             2014,
             2014,
             2014,
             2014,
             2014,
             2014,
             2014,
             2014,
             2014,
             2014,
             2014,
             2014,
             2014,
             2014,
             2014,
             2014,
             2014,
             2014,
             2014,
             2014,
             2014,
             2014,
             2014
            ],
            "sizemode": "area",
            "sizeref": 20.17,
            "symbol": "circle"
           },
           "mode": "markers",
           "name": "",
           "showlegend": false,
           "type": "scattergeo"
          }
         ],
         "name": "2014"
        },
        {
         "data": [
          {
           "customdata": [
            [
             4,
             41.153332,
             20.168331
            ],
            [
             0,
             47.516231,
             14.550072
            ],
            [
             0,
             53.709807,
             27.953389
            ],
            [
             0,
             50.503887,
             4.469936
            ],
            [
             2,
             42.733883,
             25.48583
            ],
            [
             0,
             45.1,
             15.2
            ],
            [
             3,
             35.126413,
             33.429859
            ],
            [
             4,
             56.26392,
             9.501785
            ],
            [
             2,
             58.595272,
             25.013607
            ],
            [
             9,
             61.92411,
             25.748151
            ],
            [
             37,
             46.227638,
             2.213749
            ],
            [
             65,
             51.165691,
             10.451526
            ],
            [
             31,
             39.074208,
             21.824312
            ],
            [
             1,
             47.162494,
             19.503304
            ],
            [
             0,
             64.963051,
             -19.020835
            ],
            [
             28,
             53.41291,
             -8.24389
            ],
            [
             5,
             41.87194,
             12.56738
            ],
            [
             0,
             49.815273,
             6.129583
            ],
            [
             1,
             35.937496,
             14.375416
            ],
            [
             3,
             52.132633,
             5.291266
            ],
            [
             4,
             41.608635,
             21.745275
            ],
            [
             0,
             60.472024,
             8.468946
            ],
            [
             0,
             51.919438,
             19.145136
            ],
            [
             0,
             39.399872,
             -8.224454
            ],
            [
             0,
             45.943161,
             24.96676
            ],
            [
             0,
             44.016521,
             21.005859
            ],
            [
             0,
             48.669026,
             19.699024
            ],
            [
             0,
             46.151241,
             14.995463
            ],
            [
             1,
             40.463667,
             -3.74922
            ],
            [
             32,
             60.128161,
             18.643501
            ],
            [
             0,
             46.818188,
             8.227512
            ],
            [
             637,
             48.379433,
             31.16558
            ],
            [
             114,
             55.378051,
             -3.435973
            ]
           ],
           "geo": "geo",
           "hovertemplate": "<b>%{hovertext}</b><br><br>Year=%{marker.size}<br>Terrorist attacks=%{marker.color}<extra></extra>",
           "hovertext": [
            "Albania",
            "Austria",
            "Belarus",
            "Belgium",
            "Bulgaria",
            "Croatia",
            "Cyprus",
            "Denmark",
            "Estonia",
            "Finland",
            "France",
            "Germany",
            "Greece",
            "Hungary",
            "Iceland",
            "Ireland",
            "Italy",
            "Luxembourg",
            "Malta",
            "Netherlands",
            "North Macedonia",
            "Norway",
            "Poland",
            "Portugal",
            "Romania",
            "Serbia",
            "Slovakia",
            "Slovenia",
            "Spain",
            "Sweden",
            "Switzerland",
            "Ukraine",
            "United Kingdom"
           ],
           "lat": [
            41.153332,
            47.516231,
            53.709807,
            50.503887,
            42.733883,
            45.1,
            35.126413,
            56.26392,
            58.595272,
            61.92411,
            46.227638,
            51.165691,
            39.074208,
            47.162494,
            64.963051,
            53.41291,
            41.87194,
            49.815273,
            35.937496,
            52.132633,
            41.608635,
            60.472024,
            51.919438,
            39.399872,
            45.943161,
            44.016521,
            48.669026,
            46.151241,
            40.463667,
            60.128161,
            46.818188,
            48.379433,
            55.378051
           ],
           "legendgroup": "",
           "lon": [
            20.168331,
            14.550072,
            27.953389,
            4.469936,
            25.48583,
            15.2,
            33.429859,
            9.501785,
            25.013607,
            25.748151,
            2.213749,
            10.451526,
            21.824312,
            19.503304,
            -19.020835,
            -8.24389,
            12.56738,
            6.129583,
            14.375416,
            5.291266,
            21.745275,
            8.468946,
            19.145136,
            -8.224454,
            24.96676,
            21.005859,
            19.699024,
            14.995463,
            -3.74922,
            18.643501,
            8.227512,
            31.16558,
            -3.435973
           ],
           "marker": {
            "color": [
             4,
             0,
             0,
             0,
             2,
             0,
             3,
             4,
             2,
             9,
             37,
             65,
             31,
             1,
             0,
             28,
             5,
             0,
             1,
             3,
             4,
             0,
             0,
             0,
             0,
             0,
             0,
             0,
             1,
             32,
             0,
             637,
             114
            ],
            "coloraxis": "coloraxis",
            "size": [
             2015,
             2015,
             2015,
             2015,
             2015,
             2015,
             2015,
             2015,
             2015,
             2015,
             2015,
             2015,
             2015,
             2015,
             2015,
             2015,
             2015,
             2015,
             2015,
             2015,
             2015,
             2015,
             2015,
             2015,
             2015,
             2015,
             2015,
             2015,
             2015,
             2015,
             2015,
             2015,
             2015
            ],
            "sizemode": "area",
            "sizeref": 20.17,
            "symbol": "circle"
           },
           "mode": "markers",
           "name": "",
           "showlegend": false,
           "type": "scattergeo"
          }
         ],
         "name": "2015"
        },
        {
         "data": [
          {
           "customdata": [
            [
             2,
             41.153332,
             20.168331
            ],
            [
             3,
             47.516231,
             14.550072
            ],
            [
             0,
             53.709807,
             27.953389
            ],
            [
             6,
             50.503887,
             4.469936
            ],
            [
             1,
             42.733883,
             25.48583
            ],
            [
             0,
             45.1,
             15.2
            ],
            [
             2,
             35.126413,
             33.429859
            ],
            [
             1,
             56.26392,
             9.501785
            ],
            [
             0,
             58.595272,
             25.013607
            ],
            [
             3,
             61.92411,
             25.748151
            ],
            [
             26,
             46.227638,
             2.213749
            ],
            [
             44,
             51.165691,
             10.451526
            ],
            [
             31,
             39.074208,
             21.824312
            ],
            [
             1,
             47.162494,
             19.503304
            ],
            [
             0,
             64.963051,
             -19.020835
            ],
            [
             15,
             53.41291,
             -8.24389
            ],
            [
             11,
             41.87194,
             12.56738
            ],
            [
             0,
             49.815273,
             6.129583
            ],
            [
             0,
             35.937496,
             14.375416
            ],
            [
             6,
             52.132633,
             5.291266
            ],
            [
             0,
             41.608635,
             21.745275
            ],
            [
             0,
             60.472024,
             8.468946
            ],
            [
             2,
             51.919438,
             19.145136
            ],
            [
             0,
             39.399872,
             -8.224454
            ],
            [
             0,
             45.943161,
             24.96676
            ],
            [
             0,
             44.016521,
             21.005859
            ],
            [
             1,
             48.669026,
             19.699024
            ],
            [
             0,
             46.151241,
             14.995463
            ],
            [
             3,
             40.463667,
             -3.74922
            ],
            [
             16,
             60.128161,
             18.643501
            ],
            [
             1,
             46.818188,
             8.227512
            ],
            [
             61,
             48.379433,
             31.16558
            ],
            [
             105,
             55.378051,
             -3.435973
            ]
           ],
           "geo": "geo",
           "hovertemplate": "<b>%{hovertext}</b><br><br>Year=%{marker.size}<br>Terrorist attacks=%{marker.color}<extra></extra>",
           "hovertext": [
            "Albania",
            "Austria",
            "Belarus",
            "Belgium",
            "Bulgaria",
            "Croatia",
            "Cyprus",
            "Denmark",
            "Estonia",
            "Finland",
            "France",
            "Germany",
            "Greece",
            "Hungary",
            "Iceland",
            "Ireland",
            "Italy",
            "Luxembourg",
            "Malta",
            "Netherlands",
            "North Macedonia",
            "Norway",
            "Poland",
            "Portugal",
            "Romania",
            "Serbia",
            "Slovakia",
            "Slovenia",
            "Spain",
            "Sweden",
            "Switzerland",
            "Ukraine",
            "United Kingdom"
           ],
           "lat": [
            41.153332,
            47.516231,
            53.709807,
            50.503887,
            42.733883,
            45.1,
            35.126413,
            56.26392,
            58.595272,
            61.92411,
            46.227638,
            51.165691,
            39.074208,
            47.162494,
            64.963051,
            53.41291,
            41.87194,
            49.815273,
            35.937496,
            52.132633,
            41.608635,
            60.472024,
            51.919438,
            39.399872,
            45.943161,
            44.016521,
            48.669026,
            46.151241,
            40.463667,
            60.128161,
            46.818188,
            48.379433,
            55.378051
           ],
           "legendgroup": "",
           "lon": [
            20.168331,
            14.550072,
            27.953389,
            4.469936,
            25.48583,
            15.2,
            33.429859,
            9.501785,
            25.013607,
            25.748151,
            2.213749,
            10.451526,
            21.824312,
            19.503304,
            -19.020835,
            -8.24389,
            12.56738,
            6.129583,
            14.375416,
            5.291266,
            21.745275,
            8.468946,
            19.145136,
            -8.224454,
            24.96676,
            21.005859,
            19.699024,
            14.995463,
            -3.74922,
            18.643501,
            8.227512,
            31.16558,
            -3.435973
           ],
           "marker": {
            "color": [
             2,
             3,
             0,
             6,
             1,
             0,
             2,
             1,
             0,
             3,
             26,
             44,
             31,
             1,
             0,
             15,
             11,
             0,
             0,
             6,
             0,
             0,
             2,
             0,
             0,
             0,
             1,
             0,
             3,
             16,
             1,
             61,
             105
            ],
            "coloraxis": "coloraxis",
            "size": [
             2016,
             2016,
             2016,
             2016,
             2016,
             2016,
             2016,
             2016,
             2016,
             2016,
             2016,
             2016,
             2016,
             2016,
             2016,
             2016,
             2016,
             2016,
             2016,
             2016,
             2016,
             2016,
             2016,
             2016,
             2016,
             2016,
             2016,
             2016,
             2016,
             2016,
             2016,
             2016,
             2016
            ],
            "sizemode": "area",
            "sizeref": 20.17,
            "symbol": "circle"
           },
           "mode": "markers",
           "name": "",
           "showlegend": false,
           "type": "scattergeo"
          }
         ],
         "name": "2016"
        },
        {
         "data": [
          {
           "customdata": [
            [
             1,
             41.153332,
             20.168331
            ],
            [
             1,
             47.516231,
             14.550072
            ],
            [
             0,
             53.709807,
             27.953389
            ],
            [
             3,
             50.503887,
             4.469936
            ],
            [
             0,
             42.733883,
             25.48583
            ],
            [
             0,
             45.1,
             15.2
            ],
            [
             0,
             35.126413,
             33.429859
            ],
            [
             0,
             56.26392,
             9.501785
            ],
            [
             0,
             58.595272,
             25.013607
            ],
            [
             2,
             61.92411,
             25.748151
            ],
            [
             41,
             46.227638,
             2.213749
            ],
            [
             27,
             51.165691,
             10.451526
            ],
            [
             43,
             39.074208,
             21.824312
            ],
            [
             0,
             47.162494,
             19.503304
            ],
            [
             0,
             64.963051,
             -19.020835
            ],
            [
             17,
             53.41291,
             -8.24389
            ],
            [
             8,
             41.87194,
             12.56738
            ],
            [
             0,
             49.815273,
             6.129583
            ],
            [
             3,
             35.937496,
             14.375416
            ],
            [
             1,
             52.132633,
             5.291266
            ],
            [
             1,
             41.608635,
             21.745275
            ],
            [
             1,
             60.472024,
             8.468946
            ],
            [
             1,
             51.919438,
             19.145136
            ],
            [
             0,
             39.399872,
             -8.224454
            ],
            [
             0,
             45.943161,
             24.96676
            ],
            [
             1,
             44.016521,
             21.005859
            ],
            [
             0,
             48.669026,
             19.699024
            ],
            [
             0,
             46.151241,
             14.995463
            ],
            [
             4,
             40.463667,
             -3.74922
            ],
            [
             18,
             60.128161,
             18.643501
            ],
            [
             0,
             46.818188,
             8.227512
            ],
            [
             61,
             48.379433,
             31.16558
            ],
            [
             122,
             55.378051,
             -3.435973
            ]
           ],
           "geo": "geo",
           "hovertemplate": "<b>%{hovertext}</b><br><br>Year=%{marker.size}<br>Terrorist attacks=%{marker.color}<extra></extra>",
           "hovertext": [
            "Albania",
            "Austria",
            "Belarus",
            "Belgium",
            "Bulgaria",
            "Croatia",
            "Cyprus",
            "Denmark",
            "Estonia",
            "Finland",
            "France",
            "Germany",
            "Greece",
            "Hungary",
            "Iceland",
            "Ireland",
            "Italy",
            "Luxembourg",
            "Malta",
            "Netherlands",
            "North Macedonia",
            "Norway",
            "Poland",
            "Portugal",
            "Romania",
            "Serbia",
            "Slovakia",
            "Slovenia",
            "Spain",
            "Sweden",
            "Switzerland",
            "Ukraine",
            "United Kingdom"
           ],
           "lat": [
            41.153332,
            47.516231,
            53.709807,
            50.503887,
            42.733883,
            45.1,
            35.126413,
            56.26392,
            58.595272,
            61.92411,
            46.227638,
            51.165691,
            39.074208,
            47.162494,
            64.963051,
            53.41291,
            41.87194,
            49.815273,
            35.937496,
            52.132633,
            41.608635,
            60.472024,
            51.919438,
            39.399872,
            45.943161,
            44.016521,
            48.669026,
            46.151241,
            40.463667,
            60.128161,
            46.818188,
            48.379433,
            55.378051
           ],
           "legendgroup": "",
           "lon": [
            20.168331,
            14.550072,
            27.953389,
            4.469936,
            25.48583,
            15.2,
            33.429859,
            9.501785,
            25.013607,
            25.748151,
            2.213749,
            10.451526,
            21.824312,
            19.503304,
            -19.020835,
            -8.24389,
            12.56738,
            6.129583,
            14.375416,
            5.291266,
            21.745275,
            8.468946,
            19.145136,
            -8.224454,
            24.96676,
            21.005859,
            19.699024,
            14.995463,
            -3.74922,
            18.643501,
            8.227512,
            31.16558,
            -3.435973
           ],
           "marker": {
            "color": [
             1,
             1,
             0,
             3,
             0,
             0,
             0,
             0,
             0,
             2,
             41,
             27,
             43,
             0,
             0,
             17,
             8,
             0,
             3,
             1,
             1,
             1,
             1,
             0,
             0,
             1,
             0,
             0,
             4,
             18,
             0,
             61,
             122
            ],
            "coloraxis": "coloraxis",
            "size": [
             2017,
             2017,
             2017,
             2017,
             2017,
             2017,
             2017,
             2017,
             2017,
             2017,
             2017,
             2017,
             2017,
             2017,
             2017,
             2017,
             2017,
             2017,
             2017,
             2017,
             2017,
             2017,
             2017,
             2017,
             2017,
             2017,
             2017,
             2017,
             2017,
             2017,
             2017,
             2017,
             2017
            ],
            "sizemode": "area",
            "sizeref": 20.17,
            "symbol": "circle"
           },
           "mode": "markers",
           "name": "",
           "showlegend": false,
           "type": "scattergeo"
          }
         ],
         "name": "2017"
        }
       ],
       "layout": {
        "coloraxis": {
         "colorbar": {
          "title": {
           "text": "Terrorist attacks"
          }
         },
         "colorscale": [
          [
           0,
           "rgb(255,247,236)"
          ],
          [
           0.125,
           "rgb(254,232,200)"
          ],
          [
           0.25,
           "rgb(253,212,158)"
          ],
          [
           0.375,
           "rgb(253,187,132)"
          ],
          [
           0.5,
           "rgb(252,141,89)"
          ],
          [
           0.625,
           "rgb(239,101,72)"
          ],
          [
           0.75,
           "rgb(215,48,31)"
          ],
          [
           0.875,
           "rgb(179,0,0)"
          ],
          [
           1,
           "rgb(127,0,0)"
          ]
         ]
        },
        "geo": {
         "bgcolor": "whitesmoke",
         "center": {},
         "countrycolor": "whitesmoke",
         "domain": {
          "x": [
           0,
           1
          ],
          "y": [
           0,
           1
          ]
         },
         "landcolor": "#26a783",
         "projection": {
          "type": "natural earth"
         },
         "resolution": 50,
         "scope": "europe",
         "showcountries": true,
         "visible": true
        },
        "height": 650,
        "legend": {
         "itemsizing": "constant",
         "tracegroupgap": 0
        },
        "margin": {
         "t": 60
        },
        "sliders": [
         {
          "active": 0,
          "currentvalue": {
           "prefix": "Year="
          },
          "len": 0.9,
          "pad": {
           "b": 10,
           "t": 60
          },
          "steps": [
           {
            "args": [
             [
              "2000"
             ],
             {
              "frame": {
               "duration": 0,
               "redraw": true
              },
              "fromcurrent": true,
              "mode": "immediate",
              "transition": {
               "duration": 0,
               "easing": "linear"
              }
             }
            ],
            "label": "2000",
            "method": "animate"
           },
           {
            "args": [
             [
              "2001"
             ],
             {
              "frame": {
               "duration": 0,
               "redraw": true
              },
              "fromcurrent": true,
              "mode": "immediate",
              "transition": {
               "duration": 0,
               "easing": "linear"
              }
             }
            ],
            "label": "2001",
            "method": "animate"
           },
           {
            "args": [
             [
              "2002"
             ],
             {
              "frame": {
               "duration": 0,
               "redraw": true
              },
              "fromcurrent": true,
              "mode": "immediate",
              "transition": {
               "duration": 0,
               "easing": "linear"
              }
             }
            ],
            "label": "2002",
            "method": "animate"
           },
           {
            "args": [
             [
              "2003"
             ],
             {
              "frame": {
               "duration": 0,
               "redraw": true
              },
              "fromcurrent": true,
              "mode": "immediate",
              "transition": {
               "duration": 0,
               "easing": "linear"
              }
             }
            ],
            "label": "2003",
            "method": "animate"
           },
           {
            "args": [
             [
              "2004"
             ],
             {
              "frame": {
               "duration": 0,
               "redraw": true
              },
              "fromcurrent": true,
              "mode": "immediate",
              "transition": {
               "duration": 0,
               "easing": "linear"
              }
             }
            ],
            "label": "2004",
            "method": "animate"
           },
           {
            "args": [
             [
              "2005"
             ],
             {
              "frame": {
               "duration": 0,
               "redraw": true
              },
              "fromcurrent": true,
              "mode": "immediate",
              "transition": {
               "duration": 0,
               "easing": "linear"
              }
             }
            ],
            "label": "2005",
            "method": "animate"
           },
           {
            "args": [
             [
              "2006"
             ],
             {
              "frame": {
               "duration": 0,
               "redraw": true
              },
              "fromcurrent": true,
              "mode": "immediate",
              "transition": {
               "duration": 0,
               "easing": "linear"
              }
             }
            ],
            "label": "2006",
            "method": "animate"
           },
           {
            "args": [
             [
              "2007"
             ],
             {
              "frame": {
               "duration": 0,
               "redraw": true
              },
              "fromcurrent": true,
              "mode": "immediate",
              "transition": {
               "duration": 0,
               "easing": "linear"
              }
             }
            ],
            "label": "2007",
            "method": "animate"
           },
           {
            "args": [
             [
              "2008"
             ],
             {
              "frame": {
               "duration": 0,
               "redraw": true
              },
              "fromcurrent": true,
              "mode": "immediate",
              "transition": {
               "duration": 0,
               "easing": "linear"
              }
             }
            ],
            "label": "2008",
            "method": "animate"
           },
           {
            "args": [
             [
              "2009"
             ],
             {
              "frame": {
               "duration": 0,
               "redraw": true
              },
              "fromcurrent": true,
              "mode": "immediate",
              "transition": {
               "duration": 0,
               "easing": "linear"
              }
             }
            ],
            "label": "2009",
            "method": "animate"
           },
           {
            "args": [
             [
              "2010"
             ],
             {
              "frame": {
               "duration": 0,
               "redraw": true
              },
              "fromcurrent": true,
              "mode": "immediate",
              "transition": {
               "duration": 0,
               "easing": "linear"
              }
             }
            ],
            "label": "2010",
            "method": "animate"
           },
           {
            "args": [
             [
              "2011"
             ],
             {
              "frame": {
               "duration": 0,
               "redraw": true
              },
              "fromcurrent": true,
              "mode": "immediate",
              "transition": {
               "duration": 0,
               "easing": "linear"
              }
             }
            ],
            "label": "2011",
            "method": "animate"
           },
           {
            "args": [
             [
              "2012"
             ],
             {
              "frame": {
               "duration": 0,
               "redraw": true
              },
              "fromcurrent": true,
              "mode": "immediate",
              "transition": {
               "duration": 0,
               "easing": "linear"
              }
             }
            ],
            "label": "2012",
            "method": "animate"
           },
           {
            "args": [
             [
              "2013"
             ],
             {
              "frame": {
               "duration": 0,
               "redraw": true
              },
              "fromcurrent": true,
              "mode": "immediate",
              "transition": {
               "duration": 0,
               "easing": "linear"
              }
             }
            ],
            "label": "2013",
            "method": "animate"
           },
           {
            "args": [
             [
              "2014"
             ],
             {
              "frame": {
               "duration": 0,
               "redraw": true
              },
              "fromcurrent": true,
              "mode": "immediate",
              "transition": {
               "duration": 0,
               "easing": "linear"
              }
             }
            ],
            "label": "2014",
            "method": "animate"
           },
           {
            "args": [
             [
              "2015"
             ],
             {
              "frame": {
               "duration": 0,
               "redraw": true
              },
              "fromcurrent": true,
              "mode": "immediate",
              "transition": {
               "duration": 0,
               "easing": "linear"
              }
             }
            ],
            "label": "2015",
            "method": "animate"
           },
           {
            "args": [
             [
              "2016"
             ],
             {
              "frame": {
               "duration": 0,
               "redraw": true
              },
              "fromcurrent": true,
              "mode": "immediate",
              "transition": {
               "duration": 0,
               "easing": "linear"
              }
             }
            ],
            "label": "2016",
            "method": "animate"
           },
           {
            "args": [
             [
              "2017"
             ],
             {
              "frame": {
               "duration": 0,
               "redraw": true
              },
              "fromcurrent": true,
              "mode": "immediate",
              "transition": {
               "duration": 0,
               "easing": "linear"
              }
             }
            ],
            "label": "2017",
            "method": "animate"
           }
          ],
          "x": 0.1,
          "xanchor": "left",
          "y": 0,
          "yanchor": "top"
         }
        ],
        "template": {
         "data": {
          "bar": [
           {
            "error_x": {
             "color": "#2a3f5f"
            },
            "error_y": {
             "color": "#2a3f5f"
            },
            "marker": {
             "line": {
              "color": "#E5ECF6",
              "width": 0.5
             },
             "pattern": {
              "fillmode": "overlay",
              "size": 10,
              "solidity": 0.2
             }
            },
            "type": "bar"
           }
          ],
          "barpolar": [
           {
            "marker": {
             "line": {
              "color": "#E5ECF6",
              "width": 0.5
             },
             "pattern": {
              "fillmode": "overlay",
              "size": 10,
              "solidity": 0.2
             }
            },
            "type": "barpolar"
           }
          ],
          "carpet": [
           {
            "aaxis": {
             "endlinecolor": "#2a3f5f",
             "gridcolor": "white",
             "linecolor": "white",
             "minorgridcolor": "white",
             "startlinecolor": "#2a3f5f"
            },
            "baxis": {
             "endlinecolor": "#2a3f5f",
             "gridcolor": "white",
             "linecolor": "white",
             "minorgridcolor": "white",
             "startlinecolor": "#2a3f5f"
            },
            "type": "carpet"
           }
          ],
          "choropleth": [
           {
            "colorbar": {
             "outlinewidth": 0,
             "ticks": ""
            },
            "type": "choropleth"
           }
          ],
          "contour": [
           {
            "colorbar": {
             "outlinewidth": 0,
             "ticks": ""
            },
            "colorscale": [
             [
              0,
              "#0d0887"
             ],
             [
              0.1111111111111111,
              "#46039f"
             ],
             [
              0.2222222222222222,
              "#7201a8"
             ],
             [
              0.3333333333333333,
              "#9c179e"
             ],
             [
              0.4444444444444444,
              "#bd3786"
             ],
             [
              0.5555555555555556,
              "#d8576b"
             ],
             [
              0.6666666666666666,
              "#ed7953"
             ],
             [
              0.7777777777777778,
              "#fb9f3a"
             ],
             [
              0.8888888888888888,
              "#fdca26"
             ],
             [
              1,
              "#f0f921"
             ]
            ],
            "type": "contour"
           }
          ],
          "contourcarpet": [
           {
            "colorbar": {
             "outlinewidth": 0,
             "ticks": ""
            },
            "type": "contourcarpet"
           }
          ],
          "heatmap": [
           {
            "colorbar": {
             "outlinewidth": 0,
             "ticks": ""
            },
            "colorscale": [
             [
              0,
              "#0d0887"
             ],
             [
              0.1111111111111111,
              "#46039f"
             ],
             [
              0.2222222222222222,
              "#7201a8"
             ],
             [
              0.3333333333333333,
              "#9c179e"
             ],
             [
              0.4444444444444444,
              "#bd3786"
             ],
             [
              0.5555555555555556,
              "#d8576b"
             ],
             [
              0.6666666666666666,
              "#ed7953"
             ],
             [
              0.7777777777777778,
              "#fb9f3a"
             ],
             [
              0.8888888888888888,
              "#fdca26"
             ],
             [
              1,
              "#f0f921"
             ]
            ],
            "type": "heatmap"
           }
          ],
          "heatmapgl": [
           {
            "colorbar": {
             "outlinewidth": 0,
             "ticks": ""
            },
            "colorscale": [
             [
              0,
              "#0d0887"
             ],
             [
              0.1111111111111111,
              "#46039f"
             ],
             [
              0.2222222222222222,
              "#7201a8"
             ],
             [
              0.3333333333333333,
              "#9c179e"
             ],
             [
              0.4444444444444444,
              "#bd3786"
             ],
             [
              0.5555555555555556,
              "#d8576b"
             ],
             [
              0.6666666666666666,
              "#ed7953"
             ],
             [
              0.7777777777777778,
              "#fb9f3a"
             ],
             [
              0.8888888888888888,
              "#fdca26"
             ],
             [
              1,
              "#f0f921"
             ]
            ],
            "type": "heatmapgl"
           }
          ],
          "histogram": [
           {
            "marker": {
             "pattern": {
              "fillmode": "overlay",
              "size": 10,
              "solidity": 0.2
             }
            },
            "type": "histogram"
           }
          ],
          "histogram2d": [
           {
            "colorbar": {
             "outlinewidth": 0,
             "ticks": ""
            },
            "colorscale": [
             [
              0,
              "#0d0887"
             ],
             [
              0.1111111111111111,
              "#46039f"
             ],
             [
              0.2222222222222222,
              "#7201a8"
             ],
             [
              0.3333333333333333,
              "#9c179e"
             ],
             [
              0.4444444444444444,
              "#bd3786"
             ],
             [
              0.5555555555555556,
              "#d8576b"
             ],
             [
              0.6666666666666666,
              "#ed7953"
             ],
             [
              0.7777777777777778,
              "#fb9f3a"
             ],
             [
              0.8888888888888888,
              "#fdca26"
             ],
             [
              1,
              "#f0f921"
             ]
            ],
            "type": "histogram2d"
           }
          ],
          "histogram2dcontour": [
           {
            "colorbar": {
             "outlinewidth": 0,
             "ticks": ""
            },
            "colorscale": [
             [
              0,
              "#0d0887"
             ],
             [
              0.1111111111111111,
              "#46039f"
             ],
             [
              0.2222222222222222,
              "#7201a8"
             ],
             [
              0.3333333333333333,
              "#9c179e"
             ],
             [
              0.4444444444444444,
              "#bd3786"
             ],
             [
              0.5555555555555556,
              "#d8576b"
             ],
             [
              0.6666666666666666,
              "#ed7953"
             ],
             [
              0.7777777777777778,
              "#fb9f3a"
             ],
             [
              0.8888888888888888,
              "#fdca26"
             ],
             [
              1,
              "#f0f921"
             ]
            ],
            "type": "histogram2dcontour"
           }
          ],
          "mesh3d": [
           {
            "colorbar": {
             "outlinewidth": 0,
             "ticks": ""
            },
            "type": "mesh3d"
           }
          ],
          "parcoords": [
           {
            "line": {
             "colorbar": {
              "outlinewidth": 0,
              "ticks": ""
             }
            },
            "type": "parcoords"
           }
          ],
          "pie": [
           {
            "automargin": true,
            "type": "pie"
           }
          ],
          "scatter": [
           {
            "fillpattern": {
             "fillmode": "overlay",
             "size": 10,
             "solidity": 0.2
            },
            "type": "scatter"
           }
          ],
          "scatter3d": [
           {
            "line": {
             "colorbar": {
              "outlinewidth": 0,
              "ticks": ""
             }
            },
            "marker": {
             "colorbar": {
              "outlinewidth": 0,
              "ticks": ""
             }
            },
            "type": "scatter3d"
           }
          ],
          "scattercarpet": [
           {
            "marker": {
             "colorbar": {
              "outlinewidth": 0,
              "ticks": ""
             }
            },
            "type": "scattercarpet"
           }
          ],
          "scattergeo": [
           {
            "marker": {
             "colorbar": {
              "outlinewidth": 0,
              "ticks": ""
             }
            },
            "type": "scattergeo"
           }
          ],
          "scattergl": [
           {
            "marker": {
             "colorbar": {
              "outlinewidth": 0,
              "ticks": ""
             }
            },
            "type": "scattergl"
           }
          ],
          "scattermapbox": [
           {
            "marker": {
             "colorbar": {
              "outlinewidth": 0,
              "ticks": ""
             }
            },
            "type": "scattermapbox"
           }
          ],
          "scatterpolar": [
           {
            "marker": {
             "colorbar": {
              "outlinewidth": 0,
              "ticks": ""
             }
            },
            "type": "scatterpolar"
           }
          ],
          "scatterpolargl": [
           {
            "marker": {
             "colorbar": {
              "outlinewidth": 0,
              "ticks": ""
             }
            },
            "type": "scatterpolargl"
           }
          ],
          "scatterternary": [
           {
            "marker": {
             "colorbar": {
              "outlinewidth": 0,
              "ticks": ""
             }
            },
            "type": "scatterternary"
           }
          ],
          "surface": [
           {
            "colorbar": {
             "outlinewidth": 0,
             "ticks": ""
            },
            "colorscale": [
             [
              0,
              "#0d0887"
             ],
             [
              0.1111111111111111,
              "#46039f"
             ],
             [
              0.2222222222222222,
              "#7201a8"
             ],
             [
              0.3333333333333333,
              "#9c179e"
             ],
             [
              0.4444444444444444,
              "#bd3786"
             ],
             [
              0.5555555555555556,
              "#d8576b"
             ],
             [
              0.6666666666666666,
              "#ed7953"
             ],
             [
              0.7777777777777778,
              "#fb9f3a"
             ],
             [
              0.8888888888888888,
              "#fdca26"
             ],
             [
              1,
              "#f0f921"
             ]
            ],
            "type": "surface"
           }
          ],
          "table": [
           {
            "cells": {
             "fill": {
              "color": "#EBF0F8"
             },
             "line": {
              "color": "white"
             }
            },
            "header": {
             "fill": {
              "color": "#C8D4E3"
             },
             "line": {
              "color": "white"
             }
            },
            "type": "table"
           }
          ]
         },
         "layout": {
          "annotationdefaults": {
           "arrowcolor": "#2a3f5f",
           "arrowhead": 0,
           "arrowwidth": 1
          },
          "autotypenumbers": "strict",
          "coloraxis": {
           "colorbar": {
            "outlinewidth": 0,
            "ticks": ""
           }
          },
          "colorscale": {
           "diverging": [
            [
             0,
             "#8e0152"
            ],
            [
             0.1,
             "#c51b7d"
            ],
            [
             0.2,
             "#de77ae"
            ],
            [
             0.3,
             "#f1b6da"
            ],
            [
             0.4,
             "#fde0ef"
            ],
            [
             0.5,
             "#f7f7f7"
            ],
            [
             0.6,
             "#e6f5d0"
            ],
            [
             0.7,
             "#b8e186"
            ],
            [
             0.8,
             "#7fbc41"
            ],
            [
             0.9,
             "#4d9221"
            ],
            [
             1,
             "#276419"
            ]
           ],
           "sequential": [
            [
             0,
             "#0d0887"
            ],
            [
             0.1111111111111111,
             "#46039f"
            ],
            [
             0.2222222222222222,
             "#7201a8"
            ],
            [
             0.3333333333333333,
             "#9c179e"
            ],
            [
             0.4444444444444444,
             "#bd3786"
            ],
            [
             0.5555555555555556,
             "#d8576b"
            ],
            [
             0.6666666666666666,
             "#ed7953"
            ],
            [
             0.7777777777777778,
             "#fb9f3a"
            ],
            [
             0.8888888888888888,
             "#fdca26"
            ],
            [
             1,
             "#f0f921"
            ]
           ],
           "sequentialminus": [
            [
             0,
             "#0d0887"
            ],
            [
             0.1111111111111111,
             "#46039f"
            ],
            [
             0.2222222222222222,
             "#7201a8"
            ],
            [
             0.3333333333333333,
             "#9c179e"
            ],
            [
             0.4444444444444444,
             "#bd3786"
            ],
            [
             0.5555555555555556,
             "#d8576b"
            ],
            [
             0.6666666666666666,
             "#ed7953"
            ],
            [
             0.7777777777777778,
             "#fb9f3a"
            ],
            [
             0.8888888888888888,
             "#fdca26"
            ],
            [
             1,
             "#f0f921"
            ]
           ]
          },
          "colorway": [
           "#636efa",
           "#EF553B",
           "#00cc96",
           "#ab63fa",
           "#FFA15A",
           "#19d3f3",
           "#FF6692",
           "#B6E880",
           "#FF97FF",
           "#FECB52"
          ],
          "font": {
           "color": "#2a3f5f"
          },
          "geo": {
           "bgcolor": "white",
           "lakecolor": "white",
           "landcolor": "#E5ECF6",
           "showlakes": true,
           "showland": true,
           "subunitcolor": "white"
          },
          "hoverlabel": {
           "align": "left"
          },
          "hovermode": "closest",
          "mapbox": {
           "style": "light"
          },
          "paper_bgcolor": "white",
          "plot_bgcolor": "#E5ECF6",
          "polar": {
           "angularaxis": {
            "gridcolor": "white",
            "linecolor": "white",
            "ticks": ""
           },
           "bgcolor": "#E5ECF6",
           "radialaxis": {
            "gridcolor": "white",
            "linecolor": "white",
            "ticks": ""
           }
          },
          "scene": {
           "xaxis": {
            "backgroundcolor": "#E5ECF6",
            "gridcolor": "white",
            "gridwidth": 2,
            "linecolor": "white",
            "showbackground": true,
            "ticks": "",
            "zerolinecolor": "white"
           },
           "yaxis": {
            "backgroundcolor": "#E5ECF6",
            "gridcolor": "white",
            "gridwidth": 2,
            "linecolor": "white",
            "showbackground": true,
            "ticks": "",
            "zerolinecolor": "white"
           },
           "zaxis": {
            "backgroundcolor": "#E5ECF6",
            "gridcolor": "white",
            "gridwidth": 2,
            "linecolor": "white",
            "showbackground": true,
            "ticks": "",
            "zerolinecolor": "white"
           }
          },
          "shapedefaults": {
           "line": {
            "color": "#2a3f5f"
           }
          },
          "ternary": {
           "aaxis": {
            "gridcolor": "white",
            "linecolor": "white",
            "ticks": ""
           },
           "baxis": {
            "gridcolor": "white",
            "linecolor": "white",
            "ticks": ""
           },
           "bgcolor": "#E5ECF6",
           "caxis": {
            "gridcolor": "white",
            "linecolor": "white",
            "ticks": ""
           }
          },
          "title": {
           "x": 0.05
          },
          "xaxis": {
           "automargin": true,
           "gridcolor": "white",
           "linecolor": "white",
           "ticks": "",
           "title": {
            "standoff": 15
           },
           "zerolinecolor": "white",
           "zerolinewidth": 2
          },
          "yaxis": {
           "automargin": true,
           "gridcolor": "white",
           "linecolor": "white",
           "ticks": "",
           "title": {
            "standoff": 15
           },
           "zerolinecolor": "white",
           "zerolinewidth": 2
          }
         }
        },
        "title": {
         "text": "Terrorist Attacks in Europe between 2000 and 2017"
        },
        "updatemenus": [
         {
          "buttons": [
           {
            "args": [
             null,
             {
              "frame": {
               "duration": 500,
               "redraw": true
              },
              "fromcurrent": true,
              "mode": "immediate",
              "transition": {
               "duration": 500,
               "easing": "linear"
              }
             }
            ],
            "label": "&#9654;",
            "method": "animate"
           },
           {
            "args": [
             [
              null
             ],
             {
              "frame": {
               "duration": 0,
               "redraw": true
              },
              "fromcurrent": true,
              "mode": "immediate",
              "transition": {
               "duration": 0,
               "easing": "linear"
              }
             }
            ],
            "label": "&#9724;",
            "method": "animate"
           }
          ],
          "direction": "left",
          "pad": {
           "r": 10,
           "t": 70
          },
          "showactive": false,
          "type": "buttons",
          "x": 0.1,
          "xanchor": "right",
          "y": 0,
          "yanchor": "top"
         }
        ],
        "width": 950
       }
      }
     },
     "metadata": {},
     "output_type": "display_data"
    },
    {
     "data": {
      "application/vnd.plotly.v1+json": {
       "config": {
        "plotlyServerURL": "https://plot.ly"
       },
       "data": [
        {
         "customdata": [
          [
           521,
           41.153332,
           20.168331
          ],
          [
           15493,
           47.516231,
           14.550072
          ],
          [
           453,
           53.709807,
           27.953389
          ],
          [
           18821,
           50.503887,
           4.469936
          ],
          [
           1470,
           42.733883,
           25.48583
          ],
          [
           22437,
           45.1,
           15.2
          ],
          [
           73,
           35.126413,
           33.429859
          ],
          [
           71017,
           56.26392,
           9.501785
          ],
          [
           0,
           58.595272,
           25.013607
          ],
          [
           13271,
           61.92411,
           25.748151
          ],
          [
           132508,
           46.227638,
           2.213749
          ],
          [
           906000,
           51.165691,
           10.451526
          ],
          [
           6653,
           39.074208,
           21.824312
          ],
          [
           5053,
           47.162494,
           19.503304
          ],
          [
           235,
           64.963051,
           -19.020835
          ],
          [
           2530,
           53.41291,
           -8.24389
          ],
          [
           6813,
           41.87194,
           12.56738
          ],
          [
           759,
           49.815273,
           6.129583
          ],
          [
           191,
           35.937496,
           14.375416
          ],
          [
           146174,
           52.132633,
           5.291266
          ],
          [
           9048,
           41.608635,
           21.745275
          ],
          [
           47700,
           60.472024,
           8.468946
          ],
          [
           1011,
           51.919438,
           19.145136
          ],
          [
           416,
           39.399872,
           -8.224454
          ],
          [
           1677,
           45.943161,
           24.96676
          ],
          [
           484390,
           44.016521,
           21.005859
          ],
          [
           444,
           48.669026,
           19.699024
          ],
          [
           2814,
           46.151241,
           14.995463
          ],
          [
           6982,
           40.463667,
           -3.74922
          ],
          [
           157206,
           60.128161,
           18.643501
          ],
          [
           57624,
           46.818188,
           8.227512
          ],
          [
           2927,
           48.379433,
           31.16558
          ],
          [
           186247,
           55.378051,
           -3.435973
          ]
         ],
         "geo": "geo",
         "hovertemplate": "<b>%{hovertext}</b><br><br>Year=%{marker.size}<br>Refugees under UNHCR's mandate=%{marker.color}<extra></extra>",
         "hovertext": [
          "Albania",
          "Austria",
          "Belarus",
          "Belgium",
          "Bulgaria",
          "Croatia",
          "Cyprus",
          "Denmark",
          "Estonia",
          "Finland",
          "France",
          "Germany",
          "Greece",
          "Hungary",
          "Iceland",
          "Ireland",
          "Italy",
          "Luxembourg",
          "Malta",
          "Netherlands",
          "North Macedonia",
          "Norway",
          "Poland",
          "Portugal",
          "Romania",
          "Serbia",
          "Slovakia",
          "Slovenia",
          "Spain",
          "Sweden",
          "Switzerland",
          "Ukraine",
          "United Kingdom"
         ],
         "lat": [
          41.153332,
          47.516231,
          53.709807,
          50.503887,
          42.733883,
          45.1,
          35.126413,
          56.26392,
          58.595272,
          61.92411,
          46.227638,
          51.165691,
          39.074208,
          47.162494,
          64.963051,
          53.41291,
          41.87194,
          49.815273,
          35.937496,
          52.132633,
          41.608635,
          60.472024,
          51.919438,
          39.399872,
          45.943161,
          44.016521,
          48.669026,
          46.151241,
          40.463667,
          60.128161,
          46.818188,
          48.379433,
          55.378051
         ],
         "legendgroup": "",
         "lon": [
          20.168331,
          14.550072,
          27.953389,
          4.469936,
          25.48583,
          15.2,
          33.429859,
          9.501785,
          25.013607,
          25.748151,
          2.213749,
          10.451526,
          21.824312,
          19.503304,
          -19.020835,
          -8.24389,
          12.56738,
          6.129583,
          14.375416,
          5.291266,
          21.745275,
          8.468946,
          19.145136,
          -8.224454,
          24.96676,
          21.005859,
          19.699024,
          14.995463,
          -3.74922,
          18.643501,
          8.227512,
          31.16558,
          -3.435973
         ],
         "marker": {
          "color": [
           521,
           15493,
           453,
           18821,
           1470,
           22437,
           73,
           71017,
           0,
           13271,
           132508,
           906000,
           6653,
           5053,
           235,
           2530,
           6813,
           759,
           191,
           146174,
           9048,
           47700,
           1011,
           416,
           1677,
           484390,
           444,
           2814,
           6982,
           157206,
           57624,
           2927,
           186247
          ],
          "coloraxis": "coloraxis",
          "line": {
           "color": "black",
           "width": 0.5
          },
          "size": [
           2000,
           2000,
           2000,
           2000,
           2000,
           2000,
           2000,
           2000,
           2000,
           2000,
           2000,
           2000,
           2000,
           2000,
           2000,
           2000,
           2000,
           2000,
           2000,
           2000,
           2000,
           2000,
           2000,
           2000,
           2000,
           2000,
           2000,
           2000,
           2000,
           2000,
           2000,
           2000,
           2000
          ],
          "sizemode": "area",
          "sizeref": 20.17,
          "symbol": "circle"
         },
         "mode": "markers",
         "name": "",
         "showlegend": false,
         "type": "scattergeo"
        }
       ],
       "frames": [
        {
         "data": [
          {
           "customdata": [
            [
             521,
             41.153332,
             20.168331
            ],
            [
             15493,
             47.516231,
             14.550072
            ],
            [
             453,
             53.709807,
             27.953389
            ],
            [
             18821,
             50.503887,
             4.469936
            ],
            [
             1470,
             42.733883,
             25.48583
            ],
            [
             22437,
             45.1,
             15.2
            ],
            [
             73,
             35.126413,
             33.429859
            ],
            [
             71017,
             56.26392,
             9.501785
            ],
            [
             0,
             58.595272,
             25.013607
            ],
            [
             13271,
             61.92411,
             25.748151
            ],
            [
             132508,
             46.227638,
             2.213749
            ],
            [
             906000,
             51.165691,
             10.451526
            ],
            [
             6653,
             39.074208,
             21.824312
            ],
            [
             5053,
             47.162494,
             19.503304
            ],
            [
             235,
             64.963051,
             -19.020835
            ],
            [
             2530,
             53.41291,
             -8.24389
            ],
            [
             6813,
             41.87194,
             12.56738
            ],
            [
             759,
             49.815273,
             6.129583
            ],
            [
             191,
             35.937496,
             14.375416
            ],
            [
             146174,
             52.132633,
             5.291266
            ],
            [
             9048,
             41.608635,
             21.745275
            ],
            [
             47700,
             60.472024,
             8.468946
            ],
            [
             1011,
             51.919438,
             19.145136
            ],
            [
             416,
             39.399872,
             -8.224454
            ],
            [
             1677,
             45.943161,
             24.96676
            ],
            [
             484390,
             44.016521,
             21.005859
            ],
            [
             444,
             48.669026,
             19.699024
            ],
            [
             2814,
             46.151241,
             14.995463
            ],
            [
             6982,
             40.463667,
             -3.74922
            ],
            [
             157206,
             60.128161,
             18.643501
            ],
            [
             57624,
             46.818188,
             8.227512
            ],
            [
             2927,
             48.379433,
             31.16558
            ],
            [
             186247,
             55.378051,
             -3.435973
            ]
           ],
           "geo": "geo",
           "hovertemplate": "<b>%{hovertext}</b><br><br>Year=%{marker.size}<br>Refugees under UNHCR's mandate=%{marker.color}<extra></extra>",
           "hovertext": [
            "Albania",
            "Austria",
            "Belarus",
            "Belgium",
            "Bulgaria",
            "Croatia",
            "Cyprus",
            "Denmark",
            "Estonia",
            "Finland",
            "France",
            "Germany",
            "Greece",
            "Hungary",
            "Iceland",
            "Ireland",
            "Italy",
            "Luxembourg",
            "Malta",
            "Netherlands",
            "North Macedonia",
            "Norway",
            "Poland",
            "Portugal",
            "Romania",
            "Serbia",
            "Slovakia",
            "Slovenia",
            "Spain",
            "Sweden",
            "Switzerland",
            "Ukraine",
            "United Kingdom"
           ],
           "lat": [
            41.153332,
            47.516231,
            53.709807,
            50.503887,
            42.733883,
            45.1,
            35.126413,
            56.26392,
            58.595272,
            61.92411,
            46.227638,
            51.165691,
            39.074208,
            47.162494,
            64.963051,
            53.41291,
            41.87194,
            49.815273,
            35.937496,
            52.132633,
            41.608635,
            60.472024,
            51.919438,
            39.399872,
            45.943161,
            44.016521,
            48.669026,
            46.151241,
            40.463667,
            60.128161,
            46.818188,
            48.379433,
            55.378051
           ],
           "legendgroup": "",
           "lon": [
            20.168331,
            14.550072,
            27.953389,
            4.469936,
            25.48583,
            15.2,
            33.429859,
            9.501785,
            25.013607,
            25.748151,
            2.213749,
            10.451526,
            21.824312,
            19.503304,
            -19.020835,
            -8.24389,
            12.56738,
            6.129583,
            14.375416,
            5.291266,
            21.745275,
            8.468946,
            19.145136,
            -8.224454,
            24.96676,
            21.005859,
            19.699024,
            14.995463,
            -3.74922,
            18.643501,
            8.227512,
            31.16558,
            -3.435973
           ],
           "marker": {
            "color": [
             521,
             15493,
             453,
             18821,
             1470,
             22437,
             73,
             71017,
             0,
             13271,
             132508,
             906000,
             6653,
             5053,
             235,
             2530,
             6813,
             759,
             191,
             146174,
             9048,
             47700,
             1011,
             416,
             1677,
             484390,
             444,
             2814,
             6982,
             157206,
             57624,
             2927,
             186247
            ],
            "coloraxis": "coloraxis",
            "size": [
             2000,
             2000,
             2000,
             2000,
             2000,
             2000,
             2000,
             2000,
             2000,
             2000,
             2000,
             2000,
             2000,
             2000,
             2000,
             2000,
             2000,
             2000,
             2000,
             2000,
             2000,
             2000,
             2000,
             2000,
             2000,
             2000,
             2000,
             2000,
             2000,
             2000,
             2000,
             2000,
             2000
            ],
            "sizemode": "area",
            "sizeref": 20.17,
            "symbol": "circle"
           },
           "mode": "markers",
           "name": "",
           "showlegend": false,
           "type": "scattergeo"
          }
         ],
         "name": "2000"
        },
        {
         "data": [
          {
           "customdata": [
            [
             291,
             41.153332,
             20.168331
            ],
            [
             14375,
             47.516231,
             14.550072
            ],
            [
             581,
             53.709807,
             27.953389
            ],
            [
             12252,
             50.503887,
             4.469936
            ],
            [
             2984,
             42.733883,
             25.48583
            ],
            [
             21875,
             45.1,
             15.2
            ],
            [
             84,
             35.126413,
             33.429859
            ],
            [
             73284,
             56.26392,
             9.501785
            ],
            [
             6,
             58.595272,
             25.013607
            ],
            [
             12726,
             61.92411,
             25.748151
            ],
            [
             131601,
             46.227638,
             2.213749
            ],
            [
             903000,
             51.165691,
             10.451526
            ],
            [
             6927,
             39.074208,
             21.824312
            ],
            [
             4700,
             47.162494,
             19.503304
            ],
            [
             204,
             64.963051,
             -19.020835
            ],
            [
             3585,
             53.41291,
             -8.24389
            ],
            [
             8541,
             41.87194,
             12.56738
            ],
            [
             1201,
             49.815273,
             6.129583
            ],
            [
             175,
             35.937496,
             14.375416
            ],
            [
             151919,
             52.132633,
             5.291266
            ],
            [
             4362,
             41.608635,
             21.745275
            ],
            [
             50122,
             60.472024,
             8.468946
            ],
            [
             1295,
             51.919438,
             19.145136
            ],
            [
             444,
             39.399872,
             -8.224454
            ],
            [
             1792,
             45.943161,
             24.96676
            ],
            [
             400306,
             44.016521,
             21.005859
            ],
            [
             461,
             48.669026,
             19.699024
            ],
            [
             2411,
             46.151241,
             14.995463
            ],
            [
             6804,
             40.463667,
             -3.74922
            ],
            [
             146480,
             60.128161,
             18.643501
            ],
            [
             58471,
             46.818188,
             8.227512
            ],
            [
             2958,
             48.379433,
             31.16558
            ],
            [
             233389,
             55.378051,
             -3.435973
            ]
           ],
           "geo": "geo",
           "hovertemplate": "<b>%{hovertext}</b><br><br>Year=%{marker.size}<br>Refugees under UNHCR's mandate=%{marker.color}<extra></extra>",
           "hovertext": [
            "Albania",
            "Austria",
            "Belarus",
            "Belgium",
            "Bulgaria",
            "Croatia",
            "Cyprus",
            "Denmark",
            "Estonia",
            "Finland",
            "France",
            "Germany",
            "Greece",
            "Hungary",
            "Iceland",
            "Ireland",
            "Italy",
            "Luxembourg",
            "Malta",
            "Netherlands",
            "North Macedonia",
            "Norway",
            "Poland",
            "Portugal",
            "Romania",
            "Serbia",
            "Slovakia",
            "Slovenia",
            "Spain",
            "Sweden",
            "Switzerland",
            "Ukraine",
            "United Kingdom"
           ],
           "lat": [
            41.153332,
            47.516231,
            53.709807,
            50.503887,
            42.733883,
            45.1,
            35.126413,
            56.26392,
            58.595272,
            61.92411,
            46.227638,
            51.165691,
            39.074208,
            47.162494,
            64.963051,
            53.41291,
            41.87194,
            49.815273,
            35.937496,
            52.132633,
            41.608635,
            60.472024,
            51.919438,
            39.399872,
            45.943161,
            44.016521,
            48.669026,
            46.151241,
            40.463667,
            60.128161,
            46.818188,
            48.379433,
            55.378051
           ],
           "legendgroup": "",
           "lon": [
            20.168331,
            14.550072,
            27.953389,
            4.469936,
            25.48583,
            15.2,
            33.429859,
            9.501785,
            25.013607,
            25.748151,
            2.213749,
            10.451526,
            21.824312,
            19.503304,
            -19.020835,
            -8.24389,
            12.56738,
            6.129583,
            14.375416,
            5.291266,
            21.745275,
            8.468946,
            19.145136,
            -8.224454,
            24.96676,
            21.005859,
            19.699024,
            14.995463,
            -3.74922,
            18.643501,
            8.227512,
            31.16558,
            -3.435973
           ],
           "marker": {
            "color": [
             291,
             14375,
             581,
             12252,
             2984,
             21875,
             84,
             73284,
             6,
             12726,
             131601,
             903000,
             6927,
             4700,
             204,
             3585,
             8541,
             1201,
             175,
             151919,
             4362,
             50122,
             1295,
             444,
             1792,
             400306,
             461,
             2411,
             6804,
             146480,
             58471,
             2958,
             233389
            ],
            "coloraxis": "coloraxis",
            "size": [
             2001,
             2001,
             2001,
             2001,
             2001,
             2001,
             2001,
             2001,
             2001,
             2001,
             2001,
             2001,
             2001,
             2001,
             2001,
             2001,
             2001,
             2001,
             2001,
             2001,
             2001,
             2001,
             2001,
             2001,
             2001,
             2001,
             2001,
             2001,
             2001,
             2001,
             2001,
             2001,
             2001
            ],
            "sizemode": "area",
            "sizeref": 20.17,
            "symbol": "circle"
           },
           "mode": "markers",
           "name": "",
           "showlegend": false,
           "type": "scattergeo"
          }
         ],
         "name": "2001"
        },
        {
         "data": [
          {
           "customdata": [
            [
             18,
             41.153332,
             20.168331
            ],
            [
             14122,
             47.516231,
             14.550072
            ],
            [
             612,
             53.709807,
             27.953389
            ],
            [
             12560,
             50.503887,
             4.469936
            ],
            [
             3642,
             42.733883,
             25.48583
            ],
            [
             8392,
             45.1,
             15.2
            ],
            [
             171,
             35.126413,
             33.429859
            ],
            [
             73600,
             56.26392,
             9.501785
            ],
            [
             6,
             58.595272,
             25.013607
            ],
            [
             12485,
             61.92411,
             25.748151
            ],
            [
             132182,
             46.227638,
             2.213749
            ],
            [
             980001,
             51.165691,
             10.451526
            ],
            [
             2778,
             39.074208,
             21.824312
            ],
            [
             6075,
             47.162494,
             19.503304
            ],
            [
             197,
             64.963051,
             -19.020835
            ],
            [
             5366,
             53.41291,
             -8.24389
            ],
            [
             10031,
             41.87194,
             12.56738
            ],
            [
             1201,
             49.815273,
             6.129583
            ],
            [
             311,
             35.937496,
             14.375416
            ],
            [
             148349,
             52.132633,
             5.291266
            ],
            [
             2815,
             41.608635,
             21.745275
            ],
            [
             50421,
             60.472024,
             8.468946
            ],
            [
             1586,
             51.919438,
             19.145136
            ],
            [
             460,
             39.399872,
             -8.224454
            ],
            [
             1839,
             45.943161,
             24.96676
            ],
            [
             354400,
             44.016521,
             21.005859
            ],
            [
             443,
             48.669026,
             19.699024
            ],
            [
             384,
             46.151241,
             14.995463
            ],
            [
             6783,
             40.463667,
             -3.74922
            ],
            [
             142170,
             60.128161,
             18.643501
            ],
            [
             54081,
             46.818188,
             8.227512
            ],
            [
             2940,
             48.379433,
             31.16558
            ],
            [
             260687,
             55.378051,
             -3.435973
            ]
           ],
           "geo": "geo",
           "hovertemplate": "<b>%{hovertext}</b><br><br>Year=%{marker.size}<br>Refugees under UNHCR's mandate=%{marker.color}<extra></extra>",
           "hovertext": [
            "Albania",
            "Austria",
            "Belarus",
            "Belgium",
            "Bulgaria",
            "Croatia",
            "Cyprus",
            "Denmark",
            "Estonia",
            "Finland",
            "France",
            "Germany",
            "Greece",
            "Hungary",
            "Iceland",
            "Ireland",
            "Italy",
            "Luxembourg",
            "Malta",
            "Netherlands",
            "North Macedonia",
            "Norway",
            "Poland",
            "Portugal",
            "Romania",
            "Serbia",
            "Slovakia",
            "Slovenia",
            "Spain",
            "Sweden",
            "Switzerland",
            "Ukraine",
            "United Kingdom"
           ],
           "lat": [
            41.153332,
            47.516231,
            53.709807,
            50.503887,
            42.733883,
            45.1,
            35.126413,
            56.26392,
            58.595272,
            61.92411,
            46.227638,
            51.165691,
            39.074208,
            47.162494,
            64.963051,
            53.41291,
            41.87194,
            49.815273,
            35.937496,
            52.132633,
            41.608635,
            60.472024,
            51.919438,
            39.399872,
            45.943161,
            44.016521,
            48.669026,
            46.151241,
            40.463667,
            60.128161,
            46.818188,
            48.379433,
            55.378051
           ],
           "legendgroup": "",
           "lon": [
            20.168331,
            14.550072,
            27.953389,
            4.469936,
            25.48583,
            15.2,
            33.429859,
            9.501785,
            25.013607,
            25.748151,
            2.213749,
            10.451526,
            21.824312,
            19.503304,
            -19.020835,
            -8.24389,
            12.56738,
            6.129583,
            14.375416,
            5.291266,
            21.745275,
            8.468946,
            19.145136,
            -8.224454,
            24.96676,
            21.005859,
            19.699024,
            14.995463,
            -3.74922,
            18.643501,
            8.227512,
            31.16558,
            -3.435973
           ],
           "marker": {
            "color": [
             18,
             14122,
             612,
             12560,
             3642,
             8392,
             171,
             73600,
             6,
             12485,
             132182,
             980001,
             2778,
             6075,
             197,
             5366,
             10031,
             1201,
             311,
             148349,
             2815,
             50421,
             1586,
             460,
             1839,
             354400,
             443,
             384,
             6783,
             142170,
             54081,
             2940,
             260687
            ],
            "coloraxis": "coloraxis",
            "size": [
             2002,
             2002,
             2002,
             2002,
             2002,
             2002,
             2002,
             2002,
             2002,
             2002,
             2002,
             2002,
             2002,
             2002,
             2002,
             2002,
             2002,
             2002,
             2002,
             2002,
             2002,
             2002,
             2002,
             2002,
             2002,
             2002,
             2002,
             2002,
             2002,
             2002,
             2002,
             2002,
             2002
            ],
            "sizemode": "area",
            "sizeref": 20.17,
            "symbol": "circle"
           },
           "mode": "markers",
           "name": "",
           "showlegend": false,
           "type": "scattergeo"
          }
         ],
         "name": "2002"
        },
        {
         "data": [
          {
           "customdata": [
            [
             24,
             41.153332,
             20.168331
            ],
            [
             16097,
             47.516231,
             14.550072
            ],
            [
             631,
             53.709807,
             27.953389
            ],
            [
             12583,
             50.503887,
             4.469936
            ],
            [
             4047,
             42.733883,
             25.48583
            ],
            [
             4385,
             45.1,
             15.2
            ],
            [
             339,
             35.126413,
             33.429859
            ],
            [
             69855,
             56.26392,
             9.501785
            ],
            [
             6,
             58.595272,
             25.013607
            ],
            [
             10835,
             61.92411,
             25.748151
            ],
            [
             130838,
             46.227638,
             2.213749
            ],
            [
             960393,
             51.165691,
             10.451526
            ],
            [
             2762,
             39.074208,
             21.824312
            ],
            [
             7013,
             47.162494,
             19.503304
            ],
            [
             226,
             64.963051,
             -19.020835
            ],
            [
             5971,
             53.41291,
             -8.24389
            ],
            [
             12812,
             41.87194,
             12.56738
            ],
            [
             1201,
             49.815273,
             6.129583
            ],
            [
             894,
             35.937496,
             14.375416
            ],
            [
             140877,
             52.132633,
             5.291266
            ],
            [
             191,
             41.608635,
             21.745275
            ],
            [
             46107,
             60.472024,
             8.468946
            ],
            [
             1822,
             51.919438,
             19.145136
            ],
            [
             414,
             39.399872,
             -8.224454
            ],
            [
             1991,
             45.943161,
             24.96676
            ],
            [
             291397,
             44.016521,
             21.005859
            ],
            [
             412,
             48.669026,
             19.699024
            ],
            [
             2065,
             46.151241,
             14.995463
            ],
            [
             5912,
             40.463667,
             -3.74922
            ],
            [
             112148,
             60.128161,
             18.643501
            ],
            [
             50126,
             46.818188,
             8.227512
            ],
            [
             2851,
             48.379433,
             31.16558
            ],
            [
             276482,
             55.378051,
             -3.435973
            ]
           ],
           "geo": "geo",
           "hovertemplate": "<b>%{hovertext}</b><br><br>Year=%{marker.size}<br>Refugees under UNHCR's mandate=%{marker.color}<extra></extra>",
           "hovertext": [
            "Albania",
            "Austria",
            "Belarus",
            "Belgium",
            "Bulgaria",
            "Croatia",
            "Cyprus",
            "Denmark",
            "Estonia",
            "Finland",
            "France",
            "Germany",
            "Greece",
            "Hungary",
            "Iceland",
            "Ireland",
            "Italy",
            "Luxembourg",
            "Malta",
            "Netherlands",
            "North Macedonia",
            "Norway",
            "Poland",
            "Portugal",
            "Romania",
            "Serbia",
            "Slovakia",
            "Slovenia",
            "Spain",
            "Sweden",
            "Switzerland",
            "Ukraine",
            "United Kingdom"
           ],
           "lat": [
            41.153332,
            47.516231,
            53.709807,
            50.503887,
            42.733883,
            45.1,
            35.126413,
            56.26392,
            58.595272,
            61.92411,
            46.227638,
            51.165691,
            39.074208,
            47.162494,
            64.963051,
            53.41291,
            41.87194,
            49.815273,
            35.937496,
            52.132633,
            41.608635,
            60.472024,
            51.919438,
            39.399872,
            45.943161,
            44.016521,
            48.669026,
            46.151241,
            40.463667,
            60.128161,
            46.818188,
            48.379433,
            55.378051
           ],
           "legendgroup": "",
           "lon": [
            20.168331,
            14.550072,
            27.953389,
            4.469936,
            25.48583,
            15.2,
            33.429859,
            9.501785,
            25.013607,
            25.748151,
            2.213749,
            10.451526,
            21.824312,
            19.503304,
            -19.020835,
            -8.24389,
            12.56738,
            6.129583,
            14.375416,
            5.291266,
            21.745275,
            8.468946,
            19.145136,
            -8.224454,
            24.96676,
            21.005859,
            19.699024,
            14.995463,
            -3.74922,
            18.643501,
            8.227512,
            31.16558,
            -3.435973
           ],
           "marker": {
            "color": [
             24,
             16097,
             631,
             12583,
             4047,
             4385,
             339,
             69855,
             6,
             10835,
             130838,
             960393,
             2762,
             7013,
             226,
             5971,
             12812,
             1201,
             894,
             140877,
             191,
             46107,
             1822,
             414,
             1991,
             291397,
             412,
             2065,
             5912,
             112148,
             50126,
             2851,
             276482
            ],
            "coloraxis": "coloraxis",
            "size": [
             2003,
             2003,
             2003,
             2003,
             2003,
             2003,
             2003,
             2003,
             2003,
             2003,
             2003,
             2003,
             2003,
             2003,
             2003,
             2003,
             2003,
             2003,
             2003,
             2003,
             2003,
             2003,
             2003,
             2003,
             2003,
             2003,
             2003,
             2003,
             2003,
             2003,
             2003,
             2003,
             2003
            ],
            "sizemode": "area",
            "sizeref": 20.17,
            "symbol": "circle"
           },
           "mode": "markers",
           "name": "",
           "showlegend": false,
           "type": "scattergeo"
          }
         ],
         "name": "2003"
        },
        {
         "data": [
          {
           "customdata": [
            [
             49,
             41.153332,
             20.168331
            ],
            [
             17777,
             47.516231,
             14.550072
            ],
            [
             719,
             53.709807,
             27.953389
            ],
            [
             13522,
             50.503887,
             4.469936
            ],
            [
             4676,
             42.733883,
             25.48583
            ],
            [
             3662,
             45.1,
             15.2
            ],
            [
             525,
             35.126413,
             33.429859
            ],
            [
             65305,
             56.26392,
             9.501785
            ],
            [
             6,
             58.595272,
             25.013607
            ],
            [
             11309,
             61.92411,
             25.748151
            ],
            [
             139852,
             46.227638,
             2.213749
            ],
            [
             876614,
             51.165691,
             10.451526
            ],
            [
             2479,
             39.074208,
             21.824312
            ],
            [
             7702,
             47.162494,
             19.503304
            ],
            [
             226,
             64.963051,
             -19.020835
            ],
            [
             6530,
             53.41291,
             -8.24389
            ],
            [
             15668,
             41.87194,
             12.56738
            ],
            [
             1590,
             49.815273,
             6.129583
            ],
            [
             1561,
             35.937496,
             14.375416
            ],
            [
             126792,
             52.132633,
             5.291266
            ],
            [
             1003,
             41.608635,
             21.745275
            ],
            [
             44031,
             60.472024,
             8.468946
            ],
            [
             2491,
             51.919438,
             19.145136
            ],
            [
             368,
             39.399872,
             -8.224454
            ],
            [
             1610,
             45.943161,
             24.96676
            ],
            [
             276677,
             44.016521,
             21.005859
            ],
            [
             396,
             48.669026,
             19.699024
            ],
            [
             299,
             46.151241,
             14.995463
            ],
            [
             5690,
             40.463667,
             -3.74922
            ],
            [
             73383,
             60.128161,
             18.643501
            ],
            [
             47654,
             46.818188,
             8.227512
            ],
            [
             2442,
             48.379433,
             31.16558
            ],
            [
             298826,
             55.378051,
             -3.435973
            ]
           ],
           "geo": "geo",
           "hovertemplate": "<b>%{hovertext}</b><br><br>Year=%{marker.size}<br>Refugees under UNHCR's mandate=%{marker.color}<extra></extra>",
           "hovertext": [
            "Albania",
            "Austria",
            "Belarus",
            "Belgium",
            "Bulgaria",
            "Croatia",
            "Cyprus",
            "Denmark",
            "Estonia",
            "Finland",
            "France",
            "Germany",
            "Greece",
            "Hungary",
            "Iceland",
            "Ireland",
            "Italy",
            "Luxembourg",
            "Malta",
            "Netherlands",
            "North Macedonia",
            "Norway",
            "Poland",
            "Portugal",
            "Romania",
            "Serbia",
            "Slovakia",
            "Slovenia",
            "Spain",
            "Sweden",
            "Switzerland",
            "Ukraine",
            "United Kingdom"
           ],
           "lat": [
            41.153332,
            47.516231,
            53.709807,
            50.503887,
            42.733883,
            45.1,
            35.126413,
            56.26392,
            58.595272,
            61.92411,
            46.227638,
            51.165691,
            39.074208,
            47.162494,
            64.963051,
            53.41291,
            41.87194,
            49.815273,
            35.937496,
            52.132633,
            41.608635,
            60.472024,
            51.919438,
            39.399872,
            45.943161,
            44.016521,
            48.669026,
            46.151241,
            40.463667,
            60.128161,
            46.818188,
            48.379433,
            55.378051
           ],
           "legendgroup": "",
           "lon": [
            20.168331,
            14.550072,
            27.953389,
            4.469936,
            25.48583,
            15.2,
            33.429859,
            9.501785,
            25.013607,
            25.748151,
            2.213749,
            10.451526,
            21.824312,
            19.503304,
            -19.020835,
            -8.24389,
            12.56738,
            6.129583,
            14.375416,
            5.291266,
            21.745275,
            8.468946,
            19.145136,
            -8.224454,
            24.96676,
            21.005859,
            19.699024,
            14.995463,
            -3.74922,
            18.643501,
            8.227512,
            31.16558,
            -3.435973
           ],
           "marker": {
            "color": [
             49,
             17777,
             719,
             13522,
             4676,
             3662,
             525,
             65305,
             6,
             11309,
             139852,
             876614,
             2479,
             7702,
             226,
             6530,
             15668,
             1590,
             1561,
             126792,
             1003,
             44031,
             2491,
             368,
             1610,
             276677,
             396,
             299,
             5690,
             73383,
             47654,
             2442,
             298826
            ],
            "coloraxis": "coloraxis",
            "size": [
             2004,
             2004,
             2004,
             2004,
             2004,
             2004,
             2004,
             2004,
             2004,
             2004,
             2004,
             2004,
             2004,
             2004,
             2004,
             2004,
             2004,
             2004,
             2004,
             2004,
             2004,
             2004,
             2004,
             2004,
             2004,
             2004,
             2004,
             2004,
             2004,
             2004,
             2004,
             2004,
             2004
            ],
            "sizemode": "area",
            "sizeref": 20.17,
            "symbol": "circle"
           },
           "mode": "markers",
           "name": "",
           "showlegend": false,
           "type": "scattergeo"
          }
         ],
         "name": "2004"
        },
        {
         "data": [
          {
           "customdata": [
            [
             53,
             41.153332,
             20.168331
            ],
            [
             21212,
             47.516231,
             14.550072
            ],
            [
             718,
             53.709807,
             27.953389
            ],
            [
             15277,
             50.503887,
             4.469936
            ],
            [
             4388,
             42.733883,
             25.48583
            ],
            [
             2927,
             45.1,
             15.2
            ],
            [
             700,
             35.126413,
             33.429859
            ],
            [
             44362,
             56.26392,
             9.501785
            ],
            [
             0,
             58.595272,
             25.013607
            ],
            [
             11801,
             61.92411,
             25.748151
            ],
            [
             137316,
             46.227638,
             2.213749
            ],
            [
             699996,
             51.165691,
             10.451526
            ],
            [
             2394,
             39.074208,
             21.824312
            ],
            [
             8040,
             47.162494,
             19.503304
            ],
            [
             284,
             64.963051,
             -19.020835
            ],
            [
             7103,
             53.41291,
             -8.24389
            ],
            [
             20674,
             41.87194,
             12.56738
            ],
            [
             1822,
             49.815273,
             6.129583
            ],
            [
             1942,
             35.937496,
             14.375416
            ],
            [
             118172,
             52.132633,
             5.291266
            ],
            [
             1273,
             41.608635,
             21.745275
            ],
            [
             43015,
             60.472024,
             8.468946
            ],
            [
             4585,
             51.919438,
             19.145136
            ],
            [
             355,
             39.399872,
             -8.224454
            ],
            [
             2040,
             45.943161,
             24.96676
            ],
            [
             148259,
             44.016521,
             21.005859
            ],
            [
             352,
             48.669026,
             19.699024
            ],
            [
             243,
             46.151241,
             14.995463
            ],
            [
             5369,
             40.463667,
             -3.74922
            ],
            [
             74889,
             60.128161,
             18.643501
            ],
            [
             48010,
             46.818188,
             8.227512
            ],
            [
             2334,
             48.379433,
             31.16558
            ],
            [
             303163,
             55.378051,
             -3.435973
            ]
           ],
           "geo": "geo",
           "hovertemplate": "<b>%{hovertext}</b><br><br>Year=%{marker.size}<br>Refugees under UNHCR's mandate=%{marker.color}<extra></extra>",
           "hovertext": [
            "Albania",
            "Austria",
            "Belarus",
            "Belgium",
            "Bulgaria",
            "Croatia",
            "Cyprus",
            "Denmark",
            "Estonia",
            "Finland",
            "France",
            "Germany",
            "Greece",
            "Hungary",
            "Iceland",
            "Ireland",
            "Italy",
            "Luxembourg",
            "Malta",
            "Netherlands",
            "North Macedonia",
            "Norway",
            "Poland",
            "Portugal",
            "Romania",
            "Serbia",
            "Slovakia",
            "Slovenia",
            "Spain",
            "Sweden",
            "Switzerland",
            "Ukraine",
            "United Kingdom"
           ],
           "lat": [
            41.153332,
            47.516231,
            53.709807,
            50.503887,
            42.733883,
            45.1,
            35.126413,
            56.26392,
            58.595272,
            61.92411,
            46.227638,
            51.165691,
            39.074208,
            47.162494,
            64.963051,
            53.41291,
            41.87194,
            49.815273,
            35.937496,
            52.132633,
            41.608635,
            60.472024,
            51.919438,
            39.399872,
            45.943161,
            44.016521,
            48.669026,
            46.151241,
            40.463667,
            60.128161,
            46.818188,
            48.379433,
            55.378051
           ],
           "legendgroup": "",
           "lon": [
            20.168331,
            14.550072,
            27.953389,
            4.469936,
            25.48583,
            15.2,
            33.429859,
            9.501785,
            25.013607,
            25.748151,
            2.213749,
            10.451526,
            21.824312,
            19.503304,
            -19.020835,
            -8.24389,
            12.56738,
            6.129583,
            14.375416,
            5.291266,
            21.745275,
            8.468946,
            19.145136,
            -8.224454,
            24.96676,
            21.005859,
            19.699024,
            14.995463,
            -3.74922,
            18.643501,
            8.227512,
            31.16558,
            -3.435973
           ],
           "marker": {
            "color": [
             53,
             21212,
             718,
             15277,
             4388,
             2927,
             700,
             44362,
             0,
             11801,
             137316,
             699996,
             2394,
             8040,
             284,
             7103,
             20674,
             1822,
             1942,
             118172,
             1273,
             43015,
             4585,
             355,
             2040,
             148259,
             352,
             243,
             5369,
             74889,
             48010,
             2334,
             303163
            ],
            "coloraxis": "coloraxis",
            "size": [
             2005,
             2005,
             2005,
             2005,
             2005,
             2005,
             2005,
             2005,
             2005,
             2005,
             2005,
             2005,
             2005,
             2005,
             2005,
             2005,
             2005,
             2005,
             2005,
             2005,
             2005,
             2005,
             2005,
             2005,
             2005,
             2005,
             2005,
             2005,
             2005,
             2005,
             2005,
             2005,
             2005
            ],
            "sizemode": "area",
            "sizeref": 20.17,
            "symbol": "circle"
           },
           "mode": "markers",
           "name": "",
           "showlegend": false,
           "type": "scattergeo"
          }
         ],
         "name": "2005"
        },
        {
         "data": [
          {
           "customdata": [
            [
             56,
             41.153332,
             20.168331
            ],
            [
             25475,
             47.516231,
             14.550072
            ],
            [
             683,
             53.709807,
             27.953389
            ],
            [
             16811,
             50.503887,
             4.469936
            ],
            [
             4479,
             42.733883,
             25.48583
            ],
            [
             2442,
             45.1,
             15.2
            ],
            [
             926,
             35.126413,
             33.429859
            ],
            [
             36650,
             56.26392,
             9.501785
            ],
            [
             0,
             58.595272,
             25.013607
            ],
            [
             11827,
             61.92411,
             25.748151
            ],
            [
             145996,
             46.227638,
             2.213749
            ],
            [
             605329,
             51.165691,
             10.451526
            ],
            [
             2292,
             39.074208,
             21.824312
            ],
            [
             8068,
             47.162494,
             19.503304
            ],
            [
             254,
             64.963051,
             -19.020835
            ],
            [
             7904,
             53.41291,
             -8.24389
            ],
            [
             26870,
             41.87194,
             12.56738
            ],
            [
             2206,
             49.815273,
             6.129583
            ],
            [
             2407,
             35.937496,
             14.375416
            ],
            [
             100565,
             52.132633,
             5.291266
            ],
            [
             1239,
             41.608635,
             21.745275
            ],
            [
             43315,
             60.472024,
             8.468946
            ],
            [
             6786,
             51.919438,
             19.145136
            ],
            [
             322,
             39.399872,
             -8.224454
            ],
            [
             1636,
             45.943161,
             24.96676
            ],
            [
             98995,
             44.016521,
             21.005859
            ],
            [
             235,
             48.669026,
             19.699024
            ],
            [
             249,
             46.151241,
             14.995463
            ],
            [
             5269,
             40.463667,
             -3.74922
            ],
            [
             79895,
             60.128161,
             18.643501
            ],
            [
             48508,
             46.818188,
             8.227512
            ],
            [
             2267,
             48.379433,
             31.16558
            ],
            [
             301537,
             55.378051,
             -3.435973
            ]
           ],
           "geo": "geo",
           "hovertemplate": "<b>%{hovertext}</b><br><br>Year=%{marker.size}<br>Refugees under UNHCR's mandate=%{marker.color}<extra></extra>",
           "hovertext": [
            "Albania",
            "Austria",
            "Belarus",
            "Belgium",
            "Bulgaria",
            "Croatia",
            "Cyprus",
            "Denmark",
            "Estonia",
            "Finland",
            "France",
            "Germany",
            "Greece",
            "Hungary",
            "Iceland",
            "Ireland",
            "Italy",
            "Luxembourg",
            "Malta",
            "Netherlands",
            "North Macedonia",
            "Norway",
            "Poland",
            "Portugal",
            "Romania",
            "Serbia",
            "Slovakia",
            "Slovenia",
            "Spain",
            "Sweden",
            "Switzerland",
            "Ukraine",
            "United Kingdom"
           ],
           "lat": [
            41.153332,
            47.516231,
            53.709807,
            50.503887,
            42.733883,
            45.1,
            35.126413,
            56.26392,
            58.595272,
            61.92411,
            46.227638,
            51.165691,
            39.074208,
            47.162494,
            64.963051,
            53.41291,
            41.87194,
            49.815273,
            35.937496,
            52.132633,
            41.608635,
            60.472024,
            51.919438,
            39.399872,
            45.943161,
            44.016521,
            48.669026,
            46.151241,
            40.463667,
            60.128161,
            46.818188,
            48.379433,
            55.378051
           ],
           "legendgroup": "",
           "lon": [
            20.168331,
            14.550072,
            27.953389,
            4.469936,
            25.48583,
            15.2,
            33.429859,
            9.501785,
            25.013607,
            25.748151,
            2.213749,
            10.451526,
            21.824312,
            19.503304,
            -19.020835,
            -8.24389,
            12.56738,
            6.129583,
            14.375416,
            5.291266,
            21.745275,
            8.468946,
            19.145136,
            -8.224454,
            24.96676,
            21.005859,
            19.699024,
            14.995463,
            -3.74922,
            18.643501,
            8.227512,
            31.16558,
            -3.435973
           ],
           "marker": {
            "color": [
             56,
             25475,
             683,
             16811,
             4479,
             2442,
             926,
             36650,
             0,
             11827,
             145996,
             605329,
             2292,
             8068,
             254,
             7904,
             26870,
             2206,
             2407,
             100565,
             1239,
             43315,
             6786,
             322,
             1636,
             98995,
             235,
             249,
             5269,
             79895,
             48508,
             2267,
             301537
            ],
            "coloraxis": "coloraxis",
            "size": [
             2006,
             2006,
             2006,
             2006,
             2006,
             2006,
             2006,
             2006,
             2006,
             2006,
             2006,
             2006,
             2006,
             2006,
             2006,
             2006,
             2006,
             2006,
             2006,
             2006,
             2006,
             2006,
             2006,
             2006,
             2006,
             2006,
             2006,
             2006,
             2006,
             2006,
             2006,
             2006,
             2006
            ],
            "sizemode": "area",
            "sizeref": 20.17,
            "symbol": "circle"
           },
           "mode": "markers",
           "name": "",
           "showlegend": false,
           "type": "scattergeo"
          }
         ],
         "name": "2006"
        },
        {
         "data": [
          {
           "customdata": [
            [
             68,
             41.153332,
             20.168331
            ],
            [
             30767,
             47.516231,
             14.550072
            ],
            [
             643,
             53.709807,
             27.953389
            ],
            [
             17578,
             50.503887,
             4.469936
            ],
            [
             4808,
             42.733883,
             25.48583
            ],
            [
             1641,
             45.1,
             15.2
            ],
            [
             1194,
             35.126413,
             33.429859
            ],
            [
             26779,
             56.26392,
             9.501785
            ],
            [
             6,
             58.595272,
             25.013607
            ],
            [
             6201,
             61.92411,
             25.748151
            ],
            [
             151789,
             46.227638,
             2.213749
            ],
            [
             578866,
             51.165691,
             10.451526
            ],
            [
             2228,
             39.074208,
             21.824312
            ],
            [
             8124,
             47.162494,
             19.503304
            ],
            [
             41,
             64.963051,
             -19.020835
            ],
            [
             9318,
             53.41291,
             -8.24389
            ],
            [
             38061,
             41.87194,
             12.56738
            ],
            [
             2737,
             49.815273,
             6.129583
            ],
            [
             3003,
             35.937496,
             14.375416
            ],
            [
             86576,
             52.132633,
             5.291266
            ],
            [
             1234,
             41.608635,
             21.745275
            ],
            [
             34499,
             60.472024,
             8.468946
            ],
            [
             10037,
             51.919438,
             19.145136
            ],
            [
             346,
             39.399872,
             -8.224454
            ],
            [
             1741,
             45.943161,
             24.96676
            ],
            [
             97991,
             44.016521,
             21.005859
            ],
            [
             265,
             48.669026,
             19.699024
            ],
            [
             255,
             46.151241,
             14.995463
            ],
            [
             5143,
             40.463667,
             -3.74922
            ],
            [
             75055,
             60.128161,
             18.643501
            ],
            [
             45642,
             46.818188,
             8.227512
            ],
            [
             7272,
             48.379433,
             31.16558
            ],
            [
             299701,
             55.378051,
             -3.435973
            ]
           ],
           "geo": "geo",
           "hovertemplate": "<b>%{hovertext}</b><br><br>Year=%{marker.size}<br>Refugees under UNHCR's mandate=%{marker.color}<extra></extra>",
           "hovertext": [
            "Albania",
            "Austria",
            "Belarus",
            "Belgium",
            "Bulgaria",
            "Croatia",
            "Cyprus",
            "Denmark",
            "Estonia",
            "Finland",
            "France",
            "Germany",
            "Greece",
            "Hungary",
            "Iceland",
            "Ireland",
            "Italy",
            "Luxembourg",
            "Malta",
            "Netherlands",
            "North Macedonia",
            "Norway",
            "Poland",
            "Portugal",
            "Romania",
            "Serbia",
            "Slovakia",
            "Slovenia",
            "Spain",
            "Sweden",
            "Switzerland",
            "Ukraine",
            "United Kingdom"
           ],
           "lat": [
            41.153332,
            47.516231,
            53.709807,
            50.503887,
            42.733883,
            45.1,
            35.126413,
            56.26392,
            58.595272,
            61.92411,
            46.227638,
            51.165691,
            39.074208,
            47.162494,
            64.963051,
            53.41291,
            41.87194,
            49.815273,
            35.937496,
            52.132633,
            41.608635,
            60.472024,
            51.919438,
            39.399872,
            45.943161,
            44.016521,
            48.669026,
            46.151241,
            40.463667,
            60.128161,
            46.818188,
            48.379433,
            55.378051
           ],
           "legendgroup": "",
           "lon": [
            20.168331,
            14.550072,
            27.953389,
            4.469936,
            25.48583,
            15.2,
            33.429859,
            9.501785,
            25.013607,
            25.748151,
            2.213749,
            10.451526,
            21.824312,
            19.503304,
            -19.020835,
            -8.24389,
            12.56738,
            6.129583,
            14.375416,
            5.291266,
            21.745275,
            8.468946,
            19.145136,
            -8.224454,
            24.96676,
            21.005859,
            19.699024,
            14.995463,
            -3.74922,
            18.643501,
            8.227512,
            31.16558,
            -3.435973
           ],
           "marker": {
            "color": [
             68,
             30767,
             643,
             17578,
             4808,
             1641,
             1194,
             26779,
             6,
             6201,
             151789,
             578866,
             2228,
             8124,
             41,
             9318,
             38061,
             2737,
             3003,
             86576,
             1234,
             34499,
             10037,
             346,
             1741,
             97991,
             265,
             255,
             5143,
             75055,
             45642,
             7272,
             299701
            ],
            "coloraxis": "coloraxis",
            "size": [
             2007,
             2007,
             2007,
             2007,
             2007,
             2007,
             2007,
             2007,
             2007,
             2007,
             2007,
             2007,
             2007,
             2007,
             2007,
             2007,
             2007,
             2007,
             2007,
             2007,
             2007,
             2007,
             2007,
             2007,
             2007,
             2007,
             2007,
             2007,
             2007,
             2007,
             2007,
             2007,
             2007
            ],
            "sizemode": "area",
            "sizeref": 20.17,
            "symbol": "circle"
           },
           "mode": "markers",
           "name": "",
           "showlegend": false,
           "type": "scattergeo"
          }
         ],
         "name": "2007"
        },
        {
         "data": [
          {
           "customdata": [
            [
             57,
             41.153332,
             20.168331
            ],
            [
             37546,
             47.516231,
             14.550072
            ],
            [
             602,
             53.709807,
             27.953389
            ],
            [
             17025,
             50.503887,
             4.469936
            ],
            [
             5108,
             42.733883,
             25.48583
            ],
            [
             1591,
             45.1,
             15.2
            ],
            [
             1458,
             35.126413,
             33.429859
            ],
            [
             23385,
             56.26392,
             9.501785
            ],
            [
             16,
             58.595272,
             25.013607
            ],
            [
             6621,
             61.92411,
             25.748151
            ],
            [
             171206,
             46.227638,
             2.213749
            ],
            [
             582719,
             51.165691,
             10.451526
            ],
            [
             2169,
             39.074208,
             21.824312
            ],
            [
             7740,
             47.162494,
             19.503304
            ],
            [
             39,
             64.963051,
             -19.020835
            ],
            [
             9714,
             53.41291,
             -8.24389
            ],
            [
             47059,
             41.87194,
             12.56738
            ],
            [
             3109,
             49.815273,
             6.129583
            ],
            [
             4329,
             35.937496,
             14.375416
            ],
            [
             77589,
             52.132633,
             5.291266
            ],
            [
             1671,
             41.608635,
             21.745275
            ],
            [
             36076,
             60.472024,
             8.468946
            ],
            [
             12761,
             51.919438,
             19.145136
            ],
            [
             393,
             39.399872,
             -8.224454
            ],
            [
             1586,
             45.943161,
             24.96676
            ],
            [
             96735,
             44.016521,
             21.005859
            ],
            [
             301,
             48.669026,
             19.699024
            ],
            [
             257,
             46.151241,
             14.995463
            ],
            [
             4649,
             40.463667,
             -3.74922
            ],
            [
             77016,
             60.128161,
             18.643501
            ],
            [
             46131,
             46.818188,
             8.227512
            ],
            [
             7189,
             48.379433,
             31.16558
            ],
            [
             292081,
             55.378051,
             -3.435973
            ]
           ],
           "geo": "geo",
           "hovertemplate": "<b>%{hovertext}</b><br><br>Year=%{marker.size}<br>Refugees under UNHCR's mandate=%{marker.color}<extra></extra>",
           "hovertext": [
            "Albania",
            "Austria",
            "Belarus",
            "Belgium",
            "Bulgaria",
            "Croatia",
            "Cyprus",
            "Denmark",
            "Estonia",
            "Finland",
            "France",
            "Germany",
            "Greece",
            "Hungary",
            "Iceland",
            "Ireland",
            "Italy",
            "Luxembourg",
            "Malta",
            "Netherlands",
            "North Macedonia",
            "Norway",
            "Poland",
            "Portugal",
            "Romania",
            "Serbia",
            "Slovakia",
            "Slovenia",
            "Spain",
            "Sweden",
            "Switzerland",
            "Ukraine",
            "United Kingdom"
           ],
           "lat": [
            41.153332,
            47.516231,
            53.709807,
            50.503887,
            42.733883,
            45.1,
            35.126413,
            56.26392,
            58.595272,
            61.92411,
            46.227638,
            51.165691,
            39.074208,
            47.162494,
            64.963051,
            53.41291,
            41.87194,
            49.815273,
            35.937496,
            52.132633,
            41.608635,
            60.472024,
            51.919438,
            39.399872,
            45.943161,
            44.016521,
            48.669026,
            46.151241,
            40.463667,
            60.128161,
            46.818188,
            48.379433,
            55.378051
           ],
           "legendgroup": "",
           "lon": [
            20.168331,
            14.550072,
            27.953389,
            4.469936,
            25.48583,
            15.2,
            33.429859,
            9.501785,
            25.013607,
            25.748151,
            2.213749,
            10.451526,
            21.824312,
            19.503304,
            -19.020835,
            -8.24389,
            12.56738,
            6.129583,
            14.375416,
            5.291266,
            21.745275,
            8.468946,
            19.145136,
            -8.224454,
            24.96676,
            21.005859,
            19.699024,
            14.995463,
            -3.74922,
            18.643501,
            8.227512,
            31.16558,
            -3.435973
           ],
           "marker": {
            "color": [
             57,
             37546,
             602,
             17025,
             5108,
             1591,
             1458,
             23385,
             16,
             6621,
             171206,
             582719,
             2169,
             7740,
             39,
             9714,
             47059,
             3109,
             4329,
             77589,
             1671,
             36076,
             12761,
             393,
             1586,
             96735,
             301,
             257,
             4649,
             77016,
             46131,
             7189,
             292081
            ],
            "coloraxis": "coloraxis",
            "size": [
             2008,
             2008,
             2008,
             2008,
             2008,
             2008,
             2008,
             2008,
             2008,
             2008,
             2008,
             2008,
             2008,
             2008,
             2008,
             2008,
             2008,
             2008,
             2008,
             2008,
             2008,
             2008,
             2008,
             2008,
             2008,
             2008,
             2008,
             2008,
             2008,
             2008,
             2008,
             2008,
             2008
            ],
            "sizemode": "area",
            "sizeref": 20.17,
            "symbol": "circle"
           },
           "mode": "markers",
           "name": "",
           "showlegend": false,
           "type": "scattergeo"
          }
         ],
         "name": "2008"
        },
        {
         "data": [
          {
           "customdata": [
            [
             69,
             41.153332,
             20.168331
            ],
            [
             38895,
             47.516231,
             14.550072
            ],
            [
             578,
             53.709807,
             27.953389
            ],
            [
             15536,
             50.503887,
             4.469936
            ],
            [
             5375,
             42.733883,
             25.48583
            ],
            [
             1240,
             45.1,
             15.2
            ],
            [
             2888,
             35.126413,
             33.429859
            ],
            [
             20340,
             56.26392,
             9.501785
            ],
            [
             16,
             58.595272,
             25.013607
            ],
            [
             7448,
             61.92411,
             25.748151
            ],
            [
             196364,
             46.227638,
             2.213749
            ],
            [
             593787,
             51.165691,
             10.451526
            ],
            [
             1700,
             39.074208,
             21.824312
            ],
            [
             6041,
             47.162494,
             19.503304
            ],
            [
             58,
             64.963051,
             -19.020835
            ],
            [
             9561,
             53.41291,
             -8.24389
            ],
            [
             54962,
             41.87194,
             12.56738
            ],
            [
             3230,
             49.815273,
             6.129583
            ],
            [
             5951,
             35.937496,
             14.375416
            ],
            [
             75996,
             52.132633,
             5.291266
            ],
            [
             1541,
             41.608635,
             21.745275
            ],
            [
             37806,
             60.472024,
             8.468946
            ],
            [
             15299,
             51.919438,
             19.145136
            ],
            [
             383,
             39.399872,
             -8.224454
            ],
            [
             1065,
             45.943161,
             24.96676
            ],
            [
             86348,
             44.016521,
             21.005859
            ],
            [
             387,
             48.669026,
             19.699024
            ],
            [
             281,
             46.151241,
             14.995463
            ],
            [
             3960,
             40.463667,
             -3.74922
            ],
            [
             81346,
             60.128161,
             18.643501
            ],
            [
             46204,
             46.818188,
             8.227512
            ],
            [
             7321,
             48.379433,
             31.16558
            ],
            [
             269355,
             55.378051,
             -3.435973
            ]
           ],
           "geo": "geo",
           "hovertemplate": "<b>%{hovertext}</b><br><br>Year=%{marker.size}<br>Refugees under UNHCR's mandate=%{marker.color}<extra></extra>",
           "hovertext": [
            "Albania",
            "Austria",
            "Belarus",
            "Belgium",
            "Bulgaria",
            "Croatia",
            "Cyprus",
            "Denmark",
            "Estonia",
            "Finland",
            "France",
            "Germany",
            "Greece",
            "Hungary",
            "Iceland",
            "Ireland",
            "Italy",
            "Luxembourg",
            "Malta",
            "Netherlands",
            "North Macedonia",
            "Norway",
            "Poland",
            "Portugal",
            "Romania",
            "Serbia",
            "Slovakia",
            "Slovenia",
            "Spain",
            "Sweden",
            "Switzerland",
            "Ukraine",
            "United Kingdom"
           ],
           "lat": [
            41.153332,
            47.516231,
            53.709807,
            50.503887,
            42.733883,
            45.1,
            35.126413,
            56.26392,
            58.595272,
            61.92411,
            46.227638,
            51.165691,
            39.074208,
            47.162494,
            64.963051,
            53.41291,
            41.87194,
            49.815273,
            35.937496,
            52.132633,
            41.608635,
            60.472024,
            51.919438,
            39.399872,
            45.943161,
            44.016521,
            48.669026,
            46.151241,
            40.463667,
            60.128161,
            46.818188,
            48.379433,
            55.378051
           ],
           "legendgroup": "",
           "lon": [
            20.168331,
            14.550072,
            27.953389,
            4.469936,
            25.48583,
            15.2,
            33.429859,
            9.501785,
            25.013607,
            25.748151,
            2.213749,
            10.451526,
            21.824312,
            19.503304,
            -19.020835,
            -8.24389,
            12.56738,
            6.129583,
            14.375416,
            5.291266,
            21.745275,
            8.468946,
            19.145136,
            -8.224454,
            24.96676,
            21.005859,
            19.699024,
            14.995463,
            -3.74922,
            18.643501,
            8.227512,
            31.16558,
            -3.435973
           ],
           "marker": {
            "color": [
             69,
             38895,
             578,
             15536,
             5375,
             1240,
             2888,
             20340,
             16,
             7448,
             196364,
             593787,
             1700,
             6041,
             58,
             9561,
             54962,
             3230,
             5951,
             75996,
             1541,
             37806,
             15299,
             383,
             1065,
             86348,
             387,
             281,
             3960,
             81346,
             46204,
             7321,
             269355
            ],
            "coloraxis": "coloraxis",
            "size": [
             2009,
             2009,
             2009,
             2009,
             2009,
             2009,
             2009,
             2009,
             2009,
             2009,
             2009,
             2009,
             2009,
             2009,
             2009,
             2009,
             2009,
             2009,
             2009,
             2009,
             2009,
             2009,
             2009,
             2009,
             2009,
             2009,
             2009,
             2009,
             2009,
             2009,
             2009,
             2009,
             2009
            ],
            "sizemode": "area",
            "sizeref": 20.17,
            "symbol": "circle"
           },
           "mode": "markers",
           "name": "",
           "showlegend": false,
           "type": "scattergeo"
          }
         ],
         "name": "2009"
        },
        {
         "data": [
          {
           "customdata": [
            [
             75,
             41.153332,
             20.168331
            ],
            [
             42613,
             47.516231,
             14.550072
            ],
            [
             587,
             53.709807,
             27.953389
            ],
            [
             17891,
             50.503887,
             4.469936
            ],
            [
             5519,
             42.733883,
             25.48583
            ],
            [
             933,
             45.1,
             15.2
            ],
            [
             3397,
             35.126413,
             33.429859
            ],
            [
             17907,
             56.26392,
             9.501785
            ],
            [
             31,
             58.595272,
             25.013607
            ],
            [
             8721,
             61.92411,
             25.748151
            ],
            [
             200687,
             46.227638,
             2.213749
            ],
            [
             594250,
             51.165691,
             10.451526
            ],
            [
             1443,
             39.074208,
             21.824312
            ],
            [
             5400,
             47.162494,
             19.503304
            ],
            [
             72,
             64.963051,
             -19.020835
            ],
            [
             9099,
             53.41291,
             -8.24389
            ],
            [
             56402,
             41.87194,
             12.56738
            ],
            [
             3254,
             49.815273,
             6.129583
            ],
            [
             6143,
             35.937496,
             14.375416
            ],
            [
             74948,
             52.132633,
             5.291266
            ],
            [
             1397,
             41.608635,
             21.745275
            ],
            [
             40245,
             60.472024,
             8.468946
            ],
            [
             15537,
             51.919438,
             19.145136
            ],
            [
             368,
             39.399872,
             -8.224454
            ],
            [
             1019,
             45.943161,
             24.96676
            ],
            [
             73604,
             44.016521,
             21.005859
            ],
            [
             451,
             48.669026,
             19.699024
            ],
            [
             315,
             46.151241,
             14.995463
            ],
            [
             3814,
             40.463667,
             -3.74922
            ],
            [
             82620,
             60.128161,
             18.643501
            ],
            [
             48813,
             46.818188,
             8.227512
            ],
            [
             3016,
             48.379433,
             31.16558
            ],
            [
             238133,
             55.378051,
             -3.435973
            ]
           ],
           "geo": "geo",
           "hovertemplate": "<b>%{hovertext}</b><br><br>Year=%{marker.size}<br>Refugees under UNHCR's mandate=%{marker.color}<extra></extra>",
           "hovertext": [
            "Albania",
            "Austria",
            "Belarus",
            "Belgium",
            "Bulgaria",
            "Croatia",
            "Cyprus",
            "Denmark",
            "Estonia",
            "Finland",
            "France",
            "Germany",
            "Greece",
            "Hungary",
            "Iceland",
            "Ireland",
            "Italy",
            "Luxembourg",
            "Malta",
            "Netherlands",
            "North Macedonia",
            "Norway",
            "Poland",
            "Portugal",
            "Romania",
            "Serbia",
            "Slovakia",
            "Slovenia",
            "Spain",
            "Sweden",
            "Switzerland",
            "Ukraine",
            "United Kingdom"
           ],
           "lat": [
            41.153332,
            47.516231,
            53.709807,
            50.503887,
            42.733883,
            45.1,
            35.126413,
            56.26392,
            58.595272,
            61.92411,
            46.227638,
            51.165691,
            39.074208,
            47.162494,
            64.963051,
            53.41291,
            41.87194,
            49.815273,
            35.937496,
            52.132633,
            41.608635,
            60.472024,
            51.919438,
            39.399872,
            45.943161,
            44.016521,
            48.669026,
            46.151241,
            40.463667,
            60.128161,
            46.818188,
            48.379433,
            55.378051
           ],
           "legendgroup": "",
           "lon": [
            20.168331,
            14.550072,
            27.953389,
            4.469936,
            25.48583,
            15.2,
            33.429859,
            9.501785,
            25.013607,
            25.748151,
            2.213749,
            10.451526,
            21.824312,
            19.503304,
            -19.020835,
            -8.24389,
            12.56738,
            6.129583,
            14.375416,
            5.291266,
            21.745275,
            8.468946,
            19.145136,
            -8.224454,
            24.96676,
            21.005859,
            19.699024,
            14.995463,
            -3.74922,
            18.643501,
            8.227512,
            31.16558,
            -3.435973
           ],
           "marker": {
            "color": [
             75,
             42613,
             587,
             17891,
             5519,
             933,
             3397,
             17907,
             31,
             8721,
             200687,
             594250,
             1443,
             5400,
             72,
             9099,
             56402,
             3254,
             6143,
             74948,
             1397,
             40245,
             15537,
             368,
             1019,
             73604,
             451,
             315,
             3814,
             82620,
             48813,
             3016,
             238133
            ],
            "coloraxis": "coloraxis",
            "size": [
             2010,
             2010,
             2010,
             2010,
             2010,
             2010,
             2010,
             2010,
             2010,
             2010,
             2010,
             2010,
             2010,
             2010,
             2010,
             2010,
             2010,
             2010,
             2010,
             2010,
             2010,
             2010,
             2010,
             2010,
             2010,
             2010,
             2010,
             2010,
             2010,
             2010,
             2010,
             2010,
             2010
            ],
            "sizemode": "area",
            "sizeref": 20.17,
            "symbol": "circle"
           },
           "mode": "markers",
           "name": "",
           "showlegend": false,
           "type": "scattergeo"
          }
         ],
         "name": "2010"
        },
        {
         "data": [
          {
           "customdata": [
            [
             79,
             41.153332,
             20.168331
            ],
            [
             47055,
             47.516231,
             14.550072
            ],
            [
             594,
             53.709807,
             27.953389
            ],
            [
             22396,
             50.503887,
             4.469936
            ],
            [
             5676,
             42.733883,
             25.48583
            ],
            [
             818,
             45.1,
             15.2
            ],
            [
             3498,
             35.126413,
             33.429859
            ],
            [
             13386,
             56.26392,
             9.501785
            ],
            [
             34,
             58.595272,
             25.013607
            ],
            [
             9170,
             61.92411,
             25.748151
            ],
            [
             210207,
             46.227638,
             2.213749
            ],
            [
             571672,
             51.165691,
             10.451526
            ],
            [
             1566,
             39.074208,
             21.824312
            ],
            [
             5085,
             47.162494,
             19.503304
            ],
            [
             55,
             64.963051,
             -19.020835
            ],
            [
             8234,
             53.41291,
             -8.24389
            ],
            [
             58066,
             41.87194,
             12.56738
            ],
            [
             2855,
             49.815273,
             6.129583
            ],
            [
             6948,
             35.937496,
             14.375416
            ],
            [
             74587,
             52.132633,
             5.291266
            ],
            [
             1129,
             41.608635,
             21.745275
            ],
            [
             40671,
             60.472024,
             8.468946
            ],
            [
             15834,
             51.919438,
             19.145136
            ],
            [
             399,
             39.399872,
             -8.224454
            ],
            [
             1003,
             45.943161,
             24.96676
            ],
            [
             70702,
             44.016521,
             21.005859
            ],
            [
             535,
             48.669026,
             19.699024
            ],
            [
             134,
             46.151241,
             14.995463
            ],
            [
             4220,
             40.463667,
             -3.74922
            ],
            [
             86603,
             60.128161,
             18.643501
            ],
            [
             50401,
             46.818188,
             8.227512
            ],
            [
             3168,
             48.379433,
             31.16558
            ],
            [
             193494,
             55.378051,
             -3.435973
            ]
           ],
           "geo": "geo",
           "hovertemplate": "<b>%{hovertext}</b><br><br>Year=%{marker.size}<br>Refugees under UNHCR's mandate=%{marker.color}<extra></extra>",
           "hovertext": [
            "Albania",
            "Austria",
            "Belarus",
            "Belgium",
            "Bulgaria",
            "Croatia",
            "Cyprus",
            "Denmark",
            "Estonia",
            "Finland",
            "France",
            "Germany",
            "Greece",
            "Hungary",
            "Iceland",
            "Ireland",
            "Italy",
            "Luxembourg",
            "Malta",
            "Netherlands",
            "North Macedonia",
            "Norway",
            "Poland",
            "Portugal",
            "Romania",
            "Serbia",
            "Slovakia",
            "Slovenia",
            "Spain",
            "Sweden",
            "Switzerland",
            "Ukraine",
            "United Kingdom"
           ],
           "lat": [
            41.153332,
            47.516231,
            53.709807,
            50.503887,
            42.733883,
            45.1,
            35.126413,
            56.26392,
            58.595272,
            61.92411,
            46.227638,
            51.165691,
            39.074208,
            47.162494,
            64.963051,
            53.41291,
            41.87194,
            49.815273,
            35.937496,
            52.132633,
            41.608635,
            60.472024,
            51.919438,
            39.399872,
            45.943161,
            44.016521,
            48.669026,
            46.151241,
            40.463667,
            60.128161,
            46.818188,
            48.379433,
            55.378051
           ],
           "legendgroup": "",
           "lon": [
            20.168331,
            14.550072,
            27.953389,
            4.469936,
            25.48583,
            15.2,
            33.429859,
            9.501785,
            25.013607,
            25.748151,
            2.213749,
            10.451526,
            21.824312,
            19.503304,
            -19.020835,
            -8.24389,
            12.56738,
            6.129583,
            14.375416,
            5.291266,
            21.745275,
            8.468946,
            19.145136,
            -8.224454,
            24.96676,
            21.005859,
            19.699024,
            14.995463,
            -3.74922,
            18.643501,
            8.227512,
            31.16558,
            -3.435973
           ],
           "marker": {
            "color": [
             79,
             47055,
             594,
             22396,
             5676,
             818,
             3498,
             13386,
             34,
             9170,
             210207,
             571672,
             1566,
             5085,
             55,
             8234,
             58066,
             2855,
             6948,
             74587,
             1129,
             40671,
             15834,
             399,
             1003,
             70702,
             535,
             134,
             4220,
             86603,
             50401,
             3168,
             193494
            ],
            "coloraxis": "coloraxis",
            "size": [
             2011,
             2011,
             2011,
             2011,
             2011,
             2011,
             2011,
             2011,
             2011,
             2011,
             2011,
             2011,
             2011,
             2011,
             2011,
             2011,
             2011,
             2011,
             2011,
             2011,
             2011,
             2011,
             2011,
             2011,
             2011,
             2011,
             2011,
             2011,
             2011,
             2011,
             2011,
             2011,
             2011
            ],
            "sizemode": "area",
            "sizeref": 20.17,
            "symbol": "circle"
           },
           "mode": "markers",
           "name": "",
           "showlegend": false,
           "type": "scattergeo"
          }
         ],
         "name": "2011"
        },
        {
         "data": [
          {
           "customdata": [
            [
             84,
             41.153332,
             20.168331
            ],
            [
             51707,
             47.516231,
             14.550072
            ],
            [
             572,
             53.709807,
             27.953389
            ],
            [
             22023,
             50.503887,
             4.469936
            ],
            [
             2273,
             42.733883,
             25.48583
            ],
            [
             722,
             45.1,
             15.2
            ],
            [
             3627,
             35.126413,
             33.429859
            ],
            [
             11797,
             56.26392,
             9.501785
            ],
            [
             48,
             58.595272,
             25.013607
            ],
            [
             9910,
             61.92411,
             25.748151
            ],
            [
             217865,
             46.227638,
             2.213749
            ],
            [
             589735,
             51.165691,
             10.451526
            ],
            [
             2090,
             39.074208,
             21.824312
            ],
            [
             4034,
             47.162494,
             19.503304
            ],
            [
             55,
             64.963051,
             -19.020835
            ],
            [
             6309,
             53.41291,
             -8.24389
            ],
            [
             64782,
             41.87194,
             12.56738
            ],
            [
             2910,
             49.815273,
             6.129583
            ],
            [
             8242,
             35.937496,
             14.375416
            ],
            [
             71893,
             52.132633,
             5.291266
            ],
            [
             1076,
             41.608635,
             21.745275
            ],
            [
             42805,
             60.472024,
             8.468946
            ],
            [
             15897,
             51.919438,
             19.145136
            ],
            [
             473,
             39.399872,
             -8.224454
            ],
            [
             1263,
             45.943161,
             24.96676
            ],
            [
             66367,
             44.016521,
             21.005859
            ],
            [
             650,
             48.669026,
             19.699024
            ],
            [
             169,
             46.151241,
             14.995463
            ],
            [
             4502,
             40.463667,
             -3.74922
            ],
            [
             92869,
             60.128161,
             18.643501
            ],
            [
             50733,
             46.818188,
             8.227512
            ],
            [
             2790,
             48.379433,
             31.16558
            ],
            [
             149790,
             55.378051,
             -3.435973
            ]
           ],
           "geo": "geo",
           "hovertemplate": "<b>%{hovertext}</b><br><br>Year=%{marker.size}<br>Refugees under UNHCR's mandate=%{marker.color}<extra></extra>",
           "hovertext": [
            "Albania",
            "Austria",
            "Belarus",
            "Belgium",
            "Bulgaria",
            "Croatia",
            "Cyprus",
            "Denmark",
            "Estonia",
            "Finland",
            "France",
            "Germany",
            "Greece",
            "Hungary",
            "Iceland",
            "Ireland",
            "Italy",
            "Luxembourg",
            "Malta",
            "Netherlands",
            "North Macedonia",
            "Norway",
            "Poland",
            "Portugal",
            "Romania",
            "Serbia",
            "Slovakia",
            "Slovenia",
            "Spain",
            "Sweden",
            "Switzerland",
            "Ukraine",
            "United Kingdom"
           ],
           "lat": [
            41.153332,
            47.516231,
            53.709807,
            50.503887,
            42.733883,
            45.1,
            35.126413,
            56.26392,
            58.595272,
            61.92411,
            46.227638,
            51.165691,
            39.074208,
            47.162494,
            64.963051,
            53.41291,
            41.87194,
            49.815273,
            35.937496,
            52.132633,
            41.608635,
            60.472024,
            51.919438,
            39.399872,
            45.943161,
            44.016521,
            48.669026,
            46.151241,
            40.463667,
            60.128161,
            46.818188,
            48.379433,
            55.378051
           ],
           "legendgroup": "",
           "lon": [
            20.168331,
            14.550072,
            27.953389,
            4.469936,
            25.48583,
            15.2,
            33.429859,
            9.501785,
            25.013607,
            25.748151,
            2.213749,
            10.451526,
            21.824312,
            19.503304,
            -19.020835,
            -8.24389,
            12.56738,
            6.129583,
            14.375416,
            5.291266,
            21.745275,
            8.468946,
            19.145136,
            -8.224454,
            24.96676,
            21.005859,
            19.699024,
            14.995463,
            -3.74922,
            18.643501,
            8.227512,
            31.16558,
            -3.435973
           ],
           "marker": {
            "color": [
             84,
             51707,
             572,
             22023,
             2273,
             722,
             3627,
             11797,
             48,
             9910,
             217865,
             589735,
             2090,
             4034,
             55,
             6309,
             64782,
             2910,
             8242,
             71893,
             1076,
             42805,
             15897,
             473,
             1263,
             66367,
             650,
             169,
             4502,
             92869,
             50733,
             2790,
             149790
            ],
            "coloraxis": "coloraxis",
            "size": [
             2012,
             2012,
             2012,
             2012,
             2012,
             2012,
             2012,
             2012,
             2012,
             2012,
             2012,
             2012,
             2012,
             2012,
             2012,
             2012,
             2012,
             2012,
             2012,
             2012,
             2012,
             2012,
             2012,
             2012,
             2012,
             2012,
             2012,
             2012,
             2012,
             2012,
             2012,
             2012,
             2012
            ],
            "sizemode": "area",
            "sizeref": 20.17,
            "symbol": "circle"
           },
           "mode": "markers",
           "name": "",
           "showlegend": false,
           "type": "scattergeo"
          }
         ],
         "name": "2012"
        },
        {
         "data": [
          {
           "customdata": [
            [
             96,
             41.153332,
             20.168331
            ],
            [
             55575,
             47.516231,
             14.550072
            ],
            [
             599,
             53.709807,
             27.953389
            ],
            [
             25617,
             50.503887,
             4.469936
            ],
            [
             4305,
             42.733883,
             25.48583
            ],
            [
             679,
             45.1,
             15.2
            ],
            [
             3879,
             35.126413,
             33.429859
            ],
            [
             13153,
             56.26392,
             9.501785
            ],
            [
             52,
             58.595272,
             25.013607
            ],
            [
             11242,
             61.92411,
             25.748151
            ],
            [
             232487,
             46.227638,
             2.213749
            ],
            [
             187545,
             51.165691,
             10.451526
            ],
            [
             3468,
             39.074208,
             21.824312
            ],
            [
             2422,
             47.162494,
             19.503304
            ],
            [
             72,
             64.963051,
             -19.020835
            ],
            [
             5991,
             53.41291,
             -8.24389
            ],
            [
             76248,
             41.87194,
             12.56738
            ],
            [
             901,
             49.815273,
             6.129583
            ],
            [
             9900,
             35.937496,
             14.375416
            ],
            [
             74700,
             52.132633,
             5.291266
            ],
            [
             980,
             41.608635,
             21.745275
            ],
            [
             46088,
             60.472024,
             8.468946
            ],
            [
             16428,
             51.919438,
             19.145136
            ],
            [
             596,
             39.399872,
             -8.224454
            ],
            [
             1747,
             45.943161,
             24.96676
            ],
            [
             57079,
             44.016521,
             21.005859
            ],
            [
             691,
             48.669026,
             19.699024
            ],
            [
             202,
             46.151241,
             14.995463
            ],
            [
             4641,
             40.463667,
             -3.74922
            ],
            [
             114172,
             60.128161,
             18.643501
            ],
            [
             52448,
             46.818188,
             8.227512
            ],
            [
             2956,
             48.379433,
             31.16558
            ],
            [
             126036,
             55.378051,
             -3.435973
            ]
           ],
           "geo": "geo",
           "hovertemplate": "<b>%{hovertext}</b><br><br>Year=%{marker.size}<br>Refugees under UNHCR's mandate=%{marker.color}<extra></extra>",
           "hovertext": [
            "Albania",
            "Austria",
            "Belarus",
            "Belgium",
            "Bulgaria",
            "Croatia",
            "Cyprus",
            "Denmark",
            "Estonia",
            "Finland",
            "France",
            "Germany",
            "Greece",
            "Hungary",
            "Iceland",
            "Ireland",
            "Italy",
            "Luxembourg",
            "Malta",
            "Netherlands",
            "North Macedonia",
            "Norway",
            "Poland",
            "Portugal",
            "Romania",
            "Serbia",
            "Slovakia",
            "Slovenia",
            "Spain",
            "Sweden",
            "Switzerland",
            "Ukraine",
            "United Kingdom"
           ],
           "lat": [
            41.153332,
            47.516231,
            53.709807,
            50.503887,
            42.733883,
            45.1,
            35.126413,
            56.26392,
            58.595272,
            61.92411,
            46.227638,
            51.165691,
            39.074208,
            47.162494,
            64.963051,
            53.41291,
            41.87194,
            49.815273,
            35.937496,
            52.132633,
            41.608635,
            60.472024,
            51.919438,
            39.399872,
            45.943161,
            44.016521,
            48.669026,
            46.151241,
            40.463667,
            60.128161,
            46.818188,
            48.379433,
            55.378051
           ],
           "legendgroup": "",
           "lon": [
            20.168331,
            14.550072,
            27.953389,
            4.469936,
            25.48583,
            15.2,
            33.429859,
            9.501785,
            25.013607,
            25.748151,
            2.213749,
            10.451526,
            21.824312,
            19.503304,
            -19.020835,
            -8.24389,
            12.56738,
            6.129583,
            14.375416,
            5.291266,
            21.745275,
            8.468946,
            19.145136,
            -8.224454,
            24.96676,
            21.005859,
            19.699024,
            14.995463,
            -3.74922,
            18.643501,
            8.227512,
            31.16558,
            -3.435973
           ],
           "marker": {
            "color": [
             96,
             55575,
             599,
             25617,
             4305,
             679,
             3879,
             13153,
             52,
             11242,
             232487,
             187545,
             3468,
             2422,
             72,
             5991,
             76248,
             901,
             9900,
             74700,
             980,
             46088,
             16428,
             596,
             1747,
             57079,
             691,
             202,
             4641,
             114172,
             52448,
             2956,
             126036
            ],
            "coloraxis": "coloraxis",
            "size": [
             2013,
             2013,
             2013,
             2013,
             2013,
             2013,
             2013,
             2013,
             2013,
             2013,
             2013,
             2013,
             2013,
             2013,
             2013,
             2013,
             2013,
             2013,
             2013,
             2013,
             2013,
             2013,
             2013,
             2013,
             2013,
             2013,
             2013,
             2013,
             2013,
             2013,
             2013,
             2013,
             2013
            ],
            "sizemode": "area",
            "sizeref": 20.17,
            "symbol": "circle"
           },
           "mode": "markers",
           "name": "",
           "showlegend": false,
           "type": "scattergeo"
          }
         ],
         "name": "2013"
        },
        {
         "data": [
          {
           "customdata": [
            [
             111,
             41.153332,
             20.168331
            ],
            [
             60724,
             47.516231,
             14.550072
            ],
            [
             919,
             53.709807,
             27.953389
            ],
            [
             29170,
             50.503887,
             4.469936
            ],
            [
             11026,
             42.733883,
             25.48583
            ],
            [
             724,
             45.1,
             15.2
            ],
            [
             5120,
             35.126413,
             33.429859
            ],
            [
             17767,
             56.26392,
             9.501785
            ],
            [
             82,
             58.595272,
             25.013607
            ],
            [
             11783,
             61.92411,
             25.748151
            ],
            [
             252248,
             46.227638,
             2.213749
            ],
            [
             216956,
             51.165691,
             10.451526
            ],
            [
             10292,
             39.074208,
             21.824312
            ],
            [
             2854,
             47.162494,
             19.503304
            ],
            [
             93,
             64.963051,
             -19.020835
            ],
            [
             5832,
             53.41291,
             -8.24389
            ],
            [
             93712,
             41.87194,
             12.56738
            ],
            [
             1091,
             49.815273,
             6.129583
            ],
            [
             6095,
             35.937496,
             14.375416
            ],
            [
             82483,
             52.132633,
             5.291266
            ],
            [
             880,
             41.608635,
             21.745275
            ],
            [
             47025,
             60.472024,
             8.468946
            ],
            [
             15730,
             51.919438,
             19.145136
            ],
            [
             704,
             39.399872,
             -8.224454
            ],
            [
             2171,
             45.943161,
             24.96676
            ],
            [
             43749,
             44.016521,
             21.005859
            ],
            [
             791,
             48.669026,
             19.699024
            ],
            [
             251,
             46.151241,
             14.995463
            ],
            [
             5797,
             40.463667,
             -3.74922
            ],
            [
             142197,
             60.128161,
             18.643501
            ],
            [
             62596,
             46.818188,
             8.227512
            ],
            [
             3206,
             48.379433,
             31.16558
            ],
            [
             117226,
             55.378051,
             -3.435973
            ]
           ],
           "geo": "geo",
           "hovertemplate": "<b>%{hovertext}</b><br><br>Year=%{marker.size}<br>Refugees under UNHCR's mandate=%{marker.color}<extra></extra>",
           "hovertext": [
            "Albania",
            "Austria",
            "Belarus",
            "Belgium",
            "Bulgaria",
            "Croatia",
            "Cyprus",
            "Denmark",
            "Estonia",
            "Finland",
            "France",
            "Germany",
            "Greece",
            "Hungary",
            "Iceland",
            "Ireland",
            "Italy",
            "Luxembourg",
            "Malta",
            "Netherlands",
            "North Macedonia",
            "Norway",
            "Poland",
            "Portugal",
            "Romania",
            "Serbia",
            "Slovakia",
            "Slovenia",
            "Spain",
            "Sweden",
            "Switzerland",
            "Ukraine",
            "United Kingdom"
           ],
           "lat": [
            41.153332,
            47.516231,
            53.709807,
            50.503887,
            42.733883,
            45.1,
            35.126413,
            56.26392,
            58.595272,
            61.92411,
            46.227638,
            51.165691,
            39.074208,
            47.162494,
            64.963051,
            53.41291,
            41.87194,
            49.815273,
            35.937496,
            52.132633,
            41.608635,
            60.472024,
            51.919438,
            39.399872,
            45.943161,
            44.016521,
            48.669026,
            46.151241,
            40.463667,
            60.128161,
            46.818188,
            48.379433,
            55.378051
           ],
           "legendgroup": "",
           "lon": [
            20.168331,
            14.550072,
            27.953389,
            4.469936,
            25.48583,
            15.2,
            33.429859,
            9.501785,
            25.013607,
            25.748151,
            2.213749,
            10.451526,
            21.824312,
            19.503304,
            -19.020835,
            -8.24389,
            12.56738,
            6.129583,
            14.375416,
            5.291266,
            21.745275,
            8.468946,
            19.145136,
            -8.224454,
            24.96676,
            21.005859,
            19.699024,
            14.995463,
            -3.74922,
            18.643501,
            8.227512,
            31.16558,
            -3.435973
           ],
           "marker": {
            "color": [
             111,
             60724,
             919,
             29170,
             11026,
             724,
             5120,
             17767,
             82,
             11783,
             252248,
             216956,
             10292,
             2854,
             93,
             5832,
             93712,
             1091,
             6095,
             82483,
             880,
             47025,
             15730,
             704,
             2171,
             43749,
             791,
             251,
             5797,
             142197,
             62596,
             3206,
             117226
            ],
            "coloraxis": "coloraxis",
            "size": [
             2014,
             2014,
             2014,
             2014,
             2014,
             2014,
             2014,
             2014,
             2014,
             2014,
             2014,
             2014,
             2014,
             2014,
             2014,
             2014,
             2014,
             2014,
             2014,
             2014,
             2014,
             2014,
             2014,
             2014,
             2014,
             2014,
             2014,
             2014,
             2014,
             2014,
             2014,
             2014,
             2014
            ],
            "sizemode": "area",
            "sizeref": 20.17,
            "symbol": "circle"
           },
           "mode": "markers",
           "name": "",
           "showlegend": false,
           "type": "scattergeo"
          }
         ],
         "name": "2014"
        },
        {
         "data": [
          {
           "customdata": [
            [
             109,
             41.153332,
             20.168331
            ],
            [
             72198,
             47.516231,
             14.550072
            ],
            [
             1805,
             53.709807,
             27.953389
            ],
            [
             35302,
             50.503887,
             4.469936
            ],
            [
             16543,
             42.733883,
             25.48583
            ],
            [
             517,
             45.1,
             15.2
            ],
            [
             7062,
             35.126413,
             33.429859
            ],
            [
             27312,
             56.26392,
             9.501785
            ],
            [
             158,
             58.595272,
             25.013607
            ],
            [
             12692,
             61.92411,
             25.748151
            ],
            [
             273117,
             46.227638,
             2.213749
            ],
            [
             316098,
             51.165691,
             10.451526
            ],
            [
             24831,
             39.074208,
             21.824312
            ],
            [
             4383,
             47.162494,
             19.503304
            ],
            [
             170,
             64.963051,
             -19.020835
            ],
            [
             6108,
             53.41291,
             -8.24389
            ],
            [
             118036,
             41.87194,
             12.56738
            ],
            [
             1306,
             49.815273,
             6.129583
            ],
            [
             7068,
             35.937496,
             14.375416
            ],
            [
             88518,
             52.132633,
             5.291266
            ],
            [
             697,
             41.608635,
             21.745275
            ],
            [
             50377,
             60.472024,
             8.468946
            ],
            [
             14057,
             51.919438,
             19.145136
            ],
            [
             851,
             39.399872,
             -8.224454
            ],
            [
             2581,
             45.943161,
             24.96676
            ],
            [
             35326,
             44.016521,
             21.005859
            ],
            [
             816,
             48.669026,
             19.699024
            ],
            [
             284,
             46.151241,
             14.995463
            ],
            [
             6447,
             40.463667,
             -3.74922
            ],
            [
             169516,
             60.128161,
             18.643501
            ],
            [
             73326,
             46.818188,
             8.227512
            ],
            [
             3261,
             48.379433,
             31.16558
            ],
            [
             123051,
             55.378051,
             -3.435973
            ]
           ],
           "geo": "geo",
           "hovertemplate": "<b>%{hovertext}</b><br><br>Year=%{marker.size}<br>Refugees under UNHCR's mandate=%{marker.color}<extra></extra>",
           "hovertext": [
            "Albania",
            "Austria",
            "Belarus",
            "Belgium",
            "Bulgaria",
            "Croatia",
            "Cyprus",
            "Denmark",
            "Estonia",
            "Finland",
            "France",
            "Germany",
            "Greece",
            "Hungary",
            "Iceland",
            "Ireland",
            "Italy",
            "Luxembourg",
            "Malta",
            "Netherlands",
            "North Macedonia",
            "Norway",
            "Poland",
            "Portugal",
            "Romania",
            "Serbia",
            "Slovakia",
            "Slovenia",
            "Spain",
            "Sweden",
            "Switzerland",
            "Ukraine",
            "United Kingdom"
           ],
           "lat": [
            41.153332,
            47.516231,
            53.709807,
            50.503887,
            42.733883,
            45.1,
            35.126413,
            56.26392,
            58.595272,
            61.92411,
            46.227638,
            51.165691,
            39.074208,
            47.162494,
            64.963051,
            53.41291,
            41.87194,
            49.815273,
            35.937496,
            52.132633,
            41.608635,
            60.472024,
            51.919438,
            39.399872,
            45.943161,
            44.016521,
            48.669026,
            46.151241,
            40.463667,
            60.128161,
            46.818188,
            48.379433,
            55.378051
           ],
           "legendgroup": "",
           "lon": [
            20.168331,
            14.550072,
            27.953389,
            4.469936,
            25.48583,
            15.2,
            33.429859,
            9.501785,
            25.013607,
            25.748151,
            2.213749,
            10.451526,
            21.824312,
            19.503304,
            -19.020835,
            -8.24389,
            12.56738,
            6.129583,
            14.375416,
            5.291266,
            21.745275,
            8.468946,
            19.145136,
            -8.224454,
            24.96676,
            21.005859,
            19.699024,
            14.995463,
            -3.74922,
            18.643501,
            8.227512,
            31.16558,
            -3.435973
           ],
           "marker": {
            "color": [
             109,
             72198,
             1805,
             35302,
             16543,
             517,
             7062,
             27312,
             158,
             12692,
             273117,
             316098,
             24831,
             4383,
             170,
             6108,
             118036,
             1306,
             7068,
             88518,
             697,
             50377,
             14057,
             851,
             2581,
             35326,
             816,
             284,
             6447,
             169516,
             73326,
             3261,
             123051
            ],
            "coloraxis": "coloraxis",
            "size": [
             2015,
             2015,
             2015,
             2015,
             2015,
             2015,
             2015,
             2015,
             2015,
             2015,
             2015,
             2015,
             2015,
             2015,
             2015,
             2015,
             2015,
             2015,
             2015,
             2015,
             2015,
             2015,
             2015,
             2015,
             2015,
             2015,
             2015,
             2015,
             2015,
             2015,
             2015,
             2015,
             2015
            ],
            "sizemode": "area",
            "sizeref": 20.17,
            "symbol": "circle"
           },
           "mode": "markers",
           "name": "",
           "showlegend": false,
           "type": "scattergeo"
          }
         ],
         "name": "2015"
        },
        {
         "data": [
          {
           "customdata": [
            [
             141,
             41.153332,
             20.168331
            ],
            [
             93242,
             47.516231,
             14.550072
            ],
            [
             1647,
             53.709807,
             27.953389
            ],
            [
             42158,
             50.503887,
             4.469936
            ],
            [
             17794,
             42.733883,
             25.48583
            ],
            [
             300,
             45.1,
             15.2
            ],
            [
             8478,
             35.126413,
             33.429859
            ],
            [
             33501,
             56.26392,
             9.501785
            ],
            [
             312,
             58.595272,
             25.013607
            ],
            [
             18402,
             61.92411,
             25.748151
            ],
            [
             304527,
             46.227638,
             2.213749
            ],
            [
             669468,
             51.165691,
             10.451526
            ],
            [
             46411,
             39.074208,
             21.824312
            ],
            [
             4736,
             47.162494,
             19.503304
            ],
            [
             245,
             64.963051,
             -19.020835
            ],
            [
             5720,
             53.41291,
             -8.24389
            ],
            [
             147362,
             41.87194,
             12.56738
            ],
            [
             2020,
             49.815273,
             6.129583
            ],
            [
             7941,
             35.937496,
             14.375416
            ],
            [
             101727,
             52.132633,
             5.291266
            ],
            [
             634,
             41.608635,
             21.745275
            ],
            [
             59512,
             60.472024,
             8.468946
            ],
            [
             11738,
             51.919438,
             19.145136
            ],
            [
             1189,
             39.399872,
             -8.224454
            ],
            [
             2880,
             45.943161,
             24.96676
            ],
            [
             36517,
             44.016521,
             21.005859
            ],
            [
             980,
             48.669026,
             19.699024
            ],
            [
             454,
             46.151241,
             14.995463
            ],
            [
             12983,
             40.463667,
             -3.74922
            ],
            [
             230158,
             60.128161,
             18.643501
            ],
            [
             82668,
             46.818188,
             8.227512
            ],
            [
             3292,
             48.379433,
             31.16558
            ],
            [
             118973,
             55.378051,
             -3.435973
            ]
           ],
           "geo": "geo",
           "hovertemplate": "<b>%{hovertext}</b><br><br>Year=%{marker.size}<br>Refugees under UNHCR's mandate=%{marker.color}<extra></extra>",
           "hovertext": [
            "Albania",
            "Austria",
            "Belarus",
            "Belgium",
            "Bulgaria",
            "Croatia",
            "Cyprus",
            "Denmark",
            "Estonia",
            "Finland",
            "France",
            "Germany",
            "Greece",
            "Hungary",
            "Iceland",
            "Ireland",
            "Italy",
            "Luxembourg",
            "Malta",
            "Netherlands",
            "North Macedonia",
            "Norway",
            "Poland",
            "Portugal",
            "Romania",
            "Serbia",
            "Slovakia",
            "Slovenia",
            "Spain",
            "Sweden",
            "Switzerland",
            "Ukraine",
            "United Kingdom"
           ],
           "lat": [
            41.153332,
            47.516231,
            53.709807,
            50.503887,
            42.733883,
            45.1,
            35.126413,
            56.26392,
            58.595272,
            61.92411,
            46.227638,
            51.165691,
            39.074208,
            47.162494,
            64.963051,
            53.41291,
            41.87194,
            49.815273,
            35.937496,
            52.132633,
            41.608635,
            60.472024,
            51.919438,
            39.399872,
            45.943161,
            44.016521,
            48.669026,
            46.151241,
            40.463667,
            60.128161,
            46.818188,
            48.379433,
            55.378051
           ],
           "legendgroup": "",
           "lon": [
            20.168331,
            14.550072,
            27.953389,
            4.469936,
            25.48583,
            15.2,
            33.429859,
            9.501785,
            25.013607,
            25.748151,
            2.213749,
            10.451526,
            21.824312,
            19.503304,
            -19.020835,
            -8.24389,
            12.56738,
            6.129583,
            14.375416,
            5.291266,
            21.745275,
            8.468946,
            19.145136,
            -8.224454,
            24.96676,
            21.005859,
            19.699024,
            14.995463,
            -3.74922,
            18.643501,
            8.227512,
            31.16558,
            -3.435973
           ],
           "marker": {
            "color": [
             141,
             93242,
             1647,
             42158,
             17794,
             300,
             8478,
             33501,
             312,
             18402,
             304527,
             669468,
             46411,
             4736,
             245,
             5720,
             147362,
             2020,
             7941,
             101727,
             634,
             59512,
             11738,
             1189,
             2880,
             36517,
             980,
             454,
             12983,
             230158,
             82668,
             3292,
             118973
            ],
            "coloraxis": "coloraxis",
            "size": [
             2016,
             2016,
             2016,
             2016,
             2016,
             2016,
             2016,
             2016,
             2016,
             2016,
             2016,
             2016,
             2016,
             2016,
             2016,
             2016,
             2016,
             2016,
             2016,
             2016,
             2016,
             2016,
             2016,
             2016,
             2016,
             2016,
             2016,
             2016,
             2016,
             2016,
             2016,
             2016,
             2016
            ],
            "sizemode": "area",
            "sizeref": 20.17,
            "symbol": "circle"
           },
           "mode": "markers",
           "name": "",
           "showlegend": false,
           "type": "scattergeo"
          }
         ],
         "name": "2016"
        },
        {
         "data": [
          {
           "customdata": [
            [
             124,
             41.153332,
             20.168331
            ],
            [
             115252,
             47.516231,
             14.550072
            ],
            [
             2155,
             53.709807,
             27.953389
            ],
            [
             42158,
             50.503887,
             4.469936
            ],
            [
             19166,
             42.733883,
             25.48583
            ],
            [
             508,
             45.1,
             15.2
            ],
            [
             9790,
             35.126413,
             33.429859
            ],
            [
             35668,
             56.26392,
             9.501785
            ],
            [
             405,
             58.595272,
             25.013607
            ],
            [
             20793,
             61.92411,
             25.748151
            ],
            [
             337158,
             46.227638,
             2.213749
            ],
            [
             970357,
             51.165691,
             10.451526
            ],
            [
             38988,
             39.074208,
             21.824312
            ],
            [
             5671,
             47.162494,
             19.503304
            ],
            [
             361,
             64.963051,
             -19.020835
            ],
            [
             6394,
             53.41291,
             -8.24389
            ],
            [
             167330,
             41.87194,
             12.56738
            ],
            [
             2020,
             49.815273,
             6.129583
            ],
            [
             7994,
             35.937496,
             14.375416
            ],
            [
             103843,
             52.132633,
             5.291266
            ],
            [
             414,
             41.608635,
             21.745275
            ],
            [
             59230,
             60.472024,
             8.468946
            ],
            [
             12225,
             51.919438,
             19.145136
            ],
            [
             1619,
             39.399872,
             -8.224454
            ],
            [
             3911,
             45.943161,
             24.96676
            ],
            [
             32205,
             44.016521,
             21.005859
            ],
            [
             912,
             48.669026,
             19.699024
            ],
            [
             611,
             46.151241,
             14.995463
            ],
            [
             17541,
             40.463667,
             -3.74922
            ],
            [
             240954,
             60.128161,
             18.643501
            ],
            [
             93030,
             46.818188,
             8.227512
            ],
            [
             3241,
             48.379433,
             31.16558
            ],
            [
             121821,
             55.378051,
             -3.435973
            ]
           ],
           "geo": "geo",
           "hovertemplate": "<b>%{hovertext}</b><br><br>Year=%{marker.size}<br>Refugees under UNHCR's mandate=%{marker.color}<extra></extra>",
           "hovertext": [
            "Albania",
            "Austria",
            "Belarus",
            "Belgium",
            "Bulgaria",
            "Croatia",
            "Cyprus",
            "Denmark",
            "Estonia",
            "Finland",
            "France",
            "Germany",
            "Greece",
            "Hungary",
            "Iceland",
            "Ireland",
            "Italy",
            "Luxembourg",
            "Malta",
            "Netherlands",
            "North Macedonia",
            "Norway",
            "Poland",
            "Portugal",
            "Romania",
            "Serbia",
            "Slovakia",
            "Slovenia",
            "Spain",
            "Sweden",
            "Switzerland",
            "Ukraine",
            "United Kingdom"
           ],
           "lat": [
            41.153332,
            47.516231,
            53.709807,
            50.503887,
            42.733883,
            45.1,
            35.126413,
            56.26392,
            58.595272,
            61.92411,
            46.227638,
            51.165691,
            39.074208,
            47.162494,
            64.963051,
            53.41291,
            41.87194,
            49.815273,
            35.937496,
            52.132633,
            41.608635,
            60.472024,
            51.919438,
            39.399872,
            45.943161,
            44.016521,
            48.669026,
            46.151241,
            40.463667,
            60.128161,
            46.818188,
            48.379433,
            55.378051
           ],
           "legendgroup": "",
           "lon": [
            20.168331,
            14.550072,
            27.953389,
            4.469936,
            25.48583,
            15.2,
            33.429859,
            9.501785,
            25.013607,
            25.748151,
            2.213749,
            10.451526,
            21.824312,
            19.503304,
            -19.020835,
            -8.24389,
            12.56738,
            6.129583,
            14.375416,
            5.291266,
            21.745275,
            8.468946,
            19.145136,
            -8.224454,
            24.96676,
            21.005859,
            19.699024,
            14.995463,
            -3.74922,
            18.643501,
            8.227512,
            31.16558,
            -3.435973
           ],
           "marker": {
            "color": [
             124,
             115252,
             2155,
             42158,
             19166,
             508,
             9790,
             35668,
             405,
             20793,
             337158,
             970357,
             38988,
             5671,
             361,
             6394,
             167330,
             2020,
             7994,
             103843,
             414,
             59230,
             12225,
             1619,
             3911,
             32205,
             912,
             611,
             17541,
             240954,
             93030,
             3241,
             121821
            ],
            "coloraxis": "coloraxis",
            "size": [
             2017,
             2017,
             2017,
             2017,
             2017,
             2017,
             2017,
             2017,
             2017,
             2017,
             2017,
             2017,
             2017,
             2017,
             2017,
             2017,
             2017,
             2017,
             2017,
             2017,
             2017,
             2017,
             2017,
             2017,
             2017,
             2017,
             2017,
             2017,
             2017,
             2017,
             2017,
             2017,
             2017
            ],
            "sizemode": "area",
            "sizeref": 20.17,
            "symbol": "circle"
           },
           "mode": "markers",
           "name": "",
           "showlegend": false,
           "type": "scattergeo"
          }
         ],
         "name": "2017"
        }
       ],
       "layout": {
        "coloraxis": {
         "colorbar": {
          "title": {
           "text": "Refugees under UNHCR's mandate"
          }
         },
         "colorscale": [
          [
           0,
           "rgb(255,247,236)"
          ],
          [
           0.125,
           "rgb(254,232,200)"
          ],
          [
           0.25,
           "rgb(253,212,158)"
          ],
          [
           0.375,
           "rgb(253,187,132)"
          ],
          [
           0.5,
           "rgb(252,141,89)"
          ],
          [
           0.625,
           "rgb(239,101,72)"
          ],
          [
           0.75,
           "rgb(215,48,31)"
          ],
          [
           0.875,
           "rgb(179,0,0)"
          ],
          [
           1,
           "rgb(127,0,0)"
          ]
         ]
        },
        "geo": {
         "bgcolor": "whitesmoke",
         "center": {},
         "countrycolor": "whitesmoke",
         "domain": {
          "x": [
           0,
           1
          ],
          "y": [
           0,
           1
          ]
         },
         "landcolor": "#26a783",
         "projection": {
          "type": "natural earth"
         },
         "resolution": 50,
         "scope": "europe",
         "showcountries": true,
         "visible": true
        },
        "height": 650,
        "legend": {
         "itemsizing": "constant",
         "tracegroupgap": 0
        },
        "margin": {
         "t": 60
        },
        "sliders": [
         {
          "active": 0,
          "currentvalue": {
           "prefix": "Year="
          },
          "len": 0.9,
          "pad": {
           "b": 10,
           "t": 60
          },
          "steps": [
           {
            "args": [
             [
              "2000"
             ],
             {
              "frame": {
               "duration": 0,
               "redraw": true
              },
              "fromcurrent": true,
              "mode": "immediate",
              "transition": {
               "duration": 0,
               "easing": "linear"
              }
             }
            ],
            "label": "2000",
            "method": "animate"
           },
           {
            "args": [
             [
              "2001"
             ],
             {
              "frame": {
               "duration": 0,
               "redraw": true
              },
              "fromcurrent": true,
              "mode": "immediate",
              "transition": {
               "duration": 0,
               "easing": "linear"
              }
             }
            ],
            "label": "2001",
            "method": "animate"
           },
           {
            "args": [
             [
              "2002"
             ],
             {
              "frame": {
               "duration": 0,
               "redraw": true
              },
              "fromcurrent": true,
              "mode": "immediate",
              "transition": {
               "duration": 0,
               "easing": "linear"
              }
             }
            ],
            "label": "2002",
            "method": "animate"
           },
           {
            "args": [
             [
              "2003"
             ],
             {
              "frame": {
               "duration": 0,
               "redraw": true
              },
              "fromcurrent": true,
              "mode": "immediate",
              "transition": {
               "duration": 0,
               "easing": "linear"
              }
             }
            ],
            "label": "2003",
            "method": "animate"
           },
           {
            "args": [
             [
              "2004"
             ],
             {
              "frame": {
               "duration": 0,
               "redraw": true
              },
              "fromcurrent": true,
              "mode": "immediate",
              "transition": {
               "duration": 0,
               "easing": "linear"
              }
             }
            ],
            "label": "2004",
            "method": "animate"
           },
           {
            "args": [
             [
              "2005"
             ],
             {
              "frame": {
               "duration": 0,
               "redraw": true
              },
              "fromcurrent": true,
              "mode": "immediate",
              "transition": {
               "duration": 0,
               "easing": "linear"
              }
             }
            ],
            "label": "2005",
            "method": "animate"
           },
           {
            "args": [
             [
              "2006"
             ],
             {
              "frame": {
               "duration": 0,
               "redraw": true
              },
              "fromcurrent": true,
              "mode": "immediate",
              "transition": {
               "duration": 0,
               "easing": "linear"
              }
             }
            ],
            "label": "2006",
            "method": "animate"
           },
           {
            "args": [
             [
              "2007"
             ],
             {
              "frame": {
               "duration": 0,
               "redraw": true
              },
              "fromcurrent": true,
              "mode": "immediate",
              "transition": {
               "duration": 0,
               "easing": "linear"
              }
             }
            ],
            "label": "2007",
            "method": "animate"
           },
           {
            "args": [
             [
              "2008"
             ],
             {
              "frame": {
               "duration": 0,
               "redraw": true
              },
              "fromcurrent": true,
              "mode": "immediate",
              "transition": {
               "duration": 0,
               "easing": "linear"
              }
             }
            ],
            "label": "2008",
            "method": "animate"
           },
           {
            "args": [
             [
              "2009"
             ],
             {
              "frame": {
               "duration": 0,
               "redraw": true
              },
              "fromcurrent": true,
              "mode": "immediate",
              "transition": {
               "duration": 0,
               "easing": "linear"
              }
             }
            ],
            "label": "2009",
            "method": "animate"
           },
           {
            "args": [
             [
              "2010"
             ],
             {
              "frame": {
               "duration": 0,
               "redraw": true
              },
              "fromcurrent": true,
              "mode": "immediate",
              "transition": {
               "duration": 0,
               "easing": "linear"
              }
             }
            ],
            "label": "2010",
            "method": "animate"
           },
           {
            "args": [
             [
              "2011"
             ],
             {
              "frame": {
               "duration": 0,
               "redraw": true
              },
              "fromcurrent": true,
              "mode": "immediate",
              "transition": {
               "duration": 0,
               "easing": "linear"
              }
             }
            ],
            "label": "2011",
            "method": "animate"
           },
           {
            "args": [
             [
              "2012"
             ],
             {
              "frame": {
               "duration": 0,
               "redraw": true
              },
              "fromcurrent": true,
              "mode": "immediate",
              "transition": {
               "duration": 0,
               "easing": "linear"
              }
             }
            ],
            "label": "2012",
            "method": "animate"
           },
           {
            "args": [
             [
              "2013"
             ],
             {
              "frame": {
               "duration": 0,
               "redraw": true
              },
              "fromcurrent": true,
              "mode": "immediate",
              "transition": {
               "duration": 0,
               "easing": "linear"
              }
             }
            ],
            "label": "2013",
            "method": "animate"
           },
           {
            "args": [
             [
              "2014"
             ],
             {
              "frame": {
               "duration": 0,
               "redraw": true
              },
              "fromcurrent": true,
              "mode": "immediate",
              "transition": {
               "duration": 0,
               "easing": "linear"
              }
             }
            ],
            "label": "2014",
            "method": "animate"
           },
           {
            "args": [
             [
              "2015"
             ],
             {
              "frame": {
               "duration": 0,
               "redraw": true
              },
              "fromcurrent": true,
              "mode": "immediate",
              "transition": {
               "duration": 0,
               "easing": "linear"
              }
             }
            ],
            "label": "2015",
            "method": "animate"
           },
           {
            "args": [
             [
              "2016"
             ],
             {
              "frame": {
               "duration": 0,
               "redraw": true
              },
              "fromcurrent": true,
              "mode": "immediate",
              "transition": {
               "duration": 0,
               "easing": "linear"
              }
             }
            ],
            "label": "2016",
            "method": "animate"
           },
           {
            "args": [
             [
              "2017"
             ],
             {
              "frame": {
               "duration": 0,
               "redraw": true
              },
              "fromcurrent": true,
              "mode": "immediate",
              "transition": {
               "duration": 0,
               "easing": "linear"
              }
             }
            ],
            "label": "2017",
            "method": "animate"
           }
          ],
          "x": 0.1,
          "xanchor": "left",
          "y": 0,
          "yanchor": "top"
         }
        ],
        "template": {
         "data": {
          "bar": [
           {
            "error_x": {
             "color": "#2a3f5f"
            },
            "error_y": {
             "color": "#2a3f5f"
            },
            "marker": {
             "line": {
              "color": "#E5ECF6",
              "width": 0.5
             },
             "pattern": {
              "fillmode": "overlay",
              "size": 10,
              "solidity": 0.2
             }
            },
            "type": "bar"
           }
          ],
          "barpolar": [
           {
            "marker": {
             "line": {
              "color": "#E5ECF6",
              "width": 0.5
             },
             "pattern": {
              "fillmode": "overlay",
              "size": 10,
              "solidity": 0.2
             }
            },
            "type": "barpolar"
           }
          ],
          "carpet": [
           {
            "aaxis": {
             "endlinecolor": "#2a3f5f",
             "gridcolor": "white",
             "linecolor": "white",
             "minorgridcolor": "white",
             "startlinecolor": "#2a3f5f"
            },
            "baxis": {
             "endlinecolor": "#2a3f5f",
             "gridcolor": "white",
             "linecolor": "white",
             "minorgridcolor": "white",
             "startlinecolor": "#2a3f5f"
            },
            "type": "carpet"
           }
          ],
          "choropleth": [
           {
            "colorbar": {
             "outlinewidth": 0,
             "ticks": ""
            },
            "type": "choropleth"
           }
          ],
          "contour": [
           {
            "colorbar": {
             "outlinewidth": 0,
             "ticks": ""
            },
            "colorscale": [
             [
              0,
              "#0d0887"
             ],
             [
              0.1111111111111111,
              "#46039f"
             ],
             [
              0.2222222222222222,
              "#7201a8"
             ],
             [
              0.3333333333333333,
              "#9c179e"
             ],
             [
              0.4444444444444444,
              "#bd3786"
             ],
             [
              0.5555555555555556,
              "#d8576b"
             ],
             [
              0.6666666666666666,
              "#ed7953"
             ],
             [
              0.7777777777777778,
              "#fb9f3a"
             ],
             [
              0.8888888888888888,
              "#fdca26"
             ],
             [
              1,
              "#f0f921"
             ]
            ],
            "type": "contour"
           }
          ],
          "contourcarpet": [
           {
            "colorbar": {
             "outlinewidth": 0,
             "ticks": ""
            },
            "type": "contourcarpet"
           }
          ],
          "heatmap": [
           {
            "colorbar": {
             "outlinewidth": 0,
             "ticks": ""
            },
            "colorscale": [
             [
              0,
              "#0d0887"
             ],
             [
              0.1111111111111111,
              "#46039f"
             ],
             [
              0.2222222222222222,
              "#7201a8"
             ],
             [
              0.3333333333333333,
              "#9c179e"
             ],
             [
              0.4444444444444444,
              "#bd3786"
             ],
             [
              0.5555555555555556,
              "#d8576b"
             ],
             [
              0.6666666666666666,
              "#ed7953"
             ],
             [
              0.7777777777777778,
              "#fb9f3a"
             ],
             [
              0.8888888888888888,
              "#fdca26"
             ],
             [
              1,
              "#f0f921"
             ]
            ],
            "type": "heatmap"
           }
          ],
          "heatmapgl": [
           {
            "colorbar": {
             "outlinewidth": 0,
             "ticks": ""
            },
            "colorscale": [
             [
              0,
              "#0d0887"
             ],
             [
              0.1111111111111111,
              "#46039f"
             ],
             [
              0.2222222222222222,
              "#7201a8"
             ],
             [
              0.3333333333333333,
              "#9c179e"
             ],
             [
              0.4444444444444444,
              "#bd3786"
             ],
             [
              0.5555555555555556,
              "#d8576b"
             ],
             [
              0.6666666666666666,
              "#ed7953"
             ],
             [
              0.7777777777777778,
              "#fb9f3a"
             ],
             [
              0.8888888888888888,
              "#fdca26"
             ],
             [
              1,
              "#f0f921"
             ]
            ],
            "type": "heatmapgl"
           }
          ],
          "histogram": [
           {
            "marker": {
             "pattern": {
              "fillmode": "overlay",
              "size": 10,
              "solidity": 0.2
             }
            },
            "type": "histogram"
           }
          ],
          "histogram2d": [
           {
            "colorbar": {
             "outlinewidth": 0,
             "ticks": ""
            },
            "colorscale": [
             [
              0,
              "#0d0887"
             ],
             [
              0.1111111111111111,
              "#46039f"
             ],
             [
              0.2222222222222222,
              "#7201a8"
             ],
             [
              0.3333333333333333,
              "#9c179e"
             ],
             [
              0.4444444444444444,
              "#bd3786"
             ],
             [
              0.5555555555555556,
              "#d8576b"
             ],
             [
              0.6666666666666666,
              "#ed7953"
             ],
             [
              0.7777777777777778,
              "#fb9f3a"
             ],
             [
              0.8888888888888888,
              "#fdca26"
             ],
             [
              1,
              "#f0f921"
             ]
            ],
            "type": "histogram2d"
           }
          ],
          "histogram2dcontour": [
           {
            "colorbar": {
             "outlinewidth": 0,
             "ticks": ""
            },
            "colorscale": [
             [
              0,
              "#0d0887"
             ],
             [
              0.1111111111111111,
              "#46039f"
             ],
             [
              0.2222222222222222,
              "#7201a8"
             ],
             [
              0.3333333333333333,
              "#9c179e"
             ],
             [
              0.4444444444444444,
              "#bd3786"
             ],
             [
              0.5555555555555556,
              "#d8576b"
             ],
             [
              0.6666666666666666,
              "#ed7953"
             ],
             [
              0.7777777777777778,
              "#fb9f3a"
             ],
             [
              0.8888888888888888,
              "#fdca26"
             ],
             [
              1,
              "#f0f921"
             ]
            ],
            "type": "histogram2dcontour"
           }
          ],
          "mesh3d": [
           {
            "colorbar": {
             "outlinewidth": 0,
             "ticks": ""
            },
            "type": "mesh3d"
           }
          ],
          "parcoords": [
           {
            "line": {
             "colorbar": {
              "outlinewidth": 0,
              "ticks": ""
             }
            },
            "type": "parcoords"
           }
          ],
          "pie": [
           {
            "automargin": true,
            "type": "pie"
           }
          ],
          "scatter": [
           {
            "fillpattern": {
             "fillmode": "overlay",
             "size": 10,
             "solidity": 0.2
            },
            "type": "scatter"
           }
          ],
          "scatter3d": [
           {
            "line": {
             "colorbar": {
              "outlinewidth": 0,
              "ticks": ""
             }
            },
            "marker": {
             "colorbar": {
              "outlinewidth": 0,
              "ticks": ""
             }
            },
            "type": "scatter3d"
           }
          ],
          "scattercarpet": [
           {
            "marker": {
             "colorbar": {
              "outlinewidth": 0,
              "ticks": ""
             }
            },
            "type": "scattercarpet"
           }
          ],
          "scattergeo": [
           {
            "marker": {
             "colorbar": {
              "outlinewidth": 0,
              "ticks": ""
             }
            },
            "type": "scattergeo"
           }
          ],
          "scattergl": [
           {
            "marker": {
             "colorbar": {
              "outlinewidth": 0,
              "ticks": ""
             }
            },
            "type": "scattergl"
           }
          ],
          "scattermapbox": [
           {
            "marker": {
             "colorbar": {
              "outlinewidth": 0,
              "ticks": ""
             }
            },
            "type": "scattermapbox"
           }
          ],
          "scatterpolar": [
           {
            "marker": {
             "colorbar": {
              "outlinewidth": 0,
              "ticks": ""
             }
            },
            "type": "scatterpolar"
           }
          ],
          "scatterpolargl": [
           {
            "marker": {
             "colorbar": {
              "outlinewidth": 0,
              "ticks": ""
             }
            },
            "type": "scatterpolargl"
           }
          ],
          "scatterternary": [
           {
            "marker": {
             "colorbar": {
              "outlinewidth": 0,
              "ticks": ""
             }
            },
            "type": "scatterternary"
           }
          ],
          "surface": [
           {
            "colorbar": {
             "outlinewidth": 0,
             "ticks": ""
            },
            "colorscale": [
             [
              0,
              "#0d0887"
             ],
             [
              0.1111111111111111,
              "#46039f"
             ],
             [
              0.2222222222222222,
              "#7201a8"
             ],
             [
              0.3333333333333333,
              "#9c179e"
             ],
             [
              0.4444444444444444,
              "#bd3786"
             ],
             [
              0.5555555555555556,
              "#d8576b"
             ],
             [
              0.6666666666666666,
              "#ed7953"
             ],
             [
              0.7777777777777778,
              "#fb9f3a"
             ],
             [
              0.8888888888888888,
              "#fdca26"
             ],
             [
              1,
              "#f0f921"
             ]
            ],
            "type": "surface"
           }
          ],
          "table": [
           {
            "cells": {
             "fill": {
              "color": "#EBF0F8"
             },
             "line": {
              "color": "white"
             }
            },
            "header": {
             "fill": {
              "color": "#C8D4E3"
             },
             "line": {
              "color": "white"
             }
            },
            "type": "table"
           }
          ]
         },
         "layout": {
          "annotationdefaults": {
           "arrowcolor": "#2a3f5f",
           "arrowhead": 0,
           "arrowwidth": 1
          },
          "autotypenumbers": "strict",
          "coloraxis": {
           "colorbar": {
            "outlinewidth": 0,
            "ticks": ""
           }
          },
          "colorscale": {
           "diverging": [
            [
             0,
             "#8e0152"
            ],
            [
             0.1,
             "#c51b7d"
            ],
            [
             0.2,
             "#de77ae"
            ],
            [
             0.3,
             "#f1b6da"
            ],
            [
             0.4,
             "#fde0ef"
            ],
            [
             0.5,
             "#f7f7f7"
            ],
            [
             0.6,
             "#e6f5d0"
            ],
            [
             0.7,
             "#b8e186"
            ],
            [
             0.8,
             "#7fbc41"
            ],
            [
             0.9,
             "#4d9221"
            ],
            [
             1,
             "#276419"
            ]
           ],
           "sequential": [
            [
             0,
             "#0d0887"
            ],
            [
             0.1111111111111111,
             "#46039f"
            ],
            [
             0.2222222222222222,
             "#7201a8"
            ],
            [
             0.3333333333333333,
             "#9c179e"
            ],
            [
             0.4444444444444444,
             "#bd3786"
            ],
            [
             0.5555555555555556,
             "#d8576b"
            ],
            [
             0.6666666666666666,
             "#ed7953"
            ],
            [
             0.7777777777777778,
             "#fb9f3a"
            ],
            [
             0.8888888888888888,
             "#fdca26"
            ],
            [
             1,
             "#f0f921"
            ]
           ],
           "sequentialminus": [
            [
             0,
             "#0d0887"
            ],
            [
             0.1111111111111111,
             "#46039f"
            ],
            [
             0.2222222222222222,
             "#7201a8"
            ],
            [
             0.3333333333333333,
             "#9c179e"
            ],
            [
             0.4444444444444444,
             "#bd3786"
            ],
            [
             0.5555555555555556,
             "#d8576b"
            ],
            [
             0.6666666666666666,
             "#ed7953"
            ],
            [
             0.7777777777777778,
             "#fb9f3a"
            ],
            [
             0.8888888888888888,
             "#fdca26"
            ],
            [
             1,
             "#f0f921"
            ]
           ]
          },
          "colorway": [
           "#636efa",
           "#EF553B",
           "#00cc96",
           "#ab63fa",
           "#FFA15A",
           "#19d3f3",
           "#FF6692",
           "#B6E880",
           "#FF97FF",
           "#FECB52"
          ],
          "font": {
           "color": "#2a3f5f"
          },
          "geo": {
           "bgcolor": "white",
           "lakecolor": "white",
           "landcolor": "#E5ECF6",
           "showlakes": true,
           "showland": true,
           "subunitcolor": "white"
          },
          "hoverlabel": {
           "align": "left"
          },
          "hovermode": "closest",
          "mapbox": {
           "style": "light"
          },
          "paper_bgcolor": "white",
          "plot_bgcolor": "#E5ECF6",
          "polar": {
           "angularaxis": {
            "gridcolor": "white",
            "linecolor": "white",
            "ticks": ""
           },
           "bgcolor": "#E5ECF6",
           "radialaxis": {
            "gridcolor": "white",
            "linecolor": "white",
            "ticks": ""
           }
          },
          "scene": {
           "xaxis": {
            "backgroundcolor": "#E5ECF6",
            "gridcolor": "white",
            "gridwidth": 2,
            "linecolor": "white",
            "showbackground": true,
            "ticks": "",
            "zerolinecolor": "white"
           },
           "yaxis": {
            "backgroundcolor": "#E5ECF6",
            "gridcolor": "white",
            "gridwidth": 2,
            "linecolor": "white",
            "showbackground": true,
            "ticks": "",
            "zerolinecolor": "white"
           },
           "zaxis": {
            "backgroundcolor": "#E5ECF6",
            "gridcolor": "white",
            "gridwidth": 2,
            "linecolor": "white",
            "showbackground": true,
            "ticks": "",
            "zerolinecolor": "white"
           }
          },
          "shapedefaults": {
           "line": {
            "color": "#2a3f5f"
           }
          },
          "ternary": {
           "aaxis": {
            "gridcolor": "white",
            "linecolor": "white",
            "ticks": ""
           },
           "baxis": {
            "gridcolor": "white",
            "linecolor": "white",
            "ticks": ""
           },
           "bgcolor": "#E5ECF6",
           "caxis": {
            "gridcolor": "white",
            "linecolor": "white",
            "ticks": ""
           }
          },
          "title": {
           "x": 0.05
          },
          "xaxis": {
           "automargin": true,
           "gridcolor": "white",
           "linecolor": "white",
           "ticks": "",
           "title": {
            "standoff": 15
           },
           "zerolinecolor": "white",
           "zerolinewidth": 2
          },
          "yaxis": {
           "automargin": true,
           "gridcolor": "white",
           "linecolor": "white",
           "ticks": "",
           "title": {
            "standoff": 15
           },
           "zerolinecolor": "white",
           "zerolinewidth": 2
          }
         }
        },
        "title": {
         "text": "Amount of Refugees in Europe between 2000 and 2017"
        },
        "updatemenus": [
         {
          "buttons": [
           {
            "args": [
             null,
             {
              "frame": {
               "duration": 500,
               "redraw": true
              },
              "fromcurrent": true,
              "mode": "immediate",
              "transition": {
               "duration": 500,
               "easing": "linear"
              }
             }
            ],
            "label": "&#9654;",
            "method": "animate"
           },
           {
            "args": [
             [
              null
             ],
             {
              "frame": {
               "duration": 0,
               "redraw": true
              },
              "fromcurrent": true,
              "mode": "immediate",
              "transition": {
               "duration": 0,
               "easing": "linear"
              }
             }
            ],
            "label": "&#9724;",
            "method": "animate"
           }
          ],
          "direction": "left",
          "pad": {
           "r": 10,
           "t": 70
          },
          "showactive": false,
          "type": "buttons",
          "x": 0.1,
          "xanchor": "right",
          "y": 0,
          "yanchor": "top"
         }
        ],
        "width": 950
       }
      }
     },
     "metadata": {},
     "output_type": "display_data"
    }
   ],
   "source": [
    "# Step 1: Load and filter the relevant datasets\n",
    "data_raw = pd.read_csv('migranten_eu.csv')\n",
    "data_raw.drop(data_raw.loc[data_raw['Year']==1999].index, inplace=True)\n",
    "data_raw.head(5)\n",
    "\n",
    "# Step 2: Migrants total Europe\n",
    "migranten_totaal_europa = data_raw[['Year', 'Country of asylum', \"Refugees under UNHCR's mandate\"]]\n",
    "\n",
    "migranten_totaal_europa['Country of asylum'] = migranten_totaal_europa['Country of asylum'].replace({'Netherlands (Kingdom of the)': 'Netherlands'})\n",
    "migranten_totaal_europa['Country of asylum'] = migranten_totaal_europa['Country of asylum'].replace({'United Kingdom of Great Britain and Northern Ireland': 'United Kingdom'})\n",
    "migranten_totaal_europa['Country of asylum'] = migranten_totaal_europa['Country of asylum'].replace({'Serbia and Kosovo: S/RES/1244 (1999)': 'Serbia'})\n",
    "\n",
    "migranten_totaal_europa.head(5)\n",
    "\n",
    "# Step 3: Sum migrants total Europe grouped by year and country\n",
    "df2 = migranten_totaal_europa.groupby(['Year','Country of asylum'], as_index=False)[\"Refugees under UNHCR's mandate\"].sum()\n",
    "print(df2)\n",
    "#df2.to_csv('migranten_per_jaar_per_land.csv')\n",
    "\n",
    "# Step 4: Sum migrants total Europe grouped by year\n",
    "df3 = migranten_totaal_europa.groupby(['Year'], as_index=False)[\"Refugees under UNHCR's mandate\"].sum()\n",
    "print(df3)\n",
    "#df3.to_csv('migranten_per_jaar_europa.csv')\n",
    "\n",
    "# Step 5: Sum migrants total Europe grouped by country\n",
    "df4 = migranten_totaal_europa.groupby(['Country of asylum'], as_index=False)[\"Refugees under UNHCR's mandate\"].sum()\n",
    "print(df4)\n",
    "#df4.to_csv('migranten_per_land_totaal.csv')\n",
    "\n",
    "# Step 6: Load longitude and latitude data for countries\n",
    "data_lon_lat = pd.read_csv('world_country_and_usa_states_latitude_and_longitude_values.csv').rename(columns={'country': 'Country of asylum'})\n",
    "data_lon_lat['Country of asylum'] = data_lon_lat['Country of asylum'].replace({'Macedonia [FYROM]': 'North Macedonia'})\n",
    "data_lon_lat2 = data_lon_lat[['latitude', 'longitude', 'Country of asylum']]\n",
    "data_lon_lat2.head(5)\n",
    "\n",
    "# Step 7: Load terrorism data by country and year\n",
    "data_ter = pd.read_csv('terrorism_eu.csv').rename(columns={'country_txt': 'Country of asylum', 'iyear': 'Year', 'multiple': 'Terrorist attacks'})\n",
    "data_ter['Country of asylum'] = data_ter['Country of asylum'].replace({'Macedonia': 'North Macedonia'})\n",
    "data_ter['Country of asylum'] = data_ter['Country of asylum'].replace({'Slovak Republic': 'Slovakia'})\n",
    "data_ter['Country of asylum'] = data_ter['Country of asylum'].replace({'Serbia-Montenegro': 'Serbia'})\n",
    "data_ter = data_ter[['Country of asylum', 'Year', 'Terrorist attacks']]\n",
    "data_ter.head(5)\n",
    "\n",
    "# Step 8: Merge the data\n",
    "df_half = df2.merge(data_lon_lat2, on='Country of asylum')\n",
    "df_full = pd.merge(df_half, data_ter,  how='left', left_on=['Country of asylum','Year'], right_on = ['Country of asylum','Year']).fillna(0)\n",
    "df_full.head(500)\n",
    "#df_full.to_csv('test.csv')\n",
    "\n",
    "# Create the map figure for terrorist attacks\n",
    "fig_ter = px.scatter_geo(df_full, \n",
    "                     lat='latitude',\n",
    "                     lon='longitude',\n",
    "                     color=\"Terrorist attacks\",\n",
    "                     color_continuous_scale=px.colors.sequential.OrRd,\n",
    "                     height=650,\n",
    "                     width=950,\n",
    "                     hover_name=\"Country of asylum\",\n",
    "                     hover_data={\n",
    "                                \"Terrorist attacks\":True,\n",
    "                                \"latitude\":False, \n",
    "                                \"longitude\":False,\n",
    "                                },\n",
    "                     projection=\"natural earth\",\n",
    "                     scope=\"europe\",\n",
    "                     size=df_full[\"Year\"],\n",
    "                     size_max=10,\n",
    "                     animation_frame=\"Year\",\n",
    "                    )\n",
    "\n",
    "fig_ter.update_geos(\n",
    "    visible=True, \n",
    "    resolution=50,\n",
    "    showcountries=True, \n",
    "    countrycolor=\"whitesmoke\",\n",
    "    bgcolor='whitesmoke',\n",
    "    landcolor='#26a783',\n",
    ")\n",
    "\n",
    "fig_ter.update_layout(\n",
    "    title='Terrorist Attacks in Europe between 2000 and 2017',\n",
    ")\n",
    "\n",
    "fig_ter.update_traces(marker=dict(line=dict(width=0.5, color='black')))\n",
    "fig_ter.show()\n",
    "\n",
    "# Create the map figure for refugees\n",
    "fig_ref = px.scatter_geo(df_full, \n",
    "                     lat='latitude',\n",
    "                     lon='longitude',\n",
    "                     color=\"Refugees under UNHCR's mandate\",\n",
    "                     color_continuous_scale=px.colors.sequential.OrRd,\n",
    "                     height=650,\n",
    "                     width=950,\n",
    "                     hover_name=\"Country of asylum\",\n",
    "                     hover_data={\n",
    "                                \"Refugees under UNHCR's mandate\":True,\n",
    "                                \"latitude\":False, \n",
    "                                \"longitude\":False,\n",
    "                                },\n",
    "                     projection=\"natural earth\",\n",
    "                     scope=\"europe\",\n",
    "                     size=df_full[\"Year\"],\n",
    "                     size_max=10,\n",
    "                     animation_frame=\"Year\",\n",
    "                    )\n",
    "\n",
    "fig_ref.update_geos(\n",
    "    visible=True, \n",
    "    resolution=50,\n",
    "    showcountries=True, \n",
    "    countrycolor=\"whitesmoke\",\n",
    "    bgcolor='whitesmoke',\n",
    "    landcolor='#26a783',\n",
    ")\n",
    "\n",
    "fig_ref.update_layout(\n",
    "    title='Amount of Refugees in Europe between 2000 and 2017',\n",
    ")\n",
    "\n",
    "fig_ref.update_traces(marker=dict(line=dict(width=0.5, color='black')))\n",
    "fig_ref.show()"
   ]
  },
  {
   "attachments": {},
   "cell_type": "markdown",
   "id": "921df77f",
   "metadata": {},
   "source": [
    "## Reflectie \n",
    "\n",
    "x"
   ]
  },
  {
   "attachments": {},
   "cell_type": "markdown",
   "id": "8799e8f6",
   "metadata": {},
   "source": [
    "## Werk verdeling "
   ]
  },
  {
   "attachments": {},
   "cell_type": "markdown",
   "id": "8a61224c",
   "metadata": {},
   "source": [
    "## Referenties \n",
    "x\n",
    "x\n",
    "x"
   ]
  },
  {
   "attachments": {},
   "cell_type": "markdown",
   "id": "f377761c-1ed5-440a-8c20-eaf6ab7c67bb",
   "metadata": {},
   "source": [
    "## Appendix\n",
    "\n",
    "Generative AI (ChatGPT with GPT 3.5) is used to facilitate the creation of this document, as shown in the table below.\n",
    "\n",
    "| Reasons of Usage | In which parts? | Which prompts were used? |\n",
    "| ------------------------ | --------------------------------- | -------------------------------------------- |\n",
    "| Brainstorm research questions and identify keywords for further search | The entire project framing | \"Give keywords about the current debate in climate change with brief explanations\" |\n",
    "| Improve writing clarity and enhance readability | All sections | \"Edit the following text to make it more clear. Do not alter the meaning.\" |\n",
    "| Enhance readability | All sections | \"Revise the paragraph to improve readability.\" |\n",
    "| Ensure grammatical accuracy |  All sections | \"Correct any grammatical errors in the text.\" |\n",
    "| Provide alternative phrasing | Descriptions of the perspectives | \"Suggest alternative phrases for better clarity.\" |\n",
    "| Optimize sentence structure | All sections | \"Restructure the sentence for better flow.\" |\n",
    "| Condense lengthy sentences | All sections | \"Simplify the following sentences without losing important information.\"|\n",
    "\n",
    "> *Table 1: Usage of generative AI to facilitate the creation of this document.*"
   ]
  },
  {
   "cell_type": "code",
   "execution_count": null,
   "id": "8352489a",
   "metadata": {},
   "outputs": [],
   "source": []
  },
  {
   "cell_type": "code",
   "execution_count": 61,
   "id": "4292f4ef",
   "metadata": {},
   "outputs": [
    {
     "name": "stdout",
     "output_type": "stream",
     "text": [
      "     Year Country of asylum  Refugees under UNHCR's mandate\n",
      "0    2000           Albania                             521\n",
      "1    2000           Austria                           15493\n",
      "2    2000           Belarus                             453\n",
      "3    2000           Belgium                           18821\n",
      "4    2000          Bulgaria                            1470\n",
      "..    ...               ...                             ...\n",
      "607  2017             Spain                           17541\n",
      "608  2017            Sweden                          240954\n",
      "609  2017       Switzerland                           93030\n",
      "610  2017           Ukraine                            3241\n",
      "611  2017    United Kingdom                          121821\n",
      "\n",
      "[612 rows x 3 columns]\n",
      "    Year  Refugees under UNHCR's mandate\n",
      "0   2000                         2310144\n",
      "1   2001                         2260823\n",
      "2   2002                         2292404\n",
      "3   2003                         2175223\n",
      "4   2004                         2053058\n",
      "5   2005                         1734871\n",
      "6   2006                         1593379\n",
      "7   2007                         1551624\n",
      "8   2008                         1578023\n",
      "9   2009                         1593630\n",
      "10  2010                         1561128\n",
      "11  2011                         1512698\n",
      "12  2012                         1502842\n",
      "13  2013                         1135961\n",
      "14  2014                         1254534\n",
      "15  2015                         1497563\n",
      "16  2016                         2071750\n",
      "17  2017                         2477489\n",
      "   Country of asylum  Refugees under UNHCR's mandate\n",
      "0            Albania                            2025\n",
      "1            Austria                          770125\n",
      "2            Belarus                           15098\n",
      "3            Belgium                          388680\n",
      "4           Bulgaria                          123279\n",
      "5            Croatia                           75793\n",
      "6             Cyprus                           53209\n",
      "7            Czechia                           41580\n",
      "8            Denmark                          675068\n",
      "9            Estonia                            1184\n",
      "10           Finland                          207237\n",
      "11            France                         3497948\n",
      "12           Germany                        11802786\n",
      "13            Greece                          161471\n",
      "14           Hungary                          103141\n",
      "15           Iceland                            2887\n",
      "16           Ireland                          121269\n",
      "17             Italy                         1023429\n",
      "18        Luxembourg                           35413\n",
      "19             Malta                           81095\n",
      "20       Netherlands                         1845708\n",
      "21   North Macedonia                           31584\n",
      "22            Norway                          819045\n",
      "23            Poland                          175119\n",
      "24          Portugal                           10100\n",
      "25           Romania                           33552\n",
      "26            Serbia                         2751047\n",
      "27          Slovakia                            9522\n",
      "28          Slovenia                           11678\n",
      "29             Spain                          116506\n",
      "30            Sweden                         2178677\n",
      "31       Switzerland                         1016466\n",
      "32           Ukraine                           65431\n",
      "33    United Kingdom                         3909992\n"
     ]
    },
    {
     "name": "stderr",
     "output_type": "stream",
     "text": [
      "/tmp/ipykernel_5261/1100708004.py:9: SettingWithCopyWarning:\n",
      "\n",
      "\n",
      "A value is trying to be set on a copy of a slice from a DataFrame.\n",
      "Try using .loc[row_indexer,col_indexer] = value instead\n",
      "\n",
      "See the caveats in the documentation: https://pandas.pydata.org/pandas-docs/stable/user_guide/indexing.html#returning-a-view-versus-a-copy\n",
      "\n",
      "/tmp/ipykernel_5261/1100708004.py:10: SettingWithCopyWarning:\n",
      "\n",
      "\n",
      "A value is trying to be set on a copy of a slice from a DataFrame.\n",
      "Try using .loc[row_indexer,col_indexer] = value instead\n",
      "\n",
      "See the caveats in the documentation: https://pandas.pydata.org/pandas-docs/stable/user_guide/indexing.html#returning-a-view-versus-a-copy\n",
      "\n",
      "/tmp/ipykernel_5261/1100708004.py:11: SettingWithCopyWarning:\n",
      "\n",
      "\n",
      "A value is trying to be set on a copy of a slice from a DataFrame.\n",
      "Try using .loc[row_indexer,col_indexer] = value instead\n",
      "\n",
      "See the caveats in the documentation: https://pandas.pydata.org/pandas-docs/stable/user_guide/indexing.html#returning-a-view-versus-a-copy\n",
      "\n"
     ]
    },
    {
     "data": {
      "application/vnd.plotly.v1+json": {
       "config": {
        "plotlyServerURL": "https://plot.ly"
       },
       "data": [
        {
         "customdata": [
          [
           2,
           41.153332,
           20.168331
          ],
          [
           0,
           47.516231,
           14.550072
          ],
          [
           0,
           53.709807,
           27.953389
          ],
          [
           0,
           50.503887,
           4.469936
          ],
          [
           2,
           42.733883,
           25.48583
          ],
          [
           2,
           45.1,
           15.2
          ],
          [
           2,
           35.126413,
           33.429859
          ],
          [
           0,
           56.26392,
           9.501785
          ],
          [
           0,
           58.595272,
           25.013607
          ],
          [
           0,
           61.92411,
           25.748151
          ],
          [
           28,
           46.227638,
           2.213749
          ],
          [
           8,
           51.165691,
           10.451526
          ],
          [
           28,
           39.074208,
           21.824312
          ],
          [
           0,
           47.162494,
           19.503304
          ],
          [
           0,
           64.963051,
           -19.020835
          ],
          [
           0,
           53.41291,
           -8.24389
          ],
          [
           8,
           41.87194,
           12.56738
          ],
          [
           0,
           49.815273,
           6.129583
          ],
          [
           0,
           35.937496,
           14.375416
          ],
          [
           1,
           52.132633,
           5.291266
          ],
          [
           3,
           41.608635,
           21.745275
          ],
          [
           0,
           60.472024,
           8.468946
          ],
          [
           0,
           51.919438,
           19.145136
          ],
          [
           0,
           39.399872,
           -8.224454
          ],
          [
           0,
           45.943161,
           24.96676
          ],
          [
           0,
           44.016521,
           21.005859
          ],
          [
           1,
           48.669026,
           19.699024
          ],
          [
           1,
           46.151241,
           14.995463
          ],
          [
           112,
           40.463667,
           -3.74922
          ],
          [
           1,
           60.128161,
           18.643501
          ],
          [
           4,
           46.818188,
           8.227512
          ],
          [
           1,
           48.379433,
           31.16558
          ],
          [
           61,
           55.378051,
           -3.435973
          ]
         ],
         "geo": "geo",
         "hovertemplate": "<b>%{hovertext}</b><br><br>Year=%{marker.size}<br>Terrorist attacks=%{marker.color}<extra></extra>",
         "hovertext": [
          "Albania",
          "Austria",
          "Belarus",
          "Belgium",
          "Bulgaria",
          "Croatia",
          "Cyprus",
          "Denmark",
          "Estonia",
          "Finland",
          "France",
          "Germany",
          "Greece",
          "Hungary",
          "Iceland",
          "Ireland",
          "Italy",
          "Luxembourg",
          "Malta",
          "Netherlands",
          "North Macedonia",
          "Norway",
          "Poland",
          "Portugal",
          "Romania",
          "Serbia",
          "Slovakia",
          "Slovenia",
          "Spain",
          "Sweden",
          "Switzerland",
          "Ukraine",
          "United Kingdom"
         ],
         "lat": [
          41.153332,
          47.516231,
          53.709807,
          50.503887,
          42.733883,
          45.1,
          35.126413,
          56.26392,
          58.595272,
          61.92411,
          46.227638,
          51.165691,
          39.074208,
          47.162494,
          64.963051,
          53.41291,
          41.87194,
          49.815273,
          35.937496,
          52.132633,
          41.608635,
          60.472024,
          51.919438,
          39.399872,
          45.943161,
          44.016521,
          48.669026,
          46.151241,
          40.463667,
          60.128161,
          46.818188,
          48.379433,
          55.378051
         ],
         "legendgroup": "",
         "lon": [
          20.168331,
          14.550072,
          27.953389,
          4.469936,
          25.48583,
          15.2,
          33.429859,
          9.501785,
          25.013607,
          25.748151,
          2.213749,
          10.451526,
          21.824312,
          19.503304,
          -19.020835,
          -8.24389,
          12.56738,
          6.129583,
          14.375416,
          5.291266,
          21.745275,
          8.468946,
          19.145136,
          -8.224454,
          24.96676,
          21.005859,
          19.699024,
          14.995463,
          -3.74922,
          18.643501,
          8.227512,
          31.16558,
          -3.435973
         ],
         "marker": {
          "color": [
           2,
           0,
           0,
           0,
           2,
           2,
           2,
           0,
           0,
           0,
           28,
           8,
           28,
           0,
           0,
           0,
           8,
           0,
           0,
           1,
           3,
           0,
           0,
           0,
           0,
           0,
           1,
           1,
           112,
           1,
           4,
           1,
           61
          ],
          "coloraxis": "coloraxis",
          "line": {
           "color": "black",
           "width": 0.5
          },
          "size": [
           2000,
           2000,
           2000,
           2000,
           2000,
           2000,
           2000,
           2000,
           2000,
           2000,
           2000,
           2000,
           2000,
           2000,
           2000,
           2000,
           2000,
           2000,
           2000,
           2000,
           2000,
           2000,
           2000,
           2000,
           2000,
           2000,
           2000,
           2000,
           2000,
           2000,
           2000,
           2000,
           2000
          ],
          "sizemode": "area",
          "sizeref": 20.17,
          "symbol": "circle"
         },
         "mode": "markers",
         "name": "",
         "showlegend": false,
         "type": "scattergeo"
        }
       ],
       "frames": [
        {
         "data": [
          {
           "customdata": [
            [
             2,
             41.153332,
             20.168331
            ],
            [
             0,
             47.516231,
             14.550072
            ],
            [
             0,
             53.709807,
             27.953389
            ],
            [
             0,
             50.503887,
             4.469936
            ],
            [
             2,
             42.733883,
             25.48583
            ],
            [
             2,
             45.1,
             15.2
            ],
            [
             2,
             35.126413,
             33.429859
            ],
            [
             0,
             56.26392,
             9.501785
            ],
            [
             0,
             58.595272,
             25.013607
            ],
            [
             0,
             61.92411,
             25.748151
            ],
            [
             28,
             46.227638,
             2.213749
            ],
            [
             8,
             51.165691,
             10.451526
            ],
            [
             28,
             39.074208,
             21.824312
            ],
            [
             0,
             47.162494,
             19.503304
            ],
            [
             0,
             64.963051,
             -19.020835
            ],
            [
             0,
             53.41291,
             -8.24389
            ],
            [
             8,
             41.87194,
             12.56738
            ],
            [
             0,
             49.815273,
             6.129583
            ],
            [
             0,
             35.937496,
             14.375416
            ],
            [
             1,
             52.132633,
             5.291266
            ],
            [
             3,
             41.608635,
             21.745275
            ],
            [
             0,
             60.472024,
             8.468946
            ],
            [
             0,
             51.919438,
             19.145136
            ],
            [
             0,
             39.399872,
             -8.224454
            ],
            [
             0,
             45.943161,
             24.96676
            ],
            [
             0,
             44.016521,
             21.005859
            ],
            [
             1,
             48.669026,
             19.699024
            ],
            [
             1,
             46.151241,
             14.995463
            ],
            [
             112,
             40.463667,
             -3.74922
            ],
            [
             1,
             60.128161,
             18.643501
            ],
            [
             4,
             46.818188,
             8.227512
            ],
            [
             1,
             48.379433,
             31.16558
            ],
            [
             61,
             55.378051,
             -3.435973
            ]
           ],
           "geo": "geo",
           "hovertemplate": "<b>%{hovertext}</b><br><br>Year=%{marker.size}<br>Terrorist attacks=%{marker.color}<extra></extra>",
           "hovertext": [
            "Albania",
            "Austria",
            "Belarus",
            "Belgium",
            "Bulgaria",
            "Croatia",
            "Cyprus",
            "Denmark",
            "Estonia",
            "Finland",
            "France",
            "Germany",
            "Greece",
            "Hungary",
            "Iceland",
            "Ireland",
            "Italy",
            "Luxembourg",
            "Malta",
            "Netherlands",
            "North Macedonia",
            "Norway",
            "Poland",
            "Portugal",
            "Romania",
            "Serbia",
            "Slovakia",
            "Slovenia",
            "Spain",
            "Sweden",
            "Switzerland",
            "Ukraine",
            "United Kingdom"
           ],
           "lat": [
            41.153332,
            47.516231,
            53.709807,
            50.503887,
            42.733883,
            45.1,
            35.126413,
            56.26392,
            58.595272,
            61.92411,
            46.227638,
            51.165691,
            39.074208,
            47.162494,
            64.963051,
            53.41291,
            41.87194,
            49.815273,
            35.937496,
            52.132633,
            41.608635,
            60.472024,
            51.919438,
            39.399872,
            45.943161,
            44.016521,
            48.669026,
            46.151241,
            40.463667,
            60.128161,
            46.818188,
            48.379433,
            55.378051
           ],
           "legendgroup": "",
           "lon": [
            20.168331,
            14.550072,
            27.953389,
            4.469936,
            25.48583,
            15.2,
            33.429859,
            9.501785,
            25.013607,
            25.748151,
            2.213749,
            10.451526,
            21.824312,
            19.503304,
            -19.020835,
            -8.24389,
            12.56738,
            6.129583,
            14.375416,
            5.291266,
            21.745275,
            8.468946,
            19.145136,
            -8.224454,
            24.96676,
            21.005859,
            19.699024,
            14.995463,
            -3.74922,
            18.643501,
            8.227512,
            31.16558,
            -3.435973
           ],
           "marker": {
            "color": [
             2,
             0,
             0,
             0,
             2,
             2,
             2,
             0,
             0,
             0,
             28,
             8,
             28,
             0,
             0,
             0,
             8,
             0,
             0,
             1,
             3,
             0,
             0,
             0,
             0,
             0,
             1,
             1,
             112,
             1,
             4,
             1,
             61
            ],
            "coloraxis": "coloraxis",
            "size": [
             2000,
             2000,
             2000,
             2000,
             2000,
             2000,
             2000,
             2000,
             2000,
             2000,
             2000,
             2000,
             2000,
             2000,
             2000,
             2000,
             2000,
             2000,
             2000,
             2000,
             2000,
             2000,
             2000,
             2000,
             2000,
             2000,
             2000,
             2000,
             2000,
             2000,
             2000,
             2000,
             2000
            ],
            "sizemode": "area",
            "sizeref": 20.17,
            "symbol": "circle"
           },
           "mode": "markers",
           "name": "",
           "showlegend": false,
           "type": "scattergeo"
          }
         ],
         "name": "2000"
        },
        {
         "data": [
          {
           "customdata": [
            [
             1,
             41.153332,
             20.168331
            ],
            [
             0,
             47.516231,
             14.550072
            ],
            [
             1,
             53.709807,
             27.953389
            ],
            [
             0,
             50.503887,
             4.469936
            ],
            [
             1,
             42.733883,
             25.48583
            ],
            [
             3,
             45.1,
             15.2
            ],
            [
             1,
             35.126413,
             33.429859
            ],
            [
             0,
             56.26392,
             9.501785
            ],
            [
             1,
             58.595272,
             25.013607
            ],
            [
             0,
             61.92411,
             25.748151
            ],
            [
             21,
             46.227638,
             2.213749
            ],
            [
             8,
             51.165691,
             10.451526
            ],
            [
             14,
             39.074208,
             21.824312
            ],
            [
             1,
             47.162494,
             19.503304
            ],
            [
             0,
             64.963051,
             -19.020835
            ],
            [
             2,
             53.41291,
             -8.24389
            ],
            [
             11,
             41.87194,
             12.56738
            ],
            [
             0,
             49.815273,
             6.129583
            ],
            [
             0,
             35.937496,
             14.375416
            ],
            [
             1,
             52.132633,
             5.291266
            ],
            [
             67,
             41.608635,
             21.745275
            ],
            [
             1,
             60.472024,
             8.468946
            ],
            [
             1,
             51.919438,
             19.145136
            ],
            [
             0,
             39.399872,
             -8.224454
            ],
            [
             0,
             45.943161,
             24.96676
            ],
            [
             0,
             44.016521,
             21.005859
            ],
            [
             0,
             48.669026,
             19.699024
            ],
            [
             0,
             46.151241,
             14.995463
            ],
            [
             79,
             40.463667,
             -3.74922
            ],
            [
             0,
             60.128161,
             18.643501
            ],
            [
             2,
             46.818188,
             8.227512
            ],
            [
             0,
             48.379433,
             31.16558
            ],
            [
             94,
             55.378051,
             -3.435973
            ]
           ],
           "geo": "geo",
           "hovertemplate": "<b>%{hovertext}</b><br><br>Year=%{marker.size}<br>Terrorist attacks=%{marker.color}<extra></extra>",
           "hovertext": [
            "Albania",
            "Austria",
            "Belarus",
            "Belgium",
            "Bulgaria",
            "Croatia",
            "Cyprus",
            "Denmark",
            "Estonia",
            "Finland",
            "France",
            "Germany",
            "Greece",
            "Hungary",
            "Iceland",
            "Ireland",
            "Italy",
            "Luxembourg",
            "Malta",
            "Netherlands",
            "North Macedonia",
            "Norway",
            "Poland",
            "Portugal",
            "Romania",
            "Serbia",
            "Slovakia",
            "Slovenia",
            "Spain",
            "Sweden",
            "Switzerland",
            "Ukraine",
            "United Kingdom"
           ],
           "lat": [
            41.153332,
            47.516231,
            53.709807,
            50.503887,
            42.733883,
            45.1,
            35.126413,
            56.26392,
            58.595272,
            61.92411,
            46.227638,
            51.165691,
            39.074208,
            47.162494,
            64.963051,
            53.41291,
            41.87194,
            49.815273,
            35.937496,
            52.132633,
            41.608635,
            60.472024,
            51.919438,
            39.399872,
            45.943161,
            44.016521,
            48.669026,
            46.151241,
            40.463667,
            60.128161,
            46.818188,
            48.379433,
            55.378051
           ],
           "legendgroup": "",
           "lon": [
            20.168331,
            14.550072,
            27.953389,
            4.469936,
            25.48583,
            15.2,
            33.429859,
            9.501785,
            25.013607,
            25.748151,
            2.213749,
            10.451526,
            21.824312,
            19.503304,
            -19.020835,
            -8.24389,
            12.56738,
            6.129583,
            14.375416,
            5.291266,
            21.745275,
            8.468946,
            19.145136,
            -8.224454,
            24.96676,
            21.005859,
            19.699024,
            14.995463,
            -3.74922,
            18.643501,
            8.227512,
            31.16558,
            -3.435973
           ],
           "marker": {
            "color": [
             1,
             0,
             1,
             0,
             1,
             3,
             1,
             0,
             1,
             0,
             21,
             8,
             14,
             1,
             0,
             2,
             11,
             0,
             0,
             1,
             67,
             1,
             1,
             0,
             0,
             0,
             0,
             0,
             79,
             0,
             2,
             0,
             94
            ],
            "coloraxis": "coloraxis",
            "size": [
             2001,
             2001,
             2001,
             2001,
             2001,
             2001,
             2001,
             2001,
             2001,
             2001,
             2001,
             2001,
             2001,
             2001,
             2001,
             2001,
             2001,
             2001,
             2001,
             2001,
             2001,
             2001,
             2001,
             2001,
             2001,
             2001,
             2001,
             2001,
             2001,
             2001,
             2001,
             2001,
             2001
            ],
            "sizemode": "area",
            "sizeref": 20.17,
            "symbol": "circle"
           },
           "mode": "markers",
           "name": "",
           "showlegend": false,
           "type": "scattergeo"
          }
         ],
         "name": "2001"
        },
        {
         "data": [
          {
           "customdata": [
            [
             0,
             41.153332,
             20.168331
            ],
            [
             0,
             47.516231,
             14.550072
            ],
            [
             0,
             53.709807,
             27.953389
            ],
            [
             3,
             50.503887,
             4.469936
            ],
            [
             1,
             42.733883,
             25.48583
            ],
            [
             0,
             45.1,
             15.2
            ],
            [
             0,
             35.126413,
             33.429859
            ],
            [
             0,
             56.26392,
             9.501785
            ],
            [
             0,
             58.595272,
             25.013607
            ],
            [
             0,
             61.92411,
             25.748151
            ],
            [
             32,
             46.227638,
             2.213749
            ],
            [
             3,
             51.165691,
             10.451526
            ],
            [
             11,
             39.074208,
             21.824312
            ],
            [
             0,
             47.162494,
             19.503304
            ],
            [
             0,
             64.963051,
             -19.020835
            ],
            [
             0,
             53.41291,
             -8.24389
            ],
            [
             7,
             41.87194,
             12.56738
            ],
            [
             0,
             49.815273,
             6.129583
            ],
            [
             0,
             35.937496,
             14.375416
            ],
            [
             2,
             52.132633,
             5.291266
            ],
            [
             8,
             41.608635,
             21.745275
            ],
            [
             0,
             60.472024,
             8.468946
            ],
            [
             0,
             51.919438,
             19.145136
            ],
            [
             0,
             39.399872,
             -8.224454
            ],
            [
             0,
             45.943161,
             24.96676
            ],
            [
             0,
             44.016521,
             21.005859
            ],
            [
             0,
             48.669026,
             19.699024
            ],
            [
             0,
             46.151241,
             14.995463
            ],
            [
             41,
             40.463667,
             -3.74922
            ],
            [
             0,
             60.128161,
             18.643501
            ],
            [
             0,
             46.818188,
             8.227512
            ],
            [
             3,
             48.379433,
             31.16558
            ],
            [
             21,
             55.378051,
             -3.435973
            ]
           ],
           "geo": "geo",
           "hovertemplate": "<b>%{hovertext}</b><br><br>Year=%{marker.size}<br>Terrorist attacks=%{marker.color}<extra></extra>",
           "hovertext": [
            "Albania",
            "Austria",
            "Belarus",
            "Belgium",
            "Bulgaria",
            "Croatia",
            "Cyprus",
            "Denmark",
            "Estonia",
            "Finland",
            "France",
            "Germany",
            "Greece",
            "Hungary",
            "Iceland",
            "Ireland",
            "Italy",
            "Luxembourg",
            "Malta",
            "Netherlands",
            "North Macedonia",
            "Norway",
            "Poland",
            "Portugal",
            "Romania",
            "Serbia",
            "Slovakia",
            "Slovenia",
            "Spain",
            "Sweden",
            "Switzerland",
            "Ukraine",
            "United Kingdom"
           ],
           "lat": [
            41.153332,
            47.516231,
            53.709807,
            50.503887,
            42.733883,
            45.1,
            35.126413,
            56.26392,
            58.595272,
            61.92411,
            46.227638,
            51.165691,
            39.074208,
            47.162494,
            64.963051,
            53.41291,
            41.87194,
            49.815273,
            35.937496,
            52.132633,
            41.608635,
            60.472024,
            51.919438,
            39.399872,
            45.943161,
            44.016521,
            48.669026,
            46.151241,
            40.463667,
            60.128161,
            46.818188,
            48.379433,
            55.378051
           ],
           "legendgroup": "",
           "lon": [
            20.168331,
            14.550072,
            27.953389,
            4.469936,
            25.48583,
            15.2,
            33.429859,
            9.501785,
            25.013607,
            25.748151,
            2.213749,
            10.451526,
            21.824312,
            19.503304,
            -19.020835,
            -8.24389,
            12.56738,
            6.129583,
            14.375416,
            5.291266,
            21.745275,
            8.468946,
            19.145136,
            -8.224454,
            24.96676,
            21.005859,
            19.699024,
            14.995463,
            -3.74922,
            18.643501,
            8.227512,
            31.16558,
            -3.435973
           ],
           "marker": {
            "color": [
             0,
             0,
             0,
             3,
             1,
             0,
             0,
             0,
             0,
             0,
             32,
             3,
             11,
             0,
             0,
             0,
             7,
             0,
             0,
             2,
             8,
             0,
             0,
             0,
             0,
             0,
             0,
             0,
             41,
             0,
             0,
             3,
             21
            ],
            "coloraxis": "coloraxis",
            "size": [
             2002,
             2002,
             2002,
             2002,
             2002,
             2002,
             2002,
             2002,
             2002,
             2002,
             2002,
             2002,
             2002,
             2002,
             2002,
             2002,
             2002,
             2002,
             2002,
             2002,
             2002,
             2002,
             2002,
             2002,
             2002,
             2002,
             2002,
             2002,
             2002,
             2002,
             2002,
             2002,
             2002
            ],
            "sizemode": "area",
            "sizeref": 20.17,
            "symbol": "circle"
           },
           "mode": "markers",
           "name": "",
           "showlegend": false,
           "type": "scattergeo"
          }
         ],
         "name": "2002"
        },
        {
         "data": [
          {
           "customdata": [
            [
             1,
             41.153332,
             20.168331
            ],
            [
             0,
             47.516231,
             14.550072
            ],
            [
             0,
             53.709807,
             27.953389
            ],
            [
             8,
             50.503887,
             4.469936
            ],
            [
             0,
             42.733883,
             25.48583
            ],
            [
             0,
             45.1,
             15.2
            ],
            [
             0,
             35.126413,
             33.429859
            ],
            [
             0,
             56.26392,
             9.501785
            ],
            [
             0,
             58.595272,
             25.013607
            ],
            [
             0,
             61.92411,
             25.748151
            ],
            [
             34,
             46.227638,
             2.213749
            ],
            [
             2,
             51.165691,
             10.451526
            ],
            [
             12,
             39.074208,
             21.824312
            ],
            [
             0,
             47.162494,
             19.503304
            ],
            [
             0,
             64.963051,
             -19.020835
            ],
            [
             1,
             53.41291,
             -8.24389
            ],
            [
             15,
             41.87194,
             12.56738
            ],
            [
             0,
             49.815273,
             6.129583
            ],
            [
             0,
             35.937496,
             14.375416
            ],
            [
             3,
             52.132633,
             5.291266
            ],
            [
             5,
             41.608635,
             21.745275
            ],
            [
             1,
             60.472024,
             8.468946
            ],
            [
             0,
             51.919438,
             19.145136
            ],
            [
             0,
             39.399872,
             -8.224454
            ],
            [
             0,
             45.943161,
             24.96676
            ],
            [
             6,
             44.016521,
             21.005859
            ],
            [
             0,
             48.669026,
             19.699024
            ],
            [
             0,
             46.151241,
             14.995463
            ],
            [
             21,
             40.463667,
             -3.74922
            ],
            [
             0,
             60.128161,
             18.643501
            ],
            [
             1,
             46.818188,
             8.227512
            ],
            [
             1,
             48.379433,
             31.16558
            ],
            [
             23,
             55.378051,
             -3.435973
            ]
           ],
           "geo": "geo",
           "hovertemplate": "<b>%{hovertext}</b><br><br>Year=%{marker.size}<br>Terrorist attacks=%{marker.color}<extra></extra>",
           "hovertext": [
            "Albania",
            "Austria",
            "Belarus",
            "Belgium",
            "Bulgaria",
            "Croatia",
            "Cyprus",
            "Denmark",
            "Estonia",
            "Finland",
            "France",
            "Germany",
            "Greece",
            "Hungary",
            "Iceland",
            "Ireland",
            "Italy",
            "Luxembourg",
            "Malta",
            "Netherlands",
            "North Macedonia",
            "Norway",
            "Poland",
            "Portugal",
            "Romania",
            "Serbia",
            "Slovakia",
            "Slovenia",
            "Spain",
            "Sweden",
            "Switzerland",
            "Ukraine",
            "United Kingdom"
           ],
           "lat": [
            41.153332,
            47.516231,
            53.709807,
            50.503887,
            42.733883,
            45.1,
            35.126413,
            56.26392,
            58.595272,
            61.92411,
            46.227638,
            51.165691,
            39.074208,
            47.162494,
            64.963051,
            53.41291,
            41.87194,
            49.815273,
            35.937496,
            52.132633,
            41.608635,
            60.472024,
            51.919438,
            39.399872,
            45.943161,
            44.016521,
            48.669026,
            46.151241,
            40.463667,
            60.128161,
            46.818188,
            48.379433,
            55.378051
           ],
           "legendgroup": "",
           "lon": [
            20.168331,
            14.550072,
            27.953389,
            4.469936,
            25.48583,
            15.2,
            33.429859,
            9.501785,
            25.013607,
            25.748151,
            2.213749,
            10.451526,
            21.824312,
            19.503304,
            -19.020835,
            -8.24389,
            12.56738,
            6.129583,
            14.375416,
            5.291266,
            21.745275,
            8.468946,
            19.145136,
            -8.224454,
            24.96676,
            21.005859,
            19.699024,
            14.995463,
            -3.74922,
            18.643501,
            8.227512,
            31.16558,
            -3.435973
           ],
           "marker": {
            "color": [
             1,
             0,
             0,
             8,
             0,
             0,
             0,
             0,
             0,
             0,
             34,
             2,
             12,
             0,
             0,
             1,
             15,
             0,
             0,
             3,
             5,
             1,
             0,
             0,
             0,
             6,
             0,
             0,
             21,
             0,
             1,
             1,
             23
            ],
            "coloraxis": "coloraxis",
            "size": [
             2003,
             2003,
             2003,
             2003,
             2003,
             2003,
             2003,
             2003,
             2003,
             2003,
             2003,
             2003,
             2003,
             2003,
             2003,
             2003,
             2003,
             2003,
             2003,
             2003,
             2003,
             2003,
             2003,
             2003,
             2003,
             2003,
             2003,
             2003,
             2003,
             2003,
             2003,
             2003,
             2003
            ],
            "sizemode": "area",
            "sizeref": 20.17,
            "symbol": "circle"
           },
           "mode": "markers",
           "name": "",
           "showlegend": false,
           "type": "scattergeo"
          }
         ],
         "name": "2003"
        },
        {
         "data": [
          {
           "customdata": [
            [
             0,
             41.153332,
             20.168331
            ],
            [
             0,
             47.516231,
             14.550072
            ],
            [
             0,
             53.709807,
             27.953389
            ],
            [
             0,
             50.503887,
             4.469936
            ],
            [
             0,
             42.733883,
             25.48583
            ],
            [
             0,
             45.1,
             15.2
            ],
            [
             1,
             35.126413,
             33.429859
            ],
            [
             0,
             56.26392,
             9.501785
            ],
            [
             0,
             58.595272,
             25.013607
            ],
            [
             0,
             61.92411,
             25.748151
            ],
            [
             11,
             46.227638,
             2.213749
            ],
            [
             3,
             51.165691,
             10.451526
            ],
            [
             4,
             39.074208,
             21.824312
            ],
            [
             0,
             47.162494,
             19.503304
            ],
            [
             0,
             64.963051,
             -19.020835
            ],
            [
             0,
             53.41291,
             -8.24389
            ],
            [
             3,
             41.87194,
             12.56738
            ],
            [
             0,
             49.815273,
             6.129583
            ],
            [
             0,
             35.937496,
             14.375416
            ],
            [
             1,
             52.132633,
             5.291266
            ],
            [
             0,
             41.608635,
             21.745275
            ],
            [
             0,
             60.472024,
             8.468946
            ],
            [
             0,
             51.919438,
             19.145136
            ],
            [
             0,
             39.399872,
             -8.224454
            ],
            [
             0,
             45.943161,
             24.96676
            ],
            [
             1,
             44.016521,
             21.005859
            ],
            [
             0,
             48.669026,
             19.699024
            ],
            [
             0,
             46.151241,
             14.995463
            ],
            [
             31,
             40.463667,
             -3.74922
            ],
            [
             0,
             60.128161,
             18.643501
            ],
            [
             0,
             46.818188,
             8.227512
            ],
            [
             0,
             48.379433,
             31.16558
            ],
            [
             5,
             55.378051,
             -3.435973
            ]
           ],
           "geo": "geo",
           "hovertemplate": "<b>%{hovertext}</b><br><br>Year=%{marker.size}<br>Terrorist attacks=%{marker.color}<extra></extra>",
           "hovertext": [
            "Albania",
            "Austria",
            "Belarus",
            "Belgium",
            "Bulgaria",
            "Croatia",
            "Cyprus",
            "Denmark",
            "Estonia",
            "Finland",
            "France",
            "Germany",
            "Greece",
            "Hungary",
            "Iceland",
            "Ireland",
            "Italy",
            "Luxembourg",
            "Malta",
            "Netherlands",
            "North Macedonia",
            "Norway",
            "Poland",
            "Portugal",
            "Romania",
            "Serbia",
            "Slovakia",
            "Slovenia",
            "Spain",
            "Sweden",
            "Switzerland",
            "Ukraine",
            "United Kingdom"
           ],
           "lat": [
            41.153332,
            47.516231,
            53.709807,
            50.503887,
            42.733883,
            45.1,
            35.126413,
            56.26392,
            58.595272,
            61.92411,
            46.227638,
            51.165691,
            39.074208,
            47.162494,
            64.963051,
            53.41291,
            41.87194,
            49.815273,
            35.937496,
            52.132633,
            41.608635,
            60.472024,
            51.919438,
            39.399872,
            45.943161,
            44.016521,
            48.669026,
            46.151241,
            40.463667,
            60.128161,
            46.818188,
            48.379433,
            55.378051
           ],
           "legendgroup": "",
           "lon": [
            20.168331,
            14.550072,
            27.953389,
            4.469936,
            25.48583,
            15.2,
            33.429859,
            9.501785,
            25.013607,
            25.748151,
            2.213749,
            10.451526,
            21.824312,
            19.503304,
            -19.020835,
            -8.24389,
            12.56738,
            6.129583,
            14.375416,
            5.291266,
            21.745275,
            8.468946,
            19.145136,
            -8.224454,
            24.96676,
            21.005859,
            19.699024,
            14.995463,
            -3.74922,
            18.643501,
            8.227512,
            31.16558,
            -3.435973
           ],
           "marker": {
            "color": [
             0,
             0,
             0,
             0,
             0,
             0,
             1,
             0,
             0,
             0,
             11,
             3,
             4,
             0,
             0,
             0,
             3,
             0,
             0,
             1,
             0,
             0,
             0,
             0,
             0,
             1,
             0,
             0,
             31,
             0,
             0,
             0,
             5
            ],
            "coloraxis": "coloraxis",
            "size": [
             2004,
             2004,
             2004,
             2004,
             2004,
             2004,
             2004,
             2004,
             2004,
             2004,
             2004,
             2004,
             2004,
             2004,
             2004,
             2004,
             2004,
             2004,
             2004,
             2004,
             2004,
             2004,
             2004,
             2004,
             2004,
             2004,
             2004,
             2004,
             2004,
             2004,
             2004,
             2004,
             2004
            ],
            "sizemode": "area",
            "sizeref": 20.17,
            "symbol": "circle"
           },
           "mode": "markers",
           "name": "",
           "showlegend": false,
           "type": "scattergeo"
          }
         ],
         "name": "2004"
        },
        {
         "data": [
          {
           "customdata": [
            [
             0,
             41.153332,
             20.168331
            ],
            [
             0,
             47.516231,
             14.550072
            ],
            [
             0,
             53.709807,
             27.953389
            ],
            [
             0,
             50.503887,
             4.469936
            ],
            [
             0,
             42.733883,
             25.48583
            ],
            [
             1,
             45.1,
             15.2
            ],
            [
             0,
             35.126413,
             33.429859
            ],
            [
             0,
             56.26392,
             9.501785
            ],
            [
             0,
             58.595272,
             25.013607
            ],
            [
             0,
             61.92411,
             25.748151
            ],
            [
             33,
             46.227638,
             2.213749
            ],
            [
             3,
             51.165691,
             10.451526
            ],
            [
             6,
             39.074208,
             21.824312
            ],
            [
             0,
             47.162494,
             19.503304
            ],
            [
             0,
             64.963051,
             -19.020835
            ],
            [
             0,
             53.41291,
             -8.24389
            ],
            [
             6,
             41.87194,
             12.56738
            ],
            [
             0,
             49.815273,
             6.129583
            ],
            [
             0,
             35.937496,
             14.375416
            ],
            [
             0,
             52.132633,
             5.291266
            ],
            [
             0,
             41.608635,
             21.745275
            ],
            [
             0,
             60.472024,
             8.468946
            ],
            [
             0,
             51.919438,
             19.145136
            ],
            [
             0,
             39.399872,
             -8.224454
            ],
            [
             0,
             45.943161,
             24.96676
            ],
            [
             2,
             44.016521,
             21.005859
            ],
            [
             0,
             48.669026,
             19.699024
            ],
            [
             0,
             46.151241,
             14.995463
            ],
            [
             24,
             40.463667,
             -3.74922
            ],
            [
             3,
             60.128161,
             18.643501
            ],
            [
             0,
             46.818188,
             8.227512
            ],
            [
             0,
             48.379433,
             31.16558
            ],
            [
             29,
             55.378051,
             -3.435973
            ]
           ],
           "geo": "geo",
           "hovertemplate": "<b>%{hovertext}</b><br><br>Year=%{marker.size}<br>Terrorist attacks=%{marker.color}<extra></extra>",
           "hovertext": [
            "Albania",
            "Austria",
            "Belarus",
            "Belgium",
            "Bulgaria",
            "Croatia",
            "Cyprus",
            "Denmark",
            "Estonia",
            "Finland",
            "France",
            "Germany",
            "Greece",
            "Hungary",
            "Iceland",
            "Ireland",
            "Italy",
            "Luxembourg",
            "Malta",
            "Netherlands",
            "North Macedonia",
            "Norway",
            "Poland",
            "Portugal",
            "Romania",
            "Serbia",
            "Slovakia",
            "Slovenia",
            "Spain",
            "Sweden",
            "Switzerland",
            "Ukraine",
            "United Kingdom"
           ],
           "lat": [
            41.153332,
            47.516231,
            53.709807,
            50.503887,
            42.733883,
            45.1,
            35.126413,
            56.26392,
            58.595272,
            61.92411,
            46.227638,
            51.165691,
            39.074208,
            47.162494,
            64.963051,
            53.41291,
            41.87194,
            49.815273,
            35.937496,
            52.132633,
            41.608635,
            60.472024,
            51.919438,
            39.399872,
            45.943161,
            44.016521,
            48.669026,
            46.151241,
            40.463667,
            60.128161,
            46.818188,
            48.379433,
            55.378051
           ],
           "legendgroup": "",
           "lon": [
            20.168331,
            14.550072,
            27.953389,
            4.469936,
            25.48583,
            15.2,
            33.429859,
            9.501785,
            25.013607,
            25.748151,
            2.213749,
            10.451526,
            21.824312,
            19.503304,
            -19.020835,
            -8.24389,
            12.56738,
            6.129583,
            14.375416,
            5.291266,
            21.745275,
            8.468946,
            19.145136,
            -8.224454,
            24.96676,
            21.005859,
            19.699024,
            14.995463,
            -3.74922,
            18.643501,
            8.227512,
            31.16558,
            -3.435973
           ],
           "marker": {
            "color": [
             0,
             0,
             0,
             0,
             0,
             1,
             0,
             0,
             0,
             0,
             33,
             3,
             6,
             0,
             0,
             0,
             6,
             0,
             0,
             0,
             0,
             0,
             0,
             0,
             0,
             2,
             0,
             0,
             24,
             3,
             0,
             0,
             29
            ],
            "coloraxis": "coloraxis",
            "size": [
             2005,
             2005,
             2005,
             2005,
             2005,
             2005,
             2005,
             2005,
             2005,
             2005,
             2005,
             2005,
             2005,
             2005,
             2005,
             2005,
             2005,
             2005,
             2005,
             2005,
             2005,
             2005,
             2005,
             2005,
             2005,
             2005,
             2005,
             2005,
             2005,
             2005,
             2005,
             2005,
             2005
            ],
            "sizemode": "area",
            "sizeref": 20.17,
            "symbol": "circle"
           },
           "mode": "markers",
           "name": "",
           "showlegend": false,
           "type": "scattergeo"
          }
         ],
         "name": "2005"
        },
        {
         "data": [
          {
           "customdata": [
            [
             0,
             41.153332,
             20.168331
            ],
            [
             1,
             47.516231,
             14.550072
            ],
            [
             1,
             53.709807,
             27.953389
            ],
            [
             0,
             50.503887,
             4.469936
            ],
            [
             0,
             42.733883,
             25.48583
            ],
            [
             0,
             45.1,
             15.2
            ],
            [
             0,
             35.126413,
             33.429859
            ],
            [
             0,
             56.26392,
             9.501785
            ],
            [
             0,
             58.595272,
             25.013607
            ],
            [
             0,
             61.92411,
             25.748151
            ],
            [
             34,
             46.227638,
             2.213749
            ],
            [
             4,
             51.165691,
             10.451526
            ],
            [
             23,
             39.074208,
             21.824312
            ],
            [
             0,
             47.162494,
             19.503304
            ],
            [
             0,
             64.963051,
             -19.020835
            ],
            [
             1,
             53.41291,
             -8.24389
            ],
            [
             4,
             41.87194,
             12.56738
            ],
            [
             0,
             49.815273,
             6.129583
            ],
            [
             0,
             35.937496,
             14.375416
            ],
            [
             0,
             52.132633,
             5.291266
            ],
            [
             3,
             41.608635,
             21.745275
            ],
            [
             1,
             60.472024,
             8.468946
            ],
            [
             0,
             51.919438,
             19.145136
            ],
            [
             0,
             39.399872,
             -8.224454
            ],
            [
             0,
             45.943161,
             24.96676
            ],
            [
             2,
             44.016521,
             21.005859
            ],
            [
             0,
             48.669026,
             19.699024
            ],
            [
             0,
             46.151241,
             14.995463
            ],
            [
             23,
             40.463667,
             -3.74922
            ],
            [
             1,
             60.128161,
             18.643501
            ],
            [
             0,
             46.818188,
             8.227512
            ],
            [
             0,
             48.379433,
             31.16558
            ],
            [
             6,
             55.378051,
             -3.435973
            ]
           ],
           "geo": "geo",
           "hovertemplate": "<b>%{hovertext}</b><br><br>Year=%{marker.size}<br>Terrorist attacks=%{marker.color}<extra></extra>",
           "hovertext": [
            "Albania",
            "Austria",
            "Belarus",
            "Belgium",
            "Bulgaria",
            "Croatia",
            "Cyprus",
            "Denmark",
            "Estonia",
            "Finland",
            "France",
            "Germany",
            "Greece",
            "Hungary",
            "Iceland",
            "Ireland",
            "Italy",
            "Luxembourg",
            "Malta",
            "Netherlands",
            "North Macedonia",
            "Norway",
            "Poland",
            "Portugal",
            "Romania",
            "Serbia",
            "Slovakia",
            "Slovenia",
            "Spain",
            "Sweden",
            "Switzerland",
            "Ukraine",
            "United Kingdom"
           ],
           "lat": [
            41.153332,
            47.516231,
            53.709807,
            50.503887,
            42.733883,
            45.1,
            35.126413,
            56.26392,
            58.595272,
            61.92411,
            46.227638,
            51.165691,
            39.074208,
            47.162494,
            64.963051,
            53.41291,
            41.87194,
            49.815273,
            35.937496,
            52.132633,
            41.608635,
            60.472024,
            51.919438,
            39.399872,
            45.943161,
            44.016521,
            48.669026,
            46.151241,
            40.463667,
            60.128161,
            46.818188,
            48.379433,
            55.378051
           ],
           "legendgroup": "",
           "lon": [
            20.168331,
            14.550072,
            27.953389,
            4.469936,
            25.48583,
            15.2,
            33.429859,
            9.501785,
            25.013607,
            25.748151,
            2.213749,
            10.451526,
            21.824312,
            19.503304,
            -19.020835,
            -8.24389,
            12.56738,
            6.129583,
            14.375416,
            5.291266,
            21.745275,
            8.468946,
            19.145136,
            -8.224454,
            24.96676,
            21.005859,
            19.699024,
            14.995463,
            -3.74922,
            18.643501,
            8.227512,
            31.16558,
            -3.435973
           ],
           "marker": {
            "color": [
             0,
             1,
             1,
             0,
             0,
             0,
             0,
             0,
             0,
             0,
             34,
             4,
             23,
             0,
             0,
             1,
             4,
             0,
             0,
             0,
             3,
             1,
             0,
             0,
             0,
             2,
             0,
             0,
             23,
             1,
             0,
             0,
             6
            ],
            "coloraxis": "coloraxis",
            "size": [
             2006,
             2006,
             2006,
             2006,
             2006,
             2006,
             2006,
             2006,
             2006,
             2006,
             2006,
             2006,
             2006,
             2006,
             2006,
             2006,
             2006,
             2006,
             2006,
             2006,
             2006,
             2006,
             2006,
             2006,
             2006,
             2006,
             2006,
             2006,
             2006,
             2006,
             2006,
             2006,
             2006
            ],
            "sizemode": "area",
            "sizeref": 20.17,
            "symbol": "circle"
           },
           "mode": "markers",
           "name": "",
           "showlegend": false,
           "type": "scattergeo"
          }
         ],
         "name": "2006"
        },
        {
         "data": [
          {
           "customdata": [
            [
             0,
             41.153332,
             20.168331
            ],
            [
             1,
             47.516231,
             14.550072
            ],
            [
             0,
             53.709807,
             27.953389
            ],
            [
             1,
             50.503887,
             4.469936
            ],
            [
             0,
             42.733883,
             25.48583
            ],
            [
             0,
             45.1,
             15.2
            ],
            [
             1,
             35.126413,
             33.429859
            ],
            [
             0,
             56.26392,
             9.501785
            ],
            [
             0,
             58.595272,
             25.013607
            ],
            [
             1,
             61.92411,
             25.748151
            ],
            [
             16,
             46.227638,
             2.213749
            ],
            [
             3,
             51.165691,
             10.451526
            ],
            [
             15,
             39.074208,
             21.824312
            ],
            [
             0,
             47.162494,
             19.503304
            ],
            [
             0,
             64.963051,
             -19.020835
            ],
            [
             1,
             53.41291,
             -8.24389
            ],
            [
             0,
             41.87194,
             12.56738
            ],
            [
             0,
             49.815273,
             6.129583
            ],
            [
             0,
             35.937496,
             14.375416
            ],
            [
             0,
             52.132633,
             5.291266
            ],
            [
             1,
             41.608635,
             21.745275
            ],
            [
             0,
             60.472024,
             8.468946
            ],
            [
             0,
             51.919438,
             19.145136
            ],
            [
             0,
             39.399872,
             -8.224454
            ],
            [
             0,
             45.943161,
             24.96676
            ],
            [
             0,
             44.016521,
             21.005859
            ],
            [
             0,
             48.669026,
             19.699024
            ],
            [
             0,
             46.151241,
             14.995463
            ],
            [
             11,
             40.463667,
             -3.74922
            ],
            [
             0,
             60.128161,
             18.643501
            ],
            [
             2,
             46.818188,
             8.227512
            ],
            [
             1,
             48.379433,
             31.16558
            ],
            [
             20,
             55.378051,
             -3.435973
            ]
           ],
           "geo": "geo",
           "hovertemplate": "<b>%{hovertext}</b><br><br>Year=%{marker.size}<br>Terrorist attacks=%{marker.color}<extra></extra>",
           "hovertext": [
            "Albania",
            "Austria",
            "Belarus",
            "Belgium",
            "Bulgaria",
            "Croatia",
            "Cyprus",
            "Denmark",
            "Estonia",
            "Finland",
            "France",
            "Germany",
            "Greece",
            "Hungary",
            "Iceland",
            "Ireland",
            "Italy",
            "Luxembourg",
            "Malta",
            "Netherlands",
            "North Macedonia",
            "Norway",
            "Poland",
            "Portugal",
            "Romania",
            "Serbia",
            "Slovakia",
            "Slovenia",
            "Spain",
            "Sweden",
            "Switzerland",
            "Ukraine",
            "United Kingdom"
           ],
           "lat": [
            41.153332,
            47.516231,
            53.709807,
            50.503887,
            42.733883,
            45.1,
            35.126413,
            56.26392,
            58.595272,
            61.92411,
            46.227638,
            51.165691,
            39.074208,
            47.162494,
            64.963051,
            53.41291,
            41.87194,
            49.815273,
            35.937496,
            52.132633,
            41.608635,
            60.472024,
            51.919438,
            39.399872,
            45.943161,
            44.016521,
            48.669026,
            46.151241,
            40.463667,
            60.128161,
            46.818188,
            48.379433,
            55.378051
           ],
           "legendgroup": "",
           "lon": [
            20.168331,
            14.550072,
            27.953389,
            4.469936,
            25.48583,
            15.2,
            33.429859,
            9.501785,
            25.013607,
            25.748151,
            2.213749,
            10.451526,
            21.824312,
            19.503304,
            -19.020835,
            -8.24389,
            12.56738,
            6.129583,
            14.375416,
            5.291266,
            21.745275,
            8.468946,
            19.145136,
            -8.224454,
            24.96676,
            21.005859,
            19.699024,
            14.995463,
            -3.74922,
            18.643501,
            8.227512,
            31.16558,
            -3.435973
           ],
           "marker": {
            "color": [
             0,
             1,
             0,
             1,
             0,
             0,
             1,
             0,
             0,
             1,
             16,
             3,
             15,
             0,
             0,
             1,
             0,
             0,
             0,
             0,
             1,
             0,
             0,
             0,
             0,
             0,
             0,
             0,
             11,
             0,
             2,
             1,
             20
            ],
            "coloraxis": "coloraxis",
            "size": [
             2007,
             2007,
             2007,
             2007,
             2007,
             2007,
             2007,
             2007,
             2007,
             2007,
             2007,
             2007,
             2007,
             2007,
             2007,
             2007,
             2007,
             2007,
             2007,
             2007,
             2007,
             2007,
             2007,
             2007,
             2007,
             2007,
             2007,
             2007,
             2007,
             2007,
             2007,
             2007,
             2007
            ],
            "sizemode": "area",
            "sizeref": 20.17,
            "symbol": "circle"
           },
           "mode": "markers",
           "name": "",
           "showlegend": false,
           "type": "scattergeo"
          }
         ],
         "name": "2007"
        },
        {
         "data": [
          {
           "customdata": [
            [
             0,
             41.153332,
             20.168331
            ],
            [
             7,
             47.516231,
             14.550072
            ],
            [
             1,
             53.709807,
             27.953389
            ],
            [
             0,
             50.503887,
             4.469936
            ],
            [
             2,
             42.733883,
             25.48583
            ],
            [
             2,
             45.1,
             15.2
            ],
            [
             0,
             35.126413,
             33.429859
            ],
            [
             1,
             56.26392,
             9.501785
            ],
            [
             0,
             58.595272,
             25.013607
            ],
            [
             1,
             61.92411,
             25.748151
            ],
            [
             13,
             46.227638,
             2.213749
            ],
            [
             3,
             51.165691,
             10.451526
            ],
            [
             53,
             39.074208,
             21.824312
            ],
            [
             2,
             47.162494,
             19.503304
            ],
            [
             0,
             64.963051,
             -19.020835
            ],
            [
             5,
             53.41291,
             -8.24389
            ],
            [
             2,
             41.87194,
             12.56738
            ],
            [
             0,
             49.815273,
             6.129583
            ],
            [
             0,
             35.937496,
             14.375416
            ],
            [
             1,
             52.132633,
             5.291266
            ],
            [
             9,
             41.608635,
             21.745275
            ],
            [
             0,
             60.472024,
             8.468946
            ],
            [
             0,
             51.919438,
             19.145136
            ],
            [
             0,
             39.399872,
             -8.224454
            ],
            [
             1,
             45.943161,
             24.96676
            ],
            [
             4,
             44.016521,
             21.005859
            ],
            [
             0,
             48.669026,
             19.699024
            ],
            [
             0,
             46.151241,
             14.995463
            ],
            [
             37,
             40.463667,
             -3.74922
            ],
            [
             1,
             60.128161,
             18.643501
            ],
            [
             0,
             46.818188,
             8.227512
            ],
            [
             1,
             48.379433,
             31.16558
            ],
            [
             39,
             55.378051,
             -3.435973
            ]
           ],
           "geo": "geo",
           "hovertemplate": "<b>%{hovertext}</b><br><br>Year=%{marker.size}<br>Terrorist attacks=%{marker.color}<extra></extra>",
           "hovertext": [
            "Albania",
            "Austria",
            "Belarus",
            "Belgium",
            "Bulgaria",
            "Croatia",
            "Cyprus",
            "Denmark",
            "Estonia",
            "Finland",
            "France",
            "Germany",
            "Greece",
            "Hungary",
            "Iceland",
            "Ireland",
            "Italy",
            "Luxembourg",
            "Malta",
            "Netherlands",
            "North Macedonia",
            "Norway",
            "Poland",
            "Portugal",
            "Romania",
            "Serbia",
            "Slovakia",
            "Slovenia",
            "Spain",
            "Sweden",
            "Switzerland",
            "Ukraine",
            "United Kingdom"
           ],
           "lat": [
            41.153332,
            47.516231,
            53.709807,
            50.503887,
            42.733883,
            45.1,
            35.126413,
            56.26392,
            58.595272,
            61.92411,
            46.227638,
            51.165691,
            39.074208,
            47.162494,
            64.963051,
            53.41291,
            41.87194,
            49.815273,
            35.937496,
            52.132633,
            41.608635,
            60.472024,
            51.919438,
            39.399872,
            45.943161,
            44.016521,
            48.669026,
            46.151241,
            40.463667,
            60.128161,
            46.818188,
            48.379433,
            55.378051
           ],
           "legendgroup": "",
           "lon": [
            20.168331,
            14.550072,
            27.953389,
            4.469936,
            25.48583,
            15.2,
            33.429859,
            9.501785,
            25.013607,
            25.748151,
            2.213749,
            10.451526,
            21.824312,
            19.503304,
            -19.020835,
            -8.24389,
            12.56738,
            6.129583,
            14.375416,
            5.291266,
            21.745275,
            8.468946,
            19.145136,
            -8.224454,
            24.96676,
            21.005859,
            19.699024,
            14.995463,
            -3.74922,
            18.643501,
            8.227512,
            31.16558,
            -3.435973
           ],
           "marker": {
            "color": [
             0,
             7,
             1,
             0,
             2,
             2,
             0,
             1,
             0,
             1,
             13,
             3,
             53,
             2,
             0,
             5,
             2,
             0,
             0,
             1,
             9,
             0,
             0,
             0,
             1,
             4,
             0,
             0,
             37,
             1,
             0,
             1,
             39
            ],
            "coloraxis": "coloraxis",
            "size": [
             2008,
             2008,
             2008,
             2008,
             2008,
             2008,
             2008,
             2008,
             2008,
             2008,
             2008,
             2008,
             2008,
             2008,
             2008,
             2008,
             2008,
             2008,
             2008,
             2008,
             2008,
             2008,
             2008,
             2008,
             2008,
             2008,
             2008,
             2008,
             2008,
             2008,
             2008,
             2008,
             2008
            ],
            "sizemode": "area",
            "sizeref": 20.17,
            "symbol": "circle"
           },
           "mode": "markers",
           "name": "",
           "showlegend": false,
           "type": "scattergeo"
          }
         ],
         "name": "2008"
        },
        {
         "data": [
          {
           "customdata": [
            [
             1,
             41.153332,
             20.168331
            ],
            [
             3,
             47.516231,
             14.550072
            ],
            [
             0,
             53.709807,
             27.953389
            ],
            [
             1,
             50.503887,
             4.469936
            ],
            [
             0,
             42.733883,
             25.48583
            ],
            [
             1,
             45.1,
             15.2
            ],
            [
             0,
             35.126413,
             33.429859
            ],
            [
             0,
             56.26392,
             9.501785
            ],
            [
             0,
             58.595272,
             25.013607
            ],
            [
             0,
             61.92411,
             25.748151
            ],
            [
             9,
             46.227638,
             2.213749
            ],
            [
             4,
             51.165691,
             10.451526
            ],
            [
             115,
             39.074208,
             21.824312
            ],
            [
             1,
             47.162494,
             19.503304
            ],
            [
             0,
             64.963051,
             -19.020835
            ],
            [
             0,
             53.41291,
             -8.24389
            ],
            [
             4,
             41.87194,
             12.56738
            ],
            [
             0,
             49.815273,
             6.129583
            ],
            [
             0,
             35.937496,
             14.375416
            ],
            [
             1,
             52.132633,
             5.291266
            ],
            [
             1,
             41.608635,
             21.745275
            ],
            [
             0,
             60.472024,
             8.468946
            ],
            [
             0,
             51.919438,
             19.145136
            ],
            [
             0,
             39.399872,
             -8.224454
            ],
            [
             0,
             45.943161,
             24.96676
            ],
            [
             3,
             44.016521,
             21.005859
            ],
            [
             0,
             48.669026,
             19.699024
            ],
            [
             0,
             46.151241,
             14.995463
            ],
            [
             21,
             40.463667,
             -3.74922
            ],
            [
             1,
             60.128161,
             18.643501
            ],
            [
             0,
             46.818188,
             8.227512
            ],
            [
             2,
             48.379433,
             31.16558
            ],
            [
             23,
             55.378051,
             -3.435973
            ]
           ],
           "geo": "geo",
           "hovertemplate": "<b>%{hovertext}</b><br><br>Year=%{marker.size}<br>Terrorist attacks=%{marker.color}<extra></extra>",
           "hovertext": [
            "Albania",
            "Austria",
            "Belarus",
            "Belgium",
            "Bulgaria",
            "Croatia",
            "Cyprus",
            "Denmark",
            "Estonia",
            "Finland",
            "France",
            "Germany",
            "Greece",
            "Hungary",
            "Iceland",
            "Ireland",
            "Italy",
            "Luxembourg",
            "Malta",
            "Netherlands",
            "North Macedonia",
            "Norway",
            "Poland",
            "Portugal",
            "Romania",
            "Serbia",
            "Slovakia",
            "Slovenia",
            "Spain",
            "Sweden",
            "Switzerland",
            "Ukraine",
            "United Kingdom"
           ],
           "lat": [
            41.153332,
            47.516231,
            53.709807,
            50.503887,
            42.733883,
            45.1,
            35.126413,
            56.26392,
            58.595272,
            61.92411,
            46.227638,
            51.165691,
            39.074208,
            47.162494,
            64.963051,
            53.41291,
            41.87194,
            49.815273,
            35.937496,
            52.132633,
            41.608635,
            60.472024,
            51.919438,
            39.399872,
            45.943161,
            44.016521,
            48.669026,
            46.151241,
            40.463667,
            60.128161,
            46.818188,
            48.379433,
            55.378051
           ],
           "legendgroup": "",
           "lon": [
            20.168331,
            14.550072,
            27.953389,
            4.469936,
            25.48583,
            15.2,
            33.429859,
            9.501785,
            25.013607,
            25.748151,
            2.213749,
            10.451526,
            21.824312,
            19.503304,
            -19.020835,
            -8.24389,
            12.56738,
            6.129583,
            14.375416,
            5.291266,
            21.745275,
            8.468946,
            19.145136,
            -8.224454,
            24.96676,
            21.005859,
            19.699024,
            14.995463,
            -3.74922,
            18.643501,
            8.227512,
            31.16558,
            -3.435973
           ],
           "marker": {
            "color": [
             1,
             3,
             0,
             1,
             0,
             1,
             0,
             0,
             0,
             0,
             9,
             4,
             115,
             1,
             0,
             0,
             4,
             0,
             0,
             1,
             1,
             0,
             0,
             0,
             0,
             3,
             0,
             0,
             21,
             1,
             0,
             2,
             23
            ],
            "coloraxis": "coloraxis",
            "size": [
             2009,
             2009,
             2009,
             2009,
             2009,
             2009,
             2009,
             2009,
             2009,
             2009,
             2009,
             2009,
             2009,
             2009,
             2009,
             2009,
             2009,
             2009,
             2009,
             2009,
             2009,
             2009,
             2009,
             2009,
             2009,
             2009,
             2009,
             2009,
             2009,
             2009,
             2009,
             2009,
             2009
            ],
            "sizemode": "area",
            "sizeref": 20.17,
            "symbol": "circle"
           },
           "mode": "markers",
           "name": "",
           "showlegend": false,
           "type": "scattergeo"
          }
         ],
         "name": "2009"
        },
        {
         "data": [
          {
           "customdata": [
            [
             0,
             41.153332,
             20.168331
            ],
            [
             0,
             47.516231,
             14.550072
            ],
            [
             2,
             53.709807,
             27.953389
            ],
            [
             0,
             50.503887,
             4.469936
            ],
            [
             0,
             42.733883,
             25.48583
            ],
            [
             0,
             45.1,
             15.2
            ],
            [
             0,
             35.126413,
             33.429859
            ],
            [
             1,
             56.26392,
             9.501785
            ],
            [
             0,
             58.595272,
             25.013607
            ],
            [
             0,
             61.92411,
             25.748151
            ],
            [
             3,
             46.227638,
             2.213749
            ],
            [
             1,
             51.165691,
             10.451526
            ],
            [
             49,
             39.074208,
             21.824312
            ],
            [
             0,
             47.162494,
             19.503304
            ],
            [
             0,
             64.963051,
             -19.020835
            ],
            [
             4,
             53.41291,
             -8.24389
            ],
            [
             10,
             41.87194,
             12.56738
            ],
            [
             0,
             49.815273,
             6.129583
            ],
            [
             0,
             35.937496,
             14.375416
            ],
            [
             1,
             52.132633,
             5.291266
            ],
            [
             0,
             41.608635,
             21.745275
            ],
            [
             1,
             60.472024,
             8.468946
            ],
            [
             1,
             51.919438,
             19.145136
            ],
            [
             0,
             39.399872,
             -8.224454
            ],
            [
             0,
             45.943161,
             24.96676
            ],
            [
             1,
             44.016521,
             21.005859
            ],
            [
             0,
             48.669026,
             19.699024
            ],
            [
             0,
             46.151241,
             14.995463
            ],
            [
             3,
             40.463667,
             -3.74922
            ],
            [
             3,
             60.128161,
             18.643501
            ],
            [
             0,
             46.818188,
             8.227512
            ],
            [
             4,
             48.379433,
             31.16558
            ],
            [
             57,
             55.378051,
             -3.435973
            ]
           ],
           "geo": "geo",
           "hovertemplate": "<b>%{hovertext}</b><br><br>Year=%{marker.size}<br>Terrorist attacks=%{marker.color}<extra></extra>",
           "hovertext": [
            "Albania",
            "Austria",
            "Belarus",
            "Belgium",
            "Bulgaria",
            "Croatia",
            "Cyprus",
            "Denmark",
            "Estonia",
            "Finland",
            "France",
            "Germany",
            "Greece",
            "Hungary",
            "Iceland",
            "Ireland",
            "Italy",
            "Luxembourg",
            "Malta",
            "Netherlands",
            "North Macedonia",
            "Norway",
            "Poland",
            "Portugal",
            "Romania",
            "Serbia",
            "Slovakia",
            "Slovenia",
            "Spain",
            "Sweden",
            "Switzerland",
            "Ukraine",
            "United Kingdom"
           ],
           "lat": [
            41.153332,
            47.516231,
            53.709807,
            50.503887,
            42.733883,
            45.1,
            35.126413,
            56.26392,
            58.595272,
            61.92411,
            46.227638,
            51.165691,
            39.074208,
            47.162494,
            64.963051,
            53.41291,
            41.87194,
            49.815273,
            35.937496,
            52.132633,
            41.608635,
            60.472024,
            51.919438,
            39.399872,
            45.943161,
            44.016521,
            48.669026,
            46.151241,
            40.463667,
            60.128161,
            46.818188,
            48.379433,
            55.378051
           ],
           "legendgroup": "",
           "lon": [
            20.168331,
            14.550072,
            27.953389,
            4.469936,
            25.48583,
            15.2,
            33.429859,
            9.501785,
            25.013607,
            25.748151,
            2.213749,
            10.451526,
            21.824312,
            19.503304,
            -19.020835,
            -8.24389,
            12.56738,
            6.129583,
            14.375416,
            5.291266,
            21.745275,
            8.468946,
            19.145136,
            -8.224454,
            24.96676,
            21.005859,
            19.699024,
            14.995463,
            -3.74922,
            18.643501,
            8.227512,
            31.16558,
            -3.435973
           ],
           "marker": {
            "color": [
             0,
             0,
             2,
             0,
             0,
             0,
             0,
             1,
             0,
             0,
             3,
             1,
             49,
             0,
             0,
             4,
             10,
             0,
             0,
             1,
             0,
             1,
             1,
             0,
             0,
             1,
             0,
             0,
             3,
             3,
             0,
             4,
             57
            ],
            "coloraxis": "coloraxis",
            "size": [
             2010,
             2010,
             2010,
             2010,
             2010,
             2010,
             2010,
             2010,
             2010,
             2010,
             2010,
             2010,
             2010,
             2010,
             2010,
             2010,
             2010,
             2010,
             2010,
             2010,
             2010,
             2010,
             2010,
             2010,
             2010,
             2010,
             2010,
             2010,
             2010,
             2010,
             2010,
             2010,
             2010
            ],
            "sizemode": "area",
            "sizeref": 20.17,
            "symbol": "circle"
           },
           "mode": "markers",
           "name": "",
           "showlegend": false,
           "type": "scattergeo"
          }
         ],
         "name": "2010"
        },
        {
         "data": [
          {
           "customdata": [
            [
             0,
             41.153332,
             20.168331
            ],
            [
             1,
             47.516231,
             14.550072
            ],
            [
             1,
             53.709807,
             27.953389
            ],
            [
             0,
             50.503887,
             4.469936
            ],
            [
             2,
             42.733883,
             25.48583
            ],
            [
             0,
             45.1,
             15.2
            ],
            [
             0,
             35.126413,
             33.429859
            ],
            [
             0,
             56.26392,
             9.501785
            ],
            [
             1,
             58.595272,
             25.013607
            ],
            [
             0,
             61.92411,
             25.748151
            ],
            [
             8,
             46.227638,
             2.213749
            ],
            [
             8,
             51.165691,
             10.451526
            ],
            [
             11,
             39.074208,
             21.824312
            ],
            [
             0,
             47.162494,
             19.503304
            ],
            [
             0,
             64.963051,
             -19.020835
            ],
            [
             4,
             53.41291,
             -8.24389
            ],
            [
             5,
             41.87194,
             12.56738
            ],
            [
             0,
             49.815273,
             6.129583
            ],
            [
             0,
             35.937496,
             14.375416
            ],
            [
             2,
             52.132633,
             5.291266
            ],
            [
             0,
             41.608635,
             21.745275
            ],
            [
             3,
             60.472024,
             8.468946
            ],
            [
             0,
             51.919438,
             19.145136
            ],
            [
             2,
             39.399872,
             -8.224454
            ],
            [
             0,
             45.943161,
             24.96676
            ],
            [
             0,
             44.016521,
             21.005859
            ],
            [
             0,
             48.669026,
             19.699024
            ],
            [
             0,
             46.151241,
             14.995463
            ],
            [
             0,
             40.463667,
             -3.74922
            ],
            [
             1,
             60.128161,
             18.643501
            ],
            [
             3,
             46.818188,
             8.227512
            ],
            [
             3,
             48.379433,
             31.16558
            ],
            [
             47,
             55.378051,
             -3.435973
            ]
           ],
           "geo": "geo",
           "hovertemplate": "<b>%{hovertext}</b><br><br>Year=%{marker.size}<br>Terrorist attacks=%{marker.color}<extra></extra>",
           "hovertext": [
            "Albania",
            "Austria",
            "Belarus",
            "Belgium",
            "Bulgaria",
            "Croatia",
            "Cyprus",
            "Denmark",
            "Estonia",
            "Finland",
            "France",
            "Germany",
            "Greece",
            "Hungary",
            "Iceland",
            "Ireland",
            "Italy",
            "Luxembourg",
            "Malta",
            "Netherlands",
            "North Macedonia",
            "Norway",
            "Poland",
            "Portugal",
            "Romania",
            "Serbia",
            "Slovakia",
            "Slovenia",
            "Spain",
            "Sweden",
            "Switzerland",
            "Ukraine",
            "United Kingdom"
           ],
           "lat": [
            41.153332,
            47.516231,
            53.709807,
            50.503887,
            42.733883,
            45.1,
            35.126413,
            56.26392,
            58.595272,
            61.92411,
            46.227638,
            51.165691,
            39.074208,
            47.162494,
            64.963051,
            53.41291,
            41.87194,
            49.815273,
            35.937496,
            52.132633,
            41.608635,
            60.472024,
            51.919438,
            39.399872,
            45.943161,
            44.016521,
            48.669026,
            46.151241,
            40.463667,
            60.128161,
            46.818188,
            48.379433,
            55.378051
           ],
           "legendgroup": "",
           "lon": [
            20.168331,
            14.550072,
            27.953389,
            4.469936,
            25.48583,
            15.2,
            33.429859,
            9.501785,
            25.013607,
            25.748151,
            2.213749,
            10.451526,
            21.824312,
            19.503304,
            -19.020835,
            -8.24389,
            12.56738,
            6.129583,
            14.375416,
            5.291266,
            21.745275,
            8.468946,
            19.145136,
            -8.224454,
            24.96676,
            21.005859,
            19.699024,
            14.995463,
            -3.74922,
            18.643501,
            8.227512,
            31.16558,
            -3.435973
           ],
           "marker": {
            "color": [
             0,
             1,
             1,
             0,
             2,
             0,
             0,
             0,
             1,
             0,
             8,
             8,
             11,
             0,
             0,
             4,
             5,
             0,
             0,
             2,
             0,
             3,
             0,
             2,
             0,
             0,
             0,
             0,
             0,
             1,
             3,
             3,
             47
            ],
            "coloraxis": "coloraxis",
            "size": [
             2011,
             2011,
             2011,
             2011,
             2011,
             2011,
             2011,
             2011,
             2011,
             2011,
             2011,
             2011,
             2011,
             2011,
             2011,
             2011,
             2011,
             2011,
             2011,
             2011,
             2011,
             2011,
             2011,
             2011,
             2011,
             2011,
             2011,
             2011,
             2011,
             2011,
             2011,
             2011,
             2011
            ],
            "sizemode": "area",
            "sizeref": 20.17,
            "symbol": "circle"
           },
           "mode": "markers",
           "name": "",
           "showlegend": false,
           "type": "scattergeo"
          }
         ],
         "name": "2011"
        },
        {
         "data": [
          {
           "customdata": [
            [
             0,
             41.153332,
             20.168331
            ],
            [
             0,
             47.516231,
             14.550072
            ],
            [
             3,
             53.709807,
             27.953389
            ],
            [
             1,
             50.503887,
             4.469936
            ],
            [
             2,
             42.733883,
             25.48583
            ],
            [
             0,
             45.1,
             15.2
            ],
            [
             1,
             35.126413,
             33.429859
            ],
            [
             0,
             56.26392,
             9.501785
            ],
            [
             0,
             58.595272,
             25.013607
            ],
            [
             0,
             61.92411,
             25.748151
            ],
            [
             66,
             46.227638,
             2.213749
            ],
            [
             5,
             51.165691,
             10.451526
            ],
            [
             22,
             39.074208,
             21.824312
            ],
            [
             0,
             47.162494,
             19.503304
            ],
            [
             1,
             64.963051,
             -19.020835
            ],
            [
             29,
             53.41291,
             -8.24389
            ],
            [
             10,
             41.87194,
             12.56738
            ],
            [
             0,
             49.815273,
             6.129583
            ],
            [
             0,
             35.937496,
             14.375416
            ],
            [
             0,
             52.132633,
             5.291266
            ],
            [
             1,
             41.608635,
             21.745275
            ],
            [
             0,
             60.472024,
             8.468946
            ],
            [
             0,
             51.919438,
             19.145136
            ],
            [
             0,
             39.399872,
             -8.224454
            ],
            [
             0,
             45.943161,
             24.96676
            ],
            [
             3,
             44.016521,
             21.005859
            ],
            [
             0,
             48.669026,
             19.699024
            ],
            [
             0,
             46.151241,
             14.995463
            ],
            [
             1,
             40.463667,
             -3.74922
            ],
            [
             2,
             60.128161,
             18.643501
            ],
            [
             0,
             46.818188,
             8.227512
            ],
            [
             8,
             48.379433,
             31.16558
            ],
            [
             55,
             55.378051,
             -3.435973
            ]
           ],
           "geo": "geo",
           "hovertemplate": "<b>%{hovertext}</b><br><br>Year=%{marker.size}<br>Terrorist attacks=%{marker.color}<extra></extra>",
           "hovertext": [
            "Albania",
            "Austria",
            "Belarus",
            "Belgium",
            "Bulgaria",
            "Croatia",
            "Cyprus",
            "Denmark",
            "Estonia",
            "Finland",
            "France",
            "Germany",
            "Greece",
            "Hungary",
            "Iceland",
            "Ireland",
            "Italy",
            "Luxembourg",
            "Malta",
            "Netherlands",
            "North Macedonia",
            "Norway",
            "Poland",
            "Portugal",
            "Romania",
            "Serbia",
            "Slovakia",
            "Slovenia",
            "Spain",
            "Sweden",
            "Switzerland",
            "Ukraine",
            "United Kingdom"
           ],
           "lat": [
            41.153332,
            47.516231,
            53.709807,
            50.503887,
            42.733883,
            45.1,
            35.126413,
            56.26392,
            58.595272,
            61.92411,
            46.227638,
            51.165691,
            39.074208,
            47.162494,
            64.963051,
            53.41291,
            41.87194,
            49.815273,
            35.937496,
            52.132633,
            41.608635,
            60.472024,
            51.919438,
            39.399872,
            45.943161,
            44.016521,
            48.669026,
            46.151241,
            40.463667,
            60.128161,
            46.818188,
            48.379433,
            55.378051
           ],
           "legendgroup": "",
           "lon": [
            20.168331,
            14.550072,
            27.953389,
            4.469936,
            25.48583,
            15.2,
            33.429859,
            9.501785,
            25.013607,
            25.748151,
            2.213749,
            10.451526,
            21.824312,
            19.503304,
            -19.020835,
            -8.24389,
            12.56738,
            6.129583,
            14.375416,
            5.291266,
            21.745275,
            8.468946,
            19.145136,
            -8.224454,
            24.96676,
            21.005859,
            19.699024,
            14.995463,
            -3.74922,
            18.643501,
            8.227512,
            31.16558,
            -3.435973
           ],
           "marker": {
            "color": [
             0,
             0,
             3,
             1,
             2,
             0,
             1,
             0,
             0,
             0,
             66,
             5,
             22,
             0,
             1,
             29,
             10,
             0,
             0,
             0,
             1,
             0,
             0,
             0,
             0,
             3,
             0,
             0,
             1,
             2,
             0,
             8,
             55
            ],
            "coloraxis": "coloraxis",
            "size": [
             2012,
             2012,
             2012,
             2012,
             2012,
             2012,
             2012,
             2012,
             2012,
             2012,
             2012,
             2012,
             2012,
             2012,
             2012,
             2012,
             2012,
             2012,
             2012,
             2012,
             2012,
             2012,
             2012,
             2012,
             2012,
             2012,
             2012,
             2012,
             2012,
             2012,
             2012,
             2012,
             2012
            ],
            "sizemode": "area",
            "sizeref": 20.17,
            "symbol": "circle"
           },
           "mode": "markers",
           "name": "",
           "showlegend": false,
           "type": "scattergeo"
          }
         ],
         "name": "2012"
        },
        {
         "data": [
          {
           "customdata": [
            [
             1,
             41.153332,
             20.168331
            ],
            [
             1,
             47.516231,
             14.550072
            ],
            [
             0,
             53.709807,
             27.953389
            ],
            [
             0,
             50.503887,
             4.469936
            ],
            [
             3,
             42.733883,
             25.48583
            ],
            [
             2,
             45.1,
             15.2
            ],
            [
             9,
             35.126413,
             33.429859
            ],
            [
             1,
             56.26392,
             9.501785
            ],
            [
             0,
             58.595272,
             25.013607
            ],
            [
             0,
             61.92411,
             25.748151
            ],
            [
             18,
             46.227638,
             2.213749
            ],
            [
             0,
             51.165691,
             10.451526
            ],
            [
             54,
             39.074208,
             21.824312
            ],
            [
             0,
             47.162494,
             19.503304
            ],
            [
             0,
             64.963051,
             -19.020835
            ],
            [
             27,
             53.41291,
             -8.24389
            ],
            [
             7,
             41.87194,
             12.56738
            ],
            [
             0,
             49.815273,
             6.129583
            ],
            [
             0,
             35.937496,
             14.375416
            ],
            [
             0,
             52.132633,
             5.291266
            ],
            [
             0,
             41.608635,
             21.745275
            ],
            [
             0,
             60.472024,
             8.468946
            ],
            [
             0,
             51.919438,
             19.145136
            ],
            [
             0,
             39.399872,
             -8.224454
            ],
            [
             0,
             45.943161,
             24.96676
            ],
            [
             0,
             44.016521,
             21.005859
            ],
            [
             0,
             48.669026,
             19.699024
            ],
            [
             0,
             46.151241,
             14.995463
            ],
            [
             5,
             40.463667,
             -3.74922
            ],
            [
             0,
             60.128161,
             18.643501
            ],
            [
             2,
             46.818188,
             8.227512
            ],
            [
             5,
             48.379433,
             31.16558
            ],
            [
             137,
             55.378051,
             -3.435973
            ]
           ],
           "geo": "geo",
           "hovertemplate": "<b>%{hovertext}</b><br><br>Year=%{marker.size}<br>Terrorist attacks=%{marker.color}<extra></extra>",
           "hovertext": [
            "Albania",
            "Austria",
            "Belarus",
            "Belgium",
            "Bulgaria",
            "Croatia",
            "Cyprus",
            "Denmark",
            "Estonia",
            "Finland",
            "France",
            "Germany",
            "Greece",
            "Hungary",
            "Iceland",
            "Ireland",
            "Italy",
            "Luxembourg",
            "Malta",
            "Netherlands",
            "North Macedonia",
            "Norway",
            "Poland",
            "Portugal",
            "Romania",
            "Serbia",
            "Slovakia",
            "Slovenia",
            "Spain",
            "Sweden",
            "Switzerland",
            "Ukraine",
            "United Kingdom"
           ],
           "lat": [
            41.153332,
            47.516231,
            53.709807,
            50.503887,
            42.733883,
            45.1,
            35.126413,
            56.26392,
            58.595272,
            61.92411,
            46.227638,
            51.165691,
            39.074208,
            47.162494,
            64.963051,
            53.41291,
            41.87194,
            49.815273,
            35.937496,
            52.132633,
            41.608635,
            60.472024,
            51.919438,
            39.399872,
            45.943161,
            44.016521,
            48.669026,
            46.151241,
            40.463667,
            60.128161,
            46.818188,
            48.379433,
            55.378051
           ],
           "legendgroup": "",
           "lon": [
            20.168331,
            14.550072,
            27.953389,
            4.469936,
            25.48583,
            15.2,
            33.429859,
            9.501785,
            25.013607,
            25.748151,
            2.213749,
            10.451526,
            21.824312,
            19.503304,
            -19.020835,
            -8.24389,
            12.56738,
            6.129583,
            14.375416,
            5.291266,
            21.745275,
            8.468946,
            19.145136,
            -8.224454,
            24.96676,
            21.005859,
            19.699024,
            14.995463,
            -3.74922,
            18.643501,
            8.227512,
            31.16558,
            -3.435973
           ],
           "marker": {
            "color": [
             1,
             1,
             0,
             0,
             3,
             2,
             9,
             1,
             0,
             0,
             18,
             0,
             54,
             0,
             0,
             27,
             7,
             0,
             0,
             0,
             0,
             0,
             0,
             0,
             0,
             0,
             0,
             0,
             5,
             0,
             2,
             5,
             137
            ],
            "coloraxis": "coloraxis",
            "size": [
             2013,
             2013,
             2013,
             2013,
             2013,
             2013,
             2013,
             2013,
             2013,
             2013,
             2013,
             2013,
             2013,
             2013,
             2013,
             2013,
             2013,
             2013,
             2013,
             2013,
             2013,
             2013,
             2013,
             2013,
             2013,
             2013,
             2013,
             2013,
             2013,
             2013,
             2013,
             2013,
             2013
            ],
            "sizemode": "area",
            "sizeref": 20.17,
            "symbol": "circle"
           },
           "mode": "markers",
           "name": "",
           "showlegend": false,
           "type": "scattergeo"
          }
         ],
         "name": "2013"
        },
        {
         "data": [
          {
           "customdata": [
            [
             2,
             41.153332,
             20.168331
            ],
            [
             0,
             47.516231,
             14.550072
            ],
            [
             0,
             53.709807,
             27.953389
            ],
            [
             2,
             50.503887,
             4.469936
            ],
            [
             1,
             42.733883,
             25.48583
            ],
            [
             0,
             45.1,
             15.2
            ],
            [
             5,
             35.126413,
             33.429859
            ],
            [
             0,
             56.26392,
             9.501785
            ],
            [
             0,
             58.595272,
             25.013607
            ],
            [
             0,
             61.92411,
             25.748151
            ],
            [
             14,
             46.227638,
             2.213749
            ],
            [
             13,
             51.165691,
             10.451526
            ],
            [
             26,
             39.074208,
             21.824312
            ],
            [
             1,
             47.162494,
             19.503304
            ],
            [
             1,
             64.963051,
             -19.020835
            ],
            [
             33,
             53.41291,
             -8.24389
            ],
            [
             7,
             41.87194,
             12.56738
            ],
            [
             0,
             49.815273,
             6.129583
            ],
            [
             1,
             35.937496,
             14.375416
            ],
            [
             1,
             52.132633,
             5.291266
            ],
            [
             3,
             41.608635,
             21.745275
            ],
            [
             0,
             60.472024,
             8.468946
            ],
            [
             0,
             51.919438,
             19.145136
            ],
            [
             0,
             39.399872,
             -8.224454
            ],
            [
             0,
             45.943161,
             24.96676
            ],
            [
             0,
             44.016521,
             21.005859
            ],
            [
             0,
             48.669026,
             19.699024
            ],
            [
             0,
             46.151241,
             14.995463
            ],
            [
             4,
             40.463667,
             -3.74922
            ],
            [
             5,
             60.128161,
             18.643501
            ],
            [
             0,
             46.818188,
             8.227512
            ],
            [
             895,
             48.379433,
             31.16558
            ],
            [
             103,
             55.378051,
             -3.435973
            ]
           ],
           "geo": "geo",
           "hovertemplate": "<b>%{hovertext}</b><br><br>Year=%{marker.size}<br>Terrorist attacks=%{marker.color}<extra></extra>",
           "hovertext": [
            "Albania",
            "Austria",
            "Belarus",
            "Belgium",
            "Bulgaria",
            "Croatia",
            "Cyprus",
            "Denmark",
            "Estonia",
            "Finland",
            "France",
            "Germany",
            "Greece",
            "Hungary",
            "Iceland",
            "Ireland",
            "Italy",
            "Luxembourg",
            "Malta",
            "Netherlands",
            "North Macedonia",
            "Norway",
            "Poland",
            "Portugal",
            "Romania",
            "Serbia",
            "Slovakia",
            "Slovenia",
            "Spain",
            "Sweden",
            "Switzerland",
            "Ukraine",
            "United Kingdom"
           ],
           "lat": [
            41.153332,
            47.516231,
            53.709807,
            50.503887,
            42.733883,
            45.1,
            35.126413,
            56.26392,
            58.595272,
            61.92411,
            46.227638,
            51.165691,
            39.074208,
            47.162494,
            64.963051,
            53.41291,
            41.87194,
            49.815273,
            35.937496,
            52.132633,
            41.608635,
            60.472024,
            51.919438,
            39.399872,
            45.943161,
            44.016521,
            48.669026,
            46.151241,
            40.463667,
            60.128161,
            46.818188,
            48.379433,
            55.378051
           ],
           "legendgroup": "",
           "lon": [
            20.168331,
            14.550072,
            27.953389,
            4.469936,
            25.48583,
            15.2,
            33.429859,
            9.501785,
            25.013607,
            25.748151,
            2.213749,
            10.451526,
            21.824312,
            19.503304,
            -19.020835,
            -8.24389,
            12.56738,
            6.129583,
            14.375416,
            5.291266,
            21.745275,
            8.468946,
            19.145136,
            -8.224454,
            24.96676,
            21.005859,
            19.699024,
            14.995463,
            -3.74922,
            18.643501,
            8.227512,
            31.16558,
            -3.435973
           ],
           "marker": {
            "color": [
             2,
             0,
             0,
             2,
             1,
             0,
             5,
             0,
             0,
             0,
             14,
             13,
             26,
             1,
             1,
             33,
             7,
             0,
             1,
             1,
             3,
             0,
             0,
             0,
             0,
             0,
             0,
             0,
             4,
             5,
             0,
             895,
             103
            ],
            "coloraxis": "coloraxis",
            "size": [
             2014,
             2014,
             2014,
             2014,
             2014,
             2014,
             2014,
             2014,
             2014,
             2014,
             2014,
             2014,
             2014,
             2014,
             2014,
             2014,
             2014,
             2014,
             2014,
             2014,
             2014,
             2014,
             2014,
             2014,
             2014,
             2014,
             2014,
             2014,
             2014,
             2014,
             2014,
             2014,
             2014
            ],
            "sizemode": "area",
            "sizeref": 20.17,
            "symbol": "circle"
           },
           "mode": "markers",
           "name": "",
           "showlegend": false,
           "type": "scattergeo"
          }
         ],
         "name": "2014"
        },
        {
         "data": [
          {
           "customdata": [
            [
             4,
             41.153332,
             20.168331
            ],
            [
             0,
             47.516231,
             14.550072
            ],
            [
             0,
             53.709807,
             27.953389
            ],
            [
             0,
             50.503887,
             4.469936
            ],
            [
             2,
             42.733883,
             25.48583
            ],
            [
             0,
             45.1,
             15.2
            ],
            [
             3,
             35.126413,
             33.429859
            ],
            [
             4,
             56.26392,
             9.501785
            ],
            [
             2,
             58.595272,
             25.013607
            ],
            [
             9,
             61.92411,
             25.748151
            ],
            [
             37,
             46.227638,
             2.213749
            ],
            [
             65,
             51.165691,
             10.451526
            ],
            [
             31,
             39.074208,
             21.824312
            ],
            [
             1,
             47.162494,
             19.503304
            ],
            [
             0,
             64.963051,
             -19.020835
            ],
            [
             28,
             53.41291,
             -8.24389
            ],
            [
             5,
             41.87194,
             12.56738
            ],
            [
             0,
             49.815273,
             6.129583
            ],
            [
             1,
             35.937496,
             14.375416
            ],
            [
             3,
             52.132633,
             5.291266
            ],
            [
             4,
             41.608635,
             21.745275
            ],
            [
             0,
             60.472024,
             8.468946
            ],
            [
             0,
             51.919438,
             19.145136
            ],
            [
             0,
             39.399872,
             -8.224454
            ],
            [
             0,
             45.943161,
             24.96676
            ],
            [
             0,
             44.016521,
             21.005859
            ],
            [
             0,
             48.669026,
             19.699024
            ],
            [
             0,
             46.151241,
             14.995463
            ],
            [
             1,
             40.463667,
             -3.74922
            ],
            [
             32,
             60.128161,
             18.643501
            ],
            [
             0,
             46.818188,
             8.227512
            ],
            [
             637,
             48.379433,
             31.16558
            ],
            [
             114,
             55.378051,
             -3.435973
            ]
           ],
           "geo": "geo",
           "hovertemplate": "<b>%{hovertext}</b><br><br>Year=%{marker.size}<br>Terrorist attacks=%{marker.color}<extra></extra>",
           "hovertext": [
            "Albania",
            "Austria",
            "Belarus",
            "Belgium",
            "Bulgaria",
            "Croatia",
            "Cyprus",
            "Denmark",
            "Estonia",
            "Finland",
            "France",
            "Germany",
            "Greece",
            "Hungary",
            "Iceland",
            "Ireland",
            "Italy",
            "Luxembourg",
            "Malta",
            "Netherlands",
            "North Macedonia",
            "Norway",
            "Poland",
            "Portugal",
            "Romania",
            "Serbia",
            "Slovakia",
            "Slovenia",
            "Spain",
            "Sweden",
            "Switzerland",
            "Ukraine",
            "United Kingdom"
           ],
           "lat": [
            41.153332,
            47.516231,
            53.709807,
            50.503887,
            42.733883,
            45.1,
            35.126413,
            56.26392,
            58.595272,
            61.92411,
            46.227638,
            51.165691,
            39.074208,
            47.162494,
            64.963051,
            53.41291,
            41.87194,
            49.815273,
            35.937496,
            52.132633,
            41.608635,
            60.472024,
            51.919438,
            39.399872,
            45.943161,
            44.016521,
            48.669026,
            46.151241,
            40.463667,
            60.128161,
            46.818188,
            48.379433,
            55.378051
           ],
           "legendgroup": "",
           "lon": [
            20.168331,
            14.550072,
            27.953389,
            4.469936,
            25.48583,
            15.2,
            33.429859,
            9.501785,
            25.013607,
            25.748151,
            2.213749,
            10.451526,
            21.824312,
            19.503304,
            -19.020835,
            -8.24389,
            12.56738,
            6.129583,
            14.375416,
            5.291266,
            21.745275,
            8.468946,
            19.145136,
            -8.224454,
            24.96676,
            21.005859,
            19.699024,
            14.995463,
            -3.74922,
            18.643501,
            8.227512,
            31.16558,
            -3.435973
           ],
           "marker": {
            "color": [
             4,
             0,
             0,
             0,
             2,
             0,
             3,
             4,
             2,
             9,
             37,
             65,
             31,
             1,
             0,
             28,
             5,
             0,
             1,
             3,
             4,
             0,
             0,
             0,
             0,
             0,
             0,
             0,
             1,
             32,
             0,
             637,
             114
            ],
            "coloraxis": "coloraxis",
            "size": [
             2015,
             2015,
             2015,
             2015,
             2015,
             2015,
             2015,
             2015,
             2015,
             2015,
             2015,
             2015,
             2015,
             2015,
             2015,
             2015,
             2015,
             2015,
             2015,
             2015,
             2015,
             2015,
             2015,
             2015,
             2015,
             2015,
             2015,
             2015,
             2015,
             2015,
             2015,
             2015,
             2015
            ],
            "sizemode": "area",
            "sizeref": 20.17,
            "symbol": "circle"
           },
           "mode": "markers",
           "name": "",
           "showlegend": false,
           "type": "scattergeo"
          }
         ],
         "name": "2015"
        },
        {
         "data": [
          {
           "customdata": [
            [
             2,
             41.153332,
             20.168331
            ],
            [
             3,
             47.516231,
             14.550072
            ],
            [
             0,
             53.709807,
             27.953389
            ],
            [
             6,
             50.503887,
             4.469936
            ],
            [
             1,
             42.733883,
             25.48583
            ],
            [
             0,
             45.1,
             15.2
            ],
            [
             2,
             35.126413,
             33.429859
            ],
            [
             1,
             56.26392,
             9.501785
            ],
            [
             0,
             58.595272,
             25.013607
            ],
            [
             3,
             61.92411,
             25.748151
            ],
            [
             26,
             46.227638,
             2.213749
            ],
            [
             44,
             51.165691,
             10.451526
            ],
            [
             31,
             39.074208,
             21.824312
            ],
            [
             1,
             47.162494,
             19.503304
            ],
            [
             0,
             64.963051,
             -19.020835
            ],
            [
             15,
             53.41291,
             -8.24389
            ],
            [
             11,
             41.87194,
             12.56738
            ],
            [
             0,
             49.815273,
             6.129583
            ],
            [
             0,
             35.937496,
             14.375416
            ],
            [
             6,
             52.132633,
             5.291266
            ],
            [
             0,
             41.608635,
             21.745275
            ],
            [
             0,
             60.472024,
             8.468946
            ],
            [
             2,
             51.919438,
             19.145136
            ],
            [
             0,
             39.399872,
             -8.224454
            ],
            [
             0,
             45.943161,
             24.96676
            ],
            [
             0,
             44.016521,
             21.005859
            ],
            [
             1,
             48.669026,
             19.699024
            ],
            [
             0,
             46.151241,
             14.995463
            ],
            [
             3,
             40.463667,
             -3.74922
            ],
            [
             16,
             60.128161,
             18.643501
            ],
            [
             1,
             46.818188,
             8.227512
            ],
            [
             61,
             48.379433,
             31.16558
            ],
            [
             105,
             55.378051,
             -3.435973
            ]
           ],
           "geo": "geo",
           "hovertemplate": "<b>%{hovertext}</b><br><br>Year=%{marker.size}<br>Terrorist attacks=%{marker.color}<extra></extra>",
           "hovertext": [
            "Albania",
            "Austria",
            "Belarus",
            "Belgium",
            "Bulgaria",
            "Croatia",
            "Cyprus",
            "Denmark",
            "Estonia",
            "Finland",
            "France",
            "Germany",
            "Greece",
            "Hungary",
            "Iceland",
            "Ireland",
            "Italy",
            "Luxembourg",
            "Malta",
            "Netherlands",
            "North Macedonia",
            "Norway",
            "Poland",
            "Portugal",
            "Romania",
            "Serbia",
            "Slovakia",
            "Slovenia",
            "Spain",
            "Sweden",
            "Switzerland",
            "Ukraine",
            "United Kingdom"
           ],
           "lat": [
            41.153332,
            47.516231,
            53.709807,
            50.503887,
            42.733883,
            45.1,
            35.126413,
            56.26392,
            58.595272,
            61.92411,
            46.227638,
            51.165691,
            39.074208,
            47.162494,
            64.963051,
            53.41291,
            41.87194,
            49.815273,
            35.937496,
            52.132633,
            41.608635,
            60.472024,
            51.919438,
            39.399872,
            45.943161,
            44.016521,
            48.669026,
            46.151241,
            40.463667,
            60.128161,
            46.818188,
            48.379433,
            55.378051
           ],
           "legendgroup": "",
           "lon": [
            20.168331,
            14.550072,
            27.953389,
            4.469936,
            25.48583,
            15.2,
            33.429859,
            9.501785,
            25.013607,
            25.748151,
            2.213749,
            10.451526,
            21.824312,
            19.503304,
            -19.020835,
            -8.24389,
            12.56738,
            6.129583,
            14.375416,
            5.291266,
            21.745275,
            8.468946,
            19.145136,
            -8.224454,
            24.96676,
            21.005859,
            19.699024,
            14.995463,
            -3.74922,
            18.643501,
            8.227512,
            31.16558,
            -3.435973
           ],
           "marker": {
            "color": [
             2,
             3,
             0,
             6,
             1,
             0,
             2,
             1,
             0,
             3,
             26,
             44,
             31,
             1,
             0,
             15,
             11,
             0,
             0,
             6,
             0,
             0,
             2,
             0,
             0,
             0,
             1,
             0,
             3,
             16,
             1,
             61,
             105
            ],
            "coloraxis": "coloraxis",
            "size": [
             2016,
             2016,
             2016,
             2016,
             2016,
             2016,
             2016,
             2016,
             2016,
             2016,
             2016,
             2016,
             2016,
             2016,
             2016,
             2016,
             2016,
             2016,
             2016,
             2016,
             2016,
             2016,
             2016,
             2016,
             2016,
             2016,
             2016,
             2016,
             2016,
             2016,
             2016,
             2016,
             2016
            ],
            "sizemode": "area",
            "sizeref": 20.17,
            "symbol": "circle"
           },
           "mode": "markers",
           "name": "",
           "showlegend": false,
           "type": "scattergeo"
          }
         ],
         "name": "2016"
        },
        {
         "data": [
          {
           "customdata": [
            [
             1,
             41.153332,
             20.168331
            ],
            [
             1,
             47.516231,
             14.550072
            ],
            [
             0,
             53.709807,
             27.953389
            ],
            [
             3,
             50.503887,
             4.469936
            ],
            [
             0,
             42.733883,
             25.48583
            ],
            [
             0,
             45.1,
             15.2
            ],
            [
             0,
             35.126413,
             33.429859
            ],
            [
             0,
             56.26392,
             9.501785
            ],
            [
             0,
             58.595272,
             25.013607
            ],
            [
             2,
             61.92411,
             25.748151
            ],
            [
             41,
             46.227638,
             2.213749
            ],
            [
             27,
             51.165691,
             10.451526
            ],
            [
             43,
             39.074208,
             21.824312
            ],
            [
             0,
             47.162494,
             19.503304
            ],
            [
             0,
             64.963051,
             -19.020835
            ],
            [
             17,
             53.41291,
             -8.24389
            ],
            [
             8,
             41.87194,
             12.56738
            ],
            [
             0,
             49.815273,
             6.129583
            ],
            [
             3,
             35.937496,
             14.375416
            ],
            [
             1,
             52.132633,
             5.291266
            ],
            [
             1,
             41.608635,
             21.745275
            ],
            [
             1,
             60.472024,
             8.468946
            ],
            [
             1,
             51.919438,
             19.145136
            ],
            [
             0,
             39.399872,
             -8.224454
            ],
            [
             0,
             45.943161,
             24.96676
            ],
            [
             1,
             44.016521,
             21.005859
            ],
            [
             0,
             48.669026,
             19.699024
            ],
            [
             0,
             46.151241,
             14.995463
            ],
            [
             4,
             40.463667,
             -3.74922
            ],
            [
             18,
             60.128161,
             18.643501
            ],
            [
             0,
             46.818188,
             8.227512
            ],
            [
             61,
             48.379433,
             31.16558
            ],
            [
             122,
             55.378051,
             -3.435973
            ]
           ],
           "geo": "geo",
           "hovertemplate": "<b>%{hovertext}</b><br><br>Year=%{marker.size}<br>Terrorist attacks=%{marker.color}<extra></extra>",
           "hovertext": [
            "Albania",
            "Austria",
            "Belarus",
            "Belgium",
            "Bulgaria",
            "Croatia",
            "Cyprus",
            "Denmark",
            "Estonia",
            "Finland",
            "France",
            "Germany",
            "Greece",
            "Hungary",
            "Iceland",
            "Ireland",
            "Italy",
            "Luxembourg",
            "Malta",
            "Netherlands",
            "North Macedonia",
            "Norway",
            "Poland",
            "Portugal",
            "Romania",
            "Serbia",
            "Slovakia",
            "Slovenia",
            "Spain",
            "Sweden",
            "Switzerland",
            "Ukraine",
            "United Kingdom"
           ],
           "lat": [
            41.153332,
            47.516231,
            53.709807,
            50.503887,
            42.733883,
            45.1,
            35.126413,
            56.26392,
            58.595272,
            61.92411,
            46.227638,
            51.165691,
            39.074208,
            47.162494,
            64.963051,
            53.41291,
            41.87194,
            49.815273,
            35.937496,
            52.132633,
            41.608635,
            60.472024,
            51.919438,
            39.399872,
            45.943161,
            44.016521,
            48.669026,
            46.151241,
            40.463667,
            60.128161,
            46.818188,
            48.379433,
            55.378051
           ],
           "legendgroup": "",
           "lon": [
            20.168331,
            14.550072,
            27.953389,
            4.469936,
            25.48583,
            15.2,
            33.429859,
            9.501785,
            25.013607,
            25.748151,
            2.213749,
            10.451526,
            21.824312,
            19.503304,
            -19.020835,
            -8.24389,
            12.56738,
            6.129583,
            14.375416,
            5.291266,
            21.745275,
            8.468946,
            19.145136,
            -8.224454,
            24.96676,
            21.005859,
            19.699024,
            14.995463,
            -3.74922,
            18.643501,
            8.227512,
            31.16558,
            -3.435973
           ],
           "marker": {
            "color": [
             1,
             1,
             0,
             3,
             0,
             0,
             0,
             0,
             0,
             2,
             41,
             27,
             43,
             0,
             0,
             17,
             8,
             0,
             3,
             1,
             1,
             1,
             1,
             0,
             0,
             1,
             0,
             0,
             4,
             18,
             0,
             61,
             122
            ],
            "coloraxis": "coloraxis",
            "size": [
             2017,
             2017,
             2017,
             2017,
             2017,
             2017,
             2017,
             2017,
             2017,
             2017,
             2017,
             2017,
             2017,
             2017,
             2017,
             2017,
             2017,
             2017,
             2017,
             2017,
             2017,
             2017,
             2017,
             2017,
             2017,
             2017,
             2017,
             2017,
             2017,
             2017,
             2017,
             2017,
             2017
            ],
            "sizemode": "area",
            "sizeref": 20.17,
            "symbol": "circle"
           },
           "mode": "markers",
           "name": "",
           "showlegend": false,
           "type": "scattergeo"
          }
         ],
         "name": "2017"
        }
       ],
       "layout": {
        "coloraxis": {
         "colorbar": {
          "title": {
           "text": "Terrorist attacks"
          }
         },
         "colorscale": [
          [
           0,
           "rgb(255,247,236)"
          ],
          [
           0.125,
           "rgb(254,232,200)"
          ],
          [
           0.25,
           "rgb(253,212,158)"
          ],
          [
           0.375,
           "rgb(253,187,132)"
          ],
          [
           0.5,
           "rgb(252,141,89)"
          ],
          [
           0.625,
           "rgb(239,101,72)"
          ],
          [
           0.75,
           "rgb(215,48,31)"
          ],
          [
           0.875,
           "rgb(179,0,0)"
          ],
          [
           1,
           "rgb(127,0,0)"
          ]
         ]
        },
        "geo": {
         "bgcolor": "whitesmoke",
         "center": {},
         "countrycolor": "whitesmoke",
         "domain": {
          "x": [
           0,
           1
          ],
          "y": [
           0,
           1
          ]
         },
         "landcolor": "#26a783",
         "projection": {
          "type": "natural earth"
         },
         "resolution": 50,
         "scope": "europe",
         "showcountries": true,
         "visible": true
        },
        "height": 650,
        "legend": {
         "itemsizing": "constant",
         "tracegroupgap": 0
        },
        "margin": {
         "t": 60
        },
        "sliders": [
         {
          "active": 0,
          "currentvalue": {
           "prefix": "Year="
          },
          "len": 0.9,
          "pad": {
           "b": 10,
           "t": 60
          },
          "steps": [
           {
            "args": [
             [
              "2000"
             ],
             {
              "frame": {
               "duration": 0,
               "redraw": true
              },
              "fromcurrent": true,
              "mode": "immediate",
              "transition": {
               "duration": 0,
               "easing": "linear"
              }
             }
            ],
            "label": "2000",
            "method": "animate"
           },
           {
            "args": [
             [
              "2001"
             ],
             {
              "frame": {
               "duration": 0,
               "redraw": true
              },
              "fromcurrent": true,
              "mode": "immediate",
              "transition": {
               "duration": 0,
               "easing": "linear"
              }
             }
            ],
            "label": "2001",
            "method": "animate"
           },
           {
            "args": [
             [
              "2002"
             ],
             {
              "frame": {
               "duration": 0,
               "redraw": true
              },
              "fromcurrent": true,
              "mode": "immediate",
              "transition": {
               "duration": 0,
               "easing": "linear"
              }
             }
            ],
            "label": "2002",
            "method": "animate"
           },
           {
            "args": [
             [
              "2003"
             ],
             {
              "frame": {
               "duration": 0,
               "redraw": true
              },
              "fromcurrent": true,
              "mode": "immediate",
              "transition": {
               "duration": 0,
               "easing": "linear"
              }
             }
            ],
            "label": "2003",
            "method": "animate"
           },
           {
            "args": [
             [
              "2004"
             ],
             {
              "frame": {
               "duration": 0,
               "redraw": true
              },
              "fromcurrent": true,
              "mode": "immediate",
              "transition": {
               "duration": 0,
               "easing": "linear"
              }
             }
            ],
            "label": "2004",
            "method": "animate"
           },
           {
            "args": [
             [
              "2005"
             ],
             {
              "frame": {
               "duration": 0,
               "redraw": true
              },
              "fromcurrent": true,
              "mode": "immediate",
              "transition": {
               "duration": 0,
               "easing": "linear"
              }
             }
            ],
            "label": "2005",
            "method": "animate"
           },
           {
            "args": [
             [
              "2006"
             ],
             {
              "frame": {
               "duration": 0,
               "redraw": true
              },
              "fromcurrent": true,
              "mode": "immediate",
              "transition": {
               "duration": 0,
               "easing": "linear"
              }
             }
            ],
            "label": "2006",
            "method": "animate"
           },
           {
            "args": [
             [
              "2007"
             ],
             {
              "frame": {
               "duration": 0,
               "redraw": true
              },
              "fromcurrent": true,
              "mode": "immediate",
              "transition": {
               "duration": 0,
               "easing": "linear"
              }
             }
            ],
            "label": "2007",
            "method": "animate"
           },
           {
            "args": [
             [
              "2008"
             ],
             {
              "frame": {
               "duration": 0,
               "redraw": true
              },
              "fromcurrent": true,
              "mode": "immediate",
              "transition": {
               "duration": 0,
               "easing": "linear"
              }
             }
            ],
            "label": "2008",
            "method": "animate"
           },
           {
            "args": [
             [
              "2009"
             ],
             {
              "frame": {
               "duration": 0,
               "redraw": true
              },
              "fromcurrent": true,
              "mode": "immediate",
              "transition": {
               "duration": 0,
               "easing": "linear"
              }
             }
            ],
            "label": "2009",
            "method": "animate"
           },
           {
            "args": [
             [
              "2010"
             ],
             {
              "frame": {
               "duration": 0,
               "redraw": true
              },
              "fromcurrent": true,
              "mode": "immediate",
              "transition": {
               "duration": 0,
               "easing": "linear"
              }
             }
            ],
            "label": "2010",
            "method": "animate"
           },
           {
            "args": [
             [
              "2011"
             ],
             {
              "frame": {
               "duration": 0,
               "redraw": true
              },
              "fromcurrent": true,
              "mode": "immediate",
              "transition": {
               "duration": 0,
               "easing": "linear"
              }
             }
            ],
            "label": "2011",
            "method": "animate"
           },
           {
            "args": [
             [
              "2012"
             ],
             {
              "frame": {
               "duration": 0,
               "redraw": true
              },
              "fromcurrent": true,
              "mode": "immediate",
              "transition": {
               "duration": 0,
               "easing": "linear"
              }
             }
            ],
            "label": "2012",
            "method": "animate"
           },
           {
            "args": [
             [
              "2013"
             ],
             {
              "frame": {
               "duration": 0,
               "redraw": true
              },
              "fromcurrent": true,
              "mode": "immediate",
              "transition": {
               "duration": 0,
               "easing": "linear"
              }
             }
            ],
            "label": "2013",
            "method": "animate"
           },
           {
            "args": [
             [
              "2014"
             ],
             {
              "frame": {
               "duration": 0,
               "redraw": true
              },
              "fromcurrent": true,
              "mode": "immediate",
              "transition": {
               "duration": 0,
               "easing": "linear"
              }
             }
            ],
            "label": "2014",
            "method": "animate"
           },
           {
            "args": [
             [
              "2015"
             ],
             {
              "frame": {
               "duration": 0,
               "redraw": true
              },
              "fromcurrent": true,
              "mode": "immediate",
              "transition": {
               "duration": 0,
               "easing": "linear"
              }
             }
            ],
            "label": "2015",
            "method": "animate"
           },
           {
            "args": [
             [
              "2016"
             ],
             {
              "frame": {
               "duration": 0,
               "redraw": true
              },
              "fromcurrent": true,
              "mode": "immediate",
              "transition": {
               "duration": 0,
               "easing": "linear"
              }
             }
            ],
            "label": "2016",
            "method": "animate"
           },
           {
            "args": [
             [
              "2017"
             ],
             {
              "frame": {
               "duration": 0,
               "redraw": true
              },
              "fromcurrent": true,
              "mode": "immediate",
              "transition": {
               "duration": 0,
               "easing": "linear"
              }
             }
            ],
            "label": "2017",
            "method": "animate"
           }
          ],
          "x": 0.1,
          "xanchor": "left",
          "y": 0,
          "yanchor": "top"
         }
        ],
        "template": {
         "data": {
          "bar": [
           {
            "error_x": {
             "color": "#2a3f5f"
            },
            "error_y": {
             "color": "#2a3f5f"
            },
            "marker": {
             "line": {
              "color": "#E5ECF6",
              "width": 0.5
             },
             "pattern": {
              "fillmode": "overlay",
              "size": 10,
              "solidity": 0.2
             }
            },
            "type": "bar"
           }
          ],
          "barpolar": [
           {
            "marker": {
             "line": {
              "color": "#E5ECF6",
              "width": 0.5
             },
             "pattern": {
              "fillmode": "overlay",
              "size": 10,
              "solidity": 0.2
             }
            },
            "type": "barpolar"
           }
          ],
          "carpet": [
           {
            "aaxis": {
             "endlinecolor": "#2a3f5f",
             "gridcolor": "white",
             "linecolor": "white",
             "minorgridcolor": "white",
             "startlinecolor": "#2a3f5f"
            },
            "baxis": {
             "endlinecolor": "#2a3f5f",
             "gridcolor": "white",
             "linecolor": "white",
             "minorgridcolor": "white",
             "startlinecolor": "#2a3f5f"
            },
            "type": "carpet"
           }
          ],
          "choropleth": [
           {
            "colorbar": {
             "outlinewidth": 0,
             "ticks": ""
            },
            "type": "choropleth"
           }
          ],
          "contour": [
           {
            "colorbar": {
             "outlinewidth": 0,
             "ticks": ""
            },
            "colorscale": [
             [
              0,
              "#0d0887"
             ],
             [
              0.1111111111111111,
              "#46039f"
             ],
             [
              0.2222222222222222,
              "#7201a8"
             ],
             [
              0.3333333333333333,
              "#9c179e"
             ],
             [
              0.4444444444444444,
              "#bd3786"
             ],
             [
              0.5555555555555556,
              "#d8576b"
             ],
             [
              0.6666666666666666,
              "#ed7953"
             ],
             [
              0.7777777777777778,
              "#fb9f3a"
             ],
             [
              0.8888888888888888,
              "#fdca26"
             ],
             [
              1,
              "#f0f921"
             ]
            ],
            "type": "contour"
           }
          ],
          "contourcarpet": [
           {
            "colorbar": {
             "outlinewidth": 0,
             "ticks": ""
            },
            "type": "contourcarpet"
           }
          ],
          "heatmap": [
           {
            "colorbar": {
             "outlinewidth": 0,
             "ticks": ""
            },
            "colorscale": [
             [
              0,
              "#0d0887"
             ],
             [
              0.1111111111111111,
              "#46039f"
             ],
             [
              0.2222222222222222,
              "#7201a8"
             ],
             [
              0.3333333333333333,
              "#9c179e"
             ],
             [
              0.4444444444444444,
              "#bd3786"
             ],
             [
              0.5555555555555556,
              "#d8576b"
             ],
             [
              0.6666666666666666,
              "#ed7953"
             ],
             [
              0.7777777777777778,
              "#fb9f3a"
             ],
             [
              0.8888888888888888,
              "#fdca26"
             ],
             [
              1,
              "#f0f921"
             ]
            ],
            "type": "heatmap"
           }
          ],
          "heatmapgl": [
           {
            "colorbar": {
             "outlinewidth": 0,
             "ticks": ""
            },
            "colorscale": [
             [
              0,
              "#0d0887"
             ],
             [
              0.1111111111111111,
              "#46039f"
             ],
             [
              0.2222222222222222,
              "#7201a8"
             ],
             [
              0.3333333333333333,
              "#9c179e"
             ],
             [
              0.4444444444444444,
              "#bd3786"
             ],
             [
              0.5555555555555556,
              "#d8576b"
             ],
             [
              0.6666666666666666,
              "#ed7953"
             ],
             [
              0.7777777777777778,
              "#fb9f3a"
             ],
             [
              0.8888888888888888,
              "#fdca26"
             ],
             [
              1,
              "#f0f921"
             ]
            ],
            "type": "heatmapgl"
           }
          ],
          "histogram": [
           {
            "marker": {
             "pattern": {
              "fillmode": "overlay",
              "size": 10,
              "solidity": 0.2
             }
            },
            "type": "histogram"
           }
          ],
          "histogram2d": [
           {
            "colorbar": {
             "outlinewidth": 0,
             "ticks": ""
            },
            "colorscale": [
             [
              0,
              "#0d0887"
             ],
             [
              0.1111111111111111,
              "#46039f"
             ],
             [
              0.2222222222222222,
              "#7201a8"
             ],
             [
              0.3333333333333333,
              "#9c179e"
             ],
             [
              0.4444444444444444,
              "#bd3786"
             ],
             [
              0.5555555555555556,
              "#d8576b"
             ],
             [
              0.6666666666666666,
              "#ed7953"
             ],
             [
              0.7777777777777778,
              "#fb9f3a"
             ],
             [
              0.8888888888888888,
              "#fdca26"
             ],
             [
              1,
              "#f0f921"
             ]
            ],
            "type": "histogram2d"
           }
          ],
          "histogram2dcontour": [
           {
            "colorbar": {
             "outlinewidth": 0,
             "ticks": ""
            },
            "colorscale": [
             [
              0,
              "#0d0887"
             ],
             [
              0.1111111111111111,
              "#46039f"
             ],
             [
              0.2222222222222222,
              "#7201a8"
             ],
             [
              0.3333333333333333,
              "#9c179e"
             ],
             [
              0.4444444444444444,
              "#bd3786"
             ],
             [
              0.5555555555555556,
              "#d8576b"
             ],
             [
              0.6666666666666666,
              "#ed7953"
             ],
             [
              0.7777777777777778,
              "#fb9f3a"
             ],
             [
              0.8888888888888888,
              "#fdca26"
             ],
             [
              1,
              "#f0f921"
             ]
            ],
            "type": "histogram2dcontour"
           }
          ],
          "mesh3d": [
           {
            "colorbar": {
             "outlinewidth": 0,
             "ticks": ""
            },
            "type": "mesh3d"
           }
          ],
          "parcoords": [
           {
            "line": {
             "colorbar": {
              "outlinewidth": 0,
              "ticks": ""
             }
            },
            "type": "parcoords"
           }
          ],
          "pie": [
           {
            "automargin": true,
            "type": "pie"
           }
          ],
          "scatter": [
           {
            "fillpattern": {
             "fillmode": "overlay",
             "size": 10,
             "solidity": 0.2
            },
            "type": "scatter"
           }
          ],
          "scatter3d": [
           {
            "line": {
             "colorbar": {
              "outlinewidth": 0,
              "ticks": ""
             }
            },
            "marker": {
             "colorbar": {
              "outlinewidth": 0,
              "ticks": ""
             }
            },
            "type": "scatter3d"
           }
          ],
          "scattercarpet": [
           {
            "marker": {
             "colorbar": {
              "outlinewidth": 0,
              "ticks": ""
             }
            },
            "type": "scattercarpet"
           }
          ],
          "scattergeo": [
           {
            "marker": {
             "colorbar": {
              "outlinewidth": 0,
              "ticks": ""
             }
            },
            "type": "scattergeo"
           }
          ],
          "scattergl": [
           {
            "marker": {
             "colorbar": {
              "outlinewidth": 0,
              "ticks": ""
             }
            },
            "type": "scattergl"
           }
          ],
          "scattermapbox": [
           {
            "marker": {
             "colorbar": {
              "outlinewidth": 0,
              "ticks": ""
             }
            },
            "type": "scattermapbox"
           }
          ],
          "scatterpolar": [
           {
            "marker": {
             "colorbar": {
              "outlinewidth": 0,
              "ticks": ""
             }
            },
            "type": "scatterpolar"
           }
          ],
          "scatterpolargl": [
           {
            "marker": {
             "colorbar": {
              "outlinewidth": 0,
              "ticks": ""
             }
            },
            "type": "scatterpolargl"
           }
          ],
          "scatterternary": [
           {
            "marker": {
             "colorbar": {
              "outlinewidth": 0,
              "ticks": ""
             }
            },
            "type": "scatterternary"
           }
          ],
          "surface": [
           {
            "colorbar": {
             "outlinewidth": 0,
             "ticks": ""
            },
            "colorscale": [
             [
              0,
              "#0d0887"
             ],
             [
              0.1111111111111111,
              "#46039f"
             ],
             [
              0.2222222222222222,
              "#7201a8"
             ],
             [
              0.3333333333333333,
              "#9c179e"
             ],
             [
              0.4444444444444444,
              "#bd3786"
             ],
             [
              0.5555555555555556,
              "#d8576b"
             ],
             [
              0.6666666666666666,
              "#ed7953"
             ],
             [
              0.7777777777777778,
              "#fb9f3a"
             ],
             [
              0.8888888888888888,
              "#fdca26"
             ],
             [
              1,
              "#f0f921"
             ]
            ],
            "type": "surface"
           }
          ],
          "table": [
           {
            "cells": {
             "fill": {
              "color": "#EBF0F8"
             },
             "line": {
              "color": "white"
             }
            },
            "header": {
             "fill": {
              "color": "#C8D4E3"
             },
             "line": {
              "color": "white"
             }
            },
            "type": "table"
           }
          ]
         },
         "layout": {
          "annotationdefaults": {
           "arrowcolor": "#2a3f5f",
           "arrowhead": 0,
           "arrowwidth": 1
          },
          "autotypenumbers": "strict",
          "coloraxis": {
           "colorbar": {
            "outlinewidth": 0,
            "ticks": ""
           }
          },
          "colorscale": {
           "diverging": [
            [
             0,
             "#8e0152"
            ],
            [
             0.1,
             "#c51b7d"
            ],
            [
             0.2,
             "#de77ae"
            ],
            [
             0.3,
             "#f1b6da"
            ],
            [
             0.4,
             "#fde0ef"
            ],
            [
             0.5,
             "#f7f7f7"
            ],
            [
             0.6,
             "#e6f5d0"
            ],
            [
             0.7,
             "#b8e186"
            ],
            [
             0.8,
             "#7fbc41"
            ],
            [
             0.9,
             "#4d9221"
            ],
            [
             1,
             "#276419"
            ]
           ],
           "sequential": [
            [
             0,
             "#0d0887"
            ],
            [
             0.1111111111111111,
             "#46039f"
            ],
            [
             0.2222222222222222,
             "#7201a8"
            ],
            [
             0.3333333333333333,
             "#9c179e"
            ],
            [
             0.4444444444444444,
             "#bd3786"
            ],
            [
             0.5555555555555556,
             "#d8576b"
            ],
            [
             0.6666666666666666,
             "#ed7953"
            ],
            [
             0.7777777777777778,
             "#fb9f3a"
            ],
            [
             0.8888888888888888,
             "#fdca26"
            ],
            [
             1,
             "#f0f921"
            ]
           ],
           "sequentialminus": [
            [
             0,
             "#0d0887"
            ],
            [
             0.1111111111111111,
             "#46039f"
            ],
            [
             0.2222222222222222,
             "#7201a8"
            ],
            [
             0.3333333333333333,
             "#9c179e"
            ],
            [
             0.4444444444444444,
             "#bd3786"
            ],
            [
             0.5555555555555556,
             "#d8576b"
            ],
            [
             0.6666666666666666,
             "#ed7953"
            ],
            [
             0.7777777777777778,
             "#fb9f3a"
            ],
            [
             0.8888888888888888,
             "#fdca26"
            ],
            [
             1,
             "#f0f921"
            ]
           ]
          },
          "colorway": [
           "#636efa",
           "#EF553B",
           "#00cc96",
           "#ab63fa",
           "#FFA15A",
           "#19d3f3",
           "#FF6692",
           "#B6E880",
           "#FF97FF",
           "#FECB52"
          ],
          "font": {
           "color": "#2a3f5f"
          },
          "geo": {
           "bgcolor": "white",
           "lakecolor": "white",
           "landcolor": "#E5ECF6",
           "showlakes": true,
           "showland": true,
           "subunitcolor": "white"
          },
          "hoverlabel": {
           "align": "left"
          },
          "hovermode": "closest",
          "mapbox": {
           "style": "light"
          },
          "paper_bgcolor": "white",
          "plot_bgcolor": "#E5ECF6",
          "polar": {
           "angularaxis": {
            "gridcolor": "white",
            "linecolor": "white",
            "ticks": ""
           },
           "bgcolor": "#E5ECF6",
           "radialaxis": {
            "gridcolor": "white",
            "linecolor": "white",
            "ticks": ""
           }
          },
          "scene": {
           "xaxis": {
            "backgroundcolor": "#E5ECF6",
            "gridcolor": "white",
            "gridwidth": 2,
            "linecolor": "white",
            "showbackground": true,
            "ticks": "",
            "zerolinecolor": "white"
           },
           "yaxis": {
            "backgroundcolor": "#E5ECF6",
            "gridcolor": "white",
            "gridwidth": 2,
            "linecolor": "white",
            "showbackground": true,
            "ticks": "",
            "zerolinecolor": "white"
           },
           "zaxis": {
            "backgroundcolor": "#E5ECF6",
            "gridcolor": "white",
            "gridwidth": 2,
            "linecolor": "white",
            "showbackground": true,
            "ticks": "",
            "zerolinecolor": "white"
           }
          },
          "shapedefaults": {
           "line": {
            "color": "#2a3f5f"
           }
          },
          "ternary": {
           "aaxis": {
            "gridcolor": "white",
            "linecolor": "white",
            "ticks": ""
           },
           "baxis": {
            "gridcolor": "white",
            "linecolor": "white",
            "ticks": ""
           },
           "bgcolor": "#E5ECF6",
           "caxis": {
            "gridcolor": "white",
            "linecolor": "white",
            "ticks": ""
           }
          },
          "title": {
           "x": 0.05
          },
          "xaxis": {
           "automargin": true,
           "gridcolor": "white",
           "linecolor": "white",
           "ticks": "",
           "title": {
            "standoff": 15
           },
           "zerolinecolor": "white",
           "zerolinewidth": 2
          },
          "yaxis": {
           "automargin": true,
           "gridcolor": "white",
           "linecolor": "white",
           "ticks": "",
           "title": {
            "standoff": 15
           },
           "zerolinecolor": "white",
           "zerolinewidth": 2
          }
         }
        },
        "title": {
         "text": "Terrorist Attacks in Europe between 2000 and 2017"
        },
        "updatemenus": [
         {
          "buttons": [
           {
            "args": [
             null,
             {
              "frame": {
               "duration": 500,
               "redraw": true
              },
              "fromcurrent": true,
              "mode": "immediate",
              "transition": {
               "duration": 500,
               "easing": "linear"
              }
             }
            ],
            "label": "&#9654;",
            "method": "animate"
           },
           {
            "args": [
             [
              null
             ],
             {
              "frame": {
               "duration": 0,
               "redraw": true
              },
              "fromcurrent": true,
              "mode": "immediate",
              "transition": {
               "duration": 0,
               "easing": "linear"
              }
             }
            ],
            "label": "&#9724;",
            "method": "animate"
           }
          ],
          "direction": "left",
          "pad": {
           "r": 10,
           "t": 70
          },
          "showactive": false,
          "type": "buttons",
          "x": 0.1,
          "xanchor": "right",
          "y": 0,
          "yanchor": "top"
         }
        ],
        "width": 950
       }
      }
     },
     "metadata": {},
     "output_type": "display_data"
    },
    {
     "data": {
      "application/vnd.plotly.v1+json": {
       "config": {
        "plotlyServerURL": "https://plot.ly"
       },
       "data": [
        {
         "customdata": [
          [
           521,
           41.153332,
           20.168331
          ],
          [
           15493,
           47.516231,
           14.550072
          ],
          [
           453,
           53.709807,
           27.953389
          ],
          [
           18821,
           50.503887,
           4.469936
          ],
          [
           1470,
           42.733883,
           25.48583
          ],
          [
           22437,
           45.1,
           15.2
          ],
          [
           73,
           35.126413,
           33.429859
          ],
          [
           71017,
           56.26392,
           9.501785
          ],
          [
           0,
           58.595272,
           25.013607
          ],
          [
           13271,
           61.92411,
           25.748151
          ],
          [
           132508,
           46.227638,
           2.213749
          ],
          [
           906000,
           51.165691,
           10.451526
          ],
          [
           6653,
           39.074208,
           21.824312
          ],
          [
           5053,
           47.162494,
           19.503304
          ],
          [
           235,
           64.963051,
           -19.020835
          ],
          [
           2530,
           53.41291,
           -8.24389
          ],
          [
           6813,
           41.87194,
           12.56738
          ],
          [
           759,
           49.815273,
           6.129583
          ],
          [
           191,
           35.937496,
           14.375416
          ],
          [
           146174,
           52.132633,
           5.291266
          ],
          [
           9048,
           41.608635,
           21.745275
          ],
          [
           47700,
           60.472024,
           8.468946
          ],
          [
           1011,
           51.919438,
           19.145136
          ],
          [
           416,
           39.399872,
           -8.224454
          ],
          [
           1677,
           45.943161,
           24.96676
          ],
          [
           484390,
           44.016521,
           21.005859
          ],
          [
           444,
           48.669026,
           19.699024
          ],
          [
           2814,
           46.151241,
           14.995463
          ],
          [
           6982,
           40.463667,
           -3.74922
          ],
          [
           157206,
           60.128161,
           18.643501
          ],
          [
           57624,
           46.818188,
           8.227512
          ],
          [
           2927,
           48.379433,
           31.16558
          ],
          [
           186247,
           55.378051,
           -3.435973
          ]
         ],
         "geo": "geo",
         "hovertemplate": "<b>%{hovertext}</b><br><br>Year=%{marker.size}<br>Refugees under UNHCR's mandate=%{marker.color}<extra></extra>",
         "hovertext": [
          "Albania",
          "Austria",
          "Belarus",
          "Belgium",
          "Bulgaria",
          "Croatia",
          "Cyprus",
          "Denmark",
          "Estonia",
          "Finland",
          "France",
          "Germany",
          "Greece",
          "Hungary",
          "Iceland",
          "Ireland",
          "Italy",
          "Luxembourg",
          "Malta",
          "Netherlands",
          "North Macedonia",
          "Norway",
          "Poland",
          "Portugal",
          "Romania",
          "Serbia",
          "Slovakia",
          "Slovenia",
          "Spain",
          "Sweden",
          "Switzerland",
          "Ukraine",
          "United Kingdom"
         ],
         "lat": [
          41.153332,
          47.516231,
          53.709807,
          50.503887,
          42.733883,
          45.1,
          35.126413,
          56.26392,
          58.595272,
          61.92411,
          46.227638,
          51.165691,
          39.074208,
          47.162494,
          64.963051,
          53.41291,
          41.87194,
          49.815273,
          35.937496,
          52.132633,
          41.608635,
          60.472024,
          51.919438,
          39.399872,
          45.943161,
          44.016521,
          48.669026,
          46.151241,
          40.463667,
          60.128161,
          46.818188,
          48.379433,
          55.378051
         ],
         "legendgroup": "",
         "lon": [
          20.168331,
          14.550072,
          27.953389,
          4.469936,
          25.48583,
          15.2,
          33.429859,
          9.501785,
          25.013607,
          25.748151,
          2.213749,
          10.451526,
          21.824312,
          19.503304,
          -19.020835,
          -8.24389,
          12.56738,
          6.129583,
          14.375416,
          5.291266,
          21.745275,
          8.468946,
          19.145136,
          -8.224454,
          24.96676,
          21.005859,
          19.699024,
          14.995463,
          -3.74922,
          18.643501,
          8.227512,
          31.16558,
          -3.435973
         ],
         "marker": {
          "color": [
           521,
           15493,
           453,
           18821,
           1470,
           22437,
           73,
           71017,
           0,
           13271,
           132508,
           906000,
           6653,
           5053,
           235,
           2530,
           6813,
           759,
           191,
           146174,
           9048,
           47700,
           1011,
           416,
           1677,
           484390,
           444,
           2814,
           6982,
           157206,
           57624,
           2927,
           186247
          ],
          "coloraxis": "coloraxis",
          "line": {
           "color": "black",
           "width": 0.5
          },
          "size": [
           2000,
           2000,
           2000,
           2000,
           2000,
           2000,
           2000,
           2000,
           2000,
           2000,
           2000,
           2000,
           2000,
           2000,
           2000,
           2000,
           2000,
           2000,
           2000,
           2000,
           2000,
           2000,
           2000,
           2000,
           2000,
           2000,
           2000,
           2000,
           2000,
           2000,
           2000,
           2000,
           2000
          ],
          "sizemode": "area",
          "sizeref": 20.17,
          "symbol": "circle"
         },
         "mode": "markers",
         "name": "",
         "showlegend": false,
         "type": "scattergeo"
        }
       ],
       "frames": [
        {
         "data": [
          {
           "customdata": [
            [
             521,
             41.153332,
             20.168331
            ],
            [
             15493,
             47.516231,
             14.550072
            ],
            [
             453,
             53.709807,
             27.953389
            ],
            [
             18821,
             50.503887,
             4.469936
            ],
            [
             1470,
             42.733883,
             25.48583
            ],
            [
             22437,
             45.1,
             15.2
            ],
            [
             73,
             35.126413,
             33.429859
            ],
            [
             71017,
             56.26392,
             9.501785
            ],
            [
             0,
             58.595272,
             25.013607
            ],
            [
             13271,
             61.92411,
             25.748151
            ],
            [
             132508,
             46.227638,
             2.213749
            ],
            [
             906000,
             51.165691,
             10.451526
            ],
            [
             6653,
             39.074208,
             21.824312
            ],
            [
             5053,
             47.162494,
             19.503304
            ],
            [
             235,
             64.963051,
             -19.020835
            ],
            [
             2530,
             53.41291,
             -8.24389
            ],
            [
             6813,
             41.87194,
             12.56738
            ],
            [
             759,
             49.815273,
             6.129583
            ],
            [
             191,
             35.937496,
             14.375416
            ],
            [
             146174,
             52.132633,
             5.291266
            ],
            [
             9048,
             41.608635,
             21.745275
            ],
            [
             47700,
             60.472024,
             8.468946
            ],
            [
             1011,
             51.919438,
             19.145136
            ],
            [
             416,
             39.399872,
             -8.224454
            ],
            [
             1677,
             45.943161,
             24.96676
            ],
            [
             484390,
             44.016521,
             21.005859
            ],
            [
             444,
             48.669026,
             19.699024
            ],
            [
             2814,
             46.151241,
             14.995463
            ],
            [
             6982,
             40.463667,
             -3.74922
            ],
            [
             157206,
             60.128161,
             18.643501
            ],
            [
             57624,
             46.818188,
             8.227512
            ],
            [
             2927,
             48.379433,
             31.16558
            ],
            [
             186247,
             55.378051,
             -3.435973
            ]
           ],
           "geo": "geo",
           "hovertemplate": "<b>%{hovertext}</b><br><br>Year=%{marker.size}<br>Refugees under UNHCR's mandate=%{marker.color}<extra></extra>",
           "hovertext": [
            "Albania",
            "Austria",
            "Belarus",
            "Belgium",
            "Bulgaria",
            "Croatia",
            "Cyprus",
            "Denmark",
            "Estonia",
            "Finland",
            "France",
            "Germany",
            "Greece",
            "Hungary",
            "Iceland",
            "Ireland",
            "Italy",
            "Luxembourg",
            "Malta",
            "Netherlands",
            "North Macedonia",
            "Norway",
            "Poland",
            "Portugal",
            "Romania",
            "Serbia",
            "Slovakia",
            "Slovenia",
            "Spain",
            "Sweden",
            "Switzerland",
            "Ukraine",
            "United Kingdom"
           ],
           "lat": [
            41.153332,
            47.516231,
            53.709807,
            50.503887,
            42.733883,
            45.1,
            35.126413,
            56.26392,
            58.595272,
            61.92411,
            46.227638,
            51.165691,
            39.074208,
            47.162494,
            64.963051,
            53.41291,
            41.87194,
            49.815273,
            35.937496,
            52.132633,
            41.608635,
            60.472024,
            51.919438,
            39.399872,
            45.943161,
            44.016521,
            48.669026,
            46.151241,
            40.463667,
            60.128161,
            46.818188,
            48.379433,
            55.378051
           ],
           "legendgroup": "",
           "lon": [
            20.168331,
            14.550072,
            27.953389,
            4.469936,
            25.48583,
            15.2,
            33.429859,
            9.501785,
            25.013607,
            25.748151,
            2.213749,
            10.451526,
            21.824312,
            19.503304,
            -19.020835,
            -8.24389,
            12.56738,
            6.129583,
            14.375416,
            5.291266,
            21.745275,
            8.468946,
            19.145136,
            -8.224454,
            24.96676,
            21.005859,
            19.699024,
            14.995463,
            -3.74922,
            18.643501,
            8.227512,
            31.16558,
            -3.435973
           ],
           "marker": {
            "color": [
             521,
             15493,
             453,
             18821,
             1470,
             22437,
             73,
             71017,
             0,
             13271,
             132508,
             906000,
             6653,
             5053,
             235,
             2530,
             6813,
             759,
             191,
             146174,
             9048,
             47700,
             1011,
             416,
             1677,
             484390,
             444,
             2814,
             6982,
             157206,
             57624,
             2927,
             186247
            ],
            "coloraxis": "coloraxis",
            "size": [
             2000,
             2000,
             2000,
             2000,
             2000,
             2000,
             2000,
             2000,
             2000,
             2000,
             2000,
             2000,
             2000,
             2000,
             2000,
             2000,
             2000,
             2000,
             2000,
             2000,
             2000,
             2000,
             2000,
             2000,
             2000,
             2000,
             2000,
             2000,
             2000,
             2000,
             2000,
             2000,
             2000
            ],
            "sizemode": "area",
            "sizeref": 20.17,
            "symbol": "circle"
           },
           "mode": "markers",
           "name": "",
           "showlegend": false,
           "type": "scattergeo"
          }
         ],
         "name": "2000"
        },
        {
         "data": [
          {
           "customdata": [
            [
             291,
             41.153332,
             20.168331
            ],
            [
             14375,
             47.516231,
             14.550072
            ],
            [
             581,
             53.709807,
             27.953389
            ],
            [
             12252,
             50.503887,
             4.469936
            ],
            [
             2984,
             42.733883,
             25.48583
            ],
            [
             21875,
             45.1,
             15.2
            ],
            [
             84,
             35.126413,
             33.429859
            ],
            [
             73284,
             56.26392,
             9.501785
            ],
            [
             6,
             58.595272,
             25.013607
            ],
            [
             12726,
             61.92411,
             25.748151
            ],
            [
             131601,
             46.227638,
             2.213749
            ],
            [
             903000,
             51.165691,
             10.451526
            ],
            [
             6927,
             39.074208,
             21.824312
            ],
            [
             4700,
             47.162494,
             19.503304
            ],
            [
             204,
             64.963051,
             -19.020835
            ],
            [
             3585,
             53.41291,
             -8.24389
            ],
            [
             8541,
             41.87194,
             12.56738
            ],
            [
             1201,
             49.815273,
             6.129583
            ],
            [
             175,
             35.937496,
             14.375416
            ],
            [
             151919,
             52.132633,
             5.291266
            ],
            [
             4362,
             41.608635,
             21.745275
            ],
            [
             50122,
             60.472024,
             8.468946
            ],
            [
             1295,
             51.919438,
             19.145136
            ],
            [
             444,
             39.399872,
             -8.224454
            ],
            [
             1792,
             45.943161,
             24.96676
            ],
            [
             400306,
             44.016521,
             21.005859
            ],
            [
             461,
             48.669026,
             19.699024
            ],
            [
             2411,
             46.151241,
             14.995463
            ],
            [
             6804,
             40.463667,
             -3.74922
            ],
            [
             146480,
             60.128161,
             18.643501
            ],
            [
             58471,
             46.818188,
             8.227512
            ],
            [
             2958,
             48.379433,
             31.16558
            ],
            [
             233389,
             55.378051,
             -3.435973
            ]
           ],
           "geo": "geo",
           "hovertemplate": "<b>%{hovertext}</b><br><br>Year=%{marker.size}<br>Refugees under UNHCR's mandate=%{marker.color}<extra></extra>",
           "hovertext": [
            "Albania",
            "Austria",
            "Belarus",
            "Belgium",
            "Bulgaria",
            "Croatia",
            "Cyprus",
            "Denmark",
            "Estonia",
            "Finland",
            "France",
            "Germany",
            "Greece",
            "Hungary",
            "Iceland",
            "Ireland",
            "Italy",
            "Luxembourg",
            "Malta",
            "Netherlands",
            "North Macedonia",
            "Norway",
            "Poland",
            "Portugal",
            "Romania",
            "Serbia",
            "Slovakia",
            "Slovenia",
            "Spain",
            "Sweden",
            "Switzerland",
            "Ukraine",
            "United Kingdom"
           ],
           "lat": [
            41.153332,
            47.516231,
            53.709807,
            50.503887,
            42.733883,
            45.1,
            35.126413,
            56.26392,
            58.595272,
            61.92411,
            46.227638,
            51.165691,
            39.074208,
            47.162494,
            64.963051,
            53.41291,
            41.87194,
            49.815273,
            35.937496,
            52.132633,
            41.608635,
            60.472024,
            51.919438,
            39.399872,
            45.943161,
            44.016521,
            48.669026,
            46.151241,
            40.463667,
            60.128161,
            46.818188,
            48.379433,
            55.378051
           ],
           "legendgroup": "",
           "lon": [
            20.168331,
            14.550072,
            27.953389,
            4.469936,
            25.48583,
            15.2,
            33.429859,
            9.501785,
            25.013607,
            25.748151,
            2.213749,
            10.451526,
            21.824312,
            19.503304,
            -19.020835,
            -8.24389,
            12.56738,
            6.129583,
            14.375416,
            5.291266,
            21.745275,
            8.468946,
            19.145136,
            -8.224454,
            24.96676,
            21.005859,
            19.699024,
            14.995463,
            -3.74922,
            18.643501,
            8.227512,
            31.16558,
            -3.435973
           ],
           "marker": {
            "color": [
             291,
             14375,
             581,
             12252,
             2984,
             21875,
             84,
             73284,
             6,
             12726,
             131601,
             903000,
             6927,
             4700,
             204,
             3585,
             8541,
             1201,
             175,
             151919,
             4362,
             50122,
             1295,
             444,
             1792,
             400306,
             461,
             2411,
             6804,
             146480,
             58471,
             2958,
             233389
            ],
            "coloraxis": "coloraxis",
            "size": [
             2001,
             2001,
             2001,
             2001,
             2001,
             2001,
             2001,
             2001,
             2001,
             2001,
             2001,
             2001,
             2001,
             2001,
             2001,
             2001,
             2001,
             2001,
             2001,
             2001,
             2001,
             2001,
             2001,
             2001,
             2001,
             2001,
             2001,
             2001,
             2001,
             2001,
             2001,
             2001,
             2001
            ],
            "sizemode": "area",
            "sizeref": 20.17,
            "symbol": "circle"
           },
           "mode": "markers",
           "name": "",
           "showlegend": false,
           "type": "scattergeo"
          }
         ],
         "name": "2001"
        },
        {
         "data": [
          {
           "customdata": [
            [
             18,
             41.153332,
             20.168331
            ],
            [
             14122,
             47.516231,
             14.550072
            ],
            [
             612,
             53.709807,
             27.953389
            ],
            [
             12560,
             50.503887,
             4.469936
            ],
            [
             3642,
             42.733883,
             25.48583
            ],
            [
             8392,
             45.1,
             15.2
            ],
            [
             171,
             35.126413,
             33.429859
            ],
            [
             73600,
             56.26392,
             9.501785
            ],
            [
             6,
             58.595272,
             25.013607
            ],
            [
             12485,
             61.92411,
             25.748151
            ],
            [
             132182,
             46.227638,
             2.213749
            ],
            [
             980001,
             51.165691,
             10.451526
            ],
            [
             2778,
             39.074208,
             21.824312
            ],
            [
             6075,
             47.162494,
             19.503304
            ],
            [
             197,
             64.963051,
             -19.020835
            ],
            [
             5366,
             53.41291,
             -8.24389
            ],
            [
             10031,
             41.87194,
             12.56738
            ],
            [
             1201,
             49.815273,
             6.129583
            ],
            [
             311,
             35.937496,
             14.375416
            ],
            [
             148349,
             52.132633,
             5.291266
            ],
            [
             2815,
             41.608635,
             21.745275
            ],
            [
             50421,
             60.472024,
             8.468946
            ],
            [
             1586,
             51.919438,
             19.145136
            ],
            [
             460,
             39.399872,
             -8.224454
            ],
            [
             1839,
             45.943161,
             24.96676
            ],
            [
             354400,
             44.016521,
             21.005859
            ],
            [
             443,
             48.669026,
             19.699024
            ],
            [
             384,
             46.151241,
             14.995463
            ],
            [
             6783,
             40.463667,
             -3.74922
            ],
            [
             142170,
             60.128161,
             18.643501
            ],
            [
             54081,
             46.818188,
             8.227512
            ],
            [
             2940,
             48.379433,
             31.16558
            ],
            [
             260687,
             55.378051,
             -3.435973
            ]
           ],
           "geo": "geo",
           "hovertemplate": "<b>%{hovertext}</b><br><br>Year=%{marker.size}<br>Refugees under UNHCR's mandate=%{marker.color}<extra></extra>",
           "hovertext": [
            "Albania",
            "Austria",
            "Belarus",
            "Belgium",
            "Bulgaria",
            "Croatia",
            "Cyprus",
            "Denmark",
            "Estonia",
            "Finland",
            "France",
            "Germany",
            "Greece",
            "Hungary",
            "Iceland",
            "Ireland",
            "Italy",
            "Luxembourg",
            "Malta",
            "Netherlands",
            "North Macedonia",
            "Norway",
            "Poland",
            "Portugal",
            "Romania",
            "Serbia",
            "Slovakia",
            "Slovenia",
            "Spain",
            "Sweden",
            "Switzerland",
            "Ukraine",
            "United Kingdom"
           ],
           "lat": [
            41.153332,
            47.516231,
            53.709807,
            50.503887,
            42.733883,
            45.1,
            35.126413,
            56.26392,
            58.595272,
            61.92411,
            46.227638,
            51.165691,
            39.074208,
            47.162494,
            64.963051,
            53.41291,
            41.87194,
            49.815273,
            35.937496,
            52.132633,
            41.608635,
            60.472024,
            51.919438,
            39.399872,
            45.943161,
            44.016521,
            48.669026,
            46.151241,
            40.463667,
            60.128161,
            46.818188,
            48.379433,
            55.378051
           ],
           "legendgroup": "",
           "lon": [
            20.168331,
            14.550072,
            27.953389,
            4.469936,
            25.48583,
            15.2,
            33.429859,
            9.501785,
            25.013607,
            25.748151,
            2.213749,
            10.451526,
            21.824312,
            19.503304,
            -19.020835,
            -8.24389,
            12.56738,
            6.129583,
            14.375416,
            5.291266,
            21.745275,
            8.468946,
            19.145136,
            -8.224454,
            24.96676,
            21.005859,
            19.699024,
            14.995463,
            -3.74922,
            18.643501,
            8.227512,
            31.16558,
            -3.435973
           ],
           "marker": {
            "color": [
             18,
             14122,
             612,
             12560,
             3642,
             8392,
             171,
             73600,
             6,
             12485,
             132182,
             980001,
             2778,
             6075,
             197,
             5366,
             10031,
             1201,
             311,
             148349,
             2815,
             50421,
             1586,
             460,
             1839,
             354400,
             443,
             384,
             6783,
             142170,
             54081,
             2940,
             260687
            ],
            "coloraxis": "coloraxis",
            "size": [
             2002,
             2002,
             2002,
             2002,
             2002,
             2002,
             2002,
             2002,
             2002,
             2002,
             2002,
             2002,
             2002,
             2002,
             2002,
             2002,
             2002,
             2002,
             2002,
             2002,
             2002,
             2002,
             2002,
             2002,
             2002,
             2002,
             2002,
             2002,
             2002,
             2002,
             2002,
             2002,
             2002
            ],
            "sizemode": "area",
            "sizeref": 20.17,
            "symbol": "circle"
           },
           "mode": "markers",
           "name": "",
           "showlegend": false,
           "type": "scattergeo"
          }
         ],
         "name": "2002"
        },
        {
         "data": [
          {
           "customdata": [
            [
             24,
             41.153332,
             20.168331
            ],
            [
             16097,
             47.516231,
             14.550072
            ],
            [
             631,
             53.709807,
             27.953389
            ],
            [
             12583,
             50.503887,
             4.469936
            ],
            [
             4047,
             42.733883,
             25.48583
            ],
            [
             4385,
             45.1,
             15.2
            ],
            [
             339,
             35.126413,
             33.429859
            ],
            [
             69855,
             56.26392,
             9.501785
            ],
            [
             6,
             58.595272,
             25.013607
            ],
            [
             10835,
             61.92411,
             25.748151
            ],
            [
             130838,
             46.227638,
             2.213749
            ],
            [
             960393,
             51.165691,
             10.451526
            ],
            [
             2762,
             39.074208,
             21.824312
            ],
            [
             7013,
             47.162494,
             19.503304
            ],
            [
             226,
             64.963051,
             -19.020835
            ],
            [
             5971,
             53.41291,
             -8.24389
            ],
            [
             12812,
             41.87194,
             12.56738
            ],
            [
             1201,
             49.815273,
             6.129583
            ],
            [
             894,
             35.937496,
             14.375416
            ],
            [
             140877,
             52.132633,
             5.291266
            ],
            [
             191,
             41.608635,
             21.745275
            ],
            [
             46107,
             60.472024,
             8.468946
            ],
            [
             1822,
             51.919438,
             19.145136
            ],
            [
             414,
             39.399872,
             -8.224454
            ],
            [
             1991,
             45.943161,
             24.96676
            ],
            [
             291397,
             44.016521,
             21.005859
            ],
            [
             412,
             48.669026,
             19.699024
            ],
            [
             2065,
             46.151241,
             14.995463
            ],
            [
             5912,
             40.463667,
             -3.74922
            ],
            [
             112148,
             60.128161,
             18.643501
            ],
            [
             50126,
             46.818188,
             8.227512
            ],
            [
             2851,
             48.379433,
             31.16558
            ],
            [
             276482,
             55.378051,
             -3.435973
            ]
           ],
           "geo": "geo",
           "hovertemplate": "<b>%{hovertext}</b><br><br>Year=%{marker.size}<br>Refugees under UNHCR's mandate=%{marker.color}<extra></extra>",
           "hovertext": [
            "Albania",
            "Austria",
            "Belarus",
            "Belgium",
            "Bulgaria",
            "Croatia",
            "Cyprus",
            "Denmark",
            "Estonia",
            "Finland",
            "France",
            "Germany",
            "Greece",
            "Hungary",
            "Iceland",
            "Ireland",
            "Italy",
            "Luxembourg",
            "Malta",
            "Netherlands",
            "North Macedonia",
            "Norway",
            "Poland",
            "Portugal",
            "Romania",
            "Serbia",
            "Slovakia",
            "Slovenia",
            "Spain",
            "Sweden",
            "Switzerland",
            "Ukraine",
            "United Kingdom"
           ],
           "lat": [
            41.153332,
            47.516231,
            53.709807,
            50.503887,
            42.733883,
            45.1,
            35.126413,
            56.26392,
            58.595272,
            61.92411,
            46.227638,
            51.165691,
            39.074208,
            47.162494,
            64.963051,
            53.41291,
            41.87194,
            49.815273,
            35.937496,
            52.132633,
            41.608635,
            60.472024,
            51.919438,
            39.399872,
            45.943161,
            44.016521,
            48.669026,
            46.151241,
            40.463667,
            60.128161,
            46.818188,
            48.379433,
            55.378051
           ],
           "legendgroup": "",
           "lon": [
            20.168331,
            14.550072,
            27.953389,
            4.469936,
            25.48583,
            15.2,
            33.429859,
            9.501785,
            25.013607,
            25.748151,
            2.213749,
            10.451526,
            21.824312,
            19.503304,
            -19.020835,
            -8.24389,
            12.56738,
            6.129583,
            14.375416,
            5.291266,
            21.745275,
            8.468946,
            19.145136,
            -8.224454,
            24.96676,
            21.005859,
            19.699024,
            14.995463,
            -3.74922,
            18.643501,
            8.227512,
            31.16558,
            -3.435973
           ],
           "marker": {
            "color": [
             24,
             16097,
             631,
             12583,
             4047,
             4385,
             339,
             69855,
             6,
             10835,
             130838,
             960393,
             2762,
             7013,
             226,
             5971,
             12812,
             1201,
             894,
             140877,
             191,
             46107,
             1822,
             414,
             1991,
             291397,
             412,
             2065,
             5912,
             112148,
             50126,
             2851,
             276482
            ],
            "coloraxis": "coloraxis",
            "size": [
             2003,
             2003,
             2003,
             2003,
             2003,
             2003,
             2003,
             2003,
             2003,
             2003,
             2003,
             2003,
             2003,
             2003,
             2003,
             2003,
             2003,
             2003,
             2003,
             2003,
             2003,
             2003,
             2003,
             2003,
             2003,
             2003,
             2003,
             2003,
             2003,
             2003,
             2003,
             2003,
             2003
            ],
            "sizemode": "area",
            "sizeref": 20.17,
            "symbol": "circle"
           },
           "mode": "markers",
           "name": "",
           "showlegend": false,
           "type": "scattergeo"
          }
         ],
         "name": "2003"
        },
        {
         "data": [
          {
           "customdata": [
            [
             49,
             41.153332,
             20.168331
            ],
            [
             17777,
             47.516231,
             14.550072
            ],
            [
             719,
             53.709807,
             27.953389
            ],
            [
             13522,
             50.503887,
             4.469936
            ],
            [
             4676,
             42.733883,
             25.48583
            ],
            [
             3662,
             45.1,
             15.2
            ],
            [
             525,
             35.126413,
             33.429859
            ],
            [
             65305,
             56.26392,
             9.501785
            ],
            [
             6,
             58.595272,
             25.013607
            ],
            [
             11309,
             61.92411,
             25.748151
            ],
            [
             139852,
             46.227638,
             2.213749
            ],
            [
             876614,
             51.165691,
             10.451526
            ],
            [
             2479,
             39.074208,
             21.824312
            ],
            [
             7702,
             47.162494,
             19.503304
            ],
            [
             226,
             64.963051,
             -19.020835
            ],
            [
             6530,
             53.41291,
             -8.24389
            ],
            [
             15668,
             41.87194,
             12.56738
            ],
            [
             1590,
             49.815273,
             6.129583
            ],
            [
             1561,
             35.937496,
             14.375416
            ],
            [
             126792,
             52.132633,
             5.291266
            ],
            [
             1003,
             41.608635,
             21.745275
            ],
            [
             44031,
             60.472024,
             8.468946
            ],
            [
             2491,
             51.919438,
             19.145136
            ],
            [
             368,
             39.399872,
             -8.224454
            ],
            [
             1610,
             45.943161,
             24.96676
            ],
            [
             276677,
             44.016521,
             21.005859
            ],
            [
             396,
             48.669026,
             19.699024
            ],
            [
             299,
             46.151241,
             14.995463
            ],
            [
             5690,
             40.463667,
             -3.74922
            ],
            [
             73383,
             60.128161,
             18.643501
            ],
            [
             47654,
             46.818188,
             8.227512
            ],
            [
             2442,
             48.379433,
             31.16558
            ],
            [
             298826,
             55.378051,
             -3.435973
            ]
           ],
           "geo": "geo",
           "hovertemplate": "<b>%{hovertext}</b><br><br>Year=%{marker.size}<br>Refugees under UNHCR's mandate=%{marker.color}<extra></extra>",
           "hovertext": [
            "Albania",
            "Austria",
            "Belarus",
            "Belgium",
            "Bulgaria",
            "Croatia",
            "Cyprus",
            "Denmark",
            "Estonia",
            "Finland",
            "France",
            "Germany",
            "Greece",
            "Hungary",
            "Iceland",
            "Ireland",
            "Italy",
            "Luxembourg",
            "Malta",
            "Netherlands",
            "North Macedonia",
            "Norway",
            "Poland",
            "Portugal",
            "Romania",
            "Serbia",
            "Slovakia",
            "Slovenia",
            "Spain",
            "Sweden",
            "Switzerland",
            "Ukraine",
            "United Kingdom"
           ],
           "lat": [
            41.153332,
            47.516231,
            53.709807,
            50.503887,
            42.733883,
            45.1,
            35.126413,
            56.26392,
            58.595272,
            61.92411,
            46.227638,
            51.165691,
            39.074208,
            47.162494,
            64.963051,
            53.41291,
            41.87194,
            49.815273,
            35.937496,
            52.132633,
            41.608635,
            60.472024,
            51.919438,
            39.399872,
            45.943161,
            44.016521,
            48.669026,
            46.151241,
            40.463667,
            60.128161,
            46.818188,
            48.379433,
            55.378051
           ],
           "legendgroup": "",
           "lon": [
            20.168331,
            14.550072,
            27.953389,
            4.469936,
            25.48583,
            15.2,
            33.429859,
            9.501785,
            25.013607,
            25.748151,
            2.213749,
            10.451526,
            21.824312,
            19.503304,
            -19.020835,
            -8.24389,
            12.56738,
            6.129583,
            14.375416,
            5.291266,
            21.745275,
            8.468946,
            19.145136,
            -8.224454,
            24.96676,
            21.005859,
            19.699024,
            14.995463,
            -3.74922,
            18.643501,
            8.227512,
            31.16558,
            -3.435973
           ],
           "marker": {
            "color": [
             49,
             17777,
             719,
             13522,
             4676,
             3662,
             525,
             65305,
             6,
             11309,
             139852,
             876614,
             2479,
             7702,
             226,
             6530,
             15668,
             1590,
             1561,
             126792,
             1003,
             44031,
             2491,
             368,
             1610,
             276677,
             396,
             299,
             5690,
             73383,
             47654,
             2442,
             298826
            ],
            "coloraxis": "coloraxis",
            "size": [
             2004,
             2004,
             2004,
             2004,
             2004,
             2004,
             2004,
             2004,
             2004,
             2004,
             2004,
             2004,
             2004,
             2004,
             2004,
             2004,
             2004,
             2004,
             2004,
             2004,
             2004,
             2004,
             2004,
             2004,
             2004,
             2004,
             2004,
             2004,
             2004,
             2004,
             2004,
             2004,
             2004
            ],
            "sizemode": "area",
            "sizeref": 20.17,
            "symbol": "circle"
           },
           "mode": "markers",
           "name": "",
           "showlegend": false,
           "type": "scattergeo"
          }
         ],
         "name": "2004"
        },
        {
         "data": [
          {
           "customdata": [
            [
             53,
             41.153332,
             20.168331
            ],
            [
             21212,
             47.516231,
             14.550072
            ],
            [
             718,
             53.709807,
             27.953389
            ],
            [
             15277,
             50.503887,
             4.469936
            ],
            [
             4388,
             42.733883,
             25.48583
            ],
            [
             2927,
             45.1,
             15.2
            ],
            [
             700,
             35.126413,
             33.429859
            ],
            [
             44362,
             56.26392,
             9.501785
            ],
            [
             0,
             58.595272,
             25.013607
            ],
            [
             11801,
             61.92411,
             25.748151
            ],
            [
             137316,
             46.227638,
             2.213749
            ],
            [
             699996,
             51.165691,
             10.451526
            ],
            [
             2394,
             39.074208,
             21.824312
            ],
            [
             8040,
             47.162494,
             19.503304
            ],
            [
             284,
             64.963051,
             -19.020835
            ],
            [
             7103,
             53.41291,
             -8.24389
            ],
            [
             20674,
             41.87194,
             12.56738
            ],
            [
             1822,
             49.815273,
             6.129583
            ],
            [
             1942,
             35.937496,
             14.375416
            ],
            [
             118172,
             52.132633,
             5.291266
            ],
            [
             1273,
             41.608635,
             21.745275
            ],
            [
             43015,
             60.472024,
             8.468946
            ],
            [
             4585,
             51.919438,
             19.145136
            ],
            [
             355,
             39.399872,
             -8.224454
            ],
            [
             2040,
             45.943161,
             24.96676
            ],
            [
             148259,
             44.016521,
             21.005859
            ],
            [
             352,
             48.669026,
             19.699024
            ],
            [
             243,
             46.151241,
             14.995463
            ],
            [
             5369,
             40.463667,
             -3.74922
            ],
            [
             74889,
             60.128161,
             18.643501
            ],
            [
             48010,
             46.818188,
             8.227512
            ],
            [
             2334,
             48.379433,
             31.16558
            ],
            [
             303163,
             55.378051,
             -3.435973
            ]
           ],
           "geo": "geo",
           "hovertemplate": "<b>%{hovertext}</b><br><br>Year=%{marker.size}<br>Refugees under UNHCR's mandate=%{marker.color}<extra></extra>",
           "hovertext": [
            "Albania",
            "Austria",
            "Belarus",
            "Belgium",
            "Bulgaria",
            "Croatia",
            "Cyprus",
            "Denmark",
            "Estonia",
            "Finland",
            "France",
            "Germany",
            "Greece",
            "Hungary",
            "Iceland",
            "Ireland",
            "Italy",
            "Luxembourg",
            "Malta",
            "Netherlands",
            "North Macedonia",
            "Norway",
            "Poland",
            "Portugal",
            "Romania",
            "Serbia",
            "Slovakia",
            "Slovenia",
            "Spain",
            "Sweden",
            "Switzerland",
            "Ukraine",
            "United Kingdom"
           ],
           "lat": [
            41.153332,
            47.516231,
            53.709807,
            50.503887,
            42.733883,
            45.1,
            35.126413,
            56.26392,
            58.595272,
            61.92411,
            46.227638,
            51.165691,
            39.074208,
            47.162494,
            64.963051,
            53.41291,
            41.87194,
            49.815273,
            35.937496,
            52.132633,
            41.608635,
            60.472024,
            51.919438,
            39.399872,
            45.943161,
            44.016521,
            48.669026,
            46.151241,
            40.463667,
            60.128161,
            46.818188,
            48.379433,
            55.378051
           ],
           "legendgroup": "",
           "lon": [
            20.168331,
            14.550072,
            27.953389,
            4.469936,
            25.48583,
            15.2,
            33.429859,
            9.501785,
            25.013607,
            25.748151,
            2.213749,
            10.451526,
            21.824312,
            19.503304,
            -19.020835,
            -8.24389,
            12.56738,
            6.129583,
            14.375416,
            5.291266,
            21.745275,
            8.468946,
            19.145136,
            -8.224454,
            24.96676,
            21.005859,
            19.699024,
            14.995463,
            -3.74922,
            18.643501,
            8.227512,
            31.16558,
            -3.435973
           ],
           "marker": {
            "color": [
             53,
             21212,
             718,
             15277,
             4388,
             2927,
             700,
             44362,
             0,
             11801,
             137316,
             699996,
             2394,
             8040,
             284,
             7103,
             20674,
             1822,
             1942,
             118172,
             1273,
             43015,
             4585,
             355,
             2040,
             148259,
             352,
             243,
             5369,
             74889,
             48010,
             2334,
             303163
            ],
            "coloraxis": "coloraxis",
            "size": [
             2005,
             2005,
             2005,
             2005,
             2005,
             2005,
             2005,
             2005,
             2005,
             2005,
             2005,
             2005,
             2005,
             2005,
             2005,
             2005,
             2005,
             2005,
             2005,
             2005,
             2005,
             2005,
             2005,
             2005,
             2005,
             2005,
             2005,
             2005,
             2005,
             2005,
             2005,
             2005,
             2005
            ],
            "sizemode": "area",
            "sizeref": 20.17,
            "symbol": "circle"
           },
           "mode": "markers",
           "name": "",
           "showlegend": false,
           "type": "scattergeo"
          }
         ],
         "name": "2005"
        },
        {
         "data": [
          {
           "customdata": [
            [
             56,
             41.153332,
             20.168331
            ],
            [
             25475,
             47.516231,
             14.550072
            ],
            [
             683,
             53.709807,
             27.953389
            ],
            [
             16811,
             50.503887,
             4.469936
            ],
            [
             4479,
             42.733883,
             25.48583
            ],
            [
             2442,
             45.1,
             15.2
            ],
            [
             926,
             35.126413,
             33.429859
            ],
            [
             36650,
             56.26392,
             9.501785
            ],
            [
             0,
             58.595272,
             25.013607
            ],
            [
             11827,
             61.92411,
             25.748151
            ],
            [
             145996,
             46.227638,
             2.213749
            ],
            [
             605329,
             51.165691,
             10.451526
            ],
            [
             2292,
             39.074208,
             21.824312
            ],
            [
             8068,
             47.162494,
             19.503304
            ],
            [
             254,
             64.963051,
             -19.020835
            ],
            [
             7904,
             53.41291,
             -8.24389
            ],
            [
             26870,
             41.87194,
             12.56738
            ],
            [
             2206,
             49.815273,
             6.129583
            ],
            [
             2407,
             35.937496,
             14.375416
            ],
            [
             100565,
             52.132633,
             5.291266
            ],
            [
             1239,
             41.608635,
             21.745275
            ],
            [
             43315,
             60.472024,
             8.468946
            ],
            [
             6786,
             51.919438,
             19.145136
            ],
            [
             322,
             39.399872,
             -8.224454
            ],
            [
             1636,
             45.943161,
             24.96676
            ],
            [
             98995,
             44.016521,
             21.005859
            ],
            [
             235,
             48.669026,
             19.699024
            ],
            [
             249,
             46.151241,
             14.995463
            ],
            [
             5269,
             40.463667,
             -3.74922
            ],
            [
             79895,
             60.128161,
             18.643501
            ],
            [
             48508,
             46.818188,
             8.227512
            ],
            [
             2267,
             48.379433,
             31.16558
            ],
            [
             301537,
             55.378051,
             -3.435973
            ]
           ],
           "geo": "geo",
           "hovertemplate": "<b>%{hovertext}</b><br><br>Year=%{marker.size}<br>Refugees under UNHCR's mandate=%{marker.color}<extra></extra>",
           "hovertext": [
            "Albania",
            "Austria",
            "Belarus",
            "Belgium",
            "Bulgaria",
            "Croatia",
            "Cyprus",
            "Denmark",
            "Estonia",
            "Finland",
            "France",
            "Germany",
            "Greece",
            "Hungary",
            "Iceland",
            "Ireland",
            "Italy",
            "Luxembourg",
            "Malta",
            "Netherlands",
            "North Macedonia",
            "Norway",
            "Poland",
            "Portugal",
            "Romania",
            "Serbia",
            "Slovakia",
            "Slovenia",
            "Spain",
            "Sweden",
            "Switzerland",
            "Ukraine",
            "United Kingdom"
           ],
           "lat": [
            41.153332,
            47.516231,
            53.709807,
            50.503887,
            42.733883,
            45.1,
            35.126413,
            56.26392,
            58.595272,
            61.92411,
            46.227638,
            51.165691,
            39.074208,
            47.162494,
            64.963051,
            53.41291,
            41.87194,
            49.815273,
            35.937496,
            52.132633,
            41.608635,
            60.472024,
            51.919438,
            39.399872,
            45.943161,
            44.016521,
            48.669026,
            46.151241,
            40.463667,
            60.128161,
            46.818188,
            48.379433,
            55.378051
           ],
           "legendgroup": "",
           "lon": [
            20.168331,
            14.550072,
            27.953389,
            4.469936,
            25.48583,
            15.2,
            33.429859,
            9.501785,
            25.013607,
            25.748151,
            2.213749,
            10.451526,
            21.824312,
            19.503304,
            -19.020835,
            -8.24389,
            12.56738,
            6.129583,
            14.375416,
            5.291266,
            21.745275,
            8.468946,
            19.145136,
            -8.224454,
            24.96676,
            21.005859,
            19.699024,
            14.995463,
            -3.74922,
            18.643501,
            8.227512,
            31.16558,
            -3.435973
           ],
           "marker": {
            "color": [
             56,
             25475,
             683,
             16811,
             4479,
             2442,
             926,
             36650,
             0,
             11827,
             145996,
             605329,
             2292,
             8068,
             254,
             7904,
             26870,
             2206,
             2407,
             100565,
             1239,
             43315,
             6786,
             322,
             1636,
             98995,
             235,
             249,
             5269,
             79895,
             48508,
             2267,
             301537
            ],
            "coloraxis": "coloraxis",
            "size": [
             2006,
             2006,
             2006,
             2006,
             2006,
             2006,
             2006,
             2006,
             2006,
             2006,
             2006,
             2006,
             2006,
             2006,
             2006,
             2006,
             2006,
             2006,
             2006,
             2006,
             2006,
             2006,
             2006,
             2006,
             2006,
             2006,
             2006,
             2006,
             2006,
             2006,
             2006,
             2006,
             2006
            ],
            "sizemode": "area",
            "sizeref": 20.17,
            "symbol": "circle"
           },
           "mode": "markers",
           "name": "",
           "showlegend": false,
           "type": "scattergeo"
          }
         ],
         "name": "2006"
        },
        {
         "data": [
          {
           "customdata": [
            [
             68,
             41.153332,
             20.168331
            ],
            [
             30767,
             47.516231,
             14.550072
            ],
            [
             643,
             53.709807,
             27.953389
            ],
            [
             17578,
             50.503887,
             4.469936
            ],
            [
             4808,
             42.733883,
             25.48583
            ],
            [
             1641,
             45.1,
             15.2
            ],
            [
             1194,
             35.126413,
             33.429859
            ],
            [
             26779,
             56.26392,
             9.501785
            ],
            [
             6,
             58.595272,
             25.013607
            ],
            [
             6201,
             61.92411,
             25.748151
            ],
            [
             151789,
             46.227638,
             2.213749
            ],
            [
             578866,
             51.165691,
             10.451526
            ],
            [
             2228,
             39.074208,
             21.824312
            ],
            [
             8124,
             47.162494,
             19.503304
            ],
            [
             41,
             64.963051,
             -19.020835
            ],
            [
             9318,
             53.41291,
             -8.24389
            ],
            [
             38061,
             41.87194,
             12.56738
            ],
            [
             2737,
             49.815273,
             6.129583
            ],
            [
             3003,
             35.937496,
             14.375416
            ],
            [
             86576,
             52.132633,
             5.291266
            ],
            [
             1234,
             41.608635,
             21.745275
            ],
            [
             34499,
             60.472024,
             8.468946
            ],
            [
             10037,
             51.919438,
             19.145136
            ],
            [
             346,
             39.399872,
             -8.224454
            ],
            [
             1741,
             45.943161,
             24.96676
            ],
            [
             97991,
             44.016521,
             21.005859
            ],
            [
             265,
             48.669026,
             19.699024
            ],
            [
             255,
             46.151241,
             14.995463
            ],
            [
             5143,
             40.463667,
             -3.74922
            ],
            [
             75055,
             60.128161,
             18.643501
            ],
            [
             45642,
             46.818188,
             8.227512
            ],
            [
             7272,
             48.379433,
             31.16558
            ],
            [
             299701,
             55.378051,
             -3.435973
            ]
           ],
           "geo": "geo",
           "hovertemplate": "<b>%{hovertext}</b><br><br>Year=%{marker.size}<br>Refugees under UNHCR's mandate=%{marker.color}<extra></extra>",
           "hovertext": [
            "Albania",
            "Austria",
            "Belarus",
            "Belgium",
            "Bulgaria",
            "Croatia",
            "Cyprus",
            "Denmark",
            "Estonia",
            "Finland",
            "France",
            "Germany",
            "Greece",
            "Hungary",
            "Iceland",
            "Ireland",
            "Italy",
            "Luxembourg",
            "Malta",
            "Netherlands",
            "North Macedonia",
            "Norway",
            "Poland",
            "Portugal",
            "Romania",
            "Serbia",
            "Slovakia",
            "Slovenia",
            "Spain",
            "Sweden",
            "Switzerland",
            "Ukraine",
            "United Kingdom"
           ],
           "lat": [
            41.153332,
            47.516231,
            53.709807,
            50.503887,
            42.733883,
            45.1,
            35.126413,
            56.26392,
            58.595272,
            61.92411,
            46.227638,
            51.165691,
            39.074208,
            47.162494,
            64.963051,
            53.41291,
            41.87194,
            49.815273,
            35.937496,
            52.132633,
            41.608635,
            60.472024,
            51.919438,
            39.399872,
            45.943161,
            44.016521,
            48.669026,
            46.151241,
            40.463667,
            60.128161,
            46.818188,
            48.379433,
            55.378051
           ],
           "legendgroup": "",
           "lon": [
            20.168331,
            14.550072,
            27.953389,
            4.469936,
            25.48583,
            15.2,
            33.429859,
            9.501785,
            25.013607,
            25.748151,
            2.213749,
            10.451526,
            21.824312,
            19.503304,
            -19.020835,
            -8.24389,
            12.56738,
            6.129583,
            14.375416,
            5.291266,
            21.745275,
            8.468946,
            19.145136,
            -8.224454,
            24.96676,
            21.005859,
            19.699024,
            14.995463,
            -3.74922,
            18.643501,
            8.227512,
            31.16558,
            -3.435973
           ],
           "marker": {
            "color": [
             68,
             30767,
             643,
             17578,
             4808,
             1641,
             1194,
             26779,
             6,
             6201,
             151789,
             578866,
             2228,
             8124,
             41,
             9318,
             38061,
             2737,
             3003,
             86576,
             1234,
             34499,
             10037,
             346,
             1741,
             97991,
             265,
             255,
             5143,
             75055,
             45642,
             7272,
             299701
            ],
            "coloraxis": "coloraxis",
            "size": [
             2007,
             2007,
             2007,
             2007,
             2007,
             2007,
             2007,
             2007,
             2007,
             2007,
             2007,
             2007,
             2007,
             2007,
             2007,
             2007,
             2007,
             2007,
             2007,
             2007,
             2007,
             2007,
             2007,
             2007,
             2007,
             2007,
             2007,
             2007,
             2007,
             2007,
             2007,
             2007,
             2007
            ],
            "sizemode": "area",
            "sizeref": 20.17,
            "symbol": "circle"
           },
           "mode": "markers",
           "name": "",
           "showlegend": false,
           "type": "scattergeo"
          }
         ],
         "name": "2007"
        },
        {
         "data": [
          {
           "customdata": [
            [
             57,
             41.153332,
             20.168331
            ],
            [
             37546,
             47.516231,
             14.550072
            ],
            [
             602,
             53.709807,
             27.953389
            ],
            [
             17025,
             50.503887,
             4.469936
            ],
            [
             5108,
             42.733883,
             25.48583
            ],
            [
             1591,
             45.1,
             15.2
            ],
            [
             1458,
             35.126413,
             33.429859
            ],
            [
             23385,
             56.26392,
             9.501785
            ],
            [
             16,
             58.595272,
             25.013607
            ],
            [
             6621,
             61.92411,
             25.748151
            ],
            [
             171206,
             46.227638,
             2.213749
            ],
            [
             582719,
             51.165691,
             10.451526
            ],
            [
             2169,
             39.074208,
             21.824312
            ],
            [
             7740,
             47.162494,
             19.503304
            ],
            [
             39,
             64.963051,
             -19.020835
            ],
            [
             9714,
             53.41291,
             -8.24389
            ],
            [
             47059,
             41.87194,
             12.56738
            ],
            [
             3109,
             49.815273,
             6.129583
            ],
            [
             4329,
             35.937496,
             14.375416
            ],
            [
             77589,
             52.132633,
             5.291266
            ],
            [
             1671,
             41.608635,
             21.745275
            ],
            [
             36076,
             60.472024,
             8.468946
            ],
            [
             12761,
             51.919438,
             19.145136
            ],
            [
             393,
             39.399872,
             -8.224454
            ],
            [
             1586,
             45.943161,
             24.96676
            ],
            [
             96735,
             44.016521,
             21.005859
            ],
            [
             301,
             48.669026,
             19.699024
            ],
            [
             257,
             46.151241,
             14.995463
            ],
            [
             4649,
             40.463667,
             -3.74922
            ],
            [
             77016,
             60.128161,
             18.643501
            ],
            [
             46131,
             46.818188,
             8.227512
            ],
            [
             7189,
             48.379433,
             31.16558
            ],
            [
             292081,
             55.378051,
             -3.435973
            ]
           ],
           "geo": "geo",
           "hovertemplate": "<b>%{hovertext}</b><br><br>Year=%{marker.size}<br>Refugees under UNHCR's mandate=%{marker.color}<extra></extra>",
           "hovertext": [
            "Albania",
            "Austria",
            "Belarus",
            "Belgium",
            "Bulgaria",
            "Croatia",
            "Cyprus",
            "Denmark",
            "Estonia",
            "Finland",
            "France",
            "Germany",
            "Greece",
            "Hungary",
            "Iceland",
            "Ireland",
            "Italy",
            "Luxembourg",
            "Malta",
            "Netherlands",
            "North Macedonia",
            "Norway",
            "Poland",
            "Portugal",
            "Romania",
            "Serbia",
            "Slovakia",
            "Slovenia",
            "Spain",
            "Sweden",
            "Switzerland",
            "Ukraine",
            "United Kingdom"
           ],
           "lat": [
            41.153332,
            47.516231,
            53.709807,
            50.503887,
            42.733883,
            45.1,
            35.126413,
            56.26392,
            58.595272,
            61.92411,
            46.227638,
            51.165691,
            39.074208,
            47.162494,
            64.963051,
            53.41291,
            41.87194,
            49.815273,
            35.937496,
            52.132633,
            41.608635,
            60.472024,
            51.919438,
            39.399872,
            45.943161,
            44.016521,
            48.669026,
            46.151241,
            40.463667,
            60.128161,
            46.818188,
            48.379433,
            55.378051
           ],
           "legendgroup": "",
           "lon": [
            20.168331,
            14.550072,
            27.953389,
            4.469936,
            25.48583,
            15.2,
            33.429859,
            9.501785,
            25.013607,
            25.748151,
            2.213749,
            10.451526,
            21.824312,
            19.503304,
            -19.020835,
            -8.24389,
            12.56738,
            6.129583,
            14.375416,
            5.291266,
            21.745275,
            8.468946,
            19.145136,
            -8.224454,
            24.96676,
            21.005859,
            19.699024,
            14.995463,
            -3.74922,
            18.643501,
            8.227512,
            31.16558,
            -3.435973
           ],
           "marker": {
            "color": [
             57,
             37546,
             602,
             17025,
             5108,
             1591,
             1458,
             23385,
             16,
             6621,
             171206,
             582719,
             2169,
             7740,
             39,
             9714,
             47059,
             3109,
             4329,
             77589,
             1671,
             36076,
             12761,
             393,
             1586,
             96735,
             301,
             257,
             4649,
             77016,
             46131,
             7189,
             292081
            ],
            "coloraxis": "coloraxis",
            "size": [
             2008,
             2008,
             2008,
             2008,
             2008,
             2008,
             2008,
             2008,
             2008,
             2008,
             2008,
             2008,
             2008,
             2008,
             2008,
             2008,
             2008,
             2008,
             2008,
             2008,
             2008,
             2008,
             2008,
             2008,
             2008,
             2008,
             2008,
             2008,
             2008,
             2008,
             2008,
             2008,
             2008
            ],
            "sizemode": "area",
            "sizeref": 20.17,
            "symbol": "circle"
           },
           "mode": "markers",
           "name": "",
           "showlegend": false,
           "type": "scattergeo"
          }
         ],
         "name": "2008"
        },
        {
         "data": [
          {
           "customdata": [
            [
             69,
             41.153332,
             20.168331
            ],
            [
             38895,
             47.516231,
             14.550072
            ],
            [
             578,
             53.709807,
             27.953389
            ],
            [
             15536,
             50.503887,
             4.469936
            ],
            [
             5375,
             42.733883,
             25.48583
            ],
            [
             1240,
             45.1,
             15.2
            ],
            [
             2888,
             35.126413,
             33.429859
            ],
            [
             20340,
             56.26392,
             9.501785
            ],
            [
             16,
             58.595272,
             25.013607
            ],
            [
             7448,
             61.92411,
             25.748151
            ],
            [
             196364,
             46.227638,
             2.213749
            ],
            [
             593787,
             51.165691,
             10.451526
            ],
            [
             1700,
             39.074208,
             21.824312
            ],
            [
             6041,
             47.162494,
             19.503304
            ],
            [
             58,
             64.963051,
             -19.020835
            ],
            [
             9561,
             53.41291,
             -8.24389
            ],
            [
             54962,
             41.87194,
             12.56738
            ],
            [
             3230,
             49.815273,
             6.129583
            ],
            [
             5951,
             35.937496,
             14.375416
            ],
            [
             75996,
             52.132633,
             5.291266
            ],
            [
             1541,
             41.608635,
             21.745275
            ],
            [
             37806,
             60.472024,
             8.468946
            ],
            [
             15299,
             51.919438,
             19.145136
            ],
            [
             383,
             39.399872,
             -8.224454
            ],
            [
             1065,
             45.943161,
             24.96676
            ],
            [
             86348,
             44.016521,
             21.005859
            ],
            [
             387,
             48.669026,
             19.699024
            ],
            [
             281,
             46.151241,
             14.995463
            ],
            [
             3960,
             40.463667,
             -3.74922
            ],
            [
             81346,
             60.128161,
             18.643501
            ],
            [
             46204,
             46.818188,
             8.227512
            ],
            [
             7321,
             48.379433,
             31.16558
            ],
            [
             269355,
             55.378051,
             -3.435973
            ]
           ],
           "geo": "geo",
           "hovertemplate": "<b>%{hovertext}</b><br><br>Year=%{marker.size}<br>Refugees under UNHCR's mandate=%{marker.color}<extra></extra>",
           "hovertext": [
            "Albania",
            "Austria",
            "Belarus",
            "Belgium",
            "Bulgaria",
            "Croatia",
            "Cyprus",
            "Denmark",
            "Estonia",
            "Finland",
            "France",
            "Germany",
            "Greece",
            "Hungary",
            "Iceland",
            "Ireland",
            "Italy",
            "Luxembourg",
            "Malta",
            "Netherlands",
            "North Macedonia",
            "Norway",
            "Poland",
            "Portugal",
            "Romania",
            "Serbia",
            "Slovakia",
            "Slovenia",
            "Spain",
            "Sweden",
            "Switzerland",
            "Ukraine",
            "United Kingdom"
           ],
           "lat": [
            41.153332,
            47.516231,
            53.709807,
            50.503887,
            42.733883,
            45.1,
            35.126413,
            56.26392,
            58.595272,
            61.92411,
            46.227638,
            51.165691,
            39.074208,
            47.162494,
            64.963051,
            53.41291,
            41.87194,
            49.815273,
            35.937496,
            52.132633,
            41.608635,
            60.472024,
            51.919438,
            39.399872,
            45.943161,
            44.016521,
            48.669026,
            46.151241,
            40.463667,
            60.128161,
            46.818188,
            48.379433,
            55.378051
           ],
           "legendgroup": "",
           "lon": [
            20.168331,
            14.550072,
            27.953389,
            4.469936,
            25.48583,
            15.2,
            33.429859,
            9.501785,
            25.013607,
            25.748151,
            2.213749,
            10.451526,
            21.824312,
            19.503304,
            -19.020835,
            -8.24389,
            12.56738,
            6.129583,
            14.375416,
            5.291266,
            21.745275,
            8.468946,
            19.145136,
            -8.224454,
            24.96676,
            21.005859,
            19.699024,
            14.995463,
            -3.74922,
            18.643501,
            8.227512,
            31.16558,
            -3.435973
           ],
           "marker": {
            "color": [
             69,
             38895,
             578,
             15536,
             5375,
             1240,
             2888,
             20340,
             16,
             7448,
             196364,
             593787,
             1700,
             6041,
             58,
             9561,
             54962,
             3230,
             5951,
             75996,
             1541,
             37806,
             15299,
             383,
             1065,
             86348,
             387,
             281,
             3960,
             81346,
             46204,
             7321,
             269355
            ],
            "coloraxis": "coloraxis",
            "size": [
             2009,
             2009,
             2009,
             2009,
             2009,
             2009,
             2009,
             2009,
             2009,
             2009,
             2009,
             2009,
             2009,
             2009,
             2009,
             2009,
             2009,
             2009,
             2009,
             2009,
             2009,
             2009,
             2009,
             2009,
             2009,
             2009,
             2009,
             2009,
             2009,
             2009,
             2009,
             2009,
             2009
            ],
            "sizemode": "area",
            "sizeref": 20.17,
            "symbol": "circle"
           },
           "mode": "markers",
           "name": "",
           "showlegend": false,
           "type": "scattergeo"
          }
         ],
         "name": "2009"
        },
        {
         "data": [
          {
           "customdata": [
            [
             75,
             41.153332,
             20.168331
            ],
            [
             42613,
             47.516231,
             14.550072
            ],
            [
             587,
             53.709807,
             27.953389
            ],
            [
             17891,
             50.503887,
             4.469936
            ],
            [
             5519,
             42.733883,
             25.48583
            ],
            [
             933,
             45.1,
             15.2
            ],
            [
             3397,
             35.126413,
             33.429859
            ],
            [
             17907,
             56.26392,
             9.501785
            ],
            [
             31,
             58.595272,
             25.013607
            ],
            [
             8721,
             61.92411,
             25.748151
            ],
            [
             200687,
             46.227638,
             2.213749
            ],
            [
             594250,
             51.165691,
             10.451526
            ],
            [
             1443,
             39.074208,
             21.824312
            ],
            [
             5400,
             47.162494,
             19.503304
            ],
            [
             72,
             64.963051,
             -19.020835
            ],
            [
             9099,
             53.41291,
             -8.24389
            ],
            [
             56402,
             41.87194,
             12.56738
            ],
            [
             3254,
             49.815273,
             6.129583
            ],
            [
             6143,
             35.937496,
             14.375416
            ],
            [
             74948,
             52.132633,
             5.291266
            ],
            [
             1397,
             41.608635,
             21.745275
            ],
            [
             40245,
             60.472024,
             8.468946
            ],
            [
             15537,
             51.919438,
             19.145136
            ],
            [
             368,
             39.399872,
             -8.224454
            ],
            [
             1019,
             45.943161,
             24.96676
            ],
            [
             73604,
             44.016521,
             21.005859
            ],
            [
             451,
             48.669026,
             19.699024
            ],
            [
             315,
             46.151241,
             14.995463
            ],
            [
             3814,
             40.463667,
             -3.74922
            ],
            [
             82620,
             60.128161,
             18.643501
            ],
            [
             48813,
             46.818188,
             8.227512
            ],
            [
             3016,
             48.379433,
             31.16558
            ],
            [
             238133,
             55.378051,
             -3.435973
            ]
           ],
           "geo": "geo",
           "hovertemplate": "<b>%{hovertext}</b><br><br>Year=%{marker.size}<br>Refugees under UNHCR's mandate=%{marker.color}<extra></extra>",
           "hovertext": [
            "Albania",
            "Austria",
            "Belarus",
            "Belgium",
            "Bulgaria",
            "Croatia",
            "Cyprus",
            "Denmark",
            "Estonia",
            "Finland",
            "France",
            "Germany",
            "Greece",
            "Hungary",
            "Iceland",
            "Ireland",
            "Italy",
            "Luxembourg",
            "Malta",
            "Netherlands",
            "North Macedonia",
            "Norway",
            "Poland",
            "Portugal",
            "Romania",
            "Serbia",
            "Slovakia",
            "Slovenia",
            "Spain",
            "Sweden",
            "Switzerland",
            "Ukraine",
            "United Kingdom"
           ],
           "lat": [
            41.153332,
            47.516231,
            53.709807,
            50.503887,
            42.733883,
            45.1,
            35.126413,
            56.26392,
            58.595272,
            61.92411,
            46.227638,
            51.165691,
            39.074208,
            47.162494,
            64.963051,
            53.41291,
            41.87194,
            49.815273,
            35.937496,
            52.132633,
            41.608635,
            60.472024,
            51.919438,
            39.399872,
            45.943161,
            44.016521,
            48.669026,
            46.151241,
            40.463667,
            60.128161,
            46.818188,
            48.379433,
            55.378051
           ],
           "legendgroup": "",
           "lon": [
            20.168331,
            14.550072,
            27.953389,
            4.469936,
            25.48583,
            15.2,
            33.429859,
            9.501785,
            25.013607,
            25.748151,
            2.213749,
            10.451526,
            21.824312,
            19.503304,
            -19.020835,
            -8.24389,
            12.56738,
            6.129583,
            14.375416,
            5.291266,
            21.745275,
            8.468946,
            19.145136,
            -8.224454,
            24.96676,
            21.005859,
            19.699024,
            14.995463,
            -3.74922,
            18.643501,
            8.227512,
            31.16558,
            -3.435973
           ],
           "marker": {
            "color": [
             75,
             42613,
             587,
             17891,
             5519,
             933,
             3397,
             17907,
             31,
             8721,
             200687,
             594250,
             1443,
             5400,
             72,
             9099,
             56402,
             3254,
             6143,
             74948,
             1397,
             40245,
             15537,
             368,
             1019,
             73604,
             451,
             315,
             3814,
             82620,
             48813,
             3016,
             238133
            ],
            "coloraxis": "coloraxis",
            "size": [
             2010,
             2010,
             2010,
             2010,
             2010,
             2010,
             2010,
             2010,
             2010,
             2010,
             2010,
             2010,
             2010,
             2010,
             2010,
             2010,
             2010,
             2010,
             2010,
             2010,
             2010,
             2010,
             2010,
             2010,
             2010,
             2010,
             2010,
             2010,
             2010,
             2010,
             2010,
             2010,
             2010
            ],
            "sizemode": "area",
            "sizeref": 20.17,
            "symbol": "circle"
           },
           "mode": "markers",
           "name": "",
           "showlegend": false,
           "type": "scattergeo"
          }
         ],
         "name": "2010"
        },
        {
         "data": [
          {
           "customdata": [
            [
             79,
             41.153332,
             20.168331
            ],
            [
             47055,
             47.516231,
             14.550072
            ],
            [
             594,
             53.709807,
             27.953389
            ],
            [
             22396,
             50.503887,
             4.469936
            ],
            [
             5676,
             42.733883,
             25.48583
            ],
            [
             818,
             45.1,
             15.2
            ],
            [
             3498,
             35.126413,
             33.429859
            ],
            [
             13386,
             56.26392,
             9.501785
            ],
            [
             34,
             58.595272,
             25.013607
            ],
            [
             9170,
             61.92411,
             25.748151
            ],
            [
             210207,
             46.227638,
             2.213749
            ],
            [
             571672,
             51.165691,
             10.451526
            ],
            [
             1566,
             39.074208,
             21.824312
            ],
            [
             5085,
             47.162494,
             19.503304
            ],
            [
             55,
             64.963051,
             -19.020835
            ],
            [
             8234,
             53.41291,
             -8.24389
            ],
            [
             58066,
             41.87194,
             12.56738
            ],
            [
             2855,
             49.815273,
             6.129583
            ],
            [
             6948,
             35.937496,
             14.375416
            ],
            [
             74587,
             52.132633,
             5.291266
            ],
            [
             1129,
             41.608635,
             21.745275
            ],
            [
             40671,
             60.472024,
             8.468946
            ],
            [
             15834,
             51.919438,
             19.145136
            ],
            [
             399,
             39.399872,
             -8.224454
            ],
            [
             1003,
             45.943161,
             24.96676
            ],
            [
             70702,
             44.016521,
             21.005859
            ],
            [
             535,
             48.669026,
             19.699024
            ],
            [
             134,
             46.151241,
             14.995463
            ],
            [
             4220,
             40.463667,
             -3.74922
            ],
            [
             86603,
             60.128161,
             18.643501
            ],
            [
             50401,
             46.818188,
             8.227512
            ],
            [
             3168,
             48.379433,
             31.16558
            ],
            [
             193494,
             55.378051,
             -3.435973
            ]
           ],
           "geo": "geo",
           "hovertemplate": "<b>%{hovertext}</b><br><br>Year=%{marker.size}<br>Refugees under UNHCR's mandate=%{marker.color}<extra></extra>",
           "hovertext": [
            "Albania",
            "Austria",
            "Belarus",
            "Belgium",
            "Bulgaria",
            "Croatia",
            "Cyprus",
            "Denmark",
            "Estonia",
            "Finland",
            "France",
            "Germany",
            "Greece",
            "Hungary",
            "Iceland",
            "Ireland",
            "Italy",
            "Luxembourg",
            "Malta",
            "Netherlands",
            "North Macedonia",
            "Norway",
            "Poland",
            "Portugal",
            "Romania",
            "Serbia",
            "Slovakia",
            "Slovenia",
            "Spain",
            "Sweden",
            "Switzerland",
            "Ukraine",
            "United Kingdom"
           ],
           "lat": [
            41.153332,
            47.516231,
            53.709807,
            50.503887,
            42.733883,
            45.1,
            35.126413,
            56.26392,
            58.595272,
            61.92411,
            46.227638,
            51.165691,
            39.074208,
            47.162494,
            64.963051,
            53.41291,
            41.87194,
            49.815273,
            35.937496,
            52.132633,
            41.608635,
            60.472024,
            51.919438,
            39.399872,
            45.943161,
            44.016521,
            48.669026,
            46.151241,
            40.463667,
            60.128161,
            46.818188,
            48.379433,
            55.378051
           ],
           "legendgroup": "",
           "lon": [
            20.168331,
            14.550072,
            27.953389,
            4.469936,
            25.48583,
            15.2,
            33.429859,
            9.501785,
            25.013607,
            25.748151,
            2.213749,
            10.451526,
            21.824312,
            19.503304,
            -19.020835,
            -8.24389,
            12.56738,
            6.129583,
            14.375416,
            5.291266,
            21.745275,
            8.468946,
            19.145136,
            -8.224454,
            24.96676,
            21.005859,
            19.699024,
            14.995463,
            -3.74922,
            18.643501,
            8.227512,
            31.16558,
            -3.435973
           ],
           "marker": {
            "color": [
             79,
             47055,
             594,
             22396,
             5676,
             818,
             3498,
             13386,
             34,
             9170,
             210207,
             571672,
             1566,
             5085,
             55,
             8234,
             58066,
             2855,
             6948,
             74587,
             1129,
             40671,
             15834,
             399,
             1003,
             70702,
             535,
             134,
             4220,
             86603,
             50401,
             3168,
             193494
            ],
            "coloraxis": "coloraxis",
            "size": [
             2011,
             2011,
             2011,
             2011,
             2011,
             2011,
             2011,
             2011,
             2011,
             2011,
             2011,
             2011,
             2011,
             2011,
             2011,
             2011,
             2011,
             2011,
             2011,
             2011,
             2011,
             2011,
             2011,
             2011,
             2011,
             2011,
             2011,
             2011,
             2011,
             2011,
             2011,
             2011,
             2011
            ],
            "sizemode": "area",
            "sizeref": 20.17,
            "symbol": "circle"
           },
           "mode": "markers",
           "name": "",
           "showlegend": false,
           "type": "scattergeo"
          }
         ],
         "name": "2011"
        },
        {
         "data": [
          {
           "customdata": [
            [
             84,
             41.153332,
             20.168331
            ],
            [
             51707,
             47.516231,
             14.550072
            ],
            [
             572,
             53.709807,
             27.953389
            ],
            [
             22023,
             50.503887,
             4.469936
            ],
            [
             2273,
             42.733883,
             25.48583
            ],
            [
             722,
             45.1,
             15.2
            ],
            [
             3627,
             35.126413,
             33.429859
            ],
            [
             11797,
             56.26392,
             9.501785
            ],
            [
             48,
             58.595272,
             25.013607
            ],
            [
             9910,
             61.92411,
             25.748151
            ],
            [
             217865,
             46.227638,
             2.213749
            ],
            [
             589735,
             51.165691,
             10.451526
            ],
            [
             2090,
             39.074208,
             21.824312
            ],
            [
             4034,
             47.162494,
             19.503304
            ],
            [
             55,
             64.963051,
             -19.020835
            ],
            [
             6309,
             53.41291,
             -8.24389
            ],
            [
             64782,
             41.87194,
             12.56738
            ],
            [
             2910,
             49.815273,
             6.129583
            ],
            [
             8242,
             35.937496,
             14.375416
            ],
            [
             71893,
             52.132633,
             5.291266
            ],
            [
             1076,
             41.608635,
             21.745275
            ],
            [
             42805,
             60.472024,
             8.468946
            ],
            [
             15897,
             51.919438,
             19.145136
            ],
            [
             473,
             39.399872,
             -8.224454
            ],
            [
             1263,
             45.943161,
             24.96676
            ],
            [
             66367,
             44.016521,
             21.005859
            ],
            [
             650,
             48.669026,
             19.699024
            ],
            [
             169,
             46.151241,
             14.995463
            ],
            [
             4502,
             40.463667,
             -3.74922
            ],
            [
             92869,
             60.128161,
             18.643501
            ],
            [
             50733,
             46.818188,
             8.227512
            ],
            [
             2790,
             48.379433,
             31.16558
            ],
            [
             149790,
             55.378051,
             -3.435973
            ]
           ],
           "geo": "geo",
           "hovertemplate": "<b>%{hovertext}</b><br><br>Year=%{marker.size}<br>Refugees under UNHCR's mandate=%{marker.color}<extra></extra>",
           "hovertext": [
            "Albania",
            "Austria",
            "Belarus",
            "Belgium",
            "Bulgaria",
            "Croatia",
            "Cyprus",
            "Denmark",
            "Estonia",
            "Finland",
            "France",
            "Germany",
            "Greece",
            "Hungary",
            "Iceland",
            "Ireland",
            "Italy",
            "Luxembourg",
            "Malta",
            "Netherlands",
            "North Macedonia",
            "Norway",
            "Poland",
            "Portugal",
            "Romania",
            "Serbia",
            "Slovakia",
            "Slovenia",
            "Spain",
            "Sweden",
            "Switzerland",
            "Ukraine",
            "United Kingdom"
           ],
           "lat": [
            41.153332,
            47.516231,
            53.709807,
            50.503887,
            42.733883,
            45.1,
            35.126413,
            56.26392,
            58.595272,
            61.92411,
            46.227638,
            51.165691,
            39.074208,
            47.162494,
            64.963051,
            53.41291,
            41.87194,
            49.815273,
            35.937496,
            52.132633,
            41.608635,
            60.472024,
            51.919438,
            39.399872,
            45.943161,
            44.016521,
            48.669026,
            46.151241,
            40.463667,
            60.128161,
            46.818188,
            48.379433,
            55.378051
           ],
           "legendgroup": "",
           "lon": [
            20.168331,
            14.550072,
            27.953389,
            4.469936,
            25.48583,
            15.2,
            33.429859,
            9.501785,
            25.013607,
            25.748151,
            2.213749,
            10.451526,
            21.824312,
            19.503304,
            -19.020835,
            -8.24389,
            12.56738,
            6.129583,
            14.375416,
            5.291266,
            21.745275,
            8.468946,
            19.145136,
            -8.224454,
            24.96676,
            21.005859,
            19.699024,
            14.995463,
            -3.74922,
            18.643501,
            8.227512,
            31.16558,
            -3.435973
           ],
           "marker": {
            "color": [
             84,
             51707,
             572,
             22023,
             2273,
             722,
             3627,
             11797,
             48,
             9910,
             217865,
             589735,
             2090,
             4034,
             55,
             6309,
             64782,
             2910,
             8242,
             71893,
             1076,
             42805,
             15897,
             473,
             1263,
             66367,
             650,
             169,
             4502,
             92869,
             50733,
             2790,
             149790
            ],
            "coloraxis": "coloraxis",
            "size": [
             2012,
             2012,
             2012,
             2012,
             2012,
             2012,
             2012,
             2012,
             2012,
             2012,
             2012,
             2012,
             2012,
             2012,
             2012,
             2012,
             2012,
             2012,
             2012,
             2012,
             2012,
             2012,
             2012,
             2012,
             2012,
             2012,
             2012,
             2012,
             2012,
             2012,
             2012,
             2012,
             2012
            ],
            "sizemode": "area",
            "sizeref": 20.17,
            "symbol": "circle"
           },
           "mode": "markers",
           "name": "",
           "showlegend": false,
           "type": "scattergeo"
          }
         ],
         "name": "2012"
        },
        {
         "data": [
          {
           "customdata": [
            [
             96,
             41.153332,
             20.168331
            ],
            [
             55575,
             47.516231,
             14.550072
            ],
            [
             599,
             53.709807,
             27.953389
            ],
            [
             25617,
             50.503887,
             4.469936
            ],
            [
             4305,
             42.733883,
             25.48583
            ],
            [
             679,
             45.1,
             15.2
            ],
            [
             3879,
             35.126413,
             33.429859
            ],
            [
             13153,
             56.26392,
             9.501785
            ],
            [
             52,
             58.595272,
             25.013607
            ],
            [
             11242,
             61.92411,
             25.748151
            ],
            [
             232487,
             46.227638,
             2.213749
            ],
            [
             187545,
             51.165691,
             10.451526
            ],
            [
             3468,
             39.074208,
             21.824312
            ],
            [
             2422,
             47.162494,
             19.503304
            ],
            [
             72,
             64.963051,
             -19.020835
            ],
            [
             5991,
             53.41291,
             -8.24389
            ],
            [
             76248,
             41.87194,
             12.56738
            ],
            [
             901,
             49.815273,
             6.129583
            ],
            [
             9900,
             35.937496,
             14.375416
            ],
            [
             74700,
             52.132633,
             5.291266
            ],
            [
             980,
             41.608635,
             21.745275
            ],
            [
             46088,
             60.472024,
             8.468946
            ],
            [
             16428,
             51.919438,
             19.145136
            ],
            [
             596,
             39.399872,
             -8.224454
            ],
            [
             1747,
             45.943161,
             24.96676
            ],
            [
             57079,
             44.016521,
             21.005859
            ],
            [
             691,
             48.669026,
             19.699024
            ],
            [
             202,
             46.151241,
             14.995463
            ],
            [
             4641,
             40.463667,
             -3.74922
            ],
            [
             114172,
             60.128161,
             18.643501
            ],
            [
             52448,
             46.818188,
             8.227512
            ],
            [
             2956,
             48.379433,
             31.16558
            ],
            [
             126036,
             55.378051,
             -3.435973
            ]
           ],
           "geo": "geo",
           "hovertemplate": "<b>%{hovertext}</b><br><br>Year=%{marker.size}<br>Refugees under UNHCR's mandate=%{marker.color}<extra></extra>",
           "hovertext": [
            "Albania",
            "Austria",
            "Belarus",
            "Belgium",
            "Bulgaria",
            "Croatia",
            "Cyprus",
            "Denmark",
            "Estonia",
            "Finland",
            "France",
            "Germany",
            "Greece",
            "Hungary",
            "Iceland",
            "Ireland",
            "Italy",
            "Luxembourg",
            "Malta",
            "Netherlands",
            "North Macedonia",
            "Norway",
            "Poland",
            "Portugal",
            "Romania",
            "Serbia",
            "Slovakia",
            "Slovenia",
            "Spain",
            "Sweden",
            "Switzerland",
            "Ukraine",
            "United Kingdom"
           ],
           "lat": [
            41.153332,
            47.516231,
            53.709807,
            50.503887,
            42.733883,
            45.1,
            35.126413,
            56.26392,
            58.595272,
            61.92411,
            46.227638,
            51.165691,
            39.074208,
            47.162494,
            64.963051,
            53.41291,
            41.87194,
            49.815273,
            35.937496,
            52.132633,
            41.608635,
            60.472024,
            51.919438,
            39.399872,
            45.943161,
            44.016521,
            48.669026,
            46.151241,
            40.463667,
            60.128161,
            46.818188,
            48.379433,
            55.378051
           ],
           "legendgroup": "",
           "lon": [
            20.168331,
            14.550072,
            27.953389,
            4.469936,
            25.48583,
            15.2,
            33.429859,
            9.501785,
            25.013607,
            25.748151,
            2.213749,
            10.451526,
            21.824312,
            19.503304,
            -19.020835,
            -8.24389,
            12.56738,
            6.129583,
            14.375416,
            5.291266,
            21.745275,
            8.468946,
            19.145136,
            -8.224454,
            24.96676,
            21.005859,
            19.699024,
            14.995463,
            -3.74922,
            18.643501,
            8.227512,
            31.16558,
            -3.435973
           ],
           "marker": {
            "color": [
             96,
             55575,
             599,
             25617,
             4305,
             679,
             3879,
             13153,
             52,
             11242,
             232487,
             187545,
             3468,
             2422,
             72,
             5991,
             76248,
             901,
             9900,
             74700,
             980,
             46088,
             16428,
             596,
             1747,
             57079,
             691,
             202,
             4641,
             114172,
             52448,
             2956,
             126036
            ],
            "coloraxis": "coloraxis",
            "size": [
             2013,
             2013,
             2013,
             2013,
             2013,
             2013,
             2013,
             2013,
             2013,
             2013,
             2013,
             2013,
             2013,
             2013,
             2013,
             2013,
             2013,
             2013,
             2013,
             2013,
             2013,
             2013,
             2013,
             2013,
             2013,
             2013,
             2013,
             2013,
             2013,
             2013,
             2013,
             2013,
             2013
            ],
            "sizemode": "area",
            "sizeref": 20.17,
            "symbol": "circle"
           },
           "mode": "markers",
           "name": "",
           "showlegend": false,
           "type": "scattergeo"
          }
         ],
         "name": "2013"
        },
        {
         "data": [
          {
           "customdata": [
            [
             111,
             41.153332,
             20.168331
            ],
            [
             60724,
             47.516231,
             14.550072
            ],
            [
             919,
             53.709807,
             27.953389
            ],
            [
             29170,
             50.503887,
             4.469936
            ],
            [
             11026,
             42.733883,
             25.48583
            ],
            [
             724,
             45.1,
             15.2
            ],
            [
             5120,
             35.126413,
             33.429859
            ],
            [
             17767,
             56.26392,
             9.501785
            ],
            [
             82,
             58.595272,
             25.013607
            ],
            [
             11783,
             61.92411,
             25.748151
            ],
            [
             252248,
             46.227638,
             2.213749
            ],
            [
             216956,
             51.165691,
             10.451526
            ],
            [
             10292,
             39.074208,
             21.824312
            ],
            [
             2854,
             47.162494,
             19.503304
            ],
            [
             93,
             64.963051,
             -19.020835
            ],
            [
             5832,
             53.41291,
             -8.24389
            ],
            [
             93712,
             41.87194,
             12.56738
            ],
            [
             1091,
             49.815273,
             6.129583
            ],
            [
             6095,
             35.937496,
             14.375416
            ],
            [
             82483,
             52.132633,
             5.291266
            ],
            [
             880,
             41.608635,
             21.745275
            ],
            [
             47025,
             60.472024,
             8.468946
            ],
            [
             15730,
             51.919438,
             19.145136
            ],
            [
             704,
             39.399872,
             -8.224454
            ],
            [
             2171,
             45.943161,
             24.96676
            ],
            [
             43749,
             44.016521,
             21.005859
            ],
            [
             791,
             48.669026,
             19.699024
            ],
            [
             251,
             46.151241,
             14.995463
            ],
            [
             5797,
             40.463667,
             -3.74922
            ],
            [
             142197,
             60.128161,
             18.643501
            ],
            [
             62596,
             46.818188,
             8.227512
            ],
            [
             3206,
             48.379433,
             31.16558
            ],
            [
             117226,
             55.378051,
             -3.435973
            ]
           ],
           "geo": "geo",
           "hovertemplate": "<b>%{hovertext}</b><br><br>Year=%{marker.size}<br>Refugees under UNHCR's mandate=%{marker.color}<extra></extra>",
           "hovertext": [
            "Albania",
            "Austria",
            "Belarus",
            "Belgium",
            "Bulgaria",
            "Croatia",
            "Cyprus",
            "Denmark",
            "Estonia",
            "Finland",
            "France",
            "Germany",
            "Greece",
            "Hungary",
            "Iceland",
            "Ireland",
            "Italy",
            "Luxembourg",
            "Malta",
            "Netherlands",
            "North Macedonia",
            "Norway",
            "Poland",
            "Portugal",
            "Romania",
            "Serbia",
            "Slovakia",
            "Slovenia",
            "Spain",
            "Sweden",
            "Switzerland",
            "Ukraine",
            "United Kingdom"
           ],
           "lat": [
            41.153332,
            47.516231,
            53.709807,
            50.503887,
            42.733883,
            45.1,
            35.126413,
            56.26392,
            58.595272,
            61.92411,
            46.227638,
            51.165691,
            39.074208,
            47.162494,
            64.963051,
            53.41291,
            41.87194,
            49.815273,
            35.937496,
            52.132633,
            41.608635,
            60.472024,
            51.919438,
            39.399872,
            45.943161,
            44.016521,
            48.669026,
            46.151241,
            40.463667,
            60.128161,
            46.818188,
            48.379433,
            55.378051
           ],
           "legendgroup": "",
           "lon": [
            20.168331,
            14.550072,
            27.953389,
            4.469936,
            25.48583,
            15.2,
            33.429859,
            9.501785,
            25.013607,
            25.748151,
            2.213749,
            10.451526,
            21.824312,
            19.503304,
            -19.020835,
            -8.24389,
            12.56738,
            6.129583,
            14.375416,
            5.291266,
            21.745275,
            8.468946,
            19.145136,
            -8.224454,
            24.96676,
            21.005859,
            19.699024,
            14.995463,
            -3.74922,
            18.643501,
            8.227512,
            31.16558,
            -3.435973
           ],
           "marker": {
            "color": [
             111,
             60724,
             919,
             29170,
             11026,
             724,
             5120,
             17767,
             82,
             11783,
             252248,
             216956,
             10292,
             2854,
             93,
             5832,
             93712,
             1091,
             6095,
             82483,
             880,
             47025,
             15730,
             704,
             2171,
             43749,
             791,
             251,
             5797,
             142197,
             62596,
             3206,
             117226
            ],
            "coloraxis": "coloraxis",
            "size": [
             2014,
             2014,
             2014,
             2014,
             2014,
             2014,
             2014,
             2014,
             2014,
             2014,
             2014,
             2014,
             2014,
             2014,
             2014,
             2014,
             2014,
             2014,
             2014,
             2014,
             2014,
             2014,
             2014,
             2014,
             2014,
             2014,
             2014,
             2014,
             2014,
             2014,
             2014,
             2014,
             2014
            ],
            "sizemode": "area",
            "sizeref": 20.17,
            "symbol": "circle"
           },
           "mode": "markers",
           "name": "",
           "showlegend": false,
           "type": "scattergeo"
          }
         ],
         "name": "2014"
        },
        {
         "data": [
          {
           "customdata": [
            [
             109,
             41.153332,
             20.168331
            ],
            [
             72198,
             47.516231,
             14.550072
            ],
            [
             1805,
             53.709807,
             27.953389
            ],
            [
             35302,
             50.503887,
             4.469936
            ],
            [
             16543,
             42.733883,
             25.48583
            ],
            [
             517,
             45.1,
             15.2
            ],
            [
             7062,
             35.126413,
             33.429859
            ],
            [
             27312,
             56.26392,
             9.501785
            ],
            [
             158,
             58.595272,
             25.013607
            ],
            [
             12692,
             61.92411,
             25.748151
            ],
            [
             273117,
             46.227638,
             2.213749
            ],
            [
             316098,
             51.165691,
             10.451526
            ],
            [
             24831,
             39.074208,
             21.824312
            ],
            [
             4383,
             47.162494,
             19.503304
            ],
            [
             170,
             64.963051,
             -19.020835
            ],
            [
             6108,
             53.41291,
             -8.24389
            ],
            [
             118036,
             41.87194,
             12.56738
            ],
            [
             1306,
             49.815273,
             6.129583
            ],
            [
             7068,
             35.937496,
             14.375416
            ],
            [
             88518,
             52.132633,
             5.291266
            ],
            [
             697,
             41.608635,
             21.745275
            ],
            [
             50377,
             60.472024,
             8.468946
            ],
            [
             14057,
             51.919438,
             19.145136
            ],
            [
             851,
             39.399872,
             -8.224454
            ],
            [
             2581,
             45.943161,
             24.96676
            ],
            [
             35326,
             44.016521,
             21.005859
            ],
            [
             816,
             48.669026,
             19.699024
            ],
            [
             284,
             46.151241,
             14.995463
            ],
            [
             6447,
             40.463667,
             -3.74922
            ],
            [
             169516,
             60.128161,
             18.643501
            ],
            [
             73326,
             46.818188,
             8.227512
            ],
            [
             3261,
             48.379433,
             31.16558
            ],
            [
             123051,
             55.378051,
             -3.435973
            ]
           ],
           "geo": "geo",
           "hovertemplate": "<b>%{hovertext}</b><br><br>Year=%{marker.size}<br>Refugees under UNHCR's mandate=%{marker.color}<extra></extra>",
           "hovertext": [
            "Albania",
            "Austria",
            "Belarus",
            "Belgium",
            "Bulgaria",
            "Croatia",
            "Cyprus",
            "Denmark",
            "Estonia",
            "Finland",
            "France",
            "Germany",
            "Greece",
            "Hungary",
            "Iceland",
            "Ireland",
            "Italy",
            "Luxembourg",
            "Malta",
            "Netherlands",
            "North Macedonia",
            "Norway",
            "Poland",
            "Portugal",
            "Romania",
            "Serbia",
            "Slovakia",
            "Slovenia",
            "Spain",
            "Sweden",
            "Switzerland",
            "Ukraine",
            "United Kingdom"
           ],
           "lat": [
            41.153332,
            47.516231,
            53.709807,
            50.503887,
            42.733883,
            45.1,
            35.126413,
            56.26392,
            58.595272,
            61.92411,
            46.227638,
            51.165691,
            39.074208,
            47.162494,
            64.963051,
            53.41291,
            41.87194,
            49.815273,
            35.937496,
            52.132633,
            41.608635,
            60.472024,
            51.919438,
            39.399872,
            45.943161,
            44.016521,
            48.669026,
            46.151241,
            40.463667,
            60.128161,
            46.818188,
            48.379433,
            55.378051
           ],
           "legendgroup": "",
           "lon": [
            20.168331,
            14.550072,
            27.953389,
            4.469936,
            25.48583,
            15.2,
            33.429859,
            9.501785,
            25.013607,
            25.748151,
            2.213749,
            10.451526,
            21.824312,
            19.503304,
            -19.020835,
            -8.24389,
            12.56738,
            6.129583,
            14.375416,
            5.291266,
            21.745275,
            8.468946,
            19.145136,
            -8.224454,
            24.96676,
            21.005859,
            19.699024,
            14.995463,
            -3.74922,
            18.643501,
            8.227512,
            31.16558,
            -3.435973
           ],
           "marker": {
            "color": [
             109,
             72198,
             1805,
             35302,
             16543,
             517,
             7062,
             27312,
             158,
             12692,
             273117,
             316098,
             24831,
             4383,
             170,
             6108,
             118036,
             1306,
             7068,
             88518,
             697,
             50377,
             14057,
             851,
             2581,
             35326,
             816,
             284,
             6447,
             169516,
             73326,
             3261,
             123051
            ],
            "coloraxis": "coloraxis",
            "size": [
             2015,
             2015,
             2015,
             2015,
             2015,
             2015,
             2015,
             2015,
             2015,
             2015,
             2015,
             2015,
             2015,
             2015,
             2015,
             2015,
             2015,
             2015,
             2015,
             2015,
             2015,
             2015,
             2015,
             2015,
             2015,
             2015,
             2015,
             2015,
             2015,
             2015,
             2015,
             2015,
             2015
            ],
            "sizemode": "area",
            "sizeref": 20.17,
            "symbol": "circle"
           },
           "mode": "markers",
           "name": "",
           "showlegend": false,
           "type": "scattergeo"
          }
         ],
         "name": "2015"
        },
        {
         "data": [
          {
           "customdata": [
            [
             141,
             41.153332,
             20.168331
            ],
            [
             93242,
             47.516231,
             14.550072
            ],
            [
             1647,
             53.709807,
             27.953389
            ],
            [
             42158,
             50.503887,
             4.469936
            ],
            [
             17794,
             42.733883,
             25.48583
            ],
            [
             300,
             45.1,
             15.2
            ],
            [
             8478,
             35.126413,
             33.429859
            ],
            [
             33501,
             56.26392,
             9.501785
            ],
            [
             312,
             58.595272,
             25.013607
            ],
            [
             18402,
             61.92411,
             25.748151
            ],
            [
             304527,
             46.227638,
             2.213749
            ],
            [
             669468,
             51.165691,
             10.451526
            ],
            [
             46411,
             39.074208,
             21.824312
            ],
            [
             4736,
             47.162494,
             19.503304
            ],
            [
             245,
             64.963051,
             -19.020835
            ],
            [
             5720,
             53.41291,
             -8.24389
            ],
            [
             147362,
             41.87194,
             12.56738
            ],
            [
             2020,
             49.815273,
             6.129583
            ],
            [
             7941,
             35.937496,
             14.375416
            ],
            [
             101727,
             52.132633,
             5.291266
            ],
            [
             634,
             41.608635,
             21.745275
            ],
            [
             59512,
             60.472024,
             8.468946
            ],
            [
             11738,
             51.919438,
             19.145136
            ],
            [
             1189,
             39.399872,
             -8.224454
            ],
            [
             2880,
             45.943161,
             24.96676
            ],
            [
             36517,
             44.016521,
             21.005859
            ],
            [
             980,
             48.669026,
             19.699024
            ],
            [
             454,
             46.151241,
             14.995463
            ],
            [
             12983,
             40.463667,
             -3.74922
            ],
            [
             230158,
             60.128161,
             18.643501
            ],
            [
             82668,
             46.818188,
             8.227512
            ],
            [
             3292,
             48.379433,
             31.16558
            ],
            [
             118973,
             55.378051,
             -3.435973
            ]
           ],
           "geo": "geo",
           "hovertemplate": "<b>%{hovertext}</b><br><br>Year=%{marker.size}<br>Refugees under UNHCR's mandate=%{marker.color}<extra></extra>",
           "hovertext": [
            "Albania",
            "Austria",
            "Belarus",
            "Belgium",
            "Bulgaria",
            "Croatia",
            "Cyprus",
            "Denmark",
            "Estonia",
            "Finland",
            "France",
            "Germany",
            "Greece",
            "Hungary",
            "Iceland",
            "Ireland",
            "Italy",
            "Luxembourg",
            "Malta",
            "Netherlands",
            "North Macedonia",
            "Norway",
            "Poland",
            "Portugal",
            "Romania",
            "Serbia",
            "Slovakia",
            "Slovenia",
            "Spain",
            "Sweden",
            "Switzerland",
            "Ukraine",
            "United Kingdom"
           ],
           "lat": [
            41.153332,
            47.516231,
            53.709807,
            50.503887,
            42.733883,
            45.1,
            35.126413,
            56.26392,
            58.595272,
            61.92411,
            46.227638,
            51.165691,
            39.074208,
            47.162494,
            64.963051,
            53.41291,
            41.87194,
            49.815273,
            35.937496,
            52.132633,
            41.608635,
            60.472024,
            51.919438,
            39.399872,
            45.943161,
            44.016521,
            48.669026,
            46.151241,
            40.463667,
            60.128161,
            46.818188,
            48.379433,
            55.378051
           ],
           "legendgroup": "",
           "lon": [
            20.168331,
            14.550072,
            27.953389,
            4.469936,
            25.48583,
            15.2,
            33.429859,
            9.501785,
            25.013607,
            25.748151,
            2.213749,
            10.451526,
            21.824312,
            19.503304,
            -19.020835,
            -8.24389,
            12.56738,
            6.129583,
            14.375416,
            5.291266,
            21.745275,
            8.468946,
            19.145136,
            -8.224454,
            24.96676,
            21.005859,
            19.699024,
            14.995463,
            -3.74922,
            18.643501,
            8.227512,
            31.16558,
            -3.435973
           ],
           "marker": {
            "color": [
             141,
             93242,
             1647,
             42158,
             17794,
             300,
             8478,
             33501,
             312,
             18402,
             304527,
             669468,
             46411,
             4736,
             245,
             5720,
             147362,
             2020,
             7941,
             101727,
             634,
             59512,
             11738,
             1189,
             2880,
             36517,
             980,
             454,
             12983,
             230158,
             82668,
             3292,
             118973
            ],
            "coloraxis": "coloraxis",
            "size": [
             2016,
             2016,
             2016,
             2016,
             2016,
             2016,
             2016,
             2016,
             2016,
             2016,
             2016,
             2016,
             2016,
             2016,
             2016,
             2016,
             2016,
             2016,
             2016,
             2016,
             2016,
             2016,
             2016,
             2016,
             2016,
             2016,
             2016,
             2016,
             2016,
             2016,
             2016,
             2016,
             2016
            ],
            "sizemode": "area",
            "sizeref": 20.17,
            "symbol": "circle"
           },
           "mode": "markers",
           "name": "",
           "showlegend": false,
           "type": "scattergeo"
          }
         ],
         "name": "2016"
        },
        {
         "data": [
          {
           "customdata": [
            [
             124,
             41.153332,
             20.168331
            ],
            [
             115252,
             47.516231,
             14.550072
            ],
            [
             2155,
             53.709807,
             27.953389
            ],
            [
             42158,
             50.503887,
             4.469936
            ],
            [
             19166,
             42.733883,
             25.48583
            ],
            [
             508,
             45.1,
             15.2
            ],
            [
             9790,
             35.126413,
             33.429859
            ],
            [
             35668,
             56.26392,
             9.501785
            ],
            [
             405,
             58.595272,
             25.013607
            ],
            [
             20793,
             61.92411,
             25.748151
            ],
            [
             337158,
             46.227638,
             2.213749
            ],
            [
             970357,
             51.165691,
             10.451526
            ],
            [
             38988,
             39.074208,
             21.824312
            ],
            [
             5671,
             47.162494,
             19.503304
            ],
            [
             361,
             64.963051,
             -19.020835
            ],
            [
             6394,
             53.41291,
             -8.24389
            ],
            [
             167330,
             41.87194,
             12.56738
            ],
            [
             2020,
             49.815273,
             6.129583
            ],
            [
             7994,
             35.937496,
             14.375416
            ],
            [
             103843,
             52.132633,
             5.291266
            ],
            [
             414,
             41.608635,
             21.745275
            ],
            [
             59230,
             60.472024,
             8.468946
            ],
            [
             12225,
             51.919438,
             19.145136
            ],
            [
             1619,
             39.399872,
             -8.224454
            ],
            [
             3911,
             45.943161,
             24.96676
            ],
            [
             32205,
             44.016521,
             21.005859
            ],
            [
             912,
             48.669026,
             19.699024
            ],
            [
             611,
             46.151241,
             14.995463
            ],
            [
             17541,
             40.463667,
             -3.74922
            ],
            [
             240954,
             60.128161,
             18.643501
            ],
            [
             93030,
             46.818188,
             8.227512
            ],
            [
             3241,
             48.379433,
             31.16558
            ],
            [
             121821,
             55.378051,
             -3.435973
            ]
           ],
           "geo": "geo",
           "hovertemplate": "<b>%{hovertext}</b><br><br>Year=%{marker.size}<br>Refugees under UNHCR's mandate=%{marker.color}<extra></extra>",
           "hovertext": [
            "Albania",
            "Austria",
            "Belarus",
            "Belgium",
            "Bulgaria",
            "Croatia",
            "Cyprus",
            "Denmark",
            "Estonia",
            "Finland",
            "France",
            "Germany",
            "Greece",
            "Hungary",
            "Iceland",
            "Ireland",
            "Italy",
            "Luxembourg",
            "Malta",
            "Netherlands",
            "North Macedonia",
            "Norway",
            "Poland",
            "Portugal",
            "Romania",
            "Serbia",
            "Slovakia",
            "Slovenia",
            "Spain",
            "Sweden",
            "Switzerland",
            "Ukraine",
            "United Kingdom"
           ],
           "lat": [
            41.153332,
            47.516231,
            53.709807,
            50.503887,
            42.733883,
            45.1,
            35.126413,
            56.26392,
            58.595272,
            61.92411,
            46.227638,
            51.165691,
            39.074208,
            47.162494,
            64.963051,
            53.41291,
            41.87194,
            49.815273,
            35.937496,
            52.132633,
            41.608635,
            60.472024,
            51.919438,
            39.399872,
            45.943161,
            44.016521,
            48.669026,
            46.151241,
            40.463667,
            60.128161,
            46.818188,
            48.379433,
            55.378051
           ],
           "legendgroup": "",
           "lon": [
            20.168331,
            14.550072,
            27.953389,
            4.469936,
            25.48583,
            15.2,
            33.429859,
            9.501785,
            25.013607,
            25.748151,
            2.213749,
            10.451526,
            21.824312,
            19.503304,
            -19.020835,
            -8.24389,
            12.56738,
            6.129583,
            14.375416,
            5.291266,
            21.745275,
            8.468946,
            19.145136,
            -8.224454,
            24.96676,
            21.005859,
            19.699024,
            14.995463,
            -3.74922,
            18.643501,
            8.227512,
            31.16558,
            -3.435973
           ],
           "marker": {
            "color": [
             124,
             115252,
             2155,
             42158,
             19166,
             508,
             9790,
             35668,
             405,
             20793,
             337158,
             970357,
             38988,
             5671,
             361,
             6394,
             167330,
             2020,
             7994,
             103843,
             414,
             59230,
             12225,
             1619,
             3911,
             32205,
             912,
             611,
             17541,
             240954,
             93030,
             3241,
             121821
            ],
            "coloraxis": "coloraxis",
            "size": [
             2017,
             2017,
             2017,
             2017,
             2017,
             2017,
             2017,
             2017,
             2017,
             2017,
             2017,
             2017,
             2017,
             2017,
             2017,
             2017,
             2017,
             2017,
             2017,
             2017,
             2017,
             2017,
             2017,
             2017,
             2017,
             2017,
             2017,
             2017,
             2017,
             2017,
             2017,
             2017,
             2017
            ],
            "sizemode": "area",
            "sizeref": 20.17,
            "symbol": "circle"
           },
           "mode": "markers",
           "name": "",
           "showlegend": false,
           "type": "scattergeo"
          }
         ],
         "name": "2017"
        }
       ],
       "layout": {
        "coloraxis": {
         "colorbar": {
          "title": {
           "text": "Refugees under UNHCR's mandate"
          }
         },
         "colorscale": [
          [
           0,
           "rgb(255,247,236)"
          ],
          [
           0.125,
           "rgb(254,232,200)"
          ],
          [
           0.25,
           "rgb(253,212,158)"
          ],
          [
           0.375,
           "rgb(253,187,132)"
          ],
          [
           0.5,
           "rgb(252,141,89)"
          ],
          [
           0.625,
           "rgb(239,101,72)"
          ],
          [
           0.75,
           "rgb(215,48,31)"
          ],
          [
           0.875,
           "rgb(179,0,0)"
          ],
          [
           1,
           "rgb(127,0,0)"
          ]
         ]
        },
        "geo": {
         "bgcolor": "whitesmoke",
         "center": {},
         "countrycolor": "whitesmoke",
         "domain": {
          "x": [
           0,
           1
          ],
          "y": [
           0,
           1
          ]
         },
         "landcolor": "#26a783",
         "projection": {
          "type": "natural earth"
         },
         "resolution": 50,
         "scope": "europe",
         "showcountries": true,
         "visible": true
        },
        "height": 650,
        "legend": {
         "itemsizing": "constant",
         "tracegroupgap": 0
        },
        "margin": {
         "t": 60
        },
        "sliders": [
         {
          "active": 0,
          "currentvalue": {
           "prefix": "Year="
          },
          "len": 0.9,
          "pad": {
           "b": 10,
           "t": 60
          },
          "steps": [
           {
            "args": [
             [
              "2000"
             ],
             {
              "frame": {
               "duration": 0,
               "redraw": true
              },
              "fromcurrent": true,
              "mode": "immediate",
              "transition": {
               "duration": 0,
               "easing": "linear"
              }
             }
            ],
            "label": "2000",
            "method": "animate"
           },
           {
            "args": [
             [
              "2001"
             ],
             {
              "frame": {
               "duration": 0,
               "redraw": true
              },
              "fromcurrent": true,
              "mode": "immediate",
              "transition": {
               "duration": 0,
               "easing": "linear"
              }
             }
            ],
            "label": "2001",
            "method": "animate"
           },
           {
            "args": [
             [
              "2002"
             ],
             {
              "frame": {
               "duration": 0,
               "redraw": true
              },
              "fromcurrent": true,
              "mode": "immediate",
              "transition": {
               "duration": 0,
               "easing": "linear"
              }
             }
            ],
            "label": "2002",
            "method": "animate"
           },
           {
            "args": [
             [
              "2003"
             ],
             {
              "frame": {
               "duration": 0,
               "redraw": true
              },
              "fromcurrent": true,
              "mode": "immediate",
              "transition": {
               "duration": 0,
               "easing": "linear"
              }
             }
            ],
            "label": "2003",
            "method": "animate"
           },
           {
            "args": [
             [
              "2004"
             ],
             {
              "frame": {
               "duration": 0,
               "redraw": true
              },
              "fromcurrent": true,
              "mode": "immediate",
              "transition": {
               "duration": 0,
               "easing": "linear"
              }
             }
            ],
            "label": "2004",
            "method": "animate"
           },
           {
            "args": [
             [
              "2005"
             ],
             {
              "frame": {
               "duration": 0,
               "redraw": true
              },
              "fromcurrent": true,
              "mode": "immediate",
              "transition": {
               "duration": 0,
               "easing": "linear"
              }
             }
            ],
            "label": "2005",
            "method": "animate"
           },
           {
            "args": [
             [
              "2006"
             ],
             {
              "frame": {
               "duration": 0,
               "redraw": true
              },
              "fromcurrent": true,
              "mode": "immediate",
              "transition": {
               "duration": 0,
               "easing": "linear"
              }
             }
            ],
            "label": "2006",
            "method": "animate"
           },
           {
            "args": [
             [
              "2007"
             ],
             {
              "frame": {
               "duration": 0,
               "redraw": true
              },
              "fromcurrent": true,
              "mode": "immediate",
              "transition": {
               "duration": 0,
               "easing": "linear"
              }
             }
            ],
            "label": "2007",
            "method": "animate"
           },
           {
            "args": [
             [
              "2008"
             ],
             {
              "frame": {
               "duration": 0,
               "redraw": true
              },
              "fromcurrent": true,
              "mode": "immediate",
              "transition": {
               "duration": 0,
               "easing": "linear"
              }
             }
            ],
            "label": "2008",
            "method": "animate"
           },
           {
            "args": [
             [
              "2009"
             ],
             {
              "frame": {
               "duration": 0,
               "redraw": true
              },
              "fromcurrent": true,
              "mode": "immediate",
              "transition": {
               "duration": 0,
               "easing": "linear"
              }
             }
            ],
            "label": "2009",
            "method": "animate"
           },
           {
            "args": [
             [
              "2010"
             ],
             {
              "frame": {
               "duration": 0,
               "redraw": true
              },
              "fromcurrent": true,
              "mode": "immediate",
              "transition": {
               "duration": 0,
               "easing": "linear"
              }
             }
            ],
            "label": "2010",
            "method": "animate"
           },
           {
            "args": [
             [
              "2011"
             ],
             {
              "frame": {
               "duration": 0,
               "redraw": true
              },
              "fromcurrent": true,
              "mode": "immediate",
              "transition": {
               "duration": 0,
               "easing": "linear"
              }
             }
            ],
            "label": "2011",
            "method": "animate"
           },
           {
            "args": [
             [
              "2012"
             ],
             {
              "frame": {
               "duration": 0,
               "redraw": true
              },
              "fromcurrent": true,
              "mode": "immediate",
              "transition": {
               "duration": 0,
               "easing": "linear"
              }
             }
            ],
            "label": "2012",
            "method": "animate"
           },
           {
            "args": [
             [
              "2013"
             ],
             {
              "frame": {
               "duration": 0,
               "redraw": true
              },
              "fromcurrent": true,
              "mode": "immediate",
              "transition": {
               "duration": 0,
               "easing": "linear"
              }
             }
            ],
            "label": "2013",
            "method": "animate"
           },
           {
            "args": [
             [
              "2014"
             ],
             {
              "frame": {
               "duration": 0,
               "redraw": true
              },
              "fromcurrent": true,
              "mode": "immediate",
              "transition": {
               "duration": 0,
               "easing": "linear"
              }
             }
            ],
            "label": "2014",
            "method": "animate"
           },
           {
            "args": [
             [
              "2015"
             ],
             {
              "frame": {
               "duration": 0,
               "redraw": true
              },
              "fromcurrent": true,
              "mode": "immediate",
              "transition": {
               "duration": 0,
               "easing": "linear"
              }
             }
            ],
            "label": "2015",
            "method": "animate"
           },
           {
            "args": [
             [
              "2016"
             ],
             {
              "frame": {
               "duration": 0,
               "redraw": true
              },
              "fromcurrent": true,
              "mode": "immediate",
              "transition": {
               "duration": 0,
               "easing": "linear"
              }
             }
            ],
            "label": "2016",
            "method": "animate"
           },
           {
            "args": [
             [
              "2017"
             ],
             {
              "frame": {
               "duration": 0,
               "redraw": true
              },
              "fromcurrent": true,
              "mode": "immediate",
              "transition": {
               "duration": 0,
               "easing": "linear"
              }
             }
            ],
            "label": "2017",
            "method": "animate"
           }
          ],
          "x": 0.1,
          "xanchor": "left",
          "y": 0,
          "yanchor": "top"
         }
        ],
        "template": {
         "data": {
          "bar": [
           {
            "error_x": {
             "color": "#2a3f5f"
            },
            "error_y": {
             "color": "#2a3f5f"
            },
            "marker": {
             "line": {
              "color": "#E5ECF6",
              "width": 0.5
             },
             "pattern": {
              "fillmode": "overlay",
              "size": 10,
              "solidity": 0.2
             }
            },
            "type": "bar"
           }
          ],
          "barpolar": [
           {
            "marker": {
             "line": {
              "color": "#E5ECF6",
              "width": 0.5
             },
             "pattern": {
              "fillmode": "overlay",
              "size": 10,
              "solidity": 0.2
             }
            },
            "type": "barpolar"
           }
          ],
          "carpet": [
           {
            "aaxis": {
             "endlinecolor": "#2a3f5f",
             "gridcolor": "white",
             "linecolor": "white",
             "minorgridcolor": "white",
             "startlinecolor": "#2a3f5f"
            },
            "baxis": {
             "endlinecolor": "#2a3f5f",
             "gridcolor": "white",
             "linecolor": "white",
             "minorgridcolor": "white",
             "startlinecolor": "#2a3f5f"
            },
            "type": "carpet"
           }
          ],
          "choropleth": [
           {
            "colorbar": {
             "outlinewidth": 0,
             "ticks": ""
            },
            "type": "choropleth"
           }
          ],
          "contour": [
           {
            "colorbar": {
             "outlinewidth": 0,
             "ticks": ""
            },
            "colorscale": [
             [
              0,
              "#0d0887"
             ],
             [
              0.1111111111111111,
              "#46039f"
             ],
             [
              0.2222222222222222,
              "#7201a8"
             ],
             [
              0.3333333333333333,
              "#9c179e"
             ],
             [
              0.4444444444444444,
              "#bd3786"
             ],
             [
              0.5555555555555556,
              "#d8576b"
             ],
             [
              0.6666666666666666,
              "#ed7953"
             ],
             [
              0.7777777777777778,
              "#fb9f3a"
             ],
             [
              0.8888888888888888,
              "#fdca26"
             ],
             [
              1,
              "#f0f921"
             ]
            ],
            "type": "contour"
           }
          ],
          "contourcarpet": [
           {
            "colorbar": {
             "outlinewidth": 0,
             "ticks": ""
            },
            "type": "contourcarpet"
           }
          ],
          "heatmap": [
           {
            "colorbar": {
             "outlinewidth": 0,
             "ticks": ""
            },
            "colorscale": [
             [
              0,
              "#0d0887"
             ],
             [
              0.1111111111111111,
              "#46039f"
             ],
             [
              0.2222222222222222,
              "#7201a8"
             ],
             [
              0.3333333333333333,
              "#9c179e"
             ],
             [
              0.4444444444444444,
              "#bd3786"
             ],
             [
              0.5555555555555556,
              "#d8576b"
             ],
             [
              0.6666666666666666,
              "#ed7953"
             ],
             [
              0.7777777777777778,
              "#fb9f3a"
             ],
             [
              0.8888888888888888,
              "#fdca26"
             ],
             [
              1,
              "#f0f921"
             ]
            ],
            "type": "heatmap"
           }
          ],
          "heatmapgl": [
           {
            "colorbar": {
             "outlinewidth": 0,
             "ticks": ""
            },
            "colorscale": [
             [
              0,
              "#0d0887"
             ],
             [
              0.1111111111111111,
              "#46039f"
             ],
             [
              0.2222222222222222,
              "#7201a8"
             ],
             [
              0.3333333333333333,
              "#9c179e"
             ],
             [
              0.4444444444444444,
              "#bd3786"
             ],
             [
              0.5555555555555556,
              "#d8576b"
             ],
             [
              0.6666666666666666,
              "#ed7953"
             ],
             [
              0.7777777777777778,
              "#fb9f3a"
             ],
             [
              0.8888888888888888,
              "#fdca26"
             ],
             [
              1,
              "#f0f921"
             ]
            ],
            "type": "heatmapgl"
           }
          ],
          "histogram": [
           {
            "marker": {
             "pattern": {
              "fillmode": "overlay",
              "size": 10,
              "solidity": 0.2
             }
            },
            "type": "histogram"
           }
          ],
          "histogram2d": [
           {
            "colorbar": {
             "outlinewidth": 0,
             "ticks": ""
            },
            "colorscale": [
             [
              0,
              "#0d0887"
             ],
             [
              0.1111111111111111,
              "#46039f"
             ],
             [
              0.2222222222222222,
              "#7201a8"
             ],
             [
              0.3333333333333333,
              "#9c179e"
             ],
             [
              0.4444444444444444,
              "#bd3786"
             ],
             [
              0.5555555555555556,
              "#d8576b"
             ],
             [
              0.6666666666666666,
              "#ed7953"
             ],
             [
              0.7777777777777778,
              "#fb9f3a"
             ],
             [
              0.8888888888888888,
              "#fdca26"
             ],
             [
              1,
              "#f0f921"
             ]
            ],
            "type": "histogram2d"
           }
          ],
          "histogram2dcontour": [
           {
            "colorbar": {
             "outlinewidth": 0,
             "ticks": ""
            },
            "colorscale": [
             [
              0,
              "#0d0887"
             ],
             [
              0.1111111111111111,
              "#46039f"
             ],
             [
              0.2222222222222222,
              "#7201a8"
             ],
             [
              0.3333333333333333,
              "#9c179e"
             ],
             [
              0.4444444444444444,
              "#bd3786"
             ],
             [
              0.5555555555555556,
              "#d8576b"
             ],
             [
              0.6666666666666666,
              "#ed7953"
             ],
             [
              0.7777777777777778,
              "#fb9f3a"
             ],
             [
              0.8888888888888888,
              "#fdca26"
             ],
             [
              1,
              "#f0f921"
             ]
            ],
            "type": "histogram2dcontour"
           }
          ],
          "mesh3d": [
           {
            "colorbar": {
             "outlinewidth": 0,
             "ticks": ""
            },
            "type": "mesh3d"
           }
          ],
          "parcoords": [
           {
            "line": {
             "colorbar": {
              "outlinewidth": 0,
              "ticks": ""
             }
            },
            "type": "parcoords"
           }
          ],
          "pie": [
           {
            "automargin": true,
            "type": "pie"
           }
          ],
          "scatter": [
           {
            "fillpattern": {
             "fillmode": "overlay",
             "size": 10,
             "solidity": 0.2
            },
            "type": "scatter"
           }
          ],
          "scatter3d": [
           {
            "line": {
             "colorbar": {
              "outlinewidth": 0,
              "ticks": ""
             }
            },
            "marker": {
             "colorbar": {
              "outlinewidth": 0,
              "ticks": ""
             }
            },
            "type": "scatter3d"
           }
          ],
          "scattercarpet": [
           {
            "marker": {
             "colorbar": {
              "outlinewidth": 0,
              "ticks": ""
             }
            },
            "type": "scattercarpet"
           }
          ],
          "scattergeo": [
           {
            "marker": {
             "colorbar": {
              "outlinewidth": 0,
              "ticks": ""
             }
            },
            "type": "scattergeo"
           }
          ],
          "scattergl": [
           {
            "marker": {
             "colorbar": {
              "outlinewidth": 0,
              "ticks": ""
             }
            },
            "type": "scattergl"
           }
          ],
          "scattermapbox": [
           {
            "marker": {
             "colorbar": {
              "outlinewidth": 0,
              "ticks": ""
             }
            },
            "type": "scattermapbox"
           }
          ],
          "scatterpolar": [
           {
            "marker": {
             "colorbar": {
              "outlinewidth": 0,
              "ticks": ""
             }
            },
            "type": "scatterpolar"
           }
          ],
          "scatterpolargl": [
           {
            "marker": {
             "colorbar": {
              "outlinewidth": 0,
              "ticks": ""
             }
            },
            "type": "scatterpolargl"
           }
          ],
          "scatterternary": [
           {
            "marker": {
             "colorbar": {
              "outlinewidth": 0,
              "ticks": ""
             }
            },
            "type": "scatterternary"
           }
          ],
          "surface": [
           {
            "colorbar": {
             "outlinewidth": 0,
             "ticks": ""
            },
            "colorscale": [
             [
              0,
              "#0d0887"
             ],
             [
              0.1111111111111111,
              "#46039f"
             ],
             [
              0.2222222222222222,
              "#7201a8"
             ],
             [
              0.3333333333333333,
              "#9c179e"
             ],
             [
              0.4444444444444444,
              "#bd3786"
             ],
             [
              0.5555555555555556,
              "#d8576b"
             ],
             [
              0.6666666666666666,
              "#ed7953"
             ],
             [
              0.7777777777777778,
              "#fb9f3a"
             ],
             [
              0.8888888888888888,
              "#fdca26"
             ],
             [
              1,
              "#f0f921"
             ]
            ],
            "type": "surface"
           }
          ],
          "table": [
           {
            "cells": {
             "fill": {
              "color": "#EBF0F8"
             },
             "line": {
              "color": "white"
             }
            },
            "header": {
             "fill": {
              "color": "#C8D4E3"
             },
             "line": {
              "color": "white"
             }
            },
            "type": "table"
           }
          ]
         },
         "layout": {
          "annotationdefaults": {
           "arrowcolor": "#2a3f5f",
           "arrowhead": 0,
           "arrowwidth": 1
          },
          "autotypenumbers": "strict",
          "coloraxis": {
           "colorbar": {
            "outlinewidth": 0,
            "ticks": ""
           }
          },
          "colorscale": {
           "diverging": [
            [
             0,
             "#8e0152"
            ],
            [
             0.1,
             "#c51b7d"
            ],
            [
             0.2,
             "#de77ae"
            ],
            [
             0.3,
             "#f1b6da"
            ],
            [
             0.4,
             "#fde0ef"
            ],
            [
             0.5,
             "#f7f7f7"
            ],
            [
             0.6,
             "#e6f5d0"
            ],
            [
             0.7,
             "#b8e186"
            ],
            [
             0.8,
             "#7fbc41"
            ],
            [
             0.9,
             "#4d9221"
            ],
            [
             1,
             "#276419"
            ]
           ],
           "sequential": [
            [
             0,
             "#0d0887"
            ],
            [
             0.1111111111111111,
             "#46039f"
            ],
            [
             0.2222222222222222,
             "#7201a8"
            ],
            [
             0.3333333333333333,
             "#9c179e"
            ],
            [
             0.4444444444444444,
             "#bd3786"
            ],
            [
             0.5555555555555556,
             "#d8576b"
            ],
            [
             0.6666666666666666,
             "#ed7953"
            ],
            [
             0.7777777777777778,
             "#fb9f3a"
            ],
            [
             0.8888888888888888,
             "#fdca26"
            ],
            [
             1,
             "#f0f921"
            ]
           ],
           "sequentialminus": [
            [
             0,
             "#0d0887"
            ],
            [
             0.1111111111111111,
             "#46039f"
            ],
            [
             0.2222222222222222,
             "#7201a8"
            ],
            [
             0.3333333333333333,
             "#9c179e"
            ],
            [
             0.4444444444444444,
             "#bd3786"
            ],
            [
             0.5555555555555556,
             "#d8576b"
            ],
            [
             0.6666666666666666,
             "#ed7953"
            ],
            [
             0.7777777777777778,
             "#fb9f3a"
            ],
            [
             0.8888888888888888,
             "#fdca26"
            ],
            [
             1,
             "#f0f921"
            ]
           ]
          },
          "colorway": [
           "#636efa",
           "#EF553B",
           "#00cc96",
           "#ab63fa",
           "#FFA15A",
           "#19d3f3",
           "#FF6692",
           "#B6E880",
           "#FF97FF",
           "#FECB52"
          ],
          "font": {
           "color": "#2a3f5f"
          },
          "geo": {
           "bgcolor": "white",
           "lakecolor": "white",
           "landcolor": "#E5ECF6",
           "showlakes": true,
           "showland": true,
           "subunitcolor": "white"
          },
          "hoverlabel": {
           "align": "left"
          },
          "hovermode": "closest",
          "mapbox": {
           "style": "light"
          },
          "paper_bgcolor": "white",
          "plot_bgcolor": "#E5ECF6",
          "polar": {
           "angularaxis": {
            "gridcolor": "white",
            "linecolor": "white",
            "ticks": ""
           },
           "bgcolor": "#E5ECF6",
           "radialaxis": {
            "gridcolor": "white",
            "linecolor": "white",
            "ticks": ""
           }
          },
          "scene": {
           "xaxis": {
            "backgroundcolor": "#E5ECF6",
            "gridcolor": "white",
            "gridwidth": 2,
            "linecolor": "white",
            "showbackground": true,
            "ticks": "",
            "zerolinecolor": "white"
           },
           "yaxis": {
            "backgroundcolor": "#E5ECF6",
            "gridcolor": "white",
            "gridwidth": 2,
            "linecolor": "white",
            "showbackground": true,
            "ticks": "",
            "zerolinecolor": "white"
           },
           "zaxis": {
            "backgroundcolor": "#E5ECF6",
            "gridcolor": "white",
            "gridwidth": 2,
            "linecolor": "white",
            "showbackground": true,
            "ticks": "",
            "zerolinecolor": "white"
           }
          },
          "shapedefaults": {
           "line": {
            "color": "#2a3f5f"
           }
          },
          "ternary": {
           "aaxis": {
            "gridcolor": "white",
            "linecolor": "white",
            "ticks": ""
           },
           "baxis": {
            "gridcolor": "white",
            "linecolor": "white",
            "ticks": ""
           },
           "bgcolor": "#E5ECF6",
           "caxis": {
            "gridcolor": "white",
            "linecolor": "white",
            "ticks": ""
           }
          },
          "title": {
           "x": 0.05
          },
          "xaxis": {
           "automargin": true,
           "gridcolor": "white",
           "linecolor": "white",
           "ticks": "",
           "title": {
            "standoff": 15
           },
           "zerolinecolor": "white",
           "zerolinewidth": 2
          },
          "yaxis": {
           "automargin": true,
           "gridcolor": "white",
           "linecolor": "white",
           "ticks": "",
           "title": {
            "standoff": 15
           },
           "zerolinecolor": "white",
           "zerolinewidth": 2
          }
         }
        },
        "title": {
         "text": "Amount of Refugees in Europe between 2000 and 2017"
        },
        "updatemenus": [
         {
          "buttons": [
           {
            "args": [
             null,
             {
              "frame": {
               "duration": 500,
               "redraw": true
              },
              "fromcurrent": true,
              "mode": "immediate",
              "transition": {
               "duration": 500,
               "easing": "linear"
              }
             }
            ],
            "label": "&#9654;",
            "method": "animate"
           },
           {
            "args": [
             [
              null
             ],
             {
              "frame": {
               "duration": 0,
               "redraw": true
              },
              "fromcurrent": true,
              "mode": "immediate",
              "transition": {
               "duration": 0,
               "easing": "linear"
              }
             }
            ],
            "label": "&#9724;",
            "method": "animate"
           }
          ],
          "direction": "left",
          "pad": {
           "r": 10,
           "t": 70
          },
          "showactive": false,
          "type": "buttons",
          "x": 0.1,
          "xanchor": "right",
          "y": 0,
          "yanchor": "top"
         }
        ],
        "width": 950
       }
      }
     },
     "metadata": {},
     "output_type": "display_data"
    }
   ],
   "source": []
  },
  {
   "cell_type": "code",
   "execution_count": null,
   "id": "41359da0",
   "metadata": {},
   "outputs": [],
   "source": []
  }
 ],
 "metadata": {
  "celltoolbar": "Hide code",
  "kernelspec": {
   "display_name": "Python 3 (ipykernel)",
   "language": "python",
   "name": "python3"
  },
  "language_info": {
   "codemirror_mode": {
    "name": "ipython",
    "version": 3
   },
   "file_extension": ".py",
   "mimetype": "text/x-python",
   "name": "python",
   "nbconvert_exporter": "python",
   "pygments_lexer": "ipython3",
   "version": "3.11.3"
  },
  "vscode": {
   "interpreter": {
    "hash": "aee8b7b246df8f9039afb4144a1f6fd8d2ca17a180786b69acc140d282b71a49"
   }
  }
 },
 "nbformat": 4,
 "nbformat_minor": 5
}
