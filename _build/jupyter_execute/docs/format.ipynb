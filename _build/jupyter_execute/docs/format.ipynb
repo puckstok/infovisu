{
 "cells": [
  {
   "attachments": {},
   "cell_type": "markdown",
   "id": "3b46ee32",
   "metadata": {},
   "source": [
    "# Gevaar of fabel\n",
    "\n",
    "Namen: Puck, Sally, Jelle, Isa\n",
    "\n",
    "Groep nummer: R2"
   ]
  },
  {
   "cell_type": "code",
   "execution_count": 1,
   "id": "e180382e",
   "metadata": {
    "hideCode": true,
    "hidePrompt": false,
    "tags": [
     "hide-input"
    ]
   },
   "outputs": [
    {
     "data": {
      "text/html": [
       "<img src=\"https://e3.365dm.com/16/01/2048x1152/rtx1v9p9-1-2048x1536_3402067.jpg\" width=\"800\" height=\"400\"/>"
      ],
      "text/plain": [
       "<IPython.core.display.Image object>"
      ]
     },
     "metadata": {},
     "output_type": "display_data"
    },
    {
     "name": "stdout",
     "output_type": "stream",
     "text": [
      "© Getty images\n"
     ]
    }
   ],
   "source": [
    "url = 'https://e3.365dm.com/16/01/2048x1152/rtx1v9p9-1-2048x1536_3402067.jpg'\n",
    "\n",
    "from IPython.display import Image, display\n",
    "\n",
    "width = 800\n",
    "height = 400\n",
    "\n",
    "subtitle = \"© Getty images\"\n",
    "\n",
    "image = Image(url=url, width=width, height=height)\n",
    "\n",
    "display(image)\n",
    "print(subtitle)"
   ]
  },
  {
   "attachments": {},
   "cell_type": "markdown",
   "id": "7d5fce97-8e22-41ee-a19c-6c0f0fb2f08f",
   "metadata": {},
   "source": [
    "## Introductie"
   ]
  },
  {
   "attachments": {},
   "cell_type": "markdown",
   "id": "7cf81853-c237-4df2-8ed4-9deae8423fb0",
   "metadata": {
    "hidePrompt": false
   },
   "source": [
    "Op 13 november 2015 werd Parijs getroffen door een reeks terreuraanslagen, opgeëist door de islamitische staat. In de nasleep van Parijs werden verschillende Europese landen ook doelwit van terroristische activiteiten. De aanslagen brachten wereldwijd shock, verdriet en voornamelijk angst bij de Europese bevolking.  "
   ]
  },
  {
   "cell_type": "code",
   "execution_count": 2,
   "id": "7b672e09",
   "metadata": {
    "hideCode": true
   },
   "outputs": [
    {
     "ename": "NameError",
     "evalue": "name 'pd' is not defined",
     "output_type": "error",
     "traceback": [
      "\u001b[0;31m---------------------------------------------------------------------------\u001b[0m",
      "\u001b[0;31mNameError\u001b[0m                                 Traceback (most recent call last)",
      "Cell \u001b[0;32mIn[2], line 1\u001b[0m\n\u001b[0;32m----> 1\u001b[0m data_raw \u001b[38;5;241m=\u001b[39m \u001b[43mpd\u001b[49m\u001b[38;5;241m.\u001b[39mread_csv(\u001b[38;5;124m'\u001b[39m\u001b[38;5;124mmigranten_eu.csv\u001b[39m\u001b[38;5;124m'\u001b[39m)\n\u001b[1;32m      2\u001b[0m data_raw\u001b[38;5;241m.\u001b[39mdrop(data_raw\u001b[38;5;241m.\u001b[39mloc[data_raw[\u001b[38;5;124m'\u001b[39m\u001b[38;5;124mYear\u001b[39m\u001b[38;5;124m'\u001b[39m]\u001b[38;5;241m==\u001b[39m\u001b[38;5;241m1999\u001b[39m]\u001b[38;5;241m.\u001b[39mindex, inplace\u001b[38;5;241m=\u001b[39m\u001b[38;5;28;01mTrue\u001b[39;00m)\n\u001b[1;32m      3\u001b[0m data_raw\u001b[38;5;241m.\u001b[39mhead(\u001b[38;5;241m5\u001b[39m)\n",
      "\u001b[0;31mNameError\u001b[0m: name 'pd' is not defined"
     ]
    }
   ],
   "source": [
    "data_raw = pd.read_csv('migranten_eu.csv')\n",
    "data_raw.drop(data_raw.loc[data_raw['Year']==1999].index, inplace=True)\n",
    "data_raw.head(5)\n",
    "\n",
    "migranten_totaal_europa = data_raw[['Year', 'Country of asylum', \"Refugees under UNHCR's mandate\"]]\n",
    "\n",
    "migranten_totaal_europa['Country of asylum'] = migranten_totaal_europa['Country of asylum'].replace({'Netherlands (Kingdom of the)': 'Netherlands'})\n",
    "migranten_totaal_europa['Country of asylum'] = migranten_totaal_europa['Country of asylum'].replace({'United Kingdom of Great Britain and Northern Ireland': 'United Kingdom'})\n",
    "migranten_totaal_europa['Country of asylum'] = migranten_totaal_europa['Country of asylum'].replace({'Serbia and Kosovo: S/RES/1244 (1999)': 'Serbia'})\n",
    "\n",
    "migranten_totaal_europa.head(5)\n",
    "\n",
    "df2 = migranten_totaal_europa.groupby(['Year','Country of asylum'], as_index=False)[\"Refugees under UNHCR's mandate\"].sum()\n",
    "#df2.to_csv('migranten_per_jaar_per_land.csv')\n",
    "\n",
    "df3 = migranten_totaal_europa.groupby(['Year'], as_index=False)[\"Refugees under UNHCR's mandate\"].sum()\n",
    "#df3.to_csv('migranten_per_jaar_europa.csv')\n",
    "\n",
    "df4 = migranten_totaal_europa.groupby(['Country of asylum'], as_index=False)[\"Refugees under UNHCR's mandate\"].sum()\n",
    "#df4.to_csv('migranten_per_land_totaal.csv')\n",
    "\n",
    "data_lon_lat = pd.read_csv('world_country_and_usa_states_latitude_and_longitude_values.csv').rename(columns={'country': 'Country of asylum'})\n",
    "data_lon_lat['Country of asylum'] = data_lon_lat['Country of asylum'].replace({'Macedonia [FYROM]': 'North Macedonia'})\n",
    "data_lon_lat2 = data_lon_lat[['latitude', 'longitude', 'Country of asylum']]\n",
    "data_lon_lat2.head(5)\n",
    "\n",
    "data_ter = pd.read_csv('terrorism_eu.csv').rename(columns={'country_txt': 'Country of asylum', 'iyear': 'Year', 'multiple': 'Terrorist attacks'})\n",
    "data_ter['Country of asylum'] = data_ter['Country of asylum'].replace({'Macedonia': 'North Macedonia'})\n",
    "data_ter['Country of asylum'] = data_ter['Country of asylum'].replace({'Slovak Republic': 'Slovakia'})\n",
    "data_ter['Country of asylum'] = data_ter['Country of asylum'].replace({'Serbia-Montenegro': 'Serbia'})\n",
    "data_ter = data_ter[['Country of asylum', 'Year', 'Terrorist attacks']]\n",
    "data_ter.head(5)\n",
    "\n",
    "df_half = df2.merge(data_lon_lat2, on='Country of asylum')\n",
    "df_full = pd.merge(df_half, data_ter,  how='left', left_on=['Country of asylum','Year'], right_on = ['Country of asylum','Year']).fillna(0)\n",
    "df_full.head(500)\n",
    "#df_full.to_csv('test.csv')\n",
    "\n",
    "fig_ter = px.scatter_geo(df_full, \n",
    "                     lat='latitude',\n",
    "                     lon='longitude',\n",
    "                     color=\"Terrorist attacks\",\n",
    "                     color_continuous_scale=px.colors.sequential.OrRd,\n",
    "                     height=650,\n",
    "                     width=950,\n",
    "                     hover_name=\"Country of asylum\",\n",
    "                     hover_data={\n",
    "                                \"Terrorist attacks\":True,\n",
    "                                \"latitude\":False, \n",
    "                                \"longitude\":False,\n",
    "                                },\n",
    "                     projection=\"natural earth\",\n",
    "                     scope=\"europe\",\n",
    "                     size=df_full[\"Year\"],\n",
    "                     size_max=10,\n",
    "                     animation_frame=\"Year\",\n",
    "                    )\n",
    "\n",
    "fig_ter.update_geos(\n",
    "    visible=True, \n",
    "    resolution=50,\n",
    "    showcountries=True, \n",
    "    countrycolor=\"whitesmoke\",\n",
    "    bgcolor='whitesmoke',\n",
    "    landcolor='#26a783',\n",
    ")\n",
    "\n",
    "fig_ter.update_layout(\n",
    "    title='Terrorist Attacks in Europe between 2000 and 2017',\n",
    ")\n",
    "\n",
    "fig_ter.update_traces(marker=dict(line=dict(width=0.5, color='black')))\n",
    "fig_ter.show()"
   ]
  },
  {
   "attachments": {},
   "cell_type": "markdown",
   "id": "8996e4f6",
   "metadata": {},
   "source": [
    "> *Figuur 1: Het aantal vluchtelingen in Europa onder het UNHCR mandaat had een aanzienlijke stijging vanaf 2013. "
   ]
  },
  {
   "attachments": {},
   "cell_type": "markdown",
   "id": "f4d2dbb0",
   "metadata": {
    "hidePrompt": false
   },
   "source": [
    "Hoewel het onderzoek van de Franse politie uitwees dat de daders Franse en Belgische burgers waren ontstond er binnen de internationale gemeenschap de veronderstelling dat zwakke grenscontroles en de toenemende stroom migranten de oorzaak waren (do Céu Pinto Arena, 2017).  Deze aanname leidde tot geschillen over de verdeling van vluchtelingen en de daaropvolgende uitvoering van zichtbaar nationaal beleid met betrekking tot vluchtelingen.   "
   ]
  },
  {
   "cell_type": "code",
   "execution_count": 110,
   "id": "909c92ab",
   "metadata": {
    "hideCode": true
   },
   "outputs": [
    {
     "name": "stderr",
     "output_type": "stream",
     "text": [
      "/var/folders/sx/q7g013155lv0x3_h3xc9f1c80000gn/T/ipykernel_3435/571586827.py:9: SettingWithCopyWarning:\n",
      "\n",
      "\n",
      "A value is trying to be set on a copy of a slice from a DataFrame.\n",
      "Try using .loc[row_indexer,col_indexer] = value instead\n",
      "\n",
      "See the caveats in the documentation: https://pandas.pydata.org/pandas-docs/stable/user_guide/indexing.html#returning-a-view-versus-a-copy\n",
      "\n",
      "/var/folders/sx/q7g013155lv0x3_h3xc9f1c80000gn/T/ipykernel_3435/571586827.py:10: SettingWithCopyWarning:\n",
      "\n",
      "\n",
      "A value is trying to be set on a copy of a slice from a DataFrame.\n",
      "Try using .loc[row_indexer,col_indexer] = value instead\n",
      "\n",
      "See the caveats in the documentation: https://pandas.pydata.org/pandas-docs/stable/user_guide/indexing.html#returning-a-view-versus-a-copy\n",
      "\n",
      "/var/folders/sx/q7g013155lv0x3_h3xc9f1c80000gn/T/ipykernel_3435/571586827.py:11: SettingWithCopyWarning:\n",
      "\n",
      "\n",
      "A value is trying to be set on a copy of a slice from a DataFrame.\n",
      "Try using .loc[row_indexer,col_indexer] = value instead\n",
      "\n",
      "See the caveats in the documentation: https://pandas.pydata.org/pandas-docs/stable/user_guide/indexing.html#returning-a-view-versus-a-copy\n",
      "\n"
     ]
    },
    {
     "data": {
      "application/vnd.plotly.v1+json": {
       "config": {
        "plotlyServerURL": "https://plot.ly"
       },
       "data": [
        {
         "customdata": [
          [
           521,
           41.153332,
           20.168331
          ],
          [
           15493,
           47.516231,
           14.550072
          ],
          [
           453,
           53.709807,
           27.953389
          ],
          [
           18821,
           50.503887,
           4.469936
          ],
          [
           1470,
           42.733883,
           25.48583
          ],
          [
           22437,
           45.1,
           15.2
          ],
          [
           73,
           35.126413,
           33.429859
          ],
          [
           71017,
           56.26392,
           9.501785
          ],
          [
           0,
           58.595272,
           25.013607
          ],
          [
           13271,
           61.92411,
           25.748151
          ],
          [
           132508,
           46.227638,
           2.213749
          ],
          [
           906000,
           51.165691,
           10.451526
          ],
          [
           6653,
           39.074208,
           21.824312
          ],
          [
           5053,
           47.162494,
           19.503304
          ],
          [
           235,
           64.963051,
           -19.020835
          ],
          [
           2530,
           53.41291,
           -8.24389
          ],
          [
           6813,
           41.87194,
           12.56738
          ],
          [
           759,
           49.815273,
           6.129583
          ],
          [
           191,
           35.937496,
           14.375416
          ],
          [
           146174,
           52.132633,
           5.291266
          ],
          [
           9048,
           41.608635,
           21.745275
          ],
          [
           47700,
           60.472024,
           8.468946
          ],
          [
           1011,
           51.919438,
           19.145136
          ],
          [
           416,
           39.399872,
           -8.224454
          ],
          [
           1677,
           45.943161,
           24.96676
          ],
          [
           484390,
           44.016521,
           21.005859
          ],
          [
           444,
           48.669026,
           19.699024
          ],
          [
           2814,
           46.151241,
           14.995463
          ],
          [
           6982,
           40.463667,
           -3.74922
          ],
          [
           157206,
           60.128161,
           18.643501
          ],
          [
           57624,
           46.818188,
           8.227512
          ],
          [
           2927,
           48.379433,
           31.16558
          ],
          [
           186247,
           55.378051,
           -3.435973
          ]
         ],
         "geo": "geo",
         "hovertemplate": "<b>%{hovertext}</b><br><br>Year=%{marker.size}<br>Refugees under UNHCR's mandate=%{marker.color}<extra></extra>",
         "hovertext": [
          "Albania",
          "Austria",
          "Belarus",
          "Belgium",
          "Bulgaria",
          "Croatia",
          "Cyprus",
          "Denmark",
          "Estonia",
          "Finland",
          "France",
          "Germany",
          "Greece",
          "Hungary",
          "Iceland",
          "Ireland",
          "Italy",
          "Luxembourg",
          "Malta",
          "Netherlands",
          "North Macedonia",
          "Norway",
          "Poland",
          "Portugal",
          "Romania",
          "Serbia",
          "Slovakia",
          "Slovenia",
          "Spain",
          "Sweden",
          "Switzerland",
          "Ukraine",
          "United Kingdom"
         ],
         "lat": [
          41.153332,
          47.516231,
          53.709807,
          50.503887,
          42.733883,
          45.1,
          35.126413,
          56.26392,
          58.595272,
          61.92411,
          46.227638,
          51.165691,
          39.074208,
          47.162494,
          64.963051,
          53.41291,
          41.87194,
          49.815273,
          35.937496,
          52.132633,
          41.608635,
          60.472024,
          51.919438,
          39.399872,
          45.943161,
          44.016521,
          48.669026,
          46.151241,
          40.463667,
          60.128161,
          46.818188,
          48.379433,
          55.378051
         ],
         "legendgroup": "",
         "lon": [
          20.168331,
          14.550072,
          27.953389,
          4.469936,
          25.48583,
          15.2,
          33.429859,
          9.501785,
          25.013607,
          25.748151,
          2.213749,
          10.451526,
          21.824312,
          19.503304,
          -19.020835,
          -8.24389,
          12.56738,
          6.129583,
          14.375416,
          5.291266,
          21.745275,
          8.468946,
          19.145136,
          -8.224454,
          24.96676,
          21.005859,
          19.699024,
          14.995463,
          -3.74922,
          18.643501,
          8.227512,
          31.16558,
          -3.435973
         ],
         "marker": {
          "color": [
           521,
           15493,
           453,
           18821,
           1470,
           22437,
           73,
           71017,
           0,
           13271,
           132508,
           906000,
           6653,
           5053,
           235,
           2530,
           6813,
           759,
           191,
           146174,
           9048,
           47700,
           1011,
           416,
           1677,
           484390,
           444,
           2814,
           6982,
           157206,
           57624,
           2927,
           186247
          ],
          "coloraxis": "coloraxis",
          "line": {
           "color": "black",
           "width": 0.5
          },
          "size": [
           2000,
           2000,
           2000,
           2000,
           2000,
           2000,
           2000,
           2000,
           2000,
           2000,
           2000,
           2000,
           2000,
           2000,
           2000,
           2000,
           2000,
           2000,
           2000,
           2000,
           2000,
           2000,
           2000,
           2000,
           2000,
           2000,
           2000,
           2000,
           2000,
           2000,
           2000,
           2000,
           2000
          ],
          "sizemode": "area",
          "sizeref": 20.17,
          "symbol": "circle"
         },
         "mode": "markers",
         "name": "",
         "showlegend": false,
         "type": "scattergeo"
        }
       ],
       "frames": [
        {
         "data": [
          {
           "customdata": [
            [
             521,
             41.153332,
             20.168331
            ],
            [
             15493,
             47.516231,
             14.550072
            ],
            [
             453,
             53.709807,
             27.953389
            ],
            [
             18821,
             50.503887,
             4.469936
            ],
            [
             1470,
             42.733883,
             25.48583
            ],
            [
             22437,
             45.1,
             15.2
            ],
            [
             73,
             35.126413,
             33.429859
            ],
            [
             71017,
             56.26392,
             9.501785
            ],
            [
             0,
             58.595272,
             25.013607
            ],
            [
             13271,
             61.92411,
             25.748151
            ],
            [
             132508,
             46.227638,
             2.213749
            ],
            [
             906000,
             51.165691,
             10.451526
            ],
            [
             6653,
             39.074208,
             21.824312
            ],
            [
             5053,
             47.162494,
             19.503304
            ],
            [
             235,
             64.963051,
             -19.020835
            ],
            [
             2530,
             53.41291,
             -8.24389
            ],
            [
             6813,
             41.87194,
             12.56738
            ],
            [
             759,
             49.815273,
             6.129583
            ],
            [
             191,
             35.937496,
             14.375416
            ],
            [
             146174,
             52.132633,
             5.291266
            ],
            [
             9048,
             41.608635,
             21.745275
            ],
            [
             47700,
             60.472024,
             8.468946
            ],
            [
             1011,
             51.919438,
             19.145136
            ],
            [
             416,
             39.399872,
             -8.224454
            ],
            [
             1677,
             45.943161,
             24.96676
            ],
            [
             484390,
             44.016521,
             21.005859
            ],
            [
             444,
             48.669026,
             19.699024
            ],
            [
             2814,
             46.151241,
             14.995463
            ],
            [
             6982,
             40.463667,
             -3.74922
            ],
            [
             157206,
             60.128161,
             18.643501
            ],
            [
             57624,
             46.818188,
             8.227512
            ],
            [
             2927,
             48.379433,
             31.16558
            ],
            [
             186247,
             55.378051,
             -3.435973
            ]
           ],
           "geo": "geo",
           "hovertemplate": "<b>%{hovertext}</b><br><br>Year=%{marker.size}<br>Refugees under UNHCR's mandate=%{marker.color}<extra></extra>",
           "hovertext": [
            "Albania",
            "Austria",
            "Belarus",
            "Belgium",
            "Bulgaria",
            "Croatia",
            "Cyprus",
            "Denmark",
            "Estonia",
            "Finland",
            "France",
            "Germany",
            "Greece",
            "Hungary",
            "Iceland",
            "Ireland",
            "Italy",
            "Luxembourg",
            "Malta",
            "Netherlands",
            "North Macedonia",
            "Norway",
            "Poland",
            "Portugal",
            "Romania",
            "Serbia",
            "Slovakia",
            "Slovenia",
            "Spain",
            "Sweden",
            "Switzerland",
            "Ukraine",
            "United Kingdom"
           ],
           "lat": [
            41.153332,
            47.516231,
            53.709807,
            50.503887,
            42.733883,
            45.1,
            35.126413,
            56.26392,
            58.595272,
            61.92411,
            46.227638,
            51.165691,
            39.074208,
            47.162494,
            64.963051,
            53.41291,
            41.87194,
            49.815273,
            35.937496,
            52.132633,
            41.608635,
            60.472024,
            51.919438,
            39.399872,
            45.943161,
            44.016521,
            48.669026,
            46.151241,
            40.463667,
            60.128161,
            46.818188,
            48.379433,
            55.378051
           ],
           "legendgroup": "",
           "lon": [
            20.168331,
            14.550072,
            27.953389,
            4.469936,
            25.48583,
            15.2,
            33.429859,
            9.501785,
            25.013607,
            25.748151,
            2.213749,
            10.451526,
            21.824312,
            19.503304,
            -19.020835,
            -8.24389,
            12.56738,
            6.129583,
            14.375416,
            5.291266,
            21.745275,
            8.468946,
            19.145136,
            -8.224454,
            24.96676,
            21.005859,
            19.699024,
            14.995463,
            -3.74922,
            18.643501,
            8.227512,
            31.16558,
            -3.435973
           ],
           "marker": {
            "color": [
             521,
             15493,
             453,
             18821,
             1470,
             22437,
             73,
             71017,
             0,
             13271,
             132508,
             906000,
             6653,
             5053,
             235,
             2530,
             6813,
             759,
             191,
             146174,
             9048,
             47700,
             1011,
             416,
             1677,
             484390,
             444,
             2814,
             6982,
             157206,
             57624,
             2927,
             186247
            ],
            "coloraxis": "coloraxis",
            "size": [
             2000,
             2000,
             2000,
             2000,
             2000,
             2000,
             2000,
             2000,
             2000,
             2000,
             2000,
             2000,
             2000,
             2000,
             2000,
             2000,
             2000,
             2000,
             2000,
             2000,
             2000,
             2000,
             2000,
             2000,
             2000,
             2000,
             2000,
             2000,
             2000,
             2000,
             2000,
             2000,
             2000
            ],
            "sizemode": "area",
            "sizeref": 20.17,
            "symbol": "circle"
           },
           "mode": "markers",
           "name": "",
           "showlegend": false,
           "type": "scattergeo"
          }
         ],
         "name": "2000"
        },
        {
         "data": [
          {
           "customdata": [
            [
             291,
             41.153332,
             20.168331
            ],
            [
             14375,
             47.516231,
             14.550072
            ],
            [
             581,
             53.709807,
             27.953389
            ],
            [
             12252,
             50.503887,
             4.469936
            ],
            [
             2984,
             42.733883,
             25.48583
            ],
            [
             21875,
             45.1,
             15.2
            ],
            [
             84,
             35.126413,
             33.429859
            ],
            [
             73284,
             56.26392,
             9.501785
            ],
            [
             6,
             58.595272,
             25.013607
            ],
            [
             12726,
             61.92411,
             25.748151
            ],
            [
             131601,
             46.227638,
             2.213749
            ],
            [
             903000,
             51.165691,
             10.451526
            ],
            [
             6927,
             39.074208,
             21.824312
            ],
            [
             4700,
             47.162494,
             19.503304
            ],
            [
             204,
             64.963051,
             -19.020835
            ],
            [
             3585,
             53.41291,
             -8.24389
            ],
            [
             8541,
             41.87194,
             12.56738
            ],
            [
             1201,
             49.815273,
             6.129583
            ],
            [
             175,
             35.937496,
             14.375416
            ],
            [
             151919,
             52.132633,
             5.291266
            ],
            [
             4362,
             41.608635,
             21.745275
            ],
            [
             50122,
             60.472024,
             8.468946
            ],
            [
             1295,
             51.919438,
             19.145136
            ],
            [
             444,
             39.399872,
             -8.224454
            ],
            [
             1792,
             45.943161,
             24.96676
            ],
            [
             400306,
             44.016521,
             21.005859
            ],
            [
             461,
             48.669026,
             19.699024
            ],
            [
             2411,
             46.151241,
             14.995463
            ],
            [
             6804,
             40.463667,
             -3.74922
            ],
            [
             146480,
             60.128161,
             18.643501
            ],
            [
             58471,
             46.818188,
             8.227512
            ],
            [
             2958,
             48.379433,
             31.16558
            ],
            [
             233389,
             55.378051,
             -3.435973
            ]
           ],
           "geo": "geo",
           "hovertemplate": "<b>%{hovertext}</b><br><br>Year=%{marker.size}<br>Refugees under UNHCR's mandate=%{marker.color}<extra></extra>",
           "hovertext": [
            "Albania",
            "Austria",
            "Belarus",
            "Belgium",
            "Bulgaria",
            "Croatia",
            "Cyprus",
            "Denmark",
            "Estonia",
            "Finland",
            "France",
            "Germany",
            "Greece",
            "Hungary",
            "Iceland",
            "Ireland",
            "Italy",
            "Luxembourg",
            "Malta",
            "Netherlands",
            "North Macedonia",
            "Norway",
            "Poland",
            "Portugal",
            "Romania",
            "Serbia",
            "Slovakia",
            "Slovenia",
            "Spain",
            "Sweden",
            "Switzerland",
            "Ukraine",
            "United Kingdom"
           ],
           "lat": [
            41.153332,
            47.516231,
            53.709807,
            50.503887,
            42.733883,
            45.1,
            35.126413,
            56.26392,
            58.595272,
            61.92411,
            46.227638,
            51.165691,
            39.074208,
            47.162494,
            64.963051,
            53.41291,
            41.87194,
            49.815273,
            35.937496,
            52.132633,
            41.608635,
            60.472024,
            51.919438,
            39.399872,
            45.943161,
            44.016521,
            48.669026,
            46.151241,
            40.463667,
            60.128161,
            46.818188,
            48.379433,
            55.378051
           ],
           "legendgroup": "",
           "lon": [
            20.168331,
            14.550072,
            27.953389,
            4.469936,
            25.48583,
            15.2,
            33.429859,
            9.501785,
            25.013607,
            25.748151,
            2.213749,
            10.451526,
            21.824312,
            19.503304,
            -19.020835,
            -8.24389,
            12.56738,
            6.129583,
            14.375416,
            5.291266,
            21.745275,
            8.468946,
            19.145136,
            -8.224454,
            24.96676,
            21.005859,
            19.699024,
            14.995463,
            -3.74922,
            18.643501,
            8.227512,
            31.16558,
            -3.435973
           ],
           "marker": {
            "color": [
             291,
             14375,
             581,
             12252,
             2984,
             21875,
             84,
             73284,
             6,
             12726,
             131601,
             903000,
             6927,
             4700,
             204,
             3585,
             8541,
             1201,
             175,
             151919,
             4362,
             50122,
             1295,
             444,
             1792,
             400306,
             461,
             2411,
             6804,
             146480,
             58471,
             2958,
             233389
            ],
            "coloraxis": "coloraxis",
            "size": [
             2001,
             2001,
             2001,
             2001,
             2001,
             2001,
             2001,
             2001,
             2001,
             2001,
             2001,
             2001,
             2001,
             2001,
             2001,
             2001,
             2001,
             2001,
             2001,
             2001,
             2001,
             2001,
             2001,
             2001,
             2001,
             2001,
             2001,
             2001,
             2001,
             2001,
             2001,
             2001,
             2001
            ],
            "sizemode": "area",
            "sizeref": 20.17,
            "symbol": "circle"
           },
           "mode": "markers",
           "name": "",
           "showlegend": false,
           "type": "scattergeo"
          }
         ],
         "name": "2001"
        },
        {
         "data": [
          {
           "customdata": [
            [
             18,
             41.153332,
             20.168331
            ],
            [
             14122,
             47.516231,
             14.550072
            ],
            [
             612,
             53.709807,
             27.953389
            ],
            [
             12560,
             50.503887,
             4.469936
            ],
            [
             3642,
             42.733883,
             25.48583
            ],
            [
             8392,
             45.1,
             15.2
            ],
            [
             171,
             35.126413,
             33.429859
            ],
            [
             73600,
             56.26392,
             9.501785
            ],
            [
             6,
             58.595272,
             25.013607
            ],
            [
             12485,
             61.92411,
             25.748151
            ],
            [
             132182,
             46.227638,
             2.213749
            ],
            [
             980001,
             51.165691,
             10.451526
            ],
            [
             2778,
             39.074208,
             21.824312
            ],
            [
             6075,
             47.162494,
             19.503304
            ],
            [
             197,
             64.963051,
             -19.020835
            ],
            [
             5366,
             53.41291,
             -8.24389
            ],
            [
             10031,
             41.87194,
             12.56738
            ],
            [
             1201,
             49.815273,
             6.129583
            ],
            [
             311,
             35.937496,
             14.375416
            ],
            [
             148349,
             52.132633,
             5.291266
            ],
            [
             2815,
             41.608635,
             21.745275
            ],
            [
             50421,
             60.472024,
             8.468946
            ],
            [
             1586,
             51.919438,
             19.145136
            ],
            [
             460,
             39.399872,
             -8.224454
            ],
            [
             1839,
             45.943161,
             24.96676
            ],
            [
             354400,
             44.016521,
             21.005859
            ],
            [
             443,
             48.669026,
             19.699024
            ],
            [
             384,
             46.151241,
             14.995463
            ],
            [
             6783,
             40.463667,
             -3.74922
            ],
            [
             142170,
             60.128161,
             18.643501
            ],
            [
             54081,
             46.818188,
             8.227512
            ],
            [
             2940,
             48.379433,
             31.16558
            ],
            [
             260687,
             55.378051,
             -3.435973
            ]
           ],
           "geo": "geo",
           "hovertemplate": "<b>%{hovertext}</b><br><br>Year=%{marker.size}<br>Refugees under UNHCR's mandate=%{marker.color}<extra></extra>",
           "hovertext": [
            "Albania",
            "Austria",
            "Belarus",
            "Belgium",
            "Bulgaria",
            "Croatia",
            "Cyprus",
            "Denmark",
            "Estonia",
            "Finland",
            "France",
            "Germany",
            "Greece",
            "Hungary",
            "Iceland",
            "Ireland",
            "Italy",
            "Luxembourg",
            "Malta",
            "Netherlands",
            "North Macedonia",
            "Norway",
            "Poland",
            "Portugal",
            "Romania",
            "Serbia",
            "Slovakia",
            "Slovenia",
            "Spain",
            "Sweden",
            "Switzerland",
            "Ukraine",
            "United Kingdom"
           ],
           "lat": [
            41.153332,
            47.516231,
            53.709807,
            50.503887,
            42.733883,
            45.1,
            35.126413,
            56.26392,
            58.595272,
            61.92411,
            46.227638,
            51.165691,
            39.074208,
            47.162494,
            64.963051,
            53.41291,
            41.87194,
            49.815273,
            35.937496,
            52.132633,
            41.608635,
            60.472024,
            51.919438,
            39.399872,
            45.943161,
            44.016521,
            48.669026,
            46.151241,
            40.463667,
            60.128161,
            46.818188,
            48.379433,
            55.378051
           ],
           "legendgroup": "",
           "lon": [
            20.168331,
            14.550072,
            27.953389,
            4.469936,
            25.48583,
            15.2,
            33.429859,
            9.501785,
            25.013607,
            25.748151,
            2.213749,
            10.451526,
            21.824312,
            19.503304,
            -19.020835,
            -8.24389,
            12.56738,
            6.129583,
            14.375416,
            5.291266,
            21.745275,
            8.468946,
            19.145136,
            -8.224454,
            24.96676,
            21.005859,
            19.699024,
            14.995463,
            -3.74922,
            18.643501,
            8.227512,
            31.16558,
            -3.435973
           ],
           "marker": {
            "color": [
             18,
             14122,
             612,
             12560,
             3642,
             8392,
             171,
             73600,
             6,
             12485,
             132182,
             980001,
             2778,
             6075,
             197,
             5366,
             10031,
             1201,
             311,
             148349,
             2815,
             50421,
             1586,
             460,
             1839,
             354400,
             443,
             384,
             6783,
             142170,
             54081,
             2940,
             260687
            ],
            "coloraxis": "coloraxis",
            "size": [
             2002,
             2002,
             2002,
             2002,
             2002,
             2002,
             2002,
             2002,
             2002,
             2002,
             2002,
             2002,
             2002,
             2002,
             2002,
             2002,
             2002,
             2002,
             2002,
             2002,
             2002,
             2002,
             2002,
             2002,
             2002,
             2002,
             2002,
             2002,
             2002,
             2002,
             2002,
             2002,
             2002
            ],
            "sizemode": "area",
            "sizeref": 20.17,
            "symbol": "circle"
           },
           "mode": "markers",
           "name": "",
           "showlegend": false,
           "type": "scattergeo"
          }
         ],
         "name": "2002"
        },
        {
         "data": [
          {
           "customdata": [
            [
             24,
             41.153332,
             20.168331
            ],
            [
             16097,
             47.516231,
             14.550072
            ],
            [
             631,
             53.709807,
             27.953389
            ],
            [
             12583,
             50.503887,
             4.469936
            ],
            [
             4047,
             42.733883,
             25.48583
            ],
            [
             4385,
             45.1,
             15.2
            ],
            [
             339,
             35.126413,
             33.429859
            ],
            [
             69855,
             56.26392,
             9.501785
            ],
            [
             6,
             58.595272,
             25.013607
            ],
            [
             10835,
             61.92411,
             25.748151
            ],
            [
             130838,
             46.227638,
             2.213749
            ],
            [
             960393,
             51.165691,
             10.451526
            ],
            [
             2762,
             39.074208,
             21.824312
            ],
            [
             7013,
             47.162494,
             19.503304
            ],
            [
             226,
             64.963051,
             -19.020835
            ],
            [
             5971,
             53.41291,
             -8.24389
            ],
            [
             12812,
             41.87194,
             12.56738
            ],
            [
             1201,
             49.815273,
             6.129583
            ],
            [
             894,
             35.937496,
             14.375416
            ],
            [
             140877,
             52.132633,
             5.291266
            ],
            [
             191,
             41.608635,
             21.745275
            ],
            [
             46107,
             60.472024,
             8.468946
            ],
            [
             1822,
             51.919438,
             19.145136
            ],
            [
             414,
             39.399872,
             -8.224454
            ],
            [
             1991,
             45.943161,
             24.96676
            ],
            [
             291397,
             44.016521,
             21.005859
            ],
            [
             412,
             48.669026,
             19.699024
            ],
            [
             2065,
             46.151241,
             14.995463
            ],
            [
             5912,
             40.463667,
             -3.74922
            ],
            [
             112148,
             60.128161,
             18.643501
            ],
            [
             50126,
             46.818188,
             8.227512
            ],
            [
             2851,
             48.379433,
             31.16558
            ],
            [
             276482,
             55.378051,
             -3.435973
            ]
           ],
           "geo": "geo",
           "hovertemplate": "<b>%{hovertext}</b><br><br>Year=%{marker.size}<br>Refugees under UNHCR's mandate=%{marker.color}<extra></extra>",
           "hovertext": [
            "Albania",
            "Austria",
            "Belarus",
            "Belgium",
            "Bulgaria",
            "Croatia",
            "Cyprus",
            "Denmark",
            "Estonia",
            "Finland",
            "France",
            "Germany",
            "Greece",
            "Hungary",
            "Iceland",
            "Ireland",
            "Italy",
            "Luxembourg",
            "Malta",
            "Netherlands",
            "North Macedonia",
            "Norway",
            "Poland",
            "Portugal",
            "Romania",
            "Serbia",
            "Slovakia",
            "Slovenia",
            "Spain",
            "Sweden",
            "Switzerland",
            "Ukraine",
            "United Kingdom"
           ],
           "lat": [
            41.153332,
            47.516231,
            53.709807,
            50.503887,
            42.733883,
            45.1,
            35.126413,
            56.26392,
            58.595272,
            61.92411,
            46.227638,
            51.165691,
            39.074208,
            47.162494,
            64.963051,
            53.41291,
            41.87194,
            49.815273,
            35.937496,
            52.132633,
            41.608635,
            60.472024,
            51.919438,
            39.399872,
            45.943161,
            44.016521,
            48.669026,
            46.151241,
            40.463667,
            60.128161,
            46.818188,
            48.379433,
            55.378051
           ],
           "legendgroup": "",
           "lon": [
            20.168331,
            14.550072,
            27.953389,
            4.469936,
            25.48583,
            15.2,
            33.429859,
            9.501785,
            25.013607,
            25.748151,
            2.213749,
            10.451526,
            21.824312,
            19.503304,
            -19.020835,
            -8.24389,
            12.56738,
            6.129583,
            14.375416,
            5.291266,
            21.745275,
            8.468946,
            19.145136,
            -8.224454,
            24.96676,
            21.005859,
            19.699024,
            14.995463,
            -3.74922,
            18.643501,
            8.227512,
            31.16558,
            -3.435973
           ],
           "marker": {
            "color": [
             24,
             16097,
             631,
             12583,
             4047,
             4385,
             339,
             69855,
             6,
             10835,
             130838,
             960393,
             2762,
             7013,
             226,
             5971,
             12812,
             1201,
             894,
             140877,
             191,
             46107,
             1822,
             414,
             1991,
             291397,
             412,
             2065,
             5912,
             112148,
             50126,
             2851,
             276482
            ],
            "coloraxis": "coloraxis",
            "size": [
             2003,
             2003,
             2003,
             2003,
             2003,
             2003,
             2003,
             2003,
             2003,
             2003,
             2003,
             2003,
             2003,
             2003,
             2003,
             2003,
             2003,
             2003,
             2003,
             2003,
             2003,
             2003,
             2003,
             2003,
             2003,
             2003,
             2003,
             2003,
             2003,
             2003,
             2003,
             2003,
             2003
            ],
            "sizemode": "area",
            "sizeref": 20.17,
            "symbol": "circle"
           },
           "mode": "markers",
           "name": "",
           "showlegend": false,
           "type": "scattergeo"
          }
         ],
         "name": "2003"
        },
        {
         "data": [
          {
           "customdata": [
            [
             49,
             41.153332,
             20.168331
            ],
            [
             17777,
             47.516231,
             14.550072
            ],
            [
             719,
             53.709807,
             27.953389
            ],
            [
             13522,
             50.503887,
             4.469936
            ],
            [
             4676,
             42.733883,
             25.48583
            ],
            [
             3662,
             45.1,
             15.2
            ],
            [
             525,
             35.126413,
             33.429859
            ],
            [
             65305,
             56.26392,
             9.501785
            ],
            [
             6,
             58.595272,
             25.013607
            ],
            [
             11309,
             61.92411,
             25.748151
            ],
            [
             139852,
             46.227638,
             2.213749
            ],
            [
             876614,
             51.165691,
             10.451526
            ],
            [
             2479,
             39.074208,
             21.824312
            ],
            [
             7702,
             47.162494,
             19.503304
            ],
            [
             226,
             64.963051,
             -19.020835
            ],
            [
             6530,
             53.41291,
             -8.24389
            ],
            [
             15668,
             41.87194,
             12.56738
            ],
            [
             1590,
             49.815273,
             6.129583
            ],
            [
             1561,
             35.937496,
             14.375416
            ],
            [
             126792,
             52.132633,
             5.291266
            ],
            [
             1003,
             41.608635,
             21.745275
            ],
            [
             44031,
             60.472024,
             8.468946
            ],
            [
             2491,
             51.919438,
             19.145136
            ],
            [
             368,
             39.399872,
             -8.224454
            ],
            [
             1610,
             45.943161,
             24.96676
            ],
            [
             276677,
             44.016521,
             21.005859
            ],
            [
             396,
             48.669026,
             19.699024
            ],
            [
             299,
             46.151241,
             14.995463
            ],
            [
             5690,
             40.463667,
             -3.74922
            ],
            [
             73383,
             60.128161,
             18.643501
            ],
            [
             47654,
             46.818188,
             8.227512
            ],
            [
             2442,
             48.379433,
             31.16558
            ],
            [
             298826,
             55.378051,
             -3.435973
            ]
           ],
           "geo": "geo",
           "hovertemplate": "<b>%{hovertext}</b><br><br>Year=%{marker.size}<br>Refugees under UNHCR's mandate=%{marker.color}<extra></extra>",
           "hovertext": [
            "Albania",
            "Austria",
            "Belarus",
            "Belgium",
            "Bulgaria",
            "Croatia",
            "Cyprus",
            "Denmark",
            "Estonia",
            "Finland",
            "France",
            "Germany",
            "Greece",
            "Hungary",
            "Iceland",
            "Ireland",
            "Italy",
            "Luxembourg",
            "Malta",
            "Netherlands",
            "North Macedonia",
            "Norway",
            "Poland",
            "Portugal",
            "Romania",
            "Serbia",
            "Slovakia",
            "Slovenia",
            "Spain",
            "Sweden",
            "Switzerland",
            "Ukraine",
            "United Kingdom"
           ],
           "lat": [
            41.153332,
            47.516231,
            53.709807,
            50.503887,
            42.733883,
            45.1,
            35.126413,
            56.26392,
            58.595272,
            61.92411,
            46.227638,
            51.165691,
            39.074208,
            47.162494,
            64.963051,
            53.41291,
            41.87194,
            49.815273,
            35.937496,
            52.132633,
            41.608635,
            60.472024,
            51.919438,
            39.399872,
            45.943161,
            44.016521,
            48.669026,
            46.151241,
            40.463667,
            60.128161,
            46.818188,
            48.379433,
            55.378051
           ],
           "legendgroup": "",
           "lon": [
            20.168331,
            14.550072,
            27.953389,
            4.469936,
            25.48583,
            15.2,
            33.429859,
            9.501785,
            25.013607,
            25.748151,
            2.213749,
            10.451526,
            21.824312,
            19.503304,
            -19.020835,
            -8.24389,
            12.56738,
            6.129583,
            14.375416,
            5.291266,
            21.745275,
            8.468946,
            19.145136,
            -8.224454,
            24.96676,
            21.005859,
            19.699024,
            14.995463,
            -3.74922,
            18.643501,
            8.227512,
            31.16558,
            -3.435973
           ],
           "marker": {
            "color": [
             49,
             17777,
             719,
             13522,
             4676,
             3662,
             525,
             65305,
             6,
             11309,
             139852,
             876614,
             2479,
             7702,
             226,
             6530,
             15668,
             1590,
             1561,
             126792,
             1003,
             44031,
             2491,
             368,
             1610,
             276677,
             396,
             299,
             5690,
             73383,
             47654,
             2442,
             298826
            ],
            "coloraxis": "coloraxis",
            "size": [
             2004,
             2004,
             2004,
             2004,
             2004,
             2004,
             2004,
             2004,
             2004,
             2004,
             2004,
             2004,
             2004,
             2004,
             2004,
             2004,
             2004,
             2004,
             2004,
             2004,
             2004,
             2004,
             2004,
             2004,
             2004,
             2004,
             2004,
             2004,
             2004,
             2004,
             2004,
             2004,
             2004
            ],
            "sizemode": "area",
            "sizeref": 20.17,
            "symbol": "circle"
           },
           "mode": "markers",
           "name": "",
           "showlegend": false,
           "type": "scattergeo"
          }
         ],
         "name": "2004"
        },
        {
         "data": [
          {
           "customdata": [
            [
             53,
             41.153332,
             20.168331
            ],
            [
             21212,
             47.516231,
             14.550072
            ],
            [
             718,
             53.709807,
             27.953389
            ],
            [
             15277,
             50.503887,
             4.469936
            ],
            [
             4388,
             42.733883,
             25.48583
            ],
            [
             2927,
             45.1,
             15.2
            ],
            [
             700,
             35.126413,
             33.429859
            ],
            [
             44362,
             56.26392,
             9.501785
            ],
            [
             0,
             58.595272,
             25.013607
            ],
            [
             11801,
             61.92411,
             25.748151
            ],
            [
             137316,
             46.227638,
             2.213749
            ],
            [
             699996,
             51.165691,
             10.451526
            ],
            [
             2394,
             39.074208,
             21.824312
            ],
            [
             8040,
             47.162494,
             19.503304
            ],
            [
             284,
             64.963051,
             -19.020835
            ],
            [
             7103,
             53.41291,
             -8.24389
            ],
            [
             20674,
             41.87194,
             12.56738
            ],
            [
             1822,
             49.815273,
             6.129583
            ],
            [
             1942,
             35.937496,
             14.375416
            ],
            [
             118172,
             52.132633,
             5.291266
            ],
            [
             1273,
             41.608635,
             21.745275
            ],
            [
             43015,
             60.472024,
             8.468946
            ],
            [
             4585,
             51.919438,
             19.145136
            ],
            [
             355,
             39.399872,
             -8.224454
            ],
            [
             2040,
             45.943161,
             24.96676
            ],
            [
             148259,
             44.016521,
             21.005859
            ],
            [
             352,
             48.669026,
             19.699024
            ],
            [
             243,
             46.151241,
             14.995463
            ],
            [
             5369,
             40.463667,
             -3.74922
            ],
            [
             74889,
             60.128161,
             18.643501
            ],
            [
             48010,
             46.818188,
             8.227512
            ],
            [
             2334,
             48.379433,
             31.16558
            ],
            [
             303163,
             55.378051,
             -3.435973
            ]
           ],
           "geo": "geo",
           "hovertemplate": "<b>%{hovertext}</b><br><br>Year=%{marker.size}<br>Refugees under UNHCR's mandate=%{marker.color}<extra></extra>",
           "hovertext": [
            "Albania",
            "Austria",
            "Belarus",
            "Belgium",
            "Bulgaria",
            "Croatia",
            "Cyprus",
            "Denmark",
            "Estonia",
            "Finland",
            "France",
            "Germany",
            "Greece",
            "Hungary",
            "Iceland",
            "Ireland",
            "Italy",
            "Luxembourg",
            "Malta",
            "Netherlands",
            "North Macedonia",
            "Norway",
            "Poland",
            "Portugal",
            "Romania",
            "Serbia",
            "Slovakia",
            "Slovenia",
            "Spain",
            "Sweden",
            "Switzerland",
            "Ukraine",
            "United Kingdom"
           ],
           "lat": [
            41.153332,
            47.516231,
            53.709807,
            50.503887,
            42.733883,
            45.1,
            35.126413,
            56.26392,
            58.595272,
            61.92411,
            46.227638,
            51.165691,
            39.074208,
            47.162494,
            64.963051,
            53.41291,
            41.87194,
            49.815273,
            35.937496,
            52.132633,
            41.608635,
            60.472024,
            51.919438,
            39.399872,
            45.943161,
            44.016521,
            48.669026,
            46.151241,
            40.463667,
            60.128161,
            46.818188,
            48.379433,
            55.378051
           ],
           "legendgroup": "",
           "lon": [
            20.168331,
            14.550072,
            27.953389,
            4.469936,
            25.48583,
            15.2,
            33.429859,
            9.501785,
            25.013607,
            25.748151,
            2.213749,
            10.451526,
            21.824312,
            19.503304,
            -19.020835,
            -8.24389,
            12.56738,
            6.129583,
            14.375416,
            5.291266,
            21.745275,
            8.468946,
            19.145136,
            -8.224454,
            24.96676,
            21.005859,
            19.699024,
            14.995463,
            -3.74922,
            18.643501,
            8.227512,
            31.16558,
            -3.435973
           ],
           "marker": {
            "color": [
             53,
             21212,
             718,
             15277,
             4388,
             2927,
             700,
             44362,
             0,
             11801,
             137316,
             699996,
             2394,
             8040,
             284,
             7103,
             20674,
             1822,
             1942,
             118172,
             1273,
             43015,
             4585,
             355,
             2040,
             148259,
             352,
             243,
             5369,
             74889,
             48010,
             2334,
             303163
            ],
            "coloraxis": "coloraxis",
            "size": [
             2005,
             2005,
             2005,
             2005,
             2005,
             2005,
             2005,
             2005,
             2005,
             2005,
             2005,
             2005,
             2005,
             2005,
             2005,
             2005,
             2005,
             2005,
             2005,
             2005,
             2005,
             2005,
             2005,
             2005,
             2005,
             2005,
             2005,
             2005,
             2005,
             2005,
             2005,
             2005,
             2005
            ],
            "sizemode": "area",
            "sizeref": 20.17,
            "symbol": "circle"
           },
           "mode": "markers",
           "name": "",
           "showlegend": false,
           "type": "scattergeo"
          }
         ],
         "name": "2005"
        },
        {
         "data": [
          {
           "customdata": [
            [
             56,
             41.153332,
             20.168331
            ],
            [
             25475,
             47.516231,
             14.550072
            ],
            [
             683,
             53.709807,
             27.953389
            ],
            [
             16811,
             50.503887,
             4.469936
            ],
            [
             4479,
             42.733883,
             25.48583
            ],
            [
             2442,
             45.1,
             15.2
            ],
            [
             926,
             35.126413,
             33.429859
            ],
            [
             36650,
             56.26392,
             9.501785
            ],
            [
             0,
             58.595272,
             25.013607
            ],
            [
             11827,
             61.92411,
             25.748151
            ],
            [
             145996,
             46.227638,
             2.213749
            ],
            [
             605329,
             51.165691,
             10.451526
            ],
            [
             2292,
             39.074208,
             21.824312
            ],
            [
             8068,
             47.162494,
             19.503304
            ],
            [
             254,
             64.963051,
             -19.020835
            ],
            [
             7904,
             53.41291,
             -8.24389
            ],
            [
             26870,
             41.87194,
             12.56738
            ],
            [
             2206,
             49.815273,
             6.129583
            ],
            [
             2407,
             35.937496,
             14.375416
            ],
            [
             100565,
             52.132633,
             5.291266
            ],
            [
             1239,
             41.608635,
             21.745275
            ],
            [
             43315,
             60.472024,
             8.468946
            ],
            [
             6786,
             51.919438,
             19.145136
            ],
            [
             322,
             39.399872,
             -8.224454
            ],
            [
             1636,
             45.943161,
             24.96676
            ],
            [
             98995,
             44.016521,
             21.005859
            ],
            [
             235,
             48.669026,
             19.699024
            ],
            [
             249,
             46.151241,
             14.995463
            ],
            [
             5269,
             40.463667,
             -3.74922
            ],
            [
             79895,
             60.128161,
             18.643501
            ],
            [
             48508,
             46.818188,
             8.227512
            ],
            [
             2267,
             48.379433,
             31.16558
            ],
            [
             301537,
             55.378051,
             -3.435973
            ]
           ],
           "geo": "geo",
           "hovertemplate": "<b>%{hovertext}</b><br><br>Year=%{marker.size}<br>Refugees under UNHCR's mandate=%{marker.color}<extra></extra>",
           "hovertext": [
            "Albania",
            "Austria",
            "Belarus",
            "Belgium",
            "Bulgaria",
            "Croatia",
            "Cyprus",
            "Denmark",
            "Estonia",
            "Finland",
            "France",
            "Germany",
            "Greece",
            "Hungary",
            "Iceland",
            "Ireland",
            "Italy",
            "Luxembourg",
            "Malta",
            "Netherlands",
            "North Macedonia",
            "Norway",
            "Poland",
            "Portugal",
            "Romania",
            "Serbia",
            "Slovakia",
            "Slovenia",
            "Spain",
            "Sweden",
            "Switzerland",
            "Ukraine",
            "United Kingdom"
           ],
           "lat": [
            41.153332,
            47.516231,
            53.709807,
            50.503887,
            42.733883,
            45.1,
            35.126413,
            56.26392,
            58.595272,
            61.92411,
            46.227638,
            51.165691,
            39.074208,
            47.162494,
            64.963051,
            53.41291,
            41.87194,
            49.815273,
            35.937496,
            52.132633,
            41.608635,
            60.472024,
            51.919438,
            39.399872,
            45.943161,
            44.016521,
            48.669026,
            46.151241,
            40.463667,
            60.128161,
            46.818188,
            48.379433,
            55.378051
           ],
           "legendgroup": "",
           "lon": [
            20.168331,
            14.550072,
            27.953389,
            4.469936,
            25.48583,
            15.2,
            33.429859,
            9.501785,
            25.013607,
            25.748151,
            2.213749,
            10.451526,
            21.824312,
            19.503304,
            -19.020835,
            -8.24389,
            12.56738,
            6.129583,
            14.375416,
            5.291266,
            21.745275,
            8.468946,
            19.145136,
            -8.224454,
            24.96676,
            21.005859,
            19.699024,
            14.995463,
            -3.74922,
            18.643501,
            8.227512,
            31.16558,
            -3.435973
           ],
           "marker": {
            "color": [
             56,
             25475,
             683,
             16811,
             4479,
             2442,
             926,
             36650,
             0,
             11827,
             145996,
             605329,
             2292,
             8068,
             254,
             7904,
             26870,
             2206,
             2407,
             100565,
             1239,
             43315,
             6786,
             322,
             1636,
             98995,
             235,
             249,
             5269,
             79895,
             48508,
             2267,
             301537
            ],
            "coloraxis": "coloraxis",
            "size": [
             2006,
             2006,
             2006,
             2006,
             2006,
             2006,
             2006,
             2006,
             2006,
             2006,
             2006,
             2006,
             2006,
             2006,
             2006,
             2006,
             2006,
             2006,
             2006,
             2006,
             2006,
             2006,
             2006,
             2006,
             2006,
             2006,
             2006,
             2006,
             2006,
             2006,
             2006,
             2006,
             2006
            ],
            "sizemode": "area",
            "sizeref": 20.17,
            "symbol": "circle"
           },
           "mode": "markers",
           "name": "",
           "showlegend": false,
           "type": "scattergeo"
          }
         ],
         "name": "2006"
        },
        {
         "data": [
          {
           "customdata": [
            [
             68,
             41.153332,
             20.168331
            ],
            [
             30767,
             47.516231,
             14.550072
            ],
            [
             643,
             53.709807,
             27.953389
            ],
            [
             17578,
             50.503887,
             4.469936
            ],
            [
             4808,
             42.733883,
             25.48583
            ],
            [
             1641,
             45.1,
             15.2
            ],
            [
             1194,
             35.126413,
             33.429859
            ],
            [
             26779,
             56.26392,
             9.501785
            ],
            [
             6,
             58.595272,
             25.013607
            ],
            [
             6201,
             61.92411,
             25.748151
            ],
            [
             151789,
             46.227638,
             2.213749
            ],
            [
             578866,
             51.165691,
             10.451526
            ],
            [
             2228,
             39.074208,
             21.824312
            ],
            [
             8124,
             47.162494,
             19.503304
            ],
            [
             41,
             64.963051,
             -19.020835
            ],
            [
             9318,
             53.41291,
             -8.24389
            ],
            [
             38061,
             41.87194,
             12.56738
            ],
            [
             2737,
             49.815273,
             6.129583
            ],
            [
             3003,
             35.937496,
             14.375416
            ],
            [
             86576,
             52.132633,
             5.291266
            ],
            [
             1234,
             41.608635,
             21.745275
            ],
            [
             34499,
             60.472024,
             8.468946
            ],
            [
             10037,
             51.919438,
             19.145136
            ],
            [
             346,
             39.399872,
             -8.224454
            ],
            [
             1741,
             45.943161,
             24.96676
            ],
            [
             97991,
             44.016521,
             21.005859
            ],
            [
             265,
             48.669026,
             19.699024
            ],
            [
             255,
             46.151241,
             14.995463
            ],
            [
             5143,
             40.463667,
             -3.74922
            ],
            [
             75055,
             60.128161,
             18.643501
            ],
            [
             45642,
             46.818188,
             8.227512
            ],
            [
             7272,
             48.379433,
             31.16558
            ],
            [
             299701,
             55.378051,
             -3.435973
            ]
           ],
           "geo": "geo",
           "hovertemplate": "<b>%{hovertext}</b><br><br>Year=%{marker.size}<br>Refugees under UNHCR's mandate=%{marker.color}<extra></extra>",
           "hovertext": [
            "Albania",
            "Austria",
            "Belarus",
            "Belgium",
            "Bulgaria",
            "Croatia",
            "Cyprus",
            "Denmark",
            "Estonia",
            "Finland",
            "France",
            "Germany",
            "Greece",
            "Hungary",
            "Iceland",
            "Ireland",
            "Italy",
            "Luxembourg",
            "Malta",
            "Netherlands",
            "North Macedonia",
            "Norway",
            "Poland",
            "Portugal",
            "Romania",
            "Serbia",
            "Slovakia",
            "Slovenia",
            "Spain",
            "Sweden",
            "Switzerland",
            "Ukraine",
            "United Kingdom"
           ],
           "lat": [
            41.153332,
            47.516231,
            53.709807,
            50.503887,
            42.733883,
            45.1,
            35.126413,
            56.26392,
            58.595272,
            61.92411,
            46.227638,
            51.165691,
            39.074208,
            47.162494,
            64.963051,
            53.41291,
            41.87194,
            49.815273,
            35.937496,
            52.132633,
            41.608635,
            60.472024,
            51.919438,
            39.399872,
            45.943161,
            44.016521,
            48.669026,
            46.151241,
            40.463667,
            60.128161,
            46.818188,
            48.379433,
            55.378051
           ],
           "legendgroup": "",
           "lon": [
            20.168331,
            14.550072,
            27.953389,
            4.469936,
            25.48583,
            15.2,
            33.429859,
            9.501785,
            25.013607,
            25.748151,
            2.213749,
            10.451526,
            21.824312,
            19.503304,
            -19.020835,
            -8.24389,
            12.56738,
            6.129583,
            14.375416,
            5.291266,
            21.745275,
            8.468946,
            19.145136,
            -8.224454,
            24.96676,
            21.005859,
            19.699024,
            14.995463,
            -3.74922,
            18.643501,
            8.227512,
            31.16558,
            -3.435973
           ],
           "marker": {
            "color": [
             68,
             30767,
             643,
             17578,
             4808,
             1641,
             1194,
             26779,
             6,
             6201,
             151789,
             578866,
             2228,
             8124,
             41,
             9318,
             38061,
             2737,
             3003,
             86576,
             1234,
             34499,
             10037,
             346,
             1741,
             97991,
             265,
             255,
             5143,
             75055,
             45642,
             7272,
             299701
            ],
            "coloraxis": "coloraxis",
            "size": [
             2007,
             2007,
             2007,
             2007,
             2007,
             2007,
             2007,
             2007,
             2007,
             2007,
             2007,
             2007,
             2007,
             2007,
             2007,
             2007,
             2007,
             2007,
             2007,
             2007,
             2007,
             2007,
             2007,
             2007,
             2007,
             2007,
             2007,
             2007,
             2007,
             2007,
             2007,
             2007,
             2007
            ],
            "sizemode": "area",
            "sizeref": 20.17,
            "symbol": "circle"
           },
           "mode": "markers",
           "name": "",
           "showlegend": false,
           "type": "scattergeo"
          }
         ],
         "name": "2007"
        },
        {
         "data": [
          {
           "customdata": [
            [
             57,
             41.153332,
             20.168331
            ],
            [
             37546,
             47.516231,
             14.550072
            ],
            [
             602,
             53.709807,
             27.953389
            ],
            [
             17025,
             50.503887,
             4.469936
            ],
            [
             5108,
             42.733883,
             25.48583
            ],
            [
             1591,
             45.1,
             15.2
            ],
            [
             1458,
             35.126413,
             33.429859
            ],
            [
             23385,
             56.26392,
             9.501785
            ],
            [
             16,
             58.595272,
             25.013607
            ],
            [
             6621,
             61.92411,
             25.748151
            ],
            [
             171206,
             46.227638,
             2.213749
            ],
            [
             582719,
             51.165691,
             10.451526
            ],
            [
             2169,
             39.074208,
             21.824312
            ],
            [
             7740,
             47.162494,
             19.503304
            ],
            [
             39,
             64.963051,
             -19.020835
            ],
            [
             9714,
             53.41291,
             -8.24389
            ],
            [
             47059,
             41.87194,
             12.56738
            ],
            [
             3109,
             49.815273,
             6.129583
            ],
            [
             4329,
             35.937496,
             14.375416
            ],
            [
             77589,
             52.132633,
             5.291266
            ],
            [
             1671,
             41.608635,
             21.745275
            ],
            [
             36076,
             60.472024,
             8.468946
            ],
            [
             12761,
             51.919438,
             19.145136
            ],
            [
             393,
             39.399872,
             -8.224454
            ],
            [
             1586,
             45.943161,
             24.96676
            ],
            [
             96735,
             44.016521,
             21.005859
            ],
            [
             301,
             48.669026,
             19.699024
            ],
            [
             257,
             46.151241,
             14.995463
            ],
            [
             4649,
             40.463667,
             -3.74922
            ],
            [
             77016,
             60.128161,
             18.643501
            ],
            [
             46131,
             46.818188,
             8.227512
            ],
            [
             7189,
             48.379433,
             31.16558
            ],
            [
             292081,
             55.378051,
             -3.435973
            ]
           ],
           "geo": "geo",
           "hovertemplate": "<b>%{hovertext}</b><br><br>Year=%{marker.size}<br>Refugees under UNHCR's mandate=%{marker.color}<extra></extra>",
           "hovertext": [
            "Albania",
            "Austria",
            "Belarus",
            "Belgium",
            "Bulgaria",
            "Croatia",
            "Cyprus",
            "Denmark",
            "Estonia",
            "Finland",
            "France",
            "Germany",
            "Greece",
            "Hungary",
            "Iceland",
            "Ireland",
            "Italy",
            "Luxembourg",
            "Malta",
            "Netherlands",
            "North Macedonia",
            "Norway",
            "Poland",
            "Portugal",
            "Romania",
            "Serbia",
            "Slovakia",
            "Slovenia",
            "Spain",
            "Sweden",
            "Switzerland",
            "Ukraine",
            "United Kingdom"
           ],
           "lat": [
            41.153332,
            47.516231,
            53.709807,
            50.503887,
            42.733883,
            45.1,
            35.126413,
            56.26392,
            58.595272,
            61.92411,
            46.227638,
            51.165691,
            39.074208,
            47.162494,
            64.963051,
            53.41291,
            41.87194,
            49.815273,
            35.937496,
            52.132633,
            41.608635,
            60.472024,
            51.919438,
            39.399872,
            45.943161,
            44.016521,
            48.669026,
            46.151241,
            40.463667,
            60.128161,
            46.818188,
            48.379433,
            55.378051
           ],
           "legendgroup": "",
           "lon": [
            20.168331,
            14.550072,
            27.953389,
            4.469936,
            25.48583,
            15.2,
            33.429859,
            9.501785,
            25.013607,
            25.748151,
            2.213749,
            10.451526,
            21.824312,
            19.503304,
            -19.020835,
            -8.24389,
            12.56738,
            6.129583,
            14.375416,
            5.291266,
            21.745275,
            8.468946,
            19.145136,
            -8.224454,
            24.96676,
            21.005859,
            19.699024,
            14.995463,
            -3.74922,
            18.643501,
            8.227512,
            31.16558,
            -3.435973
           ],
           "marker": {
            "color": [
             57,
             37546,
             602,
             17025,
             5108,
             1591,
             1458,
             23385,
             16,
             6621,
             171206,
             582719,
             2169,
             7740,
             39,
             9714,
             47059,
             3109,
             4329,
             77589,
             1671,
             36076,
             12761,
             393,
             1586,
             96735,
             301,
             257,
             4649,
             77016,
             46131,
             7189,
             292081
            ],
            "coloraxis": "coloraxis",
            "size": [
             2008,
             2008,
             2008,
             2008,
             2008,
             2008,
             2008,
             2008,
             2008,
             2008,
             2008,
             2008,
             2008,
             2008,
             2008,
             2008,
             2008,
             2008,
             2008,
             2008,
             2008,
             2008,
             2008,
             2008,
             2008,
             2008,
             2008,
             2008,
             2008,
             2008,
             2008,
             2008,
             2008
            ],
            "sizemode": "area",
            "sizeref": 20.17,
            "symbol": "circle"
           },
           "mode": "markers",
           "name": "",
           "showlegend": false,
           "type": "scattergeo"
          }
         ],
         "name": "2008"
        },
        {
         "data": [
          {
           "customdata": [
            [
             69,
             41.153332,
             20.168331
            ],
            [
             38895,
             47.516231,
             14.550072
            ],
            [
             578,
             53.709807,
             27.953389
            ],
            [
             15536,
             50.503887,
             4.469936
            ],
            [
             5375,
             42.733883,
             25.48583
            ],
            [
             1240,
             45.1,
             15.2
            ],
            [
             2888,
             35.126413,
             33.429859
            ],
            [
             20340,
             56.26392,
             9.501785
            ],
            [
             16,
             58.595272,
             25.013607
            ],
            [
             7448,
             61.92411,
             25.748151
            ],
            [
             196364,
             46.227638,
             2.213749
            ],
            [
             593787,
             51.165691,
             10.451526
            ],
            [
             1700,
             39.074208,
             21.824312
            ],
            [
             6041,
             47.162494,
             19.503304
            ],
            [
             58,
             64.963051,
             -19.020835
            ],
            [
             9561,
             53.41291,
             -8.24389
            ],
            [
             54962,
             41.87194,
             12.56738
            ],
            [
             3230,
             49.815273,
             6.129583
            ],
            [
             5951,
             35.937496,
             14.375416
            ],
            [
             75996,
             52.132633,
             5.291266
            ],
            [
             1541,
             41.608635,
             21.745275
            ],
            [
             37806,
             60.472024,
             8.468946
            ],
            [
             15299,
             51.919438,
             19.145136
            ],
            [
             383,
             39.399872,
             -8.224454
            ],
            [
             1065,
             45.943161,
             24.96676
            ],
            [
             86348,
             44.016521,
             21.005859
            ],
            [
             387,
             48.669026,
             19.699024
            ],
            [
             281,
             46.151241,
             14.995463
            ],
            [
             3960,
             40.463667,
             -3.74922
            ],
            [
             81346,
             60.128161,
             18.643501
            ],
            [
             46204,
             46.818188,
             8.227512
            ],
            [
             7321,
             48.379433,
             31.16558
            ],
            [
             269355,
             55.378051,
             -3.435973
            ]
           ],
           "geo": "geo",
           "hovertemplate": "<b>%{hovertext}</b><br><br>Year=%{marker.size}<br>Refugees under UNHCR's mandate=%{marker.color}<extra></extra>",
           "hovertext": [
            "Albania",
            "Austria",
            "Belarus",
            "Belgium",
            "Bulgaria",
            "Croatia",
            "Cyprus",
            "Denmark",
            "Estonia",
            "Finland",
            "France",
            "Germany",
            "Greece",
            "Hungary",
            "Iceland",
            "Ireland",
            "Italy",
            "Luxembourg",
            "Malta",
            "Netherlands",
            "North Macedonia",
            "Norway",
            "Poland",
            "Portugal",
            "Romania",
            "Serbia",
            "Slovakia",
            "Slovenia",
            "Spain",
            "Sweden",
            "Switzerland",
            "Ukraine",
            "United Kingdom"
           ],
           "lat": [
            41.153332,
            47.516231,
            53.709807,
            50.503887,
            42.733883,
            45.1,
            35.126413,
            56.26392,
            58.595272,
            61.92411,
            46.227638,
            51.165691,
            39.074208,
            47.162494,
            64.963051,
            53.41291,
            41.87194,
            49.815273,
            35.937496,
            52.132633,
            41.608635,
            60.472024,
            51.919438,
            39.399872,
            45.943161,
            44.016521,
            48.669026,
            46.151241,
            40.463667,
            60.128161,
            46.818188,
            48.379433,
            55.378051
           ],
           "legendgroup": "",
           "lon": [
            20.168331,
            14.550072,
            27.953389,
            4.469936,
            25.48583,
            15.2,
            33.429859,
            9.501785,
            25.013607,
            25.748151,
            2.213749,
            10.451526,
            21.824312,
            19.503304,
            -19.020835,
            -8.24389,
            12.56738,
            6.129583,
            14.375416,
            5.291266,
            21.745275,
            8.468946,
            19.145136,
            -8.224454,
            24.96676,
            21.005859,
            19.699024,
            14.995463,
            -3.74922,
            18.643501,
            8.227512,
            31.16558,
            -3.435973
           ],
           "marker": {
            "color": [
             69,
             38895,
             578,
             15536,
             5375,
             1240,
             2888,
             20340,
             16,
             7448,
             196364,
             593787,
             1700,
             6041,
             58,
             9561,
             54962,
             3230,
             5951,
             75996,
             1541,
             37806,
             15299,
             383,
             1065,
             86348,
             387,
             281,
             3960,
             81346,
             46204,
             7321,
             269355
            ],
            "coloraxis": "coloraxis",
            "size": [
             2009,
             2009,
             2009,
             2009,
             2009,
             2009,
             2009,
             2009,
             2009,
             2009,
             2009,
             2009,
             2009,
             2009,
             2009,
             2009,
             2009,
             2009,
             2009,
             2009,
             2009,
             2009,
             2009,
             2009,
             2009,
             2009,
             2009,
             2009,
             2009,
             2009,
             2009,
             2009,
             2009
            ],
            "sizemode": "area",
            "sizeref": 20.17,
            "symbol": "circle"
           },
           "mode": "markers",
           "name": "",
           "showlegend": false,
           "type": "scattergeo"
          }
         ],
         "name": "2009"
        },
        {
         "data": [
          {
           "customdata": [
            [
             75,
             41.153332,
             20.168331
            ],
            [
             42613,
             47.516231,
             14.550072
            ],
            [
             587,
             53.709807,
             27.953389
            ],
            [
             17891,
             50.503887,
             4.469936
            ],
            [
             5519,
             42.733883,
             25.48583
            ],
            [
             933,
             45.1,
             15.2
            ],
            [
             3397,
             35.126413,
             33.429859
            ],
            [
             17907,
             56.26392,
             9.501785
            ],
            [
             31,
             58.595272,
             25.013607
            ],
            [
             8721,
             61.92411,
             25.748151
            ],
            [
             200687,
             46.227638,
             2.213749
            ],
            [
             594250,
             51.165691,
             10.451526
            ],
            [
             1443,
             39.074208,
             21.824312
            ],
            [
             5400,
             47.162494,
             19.503304
            ],
            [
             72,
             64.963051,
             -19.020835
            ],
            [
             9099,
             53.41291,
             -8.24389
            ],
            [
             56402,
             41.87194,
             12.56738
            ],
            [
             3254,
             49.815273,
             6.129583
            ],
            [
             6143,
             35.937496,
             14.375416
            ],
            [
             74948,
             52.132633,
             5.291266
            ],
            [
             1397,
             41.608635,
             21.745275
            ],
            [
             40245,
             60.472024,
             8.468946
            ],
            [
             15537,
             51.919438,
             19.145136
            ],
            [
             368,
             39.399872,
             -8.224454
            ],
            [
             1019,
             45.943161,
             24.96676
            ],
            [
             73604,
             44.016521,
             21.005859
            ],
            [
             451,
             48.669026,
             19.699024
            ],
            [
             315,
             46.151241,
             14.995463
            ],
            [
             3814,
             40.463667,
             -3.74922
            ],
            [
             82620,
             60.128161,
             18.643501
            ],
            [
             48813,
             46.818188,
             8.227512
            ],
            [
             3016,
             48.379433,
             31.16558
            ],
            [
             238133,
             55.378051,
             -3.435973
            ]
           ],
           "geo": "geo",
           "hovertemplate": "<b>%{hovertext}</b><br><br>Year=%{marker.size}<br>Refugees under UNHCR's mandate=%{marker.color}<extra></extra>",
           "hovertext": [
            "Albania",
            "Austria",
            "Belarus",
            "Belgium",
            "Bulgaria",
            "Croatia",
            "Cyprus",
            "Denmark",
            "Estonia",
            "Finland",
            "France",
            "Germany",
            "Greece",
            "Hungary",
            "Iceland",
            "Ireland",
            "Italy",
            "Luxembourg",
            "Malta",
            "Netherlands",
            "North Macedonia",
            "Norway",
            "Poland",
            "Portugal",
            "Romania",
            "Serbia",
            "Slovakia",
            "Slovenia",
            "Spain",
            "Sweden",
            "Switzerland",
            "Ukraine",
            "United Kingdom"
           ],
           "lat": [
            41.153332,
            47.516231,
            53.709807,
            50.503887,
            42.733883,
            45.1,
            35.126413,
            56.26392,
            58.595272,
            61.92411,
            46.227638,
            51.165691,
            39.074208,
            47.162494,
            64.963051,
            53.41291,
            41.87194,
            49.815273,
            35.937496,
            52.132633,
            41.608635,
            60.472024,
            51.919438,
            39.399872,
            45.943161,
            44.016521,
            48.669026,
            46.151241,
            40.463667,
            60.128161,
            46.818188,
            48.379433,
            55.378051
           ],
           "legendgroup": "",
           "lon": [
            20.168331,
            14.550072,
            27.953389,
            4.469936,
            25.48583,
            15.2,
            33.429859,
            9.501785,
            25.013607,
            25.748151,
            2.213749,
            10.451526,
            21.824312,
            19.503304,
            -19.020835,
            -8.24389,
            12.56738,
            6.129583,
            14.375416,
            5.291266,
            21.745275,
            8.468946,
            19.145136,
            -8.224454,
            24.96676,
            21.005859,
            19.699024,
            14.995463,
            -3.74922,
            18.643501,
            8.227512,
            31.16558,
            -3.435973
           ],
           "marker": {
            "color": [
             75,
             42613,
             587,
             17891,
             5519,
             933,
             3397,
             17907,
             31,
             8721,
             200687,
             594250,
             1443,
             5400,
             72,
             9099,
             56402,
             3254,
             6143,
             74948,
             1397,
             40245,
             15537,
             368,
             1019,
             73604,
             451,
             315,
             3814,
             82620,
             48813,
             3016,
             238133
            ],
            "coloraxis": "coloraxis",
            "size": [
             2010,
             2010,
             2010,
             2010,
             2010,
             2010,
             2010,
             2010,
             2010,
             2010,
             2010,
             2010,
             2010,
             2010,
             2010,
             2010,
             2010,
             2010,
             2010,
             2010,
             2010,
             2010,
             2010,
             2010,
             2010,
             2010,
             2010,
             2010,
             2010,
             2010,
             2010,
             2010,
             2010
            ],
            "sizemode": "area",
            "sizeref": 20.17,
            "symbol": "circle"
           },
           "mode": "markers",
           "name": "",
           "showlegend": false,
           "type": "scattergeo"
          }
         ],
         "name": "2010"
        },
        {
         "data": [
          {
           "customdata": [
            [
             79,
             41.153332,
             20.168331
            ],
            [
             47055,
             47.516231,
             14.550072
            ],
            [
             594,
             53.709807,
             27.953389
            ],
            [
             22396,
             50.503887,
             4.469936
            ],
            [
             5676,
             42.733883,
             25.48583
            ],
            [
             818,
             45.1,
             15.2
            ],
            [
             3498,
             35.126413,
             33.429859
            ],
            [
             13386,
             56.26392,
             9.501785
            ],
            [
             34,
             58.595272,
             25.013607
            ],
            [
             9170,
             61.92411,
             25.748151
            ],
            [
             210207,
             46.227638,
             2.213749
            ],
            [
             571672,
             51.165691,
             10.451526
            ],
            [
             1566,
             39.074208,
             21.824312
            ],
            [
             5085,
             47.162494,
             19.503304
            ],
            [
             55,
             64.963051,
             -19.020835
            ],
            [
             8234,
             53.41291,
             -8.24389
            ],
            [
             58066,
             41.87194,
             12.56738
            ],
            [
             2855,
             49.815273,
             6.129583
            ],
            [
             6948,
             35.937496,
             14.375416
            ],
            [
             74587,
             52.132633,
             5.291266
            ],
            [
             1129,
             41.608635,
             21.745275
            ],
            [
             40671,
             60.472024,
             8.468946
            ],
            [
             15834,
             51.919438,
             19.145136
            ],
            [
             399,
             39.399872,
             -8.224454
            ],
            [
             1003,
             45.943161,
             24.96676
            ],
            [
             70702,
             44.016521,
             21.005859
            ],
            [
             535,
             48.669026,
             19.699024
            ],
            [
             134,
             46.151241,
             14.995463
            ],
            [
             4220,
             40.463667,
             -3.74922
            ],
            [
             86603,
             60.128161,
             18.643501
            ],
            [
             50401,
             46.818188,
             8.227512
            ],
            [
             3168,
             48.379433,
             31.16558
            ],
            [
             193494,
             55.378051,
             -3.435973
            ]
           ],
           "geo": "geo",
           "hovertemplate": "<b>%{hovertext}</b><br><br>Year=%{marker.size}<br>Refugees under UNHCR's mandate=%{marker.color}<extra></extra>",
           "hovertext": [
            "Albania",
            "Austria",
            "Belarus",
            "Belgium",
            "Bulgaria",
            "Croatia",
            "Cyprus",
            "Denmark",
            "Estonia",
            "Finland",
            "France",
            "Germany",
            "Greece",
            "Hungary",
            "Iceland",
            "Ireland",
            "Italy",
            "Luxembourg",
            "Malta",
            "Netherlands",
            "North Macedonia",
            "Norway",
            "Poland",
            "Portugal",
            "Romania",
            "Serbia",
            "Slovakia",
            "Slovenia",
            "Spain",
            "Sweden",
            "Switzerland",
            "Ukraine",
            "United Kingdom"
           ],
           "lat": [
            41.153332,
            47.516231,
            53.709807,
            50.503887,
            42.733883,
            45.1,
            35.126413,
            56.26392,
            58.595272,
            61.92411,
            46.227638,
            51.165691,
            39.074208,
            47.162494,
            64.963051,
            53.41291,
            41.87194,
            49.815273,
            35.937496,
            52.132633,
            41.608635,
            60.472024,
            51.919438,
            39.399872,
            45.943161,
            44.016521,
            48.669026,
            46.151241,
            40.463667,
            60.128161,
            46.818188,
            48.379433,
            55.378051
           ],
           "legendgroup": "",
           "lon": [
            20.168331,
            14.550072,
            27.953389,
            4.469936,
            25.48583,
            15.2,
            33.429859,
            9.501785,
            25.013607,
            25.748151,
            2.213749,
            10.451526,
            21.824312,
            19.503304,
            -19.020835,
            -8.24389,
            12.56738,
            6.129583,
            14.375416,
            5.291266,
            21.745275,
            8.468946,
            19.145136,
            -8.224454,
            24.96676,
            21.005859,
            19.699024,
            14.995463,
            -3.74922,
            18.643501,
            8.227512,
            31.16558,
            -3.435973
           ],
           "marker": {
            "color": [
             79,
             47055,
             594,
             22396,
             5676,
             818,
             3498,
             13386,
             34,
             9170,
             210207,
             571672,
             1566,
             5085,
             55,
             8234,
             58066,
             2855,
             6948,
             74587,
             1129,
             40671,
             15834,
             399,
             1003,
             70702,
             535,
             134,
             4220,
             86603,
             50401,
             3168,
             193494
            ],
            "coloraxis": "coloraxis",
            "size": [
             2011,
             2011,
             2011,
             2011,
             2011,
             2011,
             2011,
             2011,
             2011,
             2011,
             2011,
             2011,
             2011,
             2011,
             2011,
             2011,
             2011,
             2011,
             2011,
             2011,
             2011,
             2011,
             2011,
             2011,
             2011,
             2011,
             2011,
             2011,
             2011,
             2011,
             2011,
             2011,
             2011
            ],
            "sizemode": "area",
            "sizeref": 20.17,
            "symbol": "circle"
           },
           "mode": "markers",
           "name": "",
           "showlegend": false,
           "type": "scattergeo"
          }
         ],
         "name": "2011"
        },
        {
         "data": [
          {
           "customdata": [
            [
             84,
             41.153332,
             20.168331
            ],
            [
             51707,
             47.516231,
             14.550072
            ],
            [
             572,
             53.709807,
             27.953389
            ],
            [
             22023,
             50.503887,
             4.469936
            ],
            [
             2273,
             42.733883,
             25.48583
            ],
            [
             722,
             45.1,
             15.2
            ],
            [
             3627,
             35.126413,
             33.429859
            ],
            [
             11797,
             56.26392,
             9.501785
            ],
            [
             48,
             58.595272,
             25.013607
            ],
            [
             9910,
             61.92411,
             25.748151
            ],
            [
             217865,
             46.227638,
             2.213749
            ],
            [
             589735,
             51.165691,
             10.451526
            ],
            [
             2090,
             39.074208,
             21.824312
            ],
            [
             4034,
             47.162494,
             19.503304
            ],
            [
             55,
             64.963051,
             -19.020835
            ],
            [
             6309,
             53.41291,
             -8.24389
            ],
            [
             64782,
             41.87194,
             12.56738
            ],
            [
             2910,
             49.815273,
             6.129583
            ],
            [
             8242,
             35.937496,
             14.375416
            ],
            [
             71893,
             52.132633,
             5.291266
            ],
            [
             1076,
             41.608635,
             21.745275
            ],
            [
             42805,
             60.472024,
             8.468946
            ],
            [
             15897,
             51.919438,
             19.145136
            ],
            [
             473,
             39.399872,
             -8.224454
            ],
            [
             1263,
             45.943161,
             24.96676
            ],
            [
             66367,
             44.016521,
             21.005859
            ],
            [
             650,
             48.669026,
             19.699024
            ],
            [
             169,
             46.151241,
             14.995463
            ],
            [
             4502,
             40.463667,
             -3.74922
            ],
            [
             92869,
             60.128161,
             18.643501
            ],
            [
             50733,
             46.818188,
             8.227512
            ],
            [
             2790,
             48.379433,
             31.16558
            ],
            [
             149790,
             55.378051,
             -3.435973
            ]
           ],
           "geo": "geo",
           "hovertemplate": "<b>%{hovertext}</b><br><br>Year=%{marker.size}<br>Refugees under UNHCR's mandate=%{marker.color}<extra></extra>",
           "hovertext": [
            "Albania",
            "Austria",
            "Belarus",
            "Belgium",
            "Bulgaria",
            "Croatia",
            "Cyprus",
            "Denmark",
            "Estonia",
            "Finland",
            "France",
            "Germany",
            "Greece",
            "Hungary",
            "Iceland",
            "Ireland",
            "Italy",
            "Luxembourg",
            "Malta",
            "Netherlands",
            "North Macedonia",
            "Norway",
            "Poland",
            "Portugal",
            "Romania",
            "Serbia",
            "Slovakia",
            "Slovenia",
            "Spain",
            "Sweden",
            "Switzerland",
            "Ukraine",
            "United Kingdom"
           ],
           "lat": [
            41.153332,
            47.516231,
            53.709807,
            50.503887,
            42.733883,
            45.1,
            35.126413,
            56.26392,
            58.595272,
            61.92411,
            46.227638,
            51.165691,
            39.074208,
            47.162494,
            64.963051,
            53.41291,
            41.87194,
            49.815273,
            35.937496,
            52.132633,
            41.608635,
            60.472024,
            51.919438,
            39.399872,
            45.943161,
            44.016521,
            48.669026,
            46.151241,
            40.463667,
            60.128161,
            46.818188,
            48.379433,
            55.378051
           ],
           "legendgroup": "",
           "lon": [
            20.168331,
            14.550072,
            27.953389,
            4.469936,
            25.48583,
            15.2,
            33.429859,
            9.501785,
            25.013607,
            25.748151,
            2.213749,
            10.451526,
            21.824312,
            19.503304,
            -19.020835,
            -8.24389,
            12.56738,
            6.129583,
            14.375416,
            5.291266,
            21.745275,
            8.468946,
            19.145136,
            -8.224454,
            24.96676,
            21.005859,
            19.699024,
            14.995463,
            -3.74922,
            18.643501,
            8.227512,
            31.16558,
            -3.435973
           ],
           "marker": {
            "color": [
             84,
             51707,
             572,
             22023,
             2273,
             722,
             3627,
             11797,
             48,
             9910,
             217865,
             589735,
             2090,
             4034,
             55,
             6309,
             64782,
             2910,
             8242,
             71893,
             1076,
             42805,
             15897,
             473,
             1263,
             66367,
             650,
             169,
             4502,
             92869,
             50733,
             2790,
             149790
            ],
            "coloraxis": "coloraxis",
            "size": [
             2012,
             2012,
             2012,
             2012,
             2012,
             2012,
             2012,
             2012,
             2012,
             2012,
             2012,
             2012,
             2012,
             2012,
             2012,
             2012,
             2012,
             2012,
             2012,
             2012,
             2012,
             2012,
             2012,
             2012,
             2012,
             2012,
             2012,
             2012,
             2012,
             2012,
             2012,
             2012,
             2012
            ],
            "sizemode": "area",
            "sizeref": 20.17,
            "symbol": "circle"
           },
           "mode": "markers",
           "name": "",
           "showlegend": false,
           "type": "scattergeo"
          }
         ],
         "name": "2012"
        },
        {
         "data": [
          {
           "customdata": [
            [
             96,
             41.153332,
             20.168331
            ],
            [
             55575,
             47.516231,
             14.550072
            ],
            [
             599,
             53.709807,
             27.953389
            ],
            [
             25617,
             50.503887,
             4.469936
            ],
            [
             4305,
             42.733883,
             25.48583
            ],
            [
             679,
             45.1,
             15.2
            ],
            [
             3879,
             35.126413,
             33.429859
            ],
            [
             13153,
             56.26392,
             9.501785
            ],
            [
             52,
             58.595272,
             25.013607
            ],
            [
             11242,
             61.92411,
             25.748151
            ],
            [
             232487,
             46.227638,
             2.213749
            ],
            [
             187545,
             51.165691,
             10.451526
            ],
            [
             3468,
             39.074208,
             21.824312
            ],
            [
             2422,
             47.162494,
             19.503304
            ],
            [
             72,
             64.963051,
             -19.020835
            ],
            [
             5991,
             53.41291,
             -8.24389
            ],
            [
             76248,
             41.87194,
             12.56738
            ],
            [
             901,
             49.815273,
             6.129583
            ],
            [
             9900,
             35.937496,
             14.375416
            ],
            [
             74700,
             52.132633,
             5.291266
            ],
            [
             980,
             41.608635,
             21.745275
            ],
            [
             46088,
             60.472024,
             8.468946
            ],
            [
             16428,
             51.919438,
             19.145136
            ],
            [
             596,
             39.399872,
             -8.224454
            ],
            [
             1747,
             45.943161,
             24.96676
            ],
            [
             57079,
             44.016521,
             21.005859
            ],
            [
             691,
             48.669026,
             19.699024
            ],
            [
             202,
             46.151241,
             14.995463
            ],
            [
             4641,
             40.463667,
             -3.74922
            ],
            [
             114172,
             60.128161,
             18.643501
            ],
            [
             52448,
             46.818188,
             8.227512
            ],
            [
             2956,
             48.379433,
             31.16558
            ],
            [
             126036,
             55.378051,
             -3.435973
            ]
           ],
           "geo": "geo",
           "hovertemplate": "<b>%{hovertext}</b><br><br>Year=%{marker.size}<br>Refugees under UNHCR's mandate=%{marker.color}<extra></extra>",
           "hovertext": [
            "Albania",
            "Austria",
            "Belarus",
            "Belgium",
            "Bulgaria",
            "Croatia",
            "Cyprus",
            "Denmark",
            "Estonia",
            "Finland",
            "France",
            "Germany",
            "Greece",
            "Hungary",
            "Iceland",
            "Ireland",
            "Italy",
            "Luxembourg",
            "Malta",
            "Netherlands",
            "North Macedonia",
            "Norway",
            "Poland",
            "Portugal",
            "Romania",
            "Serbia",
            "Slovakia",
            "Slovenia",
            "Spain",
            "Sweden",
            "Switzerland",
            "Ukraine",
            "United Kingdom"
           ],
           "lat": [
            41.153332,
            47.516231,
            53.709807,
            50.503887,
            42.733883,
            45.1,
            35.126413,
            56.26392,
            58.595272,
            61.92411,
            46.227638,
            51.165691,
            39.074208,
            47.162494,
            64.963051,
            53.41291,
            41.87194,
            49.815273,
            35.937496,
            52.132633,
            41.608635,
            60.472024,
            51.919438,
            39.399872,
            45.943161,
            44.016521,
            48.669026,
            46.151241,
            40.463667,
            60.128161,
            46.818188,
            48.379433,
            55.378051
           ],
           "legendgroup": "",
           "lon": [
            20.168331,
            14.550072,
            27.953389,
            4.469936,
            25.48583,
            15.2,
            33.429859,
            9.501785,
            25.013607,
            25.748151,
            2.213749,
            10.451526,
            21.824312,
            19.503304,
            -19.020835,
            -8.24389,
            12.56738,
            6.129583,
            14.375416,
            5.291266,
            21.745275,
            8.468946,
            19.145136,
            -8.224454,
            24.96676,
            21.005859,
            19.699024,
            14.995463,
            -3.74922,
            18.643501,
            8.227512,
            31.16558,
            -3.435973
           ],
           "marker": {
            "color": [
             96,
             55575,
             599,
             25617,
             4305,
             679,
             3879,
             13153,
             52,
             11242,
             232487,
             187545,
             3468,
             2422,
             72,
             5991,
             76248,
             901,
             9900,
             74700,
             980,
             46088,
             16428,
             596,
             1747,
             57079,
             691,
             202,
             4641,
             114172,
             52448,
             2956,
             126036
            ],
            "coloraxis": "coloraxis",
            "size": [
             2013,
             2013,
             2013,
             2013,
             2013,
             2013,
             2013,
             2013,
             2013,
             2013,
             2013,
             2013,
             2013,
             2013,
             2013,
             2013,
             2013,
             2013,
             2013,
             2013,
             2013,
             2013,
             2013,
             2013,
             2013,
             2013,
             2013,
             2013,
             2013,
             2013,
             2013,
             2013,
             2013
            ],
            "sizemode": "area",
            "sizeref": 20.17,
            "symbol": "circle"
           },
           "mode": "markers",
           "name": "",
           "showlegend": false,
           "type": "scattergeo"
          }
         ],
         "name": "2013"
        },
        {
         "data": [
          {
           "customdata": [
            [
             111,
             41.153332,
             20.168331
            ],
            [
             60724,
             47.516231,
             14.550072
            ],
            [
             919,
             53.709807,
             27.953389
            ],
            [
             29170,
             50.503887,
             4.469936
            ],
            [
             11026,
             42.733883,
             25.48583
            ],
            [
             724,
             45.1,
             15.2
            ],
            [
             5120,
             35.126413,
             33.429859
            ],
            [
             17767,
             56.26392,
             9.501785
            ],
            [
             82,
             58.595272,
             25.013607
            ],
            [
             11783,
             61.92411,
             25.748151
            ],
            [
             252248,
             46.227638,
             2.213749
            ],
            [
             216956,
             51.165691,
             10.451526
            ],
            [
             10292,
             39.074208,
             21.824312
            ],
            [
             2854,
             47.162494,
             19.503304
            ],
            [
             93,
             64.963051,
             -19.020835
            ],
            [
             5832,
             53.41291,
             -8.24389
            ],
            [
             93712,
             41.87194,
             12.56738
            ],
            [
             1091,
             49.815273,
             6.129583
            ],
            [
             6095,
             35.937496,
             14.375416
            ],
            [
             82483,
             52.132633,
             5.291266
            ],
            [
             880,
             41.608635,
             21.745275
            ],
            [
             47025,
             60.472024,
             8.468946
            ],
            [
             15730,
             51.919438,
             19.145136
            ],
            [
             704,
             39.399872,
             -8.224454
            ],
            [
             2171,
             45.943161,
             24.96676
            ],
            [
             43749,
             44.016521,
             21.005859
            ],
            [
             791,
             48.669026,
             19.699024
            ],
            [
             251,
             46.151241,
             14.995463
            ],
            [
             5797,
             40.463667,
             -3.74922
            ],
            [
             142197,
             60.128161,
             18.643501
            ],
            [
             62596,
             46.818188,
             8.227512
            ],
            [
             3206,
             48.379433,
             31.16558
            ],
            [
             117226,
             55.378051,
             -3.435973
            ]
           ],
           "geo": "geo",
           "hovertemplate": "<b>%{hovertext}</b><br><br>Year=%{marker.size}<br>Refugees under UNHCR's mandate=%{marker.color}<extra></extra>",
           "hovertext": [
            "Albania",
            "Austria",
            "Belarus",
            "Belgium",
            "Bulgaria",
            "Croatia",
            "Cyprus",
            "Denmark",
            "Estonia",
            "Finland",
            "France",
            "Germany",
            "Greece",
            "Hungary",
            "Iceland",
            "Ireland",
            "Italy",
            "Luxembourg",
            "Malta",
            "Netherlands",
            "North Macedonia",
            "Norway",
            "Poland",
            "Portugal",
            "Romania",
            "Serbia",
            "Slovakia",
            "Slovenia",
            "Spain",
            "Sweden",
            "Switzerland",
            "Ukraine",
            "United Kingdom"
           ],
           "lat": [
            41.153332,
            47.516231,
            53.709807,
            50.503887,
            42.733883,
            45.1,
            35.126413,
            56.26392,
            58.595272,
            61.92411,
            46.227638,
            51.165691,
            39.074208,
            47.162494,
            64.963051,
            53.41291,
            41.87194,
            49.815273,
            35.937496,
            52.132633,
            41.608635,
            60.472024,
            51.919438,
            39.399872,
            45.943161,
            44.016521,
            48.669026,
            46.151241,
            40.463667,
            60.128161,
            46.818188,
            48.379433,
            55.378051
           ],
           "legendgroup": "",
           "lon": [
            20.168331,
            14.550072,
            27.953389,
            4.469936,
            25.48583,
            15.2,
            33.429859,
            9.501785,
            25.013607,
            25.748151,
            2.213749,
            10.451526,
            21.824312,
            19.503304,
            -19.020835,
            -8.24389,
            12.56738,
            6.129583,
            14.375416,
            5.291266,
            21.745275,
            8.468946,
            19.145136,
            -8.224454,
            24.96676,
            21.005859,
            19.699024,
            14.995463,
            -3.74922,
            18.643501,
            8.227512,
            31.16558,
            -3.435973
           ],
           "marker": {
            "color": [
             111,
             60724,
             919,
             29170,
             11026,
             724,
             5120,
             17767,
             82,
             11783,
             252248,
             216956,
             10292,
             2854,
             93,
             5832,
             93712,
             1091,
             6095,
             82483,
             880,
             47025,
             15730,
             704,
             2171,
             43749,
             791,
             251,
             5797,
             142197,
             62596,
             3206,
             117226
            ],
            "coloraxis": "coloraxis",
            "size": [
             2014,
             2014,
             2014,
             2014,
             2014,
             2014,
             2014,
             2014,
             2014,
             2014,
             2014,
             2014,
             2014,
             2014,
             2014,
             2014,
             2014,
             2014,
             2014,
             2014,
             2014,
             2014,
             2014,
             2014,
             2014,
             2014,
             2014,
             2014,
             2014,
             2014,
             2014,
             2014,
             2014
            ],
            "sizemode": "area",
            "sizeref": 20.17,
            "symbol": "circle"
           },
           "mode": "markers",
           "name": "",
           "showlegend": false,
           "type": "scattergeo"
          }
         ],
         "name": "2014"
        },
        {
         "data": [
          {
           "customdata": [
            [
             109,
             41.153332,
             20.168331
            ],
            [
             72198,
             47.516231,
             14.550072
            ],
            [
             1805,
             53.709807,
             27.953389
            ],
            [
             35302,
             50.503887,
             4.469936
            ],
            [
             16543,
             42.733883,
             25.48583
            ],
            [
             517,
             45.1,
             15.2
            ],
            [
             7062,
             35.126413,
             33.429859
            ],
            [
             27312,
             56.26392,
             9.501785
            ],
            [
             158,
             58.595272,
             25.013607
            ],
            [
             12692,
             61.92411,
             25.748151
            ],
            [
             273117,
             46.227638,
             2.213749
            ],
            [
             316098,
             51.165691,
             10.451526
            ],
            [
             24831,
             39.074208,
             21.824312
            ],
            [
             4383,
             47.162494,
             19.503304
            ],
            [
             170,
             64.963051,
             -19.020835
            ],
            [
             6108,
             53.41291,
             -8.24389
            ],
            [
             118036,
             41.87194,
             12.56738
            ],
            [
             1306,
             49.815273,
             6.129583
            ],
            [
             7068,
             35.937496,
             14.375416
            ],
            [
             88518,
             52.132633,
             5.291266
            ],
            [
             697,
             41.608635,
             21.745275
            ],
            [
             50377,
             60.472024,
             8.468946
            ],
            [
             14057,
             51.919438,
             19.145136
            ],
            [
             851,
             39.399872,
             -8.224454
            ],
            [
             2581,
             45.943161,
             24.96676
            ],
            [
             35326,
             44.016521,
             21.005859
            ],
            [
             816,
             48.669026,
             19.699024
            ],
            [
             284,
             46.151241,
             14.995463
            ],
            [
             6447,
             40.463667,
             -3.74922
            ],
            [
             169516,
             60.128161,
             18.643501
            ],
            [
             73326,
             46.818188,
             8.227512
            ],
            [
             3261,
             48.379433,
             31.16558
            ],
            [
             123051,
             55.378051,
             -3.435973
            ]
           ],
           "geo": "geo",
           "hovertemplate": "<b>%{hovertext}</b><br><br>Year=%{marker.size}<br>Refugees under UNHCR's mandate=%{marker.color}<extra></extra>",
           "hovertext": [
            "Albania",
            "Austria",
            "Belarus",
            "Belgium",
            "Bulgaria",
            "Croatia",
            "Cyprus",
            "Denmark",
            "Estonia",
            "Finland",
            "France",
            "Germany",
            "Greece",
            "Hungary",
            "Iceland",
            "Ireland",
            "Italy",
            "Luxembourg",
            "Malta",
            "Netherlands",
            "North Macedonia",
            "Norway",
            "Poland",
            "Portugal",
            "Romania",
            "Serbia",
            "Slovakia",
            "Slovenia",
            "Spain",
            "Sweden",
            "Switzerland",
            "Ukraine",
            "United Kingdom"
           ],
           "lat": [
            41.153332,
            47.516231,
            53.709807,
            50.503887,
            42.733883,
            45.1,
            35.126413,
            56.26392,
            58.595272,
            61.92411,
            46.227638,
            51.165691,
            39.074208,
            47.162494,
            64.963051,
            53.41291,
            41.87194,
            49.815273,
            35.937496,
            52.132633,
            41.608635,
            60.472024,
            51.919438,
            39.399872,
            45.943161,
            44.016521,
            48.669026,
            46.151241,
            40.463667,
            60.128161,
            46.818188,
            48.379433,
            55.378051
           ],
           "legendgroup": "",
           "lon": [
            20.168331,
            14.550072,
            27.953389,
            4.469936,
            25.48583,
            15.2,
            33.429859,
            9.501785,
            25.013607,
            25.748151,
            2.213749,
            10.451526,
            21.824312,
            19.503304,
            -19.020835,
            -8.24389,
            12.56738,
            6.129583,
            14.375416,
            5.291266,
            21.745275,
            8.468946,
            19.145136,
            -8.224454,
            24.96676,
            21.005859,
            19.699024,
            14.995463,
            -3.74922,
            18.643501,
            8.227512,
            31.16558,
            -3.435973
           ],
           "marker": {
            "color": [
             109,
             72198,
             1805,
             35302,
             16543,
             517,
             7062,
             27312,
             158,
             12692,
             273117,
             316098,
             24831,
             4383,
             170,
             6108,
             118036,
             1306,
             7068,
             88518,
             697,
             50377,
             14057,
             851,
             2581,
             35326,
             816,
             284,
             6447,
             169516,
             73326,
             3261,
             123051
            ],
            "coloraxis": "coloraxis",
            "size": [
             2015,
             2015,
             2015,
             2015,
             2015,
             2015,
             2015,
             2015,
             2015,
             2015,
             2015,
             2015,
             2015,
             2015,
             2015,
             2015,
             2015,
             2015,
             2015,
             2015,
             2015,
             2015,
             2015,
             2015,
             2015,
             2015,
             2015,
             2015,
             2015,
             2015,
             2015,
             2015,
             2015
            ],
            "sizemode": "area",
            "sizeref": 20.17,
            "symbol": "circle"
           },
           "mode": "markers",
           "name": "",
           "showlegend": false,
           "type": "scattergeo"
          }
         ],
         "name": "2015"
        },
        {
         "data": [
          {
           "customdata": [
            [
             141,
             41.153332,
             20.168331
            ],
            [
             93242,
             47.516231,
             14.550072
            ],
            [
             1647,
             53.709807,
             27.953389
            ],
            [
             42158,
             50.503887,
             4.469936
            ],
            [
             17794,
             42.733883,
             25.48583
            ],
            [
             300,
             45.1,
             15.2
            ],
            [
             8478,
             35.126413,
             33.429859
            ],
            [
             33501,
             56.26392,
             9.501785
            ],
            [
             312,
             58.595272,
             25.013607
            ],
            [
             18402,
             61.92411,
             25.748151
            ],
            [
             304527,
             46.227638,
             2.213749
            ],
            [
             669468,
             51.165691,
             10.451526
            ],
            [
             46411,
             39.074208,
             21.824312
            ],
            [
             4736,
             47.162494,
             19.503304
            ],
            [
             245,
             64.963051,
             -19.020835
            ],
            [
             5720,
             53.41291,
             -8.24389
            ],
            [
             147362,
             41.87194,
             12.56738
            ],
            [
             2020,
             49.815273,
             6.129583
            ],
            [
             7941,
             35.937496,
             14.375416
            ],
            [
             101727,
             52.132633,
             5.291266
            ],
            [
             634,
             41.608635,
             21.745275
            ],
            [
             59512,
             60.472024,
             8.468946
            ],
            [
             11738,
             51.919438,
             19.145136
            ],
            [
             1189,
             39.399872,
             -8.224454
            ],
            [
             2880,
             45.943161,
             24.96676
            ],
            [
             36517,
             44.016521,
             21.005859
            ],
            [
             980,
             48.669026,
             19.699024
            ],
            [
             454,
             46.151241,
             14.995463
            ],
            [
             12983,
             40.463667,
             -3.74922
            ],
            [
             230158,
             60.128161,
             18.643501
            ],
            [
             82668,
             46.818188,
             8.227512
            ],
            [
             3292,
             48.379433,
             31.16558
            ],
            [
             118973,
             55.378051,
             -3.435973
            ]
           ],
           "geo": "geo",
           "hovertemplate": "<b>%{hovertext}</b><br><br>Year=%{marker.size}<br>Refugees under UNHCR's mandate=%{marker.color}<extra></extra>",
           "hovertext": [
            "Albania",
            "Austria",
            "Belarus",
            "Belgium",
            "Bulgaria",
            "Croatia",
            "Cyprus",
            "Denmark",
            "Estonia",
            "Finland",
            "France",
            "Germany",
            "Greece",
            "Hungary",
            "Iceland",
            "Ireland",
            "Italy",
            "Luxembourg",
            "Malta",
            "Netherlands",
            "North Macedonia",
            "Norway",
            "Poland",
            "Portugal",
            "Romania",
            "Serbia",
            "Slovakia",
            "Slovenia",
            "Spain",
            "Sweden",
            "Switzerland",
            "Ukraine",
            "United Kingdom"
           ],
           "lat": [
            41.153332,
            47.516231,
            53.709807,
            50.503887,
            42.733883,
            45.1,
            35.126413,
            56.26392,
            58.595272,
            61.92411,
            46.227638,
            51.165691,
            39.074208,
            47.162494,
            64.963051,
            53.41291,
            41.87194,
            49.815273,
            35.937496,
            52.132633,
            41.608635,
            60.472024,
            51.919438,
            39.399872,
            45.943161,
            44.016521,
            48.669026,
            46.151241,
            40.463667,
            60.128161,
            46.818188,
            48.379433,
            55.378051
           ],
           "legendgroup": "",
           "lon": [
            20.168331,
            14.550072,
            27.953389,
            4.469936,
            25.48583,
            15.2,
            33.429859,
            9.501785,
            25.013607,
            25.748151,
            2.213749,
            10.451526,
            21.824312,
            19.503304,
            -19.020835,
            -8.24389,
            12.56738,
            6.129583,
            14.375416,
            5.291266,
            21.745275,
            8.468946,
            19.145136,
            -8.224454,
            24.96676,
            21.005859,
            19.699024,
            14.995463,
            -3.74922,
            18.643501,
            8.227512,
            31.16558,
            -3.435973
           ],
           "marker": {
            "color": [
             141,
             93242,
             1647,
             42158,
             17794,
             300,
             8478,
             33501,
             312,
             18402,
             304527,
             669468,
             46411,
             4736,
             245,
             5720,
             147362,
             2020,
             7941,
             101727,
             634,
             59512,
             11738,
             1189,
             2880,
             36517,
             980,
             454,
             12983,
             230158,
             82668,
             3292,
             118973
            ],
            "coloraxis": "coloraxis",
            "size": [
             2016,
             2016,
             2016,
             2016,
             2016,
             2016,
             2016,
             2016,
             2016,
             2016,
             2016,
             2016,
             2016,
             2016,
             2016,
             2016,
             2016,
             2016,
             2016,
             2016,
             2016,
             2016,
             2016,
             2016,
             2016,
             2016,
             2016,
             2016,
             2016,
             2016,
             2016,
             2016,
             2016
            ],
            "sizemode": "area",
            "sizeref": 20.17,
            "symbol": "circle"
           },
           "mode": "markers",
           "name": "",
           "showlegend": false,
           "type": "scattergeo"
          }
         ],
         "name": "2016"
        },
        {
         "data": [
          {
           "customdata": [
            [
             124,
             41.153332,
             20.168331
            ],
            [
             115252,
             47.516231,
             14.550072
            ],
            [
             2155,
             53.709807,
             27.953389
            ],
            [
             42158,
             50.503887,
             4.469936
            ],
            [
             19166,
             42.733883,
             25.48583
            ],
            [
             508,
             45.1,
             15.2
            ],
            [
             9790,
             35.126413,
             33.429859
            ],
            [
             35668,
             56.26392,
             9.501785
            ],
            [
             405,
             58.595272,
             25.013607
            ],
            [
             20793,
             61.92411,
             25.748151
            ],
            [
             337158,
             46.227638,
             2.213749
            ],
            [
             970357,
             51.165691,
             10.451526
            ],
            [
             38988,
             39.074208,
             21.824312
            ],
            [
             5671,
             47.162494,
             19.503304
            ],
            [
             361,
             64.963051,
             -19.020835
            ],
            [
             6394,
             53.41291,
             -8.24389
            ],
            [
             167330,
             41.87194,
             12.56738
            ],
            [
             2020,
             49.815273,
             6.129583
            ],
            [
             7994,
             35.937496,
             14.375416
            ],
            [
             103843,
             52.132633,
             5.291266
            ],
            [
             414,
             41.608635,
             21.745275
            ],
            [
             59230,
             60.472024,
             8.468946
            ],
            [
             12225,
             51.919438,
             19.145136
            ],
            [
             1619,
             39.399872,
             -8.224454
            ],
            [
             3911,
             45.943161,
             24.96676
            ],
            [
             32205,
             44.016521,
             21.005859
            ],
            [
             912,
             48.669026,
             19.699024
            ],
            [
             611,
             46.151241,
             14.995463
            ],
            [
             17541,
             40.463667,
             -3.74922
            ],
            [
             240954,
             60.128161,
             18.643501
            ],
            [
             93030,
             46.818188,
             8.227512
            ],
            [
             3241,
             48.379433,
             31.16558
            ],
            [
             121821,
             55.378051,
             -3.435973
            ]
           ],
           "geo": "geo",
           "hovertemplate": "<b>%{hovertext}</b><br><br>Year=%{marker.size}<br>Refugees under UNHCR's mandate=%{marker.color}<extra></extra>",
           "hovertext": [
            "Albania",
            "Austria",
            "Belarus",
            "Belgium",
            "Bulgaria",
            "Croatia",
            "Cyprus",
            "Denmark",
            "Estonia",
            "Finland",
            "France",
            "Germany",
            "Greece",
            "Hungary",
            "Iceland",
            "Ireland",
            "Italy",
            "Luxembourg",
            "Malta",
            "Netherlands",
            "North Macedonia",
            "Norway",
            "Poland",
            "Portugal",
            "Romania",
            "Serbia",
            "Slovakia",
            "Slovenia",
            "Spain",
            "Sweden",
            "Switzerland",
            "Ukraine",
            "United Kingdom"
           ],
           "lat": [
            41.153332,
            47.516231,
            53.709807,
            50.503887,
            42.733883,
            45.1,
            35.126413,
            56.26392,
            58.595272,
            61.92411,
            46.227638,
            51.165691,
            39.074208,
            47.162494,
            64.963051,
            53.41291,
            41.87194,
            49.815273,
            35.937496,
            52.132633,
            41.608635,
            60.472024,
            51.919438,
            39.399872,
            45.943161,
            44.016521,
            48.669026,
            46.151241,
            40.463667,
            60.128161,
            46.818188,
            48.379433,
            55.378051
           ],
           "legendgroup": "",
           "lon": [
            20.168331,
            14.550072,
            27.953389,
            4.469936,
            25.48583,
            15.2,
            33.429859,
            9.501785,
            25.013607,
            25.748151,
            2.213749,
            10.451526,
            21.824312,
            19.503304,
            -19.020835,
            -8.24389,
            12.56738,
            6.129583,
            14.375416,
            5.291266,
            21.745275,
            8.468946,
            19.145136,
            -8.224454,
            24.96676,
            21.005859,
            19.699024,
            14.995463,
            -3.74922,
            18.643501,
            8.227512,
            31.16558,
            -3.435973
           ],
           "marker": {
            "color": [
             124,
             115252,
             2155,
             42158,
             19166,
             508,
             9790,
             35668,
             405,
             20793,
             337158,
             970357,
             38988,
             5671,
             361,
             6394,
             167330,
             2020,
             7994,
             103843,
             414,
             59230,
             12225,
             1619,
             3911,
             32205,
             912,
             611,
             17541,
             240954,
             93030,
             3241,
             121821
            ],
            "coloraxis": "coloraxis",
            "size": [
             2017,
             2017,
             2017,
             2017,
             2017,
             2017,
             2017,
             2017,
             2017,
             2017,
             2017,
             2017,
             2017,
             2017,
             2017,
             2017,
             2017,
             2017,
             2017,
             2017,
             2017,
             2017,
             2017,
             2017,
             2017,
             2017,
             2017,
             2017,
             2017,
             2017,
             2017,
             2017,
             2017
            ],
            "sizemode": "area",
            "sizeref": 20.17,
            "symbol": "circle"
           },
           "mode": "markers",
           "name": "",
           "showlegend": false,
           "type": "scattergeo"
          }
         ],
         "name": "2017"
        }
       ],
       "layout": {
        "coloraxis": {
         "colorbar": {
          "title": {
           "text": "Refugees under UNHCR's mandate"
          }
         },
         "colorscale": [
          [
           0,
           "rgb(255,247,236)"
          ],
          [
           0.125,
           "rgb(254,232,200)"
          ],
          [
           0.25,
           "rgb(253,212,158)"
          ],
          [
           0.375,
           "rgb(253,187,132)"
          ],
          [
           0.5,
           "rgb(252,141,89)"
          ],
          [
           0.625,
           "rgb(239,101,72)"
          ],
          [
           0.75,
           "rgb(215,48,31)"
          ],
          [
           0.875,
           "rgb(179,0,0)"
          ],
          [
           1,
           "rgb(127,0,0)"
          ]
         ]
        },
        "geo": {
         "bgcolor": "whitesmoke",
         "center": {},
         "countrycolor": "whitesmoke",
         "domain": {
          "x": [
           0,
           1
          ],
          "y": [
           0,
           1
          ]
         },
         "landcolor": "#26a783",
         "projection": {
          "type": "natural earth"
         },
         "resolution": 50,
         "scope": "europe",
         "showcountries": true,
         "visible": true
        },
        "height": 650,
        "legend": {
         "itemsizing": "constant",
         "tracegroupgap": 0
        },
        "margin": {
         "t": 60
        },
        "sliders": [
         {
          "active": 0,
          "currentvalue": {
           "prefix": "Year="
          },
          "len": 0.9,
          "pad": {
           "b": 10,
           "t": 60
          },
          "steps": [
           {
            "args": [
             [
              "2000"
             ],
             {
              "frame": {
               "duration": 0,
               "redraw": true
              },
              "fromcurrent": true,
              "mode": "immediate",
              "transition": {
               "duration": 0,
               "easing": "linear"
              }
             }
            ],
            "label": "2000",
            "method": "animate"
           },
           {
            "args": [
             [
              "2001"
             ],
             {
              "frame": {
               "duration": 0,
               "redraw": true
              },
              "fromcurrent": true,
              "mode": "immediate",
              "transition": {
               "duration": 0,
               "easing": "linear"
              }
             }
            ],
            "label": "2001",
            "method": "animate"
           },
           {
            "args": [
             [
              "2002"
             ],
             {
              "frame": {
               "duration": 0,
               "redraw": true
              },
              "fromcurrent": true,
              "mode": "immediate",
              "transition": {
               "duration": 0,
               "easing": "linear"
              }
             }
            ],
            "label": "2002",
            "method": "animate"
           },
           {
            "args": [
             [
              "2003"
             ],
             {
              "frame": {
               "duration": 0,
               "redraw": true
              },
              "fromcurrent": true,
              "mode": "immediate",
              "transition": {
               "duration": 0,
               "easing": "linear"
              }
             }
            ],
            "label": "2003",
            "method": "animate"
           },
           {
            "args": [
             [
              "2004"
             ],
             {
              "frame": {
               "duration": 0,
               "redraw": true
              },
              "fromcurrent": true,
              "mode": "immediate",
              "transition": {
               "duration": 0,
               "easing": "linear"
              }
             }
            ],
            "label": "2004",
            "method": "animate"
           },
           {
            "args": [
             [
              "2005"
             ],
             {
              "frame": {
               "duration": 0,
               "redraw": true
              },
              "fromcurrent": true,
              "mode": "immediate",
              "transition": {
               "duration": 0,
               "easing": "linear"
              }
             }
            ],
            "label": "2005",
            "method": "animate"
           },
           {
            "args": [
             [
              "2006"
             ],
             {
              "frame": {
               "duration": 0,
               "redraw": true
              },
              "fromcurrent": true,
              "mode": "immediate",
              "transition": {
               "duration": 0,
               "easing": "linear"
              }
             }
            ],
            "label": "2006",
            "method": "animate"
           },
           {
            "args": [
             [
              "2007"
             ],
             {
              "frame": {
               "duration": 0,
               "redraw": true
              },
              "fromcurrent": true,
              "mode": "immediate",
              "transition": {
               "duration": 0,
               "easing": "linear"
              }
             }
            ],
            "label": "2007",
            "method": "animate"
           },
           {
            "args": [
             [
              "2008"
             ],
             {
              "frame": {
               "duration": 0,
               "redraw": true
              },
              "fromcurrent": true,
              "mode": "immediate",
              "transition": {
               "duration": 0,
               "easing": "linear"
              }
             }
            ],
            "label": "2008",
            "method": "animate"
           },
           {
            "args": [
             [
              "2009"
             ],
             {
              "frame": {
               "duration": 0,
               "redraw": true
              },
              "fromcurrent": true,
              "mode": "immediate",
              "transition": {
               "duration": 0,
               "easing": "linear"
              }
             }
            ],
            "label": "2009",
            "method": "animate"
           },
           {
            "args": [
             [
              "2010"
             ],
             {
              "frame": {
               "duration": 0,
               "redraw": true
              },
              "fromcurrent": true,
              "mode": "immediate",
              "transition": {
               "duration": 0,
               "easing": "linear"
              }
             }
            ],
            "label": "2010",
            "method": "animate"
           },
           {
            "args": [
             [
              "2011"
             ],
             {
              "frame": {
               "duration": 0,
               "redraw": true
              },
              "fromcurrent": true,
              "mode": "immediate",
              "transition": {
               "duration": 0,
               "easing": "linear"
              }
             }
            ],
            "label": "2011",
            "method": "animate"
           },
           {
            "args": [
             [
              "2012"
             ],
             {
              "frame": {
               "duration": 0,
               "redraw": true
              },
              "fromcurrent": true,
              "mode": "immediate",
              "transition": {
               "duration": 0,
               "easing": "linear"
              }
             }
            ],
            "label": "2012",
            "method": "animate"
           },
           {
            "args": [
             [
              "2013"
             ],
             {
              "frame": {
               "duration": 0,
               "redraw": true
              },
              "fromcurrent": true,
              "mode": "immediate",
              "transition": {
               "duration": 0,
               "easing": "linear"
              }
             }
            ],
            "label": "2013",
            "method": "animate"
           },
           {
            "args": [
             [
              "2014"
             ],
             {
              "frame": {
               "duration": 0,
               "redraw": true
              },
              "fromcurrent": true,
              "mode": "immediate",
              "transition": {
               "duration": 0,
               "easing": "linear"
              }
             }
            ],
            "label": "2014",
            "method": "animate"
           },
           {
            "args": [
             [
              "2015"
             ],
             {
              "frame": {
               "duration": 0,
               "redraw": true
              },
              "fromcurrent": true,
              "mode": "immediate",
              "transition": {
               "duration": 0,
               "easing": "linear"
              }
             }
            ],
            "label": "2015",
            "method": "animate"
           },
           {
            "args": [
             [
              "2016"
             ],
             {
              "frame": {
               "duration": 0,
               "redraw": true
              },
              "fromcurrent": true,
              "mode": "immediate",
              "transition": {
               "duration": 0,
               "easing": "linear"
              }
             }
            ],
            "label": "2016",
            "method": "animate"
           },
           {
            "args": [
             [
              "2017"
             ],
             {
              "frame": {
               "duration": 0,
               "redraw": true
              },
              "fromcurrent": true,
              "mode": "immediate",
              "transition": {
               "duration": 0,
               "easing": "linear"
              }
             }
            ],
            "label": "2017",
            "method": "animate"
           }
          ],
          "x": 0.1,
          "xanchor": "left",
          "y": 0,
          "yanchor": "top"
         }
        ],
        "template": {
         "data": {
          "bar": [
           {
            "error_x": {
             "color": "#2a3f5f"
            },
            "error_y": {
             "color": "#2a3f5f"
            },
            "marker": {
             "line": {
              "color": "#E5ECF6",
              "width": 0.5
             },
             "pattern": {
              "fillmode": "overlay",
              "size": 10,
              "solidity": 0.2
             }
            },
            "type": "bar"
           }
          ],
          "barpolar": [
           {
            "marker": {
             "line": {
              "color": "#E5ECF6",
              "width": 0.5
             },
             "pattern": {
              "fillmode": "overlay",
              "size": 10,
              "solidity": 0.2
             }
            },
            "type": "barpolar"
           }
          ],
          "carpet": [
           {
            "aaxis": {
             "endlinecolor": "#2a3f5f",
             "gridcolor": "white",
             "linecolor": "white",
             "minorgridcolor": "white",
             "startlinecolor": "#2a3f5f"
            },
            "baxis": {
             "endlinecolor": "#2a3f5f",
             "gridcolor": "white",
             "linecolor": "white",
             "minorgridcolor": "white",
             "startlinecolor": "#2a3f5f"
            },
            "type": "carpet"
           }
          ],
          "choropleth": [
           {
            "colorbar": {
             "outlinewidth": 0,
             "ticks": ""
            },
            "type": "choropleth"
           }
          ],
          "contour": [
           {
            "colorbar": {
             "outlinewidth": 0,
             "ticks": ""
            },
            "colorscale": [
             [
              0,
              "#0d0887"
             ],
             [
              0.1111111111111111,
              "#46039f"
             ],
             [
              0.2222222222222222,
              "#7201a8"
             ],
             [
              0.3333333333333333,
              "#9c179e"
             ],
             [
              0.4444444444444444,
              "#bd3786"
             ],
             [
              0.5555555555555556,
              "#d8576b"
             ],
             [
              0.6666666666666666,
              "#ed7953"
             ],
             [
              0.7777777777777778,
              "#fb9f3a"
             ],
             [
              0.8888888888888888,
              "#fdca26"
             ],
             [
              1,
              "#f0f921"
             ]
            ],
            "type": "contour"
           }
          ],
          "contourcarpet": [
           {
            "colorbar": {
             "outlinewidth": 0,
             "ticks": ""
            },
            "type": "contourcarpet"
           }
          ],
          "heatmap": [
           {
            "colorbar": {
             "outlinewidth": 0,
             "ticks": ""
            },
            "colorscale": [
             [
              0,
              "#0d0887"
             ],
             [
              0.1111111111111111,
              "#46039f"
             ],
             [
              0.2222222222222222,
              "#7201a8"
             ],
             [
              0.3333333333333333,
              "#9c179e"
             ],
             [
              0.4444444444444444,
              "#bd3786"
             ],
             [
              0.5555555555555556,
              "#d8576b"
             ],
             [
              0.6666666666666666,
              "#ed7953"
             ],
             [
              0.7777777777777778,
              "#fb9f3a"
             ],
             [
              0.8888888888888888,
              "#fdca26"
             ],
             [
              1,
              "#f0f921"
             ]
            ],
            "type": "heatmap"
           }
          ],
          "heatmapgl": [
           {
            "colorbar": {
             "outlinewidth": 0,
             "ticks": ""
            },
            "colorscale": [
             [
              0,
              "#0d0887"
             ],
             [
              0.1111111111111111,
              "#46039f"
             ],
             [
              0.2222222222222222,
              "#7201a8"
             ],
             [
              0.3333333333333333,
              "#9c179e"
             ],
             [
              0.4444444444444444,
              "#bd3786"
             ],
             [
              0.5555555555555556,
              "#d8576b"
             ],
             [
              0.6666666666666666,
              "#ed7953"
             ],
             [
              0.7777777777777778,
              "#fb9f3a"
             ],
             [
              0.8888888888888888,
              "#fdca26"
             ],
             [
              1,
              "#f0f921"
             ]
            ],
            "type": "heatmapgl"
           }
          ],
          "histogram": [
           {
            "marker": {
             "pattern": {
              "fillmode": "overlay",
              "size": 10,
              "solidity": 0.2
             }
            },
            "type": "histogram"
           }
          ],
          "histogram2d": [
           {
            "colorbar": {
             "outlinewidth": 0,
             "ticks": ""
            },
            "colorscale": [
             [
              0,
              "#0d0887"
             ],
             [
              0.1111111111111111,
              "#46039f"
             ],
             [
              0.2222222222222222,
              "#7201a8"
             ],
             [
              0.3333333333333333,
              "#9c179e"
             ],
             [
              0.4444444444444444,
              "#bd3786"
             ],
             [
              0.5555555555555556,
              "#d8576b"
             ],
             [
              0.6666666666666666,
              "#ed7953"
             ],
             [
              0.7777777777777778,
              "#fb9f3a"
             ],
             [
              0.8888888888888888,
              "#fdca26"
             ],
             [
              1,
              "#f0f921"
             ]
            ],
            "type": "histogram2d"
           }
          ],
          "histogram2dcontour": [
           {
            "colorbar": {
             "outlinewidth": 0,
             "ticks": ""
            },
            "colorscale": [
             [
              0,
              "#0d0887"
             ],
             [
              0.1111111111111111,
              "#46039f"
             ],
             [
              0.2222222222222222,
              "#7201a8"
             ],
             [
              0.3333333333333333,
              "#9c179e"
             ],
             [
              0.4444444444444444,
              "#bd3786"
             ],
             [
              0.5555555555555556,
              "#d8576b"
             ],
             [
              0.6666666666666666,
              "#ed7953"
             ],
             [
              0.7777777777777778,
              "#fb9f3a"
             ],
             [
              0.8888888888888888,
              "#fdca26"
             ],
             [
              1,
              "#f0f921"
             ]
            ],
            "type": "histogram2dcontour"
           }
          ],
          "mesh3d": [
           {
            "colorbar": {
             "outlinewidth": 0,
             "ticks": ""
            },
            "type": "mesh3d"
           }
          ],
          "parcoords": [
           {
            "line": {
             "colorbar": {
              "outlinewidth": 0,
              "ticks": ""
             }
            },
            "type": "parcoords"
           }
          ],
          "pie": [
           {
            "automargin": true,
            "type": "pie"
           }
          ],
          "scatter": [
           {
            "fillpattern": {
             "fillmode": "overlay",
             "size": 10,
             "solidity": 0.2
            },
            "type": "scatter"
           }
          ],
          "scatter3d": [
           {
            "line": {
             "colorbar": {
              "outlinewidth": 0,
              "ticks": ""
             }
            },
            "marker": {
             "colorbar": {
              "outlinewidth": 0,
              "ticks": ""
             }
            },
            "type": "scatter3d"
           }
          ],
          "scattercarpet": [
           {
            "marker": {
             "colorbar": {
              "outlinewidth": 0,
              "ticks": ""
             }
            },
            "type": "scattercarpet"
           }
          ],
          "scattergeo": [
           {
            "marker": {
             "colorbar": {
              "outlinewidth": 0,
              "ticks": ""
             }
            },
            "type": "scattergeo"
           }
          ],
          "scattergl": [
           {
            "marker": {
             "colorbar": {
              "outlinewidth": 0,
              "ticks": ""
             }
            },
            "type": "scattergl"
           }
          ],
          "scattermapbox": [
           {
            "marker": {
             "colorbar": {
              "outlinewidth": 0,
              "ticks": ""
             }
            },
            "type": "scattermapbox"
           }
          ],
          "scatterpolar": [
           {
            "marker": {
             "colorbar": {
              "outlinewidth": 0,
              "ticks": ""
             }
            },
            "type": "scatterpolar"
           }
          ],
          "scatterpolargl": [
           {
            "marker": {
             "colorbar": {
              "outlinewidth": 0,
              "ticks": ""
             }
            },
            "type": "scatterpolargl"
           }
          ],
          "scatterternary": [
           {
            "marker": {
             "colorbar": {
              "outlinewidth": 0,
              "ticks": ""
             }
            },
            "type": "scatterternary"
           }
          ],
          "surface": [
           {
            "colorbar": {
             "outlinewidth": 0,
             "ticks": ""
            },
            "colorscale": [
             [
              0,
              "#0d0887"
             ],
             [
              0.1111111111111111,
              "#46039f"
             ],
             [
              0.2222222222222222,
              "#7201a8"
             ],
             [
              0.3333333333333333,
              "#9c179e"
             ],
             [
              0.4444444444444444,
              "#bd3786"
             ],
             [
              0.5555555555555556,
              "#d8576b"
             ],
             [
              0.6666666666666666,
              "#ed7953"
             ],
             [
              0.7777777777777778,
              "#fb9f3a"
             ],
             [
              0.8888888888888888,
              "#fdca26"
             ],
             [
              1,
              "#f0f921"
             ]
            ],
            "type": "surface"
           }
          ],
          "table": [
           {
            "cells": {
             "fill": {
              "color": "#EBF0F8"
             },
             "line": {
              "color": "white"
             }
            },
            "header": {
             "fill": {
              "color": "#C8D4E3"
             },
             "line": {
              "color": "white"
             }
            },
            "type": "table"
           }
          ]
         },
         "layout": {
          "annotationdefaults": {
           "arrowcolor": "#2a3f5f",
           "arrowhead": 0,
           "arrowwidth": 1
          },
          "autotypenumbers": "strict",
          "coloraxis": {
           "colorbar": {
            "outlinewidth": 0,
            "ticks": ""
           }
          },
          "colorscale": {
           "diverging": [
            [
             0,
             "#8e0152"
            ],
            [
             0.1,
             "#c51b7d"
            ],
            [
             0.2,
             "#de77ae"
            ],
            [
             0.3,
             "#f1b6da"
            ],
            [
             0.4,
             "#fde0ef"
            ],
            [
             0.5,
             "#f7f7f7"
            ],
            [
             0.6,
             "#e6f5d0"
            ],
            [
             0.7,
             "#b8e186"
            ],
            [
             0.8,
             "#7fbc41"
            ],
            [
             0.9,
             "#4d9221"
            ],
            [
             1,
             "#276419"
            ]
           ],
           "sequential": [
            [
             0,
             "#0d0887"
            ],
            [
             0.1111111111111111,
             "#46039f"
            ],
            [
             0.2222222222222222,
             "#7201a8"
            ],
            [
             0.3333333333333333,
             "#9c179e"
            ],
            [
             0.4444444444444444,
             "#bd3786"
            ],
            [
             0.5555555555555556,
             "#d8576b"
            ],
            [
             0.6666666666666666,
             "#ed7953"
            ],
            [
             0.7777777777777778,
             "#fb9f3a"
            ],
            [
             0.8888888888888888,
             "#fdca26"
            ],
            [
             1,
             "#f0f921"
            ]
           ],
           "sequentialminus": [
            [
             0,
             "#0d0887"
            ],
            [
             0.1111111111111111,
             "#46039f"
            ],
            [
             0.2222222222222222,
             "#7201a8"
            ],
            [
             0.3333333333333333,
             "#9c179e"
            ],
            [
             0.4444444444444444,
             "#bd3786"
            ],
            [
             0.5555555555555556,
             "#d8576b"
            ],
            [
             0.6666666666666666,
             "#ed7953"
            ],
            [
             0.7777777777777778,
             "#fb9f3a"
            ],
            [
             0.8888888888888888,
             "#fdca26"
            ],
            [
             1,
             "#f0f921"
            ]
           ]
          },
          "colorway": [
           "#636efa",
           "#EF553B",
           "#00cc96",
           "#ab63fa",
           "#FFA15A",
           "#19d3f3",
           "#FF6692",
           "#B6E880",
           "#FF97FF",
           "#FECB52"
          ],
          "font": {
           "color": "#2a3f5f"
          },
          "geo": {
           "bgcolor": "white",
           "lakecolor": "white",
           "landcolor": "#E5ECF6",
           "showlakes": true,
           "showland": true,
           "subunitcolor": "white"
          },
          "hoverlabel": {
           "align": "left"
          },
          "hovermode": "closest",
          "mapbox": {
           "style": "light"
          },
          "paper_bgcolor": "white",
          "plot_bgcolor": "#E5ECF6",
          "polar": {
           "angularaxis": {
            "gridcolor": "white",
            "linecolor": "white",
            "ticks": ""
           },
           "bgcolor": "#E5ECF6",
           "radialaxis": {
            "gridcolor": "white",
            "linecolor": "white",
            "ticks": ""
           }
          },
          "scene": {
           "xaxis": {
            "backgroundcolor": "#E5ECF6",
            "gridcolor": "white",
            "gridwidth": 2,
            "linecolor": "white",
            "showbackground": true,
            "ticks": "",
            "zerolinecolor": "white"
           },
           "yaxis": {
            "backgroundcolor": "#E5ECF6",
            "gridcolor": "white",
            "gridwidth": 2,
            "linecolor": "white",
            "showbackground": true,
            "ticks": "",
            "zerolinecolor": "white"
           },
           "zaxis": {
            "backgroundcolor": "#E5ECF6",
            "gridcolor": "white",
            "gridwidth": 2,
            "linecolor": "white",
            "showbackground": true,
            "ticks": "",
            "zerolinecolor": "white"
           }
          },
          "shapedefaults": {
           "line": {
            "color": "#2a3f5f"
           }
          },
          "ternary": {
           "aaxis": {
            "gridcolor": "white",
            "linecolor": "white",
            "ticks": ""
           },
           "baxis": {
            "gridcolor": "white",
            "linecolor": "white",
            "ticks": ""
           },
           "bgcolor": "#E5ECF6",
           "caxis": {
            "gridcolor": "white",
            "linecolor": "white",
            "ticks": ""
           }
          },
          "title": {
           "x": 0.05
          },
          "xaxis": {
           "automargin": true,
           "gridcolor": "white",
           "linecolor": "white",
           "ticks": "",
           "title": {
            "standoff": 15
           },
           "zerolinecolor": "white",
           "zerolinewidth": 2
          },
          "yaxis": {
           "automargin": true,
           "gridcolor": "white",
           "linecolor": "white",
           "ticks": "",
           "title": {
            "standoff": 15
           },
           "zerolinecolor": "white",
           "zerolinewidth": 2
          }
         }
        },
        "title": {
         "text": "Amount of Refugees in Europe between 2000 and 2017"
        },
        "updatemenus": [
         {
          "buttons": [
           {
            "args": [
             null,
             {
              "frame": {
               "duration": 500,
               "redraw": true
              },
              "fromcurrent": true,
              "mode": "immediate",
              "transition": {
               "duration": 500,
               "easing": "linear"
              }
             }
            ],
            "label": "&#9654;",
            "method": "animate"
           },
           {
            "args": [
             [
              null
             ],
             {
              "frame": {
               "duration": 0,
               "redraw": true
              },
              "fromcurrent": true,
              "mode": "immediate",
              "transition": {
               "duration": 0,
               "easing": "linear"
              }
             }
            ],
            "label": "&#9724;",
            "method": "animate"
           }
          ],
          "direction": "left",
          "pad": {
           "r": 10,
           "t": 70
          },
          "showactive": false,
          "type": "buttons",
          "x": 0.1,
          "xanchor": "right",
          "y": 0,
          "yanchor": "top"
         }
        ],
        "width": 950
       }
      },
      "text/html": [
       "<div>                            <div id=\"2cf951d8-49cc-4fc6-8566-d05d543d6645\" class=\"plotly-graph-div\" style=\"height:650px; width:950px;\"></div>            <script type=\"text/javascript\">                require([\"plotly\"], function(Plotly) {                    window.PLOTLYENV=window.PLOTLYENV || {};                                    if (document.getElementById(\"2cf951d8-49cc-4fc6-8566-d05d543d6645\")) {                    Plotly.newPlot(                        \"2cf951d8-49cc-4fc6-8566-d05d543d6645\",                        [{\"customdata\":[[521.0,41.153332,20.168331],[15493.0,47.516231,14.550072],[453.0,53.709807,27.953389],[18821.0,50.503887,4.469936],[1470.0,42.733883,25.48583],[22437.0,45.1,15.2],[73.0,35.126413,33.429859],[71017.0,56.26392,9.501785],[0.0,58.595272,25.013607],[13271.0,61.92411,25.748151],[132508.0,46.227638,2.213749],[906000.0,51.165691,10.451526],[6653.0,39.074208,21.824312],[5053.0,47.162494,19.503304],[235.0,64.963051,-19.020835],[2530.0,53.41291,-8.24389],[6813.0,41.87194,12.56738],[759.0,49.815273,6.129583],[191.0,35.937496,14.375416],[146174.0,52.132633,5.291266],[9048.0,41.608635,21.745275],[47700.0,60.472024,8.468946],[1011.0,51.919438,19.145136],[416.0,39.399872,-8.224454],[1677.0,45.943161,24.96676],[484390.0,44.016521,21.005859],[444.0,48.669026,19.699024],[2814.0,46.151241,14.995463],[6982.0,40.463667,-3.74922],[157206.0,60.128161,18.643501],[57624.0,46.818188,8.227512],[2927.0,48.379433,31.16558],[186247.0,55.378051,-3.435973]],\"geo\":\"geo\",\"hovertemplate\":\"\\u003cb\\u003e%{hovertext}\\u003c\\u002fb\\u003e\\u003cbr\\u003e\\u003cbr\\u003eYear=%{marker.size}\\u003cbr\\u003eRefugees under UNHCR's mandate=%{marker.color}\\u003cextra\\u003e\\u003c\\u002fextra\\u003e\",\"hovertext\":[\"Albania\",\"Austria\",\"Belarus\",\"Belgium\",\"Bulgaria\",\"Croatia\",\"Cyprus\",\"Denmark\",\"Estonia\",\"Finland\",\"France\",\"Germany\",\"Greece\",\"Hungary\",\"Iceland\",\"Ireland\",\"Italy\",\"Luxembourg\",\"Malta\",\"Netherlands\",\"North Macedonia\",\"Norway\",\"Poland\",\"Portugal\",\"Romania\",\"Serbia\",\"Slovakia\",\"Slovenia\",\"Spain\",\"Sweden\",\"Switzerland\",\"Ukraine\",\"United Kingdom\"],\"lat\":[41.153332,47.516231,53.709807,50.503887,42.733883,45.1,35.126413,56.26392,58.595272,61.92411,46.227638,51.165691,39.074208,47.162494,64.963051,53.41291,41.87194,49.815273,35.937496,52.132633,41.608635,60.472024,51.919438,39.399872,45.943161,44.016521,48.669026,46.151241,40.463667,60.128161,46.818188,48.379433,55.378051],\"legendgroup\":\"\",\"lon\":[20.168331,14.550072,27.953389,4.469936,25.48583,15.2,33.429859,9.501785,25.013607,25.748151,2.213749,10.451526,21.824312,19.503304,-19.020835,-8.24389,12.56738,6.129583,14.375416,5.291266,21.745275,8.468946,19.145136,-8.224454,24.96676,21.005859,19.699024,14.995463,-3.74922,18.643501,8.227512,31.16558,-3.435973],\"marker\":{\"color\":[521,15493,453,18821,1470,22437,73,71017,0,13271,132508,906000,6653,5053,235,2530,6813,759,191,146174,9048,47700,1011,416,1677,484390,444,2814,6982,157206,57624,2927,186247],\"coloraxis\":\"coloraxis\",\"size\":[2000,2000,2000,2000,2000,2000,2000,2000,2000,2000,2000,2000,2000,2000,2000,2000,2000,2000,2000,2000,2000,2000,2000,2000,2000,2000,2000,2000,2000,2000,2000,2000,2000],\"sizemode\":\"area\",\"sizeref\":20.17,\"symbol\":\"circle\",\"line\":{\"color\":\"black\",\"width\":0.5}},\"mode\":\"markers\",\"name\":\"\",\"showlegend\":false,\"type\":\"scattergeo\"}],                        {\"template\":{\"data\":{\"histogram2dcontour\":[{\"type\":\"histogram2dcontour\",\"colorbar\":{\"outlinewidth\":0,\"ticks\":\"\"},\"colorscale\":[[0.0,\"#0d0887\"],[0.1111111111111111,\"#46039f\"],[0.2222222222222222,\"#7201a8\"],[0.3333333333333333,\"#9c179e\"],[0.4444444444444444,\"#bd3786\"],[0.5555555555555556,\"#d8576b\"],[0.6666666666666666,\"#ed7953\"],[0.7777777777777778,\"#fb9f3a\"],[0.8888888888888888,\"#fdca26\"],[1.0,\"#f0f921\"]]}],\"choropleth\":[{\"type\":\"choropleth\",\"colorbar\":{\"outlinewidth\":0,\"ticks\":\"\"}}],\"histogram2d\":[{\"type\":\"histogram2d\",\"colorbar\":{\"outlinewidth\":0,\"ticks\":\"\"},\"colorscale\":[[0.0,\"#0d0887\"],[0.1111111111111111,\"#46039f\"],[0.2222222222222222,\"#7201a8\"],[0.3333333333333333,\"#9c179e\"],[0.4444444444444444,\"#bd3786\"],[0.5555555555555556,\"#d8576b\"],[0.6666666666666666,\"#ed7953\"],[0.7777777777777778,\"#fb9f3a\"],[0.8888888888888888,\"#fdca26\"],[1.0,\"#f0f921\"]]}],\"heatmap\":[{\"type\":\"heatmap\",\"colorbar\":{\"outlinewidth\":0,\"ticks\":\"\"},\"colorscale\":[[0.0,\"#0d0887\"],[0.1111111111111111,\"#46039f\"],[0.2222222222222222,\"#7201a8\"],[0.3333333333333333,\"#9c179e\"],[0.4444444444444444,\"#bd3786\"],[0.5555555555555556,\"#d8576b\"],[0.6666666666666666,\"#ed7953\"],[0.7777777777777778,\"#fb9f3a\"],[0.8888888888888888,\"#fdca26\"],[1.0,\"#f0f921\"]]}],\"heatmapgl\":[{\"type\":\"heatmapgl\",\"colorbar\":{\"outlinewidth\":0,\"ticks\":\"\"},\"colorscale\":[[0.0,\"#0d0887\"],[0.1111111111111111,\"#46039f\"],[0.2222222222222222,\"#7201a8\"],[0.3333333333333333,\"#9c179e\"],[0.4444444444444444,\"#bd3786\"],[0.5555555555555556,\"#d8576b\"],[0.6666666666666666,\"#ed7953\"],[0.7777777777777778,\"#fb9f3a\"],[0.8888888888888888,\"#fdca26\"],[1.0,\"#f0f921\"]]}],\"contourcarpet\":[{\"type\":\"contourcarpet\",\"colorbar\":{\"outlinewidth\":0,\"ticks\":\"\"}}],\"contour\":[{\"type\":\"contour\",\"colorbar\":{\"outlinewidth\":0,\"ticks\":\"\"},\"colorscale\":[[0.0,\"#0d0887\"],[0.1111111111111111,\"#46039f\"],[0.2222222222222222,\"#7201a8\"],[0.3333333333333333,\"#9c179e\"],[0.4444444444444444,\"#bd3786\"],[0.5555555555555556,\"#d8576b\"],[0.6666666666666666,\"#ed7953\"],[0.7777777777777778,\"#fb9f3a\"],[0.8888888888888888,\"#fdca26\"],[1.0,\"#f0f921\"]]}],\"surface\":[{\"type\":\"surface\",\"colorbar\":{\"outlinewidth\":0,\"ticks\":\"\"},\"colorscale\":[[0.0,\"#0d0887\"],[0.1111111111111111,\"#46039f\"],[0.2222222222222222,\"#7201a8\"],[0.3333333333333333,\"#9c179e\"],[0.4444444444444444,\"#bd3786\"],[0.5555555555555556,\"#d8576b\"],[0.6666666666666666,\"#ed7953\"],[0.7777777777777778,\"#fb9f3a\"],[0.8888888888888888,\"#fdca26\"],[1.0,\"#f0f921\"]]}],\"mesh3d\":[{\"type\":\"mesh3d\",\"colorbar\":{\"outlinewidth\":0,\"ticks\":\"\"}}],\"scatter\":[{\"fillpattern\":{\"fillmode\":\"overlay\",\"size\":10,\"solidity\":0.2},\"type\":\"scatter\"}],\"parcoords\":[{\"type\":\"parcoords\",\"line\":{\"colorbar\":{\"outlinewidth\":0,\"ticks\":\"\"}}}],\"scatterpolargl\":[{\"type\":\"scatterpolargl\",\"marker\":{\"colorbar\":{\"outlinewidth\":0,\"ticks\":\"\"}}}],\"bar\":[{\"error_x\":{\"color\":\"#2a3f5f\"},\"error_y\":{\"color\":\"#2a3f5f\"},\"marker\":{\"line\":{\"color\":\"#E5ECF6\",\"width\":0.5},\"pattern\":{\"fillmode\":\"overlay\",\"size\":10,\"solidity\":0.2}},\"type\":\"bar\"}],\"scattergeo\":[{\"type\":\"scattergeo\",\"marker\":{\"colorbar\":{\"outlinewidth\":0,\"ticks\":\"\"}}}],\"scatterpolar\":[{\"type\":\"scatterpolar\",\"marker\":{\"colorbar\":{\"outlinewidth\":0,\"ticks\":\"\"}}}],\"histogram\":[{\"marker\":{\"pattern\":{\"fillmode\":\"overlay\",\"size\":10,\"solidity\":0.2}},\"type\":\"histogram\"}],\"scattergl\":[{\"type\":\"scattergl\",\"marker\":{\"colorbar\":{\"outlinewidth\":0,\"ticks\":\"\"}}}],\"scatter3d\":[{\"type\":\"scatter3d\",\"line\":{\"colorbar\":{\"outlinewidth\":0,\"ticks\":\"\"}},\"marker\":{\"colorbar\":{\"outlinewidth\":0,\"ticks\":\"\"}}}],\"scattermapbox\":[{\"type\":\"scattermapbox\",\"marker\":{\"colorbar\":{\"outlinewidth\":0,\"ticks\":\"\"}}}],\"scatterternary\":[{\"type\":\"scatterternary\",\"marker\":{\"colorbar\":{\"outlinewidth\":0,\"ticks\":\"\"}}}],\"scattercarpet\":[{\"type\":\"scattercarpet\",\"marker\":{\"colorbar\":{\"outlinewidth\":0,\"ticks\":\"\"}}}],\"carpet\":[{\"aaxis\":{\"endlinecolor\":\"#2a3f5f\",\"gridcolor\":\"white\",\"linecolor\":\"white\",\"minorgridcolor\":\"white\",\"startlinecolor\":\"#2a3f5f\"},\"baxis\":{\"endlinecolor\":\"#2a3f5f\",\"gridcolor\":\"white\",\"linecolor\":\"white\",\"minorgridcolor\":\"white\",\"startlinecolor\":\"#2a3f5f\"},\"type\":\"carpet\"}],\"table\":[{\"cells\":{\"fill\":{\"color\":\"#EBF0F8\"},\"line\":{\"color\":\"white\"}},\"header\":{\"fill\":{\"color\":\"#C8D4E3\"},\"line\":{\"color\":\"white\"}},\"type\":\"table\"}],\"barpolar\":[{\"marker\":{\"line\":{\"color\":\"#E5ECF6\",\"width\":0.5},\"pattern\":{\"fillmode\":\"overlay\",\"size\":10,\"solidity\":0.2}},\"type\":\"barpolar\"}],\"pie\":[{\"automargin\":true,\"type\":\"pie\"}]},\"layout\":{\"autotypenumbers\":\"strict\",\"colorway\":[\"#636efa\",\"#EF553B\",\"#00cc96\",\"#ab63fa\",\"#FFA15A\",\"#19d3f3\",\"#FF6692\",\"#B6E880\",\"#FF97FF\",\"#FECB52\"],\"font\":{\"color\":\"#2a3f5f\"},\"hovermode\":\"closest\",\"hoverlabel\":{\"align\":\"left\"},\"paper_bgcolor\":\"white\",\"plot_bgcolor\":\"#E5ECF6\",\"polar\":{\"bgcolor\":\"#E5ECF6\",\"angularaxis\":{\"gridcolor\":\"white\",\"linecolor\":\"white\",\"ticks\":\"\"},\"radialaxis\":{\"gridcolor\":\"white\",\"linecolor\":\"white\",\"ticks\":\"\"}},\"ternary\":{\"bgcolor\":\"#E5ECF6\",\"aaxis\":{\"gridcolor\":\"white\",\"linecolor\":\"white\",\"ticks\":\"\"},\"baxis\":{\"gridcolor\":\"white\",\"linecolor\":\"white\",\"ticks\":\"\"},\"caxis\":{\"gridcolor\":\"white\",\"linecolor\":\"white\",\"ticks\":\"\"}},\"coloraxis\":{\"colorbar\":{\"outlinewidth\":0,\"ticks\":\"\"}},\"colorscale\":{\"sequential\":[[0.0,\"#0d0887\"],[0.1111111111111111,\"#46039f\"],[0.2222222222222222,\"#7201a8\"],[0.3333333333333333,\"#9c179e\"],[0.4444444444444444,\"#bd3786\"],[0.5555555555555556,\"#d8576b\"],[0.6666666666666666,\"#ed7953\"],[0.7777777777777778,\"#fb9f3a\"],[0.8888888888888888,\"#fdca26\"],[1.0,\"#f0f921\"]],\"sequentialminus\":[[0.0,\"#0d0887\"],[0.1111111111111111,\"#46039f\"],[0.2222222222222222,\"#7201a8\"],[0.3333333333333333,\"#9c179e\"],[0.4444444444444444,\"#bd3786\"],[0.5555555555555556,\"#d8576b\"],[0.6666666666666666,\"#ed7953\"],[0.7777777777777778,\"#fb9f3a\"],[0.8888888888888888,\"#fdca26\"],[1.0,\"#f0f921\"]],\"diverging\":[[0,\"#8e0152\"],[0.1,\"#c51b7d\"],[0.2,\"#de77ae\"],[0.3,\"#f1b6da\"],[0.4,\"#fde0ef\"],[0.5,\"#f7f7f7\"],[0.6,\"#e6f5d0\"],[0.7,\"#b8e186\"],[0.8,\"#7fbc41\"],[0.9,\"#4d9221\"],[1,\"#276419\"]]},\"xaxis\":{\"gridcolor\":\"white\",\"linecolor\":\"white\",\"ticks\":\"\",\"title\":{\"standoff\":15},\"zerolinecolor\":\"white\",\"automargin\":true,\"zerolinewidth\":2},\"yaxis\":{\"gridcolor\":\"white\",\"linecolor\":\"white\",\"ticks\":\"\",\"title\":{\"standoff\":15},\"zerolinecolor\":\"white\",\"automargin\":true,\"zerolinewidth\":2},\"scene\":{\"xaxis\":{\"backgroundcolor\":\"#E5ECF6\",\"gridcolor\":\"white\",\"linecolor\":\"white\",\"showbackground\":true,\"ticks\":\"\",\"zerolinecolor\":\"white\",\"gridwidth\":2},\"yaxis\":{\"backgroundcolor\":\"#E5ECF6\",\"gridcolor\":\"white\",\"linecolor\":\"white\",\"showbackground\":true,\"ticks\":\"\",\"zerolinecolor\":\"white\",\"gridwidth\":2},\"zaxis\":{\"backgroundcolor\":\"#E5ECF6\",\"gridcolor\":\"white\",\"linecolor\":\"white\",\"showbackground\":true,\"ticks\":\"\",\"zerolinecolor\":\"white\",\"gridwidth\":2}},\"shapedefaults\":{\"line\":{\"color\":\"#2a3f5f\"}},\"annotationdefaults\":{\"arrowcolor\":\"#2a3f5f\",\"arrowhead\":0,\"arrowwidth\":1},\"geo\":{\"bgcolor\":\"white\",\"landcolor\":\"#E5ECF6\",\"subunitcolor\":\"white\",\"showland\":true,\"showlakes\":true,\"lakecolor\":\"white\"},\"title\":{\"x\":0.05},\"mapbox\":{\"style\":\"light\"}}},\"geo\":{\"domain\":{\"x\":[0.0,1.0],\"y\":[0.0,1.0]},\"projection\":{\"type\":\"natural earth\"},\"center\":{},\"scope\":\"europe\",\"visible\":true,\"resolution\":50,\"showcountries\":true,\"countrycolor\":\"whitesmoke\",\"bgcolor\":\"whitesmoke\",\"landcolor\":\"#26a783\"},\"coloraxis\":{\"colorbar\":{\"title\":{\"text\":\"Refugees under UNHCR's mandate\"}},\"colorscale\":[[0.0,\"rgb(255,247,236)\"],[0.125,\"rgb(254,232,200)\"],[0.25,\"rgb(253,212,158)\"],[0.375,\"rgb(253,187,132)\"],[0.5,\"rgb(252,141,89)\"],[0.625,\"rgb(239,101,72)\"],[0.75,\"rgb(215,48,31)\"],[0.875,\"rgb(179,0,0)\"],[1.0,\"rgb(127,0,0)\"]]},\"legend\":{\"tracegroupgap\":0,\"itemsizing\":\"constant\"},\"margin\":{\"t\":60},\"height\":650,\"width\":950,\"updatemenus\":[{\"buttons\":[{\"args\":[null,{\"frame\":{\"duration\":500,\"redraw\":true},\"mode\":\"immediate\",\"fromcurrent\":true,\"transition\":{\"duration\":500,\"easing\":\"linear\"}}],\"label\":\"&#9654;\",\"method\":\"animate\"},{\"args\":[[null],{\"frame\":{\"duration\":0,\"redraw\":true},\"mode\":\"immediate\",\"fromcurrent\":true,\"transition\":{\"duration\":0,\"easing\":\"linear\"}}],\"label\":\"&#9724;\",\"method\":\"animate\"}],\"direction\":\"left\",\"pad\":{\"r\":10,\"t\":70},\"showactive\":false,\"type\":\"buttons\",\"x\":0.1,\"xanchor\":\"right\",\"y\":0,\"yanchor\":\"top\"}],\"sliders\":[{\"active\":0,\"currentvalue\":{\"prefix\":\"Year=\"},\"len\":0.9,\"pad\":{\"b\":10,\"t\":60},\"steps\":[{\"args\":[[\"2000\"],{\"frame\":{\"duration\":0,\"redraw\":true},\"mode\":\"immediate\",\"fromcurrent\":true,\"transition\":{\"duration\":0,\"easing\":\"linear\"}}],\"label\":\"2000\",\"method\":\"animate\"},{\"args\":[[\"2001\"],{\"frame\":{\"duration\":0,\"redraw\":true},\"mode\":\"immediate\",\"fromcurrent\":true,\"transition\":{\"duration\":0,\"easing\":\"linear\"}}],\"label\":\"2001\",\"method\":\"animate\"},{\"args\":[[\"2002\"],{\"frame\":{\"duration\":0,\"redraw\":true},\"mode\":\"immediate\",\"fromcurrent\":true,\"transition\":{\"duration\":0,\"easing\":\"linear\"}}],\"label\":\"2002\",\"method\":\"animate\"},{\"args\":[[\"2003\"],{\"frame\":{\"duration\":0,\"redraw\":true},\"mode\":\"immediate\",\"fromcurrent\":true,\"transition\":{\"duration\":0,\"easing\":\"linear\"}}],\"label\":\"2003\",\"method\":\"animate\"},{\"args\":[[\"2004\"],{\"frame\":{\"duration\":0,\"redraw\":true},\"mode\":\"immediate\",\"fromcurrent\":true,\"transition\":{\"duration\":0,\"easing\":\"linear\"}}],\"label\":\"2004\",\"method\":\"animate\"},{\"args\":[[\"2005\"],{\"frame\":{\"duration\":0,\"redraw\":true},\"mode\":\"immediate\",\"fromcurrent\":true,\"transition\":{\"duration\":0,\"easing\":\"linear\"}}],\"label\":\"2005\",\"method\":\"animate\"},{\"args\":[[\"2006\"],{\"frame\":{\"duration\":0,\"redraw\":true},\"mode\":\"immediate\",\"fromcurrent\":true,\"transition\":{\"duration\":0,\"easing\":\"linear\"}}],\"label\":\"2006\",\"method\":\"animate\"},{\"args\":[[\"2007\"],{\"frame\":{\"duration\":0,\"redraw\":true},\"mode\":\"immediate\",\"fromcurrent\":true,\"transition\":{\"duration\":0,\"easing\":\"linear\"}}],\"label\":\"2007\",\"method\":\"animate\"},{\"args\":[[\"2008\"],{\"frame\":{\"duration\":0,\"redraw\":true},\"mode\":\"immediate\",\"fromcurrent\":true,\"transition\":{\"duration\":0,\"easing\":\"linear\"}}],\"label\":\"2008\",\"method\":\"animate\"},{\"args\":[[\"2009\"],{\"frame\":{\"duration\":0,\"redraw\":true},\"mode\":\"immediate\",\"fromcurrent\":true,\"transition\":{\"duration\":0,\"easing\":\"linear\"}}],\"label\":\"2009\",\"method\":\"animate\"},{\"args\":[[\"2010\"],{\"frame\":{\"duration\":0,\"redraw\":true},\"mode\":\"immediate\",\"fromcurrent\":true,\"transition\":{\"duration\":0,\"easing\":\"linear\"}}],\"label\":\"2010\",\"method\":\"animate\"},{\"args\":[[\"2011\"],{\"frame\":{\"duration\":0,\"redraw\":true},\"mode\":\"immediate\",\"fromcurrent\":true,\"transition\":{\"duration\":0,\"easing\":\"linear\"}}],\"label\":\"2011\",\"method\":\"animate\"},{\"args\":[[\"2012\"],{\"frame\":{\"duration\":0,\"redraw\":true},\"mode\":\"immediate\",\"fromcurrent\":true,\"transition\":{\"duration\":0,\"easing\":\"linear\"}}],\"label\":\"2012\",\"method\":\"animate\"},{\"args\":[[\"2013\"],{\"frame\":{\"duration\":0,\"redraw\":true},\"mode\":\"immediate\",\"fromcurrent\":true,\"transition\":{\"duration\":0,\"easing\":\"linear\"}}],\"label\":\"2013\",\"method\":\"animate\"},{\"args\":[[\"2014\"],{\"frame\":{\"duration\":0,\"redraw\":true},\"mode\":\"immediate\",\"fromcurrent\":true,\"transition\":{\"duration\":0,\"easing\":\"linear\"}}],\"label\":\"2014\",\"method\":\"animate\"},{\"args\":[[\"2015\"],{\"frame\":{\"duration\":0,\"redraw\":true},\"mode\":\"immediate\",\"fromcurrent\":true,\"transition\":{\"duration\":0,\"easing\":\"linear\"}}],\"label\":\"2015\",\"method\":\"animate\"},{\"args\":[[\"2016\"],{\"frame\":{\"duration\":0,\"redraw\":true},\"mode\":\"immediate\",\"fromcurrent\":true,\"transition\":{\"duration\":0,\"easing\":\"linear\"}}],\"label\":\"2016\",\"method\":\"animate\"},{\"args\":[[\"2017\"],{\"frame\":{\"duration\":0,\"redraw\":true},\"mode\":\"immediate\",\"fromcurrent\":true,\"transition\":{\"duration\":0,\"easing\":\"linear\"}}],\"label\":\"2017\",\"method\":\"animate\"}],\"x\":0.1,\"xanchor\":\"left\",\"y\":0,\"yanchor\":\"top\"}],\"title\":{\"text\":\"Amount of Refugees in Europe between 2000 and 2017\"}},                        {\"responsive\": true}                    ).then(function(){\n",
       "                            Plotly.addFrames('2cf951d8-49cc-4fc6-8566-d05d543d6645', [{\"data\":[{\"customdata\":[[521.0,41.153332,20.168331],[15493.0,47.516231,14.550072],[453.0,53.709807,27.953389],[18821.0,50.503887,4.469936],[1470.0,42.733883,25.48583],[22437.0,45.1,15.2],[73.0,35.126413,33.429859],[71017.0,56.26392,9.501785],[0.0,58.595272,25.013607],[13271.0,61.92411,25.748151],[132508.0,46.227638,2.213749],[906000.0,51.165691,10.451526],[6653.0,39.074208,21.824312],[5053.0,47.162494,19.503304],[235.0,64.963051,-19.020835],[2530.0,53.41291,-8.24389],[6813.0,41.87194,12.56738],[759.0,49.815273,6.129583],[191.0,35.937496,14.375416],[146174.0,52.132633,5.291266],[9048.0,41.608635,21.745275],[47700.0,60.472024,8.468946],[1011.0,51.919438,19.145136],[416.0,39.399872,-8.224454],[1677.0,45.943161,24.96676],[484390.0,44.016521,21.005859],[444.0,48.669026,19.699024],[2814.0,46.151241,14.995463],[6982.0,40.463667,-3.74922],[157206.0,60.128161,18.643501],[57624.0,46.818188,8.227512],[2927.0,48.379433,31.16558],[186247.0,55.378051,-3.435973]],\"geo\":\"geo\",\"hovertemplate\":\"\\u003cb\\u003e%{hovertext}\\u003c\\u002fb\\u003e\\u003cbr\\u003e\\u003cbr\\u003eYear=%{marker.size}\\u003cbr\\u003eRefugees under UNHCR's mandate=%{marker.color}\\u003cextra\\u003e\\u003c\\u002fextra\\u003e\",\"hovertext\":[\"Albania\",\"Austria\",\"Belarus\",\"Belgium\",\"Bulgaria\",\"Croatia\",\"Cyprus\",\"Denmark\",\"Estonia\",\"Finland\",\"France\",\"Germany\",\"Greece\",\"Hungary\",\"Iceland\",\"Ireland\",\"Italy\",\"Luxembourg\",\"Malta\",\"Netherlands\",\"North Macedonia\",\"Norway\",\"Poland\",\"Portugal\",\"Romania\",\"Serbia\",\"Slovakia\",\"Slovenia\",\"Spain\",\"Sweden\",\"Switzerland\",\"Ukraine\",\"United Kingdom\"],\"lat\":[41.153332,47.516231,53.709807,50.503887,42.733883,45.1,35.126413,56.26392,58.595272,61.92411,46.227638,51.165691,39.074208,47.162494,64.963051,53.41291,41.87194,49.815273,35.937496,52.132633,41.608635,60.472024,51.919438,39.399872,45.943161,44.016521,48.669026,46.151241,40.463667,60.128161,46.818188,48.379433,55.378051],\"legendgroup\":\"\",\"lon\":[20.168331,14.550072,27.953389,4.469936,25.48583,15.2,33.429859,9.501785,25.013607,25.748151,2.213749,10.451526,21.824312,19.503304,-19.020835,-8.24389,12.56738,6.129583,14.375416,5.291266,21.745275,8.468946,19.145136,-8.224454,24.96676,21.005859,19.699024,14.995463,-3.74922,18.643501,8.227512,31.16558,-3.435973],\"marker\":{\"color\":[521,15493,453,18821,1470,22437,73,71017,0,13271,132508,906000,6653,5053,235,2530,6813,759,191,146174,9048,47700,1011,416,1677,484390,444,2814,6982,157206,57624,2927,186247],\"coloraxis\":\"coloraxis\",\"size\":[2000,2000,2000,2000,2000,2000,2000,2000,2000,2000,2000,2000,2000,2000,2000,2000,2000,2000,2000,2000,2000,2000,2000,2000,2000,2000,2000,2000,2000,2000,2000,2000,2000],\"sizemode\":\"area\",\"sizeref\":20.17,\"symbol\":\"circle\"},\"mode\":\"markers\",\"name\":\"\",\"showlegend\":false,\"type\":\"scattergeo\"}],\"name\":\"2000\"},{\"data\":[{\"customdata\":[[291.0,41.153332,20.168331],[14375.0,47.516231,14.550072],[581.0,53.709807,27.953389],[12252.0,50.503887,4.469936],[2984.0,42.733883,25.48583],[21875.0,45.1,15.2],[84.0,35.126413,33.429859],[73284.0,56.26392,9.501785],[6.0,58.595272,25.013607],[12726.0,61.92411,25.748151],[131601.0,46.227638,2.213749],[903000.0,51.165691,10.451526],[6927.0,39.074208,21.824312],[4700.0,47.162494,19.503304],[204.0,64.963051,-19.020835],[3585.0,53.41291,-8.24389],[8541.0,41.87194,12.56738],[1201.0,49.815273,6.129583],[175.0,35.937496,14.375416],[151919.0,52.132633,5.291266],[4362.0,41.608635,21.745275],[50122.0,60.472024,8.468946],[1295.0,51.919438,19.145136],[444.0,39.399872,-8.224454],[1792.0,45.943161,24.96676],[400306.0,44.016521,21.005859],[461.0,48.669026,19.699024],[2411.0,46.151241,14.995463],[6804.0,40.463667,-3.74922],[146480.0,60.128161,18.643501],[58471.0,46.818188,8.227512],[2958.0,48.379433,31.16558],[233389.0,55.378051,-3.435973]],\"geo\":\"geo\",\"hovertemplate\":\"\\u003cb\\u003e%{hovertext}\\u003c\\u002fb\\u003e\\u003cbr\\u003e\\u003cbr\\u003eYear=%{marker.size}\\u003cbr\\u003eRefugees under UNHCR's mandate=%{marker.color}\\u003cextra\\u003e\\u003c\\u002fextra\\u003e\",\"hovertext\":[\"Albania\",\"Austria\",\"Belarus\",\"Belgium\",\"Bulgaria\",\"Croatia\",\"Cyprus\",\"Denmark\",\"Estonia\",\"Finland\",\"France\",\"Germany\",\"Greece\",\"Hungary\",\"Iceland\",\"Ireland\",\"Italy\",\"Luxembourg\",\"Malta\",\"Netherlands\",\"North Macedonia\",\"Norway\",\"Poland\",\"Portugal\",\"Romania\",\"Serbia\",\"Slovakia\",\"Slovenia\",\"Spain\",\"Sweden\",\"Switzerland\",\"Ukraine\",\"United Kingdom\"],\"lat\":[41.153332,47.516231,53.709807,50.503887,42.733883,45.1,35.126413,56.26392,58.595272,61.92411,46.227638,51.165691,39.074208,47.162494,64.963051,53.41291,41.87194,49.815273,35.937496,52.132633,41.608635,60.472024,51.919438,39.399872,45.943161,44.016521,48.669026,46.151241,40.463667,60.128161,46.818188,48.379433,55.378051],\"legendgroup\":\"\",\"lon\":[20.168331,14.550072,27.953389,4.469936,25.48583,15.2,33.429859,9.501785,25.013607,25.748151,2.213749,10.451526,21.824312,19.503304,-19.020835,-8.24389,12.56738,6.129583,14.375416,5.291266,21.745275,8.468946,19.145136,-8.224454,24.96676,21.005859,19.699024,14.995463,-3.74922,18.643501,8.227512,31.16558,-3.435973],\"marker\":{\"color\":[291,14375,581,12252,2984,21875,84,73284,6,12726,131601,903000,6927,4700,204,3585,8541,1201,175,151919,4362,50122,1295,444,1792,400306,461,2411,6804,146480,58471,2958,233389],\"coloraxis\":\"coloraxis\",\"size\":[2001,2001,2001,2001,2001,2001,2001,2001,2001,2001,2001,2001,2001,2001,2001,2001,2001,2001,2001,2001,2001,2001,2001,2001,2001,2001,2001,2001,2001,2001,2001,2001,2001],\"sizemode\":\"area\",\"sizeref\":20.17,\"symbol\":\"circle\"},\"mode\":\"markers\",\"name\":\"\",\"showlegend\":false,\"type\":\"scattergeo\"}],\"name\":\"2001\"},{\"data\":[{\"customdata\":[[18.0,41.153332,20.168331],[14122.0,47.516231,14.550072],[612.0,53.709807,27.953389],[12560.0,50.503887,4.469936],[3642.0,42.733883,25.48583],[8392.0,45.1,15.2],[171.0,35.126413,33.429859],[73600.0,56.26392,9.501785],[6.0,58.595272,25.013607],[12485.0,61.92411,25.748151],[132182.0,46.227638,2.213749],[980001.0,51.165691,10.451526],[2778.0,39.074208,21.824312],[6075.0,47.162494,19.503304],[197.0,64.963051,-19.020835],[5366.0,53.41291,-8.24389],[10031.0,41.87194,12.56738],[1201.0,49.815273,6.129583],[311.0,35.937496,14.375416],[148349.0,52.132633,5.291266],[2815.0,41.608635,21.745275],[50421.0,60.472024,8.468946],[1586.0,51.919438,19.145136],[460.0,39.399872,-8.224454],[1839.0,45.943161,24.96676],[354400.0,44.016521,21.005859],[443.0,48.669026,19.699024],[384.0,46.151241,14.995463],[6783.0,40.463667,-3.74922],[142170.0,60.128161,18.643501],[54081.0,46.818188,8.227512],[2940.0,48.379433,31.16558],[260687.0,55.378051,-3.435973]],\"geo\":\"geo\",\"hovertemplate\":\"\\u003cb\\u003e%{hovertext}\\u003c\\u002fb\\u003e\\u003cbr\\u003e\\u003cbr\\u003eYear=%{marker.size}\\u003cbr\\u003eRefugees under UNHCR's mandate=%{marker.color}\\u003cextra\\u003e\\u003c\\u002fextra\\u003e\",\"hovertext\":[\"Albania\",\"Austria\",\"Belarus\",\"Belgium\",\"Bulgaria\",\"Croatia\",\"Cyprus\",\"Denmark\",\"Estonia\",\"Finland\",\"France\",\"Germany\",\"Greece\",\"Hungary\",\"Iceland\",\"Ireland\",\"Italy\",\"Luxembourg\",\"Malta\",\"Netherlands\",\"North Macedonia\",\"Norway\",\"Poland\",\"Portugal\",\"Romania\",\"Serbia\",\"Slovakia\",\"Slovenia\",\"Spain\",\"Sweden\",\"Switzerland\",\"Ukraine\",\"United Kingdom\"],\"lat\":[41.153332,47.516231,53.709807,50.503887,42.733883,45.1,35.126413,56.26392,58.595272,61.92411,46.227638,51.165691,39.074208,47.162494,64.963051,53.41291,41.87194,49.815273,35.937496,52.132633,41.608635,60.472024,51.919438,39.399872,45.943161,44.016521,48.669026,46.151241,40.463667,60.128161,46.818188,48.379433,55.378051],\"legendgroup\":\"\",\"lon\":[20.168331,14.550072,27.953389,4.469936,25.48583,15.2,33.429859,9.501785,25.013607,25.748151,2.213749,10.451526,21.824312,19.503304,-19.020835,-8.24389,12.56738,6.129583,14.375416,5.291266,21.745275,8.468946,19.145136,-8.224454,24.96676,21.005859,19.699024,14.995463,-3.74922,18.643501,8.227512,31.16558,-3.435973],\"marker\":{\"color\":[18,14122,612,12560,3642,8392,171,73600,6,12485,132182,980001,2778,6075,197,5366,10031,1201,311,148349,2815,50421,1586,460,1839,354400,443,384,6783,142170,54081,2940,260687],\"coloraxis\":\"coloraxis\",\"size\":[2002,2002,2002,2002,2002,2002,2002,2002,2002,2002,2002,2002,2002,2002,2002,2002,2002,2002,2002,2002,2002,2002,2002,2002,2002,2002,2002,2002,2002,2002,2002,2002,2002],\"sizemode\":\"area\",\"sizeref\":20.17,\"symbol\":\"circle\"},\"mode\":\"markers\",\"name\":\"\",\"showlegend\":false,\"type\":\"scattergeo\"}],\"name\":\"2002\"},{\"data\":[{\"customdata\":[[24.0,41.153332,20.168331],[16097.0,47.516231,14.550072],[631.0,53.709807,27.953389],[12583.0,50.503887,4.469936],[4047.0,42.733883,25.48583],[4385.0,45.1,15.2],[339.0,35.126413,33.429859],[69855.0,56.26392,9.501785],[6.0,58.595272,25.013607],[10835.0,61.92411,25.748151],[130838.0,46.227638,2.213749],[960393.0,51.165691,10.451526],[2762.0,39.074208,21.824312],[7013.0,47.162494,19.503304],[226.0,64.963051,-19.020835],[5971.0,53.41291,-8.24389],[12812.0,41.87194,12.56738],[1201.0,49.815273,6.129583],[894.0,35.937496,14.375416],[140877.0,52.132633,5.291266],[191.0,41.608635,21.745275],[46107.0,60.472024,8.468946],[1822.0,51.919438,19.145136],[414.0,39.399872,-8.224454],[1991.0,45.943161,24.96676],[291397.0,44.016521,21.005859],[412.0,48.669026,19.699024],[2065.0,46.151241,14.995463],[5912.0,40.463667,-3.74922],[112148.0,60.128161,18.643501],[50126.0,46.818188,8.227512],[2851.0,48.379433,31.16558],[276482.0,55.378051,-3.435973]],\"geo\":\"geo\",\"hovertemplate\":\"\\u003cb\\u003e%{hovertext}\\u003c\\u002fb\\u003e\\u003cbr\\u003e\\u003cbr\\u003eYear=%{marker.size}\\u003cbr\\u003eRefugees under UNHCR's mandate=%{marker.color}\\u003cextra\\u003e\\u003c\\u002fextra\\u003e\",\"hovertext\":[\"Albania\",\"Austria\",\"Belarus\",\"Belgium\",\"Bulgaria\",\"Croatia\",\"Cyprus\",\"Denmark\",\"Estonia\",\"Finland\",\"France\",\"Germany\",\"Greece\",\"Hungary\",\"Iceland\",\"Ireland\",\"Italy\",\"Luxembourg\",\"Malta\",\"Netherlands\",\"North Macedonia\",\"Norway\",\"Poland\",\"Portugal\",\"Romania\",\"Serbia\",\"Slovakia\",\"Slovenia\",\"Spain\",\"Sweden\",\"Switzerland\",\"Ukraine\",\"United Kingdom\"],\"lat\":[41.153332,47.516231,53.709807,50.503887,42.733883,45.1,35.126413,56.26392,58.595272,61.92411,46.227638,51.165691,39.074208,47.162494,64.963051,53.41291,41.87194,49.815273,35.937496,52.132633,41.608635,60.472024,51.919438,39.399872,45.943161,44.016521,48.669026,46.151241,40.463667,60.128161,46.818188,48.379433,55.378051],\"legendgroup\":\"\",\"lon\":[20.168331,14.550072,27.953389,4.469936,25.48583,15.2,33.429859,9.501785,25.013607,25.748151,2.213749,10.451526,21.824312,19.503304,-19.020835,-8.24389,12.56738,6.129583,14.375416,5.291266,21.745275,8.468946,19.145136,-8.224454,24.96676,21.005859,19.699024,14.995463,-3.74922,18.643501,8.227512,31.16558,-3.435973],\"marker\":{\"color\":[24,16097,631,12583,4047,4385,339,69855,6,10835,130838,960393,2762,7013,226,5971,12812,1201,894,140877,191,46107,1822,414,1991,291397,412,2065,5912,112148,50126,2851,276482],\"coloraxis\":\"coloraxis\",\"size\":[2003,2003,2003,2003,2003,2003,2003,2003,2003,2003,2003,2003,2003,2003,2003,2003,2003,2003,2003,2003,2003,2003,2003,2003,2003,2003,2003,2003,2003,2003,2003,2003,2003],\"sizemode\":\"area\",\"sizeref\":20.17,\"symbol\":\"circle\"},\"mode\":\"markers\",\"name\":\"\",\"showlegend\":false,\"type\":\"scattergeo\"}],\"name\":\"2003\"},{\"data\":[{\"customdata\":[[49.0,41.153332,20.168331],[17777.0,47.516231,14.550072],[719.0,53.709807,27.953389],[13522.0,50.503887,4.469936],[4676.0,42.733883,25.48583],[3662.0,45.1,15.2],[525.0,35.126413,33.429859],[65305.0,56.26392,9.501785],[6.0,58.595272,25.013607],[11309.0,61.92411,25.748151],[139852.0,46.227638,2.213749],[876614.0,51.165691,10.451526],[2479.0,39.074208,21.824312],[7702.0,47.162494,19.503304],[226.0,64.963051,-19.020835],[6530.0,53.41291,-8.24389],[15668.0,41.87194,12.56738],[1590.0,49.815273,6.129583],[1561.0,35.937496,14.375416],[126792.0,52.132633,5.291266],[1003.0,41.608635,21.745275],[44031.0,60.472024,8.468946],[2491.0,51.919438,19.145136],[368.0,39.399872,-8.224454],[1610.0,45.943161,24.96676],[276677.0,44.016521,21.005859],[396.0,48.669026,19.699024],[299.0,46.151241,14.995463],[5690.0,40.463667,-3.74922],[73383.0,60.128161,18.643501],[47654.0,46.818188,8.227512],[2442.0,48.379433,31.16558],[298826.0,55.378051,-3.435973]],\"geo\":\"geo\",\"hovertemplate\":\"\\u003cb\\u003e%{hovertext}\\u003c\\u002fb\\u003e\\u003cbr\\u003e\\u003cbr\\u003eYear=%{marker.size}\\u003cbr\\u003eRefugees under UNHCR's mandate=%{marker.color}\\u003cextra\\u003e\\u003c\\u002fextra\\u003e\",\"hovertext\":[\"Albania\",\"Austria\",\"Belarus\",\"Belgium\",\"Bulgaria\",\"Croatia\",\"Cyprus\",\"Denmark\",\"Estonia\",\"Finland\",\"France\",\"Germany\",\"Greece\",\"Hungary\",\"Iceland\",\"Ireland\",\"Italy\",\"Luxembourg\",\"Malta\",\"Netherlands\",\"North Macedonia\",\"Norway\",\"Poland\",\"Portugal\",\"Romania\",\"Serbia\",\"Slovakia\",\"Slovenia\",\"Spain\",\"Sweden\",\"Switzerland\",\"Ukraine\",\"United Kingdom\"],\"lat\":[41.153332,47.516231,53.709807,50.503887,42.733883,45.1,35.126413,56.26392,58.595272,61.92411,46.227638,51.165691,39.074208,47.162494,64.963051,53.41291,41.87194,49.815273,35.937496,52.132633,41.608635,60.472024,51.919438,39.399872,45.943161,44.016521,48.669026,46.151241,40.463667,60.128161,46.818188,48.379433,55.378051],\"legendgroup\":\"\",\"lon\":[20.168331,14.550072,27.953389,4.469936,25.48583,15.2,33.429859,9.501785,25.013607,25.748151,2.213749,10.451526,21.824312,19.503304,-19.020835,-8.24389,12.56738,6.129583,14.375416,5.291266,21.745275,8.468946,19.145136,-8.224454,24.96676,21.005859,19.699024,14.995463,-3.74922,18.643501,8.227512,31.16558,-3.435973],\"marker\":{\"color\":[49,17777,719,13522,4676,3662,525,65305,6,11309,139852,876614,2479,7702,226,6530,15668,1590,1561,126792,1003,44031,2491,368,1610,276677,396,299,5690,73383,47654,2442,298826],\"coloraxis\":\"coloraxis\",\"size\":[2004,2004,2004,2004,2004,2004,2004,2004,2004,2004,2004,2004,2004,2004,2004,2004,2004,2004,2004,2004,2004,2004,2004,2004,2004,2004,2004,2004,2004,2004,2004,2004,2004],\"sizemode\":\"area\",\"sizeref\":20.17,\"symbol\":\"circle\"},\"mode\":\"markers\",\"name\":\"\",\"showlegend\":false,\"type\":\"scattergeo\"}],\"name\":\"2004\"},{\"data\":[{\"customdata\":[[53.0,41.153332,20.168331],[21212.0,47.516231,14.550072],[718.0,53.709807,27.953389],[15277.0,50.503887,4.469936],[4388.0,42.733883,25.48583],[2927.0,45.1,15.2],[700.0,35.126413,33.429859],[44362.0,56.26392,9.501785],[0.0,58.595272,25.013607],[11801.0,61.92411,25.748151],[137316.0,46.227638,2.213749],[699996.0,51.165691,10.451526],[2394.0,39.074208,21.824312],[8040.0,47.162494,19.503304],[284.0,64.963051,-19.020835],[7103.0,53.41291,-8.24389],[20674.0,41.87194,12.56738],[1822.0,49.815273,6.129583],[1942.0,35.937496,14.375416],[118172.0,52.132633,5.291266],[1273.0,41.608635,21.745275],[43015.0,60.472024,8.468946],[4585.0,51.919438,19.145136],[355.0,39.399872,-8.224454],[2040.0,45.943161,24.96676],[148259.0,44.016521,21.005859],[352.0,48.669026,19.699024],[243.0,46.151241,14.995463],[5369.0,40.463667,-3.74922],[74889.0,60.128161,18.643501],[48010.0,46.818188,8.227512],[2334.0,48.379433,31.16558],[303163.0,55.378051,-3.435973]],\"geo\":\"geo\",\"hovertemplate\":\"\\u003cb\\u003e%{hovertext}\\u003c\\u002fb\\u003e\\u003cbr\\u003e\\u003cbr\\u003eYear=%{marker.size}\\u003cbr\\u003eRefugees under UNHCR's mandate=%{marker.color}\\u003cextra\\u003e\\u003c\\u002fextra\\u003e\",\"hovertext\":[\"Albania\",\"Austria\",\"Belarus\",\"Belgium\",\"Bulgaria\",\"Croatia\",\"Cyprus\",\"Denmark\",\"Estonia\",\"Finland\",\"France\",\"Germany\",\"Greece\",\"Hungary\",\"Iceland\",\"Ireland\",\"Italy\",\"Luxembourg\",\"Malta\",\"Netherlands\",\"North Macedonia\",\"Norway\",\"Poland\",\"Portugal\",\"Romania\",\"Serbia\",\"Slovakia\",\"Slovenia\",\"Spain\",\"Sweden\",\"Switzerland\",\"Ukraine\",\"United Kingdom\"],\"lat\":[41.153332,47.516231,53.709807,50.503887,42.733883,45.1,35.126413,56.26392,58.595272,61.92411,46.227638,51.165691,39.074208,47.162494,64.963051,53.41291,41.87194,49.815273,35.937496,52.132633,41.608635,60.472024,51.919438,39.399872,45.943161,44.016521,48.669026,46.151241,40.463667,60.128161,46.818188,48.379433,55.378051],\"legendgroup\":\"\",\"lon\":[20.168331,14.550072,27.953389,4.469936,25.48583,15.2,33.429859,9.501785,25.013607,25.748151,2.213749,10.451526,21.824312,19.503304,-19.020835,-8.24389,12.56738,6.129583,14.375416,5.291266,21.745275,8.468946,19.145136,-8.224454,24.96676,21.005859,19.699024,14.995463,-3.74922,18.643501,8.227512,31.16558,-3.435973],\"marker\":{\"color\":[53,21212,718,15277,4388,2927,700,44362,0,11801,137316,699996,2394,8040,284,7103,20674,1822,1942,118172,1273,43015,4585,355,2040,148259,352,243,5369,74889,48010,2334,303163],\"coloraxis\":\"coloraxis\",\"size\":[2005,2005,2005,2005,2005,2005,2005,2005,2005,2005,2005,2005,2005,2005,2005,2005,2005,2005,2005,2005,2005,2005,2005,2005,2005,2005,2005,2005,2005,2005,2005,2005,2005],\"sizemode\":\"area\",\"sizeref\":20.17,\"symbol\":\"circle\"},\"mode\":\"markers\",\"name\":\"\",\"showlegend\":false,\"type\":\"scattergeo\"}],\"name\":\"2005\"},{\"data\":[{\"customdata\":[[56.0,41.153332,20.168331],[25475.0,47.516231,14.550072],[683.0,53.709807,27.953389],[16811.0,50.503887,4.469936],[4479.0,42.733883,25.48583],[2442.0,45.1,15.2],[926.0,35.126413,33.429859],[36650.0,56.26392,9.501785],[0.0,58.595272,25.013607],[11827.0,61.92411,25.748151],[145996.0,46.227638,2.213749],[605329.0,51.165691,10.451526],[2292.0,39.074208,21.824312],[8068.0,47.162494,19.503304],[254.0,64.963051,-19.020835],[7904.0,53.41291,-8.24389],[26870.0,41.87194,12.56738],[2206.0,49.815273,6.129583],[2407.0,35.937496,14.375416],[100565.0,52.132633,5.291266],[1239.0,41.608635,21.745275],[43315.0,60.472024,8.468946],[6786.0,51.919438,19.145136],[322.0,39.399872,-8.224454],[1636.0,45.943161,24.96676],[98995.0,44.016521,21.005859],[235.0,48.669026,19.699024],[249.0,46.151241,14.995463],[5269.0,40.463667,-3.74922],[79895.0,60.128161,18.643501],[48508.0,46.818188,8.227512],[2267.0,48.379433,31.16558],[301537.0,55.378051,-3.435973]],\"geo\":\"geo\",\"hovertemplate\":\"\\u003cb\\u003e%{hovertext}\\u003c\\u002fb\\u003e\\u003cbr\\u003e\\u003cbr\\u003eYear=%{marker.size}\\u003cbr\\u003eRefugees under UNHCR's mandate=%{marker.color}\\u003cextra\\u003e\\u003c\\u002fextra\\u003e\",\"hovertext\":[\"Albania\",\"Austria\",\"Belarus\",\"Belgium\",\"Bulgaria\",\"Croatia\",\"Cyprus\",\"Denmark\",\"Estonia\",\"Finland\",\"France\",\"Germany\",\"Greece\",\"Hungary\",\"Iceland\",\"Ireland\",\"Italy\",\"Luxembourg\",\"Malta\",\"Netherlands\",\"North Macedonia\",\"Norway\",\"Poland\",\"Portugal\",\"Romania\",\"Serbia\",\"Slovakia\",\"Slovenia\",\"Spain\",\"Sweden\",\"Switzerland\",\"Ukraine\",\"United Kingdom\"],\"lat\":[41.153332,47.516231,53.709807,50.503887,42.733883,45.1,35.126413,56.26392,58.595272,61.92411,46.227638,51.165691,39.074208,47.162494,64.963051,53.41291,41.87194,49.815273,35.937496,52.132633,41.608635,60.472024,51.919438,39.399872,45.943161,44.016521,48.669026,46.151241,40.463667,60.128161,46.818188,48.379433,55.378051],\"legendgroup\":\"\",\"lon\":[20.168331,14.550072,27.953389,4.469936,25.48583,15.2,33.429859,9.501785,25.013607,25.748151,2.213749,10.451526,21.824312,19.503304,-19.020835,-8.24389,12.56738,6.129583,14.375416,5.291266,21.745275,8.468946,19.145136,-8.224454,24.96676,21.005859,19.699024,14.995463,-3.74922,18.643501,8.227512,31.16558,-3.435973],\"marker\":{\"color\":[56,25475,683,16811,4479,2442,926,36650,0,11827,145996,605329,2292,8068,254,7904,26870,2206,2407,100565,1239,43315,6786,322,1636,98995,235,249,5269,79895,48508,2267,301537],\"coloraxis\":\"coloraxis\",\"size\":[2006,2006,2006,2006,2006,2006,2006,2006,2006,2006,2006,2006,2006,2006,2006,2006,2006,2006,2006,2006,2006,2006,2006,2006,2006,2006,2006,2006,2006,2006,2006,2006,2006],\"sizemode\":\"area\",\"sizeref\":20.17,\"symbol\":\"circle\"},\"mode\":\"markers\",\"name\":\"\",\"showlegend\":false,\"type\":\"scattergeo\"}],\"name\":\"2006\"},{\"data\":[{\"customdata\":[[68.0,41.153332,20.168331],[30767.0,47.516231,14.550072],[643.0,53.709807,27.953389],[17578.0,50.503887,4.469936],[4808.0,42.733883,25.48583],[1641.0,45.1,15.2],[1194.0,35.126413,33.429859],[26779.0,56.26392,9.501785],[6.0,58.595272,25.013607],[6201.0,61.92411,25.748151],[151789.0,46.227638,2.213749],[578866.0,51.165691,10.451526],[2228.0,39.074208,21.824312],[8124.0,47.162494,19.503304],[41.0,64.963051,-19.020835],[9318.0,53.41291,-8.24389],[38061.0,41.87194,12.56738],[2737.0,49.815273,6.129583],[3003.0,35.937496,14.375416],[86576.0,52.132633,5.291266],[1234.0,41.608635,21.745275],[34499.0,60.472024,8.468946],[10037.0,51.919438,19.145136],[346.0,39.399872,-8.224454],[1741.0,45.943161,24.96676],[97991.0,44.016521,21.005859],[265.0,48.669026,19.699024],[255.0,46.151241,14.995463],[5143.0,40.463667,-3.74922],[75055.0,60.128161,18.643501],[45642.0,46.818188,8.227512],[7272.0,48.379433,31.16558],[299701.0,55.378051,-3.435973]],\"geo\":\"geo\",\"hovertemplate\":\"\\u003cb\\u003e%{hovertext}\\u003c\\u002fb\\u003e\\u003cbr\\u003e\\u003cbr\\u003eYear=%{marker.size}\\u003cbr\\u003eRefugees under UNHCR's mandate=%{marker.color}\\u003cextra\\u003e\\u003c\\u002fextra\\u003e\",\"hovertext\":[\"Albania\",\"Austria\",\"Belarus\",\"Belgium\",\"Bulgaria\",\"Croatia\",\"Cyprus\",\"Denmark\",\"Estonia\",\"Finland\",\"France\",\"Germany\",\"Greece\",\"Hungary\",\"Iceland\",\"Ireland\",\"Italy\",\"Luxembourg\",\"Malta\",\"Netherlands\",\"North Macedonia\",\"Norway\",\"Poland\",\"Portugal\",\"Romania\",\"Serbia\",\"Slovakia\",\"Slovenia\",\"Spain\",\"Sweden\",\"Switzerland\",\"Ukraine\",\"United Kingdom\"],\"lat\":[41.153332,47.516231,53.709807,50.503887,42.733883,45.1,35.126413,56.26392,58.595272,61.92411,46.227638,51.165691,39.074208,47.162494,64.963051,53.41291,41.87194,49.815273,35.937496,52.132633,41.608635,60.472024,51.919438,39.399872,45.943161,44.016521,48.669026,46.151241,40.463667,60.128161,46.818188,48.379433,55.378051],\"legendgroup\":\"\",\"lon\":[20.168331,14.550072,27.953389,4.469936,25.48583,15.2,33.429859,9.501785,25.013607,25.748151,2.213749,10.451526,21.824312,19.503304,-19.020835,-8.24389,12.56738,6.129583,14.375416,5.291266,21.745275,8.468946,19.145136,-8.224454,24.96676,21.005859,19.699024,14.995463,-3.74922,18.643501,8.227512,31.16558,-3.435973],\"marker\":{\"color\":[68,30767,643,17578,4808,1641,1194,26779,6,6201,151789,578866,2228,8124,41,9318,38061,2737,3003,86576,1234,34499,10037,346,1741,97991,265,255,5143,75055,45642,7272,299701],\"coloraxis\":\"coloraxis\",\"size\":[2007,2007,2007,2007,2007,2007,2007,2007,2007,2007,2007,2007,2007,2007,2007,2007,2007,2007,2007,2007,2007,2007,2007,2007,2007,2007,2007,2007,2007,2007,2007,2007,2007],\"sizemode\":\"area\",\"sizeref\":20.17,\"symbol\":\"circle\"},\"mode\":\"markers\",\"name\":\"\",\"showlegend\":false,\"type\":\"scattergeo\"}],\"name\":\"2007\"},{\"data\":[{\"customdata\":[[57.0,41.153332,20.168331],[37546.0,47.516231,14.550072],[602.0,53.709807,27.953389],[17025.0,50.503887,4.469936],[5108.0,42.733883,25.48583],[1591.0,45.1,15.2],[1458.0,35.126413,33.429859],[23385.0,56.26392,9.501785],[16.0,58.595272,25.013607],[6621.0,61.92411,25.748151],[171206.0,46.227638,2.213749],[582719.0,51.165691,10.451526],[2169.0,39.074208,21.824312],[7740.0,47.162494,19.503304],[39.0,64.963051,-19.020835],[9714.0,53.41291,-8.24389],[47059.0,41.87194,12.56738],[3109.0,49.815273,6.129583],[4329.0,35.937496,14.375416],[77589.0,52.132633,5.291266],[1671.0,41.608635,21.745275],[36076.0,60.472024,8.468946],[12761.0,51.919438,19.145136],[393.0,39.399872,-8.224454],[1586.0,45.943161,24.96676],[96735.0,44.016521,21.005859],[301.0,48.669026,19.699024],[257.0,46.151241,14.995463],[4649.0,40.463667,-3.74922],[77016.0,60.128161,18.643501],[46131.0,46.818188,8.227512],[7189.0,48.379433,31.16558],[292081.0,55.378051,-3.435973]],\"geo\":\"geo\",\"hovertemplate\":\"\\u003cb\\u003e%{hovertext}\\u003c\\u002fb\\u003e\\u003cbr\\u003e\\u003cbr\\u003eYear=%{marker.size}\\u003cbr\\u003eRefugees under UNHCR's mandate=%{marker.color}\\u003cextra\\u003e\\u003c\\u002fextra\\u003e\",\"hovertext\":[\"Albania\",\"Austria\",\"Belarus\",\"Belgium\",\"Bulgaria\",\"Croatia\",\"Cyprus\",\"Denmark\",\"Estonia\",\"Finland\",\"France\",\"Germany\",\"Greece\",\"Hungary\",\"Iceland\",\"Ireland\",\"Italy\",\"Luxembourg\",\"Malta\",\"Netherlands\",\"North Macedonia\",\"Norway\",\"Poland\",\"Portugal\",\"Romania\",\"Serbia\",\"Slovakia\",\"Slovenia\",\"Spain\",\"Sweden\",\"Switzerland\",\"Ukraine\",\"United Kingdom\"],\"lat\":[41.153332,47.516231,53.709807,50.503887,42.733883,45.1,35.126413,56.26392,58.595272,61.92411,46.227638,51.165691,39.074208,47.162494,64.963051,53.41291,41.87194,49.815273,35.937496,52.132633,41.608635,60.472024,51.919438,39.399872,45.943161,44.016521,48.669026,46.151241,40.463667,60.128161,46.818188,48.379433,55.378051],\"legendgroup\":\"\",\"lon\":[20.168331,14.550072,27.953389,4.469936,25.48583,15.2,33.429859,9.501785,25.013607,25.748151,2.213749,10.451526,21.824312,19.503304,-19.020835,-8.24389,12.56738,6.129583,14.375416,5.291266,21.745275,8.468946,19.145136,-8.224454,24.96676,21.005859,19.699024,14.995463,-3.74922,18.643501,8.227512,31.16558,-3.435973],\"marker\":{\"color\":[57,37546,602,17025,5108,1591,1458,23385,16,6621,171206,582719,2169,7740,39,9714,47059,3109,4329,77589,1671,36076,12761,393,1586,96735,301,257,4649,77016,46131,7189,292081],\"coloraxis\":\"coloraxis\",\"size\":[2008,2008,2008,2008,2008,2008,2008,2008,2008,2008,2008,2008,2008,2008,2008,2008,2008,2008,2008,2008,2008,2008,2008,2008,2008,2008,2008,2008,2008,2008,2008,2008,2008],\"sizemode\":\"area\",\"sizeref\":20.17,\"symbol\":\"circle\"},\"mode\":\"markers\",\"name\":\"\",\"showlegend\":false,\"type\":\"scattergeo\"}],\"name\":\"2008\"},{\"data\":[{\"customdata\":[[69.0,41.153332,20.168331],[38895.0,47.516231,14.550072],[578.0,53.709807,27.953389],[15536.0,50.503887,4.469936],[5375.0,42.733883,25.48583],[1240.0,45.1,15.2],[2888.0,35.126413,33.429859],[20340.0,56.26392,9.501785],[16.0,58.595272,25.013607],[7448.0,61.92411,25.748151],[196364.0,46.227638,2.213749],[593787.0,51.165691,10.451526],[1700.0,39.074208,21.824312],[6041.0,47.162494,19.503304],[58.0,64.963051,-19.020835],[9561.0,53.41291,-8.24389],[54962.0,41.87194,12.56738],[3230.0,49.815273,6.129583],[5951.0,35.937496,14.375416],[75996.0,52.132633,5.291266],[1541.0,41.608635,21.745275],[37806.0,60.472024,8.468946],[15299.0,51.919438,19.145136],[383.0,39.399872,-8.224454],[1065.0,45.943161,24.96676],[86348.0,44.016521,21.005859],[387.0,48.669026,19.699024],[281.0,46.151241,14.995463],[3960.0,40.463667,-3.74922],[81346.0,60.128161,18.643501],[46204.0,46.818188,8.227512],[7321.0,48.379433,31.16558],[269355.0,55.378051,-3.435973]],\"geo\":\"geo\",\"hovertemplate\":\"\\u003cb\\u003e%{hovertext}\\u003c\\u002fb\\u003e\\u003cbr\\u003e\\u003cbr\\u003eYear=%{marker.size}\\u003cbr\\u003eRefugees under UNHCR's mandate=%{marker.color}\\u003cextra\\u003e\\u003c\\u002fextra\\u003e\",\"hovertext\":[\"Albania\",\"Austria\",\"Belarus\",\"Belgium\",\"Bulgaria\",\"Croatia\",\"Cyprus\",\"Denmark\",\"Estonia\",\"Finland\",\"France\",\"Germany\",\"Greece\",\"Hungary\",\"Iceland\",\"Ireland\",\"Italy\",\"Luxembourg\",\"Malta\",\"Netherlands\",\"North Macedonia\",\"Norway\",\"Poland\",\"Portugal\",\"Romania\",\"Serbia\",\"Slovakia\",\"Slovenia\",\"Spain\",\"Sweden\",\"Switzerland\",\"Ukraine\",\"United Kingdom\"],\"lat\":[41.153332,47.516231,53.709807,50.503887,42.733883,45.1,35.126413,56.26392,58.595272,61.92411,46.227638,51.165691,39.074208,47.162494,64.963051,53.41291,41.87194,49.815273,35.937496,52.132633,41.608635,60.472024,51.919438,39.399872,45.943161,44.016521,48.669026,46.151241,40.463667,60.128161,46.818188,48.379433,55.378051],\"legendgroup\":\"\",\"lon\":[20.168331,14.550072,27.953389,4.469936,25.48583,15.2,33.429859,9.501785,25.013607,25.748151,2.213749,10.451526,21.824312,19.503304,-19.020835,-8.24389,12.56738,6.129583,14.375416,5.291266,21.745275,8.468946,19.145136,-8.224454,24.96676,21.005859,19.699024,14.995463,-3.74922,18.643501,8.227512,31.16558,-3.435973],\"marker\":{\"color\":[69,38895,578,15536,5375,1240,2888,20340,16,7448,196364,593787,1700,6041,58,9561,54962,3230,5951,75996,1541,37806,15299,383,1065,86348,387,281,3960,81346,46204,7321,269355],\"coloraxis\":\"coloraxis\",\"size\":[2009,2009,2009,2009,2009,2009,2009,2009,2009,2009,2009,2009,2009,2009,2009,2009,2009,2009,2009,2009,2009,2009,2009,2009,2009,2009,2009,2009,2009,2009,2009,2009,2009],\"sizemode\":\"area\",\"sizeref\":20.17,\"symbol\":\"circle\"},\"mode\":\"markers\",\"name\":\"\",\"showlegend\":false,\"type\":\"scattergeo\"}],\"name\":\"2009\"},{\"data\":[{\"customdata\":[[75.0,41.153332,20.168331],[42613.0,47.516231,14.550072],[587.0,53.709807,27.953389],[17891.0,50.503887,4.469936],[5519.0,42.733883,25.48583],[933.0,45.1,15.2],[3397.0,35.126413,33.429859],[17907.0,56.26392,9.501785],[31.0,58.595272,25.013607],[8721.0,61.92411,25.748151],[200687.0,46.227638,2.213749],[594250.0,51.165691,10.451526],[1443.0,39.074208,21.824312],[5400.0,47.162494,19.503304],[72.0,64.963051,-19.020835],[9099.0,53.41291,-8.24389],[56402.0,41.87194,12.56738],[3254.0,49.815273,6.129583],[6143.0,35.937496,14.375416],[74948.0,52.132633,5.291266],[1397.0,41.608635,21.745275],[40245.0,60.472024,8.468946],[15537.0,51.919438,19.145136],[368.0,39.399872,-8.224454],[1019.0,45.943161,24.96676],[73604.0,44.016521,21.005859],[451.0,48.669026,19.699024],[315.0,46.151241,14.995463],[3814.0,40.463667,-3.74922],[82620.0,60.128161,18.643501],[48813.0,46.818188,8.227512],[3016.0,48.379433,31.16558],[238133.0,55.378051,-3.435973]],\"geo\":\"geo\",\"hovertemplate\":\"\\u003cb\\u003e%{hovertext}\\u003c\\u002fb\\u003e\\u003cbr\\u003e\\u003cbr\\u003eYear=%{marker.size}\\u003cbr\\u003eRefugees under UNHCR's mandate=%{marker.color}\\u003cextra\\u003e\\u003c\\u002fextra\\u003e\",\"hovertext\":[\"Albania\",\"Austria\",\"Belarus\",\"Belgium\",\"Bulgaria\",\"Croatia\",\"Cyprus\",\"Denmark\",\"Estonia\",\"Finland\",\"France\",\"Germany\",\"Greece\",\"Hungary\",\"Iceland\",\"Ireland\",\"Italy\",\"Luxembourg\",\"Malta\",\"Netherlands\",\"North Macedonia\",\"Norway\",\"Poland\",\"Portugal\",\"Romania\",\"Serbia\",\"Slovakia\",\"Slovenia\",\"Spain\",\"Sweden\",\"Switzerland\",\"Ukraine\",\"United Kingdom\"],\"lat\":[41.153332,47.516231,53.709807,50.503887,42.733883,45.1,35.126413,56.26392,58.595272,61.92411,46.227638,51.165691,39.074208,47.162494,64.963051,53.41291,41.87194,49.815273,35.937496,52.132633,41.608635,60.472024,51.919438,39.399872,45.943161,44.016521,48.669026,46.151241,40.463667,60.128161,46.818188,48.379433,55.378051],\"legendgroup\":\"\",\"lon\":[20.168331,14.550072,27.953389,4.469936,25.48583,15.2,33.429859,9.501785,25.013607,25.748151,2.213749,10.451526,21.824312,19.503304,-19.020835,-8.24389,12.56738,6.129583,14.375416,5.291266,21.745275,8.468946,19.145136,-8.224454,24.96676,21.005859,19.699024,14.995463,-3.74922,18.643501,8.227512,31.16558,-3.435973],\"marker\":{\"color\":[75,42613,587,17891,5519,933,3397,17907,31,8721,200687,594250,1443,5400,72,9099,56402,3254,6143,74948,1397,40245,15537,368,1019,73604,451,315,3814,82620,48813,3016,238133],\"coloraxis\":\"coloraxis\",\"size\":[2010,2010,2010,2010,2010,2010,2010,2010,2010,2010,2010,2010,2010,2010,2010,2010,2010,2010,2010,2010,2010,2010,2010,2010,2010,2010,2010,2010,2010,2010,2010,2010,2010],\"sizemode\":\"area\",\"sizeref\":20.17,\"symbol\":\"circle\"},\"mode\":\"markers\",\"name\":\"\",\"showlegend\":false,\"type\":\"scattergeo\"}],\"name\":\"2010\"},{\"data\":[{\"customdata\":[[79.0,41.153332,20.168331],[47055.0,47.516231,14.550072],[594.0,53.709807,27.953389],[22396.0,50.503887,4.469936],[5676.0,42.733883,25.48583],[818.0,45.1,15.2],[3498.0,35.126413,33.429859],[13386.0,56.26392,9.501785],[34.0,58.595272,25.013607],[9170.0,61.92411,25.748151],[210207.0,46.227638,2.213749],[571672.0,51.165691,10.451526],[1566.0,39.074208,21.824312],[5085.0,47.162494,19.503304],[55.0,64.963051,-19.020835],[8234.0,53.41291,-8.24389],[58066.0,41.87194,12.56738],[2855.0,49.815273,6.129583],[6948.0,35.937496,14.375416],[74587.0,52.132633,5.291266],[1129.0,41.608635,21.745275],[40671.0,60.472024,8.468946],[15834.0,51.919438,19.145136],[399.0,39.399872,-8.224454],[1003.0,45.943161,24.96676],[70702.0,44.016521,21.005859],[535.0,48.669026,19.699024],[134.0,46.151241,14.995463],[4220.0,40.463667,-3.74922],[86603.0,60.128161,18.643501],[50401.0,46.818188,8.227512],[3168.0,48.379433,31.16558],[193494.0,55.378051,-3.435973]],\"geo\":\"geo\",\"hovertemplate\":\"\\u003cb\\u003e%{hovertext}\\u003c\\u002fb\\u003e\\u003cbr\\u003e\\u003cbr\\u003eYear=%{marker.size}\\u003cbr\\u003eRefugees under UNHCR's mandate=%{marker.color}\\u003cextra\\u003e\\u003c\\u002fextra\\u003e\",\"hovertext\":[\"Albania\",\"Austria\",\"Belarus\",\"Belgium\",\"Bulgaria\",\"Croatia\",\"Cyprus\",\"Denmark\",\"Estonia\",\"Finland\",\"France\",\"Germany\",\"Greece\",\"Hungary\",\"Iceland\",\"Ireland\",\"Italy\",\"Luxembourg\",\"Malta\",\"Netherlands\",\"North Macedonia\",\"Norway\",\"Poland\",\"Portugal\",\"Romania\",\"Serbia\",\"Slovakia\",\"Slovenia\",\"Spain\",\"Sweden\",\"Switzerland\",\"Ukraine\",\"United Kingdom\"],\"lat\":[41.153332,47.516231,53.709807,50.503887,42.733883,45.1,35.126413,56.26392,58.595272,61.92411,46.227638,51.165691,39.074208,47.162494,64.963051,53.41291,41.87194,49.815273,35.937496,52.132633,41.608635,60.472024,51.919438,39.399872,45.943161,44.016521,48.669026,46.151241,40.463667,60.128161,46.818188,48.379433,55.378051],\"legendgroup\":\"\",\"lon\":[20.168331,14.550072,27.953389,4.469936,25.48583,15.2,33.429859,9.501785,25.013607,25.748151,2.213749,10.451526,21.824312,19.503304,-19.020835,-8.24389,12.56738,6.129583,14.375416,5.291266,21.745275,8.468946,19.145136,-8.224454,24.96676,21.005859,19.699024,14.995463,-3.74922,18.643501,8.227512,31.16558,-3.435973],\"marker\":{\"color\":[79,47055,594,22396,5676,818,3498,13386,34,9170,210207,571672,1566,5085,55,8234,58066,2855,6948,74587,1129,40671,15834,399,1003,70702,535,134,4220,86603,50401,3168,193494],\"coloraxis\":\"coloraxis\",\"size\":[2011,2011,2011,2011,2011,2011,2011,2011,2011,2011,2011,2011,2011,2011,2011,2011,2011,2011,2011,2011,2011,2011,2011,2011,2011,2011,2011,2011,2011,2011,2011,2011,2011],\"sizemode\":\"area\",\"sizeref\":20.17,\"symbol\":\"circle\"},\"mode\":\"markers\",\"name\":\"\",\"showlegend\":false,\"type\":\"scattergeo\"}],\"name\":\"2011\"},{\"data\":[{\"customdata\":[[84.0,41.153332,20.168331],[51707.0,47.516231,14.550072],[572.0,53.709807,27.953389],[22023.0,50.503887,4.469936],[2273.0,42.733883,25.48583],[722.0,45.1,15.2],[3627.0,35.126413,33.429859],[11797.0,56.26392,9.501785],[48.0,58.595272,25.013607],[9910.0,61.92411,25.748151],[217865.0,46.227638,2.213749],[589735.0,51.165691,10.451526],[2090.0,39.074208,21.824312],[4034.0,47.162494,19.503304],[55.0,64.963051,-19.020835],[6309.0,53.41291,-8.24389],[64782.0,41.87194,12.56738],[2910.0,49.815273,6.129583],[8242.0,35.937496,14.375416],[71893.0,52.132633,5.291266],[1076.0,41.608635,21.745275],[42805.0,60.472024,8.468946],[15897.0,51.919438,19.145136],[473.0,39.399872,-8.224454],[1263.0,45.943161,24.96676],[66367.0,44.016521,21.005859],[650.0,48.669026,19.699024],[169.0,46.151241,14.995463],[4502.0,40.463667,-3.74922],[92869.0,60.128161,18.643501],[50733.0,46.818188,8.227512],[2790.0,48.379433,31.16558],[149790.0,55.378051,-3.435973]],\"geo\":\"geo\",\"hovertemplate\":\"\\u003cb\\u003e%{hovertext}\\u003c\\u002fb\\u003e\\u003cbr\\u003e\\u003cbr\\u003eYear=%{marker.size}\\u003cbr\\u003eRefugees under UNHCR's mandate=%{marker.color}\\u003cextra\\u003e\\u003c\\u002fextra\\u003e\",\"hovertext\":[\"Albania\",\"Austria\",\"Belarus\",\"Belgium\",\"Bulgaria\",\"Croatia\",\"Cyprus\",\"Denmark\",\"Estonia\",\"Finland\",\"France\",\"Germany\",\"Greece\",\"Hungary\",\"Iceland\",\"Ireland\",\"Italy\",\"Luxembourg\",\"Malta\",\"Netherlands\",\"North Macedonia\",\"Norway\",\"Poland\",\"Portugal\",\"Romania\",\"Serbia\",\"Slovakia\",\"Slovenia\",\"Spain\",\"Sweden\",\"Switzerland\",\"Ukraine\",\"United Kingdom\"],\"lat\":[41.153332,47.516231,53.709807,50.503887,42.733883,45.1,35.126413,56.26392,58.595272,61.92411,46.227638,51.165691,39.074208,47.162494,64.963051,53.41291,41.87194,49.815273,35.937496,52.132633,41.608635,60.472024,51.919438,39.399872,45.943161,44.016521,48.669026,46.151241,40.463667,60.128161,46.818188,48.379433,55.378051],\"legendgroup\":\"\",\"lon\":[20.168331,14.550072,27.953389,4.469936,25.48583,15.2,33.429859,9.501785,25.013607,25.748151,2.213749,10.451526,21.824312,19.503304,-19.020835,-8.24389,12.56738,6.129583,14.375416,5.291266,21.745275,8.468946,19.145136,-8.224454,24.96676,21.005859,19.699024,14.995463,-3.74922,18.643501,8.227512,31.16558,-3.435973],\"marker\":{\"color\":[84,51707,572,22023,2273,722,3627,11797,48,9910,217865,589735,2090,4034,55,6309,64782,2910,8242,71893,1076,42805,15897,473,1263,66367,650,169,4502,92869,50733,2790,149790],\"coloraxis\":\"coloraxis\",\"size\":[2012,2012,2012,2012,2012,2012,2012,2012,2012,2012,2012,2012,2012,2012,2012,2012,2012,2012,2012,2012,2012,2012,2012,2012,2012,2012,2012,2012,2012,2012,2012,2012,2012],\"sizemode\":\"area\",\"sizeref\":20.17,\"symbol\":\"circle\"},\"mode\":\"markers\",\"name\":\"\",\"showlegend\":false,\"type\":\"scattergeo\"}],\"name\":\"2012\"},{\"data\":[{\"customdata\":[[96.0,41.153332,20.168331],[55575.0,47.516231,14.550072],[599.0,53.709807,27.953389],[25617.0,50.503887,4.469936],[4305.0,42.733883,25.48583],[679.0,45.1,15.2],[3879.0,35.126413,33.429859],[13153.0,56.26392,9.501785],[52.0,58.595272,25.013607],[11242.0,61.92411,25.748151],[232487.0,46.227638,2.213749],[187545.0,51.165691,10.451526],[3468.0,39.074208,21.824312],[2422.0,47.162494,19.503304],[72.0,64.963051,-19.020835],[5991.0,53.41291,-8.24389],[76248.0,41.87194,12.56738],[901.0,49.815273,6.129583],[9900.0,35.937496,14.375416],[74700.0,52.132633,5.291266],[980.0,41.608635,21.745275],[46088.0,60.472024,8.468946],[16428.0,51.919438,19.145136],[596.0,39.399872,-8.224454],[1747.0,45.943161,24.96676],[57079.0,44.016521,21.005859],[691.0,48.669026,19.699024],[202.0,46.151241,14.995463],[4641.0,40.463667,-3.74922],[114172.0,60.128161,18.643501],[52448.0,46.818188,8.227512],[2956.0,48.379433,31.16558],[126036.0,55.378051,-3.435973]],\"geo\":\"geo\",\"hovertemplate\":\"\\u003cb\\u003e%{hovertext}\\u003c\\u002fb\\u003e\\u003cbr\\u003e\\u003cbr\\u003eYear=%{marker.size}\\u003cbr\\u003eRefugees under UNHCR's mandate=%{marker.color}\\u003cextra\\u003e\\u003c\\u002fextra\\u003e\",\"hovertext\":[\"Albania\",\"Austria\",\"Belarus\",\"Belgium\",\"Bulgaria\",\"Croatia\",\"Cyprus\",\"Denmark\",\"Estonia\",\"Finland\",\"France\",\"Germany\",\"Greece\",\"Hungary\",\"Iceland\",\"Ireland\",\"Italy\",\"Luxembourg\",\"Malta\",\"Netherlands\",\"North Macedonia\",\"Norway\",\"Poland\",\"Portugal\",\"Romania\",\"Serbia\",\"Slovakia\",\"Slovenia\",\"Spain\",\"Sweden\",\"Switzerland\",\"Ukraine\",\"United Kingdom\"],\"lat\":[41.153332,47.516231,53.709807,50.503887,42.733883,45.1,35.126413,56.26392,58.595272,61.92411,46.227638,51.165691,39.074208,47.162494,64.963051,53.41291,41.87194,49.815273,35.937496,52.132633,41.608635,60.472024,51.919438,39.399872,45.943161,44.016521,48.669026,46.151241,40.463667,60.128161,46.818188,48.379433,55.378051],\"legendgroup\":\"\",\"lon\":[20.168331,14.550072,27.953389,4.469936,25.48583,15.2,33.429859,9.501785,25.013607,25.748151,2.213749,10.451526,21.824312,19.503304,-19.020835,-8.24389,12.56738,6.129583,14.375416,5.291266,21.745275,8.468946,19.145136,-8.224454,24.96676,21.005859,19.699024,14.995463,-3.74922,18.643501,8.227512,31.16558,-3.435973],\"marker\":{\"color\":[96,55575,599,25617,4305,679,3879,13153,52,11242,232487,187545,3468,2422,72,5991,76248,901,9900,74700,980,46088,16428,596,1747,57079,691,202,4641,114172,52448,2956,126036],\"coloraxis\":\"coloraxis\",\"size\":[2013,2013,2013,2013,2013,2013,2013,2013,2013,2013,2013,2013,2013,2013,2013,2013,2013,2013,2013,2013,2013,2013,2013,2013,2013,2013,2013,2013,2013,2013,2013,2013,2013],\"sizemode\":\"area\",\"sizeref\":20.17,\"symbol\":\"circle\"},\"mode\":\"markers\",\"name\":\"\",\"showlegend\":false,\"type\":\"scattergeo\"}],\"name\":\"2013\"},{\"data\":[{\"customdata\":[[111.0,41.153332,20.168331],[60724.0,47.516231,14.550072],[919.0,53.709807,27.953389],[29170.0,50.503887,4.469936],[11026.0,42.733883,25.48583],[724.0,45.1,15.2],[5120.0,35.126413,33.429859],[17767.0,56.26392,9.501785],[82.0,58.595272,25.013607],[11783.0,61.92411,25.748151],[252248.0,46.227638,2.213749],[216956.0,51.165691,10.451526],[10292.0,39.074208,21.824312],[2854.0,47.162494,19.503304],[93.0,64.963051,-19.020835],[5832.0,53.41291,-8.24389],[93712.0,41.87194,12.56738],[1091.0,49.815273,6.129583],[6095.0,35.937496,14.375416],[82483.0,52.132633,5.291266],[880.0,41.608635,21.745275],[47025.0,60.472024,8.468946],[15730.0,51.919438,19.145136],[704.0,39.399872,-8.224454],[2171.0,45.943161,24.96676],[43749.0,44.016521,21.005859],[791.0,48.669026,19.699024],[251.0,46.151241,14.995463],[5797.0,40.463667,-3.74922],[142197.0,60.128161,18.643501],[62596.0,46.818188,8.227512],[3206.0,48.379433,31.16558],[117226.0,55.378051,-3.435973]],\"geo\":\"geo\",\"hovertemplate\":\"\\u003cb\\u003e%{hovertext}\\u003c\\u002fb\\u003e\\u003cbr\\u003e\\u003cbr\\u003eYear=%{marker.size}\\u003cbr\\u003eRefugees under UNHCR's mandate=%{marker.color}\\u003cextra\\u003e\\u003c\\u002fextra\\u003e\",\"hovertext\":[\"Albania\",\"Austria\",\"Belarus\",\"Belgium\",\"Bulgaria\",\"Croatia\",\"Cyprus\",\"Denmark\",\"Estonia\",\"Finland\",\"France\",\"Germany\",\"Greece\",\"Hungary\",\"Iceland\",\"Ireland\",\"Italy\",\"Luxembourg\",\"Malta\",\"Netherlands\",\"North Macedonia\",\"Norway\",\"Poland\",\"Portugal\",\"Romania\",\"Serbia\",\"Slovakia\",\"Slovenia\",\"Spain\",\"Sweden\",\"Switzerland\",\"Ukraine\",\"United Kingdom\"],\"lat\":[41.153332,47.516231,53.709807,50.503887,42.733883,45.1,35.126413,56.26392,58.595272,61.92411,46.227638,51.165691,39.074208,47.162494,64.963051,53.41291,41.87194,49.815273,35.937496,52.132633,41.608635,60.472024,51.919438,39.399872,45.943161,44.016521,48.669026,46.151241,40.463667,60.128161,46.818188,48.379433,55.378051],\"legendgroup\":\"\",\"lon\":[20.168331,14.550072,27.953389,4.469936,25.48583,15.2,33.429859,9.501785,25.013607,25.748151,2.213749,10.451526,21.824312,19.503304,-19.020835,-8.24389,12.56738,6.129583,14.375416,5.291266,21.745275,8.468946,19.145136,-8.224454,24.96676,21.005859,19.699024,14.995463,-3.74922,18.643501,8.227512,31.16558,-3.435973],\"marker\":{\"color\":[111,60724,919,29170,11026,724,5120,17767,82,11783,252248,216956,10292,2854,93,5832,93712,1091,6095,82483,880,47025,15730,704,2171,43749,791,251,5797,142197,62596,3206,117226],\"coloraxis\":\"coloraxis\",\"size\":[2014,2014,2014,2014,2014,2014,2014,2014,2014,2014,2014,2014,2014,2014,2014,2014,2014,2014,2014,2014,2014,2014,2014,2014,2014,2014,2014,2014,2014,2014,2014,2014,2014],\"sizemode\":\"area\",\"sizeref\":20.17,\"symbol\":\"circle\"},\"mode\":\"markers\",\"name\":\"\",\"showlegend\":false,\"type\":\"scattergeo\"}],\"name\":\"2014\"},{\"data\":[{\"customdata\":[[109.0,41.153332,20.168331],[72198.0,47.516231,14.550072],[1805.0,53.709807,27.953389],[35302.0,50.503887,4.469936],[16543.0,42.733883,25.48583],[517.0,45.1,15.2],[7062.0,35.126413,33.429859],[27312.0,56.26392,9.501785],[158.0,58.595272,25.013607],[12692.0,61.92411,25.748151],[273117.0,46.227638,2.213749],[316098.0,51.165691,10.451526],[24831.0,39.074208,21.824312],[4383.0,47.162494,19.503304],[170.0,64.963051,-19.020835],[6108.0,53.41291,-8.24389],[118036.0,41.87194,12.56738],[1306.0,49.815273,6.129583],[7068.0,35.937496,14.375416],[88518.0,52.132633,5.291266],[697.0,41.608635,21.745275],[50377.0,60.472024,8.468946],[14057.0,51.919438,19.145136],[851.0,39.399872,-8.224454],[2581.0,45.943161,24.96676],[35326.0,44.016521,21.005859],[816.0,48.669026,19.699024],[284.0,46.151241,14.995463],[6447.0,40.463667,-3.74922],[169516.0,60.128161,18.643501],[73326.0,46.818188,8.227512],[3261.0,48.379433,31.16558],[123051.0,55.378051,-3.435973]],\"geo\":\"geo\",\"hovertemplate\":\"\\u003cb\\u003e%{hovertext}\\u003c\\u002fb\\u003e\\u003cbr\\u003e\\u003cbr\\u003eYear=%{marker.size}\\u003cbr\\u003eRefugees under UNHCR's mandate=%{marker.color}\\u003cextra\\u003e\\u003c\\u002fextra\\u003e\",\"hovertext\":[\"Albania\",\"Austria\",\"Belarus\",\"Belgium\",\"Bulgaria\",\"Croatia\",\"Cyprus\",\"Denmark\",\"Estonia\",\"Finland\",\"France\",\"Germany\",\"Greece\",\"Hungary\",\"Iceland\",\"Ireland\",\"Italy\",\"Luxembourg\",\"Malta\",\"Netherlands\",\"North Macedonia\",\"Norway\",\"Poland\",\"Portugal\",\"Romania\",\"Serbia\",\"Slovakia\",\"Slovenia\",\"Spain\",\"Sweden\",\"Switzerland\",\"Ukraine\",\"United Kingdom\"],\"lat\":[41.153332,47.516231,53.709807,50.503887,42.733883,45.1,35.126413,56.26392,58.595272,61.92411,46.227638,51.165691,39.074208,47.162494,64.963051,53.41291,41.87194,49.815273,35.937496,52.132633,41.608635,60.472024,51.919438,39.399872,45.943161,44.016521,48.669026,46.151241,40.463667,60.128161,46.818188,48.379433,55.378051],\"legendgroup\":\"\",\"lon\":[20.168331,14.550072,27.953389,4.469936,25.48583,15.2,33.429859,9.501785,25.013607,25.748151,2.213749,10.451526,21.824312,19.503304,-19.020835,-8.24389,12.56738,6.129583,14.375416,5.291266,21.745275,8.468946,19.145136,-8.224454,24.96676,21.005859,19.699024,14.995463,-3.74922,18.643501,8.227512,31.16558,-3.435973],\"marker\":{\"color\":[109,72198,1805,35302,16543,517,7062,27312,158,12692,273117,316098,24831,4383,170,6108,118036,1306,7068,88518,697,50377,14057,851,2581,35326,816,284,6447,169516,73326,3261,123051],\"coloraxis\":\"coloraxis\",\"size\":[2015,2015,2015,2015,2015,2015,2015,2015,2015,2015,2015,2015,2015,2015,2015,2015,2015,2015,2015,2015,2015,2015,2015,2015,2015,2015,2015,2015,2015,2015,2015,2015,2015],\"sizemode\":\"area\",\"sizeref\":20.17,\"symbol\":\"circle\"},\"mode\":\"markers\",\"name\":\"\",\"showlegend\":false,\"type\":\"scattergeo\"}],\"name\":\"2015\"},{\"data\":[{\"customdata\":[[141.0,41.153332,20.168331],[93242.0,47.516231,14.550072],[1647.0,53.709807,27.953389],[42158.0,50.503887,4.469936],[17794.0,42.733883,25.48583],[300.0,45.1,15.2],[8478.0,35.126413,33.429859],[33501.0,56.26392,9.501785],[312.0,58.595272,25.013607],[18402.0,61.92411,25.748151],[304527.0,46.227638,2.213749],[669468.0,51.165691,10.451526],[46411.0,39.074208,21.824312],[4736.0,47.162494,19.503304],[245.0,64.963051,-19.020835],[5720.0,53.41291,-8.24389],[147362.0,41.87194,12.56738],[2020.0,49.815273,6.129583],[7941.0,35.937496,14.375416],[101727.0,52.132633,5.291266],[634.0,41.608635,21.745275],[59512.0,60.472024,8.468946],[11738.0,51.919438,19.145136],[1189.0,39.399872,-8.224454],[2880.0,45.943161,24.96676],[36517.0,44.016521,21.005859],[980.0,48.669026,19.699024],[454.0,46.151241,14.995463],[12983.0,40.463667,-3.74922],[230158.0,60.128161,18.643501],[82668.0,46.818188,8.227512],[3292.0,48.379433,31.16558],[118973.0,55.378051,-3.435973]],\"geo\":\"geo\",\"hovertemplate\":\"\\u003cb\\u003e%{hovertext}\\u003c\\u002fb\\u003e\\u003cbr\\u003e\\u003cbr\\u003eYear=%{marker.size}\\u003cbr\\u003eRefugees under UNHCR's mandate=%{marker.color}\\u003cextra\\u003e\\u003c\\u002fextra\\u003e\",\"hovertext\":[\"Albania\",\"Austria\",\"Belarus\",\"Belgium\",\"Bulgaria\",\"Croatia\",\"Cyprus\",\"Denmark\",\"Estonia\",\"Finland\",\"France\",\"Germany\",\"Greece\",\"Hungary\",\"Iceland\",\"Ireland\",\"Italy\",\"Luxembourg\",\"Malta\",\"Netherlands\",\"North Macedonia\",\"Norway\",\"Poland\",\"Portugal\",\"Romania\",\"Serbia\",\"Slovakia\",\"Slovenia\",\"Spain\",\"Sweden\",\"Switzerland\",\"Ukraine\",\"United Kingdom\"],\"lat\":[41.153332,47.516231,53.709807,50.503887,42.733883,45.1,35.126413,56.26392,58.595272,61.92411,46.227638,51.165691,39.074208,47.162494,64.963051,53.41291,41.87194,49.815273,35.937496,52.132633,41.608635,60.472024,51.919438,39.399872,45.943161,44.016521,48.669026,46.151241,40.463667,60.128161,46.818188,48.379433,55.378051],\"legendgroup\":\"\",\"lon\":[20.168331,14.550072,27.953389,4.469936,25.48583,15.2,33.429859,9.501785,25.013607,25.748151,2.213749,10.451526,21.824312,19.503304,-19.020835,-8.24389,12.56738,6.129583,14.375416,5.291266,21.745275,8.468946,19.145136,-8.224454,24.96676,21.005859,19.699024,14.995463,-3.74922,18.643501,8.227512,31.16558,-3.435973],\"marker\":{\"color\":[141,93242,1647,42158,17794,300,8478,33501,312,18402,304527,669468,46411,4736,245,5720,147362,2020,7941,101727,634,59512,11738,1189,2880,36517,980,454,12983,230158,82668,3292,118973],\"coloraxis\":\"coloraxis\",\"size\":[2016,2016,2016,2016,2016,2016,2016,2016,2016,2016,2016,2016,2016,2016,2016,2016,2016,2016,2016,2016,2016,2016,2016,2016,2016,2016,2016,2016,2016,2016,2016,2016,2016],\"sizemode\":\"area\",\"sizeref\":20.17,\"symbol\":\"circle\"},\"mode\":\"markers\",\"name\":\"\",\"showlegend\":false,\"type\":\"scattergeo\"}],\"name\":\"2016\"},{\"data\":[{\"customdata\":[[124.0,41.153332,20.168331],[115252.0,47.516231,14.550072],[2155.0,53.709807,27.953389],[42158.0,50.503887,4.469936],[19166.0,42.733883,25.48583],[508.0,45.1,15.2],[9790.0,35.126413,33.429859],[35668.0,56.26392,9.501785],[405.0,58.595272,25.013607],[20793.0,61.92411,25.748151],[337158.0,46.227638,2.213749],[970357.0,51.165691,10.451526],[38988.0,39.074208,21.824312],[5671.0,47.162494,19.503304],[361.0,64.963051,-19.020835],[6394.0,53.41291,-8.24389],[167330.0,41.87194,12.56738],[2020.0,49.815273,6.129583],[7994.0,35.937496,14.375416],[103843.0,52.132633,5.291266],[414.0,41.608635,21.745275],[59230.0,60.472024,8.468946],[12225.0,51.919438,19.145136],[1619.0,39.399872,-8.224454],[3911.0,45.943161,24.96676],[32205.0,44.016521,21.005859],[912.0,48.669026,19.699024],[611.0,46.151241,14.995463],[17541.0,40.463667,-3.74922],[240954.0,60.128161,18.643501],[93030.0,46.818188,8.227512],[3241.0,48.379433,31.16558],[121821.0,55.378051,-3.435973]],\"geo\":\"geo\",\"hovertemplate\":\"\\u003cb\\u003e%{hovertext}\\u003c\\u002fb\\u003e\\u003cbr\\u003e\\u003cbr\\u003eYear=%{marker.size}\\u003cbr\\u003eRefugees under UNHCR's mandate=%{marker.color}\\u003cextra\\u003e\\u003c\\u002fextra\\u003e\",\"hovertext\":[\"Albania\",\"Austria\",\"Belarus\",\"Belgium\",\"Bulgaria\",\"Croatia\",\"Cyprus\",\"Denmark\",\"Estonia\",\"Finland\",\"France\",\"Germany\",\"Greece\",\"Hungary\",\"Iceland\",\"Ireland\",\"Italy\",\"Luxembourg\",\"Malta\",\"Netherlands\",\"North Macedonia\",\"Norway\",\"Poland\",\"Portugal\",\"Romania\",\"Serbia\",\"Slovakia\",\"Slovenia\",\"Spain\",\"Sweden\",\"Switzerland\",\"Ukraine\",\"United Kingdom\"],\"lat\":[41.153332,47.516231,53.709807,50.503887,42.733883,45.1,35.126413,56.26392,58.595272,61.92411,46.227638,51.165691,39.074208,47.162494,64.963051,53.41291,41.87194,49.815273,35.937496,52.132633,41.608635,60.472024,51.919438,39.399872,45.943161,44.016521,48.669026,46.151241,40.463667,60.128161,46.818188,48.379433,55.378051],\"legendgroup\":\"\",\"lon\":[20.168331,14.550072,27.953389,4.469936,25.48583,15.2,33.429859,9.501785,25.013607,25.748151,2.213749,10.451526,21.824312,19.503304,-19.020835,-8.24389,12.56738,6.129583,14.375416,5.291266,21.745275,8.468946,19.145136,-8.224454,24.96676,21.005859,19.699024,14.995463,-3.74922,18.643501,8.227512,31.16558,-3.435973],\"marker\":{\"color\":[124,115252,2155,42158,19166,508,9790,35668,405,20793,337158,970357,38988,5671,361,6394,167330,2020,7994,103843,414,59230,12225,1619,3911,32205,912,611,17541,240954,93030,3241,121821],\"coloraxis\":\"coloraxis\",\"size\":[2017,2017,2017,2017,2017,2017,2017,2017,2017,2017,2017,2017,2017,2017,2017,2017,2017,2017,2017,2017,2017,2017,2017,2017,2017,2017,2017,2017,2017,2017,2017,2017,2017],\"sizemode\":\"area\",\"sizeref\":20.17,\"symbol\":\"circle\"},\"mode\":\"markers\",\"name\":\"\",\"showlegend\":false,\"type\":\"scattergeo\"}],\"name\":\"2017\"}]);\n",
       "                        }).then(function(){\n",
       "                            \n",
       "var gd = document.getElementById('2cf951d8-49cc-4fc6-8566-d05d543d6645');\n",
       "var x = new MutationObserver(function (mutations, observer) {{\n",
       "        var display = window.getComputedStyle(gd).display;\n",
       "        if (!display || display === 'none') {{\n",
       "            console.log([gd, 'removed!']);\n",
       "            Plotly.purge(gd);\n",
       "            observer.disconnect();\n",
       "        }}\n",
       "}});\n",
       "\n",
       "// Listen for the removal of the full notebook cells\n",
       "var notebookContainer = gd.closest('#notebook-container');\n",
       "if (notebookContainer) {{\n",
       "    x.observe(notebookContainer, {childList: true});\n",
       "}}\n",
       "\n",
       "// Listen for the clearing of the current output cell\n",
       "var outputEl = gd.closest('.output');\n",
       "if (outputEl) {{\n",
       "    x.observe(outputEl, {childList: true});\n",
       "}}\n",
       "\n",
       "                        })                };                });            </script>        </div>"
      ]
     },
     "metadata": {},
     "output_type": "display_data"
    }
   ],
   "source": [
    "data_raw = pd.read_csv('migranten_eu.csv')\n",
    "data_raw.drop(data_raw.loc[data_raw['Year']==1999].index, inplace=True)\n",
    "data_raw.head(5)\n",
    "\n",
    "migranten_totaal_europa = data_raw[['Year', 'Country of asylum', \"Refugees under UNHCR's mandate\"]]\n",
    "\n",
    "migranten_totaal_europa['Country of asylum'] = migranten_totaal_europa['Country of asylum'].replace({'Netherlands (Kingdom of the)': 'Netherlands'})\n",
    "migranten_totaal_europa['Country of asylum'] = migranten_totaal_europa['Country of asylum'].replace({'United Kingdom of Great Britain and Northern Ireland': 'United Kingdom'})\n",
    "migranten_totaal_europa['Country of asylum'] = migranten_totaal_europa['Country of asylum'].replace({'Serbia and Kosovo: S/RES/1244 (1999)': 'Serbia'})\n",
    "\n",
    "migranten_totaal_europa.head(5)\n",
    "\n",
    "df2 = migranten_totaal_europa.groupby(['Year','Country of asylum'], as_index=False)[\"Refugees under UNHCR's mandate\"].sum()\n",
    "#df2.to_csv('migranten_per_jaar_per_land.csv')\n",
    "\n",
    "df3 = migranten_totaal_europa.groupby(['Year'], as_index=False)[\"Refugees under UNHCR's mandate\"].sum()\n",
    "#df3.to_csv('migranten_per_jaar_europa.csv')\n",
    "\n",
    "df4 = migranten_totaal_europa.groupby(['Country of asylum'], as_index=False)[\"Refugees under UNHCR's mandate\"].sum()\n",
    "#df4.to_csv('migranten_per_land_totaal.csv')\n",
    "\n",
    "data_lon_lat = pd.read_csv('world_country_and_usa_states_latitude_and_longitude_values.csv').rename(columns={'country': 'Country of asylum'})\n",
    "data_lon_lat['Country of asylum'] = data_lon_lat['Country of asylum'].replace({'Macedonia [FYROM]': 'North Macedonia'})\n",
    "data_lon_lat2 = data_lon_lat[['latitude', 'longitude', 'Country of asylum']]\n",
    "data_lon_lat2.head(5)\n",
    "\n",
    "data_ter = pd.read_csv('terrorism_eu.csv').rename(columns={'country_txt': 'Country of asylum', 'iyear': 'Year', 'multiple': 'Terrorist attacks'})\n",
    "data_ter['Country of asylum'] = data_ter['Country of asylum'].replace({'Macedonia': 'North Macedonia'})\n",
    "data_ter['Country of asylum'] = data_ter['Country of asylum'].replace({'Slovak Republic': 'Slovakia'})\n",
    "data_ter['Country of asylum'] = data_ter['Country of asylum'].replace({'Serbia-Montenegro': 'Serbia'})\n",
    "data_ter = data_ter[['Country of asylum', 'Year', 'Terrorist attacks']]\n",
    "data_ter.head(5)\n",
    "\n",
    "df_half = df2.merge(data_lon_lat2, on='Country of asylum')\n",
    "df_full = pd.merge(df_half, data_ter,  how='left', left_on=['Country of asylum','Year'], right_on = ['Country of asylum','Year']).fillna(0)\n",
    "df_full.head(500)\n",
    "#df_full.to_csv('test.csv')\n",
    "\n",
    "fig_ref = px.scatter_geo(df_full, \n",
    "                     lat='latitude',\n",
    "                     lon='longitude',\n",
    "                     color=\"Refugees under UNHCR's mandate\",\n",
    "                     color_continuous_scale=px.colors.sequential.OrRd,\n",
    "                     height=650,\n",
    "                     width=950,\n",
    "                     hover_name=\"Country of asylum\",\n",
    "                     hover_data={\n",
    "                                \"Refugees under UNHCR's mandate\":True,\n",
    "                                \"latitude\":False, \n",
    "                                \"longitude\":False,\n",
    "                                },\n",
    "                     projection=\"natural earth\",\n",
    "                     scope=\"europe\",\n",
    "                     size=df_full[\"Year\"],\n",
    "                     size_max=10,\n",
    "                     animation_frame=\"Year\",\n",
    "                    )\n",
    "\n",
    "fig_ref.update_geos(\n",
    "    visible=True, \n",
    "    resolution=50,\n",
    "    showcountries=True, \n",
    "    countrycolor=\"whitesmoke\",\n",
    "    bgcolor='whitesmoke',\n",
    "    landcolor='#26a783',\n",
    ")\n",
    "\n",
    "fig_ref.update_layout(\n",
    "    title='Amount of Refugees in Europe between 2000 and 2017',\n",
    ")\n",
    "\n",
    "fig_ref.update_traces(marker=dict(line=dict(width=0.5, color='black')))\n",
    "fig_ref.show()"
   ]
  },
  {
   "attachments": {},
   "cell_type": "markdown",
   "id": "f0947eb3",
   "metadata": {},
   "source": [
    "> *Figuur 2: Het aantal vluchtelingen in Europa onder het UNHCR mandaat had een aanzienlijke stijging vanaf 2013. "
   ]
  },
  {
   "attachments": {},
   "cell_type": "markdown",
   "id": "12dd6b2b",
   "metadata": {
    "hidePrompt": false
   },
   "source": [
    "De aanhoudende conflicten in Syrië, Afghanistan en Irak hebben een aanzienlijk aantal burgers gedwongen hun huizen te ontvluchten en hun toevlucht te zoeken in Europa. Deze toestroom van individuen, die in 2015 in een stroomversnelling kwam, wordt de 'vluchtelingencrisis' genoemd. Naarmate veiligheid een primaire focus werd van Europese landen, leek de humanitaire dimensie van migratie naar de achtergrond te verdwijnen."
   ]
  },
  {
   "cell_type": "code",
   "execution_count": 114,
   "id": "6f220a4b",
   "metadata": {
    "hideCode": true,
    "tags": [
     "hide-input"
    ]
   },
   "outputs": [
    {
     "data": {
      "application/vnd.plotly.v1+json": {
       "config": {
        "plotlyServerURL": "https://plot.ly"
       },
       "data": [
        {
         "marker": {
          "color": "rgb(238, 75, 43)",
          "line": {
           "width": 0
          },
          "size": 8,
          "symbol": "circle"
         },
         "mode": "markers",
         "name": "Refugees",
         "type": "scatter",
         "x": [
          2000,
          2001,
          2002,
          2003,
          2004,
          2005,
          2006,
          2007,
          2008,
          2009,
          2010,
          2011,
          2012,
          2013,
          2014,
          2015,
          2016,
          2017
         ],
         "y": [
          12129079,
          12116301,
          10593526,
          9592247,
          9572719,
          8661293,
          9876879,
          11390082,
          10488915,
          10395713,
          10548835,
          10403937,
          10497017,
          11698233,
          14384289,
          16110276,
          17184286,
          19940566
         ]
        }
       ],
       "layout": {
        "height": 800,
        "plot_bgcolor": "rgb(252,245,245)",
        "template": {
         "data": {
          "bar": [
           {
            "error_x": {
             "color": "#2a3f5f"
            },
            "error_y": {
             "color": "#2a3f5f"
            },
            "marker": {
             "line": {
              "color": "#E5ECF6",
              "width": 0.5
             },
             "pattern": {
              "fillmode": "overlay",
              "size": 10,
              "solidity": 0.2
             }
            },
            "type": "bar"
           }
          ],
          "barpolar": [
           {
            "marker": {
             "line": {
              "color": "#E5ECF6",
              "width": 0.5
             },
             "pattern": {
              "fillmode": "overlay",
              "size": 10,
              "solidity": 0.2
             }
            },
            "type": "barpolar"
           }
          ],
          "carpet": [
           {
            "aaxis": {
             "endlinecolor": "#2a3f5f",
             "gridcolor": "white",
             "linecolor": "white",
             "minorgridcolor": "white",
             "startlinecolor": "#2a3f5f"
            },
            "baxis": {
             "endlinecolor": "#2a3f5f",
             "gridcolor": "white",
             "linecolor": "white",
             "minorgridcolor": "white",
             "startlinecolor": "#2a3f5f"
            },
            "type": "carpet"
           }
          ],
          "choropleth": [
           {
            "colorbar": {
             "outlinewidth": 0,
             "ticks": ""
            },
            "type": "choropleth"
           }
          ],
          "contour": [
           {
            "colorbar": {
             "outlinewidth": 0,
             "ticks": ""
            },
            "colorscale": [
             [
              0,
              "#0d0887"
             ],
             [
              0.1111111111111111,
              "#46039f"
             ],
             [
              0.2222222222222222,
              "#7201a8"
             ],
             [
              0.3333333333333333,
              "#9c179e"
             ],
             [
              0.4444444444444444,
              "#bd3786"
             ],
             [
              0.5555555555555556,
              "#d8576b"
             ],
             [
              0.6666666666666666,
              "#ed7953"
             ],
             [
              0.7777777777777778,
              "#fb9f3a"
             ],
             [
              0.8888888888888888,
              "#fdca26"
             ],
             [
              1,
              "#f0f921"
             ]
            ],
            "type": "contour"
           }
          ],
          "contourcarpet": [
           {
            "colorbar": {
             "outlinewidth": 0,
             "ticks": ""
            },
            "type": "contourcarpet"
           }
          ],
          "heatmap": [
           {
            "colorbar": {
             "outlinewidth": 0,
             "ticks": ""
            },
            "colorscale": [
             [
              0,
              "#0d0887"
             ],
             [
              0.1111111111111111,
              "#46039f"
             ],
             [
              0.2222222222222222,
              "#7201a8"
             ],
             [
              0.3333333333333333,
              "#9c179e"
             ],
             [
              0.4444444444444444,
              "#bd3786"
             ],
             [
              0.5555555555555556,
              "#d8576b"
             ],
             [
              0.6666666666666666,
              "#ed7953"
             ],
             [
              0.7777777777777778,
              "#fb9f3a"
             ],
             [
              0.8888888888888888,
              "#fdca26"
             ],
             [
              1,
              "#f0f921"
             ]
            ],
            "type": "heatmap"
           }
          ],
          "heatmapgl": [
           {
            "colorbar": {
             "outlinewidth": 0,
             "ticks": ""
            },
            "colorscale": [
             [
              0,
              "#0d0887"
             ],
             [
              0.1111111111111111,
              "#46039f"
             ],
             [
              0.2222222222222222,
              "#7201a8"
             ],
             [
              0.3333333333333333,
              "#9c179e"
             ],
             [
              0.4444444444444444,
              "#bd3786"
             ],
             [
              0.5555555555555556,
              "#d8576b"
             ],
             [
              0.6666666666666666,
              "#ed7953"
             ],
             [
              0.7777777777777778,
              "#fb9f3a"
             ],
             [
              0.8888888888888888,
              "#fdca26"
             ],
             [
              1,
              "#f0f921"
             ]
            ],
            "type": "heatmapgl"
           }
          ],
          "histogram": [
           {
            "marker": {
             "pattern": {
              "fillmode": "overlay",
              "size": 10,
              "solidity": 0.2
             }
            },
            "type": "histogram"
           }
          ],
          "histogram2d": [
           {
            "colorbar": {
             "outlinewidth": 0,
             "ticks": ""
            },
            "colorscale": [
             [
              0,
              "#0d0887"
             ],
             [
              0.1111111111111111,
              "#46039f"
             ],
             [
              0.2222222222222222,
              "#7201a8"
             ],
             [
              0.3333333333333333,
              "#9c179e"
             ],
             [
              0.4444444444444444,
              "#bd3786"
             ],
             [
              0.5555555555555556,
              "#d8576b"
             ],
             [
              0.6666666666666666,
              "#ed7953"
             ],
             [
              0.7777777777777778,
              "#fb9f3a"
             ],
             [
              0.8888888888888888,
              "#fdca26"
             ],
             [
              1,
              "#f0f921"
             ]
            ],
            "type": "histogram2d"
           }
          ],
          "histogram2dcontour": [
           {
            "colorbar": {
             "outlinewidth": 0,
             "ticks": ""
            },
            "colorscale": [
             [
              0,
              "#0d0887"
             ],
             [
              0.1111111111111111,
              "#46039f"
             ],
             [
              0.2222222222222222,
              "#7201a8"
             ],
             [
              0.3333333333333333,
              "#9c179e"
             ],
             [
              0.4444444444444444,
              "#bd3786"
             ],
             [
              0.5555555555555556,
              "#d8576b"
             ],
             [
              0.6666666666666666,
              "#ed7953"
             ],
             [
              0.7777777777777778,
              "#fb9f3a"
             ],
             [
              0.8888888888888888,
              "#fdca26"
             ],
             [
              1,
              "#f0f921"
             ]
            ],
            "type": "histogram2dcontour"
           }
          ],
          "mesh3d": [
           {
            "colorbar": {
             "outlinewidth": 0,
             "ticks": ""
            },
            "type": "mesh3d"
           }
          ],
          "parcoords": [
           {
            "line": {
             "colorbar": {
              "outlinewidth": 0,
              "ticks": ""
             }
            },
            "type": "parcoords"
           }
          ],
          "pie": [
           {
            "automargin": true,
            "type": "pie"
           }
          ],
          "scatter": [
           {
            "fillpattern": {
             "fillmode": "overlay",
             "size": 10,
             "solidity": 0.2
            },
            "type": "scatter"
           }
          ],
          "scatter3d": [
           {
            "line": {
             "colorbar": {
              "outlinewidth": 0,
              "ticks": ""
             }
            },
            "marker": {
             "colorbar": {
              "outlinewidth": 0,
              "ticks": ""
             }
            },
            "type": "scatter3d"
           }
          ],
          "scattercarpet": [
           {
            "marker": {
             "colorbar": {
              "outlinewidth": 0,
              "ticks": ""
             }
            },
            "type": "scattercarpet"
           }
          ],
          "scattergeo": [
           {
            "marker": {
             "colorbar": {
              "outlinewidth": 0,
              "ticks": ""
             }
            },
            "type": "scattergeo"
           }
          ],
          "scattergl": [
           {
            "marker": {
             "colorbar": {
              "outlinewidth": 0,
              "ticks": ""
             }
            },
            "type": "scattergl"
           }
          ],
          "scattermapbox": [
           {
            "marker": {
             "colorbar": {
              "outlinewidth": 0,
              "ticks": ""
             }
            },
            "type": "scattermapbox"
           }
          ],
          "scatterpolar": [
           {
            "marker": {
             "colorbar": {
              "outlinewidth": 0,
              "ticks": ""
             }
            },
            "type": "scatterpolar"
           }
          ],
          "scatterpolargl": [
           {
            "marker": {
             "colorbar": {
              "outlinewidth": 0,
              "ticks": ""
             }
            },
            "type": "scatterpolargl"
           }
          ],
          "scatterternary": [
           {
            "marker": {
             "colorbar": {
              "outlinewidth": 0,
              "ticks": ""
             }
            },
            "type": "scatterternary"
           }
          ],
          "surface": [
           {
            "colorbar": {
             "outlinewidth": 0,
             "ticks": ""
            },
            "colorscale": [
             [
              0,
              "#0d0887"
             ],
             [
              0.1111111111111111,
              "#46039f"
             ],
             [
              0.2222222222222222,
              "#7201a8"
             ],
             [
              0.3333333333333333,
              "#9c179e"
             ],
             [
              0.4444444444444444,
              "#bd3786"
             ],
             [
              0.5555555555555556,
              "#d8576b"
             ],
             [
              0.6666666666666666,
              "#ed7953"
             ],
             [
              0.7777777777777778,
              "#fb9f3a"
             ],
             [
              0.8888888888888888,
              "#fdca26"
             ],
             [
              1,
              "#f0f921"
             ]
            ],
            "type": "surface"
           }
          ],
          "table": [
           {
            "cells": {
             "fill": {
              "color": "#EBF0F8"
             },
             "line": {
              "color": "white"
             }
            },
            "header": {
             "fill": {
              "color": "#C8D4E3"
             },
             "line": {
              "color": "white"
             }
            },
            "type": "table"
           }
          ]
         },
         "layout": {
          "annotationdefaults": {
           "arrowcolor": "#2a3f5f",
           "arrowhead": 0,
           "arrowwidth": 1
          },
          "autotypenumbers": "strict",
          "coloraxis": {
           "colorbar": {
            "outlinewidth": 0,
            "ticks": ""
           }
          },
          "colorscale": {
           "diverging": [
            [
             0,
             "#8e0152"
            ],
            [
             0.1,
             "#c51b7d"
            ],
            [
             0.2,
             "#de77ae"
            ],
            [
             0.3,
             "#f1b6da"
            ],
            [
             0.4,
             "#fde0ef"
            ],
            [
             0.5,
             "#f7f7f7"
            ],
            [
             0.6,
             "#e6f5d0"
            ],
            [
             0.7,
             "#b8e186"
            ],
            [
             0.8,
             "#7fbc41"
            ],
            [
             0.9,
             "#4d9221"
            ],
            [
             1,
             "#276419"
            ]
           ],
           "sequential": [
            [
             0,
             "#0d0887"
            ],
            [
             0.1111111111111111,
             "#46039f"
            ],
            [
             0.2222222222222222,
             "#7201a8"
            ],
            [
             0.3333333333333333,
             "#9c179e"
            ],
            [
             0.4444444444444444,
             "#bd3786"
            ],
            [
             0.5555555555555556,
             "#d8576b"
            ],
            [
             0.6666666666666666,
             "#ed7953"
            ],
            [
             0.7777777777777778,
             "#fb9f3a"
            ],
            [
             0.8888888888888888,
             "#fdca26"
            ],
            [
             1,
             "#f0f921"
            ]
           ],
           "sequentialminus": [
            [
             0,
             "#0d0887"
            ],
            [
             0.1111111111111111,
             "#46039f"
            ],
            [
             0.2222222222222222,
             "#7201a8"
            ],
            [
             0.3333333333333333,
             "#9c179e"
            ],
            [
             0.4444444444444444,
             "#bd3786"
            ],
            [
             0.5555555555555556,
             "#d8576b"
            ],
            [
             0.6666666666666666,
             "#ed7953"
            ],
            [
             0.7777777777777778,
             "#fb9f3a"
            ],
            [
             0.8888888888888888,
             "#fdca26"
            ],
            [
             1,
             "#f0f921"
            ]
           ]
          },
          "colorway": [
           "#636efa",
           "#EF553B",
           "#00cc96",
           "#ab63fa",
           "#FFA15A",
           "#19d3f3",
           "#FF6692",
           "#B6E880",
           "#FF97FF",
           "#FECB52"
          ],
          "font": {
           "color": "#2a3f5f"
          },
          "geo": {
           "bgcolor": "white",
           "lakecolor": "white",
           "landcolor": "#E5ECF6",
           "showlakes": true,
           "showland": true,
           "subunitcolor": "white"
          },
          "hoverlabel": {
           "align": "left"
          },
          "hovermode": "closest",
          "mapbox": {
           "style": "light"
          },
          "paper_bgcolor": "white",
          "plot_bgcolor": "#E5ECF6",
          "polar": {
           "angularaxis": {
            "gridcolor": "white",
            "linecolor": "white",
            "ticks": ""
           },
           "bgcolor": "#E5ECF6",
           "radialaxis": {
            "gridcolor": "white",
            "linecolor": "white",
            "ticks": ""
           }
          },
          "scene": {
           "xaxis": {
            "backgroundcolor": "#E5ECF6",
            "gridcolor": "white",
            "gridwidth": 2,
            "linecolor": "white",
            "showbackground": true,
            "ticks": "",
            "zerolinecolor": "white"
           },
           "yaxis": {
            "backgroundcolor": "#E5ECF6",
            "gridcolor": "white",
            "gridwidth": 2,
            "linecolor": "white",
            "showbackground": true,
            "ticks": "",
            "zerolinecolor": "white"
           },
           "zaxis": {
            "backgroundcolor": "#E5ECF6",
            "gridcolor": "white",
            "gridwidth": 2,
            "linecolor": "white",
            "showbackground": true,
            "ticks": "",
            "zerolinecolor": "white"
           }
          },
          "shapedefaults": {
           "line": {
            "color": "#2a3f5f"
           }
          },
          "ternary": {
           "aaxis": {
            "gridcolor": "white",
            "linecolor": "white",
            "ticks": ""
           },
           "baxis": {
            "gridcolor": "white",
            "linecolor": "white",
            "ticks": ""
           },
           "bgcolor": "#E5ECF6",
           "caxis": {
            "gridcolor": "white",
            "linecolor": "white",
            "ticks": ""
           }
          },
          "title": {
           "x": 0.05
          },
          "xaxis": {
           "automargin": true,
           "gridcolor": "white",
           "linecolor": "white",
           "ticks": "",
           "title": {
            "standoff": 15
           },
           "zerolinecolor": "white",
           "zerolinewidth": 2
          },
          "yaxis": {
           "automargin": true,
           "gridcolor": "white",
           "linecolor": "white",
           "ticks": "",
           "title": {
            "standoff": 15
           },
           "zerolinecolor": "white",
           "zerolinewidth": 2
          }
         }
        },
        "title": {
         "text": "Aantal vluchtelingen in Europa"
        },
        "width": 800,
        "xaxis": {
         "categoryarray": [
          2017,
          2016,
          2015,
          2014,
          2013,
          2012,
          2011,
          2010,
          2009,
          2008,
          2007,
          2006,
          2005,
          2004,
          2003,
          2002,
          2001,
          2000
         ],
         "categoryorder": "array",
         "title": {
          "text": "Jaar"
         },
         "type": "category"
        },
        "yaxis": {
         "range": [
          0,
          22000000
         ],
         "title": {
          "text": "Vluchtelingen onder UNHCR's mandate"
         }
        }
       }
      },
      "text/html": [
       "<div>                            <div id=\"bedc06d3-bac2-4fe6-b802-5bddb8a86da1\" class=\"plotly-graph-div\" style=\"height:800px; width:800px;\"></div>            <script type=\"text/javascript\">                require([\"plotly\"], function(Plotly) {                    window.PLOTLYENV=window.PLOTLYENV || {};                                    if (document.getElementById(\"bedc06d3-bac2-4fe6-b802-5bddb8a86da1\")) {                    Plotly.newPlot(                        \"bedc06d3-bac2-4fe6-b802-5bddb8a86da1\",                        [{\"marker\":{\"color\":\"rgb(238, 75, 43)\",\"line\":{\"width\":0},\"size\":8,\"symbol\":\"circle\"},\"mode\":\"markers\",\"name\":\"Refugees\",\"x\":[2000,2001,2002,2003,2004,2005,2006,2007,2008,2009,2010,2011,2012,2013,2014,2015,2016,2017],\"y\":[12129079,12116301,10593526,9592247,9572719,8661293,9876879,11390082,10488915,10395713,10548835,10403937,10497017,11698233,14384289,16110276,17184286,19940566],\"type\":\"scatter\"}],                        {\"template\":{\"data\":{\"histogram2dcontour\":[{\"type\":\"histogram2dcontour\",\"colorbar\":{\"outlinewidth\":0,\"ticks\":\"\"},\"colorscale\":[[0.0,\"#0d0887\"],[0.1111111111111111,\"#46039f\"],[0.2222222222222222,\"#7201a8\"],[0.3333333333333333,\"#9c179e\"],[0.4444444444444444,\"#bd3786\"],[0.5555555555555556,\"#d8576b\"],[0.6666666666666666,\"#ed7953\"],[0.7777777777777778,\"#fb9f3a\"],[0.8888888888888888,\"#fdca26\"],[1.0,\"#f0f921\"]]}],\"choropleth\":[{\"type\":\"choropleth\",\"colorbar\":{\"outlinewidth\":0,\"ticks\":\"\"}}],\"histogram2d\":[{\"type\":\"histogram2d\",\"colorbar\":{\"outlinewidth\":0,\"ticks\":\"\"},\"colorscale\":[[0.0,\"#0d0887\"],[0.1111111111111111,\"#46039f\"],[0.2222222222222222,\"#7201a8\"],[0.3333333333333333,\"#9c179e\"],[0.4444444444444444,\"#bd3786\"],[0.5555555555555556,\"#d8576b\"],[0.6666666666666666,\"#ed7953\"],[0.7777777777777778,\"#fb9f3a\"],[0.8888888888888888,\"#fdca26\"],[1.0,\"#f0f921\"]]}],\"heatmap\":[{\"type\":\"heatmap\",\"colorbar\":{\"outlinewidth\":0,\"ticks\":\"\"},\"colorscale\":[[0.0,\"#0d0887\"],[0.1111111111111111,\"#46039f\"],[0.2222222222222222,\"#7201a8\"],[0.3333333333333333,\"#9c179e\"],[0.4444444444444444,\"#bd3786\"],[0.5555555555555556,\"#d8576b\"],[0.6666666666666666,\"#ed7953\"],[0.7777777777777778,\"#fb9f3a\"],[0.8888888888888888,\"#fdca26\"],[1.0,\"#f0f921\"]]}],\"heatmapgl\":[{\"type\":\"heatmapgl\",\"colorbar\":{\"outlinewidth\":0,\"ticks\":\"\"},\"colorscale\":[[0.0,\"#0d0887\"],[0.1111111111111111,\"#46039f\"],[0.2222222222222222,\"#7201a8\"],[0.3333333333333333,\"#9c179e\"],[0.4444444444444444,\"#bd3786\"],[0.5555555555555556,\"#d8576b\"],[0.6666666666666666,\"#ed7953\"],[0.7777777777777778,\"#fb9f3a\"],[0.8888888888888888,\"#fdca26\"],[1.0,\"#f0f921\"]]}],\"contourcarpet\":[{\"type\":\"contourcarpet\",\"colorbar\":{\"outlinewidth\":0,\"ticks\":\"\"}}],\"contour\":[{\"type\":\"contour\",\"colorbar\":{\"outlinewidth\":0,\"ticks\":\"\"},\"colorscale\":[[0.0,\"#0d0887\"],[0.1111111111111111,\"#46039f\"],[0.2222222222222222,\"#7201a8\"],[0.3333333333333333,\"#9c179e\"],[0.4444444444444444,\"#bd3786\"],[0.5555555555555556,\"#d8576b\"],[0.6666666666666666,\"#ed7953\"],[0.7777777777777778,\"#fb9f3a\"],[0.8888888888888888,\"#fdca26\"],[1.0,\"#f0f921\"]]}],\"surface\":[{\"type\":\"surface\",\"colorbar\":{\"outlinewidth\":0,\"ticks\":\"\"},\"colorscale\":[[0.0,\"#0d0887\"],[0.1111111111111111,\"#46039f\"],[0.2222222222222222,\"#7201a8\"],[0.3333333333333333,\"#9c179e\"],[0.4444444444444444,\"#bd3786\"],[0.5555555555555556,\"#d8576b\"],[0.6666666666666666,\"#ed7953\"],[0.7777777777777778,\"#fb9f3a\"],[0.8888888888888888,\"#fdca26\"],[1.0,\"#f0f921\"]]}],\"mesh3d\":[{\"type\":\"mesh3d\",\"colorbar\":{\"outlinewidth\":0,\"ticks\":\"\"}}],\"scatter\":[{\"fillpattern\":{\"fillmode\":\"overlay\",\"size\":10,\"solidity\":0.2},\"type\":\"scatter\"}],\"parcoords\":[{\"type\":\"parcoords\",\"line\":{\"colorbar\":{\"outlinewidth\":0,\"ticks\":\"\"}}}],\"scatterpolargl\":[{\"type\":\"scatterpolargl\",\"marker\":{\"colorbar\":{\"outlinewidth\":0,\"ticks\":\"\"}}}],\"bar\":[{\"error_x\":{\"color\":\"#2a3f5f\"},\"error_y\":{\"color\":\"#2a3f5f\"},\"marker\":{\"line\":{\"color\":\"#E5ECF6\",\"width\":0.5},\"pattern\":{\"fillmode\":\"overlay\",\"size\":10,\"solidity\":0.2}},\"type\":\"bar\"}],\"scattergeo\":[{\"type\":\"scattergeo\",\"marker\":{\"colorbar\":{\"outlinewidth\":0,\"ticks\":\"\"}}}],\"scatterpolar\":[{\"type\":\"scatterpolar\",\"marker\":{\"colorbar\":{\"outlinewidth\":0,\"ticks\":\"\"}}}],\"histogram\":[{\"marker\":{\"pattern\":{\"fillmode\":\"overlay\",\"size\":10,\"solidity\":0.2}},\"type\":\"histogram\"}],\"scattergl\":[{\"type\":\"scattergl\",\"marker\":{\"colorbar\":{\"outlinewidth\":0,\"ticks\":\"\"}}}],\"scatter3d\":[{\"type\":\"scatter3d\",\"line\":{\"colorbar\":{\"outlinewidth\":0,\"ticks\":\"\"}},\"marker\":{\"colorbar\":{\"outlinewidth\":0,\"ticks\":\"\"}}}],\"scattermapbox\":[{\"type\":\"scattermapbox\",\"marker\":{\"colorbar\":{\"outlinewidth\":0,\"ticks\":\"\"}}}],\"scatterternary\":[{\"type\":\"scatterternary\",\"marker\":{\"colorbar\":{\"outlinewidth\":0,\"ticks\":\"\"}}}],\"scattercarpet\":[{\"type\":\"scattercarpet\",\"marker\":{\"colorbar\":{\"outlinewidth\":0,\"ticks\":\"\"}}}],\"carpet\":[{\"aaxis\":{\"endlinecolor\":\"#2a3f5f\",\"gridcolor\":\"white\",\"linecolor\":\"white\",\"minorgridcolor\":\"white\",\"startlinecolor\":\"#2a3f5f\"},\"baxis\":{\"endlinecolor\":\"#2a3f5f\",\"gridcolor\":\"white\",\"linecolor\":\"white\",\"minorgridcolor\":\"white\",\"startlinecolor\":\"#2a3f5f\"},\"type\":\"carpet\"}],\"table\":[{\"cells\":{\"fill\":{\"color\":\"#EBF0F8\"},\"line\":{\"color\":\"white\"}},\"header\":{\"fill\":{\"color\":\"#C8D4E3\"},\"line\":{\"color\":\"white\"}},\"type\":\"table\"}],\"barpolar\":[{\"marker\":{\"line\":{\"color\":\"#E5ECF6\",\"width\":0.5},\"pattern\":{\"fillmode\":\"overlay\",\"size\":10,\"solidity\":0.2}},\"type\":\"barpolar\"}],\"pie\":[{\"automargin\":true,\"type\":\"pie\"}]},\"layout\":{\"autotypenumbers\":\"strict\",\"colorway\":[\"#636efa\",\"#EF553B\",\"#00cc96\",\"#ab63fa\",\"#FFA15A\",\"#19d3f3\",\"#FF6692\",\"#B6E880\",\"#FF97FF\",\"#FECB52\"],\"font\":{\"color\":\"#2a3f5f\"},\"hovermode\":\"closest\",\"hoverlabel\":{\"align\":\"left\"},\"paper_bgcolor\":\"white\",\"plot_bgcolor\":\"#E5ECF6\",\"polar\":{\"bgcolor\":\"#E5ECF6\",\"angularaxis\":{\"gridcolor\":\"white\",\"linecolor\":\"white\",\"ticks\":\"\"},\"radialaxis\":{\"gridcolor\":\"white\",\"linecolor\":\"white\",\"ticks\":\"\"}},\"ternary\":{\"bgcolor\":\"#E5ECF6\",\"aaxis\":{\"gridcolor\":\"white\",\"linecolor\":\"white\",\"ticks\":\"\"},\"baxis\":{\"gridcolor\":\"white\",\"linecolor\":\"white\",\"ticks\":\"\"},\"caxis\":{\"gridcolor\":\"white\",\"linecolor\":\"white\",\"ticks\":\"\"}},\"coloraxis\":{\"colorbar\":{\"outlinewidth\":0,\"ticks\":\"\"}},\"colorscale\":{\"sequential\":[[0.0,\"#0d0887\"],[0.1111111111111111,\"#46039f\"],[0.2222222222222222,\"#7201a8\"],[0.3333333333333333,\"#9c179e\"],[0.4444444444444444,\"#bd3786\"],[0.5555555555555556,\"#d8576b\"],[0.6666666666666666,\"#ed7953\"],[0.7777777777777778,\"#fb9f3a\"],[0.8888888888888888,\"#fdca26\"],[1.0,\"#f0f921\"]],\"sequentialminus\":[[0.0,\"#0d0887\"],[0.1111111111111111,\"#46039f\"],[0.2222222222222222,\"#7201a8\"],[0.3333333333333333,\"#9c179e\"],[0.4444444444444444,\"#bd3786\"],[0.5555555555555556,\"#d8576b\"],[0.6666666666666666,\"#ed7953\"],[0.7777777777777778,\"#fb9f3a\"],[0.8888888888888888,\"#fdca26\"],[1.0,\"#f0f921\"]],\"diverging\":[[0,\"#8e0152\"],[0.1,\"#c51b7d\"],[0.2,\"#de77ae\"],[0.3,\"#f1b6da\"],[0.4,\"#fde0ef\"],[0.5,\"#f7f7f7\"],[0.6,\"#e6f5d0\"],[0.7,\"#b8e186\"],[0.8,\"#7fbc41\"],[0.9,\"#4d9221\"],[1,\"#276419\"]]},\"xaxis\":{\"gridcolor\":\"white\",\"linecolor\":\"white\",\"ticks\":\"\",\"title\":{\"standoff\":15},\"zerolinecolor\":\"white\",\"automargin\":true,\"zerolinewidth\":2},\"yaxis\":{\"gridcolor\":\"white\",\"linecolor\":\"white\",\"ticks\":\"\",\"title\":{\"standoff\":15},\"zerolinecolor\":\"white\",\"automargin\":true,\"zerolinewidth\":2},\"scene\":{\"xaxis\":{\"backgroundcolor\":\"#E5ECF6\",\"gridcolor\":\"white\",\"linecolor\":\"white\",\"showbackground\":true,\"ticks\":\"\",\"zerolinecolor\":\"white\",\"gridwidth\":2},\"yaxis\":{\"backgroundcolor\":\"#E5ECF6\",\"gridcolor\":\"white\",\"linecolor\":\"white\",\"showbackground\":true,\"ticks\":\"\",\"zerolinecolor\":\"white\",\"gridwidth\":2},\"zaxis\":{\"backgroundcolor\":\"#E5ECF6\",\"gridcolor\":\"white\",\"linecolor\":\"white\",\"showbackground\":true,\"ticks\":\"\",\"zerolinecolor\":\"white\",\"gridwidth\":2}},\"shapedefaults\":{\"line\":{\"color\":\"#2a3f5f\"}},\"annotationdefaults\":{\"arrowcolor\":\"#2a3f5f\",\"arrowhead\":0,\"arrowwidth\":1},\"geo\":{\"bgcolor\":\"white\",\"landcolor\":\"#E5ECF6\",\"subunitcolor\":\"white\",\"showland\":true,\"showlakes\":true,\"lakecolor\":\"white\"},\"title\":{\"x\":0.05},\"mapbox\":{\"style\":\"light\"}}},\"xaxis\":{\"type\":\"category\",\"categoryorder\":\"array\",\"categoryarray\":[2017,2016,2015,2014,2013,2012,2011,2010,2009,2008,2007,2006,2005,2004,2003,2002,2001,2000],\"title\":{\"text\":\"Jaar\"}},\"yaxis\":{\"range\":[0,22000000],\"title\":{\"text\":\"Vluchtelingen onder UNHCR's mandate\"}},\"title\":{\"text\":\"Aantal vluchtelingen in Europa\"},\"width\":800,\"height\":800,\"plot_bgcolor\":\"rgb(252,245,245)\"},                        {\"responsive\": true}                    ).then(function(){\n",
       "                            \n",
       "var gd = document.getElementById('bedc06d3-bac2-4fe6-b802-5bddb8a86da1');\n",
       "var x = new MutationObserver(function (mutations, observer) {{\n",
       "        var display = window.getComputedStyle(gd).display;\n",
       "        if (!display || display === 'none') {{\n",
       "            console.log([gd, 'removed!']);\n",
       "            Plotly.purge(gd);\n",
       "            observer.disconnect();\n",
       "        }}\n",
       "}});\n",
       "\n",
       "// Listen for the removal of the full notebook cells\n",
       "var notebookContainer = gd.closest('#notebook-container');\n",
       "if (notebookContainer) {{\n",
       "    x.observe(notebookContainer, {childList: true});\n",
       "}}\n",
       "\n",
       "// Listen for the clearing of the current output cell\n",
       "var outputEl = gd.closest('.output');\n",
       "if (outputEl) {{\n",
       "    x.observe(outputEl, {childList: true});\n",
       "}}\n",
       "\n",
       "                        })                };                });            </script>        </div>"
      ]
     },
     "metadata": {},
     "output_type": "display_data"
    }
   ],
   "source": [
    "import plotly.graph_objs as go\n",
    "import plotly.express as px\n",
    "import pandas as pd\n",
    "import geopandas as gpd\n",
    "import matplotlib.pyplot as plt\n",
    "\n",
    "df = pd.read_csv('population_eu.csv')\n",
    "df2 = df[df.Year.between(2000, 2017)]\n",
    "df2 = df2.sort_values('Year')\n",
    "\n",
    "colors = ['rgb(238, 75, 43)', 'rgb(252,245,245)', 'rgb(129, 133, 137)']\n",
    "fig = go.Figure()\n",
    "\n",
    "fig.add_trace(go.Scatter(\n",
    "    y=df2[\"Refugees under UNHCR's mandate\"],\n",
    "    x=df2['Year'],\n",
    "    mode='markers',\n",
    "    marker=dict(\n",
    "        color='rgb(238, 75, 43)',\n",
    "        size=8,\n",
    "        symbol='circle', \n",
    "        line=dict(width=0) \n",
    "    ),\n",
    "    name=\"Refugees\",\n",
    "))\n",
    "\n",
    "fig.update_layout(\n",
    "    title='Aantal vluchtelingen in Europa',\n",
    "    xaxis=dict(type='category', categoryorder='array', categoryarray=df2['Year'].tolist()[::-1], title=\"Jaar\"), \n",
    "    yaxis=dict(range=[0, 22000000]), \n",
    "    yaxis_title=\"Vluchtelingen onder UNHCR's mandate\",\n",
    "    width=800, \n",
    "    height=800,\n",
    "    plot_bgcolor='rgb(252,245,245)',\n",
    ")\n",
    "\n",
    "fig.show()"
   ]
  },
  {
   "attachments": {},
   "cell_type": "markdown",
   "id": "0240b95b",
   "metadata": {},
   "source": [
    "> *Figuur 3: Het aantal vluchtelingen in Europa onder het UNHCR mandaat had een aanzienlijke stijging vanaf 2013. "
   ]
  },
  {
   "attachments": {},
   "cell_type": "markdown",
   "id": "d9d4c934-c639-495f-a2bc-ed078e5659c3",
   "metadata": {},
   "source": [
    "## Dataset en Preprocessing"
   ]
  },
  {
   "attachments": {},
   "cell_type": "markdown",
   "id": "850c1744-f4cc-4cc1-b0a7-9207c75837d8",
   "metadata": {},
   "source": [
    "xx"
   ]
  },
  {
   "attachments": {},
   "cell_type": "markdown",
   "id": "d5010a07-96a0-45a7-ba76-250a56053f62",
   "metadata": {},
   "source": [
    "## Perspectief 1"
   ]
  },
  {
   "attachments": {},
   "cell_type": "markdown",
   "id": "1f26b1fd",
   "metadata": {},
   "source": [
    "X"
   ]
  },
  {
   "attachments": {},
   "cell_type": "markdown",
   "id": "a43c3ae1-48d8-4663-8525-7d92fae83483",
   "metadata": {},
   "source": [
    "### argument 1 perspectief 1"
   ]
  },
  {
   "attachments": {},
   "cell_type": "markdown",
   "id": "a44acbb2-6dbc-4cb9-ba26-7ba3fb19af5d",
   "metadata": {},
   "source": [
    "x"
   ]
  },
  {
   "cell_type": "code",
   "execution_count": 20,
   "id": "5a242e18",
   "metadata": {
    "hideCode": true,
    "tags": [
     "hide-input"
    ]
   },
   "outputs": [
    {
     "data": {
      "application/vnd.plotly.v1+json": {
       "config": {
        "plotlyServerURL": "https://plot.ly"
       },
       "data": [
        {
         "marker": {
          "color": "rgb(238, 75, 43)"
         },
         "name": "Vluchtelingen",
         "type": "scatter",
         "x": [
          2000,
          2001,
          2002,
          2003,
          2004,
          2005,
          2006,
          2007,
          2008,
          2009,
          2010,
          2011,
          2012,
          2013,
          2014,
          2015,
          2016,
          2017
         ],
         "y": [
          12129079,
          12116301,
          10593526,
          9592247,
          9572719,
          8661293,
          9876879,
          11390082,
          10488915,
          10395713,
          10548835,
          10403937,
          10497017,
          11698233,
          14384289,
          16110276,
          17184286,
          19940566
         ],
         "yaxis": "y"
        },
        {
         "marker": {
          "color": "rgb(129, 133, 137)"
         },
         "name": "Aanslagen",
         "type": "scatter",
         "x": [
          2000,
          2001,
          2002,
          2003,
          2004,
          2005,
          2006,
          2007,
          2008,
          2009,
          2010,
          2011,
          2012,
          2013,
          2014,
          2015,
          2016,
          2017
         ],
         "y": [
          487,
          486,
          232,
          221,
          105,
          180,
          168,
          134,
          372,
          347,
          394,
          293,
          366,
          426,
          1177,
          1017,
          407,
          401
         ],
         "yaxis": "y2"
        }
       ],
       "layout": {
        "bargap": 0.1,
        "height": 500,
        "plot_bgcolor": "rgb(252,245,245)",
        "template": {
         "data": {
          "bar": [
           {
            "error_x": {
             "color": "#2a3f5f"
            },
            "error_y": {
             "color": "#2a3f5f"
            },
            "marker": {
             "line": {
              "color": "#E5ECF6",
              "width": 0.5
             },
             "pattern": {
              "fillmode": "overlay",
              "size": 10,
              "solidity": 0.2
             }
            },
            "type": "bar"
           }
          ],
          "barpolar": [
           {
            "marker": {
             "line": {
              "color": "#E5ECF6",
              "width": 0.5
             },
             "pattern": {
              "fillmode": "overlay",
              "size": 10,
              "solidity": 0.2
             }
            },
            "type": "barpolar"
           }
          ],
          "carpet": [
           {
            "aaxis": {
             "endlinecolor": "#2a3f5f",
             "gridcolor": "white",
             "linecolor": "white",
             "minorgridcolor": "white",
             "startlinecolor": "#2a3f5f"
            },
            "baxis": {
             "endlinecolor": "#2a3f5f",
             "gridcolor": "white",
             "linecolor": "white",
             "minorgridcolor": "white",
             "startlinecolor": "#2a3f5f"
            },
            "type": "carpet"
           }
          ],
          "choropleth": [
           {
            "colorbar": {
             "outlinewidth": 0,
             "ticks": ""
            },
            "type": "choropleth"
           }
          ],
          "contour": [
           {
            "colorbar": {
             "outlinewidth": 0,
             "ticks": ""
            },
            "colorscale": [
             [
              0,
              "#0d0887"
             ],
             [
              0.1111111111111111,
              "#46039f"
             ],
             [
              0.2222222222222222,
              "#7201a8"
             ],
             [
              0.3333333333333333,
              "#9c179e"
             ],
             [
              0.4444444444444444,
              "#bd3786"
             ],
             [
              0.5555555555555556,
              "#d8576b"
             ],
             [
              0.6666666666666666,
              "#ed7953"
             ],
             [
              0.7777777777777778,
              "#fb9f3a"
             ],
             [
              0.8888888888888888,
              "#fdca26"
             ],
             [
              1,
              "#f0f921"
             ]
            ],
            "type": "contour"
           }
          ],
          "contourcarpet": [
           {
            "colorbar": {
             "outlinewidth": 0,
             "ticks": ""
            },
            "type": "contourcarpet"
           }
          ],
          "heatmap": [
           {
            "colorbar": {
             "outlinewidth": 0,
             "ticks": ""
            },
            "colorscale": [
             [
              0,
              "#0d0887"
             ],
             [
              0.1111111111111111,
              "#46039f"
             ],
             [
              0.2222222222222222,
              "#7201a8"
             ],
             [
              0.3333333333333333,
              "#9c179e"
             ],
             [
              0.4444444444444444,
              "#bd3786"
             ],
             [
              0.5555555555555556,
              "#d8576b"
             ],
             [
              0.6666666666666666,
              "#ed7953"
             ],
             [
              0.7777777777777778,
              "#fb9f3a"
             ],
             [
              0.8888888888888888,
              "#fdca26"
             ],
             [
              1,
              "#f0f921"
             ]
            ],
            "type": "heatmap"
           }
          ],
          "heatmapgl": [
           {
            "colorbar": {
             "outlinewidth": 0,
             "ticks": ""
            },
            "colorscale": [
             [
              0,
              "#0d0887"
             ],
             [
              0.1111111111111111,
              "#46039f"
             ],
             [
              0.2222222222222222,
              "#7201a8"
             ],
             [
              0.3333333333333333,
              "#9c179e"
             ],
             [
              0.4444444444444444,
              "#bd3786"
             ],
             [
              0.5555555555555556,
              "#d8576b"
             ],
             [
              0.6666666666666666,
              "#ed7953"
             ],
             [
              0.7777777777777778,
              "#fb9f3a"
             ],
             [
              0.8888888888888888,
              "#fdca26"
             ],
             [
              1,
              "#f0f921"
             ]
            ],
            "type": "heatmapgl"
           }
          ],
          "histogram": [
           {
            "marker": {
             "pattern": {
              "fillmode": "overlay",
              "size": 10,
              "solidity": 0.2
             }
            },
            "type": "histogram"
           }
          ],
          "histogram2d": [
           {
            "colorbar": {
             "outlinewidth": 0,
             "ticks": ""
            },
            "colorscale": [
             [
              0,
              "#0d0887"
             ],
             [
              0.1111111111111111,
              "#46039f"
             ],
             [
              0.2222222222222222,
              "#7201a8"
             ],
             [
              0.3333333333333333,
              "#9c179e"
             ],
             [
              0.4444444444444444,
              "#bd3786"
             ],
             [
              0.5555555555555556,
              "#d8576b"
             ],
             [
              0.6666666666666666,
              "#ed7953"
             ],
             [
              0.7777777777777778,
              "#fb9f3a"
             ],
             [
              0.8888888888888888,
              "#fdca26"
             ],
             [
              1,
              "#f0f921"
             ]
            ],
            "type": "histogram2d"
           }
          ],
          "histogram2dcontour": [
           {
            "colorbar": {
             "outlinewidth": 0,
             "ticks": ""
            },
            "colorscale": [
             [
              0,
              "#0d0887"
             ],
             [
              0.1111111111111111,
              "#46039f"
             ],
             [
              0.2222222222222222,
              "#7201a8"
             ],
             [
              0.3333333333333333,
              "#9c179e"
             ],
             [
              0.4444444444444444,
              "#bd3786"
             ],
             [
              0.5555555555555556,
              "#d8576b"
             ],
             [
              0.6666666666666666,
              "#ed7953"
             ],
             [
              0.7777777777777778,
              "#fb9f3a"
             ],
             [
              0.8888888888888888,
              "#fdca26"
             ],
             [
              1,
              "#f0f921"
             ]
            ],
            "type": "histogram2dcontour"
           }
          ],
          "mesh3d": [
           {
            "colorbar": {
             "outlinewidth": 0,
             "ticks": ""
            },
            "type": "mesh3d"
           }
          ],
          "parcoords": [
           {
            "line": {
             "colorbar": {
              "outlinewidth": 0,
              "ticks": ""
             }
            },
            "type": "parcoords"
           }
          ],
          "pie": [
           {
            "automargin": true,
            "type": "pie"
           }
          ],
          "scatter": [
           {
            "fillpattern": {
             "fillmode": "overlay",
             "size": 10,
             "solidity": 0.2
            },
            "type": "scatter"
           }
          ],
          "scatter3d": [
           {
            "line": {
             "colorbar": {
              "outlinewidth": 0,
              "ticks": ""
             }
            },
            "marker": {
             "colorbar": {
              "outlinewidth": 0,
              "ticks": ""
             }
            },
            "type": "scatter3d"
           }
          ],
          "scattercarpet": [
           {
            "marker": {
             "colorbar": {
              "outlinewidth": 0,
              "ticks": ""
             }
            },
            "type": "scattercarpet"
           }
          ],
          "scattergeo": [
           {
            "marker": {
             "colorbar": {
              "outlinewidth": 0,
              "ticks": ""
             }
            },
            "type": "scattergeo"
           }
          ],
          "scattergl": [
           {
            "marker": {
             "colorbar": {
              "outlinewidth": 0,
              "ticks": ""
             }
            },
            "type": "scattergl"
           }
          ],
          "scattermapbox": [
           {
            "marker": {
             "colorbar": {
              "outlinewidth": 0,
              "ticks": ""
             }
            },
            "type": "scattermapbox"
           }
          ],
          "scatterpolar": [
           {
            "marker": {
             "colorbar": {
              "outlinewidth": 0,
              "ticks": ""
             }
            },
            "type": "scatterpolar"
           }
          ],
          "scatterpolargl": [
           {
            "marker": {
             "colorbar": {
              "outlinewidth": 0,
              "ticks": ""
             }
            },
            "type": "scatterpolargl"
           }
          ],
          "scatterternary": [
           {
            "marker": {
             "colorbar": {
              "outlinewidth": 0,
              "ticks": ""
             }
            },
            "type": "scatterternary"
           }
          ],
          "surface": [
           {
            "colorbar": {
             "outlinewidth": 0,
             "ticks": ""
            },
            "colorscale": [
             [
              0,
              "#0d0887"
             ],
             [
              0.1111111111111111,
              "#46039f"
             ],
             [
              0.2222222222222222,
              "#7201a8"
             ],
             [
              0.3333333333333333,
              "#9c179e"
             ],
             [
              0.4444444444444444,
              "#bd3786"
             ],
             [
              0.5555555555555556,
              "#d8576b"
             ],
             [
              0.6666666666666666,
              "#ed7953"
             ],
             [
              0.7777777777777778,
              "#fb9f3a"
             ],
             [
              0.8888888888888888,
              "#fdca26"
             ],
             [
              1,
              "#f0f921"
             ]
            ],
            "type": "surface"
           }
          ],
          "table": [
           {
            "cells": {
             "fill": {
              "color": "#EBF0F8"
             },
             "line": {
              "color": "white"
             }
            },
            "header": {
             "fill": {
              "color": "#C8D4E3"
             },
             "line": {
              "color": "white"
             }
            },
            "type": "table"
           }
          ]
         },
         "layout": {
          "annotationdefaults": {
           "arrowcolor": "#2a3f5f",
           "arrowhead": 0,
           "arrowwidth": 1
          },
          "autotypenumbers": "strict",
          "coloraxis": {
           "colorbar": {
            "outlinewidth": 0,
            "ticks": ""
           }
          },
          "colorscale": {
           "diverging": [
            [
             0,
             "#8e0152"
            ],
            [
             0.1,
             "#c51b7d"
            ],
            [
             0.2,
             "#de77ae"
            ],
            [
             0.3,
             "#f1b6da"
            ],
            [
             0.4,
             "#fde0ef"
            ],
            [
             0.5,
             "#f7f7f7"
            ],
            [
             0.6,
             "#e6f5d0"
            ],
            [
             0.7,
             "#b8e186"
            ],
            [
             0.8,
             "#7fbc41"
            ],
            [
             0.9,
             "#4d9221"
            ],
            [
             1,
             "#276419"
            ]
           ],
           "sequential": [
            [
             0,
             "#0d0887"
            ],
            [
             0.1111111111111111,
             "#46039f"
            ],
            [
             0.2222222222222222,
             "#7201a8"
            ],
            [
             0.3333333333333333,
             "#9c179e"
            ],
            [
             0.4444444444444444,
             "#bd3786"
            ],
            [
             0.5555555555555556,
             "#d8576b"
            ],
            [
             0.6666666666666666,
             "#ed7953"
            ],
            [
             0.7777777777777778,
             "#fb9f3a"
            ],
            [
             0.8888888888888888,
             "#fdca26"
            ],
            [
             1,
             "#f0f921"
            ]
           ],
           "sequentialminus": [
            [
             0,
             "#0d0887"
            ],
            [
             0.1111111111111111,
             "#46039f"
            ],
            [
             0.2222222222222222,
             "#7201a8"
            ],
            [
             0.3333333333333333,
             "#9c179e"
            ],
            [
             0.4444444444444444,
             "#bd3786"
            ],
            [
             0.5555555555555556,
             "#d8576b"
            ],
            [
             0.6666666666666666,
             "#ed7953"
            ],
            [
             0.7777777777777778,
             "#fb9f3a"
            ],
            [
             0.8888888888888888,
             "#fdca26"
            ],
            [
             1,
             "#f0f921"
            ]
           ]
          },
          "colorway": [
           "#636efa",
           "#EF553B",
           "#00cc96",
           "#ab63fa",
           "#FFA15A",
           "#19d3f3",
           "#FF6692",
           "#B6E880",
           "#FF97FF",
           "#FECB52"
          ],
          "font": {
           "color": "#2a3f5f"
          },
          "geo": {
           "bgcolor": "white",
           "lakecolor": "white",
           "landcolor": "#E5ECF6",
           "showlakes": true,
           "showland": true,
           "subunitcolor": "white"
          },
          "hoverlabel": {
           "align": "left"
          },
          "hovermode": "closest",
          "mapbox": {
           "style": "light"
          },
          "paper_bgcolor": "white",
          "plot_bgcolor": "#E5ECF6",
          "polar": {
           "angularaxis": {
            "gridcolor": "white",
            "linecolor": "white",
            "ticks": ""
           },
           "bgcolor": "#E5ECF6",
           "radialaxis": {
            "gridcolor": "white",
            "linecolor": "white",
            "ticks": ""
           }
          },
          "scene": {
           "xaxis": {
            "backgroundcolor": "#E5ECF6",
            "gridcolor": "white",
            "gridwidth": 2,
            "linecolor": "white",
            "showbackground": true,
            "ticks": "",
            "zerolinecolor": "white"
           },
           "yaxis": {
            "backgroundcolor": "#E5ECF6",
            "gridcolor": "white",
            "gridwidth": 2,
            "linecolor": "white",
            "showbackground": true,
            "ticks": "",
            "zerolinecolor": "white"
           },
           "zaxis": {
            "backgroundcolor": "#E5ECF6",
            "gridcolor": "white",
            "gridwidth": 2,
            "linecolor": "white",
            "showbackground": true,
            "ticks": "",
            "zerolinecolor": "white"
           }
          },
          "shapedefaults": {
           "line": {
            "color": "#2a3f5f"
           }
          },
          "ternary": {
           "aaxis": {
            "gridcolor": "white",
            "linecolor": "white",
            "ticks": ""
           },
           "baxis": {
            "gridcolor": "white",
            "linecolor": "white",
            "ticks": ""
           },
           "bgcolor": "#E5ECF6",
           "caxis": {
            "gridcolor": "white",
            "linecolor": "white",
            "ticks": ""
           }
          },
          "title": {
           "x": 0.05
          },
          "xaxis": {
           "automargin": true,
           "gridcolor": "white",
           "linecolor": "white",
           "ticks": "",
           "title": {
            "standoff": 15
           },
           "zerolinecolor": "white",
           "zerolinewidth": 2
          },
          "yaxis": {
           "automargin": true,
           "gridcolor": "white",
           "linecolor": "white",
           "ticks": "",
           "title": {
            "standoff": 15
           },
           "zerolinecolor": "white",
           "zerolinewidth": 2
          }
         }
        },
        "title": {
         "text": "Aantal vluchtelingen en terroristische aanslagen in Europa"
        },
        "xaxis": {
         "title": {
          "text": "Jaar"
         },
         "type": "category"
        },
        "yaxis": {
         "range": [
          0,
          22000000
         ],
         "side": "left",
         "title": {
          "text": "Vluchtelingen onder UNHCR's mandate"
         }
        },
        "yaxis2": {
         "overlaying": "y",
         "range": [
          0,
          1200
         ],
         "side": "right",
         "title": {
          "text": "Terroristische aanslagen"
         }
        }
       }
      },
      "text/html": [
       "<div>                            <div id=\"c631506c-19f2-4d55-a3f1-a8fc3bee63b3\" class=\"plotly-graph-div\" style=\"height:500px; width:100%;\"></div>            <script type=\"text/javascript\">                require([\"plotly\"], function(Plotly) {                    window.PLOTLYENV=window.PLOTLYENV || {};                                    if (document.getElementById(\"c631506c-19f2-4d55-a3f1-a8fc3bee63b3\")) {                    Plotly.newPlot(                        \"c631506c-19f2-4d55-a3f1-a8fc3bee63b3\",                        [{\"marker\":{\"color\":\"rgb(238, 75, 43)\"},\"name\":\"Vluchtelingen\",\"x\":[2000,2001,2002,2003,2004,2005,2006,2007,2008,2009,2010,2011,2012,2013,2014,2015,2016,2017],\"y\":[12129079,12116301,10593526,9592247,9572719,8661293,9876879,11390082,10488915,10395713,10548835,10403937,10497017,11698233,14384289,16110276,17184286,19940566],\"yaxis\":\"y\",\"type\":\"scatter\"},{\"marker\":{\"color\":\"rgb(129, 133, 137)\"},\"name\":\"Aanslagen\",\"x\":[2000,2001,2002,2003,2004,2005,2006,2007,2008,2009,2010,2011,2012,2013,2014,2015,2016,2017],\"y\":[487,486,232,221,105,180,168,134,372,347,394,293,366,426,1177,1017,407,401],\"yaxis\":\"y2\",\"type\":\"scatter\"}],                        {\"template\":{\"data\":{\"histogram2dcontour\":[{\"type\":\"histogram2dcontour\",\"colorbar\":{\"outlinewidth\":0,\"ticks\":\"\"},\"colorscale\":[[0.0,\"#0d0887\"],[0.1111111111111111,\"#46039f\"],[0.2222222222222222,\"#7201a8\"],[0.3333333333333333,\"#9c179e\"],[0.4444444444444444,\"#bd3786\"],[0.5555555555555556,\"#d8576b\"],[0.6666666666666666,\"#ed7953\"],[0.7777777777777778,\"#fb9f3a\"],[0.8888888888888888,\"#fdca26\"],[1.0,\"#f0f921\"]]}],\"choropleth\":[{\"type\":\"choropleth\",\"colorbar\":{\"outlinewidth\":0,\"ticks\":\"\"}}],\"histogram2d\":[{\"type\":\"histogram2d\",\"colorbar\":{\"outlinewidth\":0,\"ticks\":\"\"},\"colorscale\":[[0.0,\"#0d0887\"],[0.1111111111111111,\"#46039f\"],[0.2222222222222222,\"#7201a8\"],[0.3333333333333333,\"#9c179e\"],[0.4444444444444444,\"#bd3786\"],[0.5555555555555556,\"#d8576b\"],[0.6666666666666666,\"#ed7953\"],[0.7777777777777778,\"#fb9f3a\"],[0.8888888888888888,\"#fdca26\"],[1.0,\"#f0f921\"]]}],\"heatmap\":[{\"type\":\"heatmap\",\"colorbar\":{\"outlinewidth\":0,\"ticks\":\"\"},\"colorscale\":[[0.0,\"#0d0887\"],[0.1111111111111111,\"#46039f\"],[0.2222222222222222,\"#7201a8\"],[0.3333333333333333,\"#9c179e\"],[0.4444444444444444,\"#bd3786\"],[0.5555555555555556,\"#d8576b\"],[0.6666666666666666,\"#ed7953\"],[0.7777777777777778,\"#fb9f3a\"],[0.8888888888888888,\"#fdca26\"],[1.0,\"#f0f921\"]]}],\"heatmapgl\":[{\"type\":\"heatmapgl\",\"colorbar\":{\"outlinewidth\":0,\"ticks\":\"\"},\"colorscale\":[[0.0,\"#0d0887\"],[0.1111111111111111,\"#46039f\"],[0.2222222222222222,\"#7201a8\"],[0.3333333333333333,\"#9c179e\"],[0.4444444444444444,\"#bd3786\"],[0.5555555555555556,\"#d8576b\"],[0.6666666666666666,\"#ed7953\"],[0.7777777777777778,\"#fb9f3a\"],[0.8888888888888888,\"#fdca26\"],[1.0,\"#f0f921\"]]}],\"contourcarpet\":[{\"type\":\"contourcarpet\",\"colorbar\":{\"outlinewidth\":0,\"ticks\":\"\"}}],\"contour\":[{\"type\":\"contour\",\"colorbar\":{\"outlinewidth\":0,\"ticks\":\"\"},\"colorscale\":[[0.0,\"#0d0887\"],[0.1111111111111111,\"#46039f\"],[0.2222222222222222,\"#7201a8\"],[0.3333333333333333,\"#9c179e\"],[0.4444444444444444,\"#bd3786\"],[0.5555555555555556,\"#d8576b\"],[0.6666666666666666,\"#ed7953\"],[0.7777777777777778,\"#fb9f3a\"],[0.8888888888888888,\"#fdca26\"],[1.0,\"#f0f921\"]]}],\"surface\":[{\"type\":\"surface\",\"colorbar\":{\"outlinewidth\":0,\"ticks\":\"\"},\"colorscale\":[[0.0,\"#0d0887\"],[0.1111111111111111,\"#46039f\"],[0.2222222222222222,\"#7201a8\"],[0.3333333333333333,\"#9c179e\"],[0.4444444444444444,\"#bd3786\"],[0.5555555555555556,\"#d8576b\"],[0.6666666666666666,\"#ed7953\"],[0.7777777777777778,\"#fb9f3a\"],[0.8888888888888888,\"#fdca26\"],[1.0,\"#f0f921\"]]}],\"mesh3d\":[{\"type\":\"mesh3d\",\"colorbar\":{\"outlinewidth\":0,\"ticks\":\"\"}}],\"scatter\":[{\"fillpattern\":{\"fillmode\":\"overlay\",\"size\":10,\"solidity\":0.2},\"type\":\"scatter\"}],\"parcoords\":[{\"type\":\"parcoords\",\"line\":{\"colorbar\":{\"outlinewidth\":0,\"ticks\":\"\"}}}],\"scatterpolargl\":[{\"type\":\"scatterpolargl\",\"marker\":{\"colorbar\":{\"outlinewidth\":0,\"ticks\":\"\"}}}],\"bar\":[{\"error_x\":{\"color\":\"#2a3f5f\"},\"error_y\":{\"color\":\"#2a3f5f\"},\"marker\":{\"line\":{\"color\":\"#E5ECF6\",\"width\":0.5},\"pattern\":{\"fillmode\":\"overlay\",\"size\":10,\"solidity\":0.2}},\"type\":\"bar\"}],\"scattergeo\":[{\"type\":\"scattergeo\",\"marker\":{\"colorbar\":{\"outlinewidth\":0,\"ticks\":\"\"}}}],\"scatterpolar\":[{\"type\":\"scatterpolar\",\"marker\":{\"colorbar\":{\"outlinewidth\":0,\"ticks\":\"\"}}}],\"histogram\":[{\"marker\":{\"pattern\":{\"fillmode\":\"overlay\",\"size\":10,\"solidity\":0.2}},\"type\":\"histogram\"}],\"scattergl\":[{\"type\":\"scattergl\",\"marker\":{\"colorbar\":{\"outlinewidth\":0,\"ticks\":\"\"}}}],\"scatter3d\":[{\"type\":\"scatter3d\",\"line\":{\"colorbar\":{\"outlinewidth\":0,\"ticks\":\"\"}},\"marker\":{\"colorbar\":{\"outlinewidth\":0,\"ticks\":\"\"}}}],\"scattermapbox\":[{\"type\":\"scattermapbox\",\"marker\":{\"colorbar\":{\"outlinewidth\":0,\"ticks\":\"\"}}}],\"scatterternary\":[{\"type\":\"scatterternary\",\"marker\":{\"colorbar\":{\"outlinewidth\":0,\"ticks\":\"\"}}}],\"scattercarpet\":[{\"type\":\"scattercarpet\",\"marker\":{\"colorbar\":{\"outlinewidth\":0,\"ticks\":\"\"}}}],\"carpet\":[{\"aaxis\":{\"endlinecolor\":\"#2a3f5f\",\"gridcolor\":\"white\",\"linecolor\":\"white\",\"minorgridcolor\":\"white\",\"startlinecolor\":\"#2a3f5f\"},\"baxis\":{\"endlinecolor\":\"#2a3f5f\",\"gridcolor\":\"white\",\"linecolor\":\"white\",\"minorgridcolor\":\"white\",\"startlinecolor\":\"#2a3f5f\"},\"type\":\"carpet\"}],\"table\":[{\"cells\":{\"fill\":{\"color\":\"#EBF0F8\"},\"line\":{\"color\":\"white\"}},\"header\":{\"fill\":{\"color\":\"#C8D4E3\"},\"line\":{\"color\":\"white\"}},\"type\":\"table\"}],\"barpolar\":[{\"marker\":{\"line\":{\"color\":\"#E5ECF6\",\"width\":0.5},\"pattern\":{\"fillmode\":\"overlay\",\"size\":10,\"solidity\":0.2}},\"type\":\"barpolar\"}],\"pie\":[{\"automargin\":true,\"type\":\"pie\"}]},\"layout\":{\"autotypenumbers\":\"strict\",\"colorway\":[\"#636efa\",\"#EF553B\",\"#00cc96\",\"#ab63fa\",\"#FFA15A\",\"#19d3f3\",\"#FF6692\",\"#B6E880\",\"#FF97FF\",\"#FECB52\"],\"font\":{\"color\":\"#2a3f5f\"},\"hovermode\":\"closest\",\"hoverlabel\":{\"align\":\"left\"},\"paper_bgcolor\":\"white\",\"plot_bgcolor\":\"#E5ECF6\",\"polar\":{\"bgcolor\":\"#E5ECF6\",\"angularaxis\":{\"gridcolor\":\"white\",\"linecolor\":\"white\",\"ticks\":\"\"},\"radialaxis\":{\"gridcolor\":\"white\",\"linecolor\":\"white\",\"ticks\":\"\"}},\"ternary\":{\"bgcolor\":\"#E5ECF6\",\"aaxis\":{\"gridcolor\":\"white\",\"linecolor\":\"white\",\"ticks\":\"\"},\"baxis\":{\"gridcolor\":\"white\",\"linecolor\":\"white\",\"ticks\":\"\"},\"caxis\":{\"gridcolor\":\"white\",\"linecolor\":\"white\",\"ticks\":\"\"}},\"coloraxis\":{\"colorbar\":{\"outlinewidth\":0,\"ticks\":\"\"}},\"colorscale\":{\"sequential\":[[0.0,\"#0d0887\"],[0.1111111111111111,\"#46039f\"],[0.2222222222222222,\"#7201a8\"],[0.3333333333333333,\"#9c179e\"],[0.4444444444444444,\"#bd3786\"],[0.5555555555555556,\"#d8576b\"],[0.6666666666666666,\"#ed7953\"],[0.7777777777777778,\"#fb9f3a\"],[0.8888888888888888,\"#fdca26\"],[1.0,\"#f0f921\"]],\"sequentialminus\":[[0.0,\"#0d0887\"],[0.1111111111111111,\"#46039f\"],[0.2222222222222222,\"#7201a8\"],[0.3333333333333333,\"#9c179e\"],[0.4444444444444444,\"#bd3786\"],[0.5555555555555556,\"#d8576b\"],[0.6666666666666666,\"#ed7953\"],[0.7777777777777778,\"#fb9f3a\"],[0.8888888888888888,\"#fdca26\"],[1.0,\"#f0f921\"]],\"diverging\":[[0,\"#8e0152\"],[0.1,\"#c51b7d\"],[0.2,\"#de77ae\"],[0.3,\"#f1b6da\"],[0.4,\"#fde0ef\"],[0.5,\"#f7f7f7\"],[0.6,\"#e6f5d0\"],[0.7,\"#b8e186\"],[0.8,\"#7fbc41\"],[0.9,\"#4d9221\"],[1,\"#276419\"]]},\"xaxis\":{\"gridcolor\":\"white\",\"linecolor\":\"white\",\"ticks\":\"\",\"title\":{\"standoff\":15},\"zerolinecolor\":\"white\",\"automargin\":true,\"zerolinewidth\":2},\"yaxis\":{\"gridcolor\":\"white\",\"linecolor\":\"white\",\"ticks\":\"\",\"title\":{\"standoff\":15},\"zerolinecolor\":\"white\",\"automargin\":true,\"zerolinewidth\":2},\"scene\":{\"xaxis\":{\"backgroundcolor\":\"#E5ECF6\",\"gridcolor\":\"white\",\"linecolor\":\"white\",\"showbackground\":true,\"ticks\":\"\",\"zerolinecolor\":\"white\",\"gridwidth\":2},\"yaxis\":{\"backgroundcolor\":\"#E5ECF6\",\"gridcolor\":\"white\",\"linecolor\":\"white\",\"showbackground\":true,\"ticks\":\"\",\"zerolinecolor\":\"white\",\"gridwidth\":2},\"zaxis\":{\"backgroundcolor\":\"#E5ECF6\",\"gridcolor\":\"white\",\"linecolor\":\"white\",\"showbackground\":true,\"ticks\":\"\",\"zerolinecolor\":\"white\",\"gridwidth\":2}},\"shapedefaults\":{\"line\":{\"color\":\"#2a3f5f\"}},\"annotationdefaults\":{\"arrowcolor\":\"#2a3f5f\",\"arrowhead\":0,\"arrowwidth\":1},\"geo\":{\"bgcolor\":\"white\",\"landcolor\":\"#E5ECF6\",\"subunitcolor\":\"white\",\"showland\":true,\"showlakes\":true,\"lakecolor\":\"white\"},\"title\":{\"x\":0.05},\"mapbox\":{\"style\":\"light\"}}},\"xaxis\":{\"type\":\"category\",\"title\":{\"text\":\"Jaar\"}},\"yaxis\":{\"range\":[0,22000000],\"title\":{\"text\":\"Vluchtelingen onder UNHCR's mandate\"},\"side\":\"left\"},\"yaxis2\":{\"range\":[0,1200],\"title\":{\"text\":\"Terroristische aanslagen\"},\"overlaying\":\"y\",\"side\":\"right\"},\"title\":{\"text\":\"Aantal vluchtelingen en terroristische aanslagen in Europa\"},\"height\":500,\"bargap\":0.1,\"plot_bgcolor\":\"rgb(252,245,245)\"},                        {\"responsive\": true}                    ).then(function(){\n",
       "                            \n",
       "var gd = document.getElementById('c631506c-19f2-4d55-a3f1-a8fc3bee63b3');\n",
       "var x = new MutationObserver(function (mutations, observer) {{\n",
       "        var display = window.getComputedStyle(gd).display;\n",
       "        if (!display || display === 'none') {{\n",
       "            console.log([gd, 'removed!']);\n",
       "            Plotly.purge(gd);\n",
       "            observer.disconnect();\n",
       "        }}\n",
       "}});\n",
       "\n",
       "// Listen for the removal of the full notebook cells\n",
       "var notebookContainer = gd.closest('#notebook-container');\n",
       "if (notebookContainer) {{\n",
       "    x.observe(notebookContainer, {childList: true});\n",
       "}}\n",
       "\n",
       "// Listen for the clearing of the current output cell\n",
       "var outputEl = gd.closest('.output');\n",
       "if (outputEl) {{\n",
       "    x.observe(outputEl, {childList: true});\n",
       "}}\n",
       "\n",
       "                        })                };                });            </script>        </div>"
      ]
     },
     "metadata": {},
     "output_type": "display_data"
    }
   ],
   "source": [
    "import plotly.graph_objs as go\n",
    "import plotly.express as px\n",
    "import pandas as pd\n",
    "import geopandas as gpd\n",
    "import matplotlib.pyplot as plt\n",
    "\n",
    "df3 = pd.read_csv('aanslagen_per_jaar.csv')\n",
    "\n",
    "colors = ['rgb(238, 75, 43)', 'rgb(252,245,245)', 'rgb(129, 133, 137)']\n",
    "fig = go.Figure()\n",
    "\n",
    "fig.add_trace(go.Scatter(\n",
    "    x=df2['Year'],\n",
    "    y=df2[\"Refugees under UNHCR's mandate\"],\n",
    "    marker_color='rgb(238, 75, 43)',\n",
    "    name=\"Vluchtelingen\",\n",
    "    yaxis='y'  \n",
    "))\n",
    "\n",
    "fig.add_trace(go.Scatter(\n",
    "    x=df3['year'],\n",
    "    y=df3[('count')],\n",
    "    marker_color='rgb(129, 133, 137)',\n",
    "    name=\"Aanslagen\",\n",
    "    yaxis='y2'  \n",
    "))\n",
    "\n",
    "fig.update_layout(\n",
    "    title='Aantal vluchtelingen en terroristische aanslagen in Europa',\n",
    "    xaxis=dict(type='category'),\n",
    "    yaxis=dict(range=[0, 22000000], title=\"Vluchtelingen onder UNHCR's mandate\" , side='left'),\n",
    "    yaxis2=dict(range=[0, 1200], title=\"Terroristische aanslagen\", overlaying='y', side='right'),  \n",
    "    xaxis_title='Jaar',\n",
    "    height=500,\n",
    "    bargap=0.1,\n",
    "    plot_bgcolor='rgb(252,245,245)',\n",
    ")\n",
    "\n",
    "fig.show()"
   ]
  },
  {
   "attachments": {},
   "cell_type": "markdown",
   "id": "f07d4a62-ad4f-4fd3-84ad-3540363a03fb",
   "metadata": {},
   "source": [
    "> *Figuur 2: Zowel het aantal vluchtelingen als het aantal terroristische aanslagen namen vanaf 2013 toe. "
   ]
  },
  {
   "attachments": {},
   "cell_type": "markdown",
   "id": "d42bd1f8",
   "metadata": {},
   "source": [
    "x"
   ]
  },
  {
   "attachments": {},
   "cell_type": "markdown",
   "id": "e0a5e8f3-eed9-4965-a85d-05a296514ca0",
   "metadata": {},
   "source": [
    "### Tweede argument eerste perspectief "
   ]
  },
  {
   "attachments": {},
   "cell_type": "markdown",
   "id": "c0bcecf9-e17c-477a-a229-55277d48fe64",
   "metadata": {},
   "source": [
    "x"
   ]
  },
  {
   "cell_type": "code",
   "execution_count": 77,
   "id": "26330b40",
   "metadata": {
    "hideCode": true,
    "scrolled": true
   },
   "outputs": [
    {
     "data": {
      "application/vnd.plotly.v1+json": {
       "config": {
        "plotlyServerURL": "https://plot.ly"
       },
       "data": [
        {
         "marker": {
          "color": "rgb(238, 75, 43)"
         },
         "name": "Vluchtelingen",
         "offsetgroup": "0",
         "type": "bar",
         "width": 0.4,
         "x": [
          2000,
          2001,
          2002,
          2003,
          2004,
          2005,
          2006,
          2007,
          2008,
          2009,
          2010,
          2011,
          2012,
          2013,
          2014,
          2015,
          2016,
          2017
         ],
         "y": [
          157206,
          146480,
          142170,
          112148,
          73383,
          74889,
          79895,
          75055,
          77016,
          81346,
          82620,
          86603,
          92869,
          114172,
          142197,
          169516,
          230158,
          240954
         ],
         "yaxis": "y"
        },
        {
         "hovertext": [
          "Unknown",
          "Al-Qaida Organization for Jihad in Sweden",
          "Global Intifada",
          "Unknown",
          "Unknown",
          "Global Intifada",
          "Iraqi extremists",
          "Unknown",
          "Animal Liberation Front (ALF)",
          "Unknown",
          "Unknown",
          "Anti-Immigrant extremists",
          "Unknown",
          "Anti-Muslim extremists",
          "Jihadi-inspired extremists",
          "Nordic Resistance Movement",
          "Unknown",
          "Anti-Semitic extremists",
          "Jihadi-inspired extremists",
          "Neo-Nazi extremists",
          "Nordic Resistance Movement",
          "Unknown"
         ],
         "marker": {
          "color": [
           "#636EFA",
           "#EF553B",
           "#00CC96",
           "#636EFA",
           "#636EFA",
           "#00CC96",
           "#AB63FA",
           "#636EFA",
           "#FFA15A",
           "#636EFA",
           "#636EFA",
           "#19D3F3",
           "#636EFA",
           "#FF6692",
           "#B6E880",
           "#FF97FF",
           "#636EFA",
           "#FECB52",
           "#B6E880",
           "rgb(129, 133, 137)",
           "#FF97FF",
           "#636EFA"
          ]
         },
         "name": "Aanslagen",
         "offsetgroup": "1",
         "type": "bar",
         "width": 0.4,
         "x": [
          2000,
          2005,
          2005,
          2006,
          2008,
          2009,
          2010,
          2010,
          2011,
          2012,
          2014,
          2015,
          2015,
          2016,
          2016,
          2016,
          2016,
          2017,
          2017,
          2017,
          2017,
          2017
         ],
         "y": [
          1,
          1,
          2,
          1,
          1,
          1,
          2,
          1,
          1,
          2,
          5,
          2,
          30,
          1,
          1,
          1,
          13,
          2,
          1,
          2,
          2,
          11
         ],
         "yaxis": "y2"
        }
       ],
       "layout": {
        "bargap": 0.1,
        "height": 500,
        "plot_bgcolor": "rgb(252, 245, 245)",
        "template": {
         "data": {
          "bar": [
           {
            "error_x": {
             "color": "#2a3f5f"
            },
            "error_y": {
             "color": "#2a3f5f"
            },
            "marker": {
             "line": {
              "color": "#E5ECF6",
              "width": 0.5
             },
             "pattern": {
              "fillmode": "overlay",
              "size": 10,
              "solidity": 0.2
             }
            },
            "type": "bar"
           }
          ],
          "barpolar": [
           {
            "marker": {
             "line": {
              "color": "#E5ECF6",
              "width": 0.5
             },
             "pattern": {
              "fillmode": "overlay",
              "size": 10,
              "solidity": 0.2
             }
            },
            "type": "barpolar"
           }
          ],
          "carpet": [
           {
            "aaxis": {
             "endlinecolor": "#2a3f5f",
             "gridcolor": "white",
             "linecolor": "white",
             "minorgridcolor": "white",
             "startlinecolor": "#2a3f5f"
            },
            "baxis": {
             "endlinecolor": "#2a3f5f",
             "gridcolor": "white",
             "linecolor": "white",
             "minorgridcolor": "white",
             "startlinecolor": "#2a3f5f"
            },
            "type": "carpet"
           }
          ],
          "choropleth": [
           {
            "colorbar": {
             "outlinewidth": 0,
             "ticks": ""
            },
            "type": "choropleth"
           }
          ],
          "contour": [
           {
            "colorbar": {
             "outlinewidth": 0,
             "ticks": ""
            },
            "colorscale": [
             [
              0,
              "#0d0887"
             ],
             [
              0.1111111111111111,
              "#46039f"
             ],
             [
              0.2222222222222222,
              "#7201a8"
             ],
             [
              0.3333333333333333,
              "#9c179e"
             ],
             [
              0.4444444444444444,
              "#bd3786"
             ],
             [
              0.5555555555555556,
              "#d8576b"
             ],
             [
              0.6666666666666666,
              "#ed7953"
             ],
             [
              0.7777777777777778,
              "#fb9f3a"
             ],
             [
              0.8888888888888888,
              "#fdca26"
             ],
             [
              1,
              "#f0f921"
             ]
            ],
            "type": "contour"
           }
          ],
          "contourcarpet": [
           {
            "colorbar": {
             "outlinewidth": 0,
             "ticks": ""
            },
            "type": "contourcarpet"
           }
          ],
          "heatmap": [
           {
            "colorbar": {
             "outlinewidth": 0,
             "ticks": ""
            },
            "colorscale": [
             [
              0,
              "#0d0887"
             ],
             [
              0.1111111111111111,
              "#46039f"
             ],
             [
              0.2222222222222222,
              "#7201a8"
             ],
             [
              0.3333333333333333,
              "#9c179e"
             ],
             [
              0.4444444444444444,
              "#bd3786"
             ],
             [
              0.5555555555555556,
              "#d8576b"
             ],
             [
              0.6666666666666666,
              "#ed7953"
             ],
             [
              0.7777777777777778,
              "#fb9f3a"
             ],
             [
              0.8888888888888888,
              "#fdca26"
             ],
             [
              1,
              "#f0f921"
             ]
            ],
            "type": "heatmap"
           }
          ],
          "heatmapgl": [
           {
            "colorbar": {
             "outlinewidth": 0,
             "ticks": ""
            },
            "colorscale": [
             [
              0,
              "#0d0887"
             ],
             [
              0.1111111111111111,
              "#46039f"
             ],
             [
              0.2222222222222222,
              "#7201a8"
             ],
             [
              0.3333333333333333,
              "#9c179e"
             ],
             [
              0.4444444444444444,
              "#bd3786"
             ],
             [
              0.5555555555555556,
              "#d8576b"
             ],
             [
              0.6666666666666666,
              "#ed7953"
             ],
             [
              0.7777777777777778,
              "#fb9f3a"
             ],
             [
              0.8888888888888888,
              "#fdca26"
             ],
             [
              1,
              "#f0f921"
             ]
            ],
            "type": "heatmapgl"
           }
          ],
          "histogram": [
           {
            "marker": {
             "pattern": {
              "fillmode": "overlay",
              "size": 10,
              "solidity": 0.2
             }
            },
            "type": "histogram"
           }
          ],
          "histogram2d": [
           {
            "colorbar": {
             "outlinewidth": 0,
             "ticks": ""
            },
            "colorscale": [
             [
              0,
              "#0d0887"
             ],
             [
              0.1111111111111111,
              "#46039f"
             ],
             [
              0.2222222222222222,
              "#7201a8"
             ],
             [
              0.3333333333333333,
              "#9c179e"
             ],
             [
              0.4444444444444444,
              "#bd3786"
             ],
             [
              0.5555555555555556,
              "#d8576b"
             ],
             [
              0.6666666666666666,
              "#ed7953"
             ],
             [
              0.7777777777777778,
              "#fb9f3a"
             ],
             [
              0.8888888888888888,
              "#fdca26"
             ],
             [
              1,
              "#f0f921"
             ]
            ],
            "type": "histogram2d"
           }
          ],
          "histogram2dcontour": [
           {
            "colorbar": {
             "outlinewidth": 0,
             "ticks": ""
            },
            "colorscale": [
             [
              0,
              "#0d0887"
             ],
             [
              0.1111111111111111,
              "#46039f"
             ],
             [
              0.2222222222222222,
              "#7201a8"
             ],
             [
              0.3333333333333333,
              "#9c179e"
             ],
             [
              0.4444444444444444,
              "#bd3786"
             ],
             [
              0.5555555555555556,
              "#d8576b"
             ],
             [
              0.6666666666666666,
              "#ed7953"
             ],
             [
              0.7777777777777778,
              "#fb9f3a"
             ],
             [
              0.8888888888888888,
              "#fdca26"
             ],
             [
              1,
              "#f0f921"
             ]
            ],
            "type": "histogram2dcontour"
           }
          ],
          "mesh3d": [
           {
            "colorbar": {
             "outlinewidth": 0,
             "ticks": ""
            },
            "type": "mesh3d"
           }
          ],
          "parcoords": [
           {
            "line": {
             "colorbar": {
              "outlinewidth": 0,
              "ticks": ""
             }
            },
            "type": "parcoords"
           }
          ],
          "pie": [
           {
            "automargin": true,
            "type": "pie"
           }
          ],
          "scatter": [
           {
            "fillpattern": {
             "fillmode": "overlay",
             "size": 10,
             "solidity": 0.2
            },
            "type": "scatter"
           }
          ],
          "scatter3d": [
           {
            "line": {
             "colorbar": {
              "outlinewidth": 0,
              "ticks": ""
             }
            },
            "marker": {
             "colorbar": {
              "outlinewidth": 0,
              "ticks": ""
             }
            },
            "type": "scatter3d"
           }
          ],
          "scattercarpet": [
           {
            "marker": {
             "colorbar": {
              "outlinewidth": 0,
              "ticks": ""
             }
            },
            "type": "scattercarpet"
           }
          ],
          "scattergeo": [
           {
            "marker": {
             "colorbar": {
              "outlinewidth": 0,
              "ticks": ""
             }
            },
            "type": "scattergeo"
           }
          ],
          "scattergl": [
           {
            "marker": {
             "colorbar": {
              "outlinewidth": 0,
              "ticks": ""
             }
            },
            "type": "scattergl"
           }
          ],
          "scattermapbox": [
           {
            "marker": {
             "colorbar": {
              "outlinewidth": 0,
              "ticks": ""
             }
            },
            "type": "scattermapbox"
           }
          ],
          "scatterpolar": [
           {
            "marker": {
             "colorbar": {
              "outlinewidth": 0,
              "ticks": ""
             }
            },
            "type": "scatterpolar"
           }
          ],
          "scatterpolargl": [
           {
            "marker": {
             "colorbar": {
              "outlinewidth": 0,
              "ticks": ""
             }
            },
            "type": "scatterpolargl"
           }
          ],
          "scatterternary": [
           {
            "marker": {
             "colorbar": {
              "outlinewidth": 0,
              "ticks": ""
             }
            },
            "type": "scatterternary"
           }
          ],
          "surface": [
           {
            "colorbar": {
             "outlinewidth": 0,
             "ticks": ""
            },
            "colorscale": [
             [
              0,
              "#0d0887"
             ],
             [
              0.1111111111111111,
              "#46039f"
             ],
             [
              0.2222222222222222,
              "#7201a8"
             ],
             [
              0.3333333333333333,
              "#9c179e"
             ],
             [
              0.4444444444444444,
              "#bd3786"
             ],
             [
              0.5555555555555556,
              "#d8576b"
             ],
             [
              0.6666666666666666,
              "#ed7953"
             ],
             [
              0.7777777777777778,
              "#fb9f3a"
             ],
             [
              0.8888888888888888,
              "#fdca26"
             ],
             [
              1,
              "#f0f921"
             ]
            ],
            "type": "surface"
           }
          ],
          "table": [
           {
            "cells": {
             "fill": {
              "color": "#EBF0F8"
             },
             "line": {
              "color": "white"
             }
            },
            "header": {
             "fill": {
              "color": "#C8D4E3"
             },
             "line": {
              "color": "white"
             }
            },
            "type": "table"
           }
          ]
         },
         "layout": {
          "annotationdefaults": {
           "arrowcolor": "#2a3f5f",
           "arrowhead": 0,
           "arrowwidth": 1
          },
          "autotypenumbers": "strict",
          "coloraxis": {
           "colorbar": {
            "outlinewidth": 0,
            "ticks": ""
           }
          },
          "colorscale": {
           "diverging": [
            [
             0,
             "#8e0152"
            ],
            [
             0.1,
             "#c51b7d"
            ],
            [
             0.2,
             "#de77ae"
            ],
            [
             0.3,
             "#f1b6da"
            ],
            [
             0.4,
             "#fde0ef"
            ],
            [
             0.5,
             "#f7f7f7"
            ],
            [
             0.6,
             "#e6f5d0"
            ],
            [
             0.7,
             "#b8e186"
            ],
            [
             0.8,
             "#7fbc41"
            ],
            [
             0.9,
             "#4d9221"
            ],
            [
             1,
             "#276419"
            ]
           ],
           "sequential": [
            [
             0,
             "#0d0887"
            ],
            [
             0.1111111111111111,
             "#46039f"
            ],
            [
             0.2222222222222222,
             "#7201a8"
            ],
            [
             0.3333333333333333,
             "#9c179e"
            ],
            [
             0.4444444444444444,
             "#bd3786"
            ],
            [
             0.5555555555555556,
             "#d8576b"
            ],
            [
             0.6666666666666666,
             "#ed7953"
            ],
            [
             0.7777777777777778,
             "#fb9f3a"
            ],
            [
             0.8888888888888888,
             "#fdca26"
            ],
            [
             1,
             "#f0f921"
            ]
           ],
           "sequentialminus": [
            [
             0,
             "#0d0887"
            ],
            [
             0.1111111111111111,
             "#46039f"
            ],
            [
             0.2222222222222222,
             "#7201a8"
            ],
            [
             0.3333333333333333,
             "#9c179e"
            ],
            [
             0.4444444444444444,
             "#bd3786"
            ],
            [
             0.5555555555555556,
             "#d8576b"
            ],
            [
             0.6666666666666666,
             "#ed7953"
            ],
            [
             0.7777777777777778,
             "#fb9f3a"
            ],
            [
             0.8888888888888888,
             "#fdca26"
            ],
            [
             1,
             "#f0f921"
            ]
           ]
          },
          "colorway": [
           "#636efa",
           "#EF553B",
           "#00cc96",
           "#ab63fa",
           "#FFA15A",
           "#19d3f3",
           "#FF6692",
           "#B6E880",
           "#FF97FF",
           "#FECB52"
          ],
          "font": {
           "color": "#2a3f5f"
          },
          "geo": {
           "bgcolor": "white",
           "lakecolor": "white",
           "landcolor": "#E5ECF6",
           "showlakes": true,
           "showland": true,
           "subunitcolor": "white"
          },
          "hoverlabel": {
           "align": "left"
          },
          "hovermode": "closest",
          "mapbox": {
           "style": "light"
          },
          "paper_bgcolor": "white",
          "plot_bgcolor": "#E5ECF6",
          "polar": {
           "angularaxis": {
            "gridcolor": "white",
            "linecolor": "white",
            "ticks": ""
           },
           "bgcolor": "#E5ECF6",
           "radialaxis": {
            "gridcolor": "white",
            "linecolor": "white",
            "ticks": ""
           }
          },
          "scene": {
           "xaxis": {
            "backgroundcolor": "#E5ECF6",
            "gridcolor": "white",
            "gridwidth": 2,
            "linecolor": "white",
            "showbackground": true,
            "ticks": "",
            "zerolinecolor": "white"
           },
           "yaxis": {
            "backgroundcolor": "#E5ECF6",
            "gridcolor": "white",
            "gridwidth": 2,
            "linecolor": "white",
            "showbackground": true,
            "ticks": "",
            "zerolinecolor": "white"
           },
           "zaxis": {
            "backgroundcolor": "#E5ECF6",
            "gridcolor": "white",
            "gridwidth": 2,
            "linecolor": "white",
            "showbackground": true,
            "ticks": "",
            "zerolinecolor": "white"
           }
          },
          "shapedefaults": {
           "line": {
            "color": "#2a3f5f"
           }
          },
          "ternary": {
           "aaxis": {
            "gridcolor": "white",
            "linecolor": "white",
            "ticks": ""
           },
           "baxis": {
            "gridcolor": "white",
            "linecolor": "white",
            "ticks": ""
           },
           "bgcolor": "#E5ECF6",
           "caxis": {
            "gridcolor": "white",
            "linecolor": "white",
            "ticks": ""
           }
          },
          "title": {
           "x": 0.05
          },
          "xaxis": {
           "automargin": true,
           "gridcolor": "white",
           "linecolor": "white",
           "ticks": "",
           "title": {
            "standoff": 15
           },
           "zerolinecolor": "white",
           "zerolinewidth": 2
          },
          "yaxis": {
           "automargin": true,
           "gridcolor": "white",
           "linecolor": "white",
           "ticks": "",
           "title": {
            "standoff": 15
           },
           "zerolinecolor": "white",
           "zerolinewidth": 2
          }
         }
        },
        "title": {
         "text": "Aantal vluchtelingen en terroristische aanslagen in Zweden"
        },
        "xaxis": {
         "categoryarray": [
          2000,
          2001,
          2002,
          2003,
          2004,
          2005,
          2006,
          2007,
          2008,
          2009,
          2010,
          2011,
          2012,
          2013,
          2014,
          2015,
          2016,
          2017
         ],
         "categoryorder": "array",
         "title": {
          "text": "Year"
         },
         "type": "category"
        },
        "yaxis": {
         "range": [
          0,
          250000
         ],
         "side": "left",
         "title": {
          "text": "Vluchtelingen onder UNHCR's mandate"
         }
        },
        "yaxis2": {
         "overlaying": "y",
         "range": [
          0,
          35
         ],
         "side": "right",
         "title": {
          "text": "Terroristische aanslagen"
         }
        }
       }
      },
      "text/html": [
       "<div>                            <div id=\"f1477fb5-fe58-43bc-a1b3-71778eedc0a5\" class=\"plotly-graph-div\" style=\"height:500px; width:100%;\"></div>            <script type=\"text/javascript\">                require([\"plotly\"], function(Plotly) {                    window.PLOTLYENV=window.PLOTLYENV || {};                                    if (document.getElementById(\"f1477fb5-fe58-43bc-a1b3-71778eedc0a5\")) {                    Plotly.newPlot(                        \"f1477fb5-fe58-43bc-a1b3-71778eedc0a5\",                        [{\"marker\":{\"color\":\"rgb(238, 75, 43)\"},\"name\":\"Vluchtelingen\",\"offsetgroup\":\"0\",\"width\":0.4,\"x\":[2000,2001,2002,2003,2004,2005,2006,2007,2008,2009,2010,2011,2012,2013,2014,2015,2016,2017],\"y\":[157206,146480,142170,112148,73383,74889,79895,75055,77016,81346,82620,86603,92869,114172,142197,169516,230158,240954],\"yaxis\":\"y\",\"type\":\"bar\"},{\"hovertext\":[\"Unknown\",\"Al-Qaida Organization for Jihad in Sweden\",\"Global Intifada\",\"Unknown\",\"Unknown\",\"Global Intifada\",\"Iraqi extremists\",\"Unknown\",\"Animal Liberation Front (ALF)\",\"Unknown\",\"Unknown\",\"Anti-Immigrant extremists\",\"Unknown\",\"Anti-Muslim extremists\",\"Jihadi-inspired extremists\",\"Nordic Resistance Movement\",\"Unknown\",\"Anti-Semitic extremists\",\"Jihadi-inspired extremists\",\"Neo-Nazi extremists\",\"Nordic Resistance Movement\",\"Unknown\"],\"marker\":{\"color\":[\"#636EFA\",\"#EF553B\",\"#00CC96\",\"#636EFA\",\"#636EFA\",\"#00CC96\",\"#AB63FA\",\"#636EFA\",\"#FFA15A\",\"#636EFA\",\"#636EFA\",\"#19D3F3\",\"#636EFA\",\"#FF6692\",\"#B6E880\",\"#FF97FF\",\"#636EFA\",\"#FECB52\",\"#B6E880\",\"rgb(129, 133, 137)\",\"#FF97FF\",\"#636EFA\"]},\"name\":\"Aanslagen\",\"offsetgroup\":\"1\",\"width\":0.4,\"x\":[2000,2005,2005,2006,2008,2009,2010,2010,2011,2012,2014,2015,2015,2016,2016,2016,2016,2017,2017,2017,2017,2017],\"y\":[1,1,2,1,1,1,2,1,1,2,5,2,30,1,1,1,13,2,1,2,2,11],\"yaxis\":\"y2\",\"type\":\"bar\"}],                        {\"template\":{\"data\":{\"histogram2dcontour\":[{\"type\":\"histogram2dcontour\",\"colorbar\":{\"outlinewidth\":0,\"ticks\":\"\"},\"colorscale\":[[0.0,\"#0d0887\"],[0.1111111111111111,\"#46039f\"],[0.2222222222222222,\"#7201a8\"],[0.3333333333333333,\"#9c179e\"],[0.4444444444444444,\"#bd3786\"],[0.5555555555555556,\"#d8576b\"],[0.6666666666666666,\"#ed7953\"],[0.7777777777777778,\"#fb9f3a\"],[0.8888888888888888,\"#fdca26\"],[1.0,\"#f0f921\"]]}],\"choropleth\":[{\"type\":\"choropleth\",\"colorbar\":{\"outlinewidth\":0,\"ticks\":\"\"}}],\"histogram2d\":[{\"type\":\"histogram2d\",\"colorbar\":{\"outlinewidth\":0,\"ticks\":\"\"},\"colorscale\":[[0.0,\"#0d0887\"],[0.1111111111111111,\"#46039f\"],[0.2222222222222222,\"#7201a8\"],[0.3333333333333333,\"#9c179e\"],[0.4444444444444444,\"#bd3786\"],[0.5555555555555556,\"#d8576b\"],[0.6666666666666666,\"#ed7953\"],[0.7777777777777778,\"#fb9f3a\"],[0.8888888888888888,\"#fdca26\"],[1.0,\"#f0f921\"]]}],\"heatmap\":[{\"type\":\"heatmap\",\"colorbar\":{\"outlinewidth\":0,\"ticks\":\"\"},\"colorscale\":[[0.0,\"#0d0887\"],[0.1111111111111111,\"#46039f\"],[0.2222222222222222,\"#7201a8\"],[0.3333333333333333,\"#9c179e\"],[0.4444444444444444,\"#bd3786\"],[0.5555555555555556,\"#d8576b\"],[0.6666666666666666,\"#ed7953\"],[0.7777777777777778,\"#fb9f3a\"],[0.8888888888888888,\"#fdca26\"],[1.0,\"#f0f921\"]]}],\"heatmapgl\":[{\"type\":\"heatmapgl\",\"colorbar\":{\"outlinewidth\":0,\"ticks\":\"\"},\"colorscale\":[[0.0,\"#0d0887\"],[0.1111111111111111,\"#46039f\"],[0.2222222222222222,\"#7201a8\"],[0.3333333333333333,\"#9c179e\"],[0.4444444444444444,\"#bd3786\"],[0.5555555555555556,\"#d8576b\"],[0.6666666666666666,\"#ed7953\"],[0.7777777777777778,\"#fb9f3a\"],[0.8888888888888888,\"#fdca26\"],[1.0,\"#f0f921\"]]}],\"contourcarpet\":[{\"type\":\"contourcarpet\",\"colorbar\":{\"outlinewidth\":0,\"ticks\":\"\"}}],\"contour\":[{\"type\":\"contour\",\"colorbar\":{\"outlinewidth\":0,\"ticks\":\"\"},\"colorscale\":[[0.0,\"#0d0887\"],[0.1111111111111111,\"#46039f\"],[0.2222222222222222,\"#7201a8\"],[0.3333333333333333,\"#9c179e\"],[0.4444444444444444,\"#bd3786\"],[0.5555555555555556,\"#d8576b\"],[0.6666666666666666,\"#ed7953\"],[0.7777777777777778,\"#fb9f3a\"],[0.8888888888888888,\"#fdca26\"],[1.0,\"#f0f921\"]]}],\"surface\":[{\"type\":\"surface\",\"colorbar\":{\"outlinewidth\":0,\"ticks\":\"\"},\"colorscale\":[[0.0,\"#0d0887\"],[0.1111111111111111,\"#46039f\"],[0.2222222222222222,\"#7201a8\"],[0.3333333333333333,\"#9c179e\"],[0.4444444444444444,\"#bd3786\"],[0.5555555555555556,\"#d8576b\"],[0.6666666666666666,\"#ed7953\"],[0.7777777777777778,\"#fb9f3a\"],[0.8888888888888888,\"#fdca26\"],[1.0,\"#f0f921\"]]}],\"mesh3d\":[{\"type\":\"mesh3d\",\"colorbar\":{\"outlinewidth\":0,\"ticks\":\"\"}}],\"scatter\":[{\"fillpattern\":{\"fillmode\":\"overlay\",\"size\":10,\"solidity\":0.2},\"type\":\"scatter\"}],\"parcoords\":[{\"type\":\"parcoords\",\"line\":{\"colorbar\":{\"outlinewidth\":0,\"ticks\":\"\"}}}],\"scatterpolargl\":[{\"type\":\"scatterpolargl\",\"marker\":{\"colorbar\":{\"outlinewidth\":0,\"ticks\":\"\"}}}],\"bar\":[{\"error_x\":{\"color\":\"#2a3f5f\"},\"error_y\":{\"color\":\"#2a3f5f\"},\"marker\":{\"line\":{\"color\":\"#E5ECF6\",\"width\":0.5},\"pattern\":{\"fillmode\":\"overlay\",\"size\":10,\"solidity\":0.2}},\"type\":\"bar\"}],\"scattergeo\":[{\"type\":\"scattergeo\",\"marker\":{\"colorbar\":{\"outlinewidth\":0,\"ticks\":\"\"}}}],\"scatterpolar\":[{\"type\":\"scatterpolar\",\"marker\":{\"colorbar\":{\"outlinewidth\":0,\"ticks\":\"\"}}}],\"histogram\":[{\"marker\":{\"pattern\":{\"fillmode\":\"overlay\",\"size\":10,\"solidity\":0.2}},\"type\":\"histogram\"}],\"scattergl\":[{\"type\":\"scattergl\",\"marker\":{\"colorbar\":{\"outlinewidth\":0,\"ticks\":\"\"}}}],\"scatter3d\":[{\"type\":\"scatter3d\",\"line\":{\"colorbar\":{\"outlinewidth\":0,\"ticks\":\"\"}},\"marker\":{\"colorbar\":{\"outlinewidth\":0,\"ticks\":\"\"}}}],\"scattermapbox\":[{\"type\":\"scattermapbox\",\"marker\":{\"colorbar\":{\"outlinewidth\":0,\"ticks\":\"\"}}}],\"scatterternary\":[{\"type\":\"scatterternary\",\"marker\":{\"colorbar\":{\"outlinewidth\":0,\"ticks\":\"\"}}}],\"scattercarpet\":[{\"type\":\"scattercarpet\",\"marker\":{\"colorbar\":{\"outlinewidth\":0,\"ticks\":\"\"}}}],\"carpet\":[{\"aaxis\":{\"endlinecolor\":\"#2a3f5f\",\"gridcolor\":\"white\",\"linecolor\":\"white\",\"minorgridcolor\":\"white\",\"startlinecolor\":\"#2a3f5f\"},\"baxis\":{\"endlinecolor\":\"#2a3f5f\",\"gridcolor\":\"white\",\"linecolor\":\"white\",\"minorgridcolor\":\"white\",\"startlinecolor\":\"#2a3f5f\"},\"type\":\"carpet\"}],\"table\":[{\"cells\":{\"fill\":{\"color\":\"#EBF0F8\"},\"line\":{\"color\":\"white\"}},\"header\":{\"fill\":{\"color\":\"#C8D4E3\"},\"line\":{\"color\":\"white\"}},\"type\":\"table\"}],\"barpolar\":[{\"marker\":{\"line\":{\"color\":\"#E5ECF6\",\"width\":0.5},\"pattern\":{\"fillmode\":\"overlay\",\"size\":10,\"solidity\":0.2}},\"type\":\"barpolar\"}],\"pie\":[{\"automargin\":true,\"type\":\"pie\"}]},\"layout\":{\"autotypenumbers\":\"strict\",\"colorway\":[\"#636efa\",\"#EF553B\",\"#00cc96\",\"#ab63fa\",\"#FFA15A\",\"#19d3f3\",\"#FF6692\",\"#B6E880\",\"#FF97FF\",\"#FECB52\"],\"font\":{\"color\":\"#2a3f5f\"},\"hovermode\":\"closest\",\"hoverlabel\":{\"align\":\"left\"},\"paper_bgcolor\":\"white\",\"plot_bgcolor\":\"#E5ECF6\",\"polar\":{\"bgcolor\":\"#E5ECF6\",\"angularaxis\":{\"gridcolor\":\"white\",\"linecolor\":\"white\",\"ticks\":\"\"},\"radialaxis\":{\"gridcolor\":\"white\",\"linecolor\":\"white\",\"ticks\":\"\"}},\"ternary\":{\"bgcolor\":\"#E5ECF6\",\"aaxis\":{\"gridcolor\":\"white\",\"linecolor\":\"white\",\"ticks\":\"\"},\"baxis\":{\"gridcolor\":\"white\",\"linecolor\":\"white\",\"ticks\":\"\"},\"caxis\":{\"gridcolor\":\"white\",\"linecolor\":\"white\",\"ticks\":\"\"}},\"coloraxis\":{\"colorbar\":{\"outlinewidth\":0,\"ticks\":\"\"}},\"colorscale\":{\"sequential\":[[0.0,\"#0d0887\"],[0.1111111111111111,\"#46039f\"],[0.2222222222222222,\"#7201a8\"],[0.3333333333333333,\"#9c179e\"],[0.4444444444444444,\"#bd3786\"],[0.5555555555555556,\"#d8576b\"],[0.6666666666666666,\"#ed7953\"],[0.7777777777777778,\"#fb9f3a\"],[0.8888888888888888,\"#fdca26\"],[1.0,\"#f0f921\"]],\"sequentialminus\":[[0.0,\"#0d0887\"],[0.1111111111111111,\"#46039f\"],[0.2222222222222222,\"#7201a8\"],[0.3333333333333333,\"#9c179e\"],[0.4444444444444444,\"#bd3786\"],[0.5555555555555556,\"#d8576b\"],[0.6666666666666666,\"#ed7953\"],[0.7777777777777778,\"#fb9f3a\"],[0.8888888888888888,\"#fdca26\"],[1.0,\"#f0f921\"]],\"diverging\":[[0,\"#8e0152\"],[0.1,\"#c51b7d\"],[0.2,\"#de77ae\"],[0.3,\"#f1b6da\"],[0.4,\"#fde0ef\"],[0.5,\"#f7f7f7\"],[0.6,\"#e6f5d0\"],[0.7,\"#b8e186\"],[0.8,\"#7fbc41\"],[0.9,\"#4d9221\"],[1,\"#276419\"]]},\"xaxis\":{\"gridcolor\":\"white\",\"linecolor\":\"white\",\"ticks\":\"\",\"title\":{\"standoff\":15},\"zerolinecolor\":\"white\",\"automargin\":true,\"zerolinewidth\":2},\"yaxis\":{\"gridcolor\":\"white\",\"linecolor\":\"white\",\"ticks\":\"\",\"title\":{\"standoff\":15},\"zerolinecolor\":\"white\",\"automargin\":true,\"zerolinewidth\":2},\"scene\":{\"xaxis\":{\"backgroundcolor\":\"#E5ECF6\",\"gridcolor\":\"white\",\"linecolor\":\"white\",\"showbackground\":true,\"ticks\":\"\",\"zerolinecolor\":\"white\",\"gridwidth\":2},\"yaxis\":{\"backgroundcolor\":\"#E5ECF6\",\"gridcolor\":\"white\",\"linecolor\":\"white\",\"showbackground\":true,\"ticks\":\"\",\"zerolinecolor\":\"white\",\"gridwidth\":2},\"zaxis\":{\"backgroundcolor\":\"#E5ECF6\",\"gridcolor\":\"white\",\"linecolor\":\"white\",\"showbackground\":true,\"ticks\":\"\",\"zerolinecolor\":\"white\",\"gridwidth\":2}},\"shapedefaults\":{\"line\":{\"color\":\"#2a3f5f\"}},\"annotationdefaults\":{\"arrowcolor\":\"#2a3f5f\",\"arrowhead\":0,\"arrowwidth\":1},\"geo\":{\"bgcolor\":\"white\",\"landcolor\":\"#E5ECF6\",\"subunitcolor\":\"white\",\"showland\":true,\"showlakes\":true,\"lakecolor\":\"white\"},\"title\":{\"x\":0.05},\"mapbox\":{\"style\":\"light\"}}},\"xaxis\":{\"type\":\"category\",\"categoryorder\":\"array\",\"categoryarray\":[2000,2001,2002,2003,2004,2005,2006,2007,2008,2009,2010,2011,2012,2013,2014,2015,2016,2017],\"title\":{\"text\":\"Year\"}},\"yaxis\":{\"range\":[0,250000],\"title\":{\"text\":\"Vluchtelingen onder UNHCR's mandate\"},\"side\":\"left\"},\"yaxis2\":{\"range\":[0,35],\"title\":{\"text\":\"Terroristische aanslagen\"},\"overlaying\":\"y\",\"side\":\"right\"},\"title\":{\"text\":\"Aantal vluchtelingen en terroristische aanslagen in Zweden\"},\"height\":500,\"bargap\":0.1,\"plot_bgcolor\":\"rgb(252, 245, 245)\"},                        {\"responsive\": true}                    ).then(function(){\n",
       "                            \n",
       "var gd = document.getElementById('f1477fb5-fe58-43bc-a1b3-71778eedc0a5');\n",
       "var x = new MutationObserver(function (mutations, observer) {{\n",
       "        var display = window.getComputedStyle(gd).display;\n",
       "        if (!display || display === 'none') {{\n",
       "            console.log([gd, 'removed!']);\n",
       "            Plotly.purge(gd);\n",
       "            observer.disconnect();\n",
       "        }}\n",
       "}});\n",
       "\n",
       "// Listen for the removal of the full notebook cells\n",
       "var notebookContainer = gd.closest('#notebook-container');\n",
       "if (notebookContainer) {{\n",
       "    x.observe(notebookContainer, {childList: true});\n",
       "}}\n",
       "\n",
       "// Listen for the clearing of the current output cell\n",
       "var outputEl = gd.closest('.output');\n",
       "if (outputEl) {{\n",
       "    x.observe(outputEl, {childList: true});\n",
       "}}\n",
       "\n",
       "                        })                };                });            </script>        </div>"
      ]
     },
     "metadata": {},
     "output_type": "display_data"
    }
   ],
   "source": [
    "import pandas as pd\n",
    "import plotly.graph_objects as go\n",
    "import plotly.express as px\n",
    "\n",
    "df4 = pd.read_csv('migranten_per_jaar_per_land.csv')\n",
    "df5 = df4[df4.Year.between(2000, 2017)]\n",
    "df10 = df5[df5[\"Country of asylum\"] == 'Sweden']\n",
    "\n",
    "df7 = pd.read_csv('aanslagen_per_jaar_per_land_per_groep.csv')\n",
    "df8 = df7[df7.year.between(2000, 2017)]\n",
    "df11 = df8[df8[\"country\"] == 'Sweden']\n",
    "\n",
    "groups = df11['group'].unique()\n",
    "\n",
    "color_map = {group: color for group, color in zip(groups, px.colors.qualitative.Plotly)}\n",
    "\n",
    "fig = go.Figure()\n",
    "\n",
    "fig.add_trace(go.Bar(\n",
    "    x=df10['Year'],\n",
    "    y=df10[\"Refugees under UNHCR's mandate\"],\n",
    "    marker_color='rgb(238, 75, 43)',\n",
    "    name=\"Vluchtelingen\",\n",
    "    yaxis='y',\n",
    "    offsetgroup=0,\n",
    "    width=0.4\n",
    "))\n",
    "\n",
    "fig.add_trace(go.Bar(\n",
    "    x=df11['year'],\n",
    "    y=df11['count'],\n",
    "    marker_color=[color_map.get(group, 'rgb(129, 133, 137)') for group in df11['group']],\n",
    "    hovertext=df11['group'],\n",
    "    name='Aanslagen',\n",
    "    yaxis='y2',\n",
    "    offsetgroup=1,\n",
    "    width=0.4\n",
    "))\n",
    "\n",
    "fig.update_layout(\n",
    "    title='Aantal vluchtelingen en terroristische aanslagen in Zweden',\n",
    "    xaxis=dict(type='category', categoryorder='array', categoryarray=df10['Year']),\n",
    "    yaxis=dict(range=[0, 250000], title=\"Vluchtelingen onder UNHCR's mandate\", side='left'),\n",
    "    yaxis2=dict(range=[0, 35], title=\"Terroristische aanslagen\", overlaying='y', side='right'),\n",
    "    xaxis_title='Year',\n",
    "    height=500,\n",
    "    bargap=0.1,\n",
    "    plot_bgcolor='rgb(252, 245, 245)',\n",
    ")\n",
    "\n",
    "fig.show()\n"
   ]
  },
  {
   "attachments": {},
   "cell_type": "markdown",
   "id": "8e01484c",
   "metadata": {},
   "source": [
    "> Figuur 4: Gelijk aan de stijging van het aantal vluchtelingen in Zweden was er ook een stijging van het aantal terroristische aanslagen in Zweden."
   ]
  },
  {
   "attachments": {},
   "cell_type": "markdown",
   "id": "e1ec4c90-ccd9-4940-9a0e-18799c438ef5",
   "metadata": {},
   "source": [
    "## Your Second Perspective"
   ]
  },
  {
   "attachments": {},
   "cell_type": "markdown",
   "id": "005e94a9",
   "metadata": {},
   "source": [
    "x"
   ]
  },
  {
   "attachments": {},
   "cell_type": "markdown",
   "id": "4a3eacb4-4812-474a-9900-71e2ac33cb5f",
   "metadata": {},
   "source": [
    "### The First Argument of Your Second Perspective"
   ]
  },
  {
   "attachments": {},
   "cell_type": "markdown",
   "id": "62b3848e-5c37-482c-a584-c7c2a02a1e95",
   "metadata": {},
   "source": [
    "x"
   ]
  },
  {
   "cell_type": "code",
   "execution_count": 106,
   "id": "982ff45f",
   "metadata": {
    "hideCode": true,
    "tags": [
     "hide-input"
    ]
   },
   "outputs": [
    {
     "data": {
      "application/vnd.plotly.v1+json": {
       "config": {
        "plotlyServerURL": "https://plot.ly"
       },
       "data": [
        {
         "marker": {
          "color": "rgb(238, 75, 43)"
         },
         "name": "Vluchtelingen",
         "offsetgroup": "0",
         "type": "bar",
         "width": 0.4,
         "x": [
          2000,
          2001,
          2002,
          2003,
          2004,
          2005,
          2006,
          2007,
          2008,
          2009,
          2010,
          2011,
          2012,
          2013,
          2014,
          2015,
          2016,
          2017
         ],
         "y": [
          6982,
          6804,
          6783,
          5912,
          5690,
          5369,
          5269,
          5143,
          4649,
          3960,
          3814,
          4220,
          4502,
          4641,
          5797,
          6447,
          12983,
          17541
         ],
         "yaxis": "y"
        },
        {
         "hovertext": [
          "Anarchists",
          "Basque Fatherland and Freedom (ETA)",
          "Basque extremists",
          "First of October Antifascist Resistance Group (GRAPO)",
          "Unknown",
          "Youths",
          "Basque Fatherland and Freedom (ETA)",
          "Haika",
          "Unknown",
          "Basque Fatherland and Freedom (ETA)",
          "CCCCC",
          "Neo-Nazi extremists",
          "Unknown",
          "Basque Fatherland and Freedom (ETA)",
          "Unknown",
          "Al-Qaida",
          "Basque Fatherland and Freedom (ETA)",
          "Unknown",
          "Basque Fatherland and Freedom (ETA)",
          "Unknown",
          "Basque Fatherland and Freedom (ETA)",
          "Unknown",
          "Anti-Independence extremists",
          "Basque Fatherland and Freedom (ETA)",
          "Unknown",
          "Basque Fatherland and Freedom (ETA)",
          "Unknown",
          "Basque Fatherland and Freedom (ETA)",
          "Basque Separatists",
          "Unknown",
          "Basque Fatherland and Freedom (ETA)",
          "Unknown",
          "Resistencia Galega",
          "Anti-Clerical Pro-Sex Toys Group",
          "Mateo Morral Insurrectionist Commandos",
          "Resistencia Galega",
          "Basque Separatists",
          "Resistencia Galega",
          "Unknown",
          "Ramiro Ledesma Social Centre",
          "Alde Hemendik Movement",
          "Muslim extremists",
          "Ramiro Ledesma Social Centre",
          "Muslim extremists",
          "Unknown"
         ],
         "marker": {
          "color": [
           "#636EFA",
           "#EF553B",
           "#00CC96",
           "#AB63FA",
           "#FFA15A",
           "#19D3F3",
           "#EF553B",
           "#FF6692",
           "#FFA15A",
           "#EF553B",
           "#B6E880",
           "#FF97FF",
           "#FFA15A",
           "#EF553B",
           "#FFA15A",
           "#FECB52",
           "#EF553B",
           "#FFA15A",
           "#EF553B",
           "#FFA15A",
           "#EF553B",
           "#FFA15A",
           "rgb(129, 133, 137)",
           "#EF553B",
           "#FFA15A",
           "#EF553B",
           "#FFA15A",
           "#EF553B",
           "rgb(129, 133, 137)",
           "#FFA15A",
           "#EF553B",
           "#FFA15A",
           "rgb(129, 133, 137)",
           "rgb(129, 133, 137)",
           "rgb(129, 133, 137)",
           "rgb(129, 133, 137)",
           "rgb(129, 133, 137)",
           "rgb(129, 133, 137)",
           "#FFA15A",
           "rgb(129, 133, 137)",
           "rgb(129, 133, 137)",
           "rgb(129, 133, 137)",
           "rgb(129, 133, 137)",
           "rgb(129, 133, 137)",
           "#FFA15A"
          ]
         },
         "name": "Aanslagen",
         "offsetgroup": "1",
         "type": "bar",
         "width": 0.4,
         "x": [
          2000,
          2000,
          2000,
          2000,
          2000,
          2000,
          2001,
          2001,
          2001,
          2002,
          2002,
          2002,
          2002,
          2003,
          2003,
          2004,
          2004,
          2004,
          2005,
          2005,
          2006,
          2006,
          2007,
          2007,
          2007,
          2008,
          2008,
          2009,
          2009,
          2009,
          2010,
          2010,
          2012,
          2013,
          2013,
          2013,
          2014,
          2014,
          2014,
          2015,
          2016,
          2016,
          2016,
          2017,
          2017
         ],
         "y": [
          2,
          46,
          4,
          14,
          42,
          4,
          36,
          1,
          42,
          28,
          1,
          1,
          11,
          11,
          10,
          6,
          20,
          5,
          19,
          5,
          17,
          6,
          1,
          6,
          4,
          32,
          5,
          14,
          1,
          6,
          1,
          2,
          1,
          2,
          2,
          1,
          1,
          1,
          2,
          1,
          1,
          1,
          1,
          3,
          1
         ],
         "yaxis": "y2"
        }
       ],
       "layout": {
        "bargap": 0.1,
        "height": 500,
        "plot_bgcolor": "rgb(252, 245, 245)",
        "template": {
         "data": {
          "bar": [
           {
            "error_x": {
             "color": "#2a3f5f"
            },
            "error_y": {
             "color": "#2a3f5f"
            },
            "marker": {
             "line": {
              "color": "#E5ECF6",
              "width": 0.5
             },
             "pattern": {
              "fillmode": "overlay",
              "size": 10,
              "solidity": 0.2
             }
            },
            "type": "bar"
           }
          ],
          "barpolar": [
           {
            "marker": {
             "line": {
              "color": "#E5ECF6",
              "width": 0.5
             },
             "pattern": {
              "fillmode": "overlay",
              "size": 10,
              "solidity": 0.2
             }
            },
            "type": "barpolar"
           }
          ],
          "carpet": [
           {
            "aaxis": {
             "endlinecolor": "#2a3f5f",
             "gridcolor": "white",
             "linecolor": "white",
             "minorgridcolor": "white",
             "startlinecolor": "#2a3f5f"
            },
            "baxis": {
             "endlinecolor": "#2a3f5f",
             "gridcolor": "white",
             "linecolor": "white",
             "minorgridcolor": "white",
             "startlinecolor": "#2a3f5f"
            },
            "type": "carpet"
           }
          ],
          "choropleth": [
           {
            "colorbar": {
             "outlinewidth": 0,
             "ticks": ""
            },
            "type": "choropleth"
           }
          ],
          "contour": [
           {
            "colorbar": {
             "outlinewidth": 0,
             "ticks": ""
            },
            "colorscale": [
             [
              0,
              "#0d0887"
             ],
             [
              0.1111111111111111,
              "#46039f"
             ],
             [
              0.2222222222222222,
              "#7201a8"
             ],
             [
              0.3333333333333333,
              "#9c179e"
             ],
             [
              0.4444444444444444,
              "#bd3786"
             ],
             [
              0.5555555555555556,
              "#d8576b"
             ],
             [
              0.6666666666666666,
              "#ed7953"
             ],
             [
              0.7777777777777778,
              "#fb9f3a"
             ],
             [
              0.8888888888888888,
              "#fdca26"
             ],
             [
              1,
              "#f0f921"
             ]
            ],
            "type": "contour"
           }
          ],
          "contourcarpet": [
           {
            "colorbar": {
             "outlinewidth": 0,
             "ticks": ""
            },
            "type": "contourcarpet"
           }
          ],
          "heatmap": [
           {
            "colorbar": {
             "outlinewidth": 0,
             "ticks": ""
            },
            "colorscale": [
             [
              0,
              "#0d0887"
             ],
             [
              0.1111111111111111,
              "#46039f"
             ],
             [
              0.2222222222222222,
              "#7201a8"
             ],
             [
              0.3333333333333333,
              "#9c179e"
             ],
             [
              0.4444444444444444,
              "#bd3786"
             ],
             [
              0.5555555555555556,
              "#d8576b"
             ],
             [
              0.6666666666666666,
              "#ed7953"
             ],
             [
              0.7777777777777778,
              "#fb9f3a"
             ],
             [
              0.8888888888888888,
              "#fdca26"
             ],
             [
              1,
              "#f0f921"
             ]
            ],
            "type": "heatmap"
           }
          ],
          "heatmapgl": [
           {
            "colorbar": {
             "outlinewidth": 0,
             "ticks": ""
            },
            "colorscale": [
             [
              0,
              "#0d0887"
             ],
             [
              0.1111111111111111,
              "#46039f"
             ],
             [
              0.2222222222222222,
              "#7201a8"
             ],
             [
              0.3333333333333333,
              "#9c179e"
             ],
             [
              0.4444444444444444,
              "#bd3786"
             ],
             [
              0.5555555555555556,
              "#d8576b"
             ],
             [
              0.6666666666666666,
              "#ed7953"
             ],
             [
              0.7777777777777778,
              "#fb9f3a"
             ],
             [
              0.8888888888888888,
              "#fdca26"
             ],
             [
              1,
              "#f0f921"
             ]
            ],
            "type": "heatmapgl"
           }
          ],
          "histogram": [
           {
            "marker": {
             "pattern": {
              "fillmode": "overlay",
              "size": 10,
              "solidity": 0.2
             }
            },
            "type": "histogram"
           }
          ],
          "histogram2d": [
           {
            "colorbar": {
             "outlinewidth": 0,
             "ticks": ""
            },
            "colorscale": [
             [
              0,
              "#0d0887"
             ],
             [
              0.1111111111111111,
              "#46039f"
             ],
             [
              0.2222222222222222,
              "#7201a8"
             ],
             [
              0.3333333333333333,
              "#9c179e"
             ],
             [
              0.4444444444444444,
              "#bd3786"
             ],
             [
              0.5555555555555556,
              "#d8576b"
             ],
             [
              0.6666666666666666,
              "#ed7953"
             ],
             [
              0.7777777777777778,
              "#fb9f3a"
             ],
             [
              0.8888888888888888,
              "#fdca26"
             ],
             [
              1,
              "#f0f921"
             ]
            ],
            "type": "histogram2d"
           }
          ],
          "histogram2dcontour": [
           {
            "colorbar": {
             "outlinewidth": 0,
             "ticks": ""
            },
            "colorscale": [
             [
              0,
              "#0d0887"
             ],
             [
              0.1111111111111111,
              "#46039f"
             ],
             [
              0.2222222222222222,
              "#7201a8"
             ],
             [
              0.3333333333333333,
              "#9c179e"
             ],
             [
              0.4444444444444444,
              "#bd3786"
             ],
             [
              0.5555555555555556,
              "#d8576b"
             ],
             [
              0.6666666666666666,
              "#ed7953"
             ],
             [
              0.7777777777777778,
              "#fb9f3a"
             ],
             [
              0.8888888888888888,
              "#fdca26"
             ],
             [
              1,
              "#f0f921"
             ]
            ],
            "type": "histogram2dcontour"
           }
          ],
          "mesh3d": [
           {
            "colorbar": {
             "outlinewidth": 0,
             "ticks": ""
            },
            "type": "mesh3d"
           }
          ],
          "parcoords": [
           {
            "line": {
             "colorbar": {
              "outlinewidth": 0,
              "ticks": ""
             }
            },
            "type": "parcoords"
           }
          ],
          "pie": [
           {
            "automargin": true,
            "type": "pie"
           }
          ],
          "scatter": [
           {
            "fillpattern": {
             "fillmode": "overlay",
             "size": 10,
             "solidity": 0.2
            },
            "type": "scatter"
           }
          ],
          "scatter3d": [
           {
            "line": {
             "colorbar": {
              "outlinewidth": 0,
              "ticks": ""
             }
            },
            "marker": {
             "colorbar": {
              "outlinewidth": 0,
              "ticks": ""
             }
            },
            "type": "scatter3d"
           }
          ],
          "scattercarpet": [
           {
            "marker": {
             "colorbar": {
              "outlinewidth": 0,
              "ticks": ""
             }
            },
            "type": "scattercarpet"
           }
          ],
          "scattergeo": [
           {
            "marker": {
             "colorbar": {
              "outlinewidth": 0,
              "ticks": ""
             }
            },
            "type": "scattergeo"
           }
          ],
          "scattergl": [
           {
            "marker": {
             "colorbar": {
              "outlinewidth": 0,
              "ticks": ""
             }
            },
            "type": "scattergl"
           }
          ],
          "scattermapbox": [
           {
            "marker": {
             "colorbar": {
              "outlinewidth": 0,
              "ticks": ""
             }
            },
            "type": "scattermapbox"
           }
          ],
          "scatterpolar": [
           {
            "marker": {
             "colorbar": {
              "outlinewidth": 0,
              "ticks": ""
             }
            },
            "type": "scatterpolar"
           }
          ],
          "scatterpolargl": [
           {
            "marker": {
             "colorbar": {
              "outlinewidth": 0,
              "ticks": ""
             }
            },
            "type": "scatterpolargl"
           }
          ],
          "scatterternary": [
           {
            "marker": {
             "colorbar": {
              "outlinewidth": 0,
              "ticks": ""
             }
            },
            "type": "scatterternary"
           }
          ],
          "surface": [
           {
            "colorbar": {
             "outlinewidth": 0,
             "ticks": ""
            },
            "colorscale": [
             [
              0,
              "#0d0887"
             ],
             [
              0.1111111111111111,
              "#46039f"
             ],
             [
              0.2222222222222222,
              "#7201a8"
             ],
             [
              0.3333333333333333,
              "#9c179e"
             ],
             [
              0.4444444444444444,
              "#bd3786"
             ],
             [
              0.5555555555555556,
              "#d8576b"
             ],
             [
              0.6666666666666666,
              "#ed7953"
             ],
             [
              0.7777777777777778,
              "#fb9f3a"
             ],
             [
              0.8888888888888888,
              "#fdca26"
             ],
             [
              1,
              "#f0f921"
             ]
            ],
            "type": "surface"
           }
          ],
          "table": [
           {
            "cells": {
             "fill": {
              "color": "#EBF0F8"
             },
             "line": {
              "color": "white"
             }
            },
            "header": {
             "fill": {
              "color": "#C8D4E3"
             },
             "line": {
              "color": "white"
             }
            },
            "type": "table"
           }
          ]
         },
         "layout": {
          "annotationdefaults": {
           "arrowcolor": "#2a3f5f",
           "arrowhead": 0,
           "arrowwidth": 1
          },
          "autotypenumbers": "strict",
          "coloraxis": {
           "colorbar": {
            "outlinewidth": 0,
            "ticks": ""
           }
          },
          "colorscale": {
           "diverging": [
            [
             0,
             "#8e0152"
            ],
            [
             0.1,
             "#c51b7d"
            ],
            [
             0.2,
             "#de77ae"
            ],
            [
             0.3,
             "#f1b6da"
            ],
            [
             0.4,
             "#fde0ef"
            ],
            [
             0.5,
             "#f7f7f7"
            ],
            [
             0.6,
             "#e6f5d0"
            ],
            [
             0.7,
             "#b8e186"
            ],
            [
             0.8,
             "#7fbc41"
            ],
            [
             0.9,
             "#4d9221"
            ],
            [
             1,
             "#276419"
            ]
           ],
           "sequential": [
            [
             0,
             "#0d0887"
            ],
            [
             0.1111111111111111,
             "#46039f"
            ],
            [
             0.2222222222222222,
             "#7201a8"
            ],
            [
             0.3333333333333333,
             "#9c179e"
            ],
            [
             0.4444444444444444,
             "#bd3786"
            ],
            [
             0.5555555555555556,
             "#d8576b"
            ],
            [
             0.6666666666666666,
             "#ed7953"
            ],
            [
             0.7777777777777778,
             "#fb9f3a"
            ],
            [
             0.8888888888888888,
             "#fdca26"
            ],
            [
             1,
             "#f0f921"
            ]
           ],
           "sequentialminus": [
            [
             0,
             "#0d0887"
            ],
            [
             0.1111111111111111,
             "#46039f"
            ],
            [
             0.2222222222222222,
             "#7201a8"
            ],
            [
             0.3333333333333333,
             "#9c179e"
            ],
            [
             0.4444444444444444,
             "#bd3786"
            ],
            [
             0.5555555555555556,
             "#d8576b"
            ],
            [
             0.6666666666666666,
             "#ed7953"
            ],
            [
             0.7777777777777778,
             "#fb9f3a"
            ],
            [
             0.8888888888888888,
             "#fdca26"
            ],
            [
             1,
             "#f0f921"
            ]
           ]
          },
          "colorway": [
           "#636efa",
           "#EF553B",
           "#00cc96",
           "#ab63fa",
           "#FFA15A",
           "#19d3f3",
           "#FF6692",
           "#B6E880",
           "#FF97FF",
           "#FECB52"
          ],
          "font": {
           "color": "#2a3f5f"
          },
          "geo": {
           "bgcolor": "white",
           "lakecolor": "white",
           "landcolor": "#E5ECF6",
           "showlakes": true,
           "showland": true,
           "subunitcolor": "white"
          },
          "hoverlabel": {
           "align": "left"
          },
          "hovermode": "closest",
          "mapbox": {
           "style": "light"
          },
          "paper_bgcolor": "white",
          "plot_bgcolor": "#E5ECF6",
          "polar": {
           "angularaxis": {
            "gridcolor": "white",
            "linecolor": "white",
            "ticks": ""
           },
           "bgcolor": "#E5ECF6",
           "radialaxis": {
            "gridcolor": "white",
            "linecolor": "white",
            "ticks": ""
           }
          },
          "scene": {
           "xaxis": {
            "backgroundcolor": "#E5ECF6",
            "gridcolor": "white",
            "gridwidth": 2,
            "linecolor": "white",
            "showbackground": true,
            "ticks": "",
            "zerolinecolor": "white"
           },
           "yaxis": {
            "backgroundcolor": "#E5ECF6",
            "gridcolor": "white",
            "gridwidth": 2,
            "linecolor": "white",
            "showbackground": true,
            "ticks": "",
            "zerolinecolor": "white"
           },
           "zaxis": {
            "backgroundcolor": "#E5ECF6",
            "gridcolor": "white",
            "gridwidth": 2,
            "linecolor": "white",
            "showbackground": true,
            "ticks": "",
            "zerolinecolor": "white"
           }
          },
          "shapedefaults": {
           "line": {
            "color": "#2a3f5f"
           }
          },
          "ternary": {
           "aaxis": {
            "gridcolor": "white",
            "linecolor": "white",
            "ticks": ""
           },
           "baxis": {
            "gridcolor": "white",
            "linecolor": "white",
            "ticks": ""
           },
           "bgcolor": "#E5ECF6",
           "caxis": {
            "gridcolor": "white",
            "linecolor": "white",
            "ticks": ""
           }
          },
          "title": {
           "x": 0.05
          },
          "xaxis": {
           "automargin": true,
           "gridcolor": "white",
           "linecolor": "white",
           "ticks": "",
           "title": {
            "standoff": 15
           },
           "zerolinecolor": "white",
           "zerolinewidth": 2
          },
          "yaxis": {
           "automargin": true,
           "gridcolor": "white",
           "linecolor": "white",
           "ticks": "",
           "title": {
            "standoff": 15
           },
           "zerolinecolor": "white",
           "zerolinewidth": 2
          }
         }
        },
        "title": {
         "text": "Aantal vluchtelingen en terroristische aanslagen in Spanje"
        },
        "xaxis": {
         "categoryarray": [
          2000,
          2001,
          2002,
          2003,
          2004,
          2005,
          2006,
          2007,
          2008,
          2009,
          2010,
          2011,
          2012,
          2013,
          2014,
          2015,
          2016,
          2017
         ],
         "categoryorder": "array",
         "title": {
          "text": "Year"
         },
         "type": "category"
        },
        "yaxis": {
         "range": [
          0,
          20000
         ],
         "side": "left",
         "title": {
          "text": "Vluchtelingen onder UNHCR's mandate"
         }
        },
        "yaxis2": {
         "overlaying": "y",
         "range": [
          0,
          119
         ],
         "side": "right",
         "title": {
          "text": "Terroristische aanslagen"
         }
        }
       }
      },
      "text/html": [
       "<div>                            <div id=\"841920cd-b43a-41a5-8be9-2cfbacdcd956\" class=\"plotly-graph-div\" style=\"height:500px; width:100%;\"></div>            <script type=\"text/javascript\">                require([\"plotly\"], function(Plotly) {                    window.PLOTLYENV=window.PLOTLYENV || {};                                    if (document.getElementById(\"841920cd-b43a-41a5-8be9-2cfbacdcd956\")) {                    Plotly.newPlot(                        \"841920cd-b43a-41a5-8be9-2cfbacdcd956\",                        [{\"marker\":{\"color\":\"rgb(238, 75, 43)\"},\"name\":\"Vluchtelingen\",\"offsetgroup\":\"0\",\"width\":0.4,\"x\":[2000,2001,2002,2003,2004,2005,2006,2007,2008,2009,2010,2011,2012,2013,2014,2015,2016,2017],\"y\":[6982,6804,6783,5912,5690,5369,5269,5143,4649,3960,3814,4220,4502,4641,5797,6447,12983,17541],\"yaxis\":\"y\",\"type\":\"bar\"},{\"hovertext\":[\"Anarchists\",\"Basque Fatherland and Freedom (ETA)\",\"Basque extremists\",\"First of October Antifascist Resistance Group (GRAPO)\",\"Unknown\",\"Youths\",\"Basque Fatherland and Freedom (ETA)\",\"Haika\",\"Unknown\",\"Basque Fatherland and Freedom (ETA)\",\"CCCCC\",\"Neo-Nazi extremists\",\"Unknown\",\"Basque Fatherland and Freedom (ETA)\",\"Unknown\",\"Al-Qaida\",\"Basque Fatherland and Freedom (ETA)\",\"Unknown\",\"Basque Fatherland and Freedom (ETA)\",\"Unknown\",\"Basque Fatherland and Freedom (ETA)\",\"Unknown\",\"Anti-Independence extremists\",\"Basque Fatherland and Freedom (ETA)\",\"Unknown\",\"Basque Fatherland and Freedom (ETA)\",\"Unknown\",\"Basque Fatherland and Freedom (ETA)\",\"Basque Separatists\",\"Unknown\",\"Basque Fatherland and Freedom (ETA)\",\"Unknown\",\"Resistencia Galega\",\"Anti-Clerical Pro-Sex Toys Group\",\"Mateo Morral Insurrectionist Commandos\",\"Resistencia Galega\",\"Basque Separatists\",\"Resistencia Galega\",\"Unknown\",\"Ramiro Ledesma Social Centre\",\"Alde Hemendik Movement\",\"Muslim extremists\",\"Ramiro Ledesma Social Centre\",\"Muslim extremists\",\"Unknown\"],\"marker\":{\"color\":[\"#636EFA\",\"#EF553B\",\"#00CC96\",\"#AB63FA\",\"#FFA15A\",\"#19D3F3\",\"#EF553B\",\"#FF6692\",\"#FFA15A\",\"#EF553B\",\"#B6E880\",\"#FF97FF\",\"#FFA15A\",\"#EF553B\",\"#FFA15A\",\"#FECB52\",\"#EF553B\",\"#FFA15A\",\"#EF553B\",\"#FFA15A\",\"#EF553B\",\"#FFA15A\",\"rgb(129, 133, 137)\",\"#EF553B\",\"#FFA15A\",\"#EF553B\",\"#FFA15A\",\"#EF553B\",\"rgb(129, 133, 137)\",\"#FFA15A\",\"#EF553B\",\"#FFA15A\",\"rgb(129, 133, 137)\",\"rgb(129, 133, 137)\",\"rgb(129, 133, 137)\",\"rgb(129, 133, 137)\",\"rgb(129, 133, 137)\",\"rgb(129, 133, 137)\",\"#FFA15A\",\"rgb(129, 133, 137)\",\"rgb(129, 133, 137)\",\"rgb(129, 133, 137)\",\"rgb(129, 133, 137)\",\"rgb(129, 133, 137)\",\"#FFA15A\"]},\"name\":\"Aanslagen\",\"offsetgroup\":\"1\",\"width\":0.4,\"x\":[2000,2000,2000,2000,2000,2000,2001,2001,2001,2002,2002,2002,2002,2003,2003,2004,2004,2004,2005,2005,2006,2006,2007,2007,2007,2008,2008,2009,2009,2009,2010,2010,2012,2013,2013,2013,2014,2014,2014,2015,2016,2016,2016,2017,2017],\"y\":[2,46,4,14,42,4,36,1,42,28,1,1,11,11,10,6,20,5,19,5,17,6,1,6,4,32,5,14,1,6,1,2,1,2,2,1,1,1,2,1,1,1,1,3,1],\"yaxis\":\"y2\",\"type\":\"bar\"}],                        {\"template\":{\"data\":{\"histogram2dcontour\":[{\"type\":\"histogram2dcontour\",\"colorbar\":{\"outlinewidth\":0,\"ticks\":\"\"},\"colorscale\":[[0.0,\"#0d0887\"],[0.1111111111111111,\"#46039f\"],[0.2222222222222222,\"#7201a8\"],[0.3333333333333333,\"#9c179e\"],[0.4444444444444444,\"#bd3786\"],[0.5555555555555556,\"#d8576b\"],[0.6666666666666666,\"#ed7953\"],[0.7777777777777778,\"#fb9f3a\"],[0.8888888888888888,\"#fdca26\"],[1.0,\"#f0f921\"]]}],\"choropleth\":[{\"type\":\"choropleth\",\"colorbar\":{\"outlinewidth\":0,\"ticks\":\"\"}}],\"histogram2d\":[{\"type\":\"histogram2d\",\"colorbar\":{\"outlinewidth\":0,\"ticks\":\"\"},\"colorscale\":[[0.0,\"#0d0887\"],[0.1111111111111111,\"#46039f\"],[0.2222222222222222,\"#7201a8\"],[0.3333333333333333,\"#9c179e\"],[0.4444444444444444,\"#bd3786\"],[0.5555555555555556,\"#d8576b\"],[0.6666666666666666,\"#ed7953\"],[0.7777777777777778,\"#fb9f3a\"],[0.8888888888888888,\"#fdca26\"],[1.0,\"#f0f921\"]]}],\"heatmap\":[{\"type\":\"heatmap\",\"colorbar\":{\"outlinewidth\":0,\"ticks\":\"\"},\"colorscale\":[[0.0,\"#0d0887\"],[0.1111111111111111,\"#46039f\"],[0.2222222222222222,\"#7201a8\"],[0.3333333333333333,\"#9c179e\"],[0.4444444444444444,\"#bd3786\"],[0.5555555555555556,\"#d8576b\"],[0.6666666666666666,\"#ed7953\"],[0.7777777777777778,\"#fb9f3a\"],[0.8888888888888888,\"#fdca26\"],[1.0,\"#f0f921\"]]}],\"heatmapgl\":[{\"type\":\"heatmapgl\",\"colorbar\":{\"outlinewidth\":0,\"ticks\":\"\"},\"colorscale\":[[0.0,\"#0d0887\"],[0.1111111111111111,\"#46039f\"],[0.2222222222222222,\"#7201a8\"],[0.3333333333333333,\"#9c179e\"],[0.4444444444444444,\"#bd3786\"],[0.5555555555555556,\"#d8576b\"],[0.6666666666666666,\"#ed7953\"],[0.7777777777777778,\"#fb9f3a\"],[0.8888888888888888,\"#fdca26\"],[1.0,\"#f0f921\"]]}],\"contourcarpet\":[{\"type\":\"contourcarpet\",\"colorbar\":{\"outlinewidth\":0,\"ticks\":\"\"}}],\"contour\":[{\"type\":\"contour\",\"colorbar\":{\"outlinewidth\":0,\"ticks\":\"\"},\"colorscale\":[[0.0,\"#0d0887\"],[0.1111111111111111,\"#46039f\"],[0.2222222222222222,\"#7201a8\"],[0.3333333333333333,\"#9c179e\"],[0.4444444444444444,\"#bd3786\"],[0.5555555555555556,\"#d8576b\"],[0.6666666666666666,\"#ed7953\"],[0.7777777777777778,\"#fb9f3a\"],[0.8888888888888888,\"#fdca26\"],[1.0,\"#f0f921\"]]}],\"surface\":[{\"type\":\"surface\",\"colorbar\":{\"outlinewidth\":0,\"ticks\":\"\"},\"colorscale\":[[0.0,\"#0d0887\"],[0.1111111111111111,\"#46039f\"],[0.2222222222222222,\"#7201a8\"],[0.3333333333333333,\"#9c179e\"],[0.4444444444444444,\"#bd3786\"],[0.5555555555555556,\"#d8576b\"],[0.6666666666666666,\"#ed7953\"],[0.7777777777777778,\"#fb9f3a\"],[0.8888888888888888,\"#fdca26\"],[1.0,\"#f0f921\"]]}],\"mesh3d\":[{\"type\":\"mesh3d\",\"colorbar\":{\"outlinewidth\":0,\"ticks\":\"\"}}],\"scatter\":[{\"fillpattern\":{\"fillmode\":\"overlay\",\"size\":10,\"solidity\":0.2},\"type\":\"scatter\"}],\"parcoords\":[{\"type\":\"parcoords\",\"line\":{\"colorbar\":{\"outlinewidth\":0,\"ticks\":\"\"}}}],\"scatterpolargl\":[{\"type\":\"scatterpolargl\",\"marker\":{\"colorbar\":{\"outlinewidth\":0,\"ticks\":\"\"}}}],\"bar\":[{\"error_x\":{\"color\":\"#2a3f5f\"},\"error_y\":{\"color\":\"#2a3f5f\"},\"marker\":{\"line\":{\"color\":\"#E5ECF6\",\"width\":0.5},\"pattern\":{\"fillmode\":\"overlay\",\"size\":10,\"solidity\":0.2}},\"type\":\"bar\"}],\"scattergeo\":[{\"type\":\"scattergeo\",\"marker\":{\"colorbar\":{\"outlinewidth\":0,\"ticks\":\"\"}}}],\"scatterpolar\":[{\"type\":\"scatterpolar\",\"marker\":{\"colorbar\":{\"outlinewidth\":0,\"ticks\":\"\"}}}],\"histogram\":[{\"marker\":{\"pattern\":{\"fillmode\":\"overlay\",\"size\":10,\"solidity\":0.2}},\"type\":\"histogram\"}],\"scattergl\":[{\"type\":\"scattergl\",\"marker\":{\"colorbar\":{\"outlinewidth\":0,\"ticks\":\"\"}}}],\"scatter3d\":[{\"type\":\"scatter3d\",\"line\":{\"colorbar\":{\"outlinewidth\":0,\"ticks\":\"\"}},\"marker\":{\"colorbar\":{\"outlinewidth\":0,\"ticks\":\"\"}}}],\"scattermapbox\":[{\"type\":\"scattermapbox\",\"marker\":{\"colorbar\":{\"outlinewidth\":0,\"ticks\":\"\"}}}],\"scatterternary\":[{\"type\":\"scatterternary\",\"marker\":{\"colorbar\":{\"outlinewidth\":0,\"ticks\":\"\"}}}],\"scattercarpet\":[{\"type\":\"scattercarpet\",\"marker\":{\"colorbar\":{\"outlinewidth\":0,\"ticks\":\"\"}}}],\"carpet\":[{\"aaxis\":{\"endlinecolor\":\"#2a3f5f\",\"gridcolor\":\"white\",\"linecolor\":\"white\",\"minorgridcolor\":\"white\",\"startlinecolor\":\"#2a3f5f\"},\"baxis\":{\"endlinecolor\":\"#2a3f5f\",\"gridcolor\":\"white\",\"linecolor\":\"white\",\"minorgridcolor\":\"white\",\"startlinecolor\":\"#2a3f5f\"},\"type\":\"carpet\"}],\"table\":[{\"cells\":{\"fill\":{\"color\":\"#EBF0F8\"},\"line\":{\"color\":\"white\"}},\"header\":{\"fill\":{\"color\":\"#C8D4E3\"},\"line\":{\"color\":\"white\"}},\"type\":\"table\"}],\"barpolar\":[{\"marker\":{\"line\":{\"color\":\"#E5ECF6\",\"width\":0.5},\"pattern\":{\"fillmode\":\"overlay\",\"size\":10,\"solidity\":0.2}},\"type\":\"barpolar\"}],\"pie\":[{\"automargin\":true,\"type\":\"pie\"}]},\"layout\":{\"autotypenumbers\":\"strict\",\"colorway\":[\"#636efa\",\"#EF553B\",\"#00cc96\",\"#ab63fa\",\"#FFA15A\",\"#19d3f3\",\"#FF6692\",\"#B6E880\",\"#FF97FF\",\"#FECB52\"],\"font\":{\"color\":\"#2a3f5f\"},\"hovermode\":\"closest\",\"hoverlabel\":{\"align\":\"left\"},\"paper_bgcolor\":\"white\",\"plot_bgcolor\":\"#E5ECF6\",\"polar\":{\"bgcolor\":\"#E5ECF6\",\"angularaxis\":{\"gridcolor\":\"white\",\"linecolor\":\"white\",\"ticks\":\"\"},\"radialaxis\":{\"gridcolor\":\"white\",\"linecolor\":\"white\",\"ticks\":\"\"}},\"ternary\":{\"bgcolor\":\"#E5ECF6\",\"aaxis\":{\"gridcolor\":\"white\",\"linecolor\":\"white\",\"ticks\":\"\"},\"baxis\":{\"gridcolor\":\"white\",\"linecolor\":\"white\",\"ticks\":\"\"},\"caxis\":{\"gridcolor\":\"white\",\"linecolor\":\"white\",\"ticks\":\"\"}},\"coloraxis\":{\"colorbar\":{\"outlinewidth\":0,\"ticks\":\"\"}},\"colorscale\":{\"sequential\":[[0.0,\"#0d0887\"],[0.1111111111111111,\"#46039f\"],[0.2222222222222222,\"#7201a8\"],[0.3333333333333333,\"#9c179e\"],[0.4444444444444444,\"#bd3786\"],[0.5555555555555556,\"#d8576b\"],[0.6666666666666666,\"#ed7953\"],[0.7777777777777778,\"#fb9f3a\"],[0.8888888888888888,\"#fdca26\"],[1.0,\"#f0f921\"]],\"sequentialminus\":[[0.0,\"#0d0887\"],[0.1111111111111111,\"#46039f\"],[0.2222222222222222,\"#7201a8\"],[0.3333333333333333,\"#9c179e\"],[0.4444444444444444,\"#bd3786\"],[0.5555555555555556,\"#d8576b\"],[0.6666666666666666,\"#ed7953\"],[0.7777777777777778,\"#fb9f3a\"],[0.8888888888888888,\"#fdca26\"],[1.0,\"#f0f921\"]],\"diverging\":[[0,\"#8e0152\"],[0.1,\"#c51b7d\"],[0.2,\"#de77ae\"],[0.3,\"#f1b6da\"],[0.4,\"#fde0ef\"],[0.5,\"#f7f7f7\"],[0.6,\"#e6f5d0\"],[0.7,\"#b8e186\"],[0.8,\"#7fbc41\"],[0.9,\"#4d9221\"],[1,\"#276419\"]]},\"xaxis\":{\"gridcolor\":\"white\",\"linecolor\":\"white\",\"ticks\":\"\",\"title\":{\"standoff\":15},\"zerolinecolor\":\"white\",\"automargin\":true,\"zerolinewidth\":2},\"yaxis\":{\"gridcolor\":\"white\",\"linecolor\":\"white\",\"ticks\":\"\",\"title\":{\"standoff\":15},\"zerolinecolor\":\"white\",\"automargin\":true,\"zerolinewidth\":2},\"scene\":{\"xaxis\":{\"backgroundcolor\":\"#E5ECF6\",\"gridcolor\":\"white\",\"linecolor\":\"white\",\"showbackground\":true,\"ticks\":\"\",\"zerolinecolor\":\"white\",\"gridwidth\":2},\"yaxis\":{\"backgroundcolor\":\"#E5ECF6\",\"gridcolor\":\"white\",\"linecolor\":\"white\",\"showbackground\":true,\"ticks\":\"\",\"zerolinecolor\":\"white\",\"gridwidth\":2},\"zaxis\":{\"backgroundcolor\":\"#E5ECF6\",\"gridcolor\":\"white\",\"linecolor\":\"white\",\"showbackground\":true,\"ticks\":\"\",\"zerolinecolor\":\"white\",\"gridwidth\":2}},\"shapedefaults\":{\"line\":{\"color\":\"#2a3f5f\"}},\"annotationdefaults\":{\"arrowcolor\":\"#2a3f5f\",\"arrowhead\":0,\"arrowwidth\":1},\"geo\":{\"bgcolor\":\"white\",\"landcolor\":\"#E5ECF6\",\"subunitcolor\":\"white\",\"showland\":true,\"showlakes\":true,\"lakecolor\":\"white\"},\"title\":{\"x\":0.05},\"mapbox\":{\"style\":\"light\"}}},\"xaxis\":{\"type\":\"category\",\"categoryorder\":\"array\",\"categoryarray\":[2000,2001,2002,2003,2004,2005,2006,2007,2008,2009,2010,2011,2012,2013,2014,2015,2016,2017],\"title\":{\"text\":\"Year\"}},\"yaxis\":{\"range\":[0,20000],\"title\":{\"text\":\"Vluchtelingen onder UNHCR's mandate\"},\"side\":\"left\"},\"yaxis2\":{\"range\":[0,119],\"title\":{\"text\":\"Terroristische aanslagen\"},\"overlaying\":\"y\",\"side\":\"right\"},\"title\":{\"text\":\"Aantal vluchtelingen en terroristische aanslagen in Spanje\"},\"height\":500,\"bargap\":0.1,\"plot_bgcolor\":\"rgb(252, 245, 245)\"},                        {\"responsive\": true}                    ).then(function(){\n",
       "                            \n",
       "var gd = document.getElementById('841920cd-b43a-41a5-8be9-2cfbacdcd956');\n",
       "var x = new MutationObserver(function (mutations, observer) {{\n",
       "        var display = window.getComputedStyle(gd).display;\n",
       "        if (!display || display === 'none') {{\n",
       "            console.log([gd, 'removed!']);\n",
       "            Plotly.purge(gd);\n",
       "            observer.disconnect();\n",
       "        }}\n",
       "}});\n",
       "\n",
       "// Listen for the removal of the full notebook cells\n",
       "var notebookContainer = gd.closest('#notebook-container');\n",
       "if (notebookContainer) {{\n",
       "    x.observe(notebookContainer, {childList: true});\n",
       "}}\n",
       "\n",
       "// Listen for the clearing of the current output cell\n",
       "var outputEl = gd.closest('.output');\n",
       "if (outputEl) {{\n",
       "    x.observe(outputEl, {childList: true});\n",
       "}}\n",
       "\n",
       "                        })                };                });            </script>        </div>"
      ]
     },
     "metadata": {},
     "output_type": "display_data"
    }
   ],
   "source": [
    "import plotly.graph_objs as go\n",
    "import plotly.express as px\n",
    "import pandas as pd\n",
    "import geopandas as gpd\n",
    "import matplotlib.pyplot as plt\n",
    "\n",
    "df4 = pd.read_csv('migranten_per_jaar_per_land.csv')\n",
    "df5 = df4[df4.Year.between(2000, 2017)]\n",
    "df10 = df5[df5[\"Country of asylum\"] == 'Spain']\n",
    "\n",
    "df7 = pd.read_csv('aanslagen_per_jaar_per_land_per_groep.csv')\n",
    "df8 = df7[df7.year.between(2000, 2017)]\n",
    "df11 = df8[df8[\"country\"] == 'Spain']\n",
    "\n",
    "groups = df11['group'].unique()\n",
    "\n",
    "color_map = {group: color for group, color in zip(groups, px.colors.qualitative.Plotly)}\n",
    "\n",
    "fig = go.Figure()\n",
    "\n",
    "fig.add_trace(go.Bar(\n",
    "    x=df10['Year'],\n",
    "    y=df10[\"Refugees under UNHCR's mandate\"],\n",
    "    marker_color='rgb(238, 75, 43)',\n",
    "    name=\"Vluchtelingen\",\n",
    "    yaxis='y',\n",
    "    offsetgroup=0,\n",
    "    width=0.4\n",
    "))\n",
    "\n",
    "fig.add_trace(go.Bar(\n",
    "    x=df11['year'],\n",
    "    y=df11['count'],\n",
    "    marker_color=[color_map.get(group, 'rgb(129, 133, 137)') for group in df11['group']],\n",
    "    hovertext=df11['group'],\n",
    "    name='Aanslagen',\n",
    "    yaxis='y2',\n",
    "    offsetgroup=1,\n",
    "    width=0.4\n",
    "))\n",
    "\n",
    "fig.update_layout(\n",
    "    title='Aantal vluchtelingen en terroristische aanslagen in Spanje',\n",
    "    xaxis=dict(type='category', categoryorder='array', categoryarray=df10['Year']),\n",
    "    yaxis=dict(range=[0, 20000], title=\"Vluchtelingen onder UNHCR's mandate\", side='left'),\n",
    "    yaxis2=dict(range=[0, 119], title=\"Terroristische aanslagen\", overlaying='y', side='right'),\n",
    "    xaxis_title='Year',\n",
    "    height=500,\n",
    "    bargap=0.1,\n",
    "    plot_bgcolor='rgb(252, 245, 245)',\n",
    ")\n",
    "\n",
    "fig.show()"
   ]
  },
  {
   "attachments": {},
   "cell_type": "markdown",
   "id": "c3857f81-dcad-489c-a608-3f7f86e6a58e",
   "metadata": {},
   "source": [
    "> *Figuur 5: Er is een stijging te zien in het aantal vluchtelingen in Spanje. De terroristische aanslagen lijken willekeurig plaats te vinden."
   ]
  },
  {
   "attachments": {},
   "cell_type": "markdown",
   "id": "52d494f5",
   "metadata": {},
   "source": [
    "x"
   ]
  },
  {
   "attachments": {},
   "cell_type": "markdown",
   "id": "bf522e30-74ba-4774-a6a0-a94f3d827123",
   "metadata": {},
   "source": [
    "### The Second Argument of Your Second Perspective"
   ]
  },
  {
   "attachments": {},
   "cell_type": "markdown",
   "id": "51f7128d-2dd5-42ff-a178-bd7d6457d749",
   "metadata": {},
   "source": [
    "x"
   ]
  },
  {
   "cell_type": "code",
   "execution_count": 102,
   "id": "e6372635",
   "metadata": {
    "hideCode": true,
    "tags": [
     "hide-input"
    ]
   },
   "outputs": [
    {
     "data": {
      "application/vnd.plotly.v1+json": {
       "config": {
        "plotlyServerURL": "https://plot.ly"
       },
       "data": [
        {
         "marker": {
          "color": "rgb(238, 75, 43)"
         },
         "name": "Vluchtelingen",
         "offsetgroup": "0",
         "type": "bar",
         "width": 0.4,
         "x": [
          2000,
          2001,
          2002,
          2003,
          2004,
          2005,
          2006,
          2007,
          2008,
          2009,
          2010,
          2011,
          2012,
          2013,
          2014,
          2015,
          2016,
          2017
         ],
         "y": [
          57624,
          58471,
          54081,
          50126,
          47654,
          48010,
          48508,
          45642,
          46131,
          46204,
          48813,
          50401,
          50733,
          52448,
          62596,
          73326,
          82668,
          93030
         ],
         "yaxis": "y"
        },
        {
         "hovertext": [
          "Revolutionary Perspective",
          "Unknown",
          "Revolutionary Perspective",
          "Unknown",
          "Unknown",
          "Muslim extremists",
          "Unknown",
          "Informal Anarchist Federation",
          "Revolutionary Perspective",
          "Unknown",
          "Unknown",
          "Unknown"
         ],
         "marker": {
          "color": [
           "#636EFA",
           "#EF553B",
           "#636EFA",
           "#EF553B",
           "#EF553B",
           "#00CC96",
           "#EF553B",
           "#AB63FA",
           "#636EFA",
           "#EF553B",
           "#EF553B",
           "#EF553B"
          ]
         },
         "name": "Aanslagen",
         "offsetgroup": "1",
         "type": "bar",
         "width": 0.4,
         "x": [
          2000,
          2000,
          2001,
          2001,
          2003,
          2007,
          2007,
          2011,
          2011,
          2011,
          2013,
          2016
         ],
         "y": [
          3,
          1,
          1,
          1,
          1,
          1,
          1,
          1,
          1,
          1,
          2,
          1
         ],
         "yaxis": "y2"
        }
       ],
       "layout": {
        "bargap": 0.1,
        "height": 500,
        "plot_bgcolor": "rgb(252, 245, 245)",
        "template": {
         "data": {
          "bar": [
           {
            "error_x": {
             "color": "#2a3f5f"
            },
            "error_y": {
             "color": "#2a3f5f"
            },
            "marker": {
             "line": {
              "color": "#E5ECF6",
              "width": 0.5
             },
             "pattern": {
              "fillmode": "overlay",
              "size": 10,
              "solidity": 0.2
             }
            },
            "type": "bar"
           }
          ],
          "barpolar": [
           {
            "marker": {
             "line": {
              "color": "#E5ECF6",
              "width": 0.5
             },
             "pattern": {
              "fillmode": "overlay",
              "size": 10,
              "solidity": 0.2
             }
            },
            "type": "barpolar"
           }
          ],
          "carpet": [
           {
            "aaxis": {
             "endlinecolor": "#2a3f5f",
             "gridcolor": "white",
             "linecolor": "white",
             "minorgridcolor": "white",
             "startlinecolor": "#2a3f5f"
            },
            "baxis": {
             "endlinecolor": "#2a3f5f",
             "gridcolor": "white",
             "linecolor": "white",
             "minorgridcolor": "white",
             "startlinecolor": "#2a3f5f"
            },
            "type": "carpet"
           }
          ],
          "choropleth": [
           {
            "colorbar": {
             "outlinewidth": 0,
             "ticks": ""
            },
            "type": "choropleth"
           }
          ],
          "contour": [
           {
            "colorbar": {
             "outlinewidth": 0,
             "ticks": ""
            },
            "colorscale": [
             [
              0,
              "#0d0887"
             ],
             [
              0.1111111111111111,
              "#46039f"
             ],
             [
              0.2222222222222222,
              "#7201a8"
             ],
             [
              0.3333333333333333,
              "#9c179e"
             ],
             [
              0.4444444444444444,
              "#bd3786"
             ],
             [
              0.5555555555555556,
              "#d8576b"
             ],
             [
              0.6666666666666666,
              "#ed7953"
             ],
             [
              0.7777777777777778,
              "#fb9f3a"
             ],
             [
              0.8888888888888888,
              "#fdca26"
             ],
             [
              1,
              "#f0f921"
             ]
            ],
            "type": "contour"
           }
          ],
          "contourcarpet": [
           {
            "colorbar": {
             "outlinewidth": 0,
             "ticks": ""
            },
            "type": "contourcarpet"
           }
          ],
          "heatmap": [
           {
            "colorbar": {
             "outlinewidth": 0,
             "ticks": ""
            },
            "colorscale": [
             [
              0,
              "#0d0887"
             ],
             [
              0.1111111111111111,
              "#46039f"
             ],
             [
              0.2222222222222222,
              "#7201a8"
             ],
             [
              0.3333333333333333,
              "#9c179e"
             ],
             [
              0.4444444444444444,
              "#bd3786"
             ],
             [
              0.5555555555555556,
              "#d8576b"
             ],
             [
              0.6666666666666666,
              "#ed7953"
             ],
             [
              0.7777777777777778,
              "#fb9f3a"
             ],
             [
              0.8888888888888888,
              "#fdca26"
             ],
             [
              1,
              "#f0f921"
             ]
            ],
            "type": "heatmap"
           }
          ],
          "heatmapgl": [
           {
            "colorbar": {
             "outlinewidth": 0,
             "ticks": ""
            },
            "colorscale": [
             [
              0,
              "#0d0887"
             ],
             [
              0.1111111111111111,
              "#46039f"
             ],
             [
              0.2222222222222222,
              "#7201a8"
             ],
             [
              0.3333333333333333,
              "#9c179e"
             ],
             [
              0.4444444444444444,
              "#bd3786"
             ],
             [
              0.5555555555555556,
              "#d8576b"
             ],
             [
              0.6666666666666666,
              "#ed7953"
             ],
             [
              0.7777777777777778,
              "#fb9f3a"
             ],
             [
              0.8888888888888888,
              "#fdca26"
             ],
             [
              1,
              "#f0f921"
             ]
            ],
            "type": "heatmapgl"
           }
          ],
          "histogram": [
           {
            "marker": {
             "pattern": {
              "fillmode": "overlay",
              "size": 10,
              "solidity": 0.2
             }
            },
            "type": "histogram"
           }
          ],
          "histogram2d": [
           {
            "colorbar": {
             "outlinewidth": 0,
             "ticks": ""
            },
            "colorscale": [
             [
              0,
              "#0d0887"
             ],
             [
              0.1111111111111111,
              "#46039f"
             ],
             [
              0.2222222222222222,
              "#7201a8"
             ],
             [
              0.3333333333333333,
              "#9c179e"
             ],
             [
              0.4444444444444444,
              "#bd3786"
             ],
             [
              0.5555555555555556,
              "#d8576b"
             ],
             [
              0.6666666666666666,
              "#ed7953"
             ],
             [
              0.7777777777777778,
              "#fb9f3a"
             ],
             [
              0.8888888888888888,
              "#fdca26"
             ],
             [
              1,
              "#f0f921"
             ]
            ],
            "type": "histogram2d"
           }
          ],
          "histogram2dcontour": [
           {
            "colorbar": {
             "outlinewidth": 0,
             "ticks": ""
            },
            "colorscale": [
             [
              0,
              "#0d0887"
             ],
             [
              0.1111111111111111,
              "#46039f"
             ],
             [
              0.2222222222222222,
              "#7201a8"
             ],
             [
              0.3333333333333333,
              "#9c179e"
             ],
             [
              0.4444444444444444,
              "#bd3786"
             ],
             [
              0.5555555555555556,
              "#d8576b"
             ],
             [
              0.6666666666666666,
              "#ed7953"
             ],
             [
              0.7777777777777778,
              "#fb9f3a"
             ],
             [
              0.8888888888888888,
              "#fdca26"
             ],
             [
              1,
              "#f0f921"
             ]
            ],
            "type": "histogram2dcontour"
           }
          ],
          "mesh3d": [
           {
            "colorbar": {
             "outlinewidth": 0,
             "ticks": ""
            },
            "type": "mesh3d"
           }
          ],
          "parcoords": [
           {
            "line": {
             "colorbar": {
              "outlinewidth": 0,
              "ticks": ""
             }
            },
            "type": "parcoords"
           }
          ],
          "pie": [
           {
            "automargin": true,
            "type": "pie"
           }
          ],
          "scatter": [
           {
            "fillpattern": {
             "fillmode": "overlay",
             "size": 10,
             "solidity": 0.2
            },
            "type": "scatter"
           }
          ],
          "scatter3d": [
           {
            "line": {
             "colorbar": {
              "outlinewidth": 0,
              "ticks": ""
             }
            },
            "marker": {
             "colorbar": {
              "outlinewidth": 0,
              "ticks": ""
             }
            },
            "type": "scatter3d"
           }
          ],
          "scattercarpet": [
           {
            "marker": {
             "colorbar": {
              "outlinewidth": 0,
              "ticks": ""
             }
            },
            "type": "scattercarpet"
           }
          ],
          "scattergeo": [
           {
            "marker": {
             "colorbar": {
              "outlinewidth": 0,
              "ticks": ""
             }
            },
            "type": "scattergeo"
           }
          ],
          "scattergl": [
           {
            "marker": {
             "colorbar": {
              "outlinewidth": 0,
              "ticks": ""
             }
            },
            "type": "scattergl"
           }
          ],
          "scattermapbox": [
           {
            "marker": {
             "colorbar": {
              "outlinewidth": 0,
              "ticks": ""
             }
            },
            "type": "scattermapbox"
           }
          ],
          "scatterpolar": [
           {
            "marker": {
             "colorbar": {
              "outlinewidth": 0,
              "ticks": ""
             }
            },
            "type": "scatterpolar"
           }
          ],
          "scatterpolargl": [
           {
            "marker": {
             "colorbar": {
              "outlinewidth": 0,
              "ticks": ""
             }
            },
            "type": "scatterpolargl"
           }
          ],
          "scatterternary": [
           {
            "marker": {
             "colorbar": {
              "outlinewidth": 0,
              "ticks": ""
             }
            },
            "type": "scatterternary"
           }
          ],
          "surface": [
           {
            "colorbar": {
             "outlinewidth": 0,
             "ticks": ""
            },
            "colorscale": [
             [
              0,
              "#0d0887"
             ],
             [
              0.1111111111111111,
              "#46039f"
             ],
             [
              0.2222222222222222,
              "#7201a8"
             ],
             [
              0.3333333333333333,
              "#9c179e"
             ],
             [
              0.4444444444444444,
              "#bd3786"
             ],
             [
              0.5555555555555556,
              "#d8576b"
             ],
             [
              0.6666666666666666,
              "#ed7953"
             ],
             [
              0.7777777777777778,
              "#fb9f3a"
             ],
             [
              0.8888888888888888,
              "#fdca26"
             ],
             [
              1,
              "#f0f921"
             ]
            ],
            "type": "surface"
           }
          ],
          "table": [
           {
            "cells": {
             "fill": {
              "color": "#EBF0F8"
             },
             "line": {
              "color": "white"
             }
            },
            "header": {
             "fill": {
              "color": "#C8D4E3"
             },
             "line": {
              "color": "white"
             }
            },
            "type": "table"
           }
          ]
         },
         "layout": {
          "annotationdefaults": {
           "arrowcolor": "#2a3f5f",
           "arrowhead": 0,
           "arrowwidth": 1
          },
          "autotypenumbers": "strict",
          "coloraxis": {
           "colorbar": {
            "outlinewidth": 0,
            "ticks": ""
           }
          },
          "colorscale": {
           "diverging": [
            [
             0,
             "#8e0152"
            ],
            [
             0.1,
             "#c51b7d"
            ],
            [
             0.2,
             "#de77ae"
            ],
            [
             0.3,
             "#f1b6da"
            ],
            [
             0.4,
             "#fde0ef"
            ],
            [
             0.5,
             "#f7f7f7"
            ],
            [
             0.6,
             "#e6f5d0"
            ],
            [
             0.7,
             "#b8e186"
            ],
            [
             0.8,
             "#7fbc41"
            ],
            [
             0.9,
             "#4d9221"
            ],
            [
             1,
             "#276419"
            ]
           ],
           "sequential": [
            [
             0,
             "#0d0887"
            ],
            [
             0.1111111111111111,
             "#46039f"
            ],
            [
             0.2222222222222222,
             "#7201a8"
            ],
            [
             0.3333333333333333,
             "#9c179e"
            ],
            [
             0.4444444444444444,
             "#bd3786"
            ],
            [
             0.5555555555555556,
             "#d8576b"
            ],
            [
             0.6666666666666666,
             "#ed7953"
            ],
            [
             0.7777777777777778,
             "#fb9f3a"
            ],
            [
             0.8888888888888888,
             "#fdca26"
            ],
            [
             1,
             "#f0f921"
            ]
           ],
           "sequentialminus": [
            [
             0,
             "#0d0887"
            ],
            [
             0.1111111111111111,
             "#46039f"
            ],
            [
             0.2222222222222222,
             "#7201a8"
            ],
            [
             0.3333333333333333,
             "#9c179e"
            ],
            [
             0.4444444444444444,
             "#bd3786"
            ],
            [
             0.5555555555555556,
             "#d8576b"
            ],
            [
             0.6666666666666666,
             "#ed7953"
            ],
            [
             0.7777777777777778,
             "#fb9f3a"
            ],
            [
             0.8888888888888888,
             "#fdca26"
            ],
            [
             1,
             "#f0f921"
            ]
           ]
          },
          "colorway": [
           "#636efa",
           "#EF553B",
           "#00cc96",
           "#ab63fa",
           "#FFA15A",
           "#19d3f3",
           "#FF6692",
           "#B6E880",
           "#FF97FF",
           "#FECB52"
          ],
          "font": {
           "color": "#2a3f5f"
          },
          "geo": {
           "bgcolor": "white",
           "lakecolor": "white",
           "landcolor": "#E5ECF6",
           "showlakes": true,
           "showland": true,
           "subunitcolor": "white"
          },
          "hoverlabel": {
           "align": "left"
          },
          "hovermode": "closest",
          "mapbox": {
           "style": "light"
          },
          "paper_bgcolor": "white",
          "plot_bgcolor": "#E5ECF6",
          "polar": {
           "angularaxis": {
            "gridcolor": "white",
            "linecolor": "white",
            "ticks": ""
           },
           "bgcolor": "#E5ECF6",
           "radialaxis": {
            "gridcolor": "white",
            "linecolor": "white",
            "ticks": ""
           }
          },
          "scene": {
           "xaxis": {
            "backgroundcolor": "#E5ECF6",
            "gridcolor": "white",
            "gridwidth": 2,
            "linecolor": "white",
            "showbackground": true,
            "ticks": "",
            "zerolinecolor": "white"
           },
           "yaxis": {
            "backgroundcolor": "#E5ECF6",
            "gridcolor": "white",
            "gridwidth": 2,
            "linecolor": "white",
            "showbackground": true,
            "ticks": "",
            "zerolinecolor": "white"
           },
           "zaxis": {
            "backgroundcolor": "#E5ECF6",
            "gridcolor": "white",
            "gridwidth": 2,
            "linecolor": "white",
            "showbackground": true,
            "ticks": "",
            "zerolinecolor": "white"
           }
          },
          "shapedefaults": {
           "line": {
            "color": "#2a3f5f"
           }
          },
          "ternary": {
           "aaxis": {
            "gridcolor": "white",
            "linecolor": "white",
            "ticks": ""
           },
           "baxis": {
            "gridcolor": "white",
            "linecolor": "white",
            "ticks": ""
           },
           "bgcolor": "#E5ECF6",
           "caxis": {
            "gridcolor": "white",
            "linecolor": "white",
            "ticks": ""
           }
          },
          "title": {
           "x": 0.05
          },
          "xaxis": {
           "automargin": true,
           "gridcolor": "white",
           "linecolor": "white",
           "ticks": "",
           "title": {
            "standoff": 15
           },
           "zerolinecolor": "white",
           "zerolinewidth": 2
          },
          "yaxis": {
           "automargin": true,
           "gridcolor": "white",
           "linecolor": "white",
           "ticks": "",
           "title": {
            "standoff": 15
           },
           "zerolinecolor": "white",
           "zerolinewidth": 2
          }
         }
        },
        "title": {
         "text": "Aantal vluchtelingen en terroristische aanslagen in Zwitserland"
        },
        "xaxis": {
         "categoryarray": [
          2000,
          2001,
          2002,
          2003,
          2004,
          2005,
          2006,
          2007,
          2008,
          2009,
          2010,
          2011,
          2012,
          2013,
          2014,
          2015,
          2016,
          2017
         ],
         "categoryorder": "array",
         "title": {
          "text": "Year"
         },
         "type": "category"
        },
        "yaxis": {
         "range": [
          0,
          100000
         ],
         "side": "left",
         "title": {
          "text": "Vluchtelingen onder UNHCR's mandate"
         }
        },
        "yaxis2": {
         "overlaying": "y",
         "range": [
          0,
          10
         ],
         "side": "right",
         "title": {
          "text": "Terroristische aanslagen"
         }
        }
       }
      },
      "text/html": [
       "<div>                            <div id=\"d8b9d451-b6d7-4e0f-9b52-511d39e4ef12\" class=\"plotly-graph-div\" style=\"height:500px; width:100%;\"></div>            <script type=\"text/javascript\">                require([\"plotly\"], function(Plotly) {                    window.PLOTLYENV=window.PLOTLYENV || {};                                    if (document.getElementById(\"d8b9d451-b6d7-4e0f-9b52-511d39e4ef12\")) {                    Plotly.newPlot(                        \"d8b9d451-b6d7-4e0f-9b52-511d39e4ef12\",                        [{\"marker\":{\"color\":\"rgb(238, 75, 43)\"},\"name\":\"Vluchtelingen\",\"offsetgroup\":\"0\",\"width\":0.4,\"x\":[2000,2001,2002,2003,2004,2005,2006,2007,2008,2009,2010,2011,2012,2013,2014,2015,2016,2017],\"y\":[57624,58471,54081,50126,47654,48010,48508,45642,46131,46204,48813,50401,50733,52448,62596,73326,82668,93030],\"yaxis\":\"y\",\"type\":\"bar\"},{\"hovertext\":[\"Revolutionary Perspective\",\"Unknown\",\"Revolutionary Perspective\",\"Unknown\",\"Unknown\",\"Muslim extremists\",\"Unknown\",\"Informal Anarchist Federation\",\"Revolutionary Perspective\",\"Unknown\",\"Unknown\",\"Unknown\"],\"marker\":{\"color\":[\"#636EFA\",\"#EF553B\",\"#636EFA\",\"#EF553B\",\"#EF553B\",\"#00CC96\",\"#EF553B\",\"#AB63FA\",\"#636EFA\",\"#EF553B\",\"#EF553B\",\"#EF553B\"]},\"name\":\"Aanslagen\",\"offsetgroup\":\"1\",\"width\":0.4,\"x\":[2000,2000,2001,2001,2003,2007,2007,2011,2011,2011,2013,2016],\"y\":[3,1,1,1,1,1,1,1,1,1,2,1],\"yaxis\":\"y2\",\"type\":\"bar\"}],                        {\"template\":{\"data\":{\"histogram2dcontour\":[{\"type\":\"histogram2dcontour\",\"colorbar\":{\"outlinewidth\":0,\"ticks\":\"\"},\"colorscale\":[[0.0,\"#0d0887\"],[0.1111111111111111,\"#46039f\"],[0.2222222222222222,\"#7201a8\"],[0.3333333333333333,\"#9c179e\"],[0.4444444444444444,\"#bd3786\"],[0.5555555555555556,\"#d8576b\"],[0.6666666666666666,\"#ed7953\"],[0.7777777777777778,\"#fb9f3a\"],[0.8888888888888888,\"#fdca26\"],[1.0,\"#f0f921\"]]}],\"choropleth\":[{\"type\":\"choropleth\",\"colorbar\":{\"outlinewidth\":0,\"ticks\":\"\"}}],\"histogram2d\":[{\"type\":\"histogram2d\",\"colorbar\":{\"outlinewidth\":0,\"ticks\":\"\"},\"colorscale\":[[0.0,\"#0d0887\"],[0.1111111111111111,\"#46039f\"],[0.2222222222222222,\"#7201a8\"],[0.3333333333333333,\"#9c179e\"],[0.4444444444444444,\"#bd3786\"],[0.5555555555555556,\"#d8576b\"],[0.6666666666666666,\"#ed7953\"],[0.7777777777777778,\"#fb9f3a\"],[0.8888888888888888,\"#fdca26\"],[1.0,\"#f0f921\"]]}],\"heatmap\":[{\"type\":\"heatmap\",\"colorbar\":{\"outlinewidth\":0,\"ticks\":\"\"},\"colorscale\":[[0.0,\"#0d0887\"],[0.1111111111111111,\"#46039f\"],[0.2222222222222222,\"#7201a8\"],[0.3333333333333333,\"#9c179e\"],[0.4444444444444444,\"#bd3786\"],[0.5555555555555556,\"#d8576b\"],[0.6666666666666666,\"#ed7953\"],[0.7777777777777778,\"#fb9f3a\"],[0.8888888888888888,\"#fdca26\"],[1.0,\"#f0f921\"]]}],\"heatmapgl\":[{\"type\":\"heatmapgl\",\"colorbar\":{\"outlinewidth\":0,\"ticks\":\"\"},\"colorscale\":[[0.0,\"#0d0887\"],[0.1111111111111111,\"#46039f\"],[0.2222222222222222,\"#7201a8\"],[0.3333333333333333,\"#9c179e\"],[0.4444444444444444,\"#bd3786\"],[0.5555555555555556,\"#d8576b\"],[0.6666666666666666,\"#ed7953\"],[0.7777777777777778,\"#fb9f3a\"],[0.8888888888888888,\"#fdca26\"],[1.0,\"#f0f921\"]]}],\"contourcarpet\":[{\"type\":\"contourcarpet\",\"colorbar\":{\"outlinewidth\":0,\"ticks\":\"\"}}],\"contour\":[{\"type\":\"contour\",\"colorbar\":{\"outlinewidth\":0,\"ticks\":\"\"},\"colorscale\":[[0.0,\"#0d0887\"],[0.1111111111111111,\"#46039f\"],[0.2222222222222222,\"#7201a8\"],[0.3333333333333333,\"#9c179e\"],[0.4444444444444444,\"#bd3786\"],[0.5555555555555556,\"#d8576b\"],[0.6666666666666666,\"#ed7953\"],[0.7777777777777778,\"#fb9f3a\"],[0.8888888888888888,\"#fdca26\"],[1.0,\"#f0f921\"]]}],\"surface\":[{\"type\":\"surface\",\"colorbar\":{\"outlinewidth\":0,\"ticks\":\"\"},\"colorscale\":[[0.0,\"#0d0887\"],[0.1111111111111111,\"#46039f\"],[0.2222222222222222,\"#7201a8\"],[0.3333333333333333,\"#9c179e\"],[0.4444444444444444,\"#bd3786\"],[0.5555555555555556,\"#d8576b\"],[0.6666666666666666,\"#ed7953\"],[0.7777777777777778,\"#fb9f3a\"],[0.8888888888888888,\"#fdca26\"],[1.0,\"#f0f921\"]]}],\"mesh3d\":[{\"type\":\"mesh3d\",\"colorbar\":{\"outlinewidth\":0,\"ticks\":\"\"}}],\"scatter\":[{\"fillpattern\":{\"fillmode\":\"overlay\",\"size\":10,\"solidity\":0.2},\"type\":\"scatter\"}],\"parcoords\":[{\"type\":\"parcoords\",\"line\":{\"colorbar\":{\"outlinewidth\":0,\"ticks\":\"\"}}}],\"scatterpolargl\":[{\"type\":\"scatterpolargl\",\"marker\":{\"colorbar\":{\"outlinewidth\":0,\"ticks\":\"\"}}}],\"bar\":[{\"error_x\":{\"color\":\"#2a3f5f\"},\"error_y\":{\"color\":\"#2a3f5f\"},\"marker\":{\"line\":{\"color\":\"#E5ECF6\",\"width\":0.5},\"pattern\":{\"fillmode\":\"overlay\",\"size\":10,\"solidity\":0.2}},\"type\":\"bar\"}],\"scattergeo\":[{\"type\":\"scattergeo\",\"marker\":{\"colorbar\":{\"outlinewidth\":0,\"ticks\":\"\"}}}],\"scatterpolar\":[{\"type\":\"scatterpolar\",\"marker\":{\"colorbar\":{\"outlinewidth\":0,\"ticks\":\"\"}}}],\"histogram\":[{\"marker\":{\"pattern\":{\"fillmode\":\"overlay\",\"size\":10,\"solidity\":0.2}},\"type\":\"histogram\"}],\"scattergl\":[{\"type\":\"scattergl\",\"marker\":{\"colorbar\":{\"outlinewidth\":0,\"ticks\":\"\"}}}],\"scatter3d\":[{\"type\":\"scatter3d\",\"line\":{\"colorbar\":{\"outlinewidth\":0,\"ticks\":\"\"}},\"marker\":{\"colorbar\":{\"outlinewidth\":0,\"ticks\":\"\"}}}],\"scattermapbox\":[{\"type\":\"scattermapbox\",\"marker\":{\"colorbar\":{\"outlinewidth\":0,\"ticks\":\"\"}}}],\"scatterternary\":[{\"type\":\"scatterternary\",\"marker\":{\"colorbar\":{\"outlinewidth\":0,\"ticks\":\"\"}}}],\"scattercarpet\":[{\"type\":\"scattercarpet\",\"marker\":{\"colorbar\":{\"outlinewidth\":0,\"ticks\":\"\"}}}],\"carpet\":[{\"aaxis\":{\"endlinecolor\":\"#2a3f5f\",\"gridcolor\":\"white\",\"linecolor\":\"white\",\"minorgridcolor\":\"white\",\"startlinecolor\":\"#2a3f5f\"},\"baxis\":{\"endlinecolor\":\"#2a3f5f\",\"gridcolor\":\"white\",\"linecolor\":\"white\",\"minorgridcolor\":\"white\",\"startlinecolor\":\"#2a3f5f\"},\"type\":\"carpet\"}],\"table\":[{\"cells\":{\"fill\":{\"color\":\"#EBF0F8\"},\"line\":{\"color\":\"white\"}},\"header\":{\"fill\":{\"color\":\"#C8D4E3\"},\"line\":{\"color\":\"white\"}},\"type\":\"table\"}],\"barpolar\":[{\"marker\":{\"line\":{\"color\":\"#E5ECF6\",\"width\":0.5},\"pattern\":{\"fillmode\":\"overlay\",\"size\":10,\"solidity\":0.2}},\"type\":\"barpolar\"}],\"pie\":[{\"automargin\":true,\"type\":\"pie\"}]},\"layout\":{\"autotypenumbers\":\"strict\",\"colorway\":[\"#636efa\",\"#EF553B\",\"#00cc96\",\"#ab63fa\",\"#FFA15A\",\"#19d3f3\",\"#FF6692\",\"#B6E880\",\"#FF97FF\",\"#FECB52\"],\"font\":{\"color\":\"#2a3f5f\"},\"hovermode\":\"closest\",\"hoverlabel\":{\"align\":\"left\"},\"paper_bgcolor\":\"white\",\"plot_bgcolor\":\"#E5ECF6\",\"polar\":{\"bgcolor\":\"#E5ECF6\",\"angularaxis\":{\"gridcolor\":\"white\",\"linecolor\":\"white\",\"ticks\":\"\"},\"radialaxis\":{\"gridcolor\":\"white\",\"linecolor\":\"white\",\"ticks\":\"\"}},\"ternary\":{\"bgcolor\":\"#E5ECF6\",\"aaxis\":{\"gridcolor\":\"white\",\"linecolor\":\"white\",\"ticks\":\"\"},\"baxis\":{\"gridcolor\":\"white\",\"linecolor\":\"white\",\"ticks\":\"\"},\"caxis\":{\"gridcolor\":\"white\",\"linecolor\":\"white\",\"ticks\":\"\"}},\"coloraxis\":{\"colorbar\":{\"outlinewidth\":0,\"ticks\":\"\"}},\"colorscale\":{\"sequential\":[[0.0,\"#0d0887\"],[0.1111111111111111,\"#46039f\"],[0.2222222222222222,\"#7201a8\"],[0.3333333333333333,\"#9c179e\"],[0.4444444444444444,\"#bd3786\"],[0.5555555555555556,\"#d8576b\"],[0.6666666666666666,\"#ed7953\"],[0.7777777777777778,\"#fb9f3a\"],[0.8888888888888888,\"#fdca26\"],[1.0,\"#f0f921\"]],\"sequentialminus\":[[0.0,\"#0d0887\"],[0.1111111111111111,\"#46039f\"],[0.2222222222222222,\"#7201a8\"],[0.3333333333333333,\"#9c179e\"],[0.4444444444444444,\"#bd3786\"],[0.5555555555555556,\"#d8576b\"],[0.6666666666666666,\"#ed7953\"],[0.7777777777777778,\"#fb9f3a\"],[0.8888888888888888,\"#fdca26\"],[1.0,\"#f0f921\"]],\"diverging\":[[0,\"#8e0152\"],[0.1,\"#c51b7d\"],[0.2,\"#de77ae\"],[0.3,\"#f1b6da\"],[0.4,\"#fde0ef\"],[0.5,\"#f7f7f7\"],[0.6,\"#e6f5d0\"],[0.7,\"#b8e186\"],[0.8,\"#7fbc41\"],[0.9,\"#4d9221\"],[1,\"#276419\"]]},\"xaxis\":{\"gridcolor\":\"white\",\"linecolor\":\"white\",\"ticks\":\"\",\"title\":{\"standoff\":15},\"zerolinecolor\":\"white\",\"automargin\":true,\"zerolinewidth\":2},\"yaxis\":{\"gridcolor\":\"white\",\"linecolor\":\"white\",\"ticks\":\"\",\"title\":{\"standoff\":15},\"zerolinecolor\":\"white\",\"automargin\":true,\"zerolinewidth\":2},\"scene\":{\"xaxis\":{\"backgroundcolor\":\"#E5ECF6\",\"gridcolor\":\"white\",\"linecolor\":\"white\",\"showbackground\":true,\"ticks\":\"\",\"zerolinecolor\":\"white\",\"gridwidth\":2},\"yaxis\":{\"backgroundcolor\":\"#E5ECF6\",\"gridcolor\":\"white\",\"linecolor\":\"white\",\"showbackground\":true,\"ticks\":\"\",\"zerolinecolor\":\"white\",\"gridwidth\":2},\"zaxis\":{\"backgroundcolor\":\"#E5ECF6\",\"gridcolor\":\"white\",\"linecolor\":\"white\",\"showbackground\":true,\"ticks\":\"\",\"zerolinecolor\":\"white\",\"gridwidth\":2}},\"shapedefaults\":{\"line\":{\"color\":\"#2a3f5f\"}},\"annotationdefaults\":{\"arrowcolor\":\"#2a3f5f\",\"arrowhead\":0,\"arrowwidth\":1},\"geo\":{\"bgcolor\":\"white\",\"landcolor\":\"#E5ECF6\",\"subunitcolor\":\"white\",\"showland\":true,\"showlakes\":true,\"lakecolor\":\"white\"},\"title\":{\"x\":0.05},\"mapbox\":{\"style\":\"light\"}}},\"xaxis\":{\"type\":\"category\",\"categoryorder\":\"array\",\"categoryarray\":[2000,2001,2002,2003,2004,2005,2006,2007,2008,2009,2010,2011,2012,2013,2014,2015,2016,2017],\"title\":{\"text\":\"Year\"}},\"yaxis\":{\"range\":[0,100000],\"title\":{\"text\":\"Vluchtelingen onder UNHCR's mandate\"},\"side\":\"left\"},\"yaxis2\":{\"range\":[0,10],\"title\":{\"text\":\"Terroristische aanslagen\"},\"overlaying\":\"y\",\"side\":\"right\"},\"title\":{\"text\":\"Aantal vluchtelingen en terroristische aanslagen in Zwitserland\"},\"height\":500,\"bargap\":0.1,\"plot_bgcolor\":\"rgb(252, 245, 245)\"},                        {\"responsive\": true}                    ).then(function(){\n",
       "                            \n",
       "var gd = document.getElementById('d8b9d451-b6d7-4e0f-9b52-511d39e4ef12');\n",
       "var x = new MutationObserver(function (mutations, observer) {{\n",
       "        var display = window.getComputedStyle(gd).display;\n",
       "        if (!display || display === 'none') {{\n",
       "            console.log([gd, 'removed!']);\n",
       "            Plotly.purge(gd);\n",
       "            observer.disconnect();\n",
       "        }}\n",
       "}});\n",
       "\n",
       "// Listen for the removal of the full notebook cells\n",
       "var notebookContainer = gd.closest('#notebook-container');\n",
       "if (notebookContainer) {{\n",
       "    x.observe(notebookContainer, {childList: true});\n",
       "}}\n",
       "\n",
       "// Listen for the clearing of the current output cell\n",
       "var outputEl = gd.closest('.output');\n",
       "if (outputEl) {{\n",
       "    x.observe(outputEl, {childList: true});\n",
       "}}\n",
       "\n",
       "                        })                };                });            </script>        </div>"
      ]
     },
     "metadata": {},
     "output_type": "display_data"
    }
   ],
   "source": [
    "import plotly.graph_objs as go\n",
    "import plotly.express as px\n",
    "import pandas as pd\n",
    "import geopandas as gpd\n",
    "import matplotlib.pyplot as plt\n",
    "\n",
    "df4 = pd.read_csv('migranten_per_jaar_per_land.csv')\n",
    "df5 = df4[df4.Year.between(2000, 2017)]\n",
    "df10 = df5[df5[\"Country of asylum\"] == 'Switzerland']\n",
    "\n",
    "df7 = pd.read_csv('aanslagen_per_jaar_per_land_per_groep.csv')\n",
    "df8 = df7[df7.year.between(2000, 2017)]\n",
    "df11 = df8[df8[\"country\"] == 'Switzerland']\n",
    "\n",
    "groups = df11['group'].unique()\n",
    "\n",
    "color_map = {group: color for group, color in zip(groups, px.colors.qualitative.Plotly)}\n",
    "\n",
    "fig = go.Figure()\n",
    "\n",
    "fig.add_trace(go.Bar(\n",
    "    x=df10['Year'],\n",
    "    y=df10[\"Refugees under UNHCR's mandate\"],\n",
    "    marker_color='rgb(238, 75, 43)',\n",
    "    name=\"Vluchtelingen\",\n",
    "    yaxis='y',\n",
    "    offsetgroup=0,\n",
    "    width=0.4\n",
    "))\n",
    "\n",
    "fig.add_trace(go.Bar(\n",
    "    x=df11['year'],\n",
    "    y=df11['count'],\n",
    "    marker_color=[color_map.get(group, 'rgb(129, 133, 137)') for group in df11['group']],\n",
    "    hovertext=df11['group'],\n",
    "    name='Aanslagen',\n",
    "    yaxis='y2',\n",
    "    offsetgroup=1,\n",
    "    width=0.4\n",
    "))\n",
    "\n",
    "fig.update_layout(\n",
    "    title='Aantal vluchtelingen en terroristische aanslagen in Zwitserland',\n",
    "    xaxis=dict(type='category', categoryorder='array', categoryarray=df10['Year']),\n",
    "    yaxis=dict(range=[0, 100000], title=\"Vluchtelingen onder UNHCR's mandate\", side='left'),\n",
    "    yaxis2=dict(range=[0, 10], title=\"Terroristische aanslagen\", overlaying='y', side='right'),\n",
    "    xaxis_title='Year',\n",
    "    height=500,\n",
    "    bargap=0.1,\n",
    "    plot_bgcolor='rgb(252, 245, 245)',\n",
    ")\n",
    "\n",
    "fig.show()"
   ]
  },
  {
   "attachments": {},
   "cell_type": "markdown",
   "id": "84271e8b-3cdf-4cad-b78e-f536ff980cba",
   "metadata": {},
   "source": [
    "> *Figuur 6: Terwijl er een stijging te zien is in het aantal vluchtelingen in Zwitserland, is er juist een daling te zien bij het aantal terroristische aanslagen in Zwitserland. "
   ]
  },
  {
   "attachments": {},
   "cell_type": "markdown",
   "id": "921df77f",
   "metadata": {},
   "source": [
    "## Reflectie \n",
    "\n",
    "x"
   ]
  },
  {
   "attachments": {},
   "cell_type": "markdown",
   "id": "8799e8f6",
   "metadata": {},
   "source": [
    "## Werk verdeling "
   ]
  },
  {
   "attachments": {},
   "cell_type": "markdown",
   "id": "8a61224c",
   "metadata": {},
   "source": [
    "## Referenties \n",
    "x\n",
    "x\n",
    "x"
   ]
  },
  {
   "attachments": {},
   "cell_type": "markdown",
   "id": "f377761c-1ed5-440a-8c20-eaf6ab7c67bb",
   "metadata": {},
   "source": [
    "## Appendix\n",
    "\n",
    "Generative AI (ChatGPT with GPT 3.5) is used to facilitate the creation of this document, as shown in the table below.\n",
    "\n",
    "| Reasons of Usage | In which parts? | Which prompts were used? |\n",
    "| ------------------------ | --------------------------------- | -------------------------------------------- |\n",
    "| Brainstorm research questions and identify keywords for further search | The entire project framing | \"Give keywords about the current debate in climate change with brief explanations\" |\n",
    "| Improve writing clarity and enhance readability | All sections | \"Edit the following text to make it more clear. Do not alter the meaning.\" |\n",
    "| Enhance readability | All sections | \"Revise the paragraph to improve readability.\" |\n",
    "| Ensure grammatical accuracy |  All sections | \"Correct any grammatical errors in the text.\" |\n",
    "| Provide alternative phrasing | Descriptions of the perspectives | \"Suggest alternative phrases for better clarity.\" |\n",
    "| Optimize sentence structure | All sections | \"Restructure the sentence for better flow.\" |\n",
    "| Condense lengthy sentences | All sections | \"Simplify the following sentences without losing important information.\"|\n",
    "\n",
    "> *Table 1: Usage of generative AI to facilitate the creation of this document.*"
   ]
  }
 ],
 "metadata": {
  "celltoolbar": "Hide code",
  "kernelspec": {
   "display_name": "Python 3 (ipykernel)",
   "language": "python",
   "name": "python3"
  },
  "language_info": {
   "codemirror_mode": {
    "name": "ipython",
    "version": 3
   },
   "file_extension": ".py",
   "mimetype": "text/x-python",
   "name": "python",
   "nbconvert_exporter": "python",
   "pygments_lexer": "ipython3",
   "version": "3.9.16"
  },
  "vscode": {
   "interpreter": {
    "hash": "aee8b7b246df8f9039afb4144a1f6fd8d2ca17a180786b69acc140d282b71a49"
   }
  }
 },
 "nbformat": 4,
 "nbformat_minor": 5
}